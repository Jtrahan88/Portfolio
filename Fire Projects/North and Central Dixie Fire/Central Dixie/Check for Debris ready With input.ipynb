{
 "cells": [
  {
   "cell_type": "code",
   "execution_count": 1,
   "id": "c1d38dbb",
   "metadata": {},
   "outputs": [],
   "source": [
    "import pandas as pd\n",
    "import numpy as np"
   ]
  },
  {
   "cell_type": "code",
   "execution_count": 2,
   "id": "6f651136",
   "metadata": {},
   "outputs": [],
   "source": [
    "df1 = pd.read_excel('../Central Branch  trackers/Central Division 2021 Debris Removal Tracker.xlsx')"
   ]
  },
  {
   "cell_type": "markdown",
   "id": "e6896779",
   "metadata": {},
   "source": [
    "# Ready for Debris Removal Check"
   ]
  },
  {
   "cell_type": "code",
   "execution_count": 3,
   "id": "7011ed3b",
   "metadata": {},
   "outputs": [],
   "source": [
    "def ready(test): \n",
    "    test = test[test['Structural Status'].isin(['No Asbestos Detected', 'Site Assessment Complete',\n",
    "                                                'ROE Received', 'Asbestos Abatement Complete'])].copy()\n",
    "\n",
    "\n",
    "    test.drop(test[(test['ROE Verified'] != 'ROE Verified') | # not verified\n",
    "\n",
    "                   (test['ROE Type'] != 'Full Program ROE (debris + trees)') | # Does not have debris\n",
    "\n",
    "                   (test['Phase 1 Complete'] != 'Yes') | # phase 1 not complete\n",
    "\n",
    "                   (test['USFS Parcel?'].notnull()) | # USFS is not N/A or blank python picks this up as blank  \n",
    "\n",
    "                   (test['Withdrawal'].notnull()) | # has a withdrawl date\n",
    "\n",
    "                   (test['Not Eligible'].notnull()) | # has a not eligible date\n",
    "\n",
    "                  (test['Hold']== True) | # hold is checked for true\n",
    "\n",
    "                   (test['Site Assessment'].isnull()) | # SA does not have a date\n",
    "\n",
    "                   (test['RAD_MERC Sweep'].isnull()) | # Rad Merc has no date\n",
    "\n",
    "                   (test['Arch Assessment'].isnull()) | # Arch does not have a date\n",
    "\n",
    "                   (test['Bio Assessment'].isnull()) | # BIO does not have a date\n",
    "\n",
    "                  ((test['Chimney'] == 'Yes') & (test['Chimney Tipped'].isnull())) | # has a chimney but no tip date\n",
    "\n",
    "                  ((test['ASB Suspected'] == 'Yes') & (test['ASB Results'].isnull())) | # has Suspect ASB and no A\n",
    "\n",
    "                  ((test['ASB Results'] == 'POSITIVE') & (test['ASB Abatement'].isnull()))| # POS for ASB but no Abate date\n",
    "\n",
    "                   ((test['ASB Abatement'].notnull()) & (test['CAC Clearance'].isnull()))| # CAC not cleared\n",
    "\n",
    "                  (test['Debris Crew'] == 'Ready for Soil Sampling') | # Debris clean up finished\n",
    "\n",
    "                   (test['Debris Crew'] == 'Pending Soil Sampling Results') | # Soil being done\n",
    "\n",
    "                  ((test['NESHAP Walls'] == 'Yes') & (test['NESHAP Notification'].isnull())) # NESHAP is yes but no notification\n",
    "\n",
    "                  ].index, inplace=True)\n",
    "    \n",
    "    # columns set up\n",
    "    test = test[['APN_ROW Segment', 'Street #', 'Street Name','Debris Crew',\n",
    "                                 'ROE Type', 'ROE Verified','Structural Status',\n",
    "                                 'Withdrawal','Not Eligible','Reason for Ineligibility','Determinant for Ineligibility',\n",
    "                                 'Hold', 'Hold Reason',\n",
    "                                 'USFS Parcel?','Phase 1 Complete',\n",
    "                                 'Site Assessment', 'RAD_MERC Sweep', 'RAD_MERC Detected',\n",
    "                                 'Chimney','Chimney Tipped','NESHAP Walls', 'NESHAP Notification',\n",
    "                                 'ASB Suspected','ASB Results','ASB Abatement','CAC Clearance',\n",
    "                                 'Arch Assessment','Arch Monitor Needed',\n",
    "                                 'Bio Assessment','Bio Monitor Needed']].set_index('APN_ROW Segment')\n",
    "    \n",
    "    \n",
    "    return test.to_excel('Ready for Debris Removal-Draft-func.xlsx')"
   ]
  },
  {
   "cell_type": "markdown",
   "id": "8c94fd59",
   "metadata": {},
   "source": [
    "# Not Ready for Debris removal check"
   ]
  },
  {
   "cell_type": "code",
   "execution_count": 4,
   "id": "af29fb6d",
   "metadata": {},
   "outputs": [],
   "source": [
    "def notReady(test):\n",
    "    test.drop(test[~((test['ROE Verified'] != 'ROE Verified') | # not verified\n",
    "\n",
    "                       (test['ROE Type'] != 'Full Program ROE (debris + trees)') | # Does not have debris\n",
    "\n",
    "                       (test['Phase 1 Complete'] != 'Yes') | # phase 1 not complete\n",
    "\n",
    "                       (test['USFS Parcel?'].notnull()) | # USFS is not N/A or blank python picks this up as blank  \n",
    "\n",
    "                       (test['Withdrawal'].notnull()) | # has a withdrawl date\n",
    "\n",
    "                       (test['Not Eligible'].notnull()) | # has a not eligible date\n",
    "\n",
    "                      (test['Hold']== True) | # hold is checked for true\n",
    "\n",
    "                       (test['Site Assessment'].isnull()) | # SA does not have a date\n",
    "\n",
    "                       (test['RAD_MERC Sweep'].isnull()) | # Rad Merc has no date\n",
    "\n",
    "                       (test['Arch Assessment'].isnull()) | # Arch does not have a date\n",
    "\n",
    "                       (test['Bio Assessment'].isnull()) | # BIO does not have a date\n",
    "\n",
    "                      ((test['Chimney'] == 'Yes') & (test['Chimney Tipped'].isnull())) | # has a chimney but no tip date\n",
    "\n",
    "                      ((test['ASB Suspected'] == 'Yes') & (test['ASB Results'].isnull())) | # has Suspect ASB and no A\n",
    "\n",
    "                      ((test['ASB Results'] == 'POSITIVE') & (test['ASB Abatement'].isnull()))| # POS for ASB but no Abate date\n",
    "\n",
    "                       ((test['ASB Abatement'].notnull()) & (test['CAC Clearance'].isnull()))| # CAC not cleared\n",
    "\n",
    "                      (test['Debris Crew'] == 'Ready for Soil Sampling') | # Debris clean up finished\n",
    "\n",
    "                       (test['Debris Crew'] == 'Pending Soil Sampling Results') | # Soil being done\n",
    "\n",
    "                      ((test['NESHAP Walls'] == 'Yes') & (test['NESHAP Notification'].isnull()))) # NESHAP is yes but no notification\n",
    "\n",
    "                      ].index, inplace=True)\n",
    "    # columns set up\n",
    "    test = test[['APN_ROW Segment', 'Street #', 'Street Name','Debris Crew',\n",
    "                                 'ROE Type', 'ROE Verified','Structural Status',\n",
    "                                 'Withdrawal','Not Eligible','Reason for Ineligibility','Determinant for Ineligibility',\n",
    "                                 'Hold', 'Hold Reason',\n",
    "                                 'USFS Parcel?','Phase 1 Complete',\n",
    "                                 'Site Assessment', 'RAD_MERC Sweep', 'RAD_MERC Detected',\n",
    "                                 'Chimney','Chimney Tipped','NESHAP Walls', 'NESHAP Notification',\n",
    "                                 'ASB Suspected','ASB Results','ASB Abatement','CAC Clearance',\n",
    "                                 'Arch Assessment','Arch Monitor Needed',\n",
    "                                 'Bio Assessment','Bio Monitor Needed']].set_index('APN_ROW Segment')\n",
    "    \n",
    "    return test.to_excel('Not Ready for Debris Removal-Draft-func.xlsx')\n",
    "    "
   ]
  },
  {
   "cell_type": "code",
   "execution_count": 5,
   "id": "5b982fc7",
   "metadata": {},
   "outputs": [
    {
     "name": "stdout",
     "output_type": "stream",
     "text": [
      "Type in \"Ready\" for ready debris properties or \"Not Ready\" for properties not readyready\n"
     ]
    }
   ],
   "source": [
    "central_dixie_ss = df1.copy()\n",
    "\n",
    "central_dixie_ss = central_dixie_ss[['APN_ROW Segment', 'Street #', 'Street Name',\n",
    "                             'ROE Type', 'Structural Status',\n",
    "                             'Withdrawal','Not Eligible','Reason for Ineligibility','Determinant for Ineligibility',\n",
    "                             'Hold', 'Hold Reason',\n",
    "                             'USFS Parcel?','Phase 1 Complete',\n",
    "                             'Site Assessment', 'RAD_MERC Sweep', 'RAD_MERC Detected',\n",
    "                             'Chimney','Chimney Tipped','NESHAP Walls', 'NESHAP Notification',\n",
    "                             'ASB Suspected','ASB Results','ASB Abatement','CAC Clearance',\n",
    "                             'Arch Assessment','Arch Monitor Needed','Bio Assessment','Bio Monitor Needed',\n",
    "                             'ROE Verified', 'Debris Crew']]\n",
    "\n",
    "test = central_dixie_ss.copy(deep=True)\n",
    "\n",
    "    \n",
    "    \n",
    "    \n",
    "    \n",
    "while True:    \n",
    "    user = input('Type in \"Ready\" for ready debris properties or \"Not Ready\" for properties not ready').lower()\n",
    "    try:\n",
    "        if user == 'ready':\n",
    "            ready(test)\n",
    "            break\n",
    "        elif user == 'not ready':\n",
    "            notReady(test)\n",
    "            break\n",
    "        else:\n",
    "            print(\"\\nINVAILED INPUT:\\n Only 'Ready' or 'Not Ready' allowed\")\n",
    "    except ValueError:\n",
    "        print(\"\\ninvaild input Only 'Ready' or 'Not Ready' allowed\")\n",
    "    "
   ]
  },
  {
   "cell_type": "code",
   "execution_count": null,
   "id": "218d8bdd",
   "metadata": {},
   "outputs": [],
   "source": []
  }
 ],
 "metadata": {
  "kernelspec": {
   "display_name": "Python 3",
   "language": "python",
   "name": "python3"
  },
  "language_info": {
   "codemirror_mode": {
    "name": "ipython",
    "version": 3
   },
   "file_extension": ".py",
   "mimetype": "text/x-python",
   "name": "python",
   "nbconvert_exporter": "python",
   "pygments_lexer": "ipython3",
   "version": "3.9.4"
  }
 },
 "nbformat": 4,
 "nbformat_minor": 5
}
