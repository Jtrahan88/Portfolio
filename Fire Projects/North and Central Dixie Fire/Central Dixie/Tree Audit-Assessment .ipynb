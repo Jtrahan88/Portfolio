{
 "cells": [
  {
   "cell_type": "markdown",
   "id": "5ea32d75",
   "metadata": {},
   "source": [
    "# Tree Audit\n",
    "### outputs\n",
    "* Tree Audit"
   ]
  },
  {
   "cell_type": "code",
   "execution_count": 1,
   "id": "3d6a5fd9",
   "metadata": {},
   "outputs": [],
   "source": [
    "import pandas as pd\n",
    "import os\n",
    "import glob\n",
    "import numpy as np"
   ]
  },
  {
   "cell_type": "code",
   "execution_count": 2,
   "id": "42ae2e72",
   "metadata": {},
   "outputs": [],
   "source": [
    "path1 = r\"C:\\Users\\jacque.trahan\\Downloads\\Central Division 2021 Debris Removal Tracker\"\n",
    "file_type1 = \".xlsx\"\n",
    "loadit1 = glob.glob(path1 + file_type1)\n",
    "df1 = pd.read_excel(max(loadit1, key=os.path.getctime))"
   ]
  },
  {
   "cell_type": "code",
   "execution_count": 3,
   "id": "b062e5cb",
   "metadata": {},
   "outputs": [
    {
     "name": "stdout",
     "output_type": "stream",
     "text": [
      "<class 'pandas.core.frame.DataFrame'>\n",
      "RangeIndex: 825 entries, 0 to 824\n",
      "Data columns (total 138 columns):\n",
      " #    Column                                              Dtype         \n",
      "---   ------                                              -----         \n",
      " 0    APN_ROW Segment                                     object        \n",
      " 1    ROE Type                                            object        \n",
      " 2    Structural Status                                   object        \n",
      " 3    Haz Tree Status                                     object        \n",
      " 4    Debris Crew                                         object        \n",
      " 5    Tree Crew                                           float64       \n",
      " 6    Street #                                            object        \n",
      " 7    Street Name                                         object        \n",
      " 8    Unit #                                              object        \n",
      " 9    City                                                object        \n",
      " 10   County                                              object        \n",
      " 11   Group                                               float64       \n",
      " 12   Property Type                                       object        \n",
      " 13   Priority                                            object        \n",
      " 14   Elevation                                           float64       \n",
      " 15   Withdrawal                                          float64       \n",
      " 16   Not Eligible                                        float64       \n",
      " 17   Reason for Ineligibility                            float64       \n",
      " 18   Determinant for Ineligibility                       float64       \n",
      " 19   Hold                                                float64       \n",
      " 20   Hold Reason                                         object        \n",
      " 21   Safety Concern Property                             float64       \n",
      " 22   USFS Parcel?                                        float64       \n",
      " 23   Special Inclusion                                   float64       \n",
      " 24   Gate Locked?                                        float64       \n",
      " 25   Code_Key Location                                   object        \n",
      " 26   Access Issues                                       float64       \n",
      " 27   Access Issues Type                                  object        \n",
      " 28   Phase 1 Complete                                    object        \n",
      " 29   Needs Milk Run or Phase 1 Revisit                   object        \n",
      " 30   811 Called (A&M)                                    float64       \n",
      " 31   Site Assessment                                     datetime64[ns]\n",
      " 32   RAD_MERC Sweep                                      datetime64[ns]\n",
      " 33   RAD_MERC Detected                                   float64       \n",
      " 34   Chimney                                             object        \n",
      " 35   Chimney Inaccessible for ASB                        float64       \n",
      " 36   Chimney Tipped                                      datetime64[ns]\n",
      " 37   NESHAP Walls                                        object        \n",
      " 38   NESHAP Notification                                 float64       \n",
      " 39   In Ground Pool                                      object        \n",
      " 40   Large Propane Tank                                  object        \n",
      " 41   Well                                                object        \n",
      " 42   Septic                                              object        \n",
      " 43   Solar_Wind Power                                    object        \n",
      " 44   Structural Walls                                    object        \n",
      " 45   Need Contractor Assist for ASB                      float64       \n",
      " 46   Vehicle(s)                                          float64       \n",
      " 47   Number of Passenger Vehicles                        float64       \n",
      " 48   Number of ATV_UTV_snowmobiles                       float64       \n",
      " 49   Number of Ag_Commercial_Construction Equipment      float64       \n",
      " 50   Number of Motorcycles                               float64       \n",
      " 51   Number of RV's                                      float64       \n",
      " 52   Number of Trailers                                  float64       \n",
      " 53   Number of Vessels (Boat_Jetski)                     float64       \n",
      " 54   Total Number of Vehicles                            int64         \n",
      " 55   Vehicles Description                                float64       \n",
      " 56   Number of Vehicles Removed                          float64       \n",
      " 57   ASB Assessment                                      datetime64[ns]\n",
      " 58   ASB Suspected                                       object        \n",
      " 59   ASB Sample Sent                                     datetime64[ns]\n",
      " 60   ASB Results Received                                datetime64[ns]\n",
      " 61   ASB Results                                         object        \n",
      " 62   ASB Abatement                                       datetime64[ns]\n",
      " 63   CAC Clearance                                       datetime64[ns]\n",
      " 64   Bio Assessment                                      datetime64[ns]\n",
      " 65   Bio Monitor Needed                                  object        \n",
      " 66   Arch Assessment                                     datetime64[ns]\n",
      " 67   Arch Monitor Needed                                 object        \n",
      " 68   Tribal Consultation Required?                       object        \n",
      " 69   WLPZ Zone?                                          object        \n",
      " 70   In lieu practices?                                  float64       \n",
      " 71   OES EHP Attention Required                          object        \n",
      " 72   OES EHP Site Visit                                  datetime64[ns]\n",
      " 73   OES EHP Notes                                       float64       \n",
      " 74   Water crossing/bridge needed?                       float64       \n",
      " 75   Water crossing/bridge install                       float64       \n",
      " 76   Water crossing/bridge removal                       float64       \n",
      " 77   Permit(s) Needed                                    float64       \n",
      " 78   Permit(s) Received                                  float64       \n",
      " 79   811 Called (DDHTR)                                  float64       \n",
      " 80   Ready for Debris Removal                            datetime64[ns]\n",
      " 81   Property Owner Contact for Debris                   datetime64[ns]\n",
      " 82   Property Owner Contact for Trees                    datetime64[ns]\n",
      " 83   Contact Notes                                       object        \n",
      " 84   If Unable to Contact, Attempted # of Contacts       float64       \n",
      " 85   If Unable to Contact, Who Approved to Move Forward  object        \n",
      " 86   Scheduled for Debris Removal                        datetime64[ns]\n",
      " 87   Debris Start                                        datetime64[ns]\n",
      " 88   Debris Finish                                       datetime64[ns]\n",
      " 89   State Rep Sign-Off for DR                           datetime64[ns]\n",
      " 90   Damage Caused during DR                             float64       \n",
      " 91   Explanation of Damage during DR                     float64       \n",
      " 92   Soil Sample                                         datetime64[ns]\n",
      " 93   Soil Sample Results Rec'd from Lab                  datetime64[ns]\n",
      " 94   Soil Sample Results                                 object        \n",
      " 95   Soil Boring                                         float64       \n",
      " 96   Soil Boring Results Rec'd from Lab                  float64       \n",
      " 97   Soil Boring Results                                 float64       \n",
      " 98   Soil Re-scrape                                      float64       \n",
      " 99   Re-scrape Results Rec'd from Lab                    float64       \n",
      " 100  Re-scrape Results                                   float64       \n",
      " 101  Soil Re-scrape 2                                    float64       \n",
      " 102  Re-scrape 2 Results Rec'd from Lab                  float64       \n",
      " 103  Re-scrape 2 Results                                 float64       \n",
      " 104  Soil Rescrape 3                                     float64       \n",
      " 105  Re-scrape 3 Results Rec'd from Lab                  float64       \n",
      " 106  Re-scrape 3 Results                                 float64       \n",
      " 107  Soil Samples Approved                               datetime64[ns]\n",
      " 108  Haz Trees Assessment                                datetime64[ns]\n",
      " 109  Haz Trees Present?                                  object        \n",
      " 110  Number of Trees                                     float64       \n",
      " 111  Tree Felling Start                                  float64       \n",
      " 112  Tree Felling Complete                               float64       \n",
      " 113  Tree Removal Start                                  float64       \n",
      " 114  Tree Removal Complete                               float64       \n",
      " 115  Number of Hazard Trees Felled                       float64       \n",
      " 116  Erosion Control Complete                            float64       \n",
      " 117  Erosion Control Waiver                              float64       \n",
      " 118  Trees Completion Check                              float64       \n",
      " 119  Debris FSO Complete                                 float64       \n",
      " 120  FSO Complete                                        object        \n",
      " 121  FSO Sent to County                                  float64       \n",
      " 122  Owner Name                                          object        \n",
      " 123  Owner Phone                                         object        \n",
      " 124  Owner Email                                         object        \n",
      " 125  ROE Notes                                           object        \n",
      " 126  Special Notes                                       object        \n",
      " 127  Latitude                                            float64       \n",
      " 128  Longitude                                           float64       \n",
      " 129  Fire Name                                           object        \n",
      " 130  Declaration                                         object        \n",
      " 131  Parcel Zoning Type                                  object        \n",
      " 132  Insurance                                           object        \n",
      " 133  ROE Date                                            datetime64[ns]\n",
      " 134  ROE Verified                                        object        \n",
      " 135  Division                                            object        \n",
      " 136  Modified Date                                       datetime64[ns]\n",
      " 137  Duplicate                                           float64       \n",
      "dtypes: datetime64[ns](24), float64(65), int64(1), object(48)\n",
      "memory usage: 889.6+ KB\n"
     ]
    }
   ],
   "source": [
    "df1.info(verbose=True)"
   ]
  },
  {
   "cell_type": "code",
   "execution_count": 4,
   "id": "80e6a348",
   "metadata": {},
   "outputs": [],
   "source": [
    "smartsheets = df1.copy()\n",
    "smartsheets = smartsheets[['APN_ROW Segment', 'Street #', 'Street Name', 'Structural Status','County',\n",
    "                           'Haz Trees Assessment', 'Number of Trees']]"
   ]
  },
  {
   "cell_type": "markdown",
   "id": "098d7982",
   "metadata": {},
   "source": [
    "# Agustin Emails"
   ]
  },
  {
   "cell_type": "code",
   "execution_count": 5,
   "id": "4bbb37d2",
   "metadata": {},
   "outputs": [],
   "source": [
    "path2 = r\"C:\\Users\\jacque.trahan\\Downloads\\2021-12-17_Central Property Summary_CalRecycle Dixie Fire*\"\n",
    "file_type2 = \".xlsx\"\n",
    "loadit2 = glob.glob(path2 + file_type2)\n",
    "df2 = pd.read_excel(max(loadit2, key=os.path.getctime), sheet_name=1)"
   ]
  },
  {
   "cell_type": "code",
   "execution_count": 6,
   "id": "bc7872dd",
   "metadata": {},
   "outputs": [],
   "source": [
    "# df2.info(verbose=True)"
   ]
  },
  {
   "cell_type": "code",
   "execution_count": 7,
   "id": "642e8283",
   "metadata": {},
   "outputs": [],
   "source": [
    "Agustin = df2.copy()\n",
    "Agustin = Agustin[['APN', 'Tree Survey Date', 'Number of Trees']]"
   ]
  },
  {
   "cell_type": "markdown",
   "id": "4f9d020f",
   "metadata": {},
   "source": [
    "# Merge"
   ]
  },
  {
   "cell_type": "code",
   "execution_count": 8,
   "id": "92c725bb",
   "metadata": {},
   "outputs": [],
   "source": [
    "final = smartsheets.merge(Agustin,\n",
    "                         left_on=\"APN_ROW Segment\",\n",
    "                         right_on=\"APN\",\n",
    "                         how=\"outer\",\n",
    "                         suffixes=(\"_SmartSheets\", \"_Agustin\"))"
   ]
  },
  {
   "cell_type": "code",
   "execution_count": 9,
   "id": "9377eedc",
   "metadata": {},
   "outputs": [],
   "source": [
    "def compare(final, comp1, comp2):\n",
    "    if final[comp1] == final[comp2]:\n",
    "        return 1\n",
    "    else:\n",
    "        return 0"
   ]
  },
  {
   "cell_type": "code",
   "execution_count": 10,
   "id": "56e7e3a1",
   "metadata": {},
   "outputs": [],
   "source": [
    "final = final[['APN_ROW Segment', 'APN', 'Street #', 'Street Name','Structural Status', 'County',\n",
    "          'Haz Trees Assessment', 'Tree Survey Date',\n",
    "          'Number of Trees_SmartSheets', 'Number of Trees_Agustin']]"
   ]
  },
  {
   "cell_type": "code",
   "execution_count": 11,
   "id": "22fb783f",
   "metadata": {},
   "outputs": [],
   "source": [
    "final = final.copy()\n",
    "final[\"Haz Trees Assessment\"] = pd.to_datetime(final[\"Haz Trees Assessment\"]).dt.date.fillna(0)\n",
    "final[\"Tree Survey Date\"] = pd.to_datetime(final[\"Tree Survey Date\"]).dt.date.fillna(0)"
   ]
  },
  {
   "cell_type": "code",
   "execution_count": 12,
   "id": "97d11a6e",
   "metadata": {
    "scrolled": true
   },
   "outputs": [],
   "source": [
    "final.fillna({'Number of Trees_SmartSheets':0,\n",
    "             'Number of Trees_Agustin':0}, inplace=True)"
   ]
  },
  {
   "cell_type": "code",
   "execution_count": 13,
   "id": "d210a286",
   "metadata": {},
   "outputs": [],
   "source": [
    "final.insert(final.columns.get_loc('Tree Survey Date')+1, 'Date_Match',\n",
    "            final.apply(compare, comp1='Haz Trees Assessment', comp2='Tree Survey Date', axis=1))"
   ]
  },
  {
   "cell_type": "code",
   "execution_count": 14,
   "id": "a1effde9",
   "metadata": {},
   "outputs": [],
   "source": [
    "final.insert(final.columns.get_loc('Number of Trees_Agustin')+1, 'Number match',\n",
    "            final.apply(compare, comp1='Number of Trees_SmartSheets', comp2='Number of Trees_Agustin', axis=1))"
   ]
  },
  {
   "cell_type": "code",
   "execution_count": 15,
   "id": "3acaf43a",
   "metadata": {},
   "outputs": [],
   "source": [
    "final_style = final.style.set_properties(**{'background-color': 'yellow'},\n",
    "                                        subset=['Date_Match', 'Number match'])"
   ]
  },
  {
   "cell_type": "code",
   "execution_count": 16,
   "id": "23d34518",
   "metadata": {},
   "outputs": [],
   "source": [
    "final_style.to_excel(\"Agustin email checks.xlsx\")"
   ]
  },
  {
   "cell_type": "code",
   "execution_count": null,
   "id": "cb3d5e8b",
   "metadata": {},
   "outputs": [],
   "source": []
  }
 ],
 "metadata": {
  "kernelspec": {
   "display_name": "Python 3",
   "language": "python",
   "name": "python3"
  },
  "language_info": {
   "codemirror_mode": {
    "name": "ipython",
    "version": 3
   },
   "file_extension": ".py",
   "mimetype": "text/x-python",
   "name": "python",
   "nbconvert_exporter": "python",
   "pygments_lexer": "ipython3",
   "version": "3.9.4"
  }
 },
 "nbformat": 4,
 "nbformat_minor": 5
}
