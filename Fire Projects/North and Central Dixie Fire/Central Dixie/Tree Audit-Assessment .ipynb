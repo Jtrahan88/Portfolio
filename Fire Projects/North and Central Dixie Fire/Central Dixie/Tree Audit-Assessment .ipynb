{
 "cells": [
  {
   "cell_type": "markdown",
   "id": "5ea32d75",
   "metadata": {},
   "source": [
    "# Tree Audit\n",
    "### outputs\n",
    "* Tree Audit"
   ]
  },
  {
   "cell_type": "code",
   "execution_count": 1,
   "id": "3d6a5fd9",
   "metadata": {},
   "outputs": [],
   "source": [
    "import pandas as pd\n",
    "import os\n",
    "import glob\n",
    "import numpy as np"
   ]
  },
  {
   "cell_type": "code",
   "execution_count": 2,
   "id": "42ae2e72",
   "metadata": {},
   "outputs": [],
   "source": [
    "path1 = r\"C:\\Users\\jacque.trahan\\Downloads\\Central Division 2021 Debris Removal Tracker\"\n",
    "file_type1 = \".xlsx\"\n",
    "loadit1 = glob.glob(path1 + file_type1)\n",
    "df1 = pd.read_excel(max(loadit1, key=os.path.getctime))"
   ]
  },
  {
   "cell_type": "code",
   "execution_count": 1,
   "id": "b062e5cb",
   "metadata": {},
   "outputs": [],
   "source": [
    "# df1.info(verbose=True)"
   ]
  },
  {
   "cell_type": "code",
   "execution_count": 4,
   "id": "80e6a348",
   "metadata": {},
   "outputs": [],
   "source": [
    "smartsheets = df1.copy()\n",
    "smartsheets = smartsheets[['APN_ROW Segment', 'Street #', 'Street Name', 'Structural Status','County',\n",
    "                           'Haz Trees Assessment', 'Number of Trees']]"
   ]
  },
  {
   "cell_type": "markdown",
   "id": "098d7982",
   "metadata": {},
   "source": [
    "# Agustin Emails"
   ]
  },
  {
   "cell_type": "code",
   "execution_count": 5,
   "id": "4bbb37d2",
   "metadata": {},
   "outputs": [],
   "source": [
    "path2 = r\"C:\\Users\\jacque.trahan\\Downloads\\2021-12-17_Central Property Summary_CalRecycle Dixie Fire*\"\n",
    "file_type2 = \".xlsx\"\n",
    "loadit2 = glob.glob(path2 + file_type2)\n",
    "df2 = pd.read_excel(max(loadit2, key=os.path.getctime), sheet_name=1)"
   ]
  },
  {
   "cell_type": "code",
   "execution_count": 6,
   "id": "bc7872dd",
   "metadata": {},
   "outputs": [],
   "source": [
    "# df2.info(verbose=True)"
   ]
  },
  {
   "cell_type": "code",
   "execution_count": 7,
   "id": "642e8283",
   "metadata": {},
   "outputs": [],
   "source": [
    "Agustin = df2.copy()\n",
    "Agustin = Agustin[['APN', 'Tree Survey Date', 'Number of Trees']]"
   ]
  },
  {
   "cell_type": "markdown",
   "id": "4f9d020f",
   "metadata": {},
   "source": [
    "# Merge"
   ]
  },
  {
   "cell_type": "code",
   "execution_count": 8,
   "id": "92c725bb",
   "metadata": {},
   "outputs": [],
   "source": [
    "final = smartsheets.merge(Agustin,\n",
    "                         left_on=\"APN_ROW Segment\",\n",
    "                         right_on=\"APN\",\n",
    "                         how=\"outer\",\n",
    "                         suffixes=(\"_SmartSheets\", \"_Agustin\"))"
   ]
  },
  {
   "cell_type": "code",
   "execution_count": 9,
   "id": "9377eedc",
   "metadata": {},
   "outputs": [],
   "source": [
    "def compare(final, comp1, comp2):\n",
    "    if final[comp1] == final[comp2]:\n",
    "        return 1\n",
    "    else:\n",
    "        return 0"
   ]
  },
  {
   "cell_type": "code",
   "execution_count": 10,
   "id": "56e7e3a1",
   "metadata": {},
   "outputs": [],
   "source": [
    "final = final[['APN_ROW Segment', 'APN', 'Street #', 'Street Name','Structural Status', 'County',\n",
    "          'Haz Trees Assessment', 'Tree Survey Date',\n",
    "          'Number of Trees_SmartSheets', 'Number of Trees_Agustin']]"
   ]
  },
  {
   "cell_type": "code",
   "execution_count": 11,
   "id": "22fb783f",
   "metadata": {},
   "outputs": [],
   "source": [
    "final = final.copy()\n",
    "final[\"Haz Trees Assessment\"] = pd.to_datetime(final[\"Haz Trees Assessment\"]).dt.date.fillna(0)\n",
    "final[\"Tree Survey Date\"] = pd.to_datetime(final[\"Tree Survey Date\"]).dt.date.fillna(0)"
   ]
  },
  {
   "cell_type": "code",
   "execution_count": 12,
   "id": "97d11a6e",
   "metadata": {
    "scrolled": true
   },
   "outputs": [],
   "source": [
    "final.fillna({'Number of Trees_SmartSheets':0,\n",
    "             'Number of Trees_Agustin':0}, inplace=True)"
   ]
  },
  {
   "cell_type": "code",
   "execution_count": 13,
   "id": "d210a286",
   "metadata": {},
   "outputs": [],
   "source": [
    "final.insert(final.columns.get_loc('Tree Survey Date')+1, 'Date_Match',\n",
    "            final.apply(compare, comp1='Haz Trees Assessment', comp2='Tree Survey Date', axis=1))"
   ]
  },
  {
   "cell_type": "code",
   "execution_count": 14,
   "id": "a1effde9",
   "metadata": {},
   "outputs": [],
   "source": [
    "final.insert(final.columns.get_loc('Number of Trees_Agustin')+1, 'Number match',\n",
    "            final.apply(compare, comp1='Number of Trees_SmartSheets', comp2='Number of Trees_Agustin', axis=1))"
   ]
  },
  {
   "cell_type": "code",
   "execution_count": 15,
   "id": "3acaf43a",
   "metadata": {},
   "outputs": [],
   "source": [
    "final_style = final.style.set_properties(**{'background-color': 'yellow'},\n",
    "                                        subset=['Date_Match', 'Number match'])"
   ]
  },
  {
   "cell_type": "code",
   "execution_count": 16,
   "id": "23d34518",
   "metadata": {},
   "outputs": [],
   "source": [
    "final_style.to_excel(\"Agustin email checks.xlsx\")"
   ]
  }
 ],
 "metadata": {
  "kernelspec": {
   "display_name": "Python 3",
   "language": "python",
   "name": "python3"
  },
  "language_info": {
   "codemirror_mode": {
    "name": "ipython",
    "version": 3
   },
   "file_extension": ".py",
   "mimetype": "text/x-python",
   "name": "python",
   "nbconvert_exporter": "python",
   "pygments_lexer": "ipython3",
   "version": "3.9.4"
  }
 },
 "nbformat": 4,
 "nbformat_minor": 5
}
