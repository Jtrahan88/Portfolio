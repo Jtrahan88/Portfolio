{
 "cells": [
  {
   "cell_type": "code",
   "execution_count": 1,
   "id": "23940443",
   "metadata": {},
   "outputs": [],
   "source": [
    "import pandas as pd\n",
    "import os\n",
    "import glob\n",
    "import numpy as np\n",
    "import smartsheet\n",
    "\n",
    "#Variables\n",
    "# random\n",
    "excel = '.xlsx'\n",
    "csv = '.csv'\n",
    "\n",
    "# smartsheets Shet IDs\n",
    "Central_id = '1844440261257092'\n",
    "South_id= '6292262490531716'\n",
    "\n",
    "# Central's API\n",
    "Central = smartsheet.Smartsheet('6jJFxnAfFsDErU0BSr1Ae4D6cHq0zenczVR12') #API\n",
    "\n",
    "Central.errors_as_exceptions(True)\n",
    "\n",
    "# Central's API\n",
    "South = smartsheet.Smartsheet(\"H8mqAo60J2zGHSrJEwmlMoY88A9yjgCo6RnSI\") # API\n",
    "South.errors_as_exceptions(True)\n",
    "\n",
    "#download smartsheets to any folder you need\n",
    "# Central.Sheets.get_sheet_as_excel(Central_id, download_path=r\"C:\\Users\\jacque.trahan\\Downloads\")\n",
    "# South.Sheets.get_sheet_as_excel(South_id, download_path=r\"C:\\Users\\jacque.trahan\\Downloads\") \n",
    "\n",
    "\n",
    "#Google Sheets\n",
    "#Sheet ID comes right after /d/ in the URL\n",
    "Google_sheet_ID= '1O2dmdhEo5hJVAgRVDl4M4n3_v-KqHS56q3OZVdpZANU'\n",
    "# name of tab you want to use\n",
    "Google_sheets_name = 'Tree RTR Tracker'\n",
    "\n",
    "# this is tricky. after /export? we must put format=csv#id={Sheet Name}   -> manually to make this work\n",
    "url = f'https://docs.google.com/spreadsheets/d/{Google_sheet_ID}/export?format=csv#id={Google_sheets_name}'\n",
    "\n",
    "# Function to read in column titles and row vales and make out data frames\n",
    "def smartsheet_loadup(sheet):\n",
    "    columns = [col.title for col in sheet.columns]\n",
    "    rows = []\n",
    "    for row in sheet.rows:\n",
    "        cells = []\n",
    "        for cell in row.cells:\n",
    "            cells.append(cell.value)\n",
    "        rows.append(cells)\n",
    "    df = pd.DataFrame(rows, columns=columns)\n",
    "    return df\n",
    "\n",
    "Central_SS = smartsheet_loadup(Central.Sheets.get_sheet(Central_id))\n",
    "South_SS = smartsheet_loadup(South.Sheets.get_sheet(South_id))\n",
    "\n",
    "df_both = pd.concat([Central_SS,South_SS])"
   ]
  },
  {
   "cell_type": "code",
   "execution_count": 2,
   "id": "63313f02",
   "metadata": {},
   "outputs": [],
   "source": [
    "#states DTSC tracker\n",
    "path = r\"C:\\Users\\jacque.trahan\\Downloads\\Fires2021_ParcelLayer_v2_InternalView*\"\n",
    "file_type = '.xlsx'\n",
    "loadup = glob.glob(path + file_type)\n",
    "df = pd.read_excel(max(loadup, key=os.path.getctime), sheet_name=1)"
   ]
  },
  {
   "cell_type": "code",
   "execution_count": 3,
   "id": "b2c850be",
   "metadata": {
    "scrolled": true
   },
   "outputs": [],
   "source": [
    "# df[df['County'].isin(['NEVADA'])].to_excel('')"
   ]
  },
  {
   "cell_type": "markdown",
   "id": "d1bdc0ae",
   "metadata": {},
   "source": [
    "# Navada"
   ]
  },
  {
   "cell_type": "code",
   "execution_count": 4,
   "id": "e42f8100",
   "metadata": {},
   "outputs": [],
   "source": [
    "navada = df[(df['County'].isin(['NEVADA'])) & (df['Parcel Status:'].isin(['Assessed', 'Deferred to Phase 2',\n",
    "                                                                             'Identified', 'Assessed Return Needed']))]"
   ]
  },
  {
   "cell_type": "code",
   "execution_count": 5,
   "id": "1e2cfeb6",
   "metadata": {},
   "outputs": [],
   "source": [
    "navada = navada.copy()"
   ]
  },
  {
   "cell_type": "code",
   "execution_count": 6,
   "id": "a08baf06",
   "metadata": {},
   "outputs": [],
   "source": [
    "navada['APN'] = navada['APN'].astype(str)"
   ]
  },
  {
   "cell_type": "code",
   "execution_count": 7,
   "id": "e80394b5",
   "metadata": {
    "scrolled": true
   },
   "outputs": [],
   "source": [
    "navada['APN'] = ( \"0\" + navada['APN'].str[:-3])"
   ]
  },
  {
   "cell_type": "code",
   "execution_count": 8,
   "id": "569cdd1f",
   "metadata": {},
   "outputs": [],
   "source": [
    "# navada['APN'] "
   ]
  },
  {
   "cell_type": "markdown",
   "id": "124fb2fc",
   "metadata": {},
   "source": [
    "# placer"
   ]
  },
  {
   "cell_type": "code",
   "execution_count": 9,
   "id": "1747bf36",
   "metadata": {},
   "outputs": [],
   "source": [
    "placer = df[(df['County'].isin(['PLACER'])) & (df['Parcel Status:'].isin(['Assessed', 'Deferred to Phase 2',\n",
    "                                                                             'Identified', 'Assessed Return Needed']))]"
   ]
  },
  {
   "cell_type": "code",
   "execution_count": 10,
   "id": "7bf41d63",
   "metadata": {},
   "outputs": [],
   "source": [
    "placer =placer.copy()"
   ]
  },
  {
   "cell_type": "code",
   "execution_count": 11,
   "id": "ab72a457",
   "metadata": {
    "scrolled": true
   },
   "outputs": [],
   "source": [
    "placer['APN'] = placer['APN'].astype(str)"
   ]
  },
  {
   "cell_type": "code",
   "execution_count": 12,
   "id": "5e38593f",
   "metadata": {},
   "outputs": [],
   "source": [
    "placer['APN'] = placer['APN'].str.replace(\"-\", \"\")"
   ]
  },
  {
   "cell_type": "code",
   "execution_count": 13,
   "id": "1cfa4001",
   "metadata": {
    "scrolled": true
   },
   "outputs": [],
   "source": [
    "placer['APN'] = placer['APN'].str[:-3]"
   ]
  },
  {
   "cell_type": "code",
   "execution_count": 14,
   "id": "4f56fa1f",
   "metadata": {},
   "outputs": [],
   "source": [
    "# placer['APN']"
   ]
  },
  {
   "cell_type": "markdown",
   "id": "bf34afb3",
   "metadata": {},
   "source": [
    "# Lake"
   ]
  },
  {
   "cell_type": "code",
   "execution_count": 15,
   "id": "43791430",
   "metadata": {},
   "outputs": [],
   "source": [
    "lake = df[(df['County'].isin(['LAKE'])) & (df['Parcel Status:'].isin(['Assessed', 'Deferred to Phase 2',\n",
    "                                                                             'Identified', 'Assessed Return Needed']))]"
   ]
  },
  {
   "cell_type": "code",
   "execution_count": 16,
   "id": "4d1b9feb",
   "metadata": {},
   "outputs": [],
   "source": [
    "lake = lake.copy()"
   ]
  },
  {
   "cell_type": "code",
   "execution_count": 17,
   "id": "6da63a71",
   "metadata": {
    "scrolled": true
   },
   "outputs": [],
   "source": [
    "lake['APN'] = lake['APN'].astype(str)"
   ]
  },
  {
   "cell_type": "code",
   "execution_count": 18,
   "id": "86f121e3",
   "metadata": {},
   "outputs": [],
   "source": [
    "lake['APN'] = (\"0\" + lake['APN'] + \"0\")"
   ]
  },
  {
   "cell_type": "code",
   "execution_count": 19,
   "id": "645e1b3d",
   "metadata": {},
   "outputs": [],
   "source": [
    "# lake['APN']"
   ]
  },
  {
   "cell_type": "markdown",
   "id": "f715ed1e",
   "metadata": {},
   "source": [
    "# EL DORADO"
   ]
  },
  {
   "cell_type": "code",
   "execution_count": 20,
   "id": "622c9438",
   "metadata": {},
   "outputs": [],
   "source": [
    "eldorado = df[(df['County'].isin(['EL DORADO'])) & (df['Parcel Status:'].isin(['Assessed', 'Deferred to Phase 2',\n",
    "                                                                             'Identified', 'Assessed Return Needed']))]"
   ]
  },
  {
   "cell_type": "code",
   "execution_count": 21,
   "id": "286700f6",
   "metadata": {},
   "outputs": [],
   "source": [
    "eldorado = eldorado.copy()"
   ]
  },
  {
   "cell_type": "code",
   "execution_count": 22,
   "id": "fa94f5d8",
   "metadata": {},
   "outputs": [],
   "source": [
    "eldorado['APN'] = eldorado['APN'].astype(str)"
   ]
  },
  {
   "cell_type": "code",
   "execution_count": 23,
   "id": "cd91f51e",
   "metadata": {},
   "outputs": [],
   "source": [
    "eldorado['APN'] = \"0\" + eldorado['APN']"
   ]
  },
  {
   "cell_type": "markdown",
   "id": "0c7f26df",
   "metadata": {},
   "source": [
    "# Kern\n",
    "\n",
    "* no APNs in smartsheets yet.\n",
    "* will need to reformat APNs"
   ]
  },
  {
   "cell_type": "code",
   "execution_count": 24,
   "id": "0c7ce0ee",
   "metadata": {},
   "outputs": [],
   "source": [
    "kern = df[(df['County'].isin(['KERN'])) & (df['Parcel Status:'].isin(['Assessed', 'Deferred to Phase 2',\n",
    "                                                                             'Identified', 'Assessed Return Needed']))]\n",
    "kern = kern.copy()\n",
    "kern['APN'] = kern['APN'].astype(str)\n",
    "\n",
    "\n",
    "kern['APN'] = \"0\" + kern['APN']"
   ]
  },
  {
   "cell_type": "markdown",
   "id": "8d4cb250",
   "metadata": {},
   "source": [
    "# Mendocino"
   ]
  },
  {
   "cell_type": "code",
   "execution_count": 25,
   "id": "6ee5db3a",
   "metadata": {},
   "outputs": [],
   "source": [
    "mendo = df[(df['County'].isin(['MENDOCINO'])) & (df['Parcel Status:'].isin(['Assessed', 'Deferred to Phase 2',\n",
    "                                                                             'Identified', 'Assessed Return Needed']))]\n",
    "mendo = mendo.copy()\n",
    "mendo['APN'] = mendo['APN'].astype(str)\n",
    "\n",
    "mendo['APN'] = (mendo['APN'] + \"0\")"
   ]
  },
  {
   "cell_type": "markdown",
   "id": "a653b37d",
   "metadata": {},
   "source": [
    "# Tulare\n",
    "\n",
    "* no APNs in smartsheets yet.\n",
    "* will need to reformat APNs"
   ]
  },
  {
   "cell_type": "code",
   "execution_count": 26,
   "id": "a859d396",
   "metadata": {},
   "outputs": [],
   "source": [
    "tulare = df[(df['County'].isin(['TULARE'])) & (df['Parcel Status:'].isin(['Assessed', 'Deferred to Phase 2',\n",
    "                                                                             'Identified', 'Assessed Return Needed']))] \n",
    "tulare = tulare.copy()\n",
    "tulare['APN'] = tulare['APN'].astype(str)\n",
    "tulare['APN'] = tulare['APN'].str.replace(\"-\",\"\")"
   ]
  },
  {
   "cell_type": "markdown",
   "id": "acddbac8",
   "metadata": {},
   "source": [
    "# Tuolumne"
   ]
  },
  {
   "cell_type": "code",
   "execution_count": 27,
   "id": "35c9e2ff",
   "metadata": {},
   "outputs": [],
   "source": [
    "tulumne = df[(df['County'].isin(['TUOLUMNE'])) & (df['Parcel Status:'].isin(['Assessed', 'Deferred to Phase 2',\n",
    "                                                                             'Identified', 'Assessed Return Needed']))] \n",
    "tulumne = tulumne.copy()\n",
    "tulumne['APN'] = tulumne['APN'].astype(str)\n",
    "tulumne['APN'] = tulumne['APN'].str.replace(\"-\",\"\")"
   ]
  },
  {
   "cell_type": "code",
   "execution_count": null,
   "id": "497c046b",
   "metadata": {},
   "outputs": [],
   "source": []
  },
  {
   "cell_type": "code",
   "execution_count": 28,
   "id": "b0508bf7",
   "metadata": {},
   "outputs": [],
   "source": [
    "county = [navada,placer,lake, eldorado,mendo,tulumne,tulare,kern]"
   ]
  },
  {
   "cell_type": "markdown",
   "id": "4c7a0656",
   "metadata": {},
   "source": [
    "# concat all the counties into one file"
   ]
  },
  {
   "cell_type": "code",
   "execution_count": 29,
   "id": "3e9e3e41",
   "metadata": {},
   "outputs": [],
   "source": [
    "DTSC = pd.concat(county)"
   ]
  },
  {
   "cell_type": "markdown",
   "id": "73aac9cc",
   "metadata": {},
   "source": [
    "### Add the dashes"
   ]
  },
  {
   "cell_type": "code",
   "execution_count": 30,
   "id": "a5baffe5",
   "metadata": {
    "scrolled": true
   },
   "outputs": [],
   "source": [
    "DTSC['APN'] = (DTSC['APN'].str[:3] + '-' + DTSC['APN'].str[3:6] + '-' + DTSC['APN'].str[6:])"
   ]
  },
  {
   "cell_type": "code",
   "execution_count": 31,
   "id": "c5605fbc",
   "metadata": {},
   "outputs": [],
   "source": [
    "DTSC = DTSC[['APN', 'County', 'Parcel Status:', 'Address']]"
   ]
  },
  {
   "cell_type": "code",
   "execution_count": 32,
   "id": "0e285cec",
   "metadata": {},
   "outputs": [],
   "source": [
    "# DTSC[DTSC['County'].isin(['MENDOCINO', 'TUOLUMNE'])]"
   ]
  },
  {
   "cell_type": "code",
   "execution_count": 33,
   "id": "7c7e01f6",
   "metadata": {
    "scrolled": true
   },
   "outputs": [],
   "source": [
    "DTSC_copy = DTSC.copy()\n",
    "DTSC_copy = DTSC_copy.add_suffix('_DTSC')"
   ]
  },
  {
   "cell_type": "markdown",
   "id": "09bd8901",
   "metadata": {},
   "source": [
    "# For Randy - Needs Site Assessment Filter"
   ]
  },
  {
   "cell_type": "code",
   "execution_count": 34,
   "id": "36733f3e",
   "metadata": {},
   "outputs": [],
   "source": [
    "# path3 = r\"C:\\Users\\jacque.trahan\\Downloads\\Randy filter*\"\n",
    "# file_type3 = '.xlsx'\n",
    "# load_it3 = glob.glob(path3 + file_type3)\n",
    "# df3 = pd.read_excel(max(load_it3, key=os.path.getctime))"
   ]
  },
  {
   "cell_type": "code",
   "execution_count": 35,
   "id": "5ef61899",
   "metadata": {},
   "outputs": [],
   "source": [
    "# Randy_filt = df3.copy()"
   ]
  },
  {
   "cell_type": "code",
   "execution_count": 36,
   "id": "bab49434",
   "metadata": {},
   "outputs": [],
   "source": [
    "# Randy_filt = Randy_filt[['APN_ROW Segment', 'ROE Verified','ROE Type', 'Hold',\n",
    "#                          'Not Eligible','Withdrawal','Phase 1 Complete','Site Assessment', 'USFS Parcel?']]"
   ]
  },
  {
   "cell_type": "code",
   "execution_count": 37,
   "id": "c05adeac",
   "metadata": {},
   "outputs": [],
   "source": [
    "# Randy_filt = Randy_filt.add_suffix('_Randy')"
   ]
  },
  {
   "cell_type": "code",
   "execution_count": 38,
   "id": "87011622",
   "metadata": {},
   "outputs": [],
   "source": [
    "# DTSC_Randy = DTSC_copy.merge(Randy_filt,\n",
    "#                                            left_on='APN_DTSC',\n",
    "#                                            right_on='APN_ROW Segment_Randy',\n",
    "#                                            how='outer')"
   ]
  },
  {
   "cell_type": "markdown",
   "id": "d79c4af4",
   "metadata": {},
   "source": [
    "# Planning Ready for site assessment tracker. "
   ]
  },
  {
   "cell_type": "markdown",
   "id": "7fdc5e8e",
   "metadata": {},
   "source": [
    "## filters for ROEs Available for SA Teams\n",
    "* ROE Verified = True\n",
    "* Holds = False\n",
    "* Not eilibale and widrawn = blank\n",
    "* phase one = blank\n",
    "* Site Assessmet = blank\n",
    "* USFS Parcel? = N/A\n",
    "\n",
    "## Smartsheet now ran through API and no longer needed to be downloaded"
   ]
  },
  {
   "cell_type": "code",
   "execution_count": 39,
   "id": "2b7f3530",
   "metadata": {},
   "outputs": [],
   "source": [
    "# #sSmart sheets central\n",
    "# path2 = r\"C:\\Users\\jacque.trahan\\Downloads\\Central Division 2021 Debris Removal Tracker*\"\n",
    "# file_type2 = '.xlsx'\n",
    "# loadup2 = glob.glob(path2 + file_type2)\n",
    "# df2 = pd.read_excel(max(loadup2, key=os.path.getctime))# for ready SA properties\n",
    "# df_ss = pd.read_excel(max(loadup2, key=os.path.getctime), keep_default_na=False)"
   ]
  },
  {
   "cell_type": "code",
   "execution_count": 40,
   "id": "b3fdd6fe",
   "metadata": {},
   "outputs": [],
   "source": [
    "# path3 = r\"C:\\Users\\jacque.trahan\\Downloads\\South Central Division 2021 Debris Removal Tracker*\"\n",
    "# file_type2 = '.xlsx'\n",
    "# loadup3 = glob.glob(path3 + file_type2)\n",
    "# df2_s = pd.read_excel(max(loadup3, key=os.path.getctime))# for ready SA properties\n",
    "# df_ss_s = pd.read_excel(max(loadup3, key=os.path.getctime), keep_default_na=False)"
   ]
  },
  {
   "cell_type": "markdown",
   "id": "4c6ac418",
   "metadata": {},
   "source": [
    "# concate files for both sets of smartsheets"
   ]
  },
  {
   "cell_type": "code",
   "execution_count": 41,
   "id": "14f5b3ed",
   "metadata": {},
   "outputs": [],
   "source": [
    "# df_ss_both = pd.concat([df_ss, df_ss_s])\n",
    "\n",
    "# df2_both = pd.concat([df2, df2_s])"
   ]
  },
  {
   "cell_type": "code",
   "execution_count": 42,
   "id": "016a61d1",
   "metadata": {},
   "outputs": [],
   "source": [
    "SmartSheets = df_both.copy()\n",
    "SmartSheets = SmartSheets[['APN_ROW Segment','Street #','Street Name','County',\n",
    "                           'ROE Verified','ROE Type', 'Hold', 'Hold Reason',\n",
    "                         'Not Eligible','Withdrawal','Phase 1 Complete','Site Assessment', 'USFS Parcel?', 'Debris Crew']]"
   ]
  },
  {
   "cell_type": "code",
   "execution_count": 43,
   "id": "6873efb7",
   "metadata": {},
   "outputs": [],
   "source": [
    "rdy_SAs = df_both.copy()\n",
    "rdy_SAs = rdy_SAs[(rdy_SAs['ROE Verified'] == 'ROE Verified') & # Roe verified\n",
    "           (rdy_SAs['ROE Type'] == 'Full Program ROE (debris + trees)') & # ROE types is not just trees\n",
    "           (rdy_SAs['Hold'] != True) & # not on hold \n",
    "           (rdy_SAs['Not Eligible'].isnull()) & # Not eilibale = blank\n",
    "           (rdy_SAs['Withdrawal'].isnull()) & # Withdrawal= blank\n",
    "           (rdy_SAs['Phase 1 Complete'] == 'Yes') & #Phase one complete\n",
    "           (rdy_SAs['Site Assessment'].isna()) #& # SA hasnt been done\n",
    "#            (rdy_SAs['USFS Parcel?'].notna())           \n",
    "           ]"
   ]
  },
  {
   "cell_type": "code",
   "execution_count": 44,
   "id": "ac255251",
   "metadata": {},
   "outputs": [],
   "source": [
    "rdy_SAs = rdy_SAs[['APN_ROW Segment','Street #','Street Name','County',\n",
    "                   'ROE Verified','ROE Type', 'Hold',\n",
    "                         'Not Eligible','Withdrawal','Phase 1 Complete','Site Assessment', 'USFS Parcel?']]"
   ]
  },
  {
   "cell_type": "code",
   "execution_count": 45,
   "id": "2a70925f",
   "metadata": {},
   "outputs": [],
   "source": [
    "# rdy_SAs[(rdy_SAs['Not Eligible'].isnull())]"
   ]
  },
  {
   "cell_type": "code",
   "execution_count": 46,
   "id": "6a22711d",
   "metadata": {},
   "outputs": [],
   "source": [
    "rdy_SAs = rdy_SAs.add_suffix(\"_Planning\")"
   ]
  },
  {
   "cell_type": "code",
   "execution_count": 47,
   "id": "5a899c56",
   "metadata": {},
   "outputs": [],
   "source": [
    "SS_merge = rdy_SAs.merge(SmartSheets,\n",
    "                            left_on='APN_ROW Segment_Planning',\n",
    "                            right_on='APN_ROW Segment',\n",
    "                            how='outer')"
   ]
  },
  {
   "cell_type": "code",
   "execution_count": 48,
   "id": "1a0b28b7",
   "metadata": {},
   "outputs": [],
   "source": [
    "# SS_merge_RandyFilt = SS_merge.merge(Randy_filt,\n",
    "#                                left_on='APN_ROW Segment',\n",
    "#                                right_on='APN_ROW Segment_Randy',\n",
    "#                                how='outer')"
   ]
  },
  {
   "cell_type": "code",
   "execution_count": 49,
   "id": "6cb8bda6",
   "metadata": {},
   "outputs": [],
   "source": [
    "final = SS_merge.merge(DTSC_copy,\n",
    "                                 left_on='APN_ROW Segment',\n",
    "                                 right_on='APN_DTSC',\n",
    "                                 how='outer')"
   ]
  },
  {
   "cell_type": "code",
   "execution_count": 50,
   "id": "a7cc04a7",
   "metadata": {},
   "outputs": [],
   "source": [
    "final.set_index('APN_ROW Segment', inplace=True)"
   ]
  },
  {
   "cell_type": "code",
   "execution_count": 51,
   "id": "b165ff46",
   "metadata": {},
   "outputs": [],
   "source": [
    "final.to_excel('DTSC and rdy for SA check - Central.xlsx')"
   ]
  },
  {
   "cell_type": "code",
   "execution_count": null,
   "id": "7a032608",
   "metadata": {},
   "outputs": [],
   "source": []
  }
 ],
 "metadata": {
  "kernelspec": {
   "display_name": "Python 3",
   "language": "python",
   "name": "python3"
  },
  "language_info": {
   "codemirror_mode": {
    "name": "ipython",
    "version": 3
   },
   "file_extension": ".py",
   "mimetype": "text/x-python",
   "name": "python",
   "nbconvert_exporter": "python",
   "pygments_lexer": "ipython3",
   "version": "3.9.4"
  }
 },
 "nbformat": 4,
 "nbformat_minor": 5
}
