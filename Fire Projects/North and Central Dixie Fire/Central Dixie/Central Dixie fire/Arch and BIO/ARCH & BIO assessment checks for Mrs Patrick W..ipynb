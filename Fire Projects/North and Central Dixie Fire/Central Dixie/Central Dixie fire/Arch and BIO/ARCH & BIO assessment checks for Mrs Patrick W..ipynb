{
 "cells": [
  {
   "cell_type": "markdown",
   "id": "56a828bf",
   "metadata": {},
   "source": [
    "# ARCH assessment date-Central."
   ]
  },
  {
   "cell_type": "code",
   "execution_count": 1,
   "id": "1cf3b5cc",
   "metadata": {},
   "outputs": [],
   "source": [
    "import pandas as pd\n",
    "import numpy as np\n",
    "import os\n",
    "import glob"
   ]
  },
  {
   "cell_type": "markdown",
   "id": "bd2c4f10",
   "metadata": {},
   "source": [
    "### Central"
   ]
  },
  {
   "cell_type": "code",
   "execution_count": 2,
   "id": "9961b372",
   "metadata": {},
   "outputs": [],
   "source": [
    "path1 = r\"C:\\Users\\jacque.trahan\\Downloads\\Central Division 2021 Debris Removal Tracker*\"\n",
    "file_type1 = \".xlsx\"\n",
    "loadit1 = glob.glob(path1 + file_type1)\n",
    "df1 = pd.read_excel(max(loadit1, key=os.path.getctime))"
   ]
  },
  {
   "cell_type": "code",
   "execution_count": 13,
   "id": "38181a2a",
   "metadata": {},
   "outputs": [],
   "source": [
    "# df1.info(verbose=True)"
   ]
  },
  {
   "cell_type": "code",
   "execution_count": 4,
   "id": "b072928d",
   "metadata": {},
   "outputs": [
    {
     "name": "stderr",
     "output_type": "stream",
     "text": [
      "C:\\Users\\jacque.trahan\\AppData\\Roaming\\Python\\Python39\\site-packages\\pandas\\core\\series.py:4463: SettingWithCopyWarning: \n",
      "A value is trying to be set on a copy of a slice from a DataFrame\n",
      "\n",
      "See the caveats in the documentation: https://pandas.pydata.org/pandas-docs/stable/user_guide/indexing.html#returning-a-view-versus-a-copy\n",
      "  return super().fillna(\n"
     ]
    }
   ],
   "source": [
    "arch_c = df1.copy()\n",
    "arch_c = arch_c[['APN_ROW Segment','Street #', 'Street Name', 'County', 'Arch Assessment','Division', 'Withdrawal', 'Not Eligible']]\n",
    "arch_cDone = arch_c[(arch_c['Arch Assessment'].notna()) & (arch_c['Withdrawal'].isna()) & (arch_c['Not Eligible'].isna())]\n",
    "arch_cNotDone = arch_c[(arch_c['Arch Assessment'].isna()) & (arch_c['Withdrawal'].isna()) & (arch_c['Not Eligible'].isna())]\n",
    "arch_cNotDone['Arch Assessment'].fillna(1, inplace=True)"
   ]
  },
  {
   "cell_type": "code",
   "execution_count": 5,
   "id": "28af7d53",
   "metadata": {},
   "outputs": [],
   "source": [
    "final_c_arch = arch_cDone.merge(arch_cNotDone,\n",
    "                          left_on='APN_ROW Segment',\n",
    "                          right_on=\"APN_ROW Segment\",\n",
    "                          how='outer',\n",
    "                          suffixes=(\"_Done\", \"_Not Done\")).to_excel(\"Arch assessment  summary-Central.xlsx\")"
   ]
  },
  {
   "cell_type": "markdown",
   "id": "8fc7bee2",
   "metadata": {},
   "source": [
    "# BIO"
   ]
  },
  {
   "cell_type": "markdown",
   "id": "c8258afb",
   "metadata": {},
   "source": [
    "### Central"
   ]
  },
  {
   "cell_type": "code",
   "execution_count": 6,
   "id": "4293a344",
   "metadata": {},
   "outputs": [],
   "source": [
    "bio_c = df1.copy()\n",
    "bio_c = bio_c[['APN_ROW Segment','Street #', 'Street Name', 'County', 'Bio Assessment','Division','Withdrawal', 'Not Eligible']]\n",
    "bio_cDone = bio_c[bio_c['Bio Assessment'].notna() & (bio_c['Withdrawal'].isna()) & (bio_c['Not Eligible'].isna())]\n",
    "bio_cNotDone = bio_c[(bio_c['Bio Assessment'].isna()) & (bio_c['Withdrawal'].isna()) & (bio_c['Not Eligible'].isna())]\n",
    "bio_cNotDone['Bio Assessment'].fillna(1, inplace=True)\n"
   ]
  },
  {
   "cell_type": "code",
   "execution_count": 7,
   "id": "10e678fc",
   "metadata": {},
   "outputs": [],
   "source": [
    "final_c_bio = bio_cDone.merge(bio_cNotDone,\n",
    "                          left_on='APN_ROW Segment',\n",
    "                          right_on=\"APN_ROW Segment\",\n",
    "                          how='outer',\n",
    "                          suffixes=(\"_Done\", \"_Not Done\")).to_excel(\"Bio assessment summary-Central.xlsx\")"
   ]
  },
  {
   "cell_type": "markdown",
   "id": "9403ff43",
   "metadata": {},
   "source": [
    "### Northern"
   ]
  },
  {
   "cell_type": "markdown",
   "id": "2146a3a5",
   "metadata": {},
   "source": [
    "# Arch "
   ]
  },
  {
   "cell_type": "code",
   "execution_count": 8,
   "id": "3b8ad9b4",
   "metadata": {},
   "outputs": [],
   "source": [
    "path2 = r\"C:\\Users\\jacque.trahan\\Downloads\\BOP_North Div 2021 Debris Removal Tracker*\"\n",
    "file_type2 = \".xlsx\"\n",
    "loadit2 = glob.glob(path2 + file_type2)\n",
    "df2 = pd.read_excel(max(loadit2, key=os.path.getctime))"
   ]
  },
  {
   "cell_type": "code",
   "execution_count": 9,
   "id": "5f3bc310",
   "metadata": {},
   "outputs": [],
   "source": [
    "arch_n = df2.copy()\n",
    "arch_n = arch_n[(arch_n['Withdrawal'].isna()) & (arch_n['Not Eligible'].isna())]\n",
    "arch_n = arch_n[['APN_ROW Segment','Street #', 'Street Name', 'County', 'Arch Assessment','Division', 'Withdrawal', 'Not Eligible']]\n",
    "arch_nDone = arch_n[(arch_n['Arch Assessment'].notna())]\n",
    "arch_nNotDone = arch_n[(arch_n['Arch Assessment'].isna())]\n",
    "arch_nNotDone['Arch Assessment'].fillna(1, inplace=True)"
   ]
  },
  {
   "cell_type": "code",
   "execution_count": 10,
   "id": "676c6d26",
   "metadata": {},
   "outputs": [],
   "source": [
    "final_n_arch = arch_nDone.merge(arch_nNotDone,\n",
    "                          left_on='APN_ROW Segment',\n",
    "                          right_on=\"APN_ROW Segment\",\n",
    "                          how='outer',\n",
    "                          suffixes=(\"_Done\", \"_Not Done\")).to_excel(\"Arch assessment summary-Northern.xlsx\")"
   ]
  },
  {
   "cell_type": "markdown",
   "id": "bec3f18c",
   "metadata": {},
   "source": [
    "# Bio"
   ]
  },
  {
   "cell_type": "code",
   "execution_count": 11,
   "id": "5da38c19",
   "metadata": {},
   "outputs": [],
   "source": [
    "bio_n = df2.copy()\n",
    "bio_n = bio_n[((bio_n['Withdrawal'].isna()) & (bio_n['Not Eligible'].isna()))]\n",
    "bio_n = bio_n[['APN_ROW Segment','Street #', 'Street Name', 'County', 'Bio Assessment','Division','Withdrawal', 'Not Eligible']]\n",
    "bio_nDone = bio_n[(bio_n['Bio Assessment'].notna())]\n",
    "bio_nNotDone = bio_n[(bio_n['Bio Assessment'].isna())]\n",
    "bio_nNotDone['Bio Assessment'].fillna(1, inplace=True)"
   ]
  },
  {
   "cell_type": "code",
   "execution_count": 12,
   "id": "bd204e7d",
   "metadata": {},
   "outputs": [],
   "source": [
    "final_n_bio = bio_nDone.merge(bio_nNotDone,\n",
    "                          left_on='APN_ROW Segment',\n",
    "                          right_on=\"APN_ROW Segment\",\n",
    "                          how='outer',\n",
    "                          suffixes=(\"_Done\", \"_Not Done\")).to_excel(\"Bio assessment summary-Northern.xlsx\")"
   ]
  },
  {
   "cell_type": "code",
   "execution_count": null,
   "id": "99a48b1f",
   "metadata": {},
   "outputs": [],
   "source": []
  }
 ],
 "metadata": {
  "kernelspec": {
   "display_name": "Python 3",
   "language": "python",
   "name": "python3"
  },
  "language_info": {
   "codemirror_mode": {
    "name": "ipython",
    "version": 3
   },
   "file_extension": ".py",
   "mimetype": "text/x-python",
   "name": "python",
   "nbconvert_exporter": "python",
   "pygments_lexer": "ipython3",
   "version": "3.9.4"
  }
 },
 "nbformat": 4,
 "nbformat_minor": 5
}
