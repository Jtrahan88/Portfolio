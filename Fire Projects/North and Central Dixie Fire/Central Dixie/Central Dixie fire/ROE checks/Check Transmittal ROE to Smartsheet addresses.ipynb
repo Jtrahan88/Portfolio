{
 "cells": [
  {
   "cell_type": "markdown",
   "id": "3147cb79",
   "metadata": {},
   "source": [
    "# Downlaods smartsheets using API\n",
    "* imports libraies as well"
   ]
  },
  {
   "cell_type": "code",
   "execution_count": 1,
   "id": "7f930b98",
   "metadata": {},
   "outputs": [],
   "source": [
    "import pandas as pd\n",
    "import os\n",
    "import glob\n",
    "import numpy as np\n",
    "import smartsheet\n",
    "\n",
    "#Variables\n",
    "# random\n",
    "excel = '.xlsx'\n",
    "csv = '.csv'\n",
    "\n",
    "# smartsheets Shet IDs\n",
    "Central_id = '1844440261257092'\n",
    "South_id= '6292262490531716'\n",
    "\n",
    "# Central's API\n",
    "Central = smartsheet.Smartsheet('6jJFxnAfFsDErU0BSr1Ae4D6cHq0zenczVR12') #API\n",
    "\n",
    "Central.errors_as_exceptions(True)\n",
    "\n",
    "# Central's API\n",
    "South = smartsheet.Smartsheet(\"H8mqAo60J2zGHSrJEwmlMoY88A9yjgCo6RnSI\") # API\n",
    "South.errors_as_exceptions(True)\n",
    "\n",
    "#download smartsheets to any folder you need\n",
    "# Central.Sheets.get_sheet_as_excel(Central_id, download_path=r\"C:\\Users\\jacque.trahan\\Downloads\")\n",
    "# South.Sheets.get_sheet_as_excel(South_id, download_path=r\"C:\\Users\\jacque.trahan\\Downloads\") \n",
    "\n",
    "\n",
    "# #Google Sheets\n",
    "# #Sheet ID comes right after /d/ in the URL\n",
    "# Google_sheet_ID= '1O2dmdhEo5hJVAgRVDl4M4n3_v-KqHS56q3OZVdpZANU'\n",
    "# # name of tab you want to use\n",
    "# Google_sheets_name = 'Tree RTR Tracker'\n",
    "\n",
    "# # this is tricky. after /export? we must put format=csv#id={Sheet Name}   -> manually to make this work\n",
    "# url = f'https://docs.google.com/spreadsheets/d/{Google_sheet_ID}/export?format=csv#id={Google_sheets_name}'\n",
    "\n",
    "\n",
    "\n",
    "# Function to read in column titles and row vales and make out data frames from smartsheets\n",
    "def smartsheet_loadup(sheet):\n",
    "    columns = [col.title for col in sheet.columns]\n",
    "    rows = []\n",
    "    for row in sheet.rows:\n",
    "        cells = []\n",
    "        for cell in row.cells:\n",
    "            cells.append(cell.value)\n",
    "        rows.append(cells)\n",
    "    df = pd.DataFrame(rows, columns=columns)\n",
    "    return df\n",
    "\n",
    "Central_SS = smartsheet_loadup(Central.Sheets.get_sheet(Central_id))\n",
    "South_SS = smartsheet_loadup(South.Sheets.get_sheet(South_id))\n",
    "\n",
    "df_both = pd.concat([Central_SS,South_SS])"
   ]
  },
  {
   "cell_type": "markdown",
   "id": "db9f1365",
   "metadata": {},
   "source": [
    "# ROE transmittal\n",
    "* combines all files in one folder\n",
    "* will have to manually download each transmittal untill further notice"
   ]
  },
  {
   "cell_type": "code",
   "execution_count": 6,
   "id": "1e1cbe0e",
   "metadata": {},
   "outputs": [
    {
     "name": "stderr",
     "output_type": "stream",
     "text": [
      "C:\\Users\\jacque.trahan\\AppData\\Roaming\\Python\\Python39\\site-packages\\openpyxl\\styles\\stylesheet.py:226: UserWarning: Workbook contains no default style, apply openpyxl's default\n",
      "  warn(\"Workbook contains no default style, apply openpyxl's default\")\n",
      "C:\\Users\\jacque.trahan\\AppData\\Roaming\\Python\\Python39\\site-packages\\openpyxl\\styles\\stylesheet.py:226: UserWarning: Workbook contains no default style, apply openpyxl's default\n",
      "  warn(\"Workbook contains no default style, apply openpyxl's default\")\n",
      "C:\\Users\\jacque.trahan\\AppData\\Roaming\\Python\\Python39\\site-packages\\openpyxl\\styles\\stylesheet.py:226: UserWarning: Workbook contains no default style, apply openpyxl's default\n",
      "  warn(\"Workbook contains no default style, apply openpyxl's default\")\n",
      "C:\\Users\\jacque.trahan\\AppData\\Roaming\\Python\\Python39\\site-packages\\openpyxl\\styles\\stylesheet.py:226: UserWarning: Workbook contains no default style, apply openpyxl's default\n",
      "  warn(\"Workbook contains no default style, apply openpyxl's default\")\n",
      "C:\\Users\\jacque.trahan\\AppData\\Roaming\\Python\\Python39\\site-packages\\openpyxl\\styles\\stylesheet.py:226: UserWarning: Workbook contains no default style, apply openpyxl's default\n",
      "  warn(\"Workbook contains no default style, apply openpyxl's default\")\n",
      "C:\\Users\\jacque.trahan\\AppData\\Roaming\\Python\\Python39\\site-packages\\openpyxl\\styles\\stylesheet.py:226: UserWarning: Workbook contains no default style, apply openpyxl's default\n",
      "  warn(\"Workbook contains no default style, apply openpyxl's default\")\n",
      "C:\\Users\\jacque.trahan\\AppData\\Roaming\\Python\\Python39\\site-packages\\openpyxl\\styles\\stylesheet.py:226: UserWarning: Workbook contains no default style, apply openpyxl's default\n",
      "  warn(\"Workbook contains no default style, apply openpyxl's default\")\n",
      "C:\\Users\\jacque.trahan\\AppData\\Roaming\\Python\\Python39\\site-packages\\openpyxl\\styles\\stylesheet.py:226: UserWarning: Workbook contains no default style, apply openpyxl's default\n",
      "  warn(\"Workbook contains no default style, apply openpyxl's default\")\n",
      "C:\\Users\\jacque.trahan\\AppData\\Roaming\\Python\\Python39\\site-packages\\openpyxl\\styles\\stylesheet.py:226: UserWarning: Workbook contains no default style, apply openpyxl's default\n",
      "  warn(\"Workbook contains no default style, apply openpyxl's default\")\n"
     ]
    }
   ],
   "source": [
    "joined_files = os.path.join(r\"C:\\Users\\jacque.trahan\\Desktop\\ROE checks\", \"*.xlsx\")\n",
    "joined_list = glob.glob(joined_files)\n",
    "\n",
    "\n",
    "df = pd.concat(map(pd.read_excel, joined_list), ignore_index=True)"
   ]
  },
  {
   "cell_type": "code",
   "execution_count": 9,
   "id": "93342ed6",
   "metadata": {},
   "outputs": [],
   "source": [
    "ROE_t = df[['APN', 'Street #', 'Street Name']].copy()\n",
    "SS = df_both[['APN_ROW Segment','Street #', 'Street Name']].copy()\n"
   ]
  },
  {
   "cell_type": "code",
   "execution_count": 10,
   "id": "202f3a67",
   "metadata": {},
   "outputs": [],
   "source": [
    "Check = SS.merge(ROE_t,\n",
    "                left_on='APN_ROW Segment',\n",
    "                right_on='APN',\n",
    "                how='outer',\n",
    "                suffixes=(\"_SS\",\"_ROE\"))"
   ]
  },
  {
   "cell_type": "code",
   "execution_count": 17,
   "id": "8dd25162",
   "metadata": {},
   "outputs": [],
   "source": [
    "Check['Street #_SS'] = Check['Street #_SS'].astype(str)\n",
    "Check['Street Name_SS'] = Check['Street Name_SS'].astype(str)\n",
    "Check['Street #_ROE'] = Check['Street #_ROE'].astype(str)\n",
    "Check['Street Name_ROE'] = Check['Street Name_ROE'].astype(str)"
   ]
  },
  {
   "cell_type": "code",
   "execution_count": 18,
   "id": "2c4c8943",
   "metadata": {},
   "outputs": [],
   "source": [
    "Check['SmartSheet address'] = Check['Street #_SS'] + \" \" + Check['Street Name_SS']\n",
    "Check['ROE address'] = Check['Street #_ROE'] + \" \" + Check['Street Name_ROE']"
   ]
  },
  {
   "cell_type": "code",
   "execution_count": 21,
   "id": "72bb2ff6",
   "metadata": {},
   "outputs": [],
   "source": [
    "Checks = Check[Check['SmartSheet address'] != Check['ROE address']]"
   ]
  },
  {
   "cell_type": "code",
   "execution_count": 23,
   "id": "be28e9bd",
   "metadata": {
    "scrolled": true
   },
   "outputs": [],
   "source": [
    "Checks.to_excel('ROE Adress check.xlsx')"
   ]
  },
  {
   "cell_type": "code",
   "execution_count": null,
   "id": "983c63ed",
   "metadata": {},
   "outputs": [],
   "source": []
  }
 ],
 "metadata": {
  "kernelspec": {
   "display_name": "Python 3",
   "language": "python",
   "name": "python3"
  },
  "language_info": {
   "codemirror_mode": {
    "name": "ipython",
    "version": 3
   },
   "file_extension": ".py",
   "mimetype": "text/x-python",
   "name": "python",
   "nbconvert_exporter": "python",
   "pygments_lexer": "ipython3",
   "version": "3.9.4"
  }
 },
 "nbformat": 4,
 "nbformat_minor": 5
}
