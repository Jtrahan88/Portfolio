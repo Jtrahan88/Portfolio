{
 "cells": [
  {
   "cell_type": "code",
   "execution_count": 1,
   "id": "895fef3a",
   "metadata": {},
   "outputs": [],
   "source": [
    "import pandas as pd\n",
    "import requests\n",
    "import sspyrs\n"
   ]
  },
  {
   "cell_type": "code",
   "execution_count": 4,
   "id": "5e801015",
   "metadata": {},
   "outputs": [],
   "source": [
    "SQL = '<?xml version=\"1.0\" encoding=\"utf-8\" standalone=\"yes\"?><service xmlns:atom=\"http://www.w3.org/2005/Atom\" xmlns:app=\"http://www.w3.org/2007/app\" xmlns=\"http://www.w3.org/2007/app\"><workspace><atom:title>aDataManagerTicketExport</atom:title><collection href=\"https://rtr.tdr.tetratech.com/rs?%2F2020%2Fa%2FaDataManagerTicketExport&amp;PrjList=121&amp;DocType=3&amp;TckStartDt=10%2F05%2F2021&amp;TckEndDt=03%2F28%2F2022&amp;rs%3AParameterLanguage=&amp;rs%3ACommand=Render&amp;rs%3AFormat=ATOM&amp;rc%3AItemPath=LDHOTickets\"><atom:title>LDHOTickets</atom:title></collection><collection href=\"https://rtr.tdr.tetratech.com/rs?%2F2020%2Fa%2FaDataManagerTicketExport&amp;PrjList=121&amp;DocType=3&amp;TckStartDt=10%2F05%2F2021&amp;TckEndDt=03%2F28%2F2022&amp;rs%3AParameterLanguage=&amp;rs%3ACommand=Render&amp;rs%3AFormat=XML\"><atom:title>Tablix1</atom:title></collection></workspace></service>'"
   ]
  },
  {
   "cell_type": "code",
   "execution_count": 5,
   "id": "ef964cc3",
   "metadata": {
    "scrolled": true
   },
   "outputs": [
    {
     "data": {
      "text/html": [
       "<div>\n",
       "<style scoped>\n",
       "    .dataframe tbody tr th:only-of-type {\n",
       "        vertical-align: middle;\n",
       "    }\n",
       "\n",
       "    .dataframe tbody tr th {\n",
       "        vertical-align: top;\n",
       "    }\n",
       "\n",
       "    .dataframe thead th {\n",
       "        text-align: right;\n",
       "    }\n",
       "</style>\n",
       "<table border=\"1\" class=\"dataframe\">\n",
       "  <thead>\n",
       "    <tr style=\"text-align: right;\">\n",
       "      <th></th>\n",
       "      <th>title</th>\n",
       "      <th>collection</th>\n",
       "    </tr>\n",
       "  </thead>\n",
       "  <tbody>\n",
       "    <tr>\n",
       "      <th>0</th>\n",
       "      <td>aDataManagerTicketExport</td>\n",
       "      <td>NaN</td>\n",
       "    </tr>\n",
       "  </tbody>\n",
       "</table>\n",
       "</div>"
      ],
      "text/plain": [
       "                      title  collection\n",
       "0  aDataManagerTicketExport         NaN"
      ]
     },
     "execution_count": 5,
     "metadata": {},
     "output_type": "execute_result"
    }
   ],
   "source": [
    "pd.read_xml(SQL,)"
   ]
  },
  {
   "cell_type": "code",
   "execution_count": 6,
   "id": "fc137ee4",
   "metadata": {},
   "outputs": [],
   "source": [
    "SQLv2 = '<?xml version=\"1.0\" encoding=\"utf-8\" standalone=\"yes\"?><service xmlns:atom=\"http://www.w3.org/2005/Atom\" xmlns:app=\"http://www.w3.org/2007/app\" xmlns=\"http://www.w3.org/2007/app\"><workspace><atom:title>aDataManagerTicketExport</atom:title><collection href=\"https://rtr.tdr.tetratech.com/rs?%2F2020%2Fa%2FaDataManagerTicketExport&amp;PrjList=121&amp;DocType=3&amp;TckStartDt=10%2F05%2F2021&amp;TckEndDt=03%2F31%2F2022&amp;rs%3AParameterLanguage=&amp;rs%3ACommand=Render&amp;rs%3AFormat=ATOM&amp;rc%3AItemPath=LDHOTickets\"><atom:title>LDHOTickets</atom:title></collection><collection href=\"https://rtr.tdr.tetratech.com/rs?%2F2020%2Fa%2FaDataManagerTicketExport&amp;PrjList=121&amp;DocType=3&amp;TckStartDt=10%2F05%2F2021&amp;TckEndDt=03%2F31%2F2022&amp;rs%3AParameterLanguage=&amp;rs%3ACommand=Render&amp;rs%3AFormat=ATOM&amp;rc%3AItemPath=Tablix1\"><atom:title>Tablix1</atom:title></collection></workspace></service>'"
   ]
  },
  {
   "cell_type": "code",
   "execution_count": 16,
   "id": "046547de",
   "metadata": {},
   "outputs": [
    {
     "data": {
      "text/html": [
       "<div>\n",
       "<style scoped>\n",
       "    .dataframe tbody tr th:only-of-type {\n",
       "        vertical-align: middle;\n",
       "    }\n",
       "\n",
       "    .dataframe tbody tr th {\n",
       "        vertical-align: top;\n",
       "    }\n",
       "\n",
       "    .dataframe thead th {\n",
       "        text-align: right;\n",
       "    }\n",
       "</style>\n",
       "<table border=\"1\" class=\"dataframe\">\n",
       "  <thead>\n",
       "    <tr style=\"text-align: right;\">\n",
       "      <th></th>\n",
       "      <th>title</th>\n",
       "      <th>collection</th>\n",
       "    </tr>\n",
       "  </thead>\n",
       "  <tbody>\n",
       "    <tr>\n",
       "      <th>0</th>\n",
       "      <td>aDataManagerTicketExport</td>\n",
       "      <td>NaN</td>\n",
       "    </tr>\n",
       "  </tbody>\n",
       "</table>\n",
       "</div>"
      ],
      "text/plain": [
       "                      title  collection\n",
       "0  aDataManagerTicketExport         NaN"
      ]
     },
     "execution_count": 16,
     "metadata": {},
     "output_type": "execute_result"
    }
   ],
   "source": [
    "pd.read_xml(SQL)"
   ]
  },
  {
   "cell_type": "code",
   "execution_count": null,
   "id": "afd7d2bc",
   "metadata": {},
   "outputs": [],
   "source": []
  }
 ],
 "metadata": {
  "kernelspec": {
   "display_name": "Python 3",
   "language": "python",
   "name": "python3"
  },
  "language_info": {
   "codemirror_mode": {
    "name": "ipython",
    "version": 3
   },
   "file_extension": ".py",
   "mimetype": "text/x-python",
   "name": "python",
   "nbconvert_exporter": "python",
   "pygments_lexer": "ipython3",
   "version": "3.9.4"
  }
 },
 "nbformat": 4,
 "nbformat_minor": 5
}
