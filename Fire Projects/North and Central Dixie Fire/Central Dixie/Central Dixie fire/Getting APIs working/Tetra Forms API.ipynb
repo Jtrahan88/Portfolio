{
 "cells": [
  {
   "cell_type": "markdown",
   "id": "46895b6e",
   "metadata": {},
   "source": [
    "# Asbestos Tetra froms needed(Json Files):\n",
    "* Surveys url- https://tetraforms.iformbuilder.com/exzact/dataScoringJSON.php?PAGE_ID=3403470&TABLE_NAME=_data427110_df_sacm_fs_p\n",
    "* Abatments url- https://tetraforms.iformbuilder.com/exzact/dataScoringJSON.php?PAGE_ID=3403518&TABLE_NAME=_data427110_df_asb_clear_p\n",
    "* Chimney Tips url = https://tetraforms.iformbuilder.com/exzact/dataScoringJSON.php?PAGE_ID=3403491&TABLE_NAME=_data427110_df_chimney_tip_insp_p"
   ]
  },
  {
   "cell_type": "code",
   "execution_count": 1,
   "id": "1592d61d",
   "metadata": {},
   "outputs": [],
   "source": [
    "import pandas as pd\n",
    "import requests\n",
    "import json\n"
   ]
  },
  {
   "cell_type": "code",
   "execution_count": null,
   "id": "39dd7837",
   "metadata": {},
   "outputs": [],
   "source": []
  }
 ],
 "metadata": {
  "kernelspec": {
   "display_name": "Python 3",
   "language": "python",
   "name": "python3"
  },
  "language_info": {
   "codemirror_mode": {
    "name": "ipython",
    "version": 3
   },
   "file_extension": ".py",
   "mimetype": "text/x-python",
   "name": "python",
   "nbconvert_exporter": "python",
   "pygments_lexer": "ipython3",
   "version": "3.9.4"
  }
 },
 "nbformat": 4,
 "nbformat_minor": 5
}
