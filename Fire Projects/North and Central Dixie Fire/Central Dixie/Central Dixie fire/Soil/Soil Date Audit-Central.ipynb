{
 "cells": [
  {
   "cell_type": "markdown",
   "id": "9b152583",
   "metadata": {},
   "source": [
    "# Soil Audits\n",
    "### Outputs\n",
    "* Mismatches between dates in Smart Shseets and Soil tracker(Share Point)\n",
    "* Duplicate APNs-soil only"
   ]
  },
  {
   "cell_type": "code",
   "execution_count": 33,
   "id": "167f2355",
   "metadata": {},
   "outputs": [],
   "source": [
    "import pandas as pd\n",
    "import os\n",
    "import glob\n",
    "import numpy as np\n",
    "import datetime as dt"
   ]
  },
  {
   "cell_type": "code",
   "execution_count": 34,
   "id": "e8cdfcca",
   "metadata": {},
   "outputs": [],
   "source": [
    "# smart Sheets\n",
    "path1 = r\"C:\\Users\\jacque.trahan\\Downloads\\Central Division 2021 Debris Removal Tracker*\"\n",
    "file_type1 =\".xlsx\"\n",
    "loadit1 = glob.glob(path1 + file_type1)\n",
    "df1 = pd.read_excel(max(loadit1, key=os.path.getctime))"
   ]
  },
  {
   "cell_type": "code",
   "execution_count": 35,
   "id": "f6edd33d",
   "metadata": {},
   "outputs": [],
   "source": [
    "# Soil Share Point\n",
    "path2 = r\"C:\\Users\\jacque.trahan\\Downloads\\Soil Sampling Tracker*\"\n",
    "file_type2 = \".csv\"\n",
    "loadit2 = glob.glob(path2 + file_type2)\n",
    "df2 = pd.read_csv(max(loadit2, key=os.path.getctime))"
   ]
  },
  {
   "cell_type": "code",
   "execution_count": 36,
   "id": "7cf78404",
   "metadata": {},
   "outputs": [],
   "source": [
    "smart_sheets = df1.copy()\n",
    "# smart_sheets.columns = map(str.upper, smart_sheets.columns)\n",
    "smart_sheets = smart_sheets[['APN_ROW Segment','Street #','Street Name','Structural Status','County', 'Soil Sample', 'Soil Sample Results Rec\\'d from Lab',\n",
    "                             'Division']]\n",
    "smart_sheets = smart_sheets[smart_sheets['Division'].isin(['Central Division'])]\n",
    "\n",
    "smart_sheets.rename(columns={'Soil Sample':'Soil Sample_SS'}, inplace=True)"
   ]
  },
  {
   "cell_type": "code",
   "execution_count": 37,
   "id": "1f507167",
   "metadata": {},
   "outputs": [],
   "source": [
    "soil = df2.copy()\n",
    "soil = soil[['APN', 'Street Number','Street Name', 'County', 'Date Collected','Date Shipped', 'Date Lab Recd', 'Date Results Recd', 'Division']]\n",
    "soil = soil[soil['Division'].isin(['Central Division'])]"
   ]
  },
  {
   "cell_type": "code",
   "execution_count": 8,
   "id": "22dac409",
   "metadata": {},
   "outputs": [],
   "source": [
    "def compare(final, comp1, comp2):\n",
    "    if final[comp1] == final[comp2]:\n",
    "        return 1\n",
    "    else:\n",
    "        return 0"
   ]
  },
  {
   "cell_type": "code",
   "execution_count": 9,
   "id": "5f955938",
   "metadata": {},
   "outputs": [],
   "source": [
    "final = smart_sheets.merge(soil,\n",
    "                          left_on='APN_ROW Segment',\n",
    "                          right_on=\"APN\",\n",
    "                          how=\"outer\",\n",
    "                          suffixes=(\"_SS\",\"_SOIL\"))\n",
    "final = final[['APN_ROW Segment','APN', 'Street #','Street Name','Structural Status','County', 'Soil Sample_SS',\n",
    "               'Date Collected','Date Shipped','Date Lab Recd', 'Date Results Recd', 'Division_SS' ]]"
   ]
  },
  {
   "cell_type": "code",
   "execution_count": 10,
   "id": "e3313644",
   "metadata": {},
   "outputs": [],
   "source": [
    "final['Date Collected'] = pd.to_datetime(final['Date Collected']).dt.date.fillna(0)\n",
    "final['Soil Sample_SS'] = pd.to_datetime(final['Soil Sample_SS']).dt.date.fillna(0)\n",
    "final['Date Shipped']  = pd.to_datetime(final['Date Shipped'])\n",
    "final['Date Results Recd']  = pd.to_datetime(final['Date Results Recd'])"
   ]
  },
  {
   "cell_type": "code",
   "execution_count": 11,
   "id": "45e2280d",
   "metadata": {},
   "outputs": [],
   "source": [
    "this will compare the date columns\n",
    "final.insert(final.columns.get_loc('Date Collected')+1, \"Matches\",\n",
    "            final.apply(compare, comp1='Soil Sample_SS', comp2='Date Collected', axis=1))"
   ]
  },
  {
   "cell_type": "code",
   "execution_count": 12,
   "id": "8785f039",
   "metadata": {},
   "outputs": [],
   "source": [
    "final_style = final.style.set_properties(**{'background-color': 'lightblue'},\n",
    "                                        subset=['Matches'])"
   ]
  },
  {
   "cell_type": "markdown",
   "id": "9e27f4fd",
   "metadata": {},
   "source": [
    "# Duplicate APNs"
   ]
  },
  {
   "cell_type": "code",
   "execution_count": 15,
   "id": "14a5286f",
   "metadata": {},
   "outputs": [],
   "source": [
    "# df2['APN'].value_counts().to_excel('Share Point Duplicate APNS Soil Central.xlsx')"
   ]
  },
  {
   "cell_type": "code",
   "execution_count": null,
   "id": "ef019f4d",
   "metadata": {},
   "outputs": [],
   "source": []
  }
 ],
 "metadata": {
  "kernelspec": {
   "display_name": "Python 3",
   "language": "python",
   "name": "python3"
  },
  "language_info": {
   "codemirror_mode": {
    "name": "ipython",
    "version": 3
   },
   "file_extension": ".py",
   "mimetype": "text/x-python",
   "name": "python",
   "nbconvert_exporter": "python",
   "pygments_lexer": "ipython3",
   "version": "3.9.4"
  }
 },
 "nbformat": 4,
 "nbformat_minor": 5
}
