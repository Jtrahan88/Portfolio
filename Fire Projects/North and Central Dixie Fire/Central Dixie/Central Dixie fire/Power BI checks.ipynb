{
 "cells": [
  {
   "cell_type": "markdown",
   "id": "dfac4bbd",
   "metadata": {},
   "source": [
    "# Over view for central and South keep seperate\n",
    "* Check Roe Varified "
   ]
  },
  {
   "cell_type": "code",
   "execution_count": 1,
   "id": "44e162d0",
   "metadata": {},
   "outputs": [],
   "source": [
    "import pandas as pd\n",
    "import glob\n",
    "import os"
   ]
  },
  {
   "cell_type": "markdown",
   "id": "1f969467",
   "metadata": {},
   "source": [
    "### Variable"
   ]
  },
  {
   "cell_type": "code",
   "execution_count": 2,
   "id": "6ed6b606",
   "metadata": {},
   "outputs": [],
   "source": [
    "excel = 'xlsx'\n",
    "csv = 'csv'"
   ]
  },
  {
   "cell_type": "code",
   "execution_count": 4,
   "id": "2bb07ee8",
   "metadata": {},
   "outputs": [],
   "source": [
    "central_path = r\"C:\\Users\\jacque.trahan\\Downloads\\Central Division 2021 Debris Removal Tracker*\"\n",
    "load_cen = glob.glob(central_path + excel)\n",
    "df_c = pd.read_excel(max(load_cen, key=os.path.getctime))"
   ]
  },
  {
   "cell_type": "code",
   "execution_count": 22,
   "id": "15a92c4b",
   "metadata": {},
   "outputs": [],
   "source": [
    "# Just to get \"N/A\" as a string for USFS parcels\n",
    "central_path_na = r\"C:\\Users\\jacque.trahan\\Downloads\\Central Division 2021 Debris Removal Tracker*\"\n",
    "load_cen_na = glob.glob(central_path_na + excel)\n",
    "df_c_na = pd.read_excel(max(load_cen_na, key=os.path.getctime), keep_default_na=False)\n",
    "df_c_na.rename(columns={'USFS Parcel?': 'USFS Parcel?_replacement'}, inplace=True)\n",
    "df_c_na = df_c_na[['APN_ROW Segment', 'USFS Parcel?_replacement']]"
   ]
  },
  {
   "cell_type": "code",
   "execution_count": 26,
   "id": "d87775a2",
   "metadata": {},
   "outputs": [],
   "source": [
    "# Merge just the APN and 'USFS Parcel?' columns\n",
    "cen = df_c.merge(df_c_na,\n",
    "                        how='outer',\n",
    "                        left_on='APN_ROW Segment',\n",
    "                        right_on='APN_ROW Segment')"
   ]
  },
  {
   "cell_type": "code",
   "execution_count": 8,
   "id": "206acbf2",
   "metadata": {},
   "outputs": [],
   "source": [
    "south_path = r\"C:\\Users\\jacque.trahan\\Downloads\\South Central Division 2021 Debris Removal Tracker*\"\n",
    "load_south = glob.glob(south_path + excel)\n",
    "df_s = pd.read_excel(max(load_south, key=os.path.getctime))"
   ]
  },
  {
   "cell_type": "code",
   "execution_count": 57,
   "id": "19b16514",
   "metadata": {
    "scrolled": true
   },
   "outputs": [],
   "source": [
    "# Just to get \"N/A\" as a string for USFS parcels\n",
    "south_path_na = r\"C:\\Users\\jacque.trahan\\Downloads\\South Central Division 2021 Debris Removal Tracker*\"\n",
    "load_south_na = glob.glob(south_path_na + excel)\n",
    "df_sna = pd.read_excel(max(load_south_na, key=os.path.getctime), keep_default_na=False)\n",
    "df_sna.rename(columns={'USFS Parcel?': 'USFS Parcel?_replacement'}, inplace=True)\n",
    "df_sna = df_sna[['APN_ROW Segment', 'USFS Parcel?_replacement']]"
   ]
  },
  {
   "cell_type": "code",
   "execution_count": 58,
   "id": "81d4838e",
   "metadata": {},
   "outputs": [],
   "source": [
    "# Merge just the APN and 'USFS Parcel?' columns\n",
    "sou = df_s.merge(df_sna,\n",
    "                        how='outer',\n",
    "                        left_on='APN_ROW Segment',\n",
    "                        right_on='APN_ROW Segment')"
   ]
  },
  {
   "cell_type": "code",
   "execution_count": 63,
   "id": "1d3631c6",
   "metadata": {},
   "outputs": [],
   "source": [
    "central = cen.copy()\n",
    "south = sou.copy()"
   ]
  },
  {
   "cell_type": "markdown",
   "id": "7d767ade",
   "metadata": {},
   "source": [
    "# Verify the ROE counts"
   ]
  },
  {
   "cell_type": "code",
   "execution_count": 12,
   "id": "ea77a443",
   "metadata": {},
   "outputs": [
    {
     "data": {
      "text/plain": [
       "982"
      ]
     },
     "execution_count": 12,
     "metadata": {},
     "output_type": "execute_result"
    }
   ],
   "source": [
    "# Verify the ROE counts - central\n",
    "len(central[(central['ROE Verified'] == 'ROE Verified')])"
   ]
  },
  {
   "cell_type": "code",
   "execution_count": 13,
   "id": "ab597ed6",
   "metadata": {},
   "outputs": [
    {
     "data": {
      "text/plain": [
       "47"
      ]
     },
     "execution_count": 13,
     "metadata": {},
     "output_type": "execute_result"
    }
   ],
   "source": [
    "# Verify the ROE counts - South\n",
    "len(south[(south['ROE Verified'] == 'ROE Verified')])"
   ]
  },
  {
   "cell_type": "markdown",
   "id": "cfdbf7f3",
   "metadata": {},
   "source": [
    "# SA Counts"
   ]
  },
  {
   "cell_type": "markdown",
   "id": "bfe87130",
   "metadata": {},
   "source": [
    "## Roes available for SSF Teams"
   ]
  },
  {
   "cell_type": "code",
   "execution_count": 50,
   "id": "2f0eceec",
   "metadata": {},
   "outputs": [
    {
     "data": {
      "text/plain": [
       "17"
      ]
     },
     "execution_count": 50,
     "metadata": {},
     "output_type": "execute_result"
    }
   ],
   "source": [
    "# Central\n",
    "len(central[(central['ROE Verified'] == 'ROE Verified') &\n",
    "            (central['Site Assessment'].isnull())&\n",
    "           (central['Hold'] != True) &\n",
    "           (central['USFS Parcel?_replacement'] == \"N/A\") &\n",
    "           (central['Not Eligible'].isnull()) &\n",
    "           (central['Withdrawal'].isnull()) &\n",
    "           (central['Phase 1 Complete'] == 'Yes')])"
   ]
  },
  {
   "cell_type": "code",
   "execution_count": 65,
   "id": "8075333d",
   "metadata": {},
   "outputs": [
    {
     "data": {
      "text/plain": [
       "10"
      ]
     },
     "execution_count": 65,
     "metadata": {},
     "output_type": "execute_result"
    }
   ],
   "source": [
    "len(south[(south['ROE Verified'] == 'ROE Verified') &\n",
    "            (south['Site Assessment'].isnull()) &\n",
    "           (south['Hold'] != True) &\n",
    "           (south['USFS Parcel?_replacement'] == \"N/A\") &\n",
    "           (south['Not Eligible'].isnull()) &\n",
    "           (south['Withdrawal'].isnull()) &\n",
    "           (south['Phase 1 Complete'] == 'Yes')])"
   ]
  },
  {
   "cell_type": "code",
   "execution_count": null,
   "id": "2d265bfb",
   "metadata": {},
   "outputs": [],
   "source": []
  }
 ],
 "metadata": {
  "kernelspec": {
   "display_name": "Python 3",
   "language": "python",
   "name": "python3"
  },
  "language_info": {
   "codemirror_mode": {
    "name": "ipython",
    "version": 3
   },
   "file_extension": ".py",
   "mimetype": "text/x-python",
   "name": "python",
   "nbconvert_exporter": "python",
   "pygments_lexer": "ipython3",
   "version": "3.9.4"
  }
 },
 "nbformat": 4,
 "nbformat_minor": 5
}
