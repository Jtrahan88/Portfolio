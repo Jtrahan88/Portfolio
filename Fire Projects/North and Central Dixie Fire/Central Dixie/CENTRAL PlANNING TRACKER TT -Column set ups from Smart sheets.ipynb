{
 "cells": [
  {
   "cell_type": "code",
   "execution_count": 1,
   "id": "a12085a2",
   "metadata": {},
   "outputs": [],
   "source": [
    "import pandas as pd"
   ]
  },
  {
   "cell_type": "code",
   "execution_count": 4,
   "id": "b68635be",
   "metadata": {},
   "outputs": [],
   "source": [
    "df = pd.read_excel('Central Branch  trackers/Central Division 2021 Debris Removal Tracker.xlsx', parse_dates=True)"
   ]
  },
  {
   "cell_type": "markdown",
   "id": "c951c49d",
   "metadata": {},
   "source": [
    "# CENTRAL PLANNING TRACKER TT"
   ]
  },
  {
   "cell_type": "code",
   "execution_count": 5,
   "id": "10829037",
   "metadata": {},
   "outputs": [],
   "source": [
    "# APN_ROW Segment\tStreet #\tStreet Name\tCity\tCounty\tTotal Number of Vehicles"
   ]
  },
  {
   "cell_type": "code",
   "execution_count": 6,
   "id": "cc5a5bb1",
   "metadata": {},
   "outputs": [],
   "source": [
    "central_planning = df[['APN_ROW Segment', 'Street #', 'Street Name', 'City', 'County', 'Total Number of Vehicles']]"
   ]
  },
  {
   "cell_type": "code",
   "execution_count": null,
   "id": "0b3a2c95",
   "metadata": {},
   "outputs": [],
   "source": [
    "central_planning.SET_INDEX(''APN_ROW Segment'')"
   ]
  },
  {
   "cell_type": "code",
   "execution_count": 7,
   "id": "04cafd0f",
   "metadata": {},
   "outputs": [],
   "source": [
    "central_planning.to_excel('CENTRAL PLANNING TRACKER TT Columns.xlsx')"
   ]
  },
  {
   "cell_type": "code",
   "execution_count": null,
   "id": "39857cf1",
   "metadata": {},
   "outputs": [],
   "source": []
  }
 ],
 "metadata": {
  "kernelspec": {
   "display_name": "Python 3",
   "language": "python",
   "name": "python3"
  },
  "language_info": {
   "codemirror_mode": {
    "name": "ipython",
    "version": 3
   },
   "file_extension": ".py",
   "mimetype": "text/x-python",
   "name": "python",
   "nbconvert_exporter": "python",
   "pygments_lexer": "ipython3",
   "version": "3.9.4"
  }
 },
 "nbformat": 4,
 "nbformat_minor": 5
}
