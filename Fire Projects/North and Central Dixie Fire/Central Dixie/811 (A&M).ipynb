{
 "cells": [
  {
   "cell_type": "markdown",
   "id": "7145d232",
   "metadata": {},
   "source": [
    "# 811s\n",
    "### outputs\n",
    "* Marked as completed in smart sheets\n",
    "* Marked as not completed in smart sheets"
   ]
  },
  {
   "cell_type": "code",
   "execution_count": 1,
   "id": "bdc81459",
   "metadata": {},
   "outputs": [],
   "source": [
    "import pandas as pd\n",
    "import os\n",
    "import glob\n",
    "import numpy as np"
   ]
  },
  {
   "cell_type": "code",
   "execution_count": 2,
   "id": "45620ab4",
   "metadata": {},
   "outputs": [],
   "source": [
    "path = r\"C:\\Users\\jacque.trahan\\Downloads\\Central Division 2021 Debris Removal Tracker*\"\n",
    "file_type = \".xlsx\"\n",
    "load_it = glob.glob(path + file_type)\n",
    "df = pd.read_excel(max(load_it, key=os.path.getctime))"
   ]
  },
  {
   "cell_type": "code",
   "execution_count": 3,
   "id": "d7779040",
   "metadata": {},
   "outputs": [],
   "source": [
    "checks = df.copy()"
   ]
  },
  {
   "cell_type": "code",
   "execution_count": 4,
   "id": "7c656fdf",
   "metadata": {},
   "outputs": [],
   "source": [
    "# set up \n",
    "checks_811s = checks[['APN_ROW Segment','Street #', 'Street Name', 'County','811 Called (A&M)',\n",
    "                      'Site Assessment', \"Debris Crew\", \"Not Eligible\", 'Withdrawal']]\n",
    "checks_811s = checks_811s[(checks_811s['Not Eligible'].isnull()) & (checks_811s['Withdrawal'].isnull())]\n",
    "checks_811s = checks_811s.copy()\n",
    "checks_811s['811 Called (A&M)'].fillna(0, inplace=True)"
   ]
  },
  {
   "cell_type": "code",
   "execution_count": 5,
   "id": "e2adcd14",
   "metadata": {},
   "outputs": [],
   "source": [
    "# need to replace floats with what is means\n",
    "checks_811s.replace(1.0, \"Complete\", inplace=True)\n",
    "checks_811s.replace(0.0, \"Not done\", inplace=True)"
   ]
  },
  {
   "cell_type": "code",
   "execution_count": 6,
   "id": "dec7cd5a",
   "metadata": {},
   "outputs": [],
   "source": [
    "# set up our df for each catagory\n",
    "checks_811s_notdone = checks_811s[(checks_811s['811 Called (A&M)'] == \"Not done\")]\n",
    "checks_811s_complete= checks_811s[(checks_811s['811 Called (A&M)']==\"Complete\")] \n",
    "\n",
    "\n",
    "# output for excles\n",
    "checks_811s_notdone.to_excel(\"811s (A&M) Not completed.xlsx\")\n",
    "checks_811s_complete.to_excel(\"811s (A&M) completed.xlsx\")"
   ]
  }
 ],
 "metadata": {
  "kernelspec": {
   "display_name": "Python 3",
   "language": "python",
   "name": "python3"
  },
  "language_info": {
   "codemirror_mode": {
    "name": "ipython",
    "version": 3
   },
   "file_extension": ".py",
   "mimetype": "text/x-python",
   "name": "python",
   "nbconvert_exporter": "python",
   "pygments_lexer": "ipython3",
   "version": "3.9.4"
  }
 },
 "nbformat": 4,
 "nbformat_minor": 5
}
