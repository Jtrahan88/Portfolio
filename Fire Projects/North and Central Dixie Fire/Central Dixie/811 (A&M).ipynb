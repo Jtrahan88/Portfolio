{
 "cells": [
  {
   "cell_type": "markdown",
   "id": "7145d232",
   "metadata": {},
   "source": [
    "# 811s A&M\n",
    "### outputs\n",
    "* Gets both smartsheets and combines them - Named: To add more APNs.xlsx\n",
    "* Gets the vlookup for the 811 A&M tracker - Named: SmartSheets Data-811 vlookups"
   ]
  },
  {
   "cell_type": "code",
   "execution_count": 9,
   "id": "bdc81459",
   "metadata": {},
   "outputs": [],
   "source": [
    "#libraies:\n",
    "import pandas as pd\n",
    "import numpy as np\n",
    "import smartsheet\n",
    "import glob\n",
    "import os\n",
    "\n",
    "#Variables\n",
    "# random\n",
    "excel = '.xlsx'\n",
    "csv = '.csv'\n",
    "\n",
    "# smartsheets Shet IDs\n",
    "Central_id = '1844440261257092'\n",
    "South_id= '6292262490531716'\n",
    "\n",
    "# Central's API\n",
    "Central = smartsheet.Smartsheet('6jJFxnAfFsDErU0BSr1Ae4D6cHq0zenczVR12') #API\n",
    "\n",
    "Central.errors_as_exceptions(True)\n",
    "\n",
    "# Central's API\n",
    "South = smartsheet.Smartsheet(\"H8mqAo60J2zGHSrJEwmlMoY88A9yjgCo6RnSI\") # API\n",
    "South.errors_as_exceptions(True)\n",
    "\n",
    "#download smartsheets to any folder you need\n",
    "# Central.Sheets.get_sheet_as_excel(Central_id, download_path=r\"C:\\Users\\jacque.trahan\\Downloads\")\n",
    "# South.Sheets.get_sheet_as_excel(South_id, download_path=r\"C:\\Users\\jacque.trahan\\Downloads\") \n",
    "\n",
    "\n",
    "#Google Sheets\n",
    "#Sheet ID comes right after /d/ in the URL\n",
    "Google_sheet_ID= '1O2dmdhEo5hJVAgRVDl4M4n3_v-KqHS56q3OZVdpZANU'\n",
    "# name of tab you want to use\n",
    "Google_sheets_name = 'Tree RTR Tracker'\n",
    "\n",
    "# this is tricky. after /export? we must put format=csv#id={Sheet Name}   -> manually to make this work\n",
    "url = f'https://docs.google.com/spreadsheets/d/{Google_sheet_ID}/export?format=csv#id={Google_sheets_name}'\n",
    "\n",
    "# Function to read in column titles and row vales and make out data frames\n",
    "def smartsheet_loadup(sheet):\n",
    "    columns = [col.title for col in sheet.columns]\n",
    "    rows = []\n",
    "    for row in sheet.rows:\n",
    "        cells = []\n",
    "        for cell in row.cells:\n",
    "            cells.append(cell.value)\n",
    "        rows.append(cells)\n",
    "    df = pd.DataFrame(rows, columns=columns)\n",
    "    return df\n",
    "\n",
    "Central_SS = smartsheet_loadup(Central.Sheets.get_sheet(Central_id))\n",
    "South_SS = smartsheet_loadup(South.Sheets.get_sheet(South_id))\n",
    "\n",
    "combined = pd.concat([Central_SS,South_SS])"
   ]
  },
  {
   "cell_type": "markdown",
   "id": "0c283211",
   "metadata": {},
   "source": [
    "# imporved Smart sheets load in above.\n",
    "### code below no longer in use"
   ]
  },
  {
   "cell_type": "code",
   "execution_count": 10,
   "id": "45620ab4",
   "metadata": {},
   "outputs": [],
   "source": [
    "# path = r\"C:\\Users\\jacque.trahan\\Downloads\\Central Division 2021 Debris Removal Tracker*\"\n",
    "# file_type = \".xlsx\"\n",
    "# load_it = glob.glob(path + file_type)\n",
    "# df = pd.read_excel(max(load_it, key=os.path.getctime))"
   ]
  },
  {
   "cell_type": "code",
   "execution_count": 11,
   "id": "03f1630d",
   "metadata": {},
   "outputs": [],
   "source": [
    "# path2 = r\"C:\\Users\\jacque.trahan\\Downloads\\South Central Division 2021 Debris Removal Tracker*\"\n",
    "# loadit2 = glob.glob(path2 + file_type)\n",
    "# df2 = pd.read_excel(max(loadit2, key=os.path.getctime))"
   ]
  },
  {
   "cell_type": "code",
   "execution_count": 12,
   "id": "0abf75fe",
   "metadata": {},
   "outputs": [],
   "source": [
    "# combined = pd.concat([df, df2])"
   ]
  },
  {
   "cell_type": "code",
   "execution_count": 13,
   "id": "2b1d57e6",
   "metadata": {},
   "outputs": [],
   "source": [
    "# erosion = combined.copy()\n",
    "# erosion = erosion[['APN_ROW Segment','Street #', 'Street Name', 'County',\n",
    "#                   'Debris Crew', 'Nesting Bird Survey Date']]\n",
    "\n",
    "# erosion[(erosion['Debris Crew'] == 'Erosion Control') & (erosion['Nesting Bird Survey Date'].isnull())].to_excel('Erosion no bird survey.xlsx')"
   ]
  },
  {
   "cell_type": "code",
   "execution_count": 14,
   "id": "5c11c549",
   "metadata": {},
   "outputs": [],
   "source": [
    "# combined['Debris Crew'].value_counts()"
   ]
  },
  {
   "cell_type": "code",
   "execution_count": 15,
   "id": "317d30c2",
   "metadata": {},
   "outputs": [],
   "source": [
    "combined = combined[(~combined['APN_ROW Segment'].isnull())]\n",
    "\n",
    "combined.to_excel(\"To add more APNs.xlsx\")"
   ]
  },
  {
   "cell_type": "markdown",
   "id": "439724b6",
   "metadata": {},
   "source": [
    "# RTR ticket date"
   ]
  },
  {
   "cell_type": "code",
   "execution_count": 17,
   "id": "7ee0b850",
   "metadata": {},
   "outputs": [],
   "source": [
    "path = r\"C:\\Users\\jacque.trahan\\Downloads\\aDataManagerTicketExport*\"\n",
    "load_rtr = glob.glob(path+excel)\n",
    "df_RTR = pd.read_excel(max(load_rtr, key=os.path.getctime))\n",
    "\n",
    "df_RTR['Zone Name'] = df_RTR['Zone Name'].str[:3] + \"-\" + df_RTR['Zone Name'].str[3:6] + \"-\" + df_RTR['Zone Name'].str[6:]\n",
    "df_RTR['Service Code'] = df_RTR['Service Code'].str.strip()"
   ]
  },
  {
   "cell_type": "code",
   "execution_count": 18,
   "id": "e4bfd4fb",
   "metadata": {},
   "outputs": [],
   "source": [
    "#RTR data set up\n",
    "sign = df_RTR.copy()\n",
    "sign = sign[['Zone Name','Is Void', 'GIS Zone1', 'Service Code', 'Unit Count','Ticket Number', 'GPSNorth', 'GPSWest', 'End Time']]\n",
    "sign = sign[(sign['Service Code'].isin([\"67A\"])) & ~(sign['GIS Zone1'].isin(['NORTHERN DIVISION'])) & (sign['Is Void']== False)]\n"
   ]
  },
  {
   "cell_type": "markdown",
   "id": "6b8827ae",
   "metadata": {},
   "source": [
    "# For 811 A&M Central Tracker vlookups"
   ]
  },
  {
   "cell_type": "code",
   "execution_count": 19,
   "id": "22505749",
   "metadata": {},
   "outputs": [],
   "source": [
    "vlook_811 = combined[['APN_ROW Segment','Street #', 'Street Name', 'County','811 Called (A&M)', 'Structural Status']].copy()\n",
    "vlook_811['811 Called (A&M)'] = np.where(vlook_811['811 Called (A&M)'] == 1, \"Completed\", \"Incomplete\")\n",
    "vlook_811 = vlook_811[~(vlook_811['APN_ROW Segment'].isnull())] # takes out blank APN rows\n"
   ]
  },
  {
   "cell_type": "markdown",
   "id": "8d6248ef",
   "metadata": {},
   "source": [
    "# Mergre RTR and SS"
   ]
  },
  {
   "cell_type": "code",
   "execution_count": 20,
   "id": "b7d69b51",
   "metadata": {},
   "outputs": [],
   "source": [
    "final = vlook_811.merge(sign,\n",
    "                       left_on='APN_ROW Segment',\n",
    "                       right_on='Zone Name',\n",
    "                       how='outer')\n",
    "\n",
    "final = final[['APN_ROW Segment','Street #', 'Street Name', 'County','811 Called (A&M)', 'Structural Status',\n",
    "              'Ticket Number', 'GPSNorth', 'GPSWest', 'End Time','GIS Zone1',]]"
   ]
  },
  {
   "cell_type": "code",
   "execution_count": 21,
   "id": "33591104",
   "metadata": {},
   "outputs": [],
   "source": [
    "# this will up date the 811 A&M vlookup tracker\n",
    "final.set_index('APN_ROW Segment', inplace=True)\n",
    "final.to_excel('SmartSheets Data-811 vlookups.xlsx')"
   ]
  },
  {
   "cell_type": "code",
   "execution_count": null,
   "id": "0476973a",
   "metadata": {},
   "outputs": [],
   "source": []
  },
  {
   "cell_type": "code",
   "execution_count": null,
   "id": "0172d5c0",
   "metadata": {},
   "outputs": [],
   "source": []
  }
 ],
 "metadata": {
  "kernelspec": {
   "display_name": "Python 3",
   "language": "python",
   "name": "python3"
  },
  "language_info": {
   "codemirror_mode": {
    "name": "ipython",
    "version": 3
   },
   "file_extension": ".py",
   "mimetype": "text/x-python",
   "name": "python",
   "nbconvert_exporter": "python",
   "pygments_lexer": "ipython3",
   "version": "3.9.4"
  }
 },
 "nbformat": 4,
 "nbformat_minor": 5
}
