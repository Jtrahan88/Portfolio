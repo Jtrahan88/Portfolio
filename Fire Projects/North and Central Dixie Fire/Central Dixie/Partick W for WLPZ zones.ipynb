{
 "cells": [
  {
   "cell_type": "code",
   "execution_count": 1,
   "id": "df12e1c7",
   "metadata": {},
   "outputs": [],
   "source": [
    "import pandas as pd\n",
    "import os\n",
    "import glob\n",
    "import numpy as np"
   ]
  },
  {
   "cell_type": "code",
   "execution_count": 2,
   "id": "b1381e58",
   "metadata": {},
   "outputs": [],
   "source": [
    "path2 = r\"C:\\Users\\jacque.trahan\\Downloads\\Central Division 2021 Debris Removal Tracker*\"\n",
    "file_type2 = \".xlsx\"\n",
    "load2 = glob.glob(path2 + file_type2)\n",
    "df2 = pd.read_excel(max(load2, key=os.path.getctime))"
   ]
  },
  {
   "cell_type": "markdown",
   "id": "27e0ce54",
   "metadata": {},
   "source": [
    "# WLPZ zones assessed and whats left"
   ]
  },
  {
   "cell_type": "markdown",
   "id": "0eaa7df3",
   "metadata": {},
   "source": [
    "### Central"
   ]
  },
  {
   "cell_type": "code",
   "execution_count": null,
   "id": "8c30dd01",
   "metadata": {},
   "outputs": [],
   "source": [
    "ss_c = df2.copy()\n",
    "ss_c = ss_c[(ss_c['Withdrawal'].isna()) & (ss_c['Not Eligible'].isna())]\n",
    "ss_c = ss_c[['APN_ROW Segment','Street #', 'Street Name', 'County', 'WLPZ Zone?','Division', 'Withdrawal', 'Not Eligible']]\n",
    "WLPZ_done_c = ss_c[(ss_c['WLPZ Zone?'].notna())]\n",
    "WLPZ_NotDone_c = ss_c[ss_c['WLPZ Zone?'].isna()]\n",
    "WLPZ_NotDone_c['WLPZ Zone?'].fillna(1, inplace=True)\n"
   ]
  },
  {
   "cell_type": "code",
   "execution_count": 4,
   "id": "2983b8db",
   "metadata": {},
   "outputs": [],
   "source": [
    "final = WLPZ_done_c.merge(WLPZ_NotDone_c,\n",
    "                       left_on=\"APN_ROW Segment\",\n",
    "                       right_on=\"APN_ROW Segment\",\n",
    "                        how=\"outer\",\n",
    "                       suffixes=(\"_Done\", \"_Not Done\")).to_excel(\"WLPZ Summary Central Dixie.xlsx\")"
   ]
  },
  {
   "cell_type": "markdown",
   "id": "0343f1ef",
   "metadata": {},
   "source": [
    "###  Northern "
   ]
  },
  {
   "cell_type": "code",
   "execution_count": 6,
   "id": "8c715376",
   "metadata": {},
   "outputs": [],
   "source": [
    "path3 = r\"C:\\Users\\jacque.trahan\\Downloads\\BOP_North Div 2021 Debris Removal Tracker*\"\n",
    "file_type3 = \".xlsx\"\n",
    "load3 = glob.glob(path3 + file_type3)\n",
    "df3 = pd.read_excel(max(load3, key=os.path.getctime))"
   ]
  },
  {
   "cell_type": "code",
   "execution_count": 7,
   "id": "84211262",
   "metadata": {},
   "outputs": [],
   "source": [
    "ss_n = df3.copy()\n",
    "ss_n = ss_n[['APN_ROW Segment','Street #', 'Street Name', 'County', 'WLPZ Zone?','Division','Withdrawal', 'Not Eligible']]\n",
    "WLPZ_done_n = ss_n[ss_n['WLPZ Zone?'].notna() & (ss_n['Withdrawal'].isna()) & (ss_n['Not Eligible'].isna())]\n",
    "WLPZ_NotDone_n = ss_n[ss_n['WLPZ Zone?'].isna() & (ss_n['Withdrawal'].isna()) & (ss_n['Not Eligible'].isna())]\n",
    "WLPZ_NotDone_n['WLPZ Zone?'].fillna(1, inplace=True)\n"
   ]
  },
  {
   "cell_type": "code",
   "execution_count": 8,
   "id": "a1a79cc9",
   "metadata": {},
   "outputs": [],
   "source": [
    "final = WLPZ_done_n.merge(WLPZ_NotDone_n,\n",
    "                       left_on=\"APN_ROW Segment\",\n",
    "                       right_on=\"APN_ROW Segment\",\n",
    "                        how=\"outer\",\n",
    "                       suffixes=(\"_Done\", \"_Not Done\")).to_excel(\"WLPZ Summary-Northern Dixie.xlsx\")"
   ]
  },
  {
   "cell_type": "code",
   "execution_count": null,
   "id": "d5ad5f55",
   "metadata": {},
   "outputs": [],
   "source": []
  }
 ],
 "metadata": {
  "kernelspec": {
   "display_name": "Python 3",
   "language": "python",
   "name": "python3"
  },
  "language_info": {
   "codemirror_mode": {
    "name": "ipython",
    "version": 3
   },
   "file_extension": ".py",
   "mimetype": "text/x-python",
   "name": "python",
   "nbconvert_exporter": "python",
   "pygments_lexer": "ipython3",
   "version": "3.9.4"
  }
 },
 "nbformat": 4,
 "nbformat_minor": 5
}
