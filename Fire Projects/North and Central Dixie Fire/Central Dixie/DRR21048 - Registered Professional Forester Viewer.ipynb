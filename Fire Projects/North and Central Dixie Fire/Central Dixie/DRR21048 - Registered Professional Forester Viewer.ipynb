{
 "cells": [
  {
   "cell_type": "code",
   "execution_count": 1,
   "id": "a1f0664a",
   "metadata": {},
   "outputs": [],
   "source": [
    "import pandas as pd\n",
    "import os\n",
    "import glob\n",
    "import numpy as np"
   ]
  },
  {
   "cell_type": "markdown",
   "id": "30c45118",
   "metadata": {},
   "source": [
    "# Match Smart Sheets to Power BI"
   ]
  },
  {
   "cell_type": "code",
   "execution_count": 2,
   "id": "3cc772d6",
   "metadata": {},
   "outputs": [],
   "source": [
    "# #DRR21048 - Registered Professional Forester Viewer\n",
    "path1 = r\"C:\\Users\\jacque.trahan\\Downloads\\Tree*\"\n",
    "file_type1 = \".csv\"\n",
    "load1 = glob.glob(path1 + file_type1)\n",
    "df1 = pd.read_csv(max(load1, key=os.path.getctime))"
   ]
  },
  {
   "cell_type": "code",
   "execution_count": 3,
   "id": "fd333bca",
   "metadata": {},
   "outputs": [],
   "source": [
    "tree = df1.copy()"
   ]
  },
  {
   "cell_type": "code",
   "execution_count": 4,
   "id": "00addff6",
   "metadata": {},
   "outputs": [],
   "source": [
    "# tree = tree[tree['County'].isin(['LAKE'])]"
   ]
  },
  {
   "cell_type": "code",
   "execution_count": 5,
   "id": "5a0f7658",
   "metadata": {
    "scrolled": true
   },
   "outputs": [],
   "source": [
    "tree = tree[tree['County'].isin(['EL DORADO', 'LAKE', 'NEVADA', 'PLACER', 'ALPINE'])]"
   ]
  },
  {
   "cell_type": "code",
   "execution_count": 6,
   "id": "c9b83a26",
   "metadata": {},
   "outputs": [],
   "source": [
    "path2 = r\"C:\\Users\\jacque.trahan\\Downloads\\Central Division 2021 Debris Removal Tracker*\"\n",
    "file_type2 = \".xlsx\"\n",
    "load2 = glob.glob(path2 + file_type2)\n",
    "df2 = pd.read_excel(max(load2, key=os.path.getctime))"
   ]
  },
  {
   "cell_type": "code",
   "execution_count": 14,
   "id": "8910dbdb",
   "metadata": {},
   "outputs": [],
   "source": [
    "ss = df2.copy()\n",
    "ss = ss[['APN_ROW Segment','Street #', 'Street Name', 'County', 'Haz Trees Assessment', 'WLPZ Zone?', 'In lieu practices?']]"
   ]
  },
  {
   "cell_type": "markdown",
   "id": "0cf9a3a6",
   "metadata": {},
   "source": [
    "# compare Registered Professional Forester Viewer"
   ]
  },
  {
   "cell_type": "code",
   "execution_count": 15,
   "id": "1eb83d9a",
   "metadata": {},
   "outputs": [],
   "source": [
    "def compare(df, comp1, comp2):\n",
    "    if df[comp1] == df[comp2]:\n",
    "        return \"Match\"\n",
    "    else:\n",
    "        return \"No Match\""
   ]
  },
  {
   "cell_type": "code",
   "execution_count": 16,
   "id": "d1d053f7",
   "metadata": {},
   "outputs": [],
   "source": [
    "final = ss.merge(tree,\n",
    "                left_on='APN_ROW Segment',\n",
    "                right_on='APN',\n",
    "                how='outer',\n",
    "                suffixes=('_SS', '_Tree'))"
   ]
  },
  {
   "cell_type": "code",
   "execution_count": 17,
   "id": "f1ac41e5",
   "metadata": {},
   "outputs": [],
   "source": [
    "final = final[['APN_ROW Segment','WLPZ Zone?_SS', 'WLPZ Zone?_Tree', \"In lieu practices?_SS\", \"In lieu practices?_Tree\", 'County_SS' ]]"
   ]
  },
  {
   "cell_type": "code",
   "execution_count": 18,
   "id": "7cb9db6d",
   "metadata": {},
   "outputs": [],
   "source": [
    "final.insert(final.columns.get_loc('WLPZ Zone?_Tree')+1, \"WLPZ_Match\",\n",
    "            final.apply(compare, comp1='WLPZ Zone?_SS', comp2='WLPZ Zone?_Tree', axis=1))"
   ]
  },
  {
   "cell_type": "code",
   "execution_count": 19,
   "id": "13e43ee2",
   "metadata": {},
   "outputs": [],
   "source": [
    "final.insert(final.columns.get_loc(\"In lieu practices?_Tree\")+1, 'In lieu practices?_Match',\n",
    "            final.apply(compare, comp1=\"In lieu practices?_SS\", comp2=\"In lieu practices?_Tree\", axis=1))"
   ]
  },
  {
   "cell_type": "code",
   "execution_count": 20,
   "id": "da90c350",
   "metadata": {},
   "outputs": [],
   "source": [
    "final_style = final.style.set_properties(**{'background-color': 'yellow'},\n",
    "                                        subset=[\"WLPZ_Match\", 'In lieu practices?_Match'])"
   ]
  },
  {
   "cell_type": "code",
   "execution_count": 21,
   "id": "a2982c06",
   "metadata": {},
   "outputs": [],
   "source": [
    "final_style.to_excel('DRR21048 - Registered Professional Forester Viewer - Central.xlsx')"
   ]
  },
  {
   "cell_type": "markdown",
   "id": "10e459c7",
   "metadata": {},
   "source": [
    "# PioParedes, Agustin\n",
    "tree counts"
   ]
  },
  {
   "cell_type": "code",
   "execution_count": 9,
   "id": "5d5e32b5",
   "metadata": {},
   "outputs": [],
   "source": [
    "# Agustin = df2.copy()\n",
    "# Agustin.groupby(['County'])['Number of Trees'].count()"
   ]
  },
  {
   "cell_type": "code",
   "execution_count": 10,
   "id": "c14d7335",
   "metadata": {},
   "outputs": [],
   "source": [
    "# Agustin.groupby(['County'])['Number of Trees'].sum()"
   ]
  },
  {
   "cell_type": "code",
   "execution_count": 15,
   "id": "5faab1ab",
   "metadata": {},
   "outputs": [],
   "source": [
    "# final = final[(final['WLPZ Zone?_SS'].isnull()) & (final['Haz Trees Assessment'].notnull())]"
   ]
  },
  {
   "cell_type": "code",
   "execution_count": 16,
   "id": "ecde62d4",
   "metadata": {},
   "outputs": [],
   "source": [
    "# final.fillna({'WLPZ Zone?_SS': \"0\",\n",
    "#              'WLPZ Zone?_Tree': \"0\",\n",
    "#              \"In lieu practices?_SS\":\"0\",\n",
    "#               \"In lieu practices?_Tree\": \"0\"}, inplace=True)"
   ]
  },
  {
   "cell_type": "markdown",
   "id": "8fb3b4e6",
   "metadata": {},
   "source": [
    "# WLPZ zones assessed and whats left"
   ]
  },
  {
   "cell_type": "markdown",
   "id": "a4e108f6",
   "metadata": {},
   "source": [
    "### Smart sheets only for now"
   ]
  },
  {
   "cell_type": "code",
   "execution_count": 21,
   "id": "afdfe5e5",
   "metadata": {},
   "outputs": [],
   "source": [
    "# df2.info(verbose=True)"
   ]
  },
  {
   "cell_type": "markdown",
   "id": "d672eb6a",
   "metadata": {},
   "source": [
    "### Central"
   ]
  },
  {
   "cell_type": "code",
   "execution_count": 22,
   "id": "77975954",
   "metadata": {},
   "outputs": [
    {
     "name": "stderr",
     "output_type": "stream",
     "text": [
      "C:\\Users\\jacque.trahan\\AppData\\Roaming\\Python\\Python39\\site-packages\\pandas\\core\\series.py:4463: SettingWithCopyWarning: \n",
      "A value is trying to be set on a copy of a slice from a DataFrame\n",
      "\n",
      "See the caveats in the documentation: https://pandas.pydata.org/pandas-docs/stable/user_guide/indexing.html#returning-a-view-versus-a-copy\n",
      "  return super().fillna(\n"
     ]
    }
   ],
   "source": [
    "ss_c = df2.copy()\n",
    "ss_c = ss_c[(ss_c['Withdrawal'].isna()) & (ss_c['Not Eligible'].isna())]\n",
    "ss_c = ss_c[['APN_ROW Segment','Street #', 'Street Name', 'County', 'WLPZ Zone?','Division', 'Withdrawal', 'Not Eligible']]\n",
    "WLPZ_done_c = ss_c[(ss_c['WLPZ Zone?'].notna())]\n",
    "WLPZ_NotDone_c = ss_c[ss_c['WLPZ Zone?'].isna()]\n",
    "WLPZ_NotDone_c['WLPZ Zone?'].fillna(1, inplace=True)\n"
   ]
  },
  {
   "cell_type": "code",
   "execution_count": 23,
   "id": "5d313fdc",
   "metadata": {},
   "outputs": [],
   "source": [
    "final = WLPZ_done_c.merge(WLPZ_NotDone_c,\n",
    "                       left_on=\"APN_ROW Segment\",\n",
    "                       right_on=\"APN_ROW Segment\",\n",
    "                        how=\"outer\",\n",
    "                       suffixes=(\"_Done\", \"_Not Done\")).to_excel(\"WLPZ Summary Central Dixie.xlsx\")"
   ]
  },
  {
   "cell_type": "markdown",
   "id": "d833480a",
   "metadata": {},
   "source": [
    "###  Northern "
   ]
  },
  {
   "cell_type": "code",
   "execution_count": 24,
   "id": "a8fa60d6",
   "metadata": {},
   "outputs": [],
   "source": [
    "path3 = r\"C:\\Users\\jacque.trahan\\Downloads\\BOP_North Div 2021 Debris Removal Tracker*\"\n",
    "file_type3 = \".xlsx\"\n",
    "load3 = glob.glob(path3 + file_type3)\n",
    "df3 = pd.read_excel(max(load3, key=os.path.getctime))"
   ]
  },
  {
   "cell_type": "code",
   "execution_count": 25,
   "id": "ea11d8b1",
   "metadata": {},
   "outputs": [],
   "source": [
    "ss_n = df3.copy()\n",
    "ss_n = ss_n[['APN_ROW Segment','Street #', 'Street Name', 'County', 'WLPZ Zone?','Division','Withdrawal', 'Not Eligible']]\n",
    "WLPZ_done_n = ss_n[ss_n['WLPZ Zone?'].notna() & (ss_n['Withdrawal'].isna()) & (ss_n['Not Eligible'].isna())]\n",
    "WLPZ_NotDone_n = ss_n[ss_n['WLPZ Zone?'].isna() & (ss_n['Withdrawal'].isna()) & (ss_n['Not Eligible'].isna())]\n",
    "WLPZ_NotDone_n['WLPZ Zone?'].fillna(1, inplace=True)\n"
   ]
  },
  {
   "cell_type": "code",
   "execution_count": 26,
   "id": "876c135e",
   "metadata": {},
   "outputs": [],
   "source": [
    "final = WLPZ_done_n.merge(WLPZ_NotDone_n,\n",
    "                       left_on=\"APN_ROW Segment\",\n",
    "                       right_on=\"APN_ROW Segment\",\n",
    "                        how=\"outer\",\n",
    "                       suffixes=(\"_Done\", \"_Not Done\")).to_excel(\"WLPZ Summary-Northern Dixie.xlsx\")"
   ]
  },
  {
   "cell_type": "code",
   "execution_count": null,
   "id": "339f5a50",
   "metadata": {},
   "outputs": [],
   "source": []
  }
 ],
 "metadata": {
  "kernelspec": {
   "display_name": "Python 3",
   "language": "python",
   "name": "python3"
  },
  "language_info": {
   "codemirror_mode": {
    "name": "ipython",
    "version": 3
   },
   "file_extension": ".py",
   "mimetype": "text/x-python",
   "name": "python",
   "nbconvert_exporter": "python",
   "pygments_lexer": "ipython3",
   "version": "3.9.4"
  }
 },
 "nbformat": 4,
 "nbformat_minor": 5
}
