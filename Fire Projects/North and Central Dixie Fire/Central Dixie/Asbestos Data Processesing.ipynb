{
 "cells": [
  {
   "cell_type": "markdown",
   "id": "a1bc0056",
   "metadata": {},
   "source": [
    "# Asbestos Audit:\n",
    "### outputs:\n",
    "* ASB audit\n",
    "* Duplicate APNs in share point, Tetra forms, Smart Sheets"
   ]
  },
  {
   "cell_type": "code",
   "execution_count": 1,
   "id": "373b0609",
   "metadata": {},
   "outputs": [],
   "source": [
    "import pandas as pd\n",
    "import glob\n",
    "import numpy as np\n",
    "import os"
   ]
  },
  {
   "cell_type": "markdown",
   "id": "6a31d84c",
   "metadata": {},
   "source": [
    "# Gets our most recent dowloaded files from the downloads folder"
   ]
  },
  {
   "cell_type": "code",
   "execution_count": 2,
   "id": "d7f6da12",
   "metadata": {},
   "outputs": [],
   "source": [
    "# read in Smart hseets tracker\n",
    "path1 = r\"C:\\Users\\jacque.trahan\\Downloads\\Central Division 2021 Debris Removal Tracker*\"\n",
    "file_type1 = '.xlsx'\n",
    "load_it1 = glob.glob(path1 + file_type1)\n",
    "\n",
    "df1 = pd.read_excel(max(load_it1, key=os.path.getctime), parse_dates=True)"
   ]
  },
  {
   "cell_type": "code",
   "execution_count": 3,
   "id": "a630b3ac",
   "metadata": {},
   "outputs": [],
   "source": [
    "# read in Smart hseets tracker\n",
    "path_s = r\"C:\\Users\\jacque.trahan\\Downloads\\South Central Division 2021 Debris Removal Tracker*\"\n",
    "file_type_s = '.xlsx'\n",
    "load_it_s = glob.glob(path_s + file_type_s)\n",
    "\n",
    "df_s = pd.read_excel(max(load_it_s, key=os.path.getctime), parse_dates=True)"
   ]
  },
  {
   "cell_type": "markdown",
   "id": "5903e6f8",
   "metadata": {},
   "source": [
    "### Concat central and south cental files"
   ]
  },
  {
   "cell_type": "code",
   "execution_count": 4,
   "id": "4006fcc7",
   "metadata": {},
   "outputs": [],
   "source": [
    "df_both = pd.concat([df1, df_s])"
   ]
  },
  {
   "cell_type": "code",
   "execution_count": 5,
   "id": "7725e025",
   "metadata": {
    "scrolled": true
   },
   "outputs": [],
   "source": [
    "# Read in asbestos tracker from share point\n",
    "path2 = r\"C:\\Users\\jacque.trahan\\Downloads\\Asbestos Tracker*\"\n",
    "file_type2 = '.csv'\n",
    "load_it2 = glob.glob(path2 + file_type2)\n",
    "\n",
    "df2 = pd.read_csv(max(load_it2, key=os.path.getctime))"
   ]
  },
  {
   "cell_type": "markdown",
   "id": "1e8a81c1",
   "metadata": {},
   "source": [
    "# Days asb samples take to process- Asbestos Tracker"
   ]
  },
  {
   "cell_type": "code",
   "execution_count": 6,
   "id": "c9d9bf8b",
   "metadata": {},
   "outputs": [
    {
     "data": {
      "text/plain": [
       "Timedelta('4 days 17:46:20.576631259')"
      ]
     },
     "execution_count": 6,
     "metadata": {},
     "output_type": "execute_result"
    }
   ],
   "source": [
    "date_checks = df2.copy()\n",
    "date_checks = date_checks[date_checks['Division'].isin(['Central Division'])]\n",
    "date_checks['Tt Received Date']  = pd.to_datetime(date_checks['Tt Received Date'])\n",
    "date_checks['Date Shipped or Driven']  = pd.to_datetime(date_checks['Date Shipped or Driven'])\n",
    "\n",
    "# nummber of days it took to go to lab and get data get uplaoded. \n",
    "date_checks['Number of days of processing'] = (date_checks['Tt Received Date'] - date_checks['Date Shipped or Driven'])\n",
    "\n",
    "date_checks['Current Days Still Processing'] = date_checks['Tt Received Date'].fillna(pd.to_datetime(\"today\"))\n",
    "date_checks['Waiting on results'] = (date_checks['Current Days Still Processing'] - date_checks['Date Shipped or Driven'])\n",
    "\n",
    "date_checks = date_checks[['APN', 'Street Number', 'Street Name', 'County','Division',\n",
    "                 'Date Collected', 'Date Shipped or Driven', 'Lab Received Date', 'Tt Received Date', 'Final Results',\n",
    "                          'Number of days of processing','Current Days Still Processing', 'Waiting on results' ]]\n",
    "\n",
    "date_checks.to_excel('ASB Date checks for samples sent and received from lab.xlsx')\n",
    "date_checks['Number of days of processing'].mean()"
   ]
  },
  {
   "cell_type": "markdown",
   "id": "8378253c",
   "metadata": {},
   "source": [
    "# Days asb samples take to process- Smart Sheets"
   ]
  },
  {
   "cell_type": "code",
   "execution_count": 7,
   "id": "28dddad2",
   "metadata": {
    "scrolled": true
   },
   "outputs": [],
   "source": [
    "# df1.info(verbose=True)"
   ]
  },
  {
   "cell_type": "code",
   "execution_count": 10,
   "id": "3f79a41a",
   "metadata": {},
   "outputs": [],
   "source": [
    "# df_both.info(verbose=True)"
   ]
  },
  {
   "cell_type": "code",
   "execution_count": 9,
   "id": "a459f778",
   "metadata": {},
   "outputs": [
    {
     "data": {
      "text/plain": [
       "Timedelta('4 days 22:22:42.162162162')"
      ]
     },
     "execution_count": 9,
     "metadata": {},
     "output_type": "execute_result"
    }
   ],
   "source": [
    "date_checks_SS = df_both.copy()\n",
    "date_checks_SS = date_checks_SS[date_checks_SS['Division'].isin(['Central Division'])]\n",
    "date_checks_SS['ASB Suspected'] = date_checks_SS['ASB Suspected'].isin(['Yes'])\n",
    "date_checks_SS['ASB Sample Sent']  = pd.to_datetime(date_checks_SS['ASB Sample Sent'])\n",
    "date_checks_SS['ASB Results Received']  = pd.to_datetime(date_checks_SS['ASB Results Received'])\n",
    "\n",
    "# nummber of days it took to go to lab and get data get uplaoded. \n",
    "date_checks_SS['Number of days of processing'] = (date_checks_SS['ASB Results Received'] - date_checks_SS['ASB Sample Sent'])\n",
    "\n",
    "date_checks_SS['Todays date for calculations'] = date_checks_SS['ASB Results Received'].fillna(pd.to_datetime(\"today\"))\n",
    "date_checks_SS['Waiting on results'] = (date_checks_SS['Todays date for calculations'] - date_checks_SS['ASB Sample Sent'])\n",
    "\n",
    "date_checks_SS = date_checks_SS[['APN_ROW Segment', 'Street #', 'Street Name', 'County',\n",
    "                 'ASB Assessment','ASB Suspected', 'ASB Sample Sent', 'ASB Results Received','ASB Results',\n",
    "                          'Number of days of processing', 'Todays date for calculations', 'Waiting on results']]\n",
    "\n",
    "date_checks_SS.to_excel('Smasrt Sheet ASB Date checks for samples sent and received from lab.xlsx')\n",
    "date_checks_SS['Number of days of processing'].mean()"
   ]
  },
  {
   "cell_type": "code",
   "execution_count": null,
   "id": "66ae493b",
   "metadata": {},
   "outputs": [],
   "source": []
  }
 ],
 "metadata": {
  "kernelspec": {
   "display_name": "Python 3",
   "language": "python",
   "name": "python3"
  },
  "language_info": {
   "codemirror_mode": {
    "name": "ipython",
    "version": 3
   },
   "file_extension": ".py",
   "mimetype": "text/x-python",
   "name": "python",
   "nbconvert_exporter": "python",
   "pygments_lexer": "ipython3",
   "version": "3.9.4"
  }
 },
 "nbformat": 4,
 "nbformat_minor": 5
}
