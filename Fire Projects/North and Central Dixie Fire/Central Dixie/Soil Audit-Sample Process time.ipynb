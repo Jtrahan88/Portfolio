{
 "cells": [
  {
   "cell_type": "markdown",
   "id": "9b152583",
   "metadata": {},
   "source": [
    "# Soil Audits\n",
    "### Outputs\n",
    "* Mismatches between dates in Smart Shseets and Soil tracker(Share Point)\n",
    "* Duplicate APNs-soil only"
   ]
  },
  {
   "cell_type": "code",
   "execution_count": 1,
   "id": "167f2355",
   "metadata": {},
   "outputs": [],
   "source": [
    "import pandas as pd\n",
    "import os\n",
    "import glob\n",
    "import numpy as np\n",
    "import datetime as dt"
   ]
  },
  {
   "cell_type": "markdown",
   "id": "fae7d4ca",
   "metadata": {},
   "source": [
    "# Smart sheets"
   ]
  },
  {
   "cell_type": "code",
   "execution_count": 2,
   "id": "e8cdfcca",
   "metadata": {},
   "outputs": [],
   "source": [
    "# smart Sheets\n",
    "path1 = r\"C:\\Users\\jacque.trahan\\Downloads\\Central Division 2021 Debris Removal Tracker*\"\n",
    "file_type1 =\".xlsx\"\n",
    "loadit1 = glob.glob(path1 + file_type1)\n",
    "df1 = pd.read_excel(max(loadit1, key=os.path.getctime))"
   ]
  },
  {
   "cell_type": "code",
   "execution_count": 3,
   "id": "f6edd33d",
   "metadata": {},
   "outputs": [],
   "source": [
    "# Soil Share Point\n",
    "path2 = r\"C:\\Users\\jacque.trahan\\Downloads\\Soil Sampling Tracker*\"\n",
    "file_type2 = \".csv\"\n",
    "loadit2 = glob.glob(path2 + file_type2)\n",
    "df2 = pd.read_csv(max(loadit2, key=os.path.getctime))"
   ]
  },
  {
   "cell_type": "code",
   "execution_count": 4,
   "id": "7cf78404",
   "metadata": {},
   "outputs": [],
   "source": [
    "smart_sheets = df1.copy()\n",
    "# smart_sheets.columns = map(str.upper, smart_sheets.columns)\n",
    "smart_sheets = smart_sheets[['APN_ROW Segment','Street #','Street Name','Structural Status','County', 'Soil Sample', 'Soil Sample Results Rec\\'d from Lab',\n",
    "                             'Division']]\n",
    "smart_sheets = smart_sheets[smart_sheets['Division'].isin(['Central Division'])]\n",
    "\n",
    "smart_sheets.rename(columns={'Soil Sample':'Soil Sample_SS'}, inplace=True)"
   ]
  },
  {
   "cell_type": "code",
   "execution_count": 5,
   "id": "1f507167",
   "metadata": {},
   "outputs": [],
   "source": [
    "soil = df2.copy()\n",
    "soil = soil[['APN', 'Street Number','Street Name', 'County',\n",
    "             'Date Collected','Date Shipped', 'Date Lab Recd', 'Date Results Recd', 'Division']]\n",
    "soil = soil[soil['Division'].isin(['Central Division'])]"
   ]
  },
  {
   "cell_type": "markdown",
   "id": "3b2af33d",
   "metadata": {},
   "source": [
    "# Soil Tracker Dates"
   ]
  },
  {
   "cell_type": "code",
   "execution_count": 6,
   "id": "3529e263",
   "metadata": {},
   "outputs": [
    {
     "data": {
      "text/plain": [
       "Timedelta('8 days 08:51:53.513513513')"
      ]
     },
     "execution_count": 6,
     "metadata": {},
     "output_type": "execute_result"
    }
   ],
   "source": [
    "# nummber of days it took to go to lab and get data get uplaoded. -Soil tracker\n",
    "soil['Date Shipped']  = pd.to_datetime(soil['Date Shipped'])\n",
    "soil['Date Results Recd']  = pd.to_datetime(soil['Date Results Recd'])\n",
    "\n",
    "soil['Number of days of processing'] = (soil['Date Results Recd'] - soil['Date Shipped'])\n",
    "soil['Add current day for calculations'] = soil['Date Results Recd'].fillna(pd.to_datetime(\"today\"))\n",
    "soil['Waiting on results'] = (soil['Add current day for calculations'] - soil['Date Shipped'])\n",
    "soil.to_excel('Soil Tracker Date checks.xlsx')\n",
    "soil['Number of days of processing'].mean()"
   ]
  },
  {
   "cell_type": "markdown",
   "id": "eb0bc3ec",
   "metadata": {},
   "source": [
    "# Smart Sheets Dates\n",
    "* no sent to lab dates. but has average days"
   ]
  },
  {
   "cell_type": "code",
   "execution_count": 7,
   "id": "a3fcd380",
   "metadata": {},
   "outputs": [],
   "source": [
    "# df1.info(verbose=True)"
   ]
  },
  {
   "cell_type": "code",
   "execution_count": 8,
   "id": "622169f8",
   "metadata": {},
   "outputs": [
    {
     "data": {
      "text/plain": [
       "6.7214611872146115"
      ]
     },
     "execution_count": 8,
     "metadata": {},
     "output_type": "execute_result"
    }
   ],
   "source": [
    "df1[\"Day(s) From Soil Sample to Results Rec'd\"].mean()"
   ]
  },
  {
   "cell_type": "code",
   "execution_count": null,
   "id": "ef019f4d",
   "metadata": {},
   "outputs": [],
   "source": []
  }
 ],
 "metadata": {
  "kernelspec": {
   "display_name": "Python 3",
   "language": "python",
   "name": "python3"
  },
  "language_info": {
   "codemirror_mode": {
    "name": "ipython",
    "version": 3
   },
   "file_extension": ".py",
   "mimetype": "text/x-python",
   "name": "python",
   "nbconvert_exporter": "python",
   "pygments_lexer": "ipython3",
   "version": "3.9.4"
  }
 },
 "nbformat": 4,
 "nbformat_minor": 5
}
