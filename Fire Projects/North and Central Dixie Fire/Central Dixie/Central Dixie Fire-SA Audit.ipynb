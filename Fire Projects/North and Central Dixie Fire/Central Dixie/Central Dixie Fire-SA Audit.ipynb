{
 "cells": [
  {
   "cell_type": "code",
   "execution_count": 1,
   "id": "ea3990e6",
   "metadata": {},
   "outputs": [],
   "source": [
    "import pandas as pd\n",
    "import xlrd\n",
    "import numpy as np\n",
    "import matplotlib.pyplot as plt\n",
    "%matplotlib inline\n",
    "import seaborn as sns"
   ]
  },
  {
   "cell_type": "code",
   "execution_count": 9,
   "id": "cf23dc44",
   "metadata": {},
   "outputs": [],
   "source": [
    "df1 = pd.read_excel('Central Branch  trackers/Central Division 2021 Debris Removal Tracker.xlsx', parse_dates=True)\n",
    "df2 = pd.read_excel('tetra forms ASB and SA/Site_assessment tracker.xlsx', parse_dates=True)"
   ]
  },
  {
   "cell_type": "code",
   "execution_count": 3,
   "id": "82a84d32",
   "metadata": {},
   "outputs": [],
   "source": [
    "df3 =pd.read_excel(\"tetra forms ASB and SA/SA_TetraForms1.xlsx\", parse_dates=True)"
   ]
  },
  {
   "cell_type": "code",
   "execution_count": 10,
   "id": "4d51988b",
   "metadata": {},
   "outputs": [],
   "source": [
    "smartsheets = df1.copy()\n",
    "sa = df2.copy()\n",
    "tetarforms = df3.copy()"
   ]
  },
  {
   "cell_type": "code",
   "execution_count": 12,
   "id": "b61e10fa",
   "metadata": {},
   "outputs": [],
   "source": [
    "smartsheets[(smartsheets['Site Assessment'].notnull()) & (smartsheets['RAD_MERC Sweep'].isnull())].to_excel('No sweep dates.xlsx')"
   ]
  },
  {
   "cell_type": "code",
   "execution_count": 7,
   "id": "8e69fb53",
   "metadata": {},
   "outputs": [
    {
     "name": "stdout",
     "output_type": "stream",
     "text": [
      "<class 'pandas.core.frame.DataFrame'>\n",
      "RangeIndex: 645 entries, 0 to 644\n",
      "Data columns (total 135 columns):\n",
      " #    Column                                              Dtype         \n",
      "---   ------                                              -----         \n",
      " 0    APN_ROW Segment                                     object        \n",
      " 1    ROE Type                                            object        \n",
      " 2    Structural Status                                   object        \n",
      " 3    Haz Tree Status                                     object        \n",
      " 4    Debris Crew                                         object        \n",
      " 5    Tree Crew                                           float64       \n",
      " 6    Street #                                            object        \n",
      " 7    Street Name                                         object        \n",
      " 8    Unit #                                              object        \n",
      " 9    City                                                object        \n",
      " 10   County                                              object        \n",
      " 11   Group                                               float64       \n",
      " 12   Property Type                                       object        \n",
      " 13   Priority                                            object        \n",
      " 14   Elevation                                           float64       \n",
      " 15   Withdrawal                                          float64       \n",
      " 16   Not Eligible                                        float64       \n",
      " 17   Reason for Ineligibility                            float64       \n",
      " 18   Determinant for Ineligibility                       float64       \n",
      " 19   Hold                                                float64       \n",
      " 20   Hold Reason                                         object        \n",
      " 21   Safety Concern Property                             float64       \n",
      " 22   USFS Parcel?                                        object        \n",
      " 23   Special Inclusion                                   float64       \n",
      " 24   Gate Locked?                                        float64       \n",
      " 25   Code_Key Location                                   object        \n",
      " 26   Access Issues                                       float64       \n",
      " 27   Access Issues Type                                  object        \n",
      " 28   Phase 1 Complete                                    object        \n",
      " 29   Needs Milk Run or Phase 1 Revisit                   object        \n",
      " 30   811 Called (A&M)                                    float64       \n",
      " 31   Site Assessment                                     datetime64[ns]\n",
      " 32   RAD_MERC Sweep                                      datetime64[ns]\n",
      " 33   RAD_MERC Detected                                   float64       \n",
      " 34   Chimney                                             object        \n",
      " 35   Chimney Inaccessible for ASB                        float64       \n",
      " 36   Chimney Tipped                                      datetime64[ns]\n",
      " 37   NESHAP Walls                                        object        \n",
      " 38   NESHAP Notification                                 float64       \n",
      " 39   In Ground Pool                                      object        \n",
      " 40   Large Propane Tank                                  object        \n",
      " 41   Well                                                object        \n",
      " 42   Septic                                              object        \n",
      " 43   Solar_Wind Power                                    object        \n",
      " 44   Structural Walls                                    object        \n",
      " 45   Need Contractor Assist for ASB                      float64       \n",
      " 46   Vehicle(s)                                          float64       \n",
      " 47   Number of Passenger Vehicles                        float64       \n",
      " 48   Number of ATV_UTV_snowmobiles                       float64       \n",
      " 49   Number of Ag_Commercial_Construction Equipment      float64       \n",
      " 50   Number of Motorcycles                               float64       \n",
      " 51   Number of RV's                                      float64       \n",
      " 52   Number of Trailers                                  float64       \n",
      " 53   Number of Vessels (Boat_Jetski)                     float64       \n",
      " 54   Total Number of Vehicles                            int64         \n",
      " 55   Vehicles Description                                float64       \n",
      " 56   Number of Vehicles Removed                          float64       \n",
      " 57   ASB Assessment                                      datetime64[ns]\n",
      " 58   ASB Suspected                                       object        \n",
      " 59   ASB Sample Sent                                     datetime64[ns]\n",
      " 60   ASB Results Received                                datetime64[ns]\n",
      " 61   ASB Results                                         object        \n",
      " 62   ASB Abatement                                       datetime64[ns]\n",
      " 63   CAC Clearance                                       datetime64[ns]\n",
      " 64   Bio Assessment                                      datetime64[ns]\n",
      " 65   Bio Monitor Needed                                  object        \n",
      " 66   Arch Assessment                                     datetime64[ns]\n",
      " 67   Arch Monitor Needed                                 object        \n",
      " 68   Potential Cultural Resources                        object        \n",
      " 69   Stormwater BMPs Needed?                             float64       \n",
      " 70   Stormwater BMPs Installed                           float64       \n",
      " 71   WLPZ Zone?                                          float64       \n",
      " 72   In lieu practices?                                  float64       \n",
      " 73   OES EHP Attention Required                          object        \n",
      " 74   OES EHP Site Visit                                  datetime64[ns]\n",
      " 75   OES EHP Notes                                       float64       \n",
      " 76   Water crossing/bridge needed?                       float64       \n",
      " 77   Water crossing/bridge install                       float64       \n",
      " 78   Water crossing/bridge removal                       float64       \n",
      " 79   Permit(s) Needed                                    float64       \n",
      " 80   Permit(s) Received                                  float64       \n",
      " 81   811 Called (DDHTR)                                  float64       \n",
      " 82   Ready for Debris Removal                            datetime64[ns]\n",
      " 83   Property Owner Contact for Debris                   datetime64[ns]\n",
      " 84   Property Owner Contact for Trees                    datetime64[ns]\n",
      " 85   Contact Notes                                       object        \n",
      " 86   If Unable to Contact, Attempted # of Contacts       float64       \n",
      " 87   If Unable to Contact, Who Approved to Move Forward  object        \n",
      " 88   Scheduled for Debris Removal                        datetime64[ns]\n",
      " 89   Debris Start                                        datetime64[ns]\n",
      " 90   Debris Finish                                       datetime64[ns]\n",
      " 91   State Rep Sign-Off for DR                           datetime64[ns]\n",
      " 92   Damage Caused during DR                             float64       \n",
      " 93   Explanation of Damage during DR                     float64       \n",
      " 94   Soil Sample                                         datetime64[ns]\n",
      " 95   Soil Sample Results                                 float64       \n",
      " 96   Soil Boring                                         float64       \n",
      " 97   Soil Boring Results                                 float64       \n",
      " 98   Soil Re-scrape                                      float64       \n",
      " 99   Re-scrape Results                                   float64       \n",
      " 100  Soil Re-scrape 2                                    float64       \n",
      " 101  Re-scrape 2 Results                                 float64       \n",
      " 102  Soil Rescrape 3                                     float64       \n",
      " 103  Re-scrape 3 Results                                 float64       \n",
      " 104  Soil Samples Approved                               float64       \n",
      " 105  Haz Trees Assessment                                datetime64[ns]\n",
      " 106  Haz Trees Present?                                  object        \n",
      " 107  Number of Trees                                     float64       \n",
      " 108  Tree Felling Start                                  float64       \n",
      " 109  Tree Felling Complete                               float64       \n",
      " 110  Tree Removal Start                                  float64       \n",
      " 111  Tree Removal Complete                               float64       \n",
      " 112  Number of Hazard Trees Felled                       float64       \n",
      " 113  Erosion Control Complete                            float64       \n",
      " 114  Erosion Control Waiver                              float64       \n",
      " 115  Trees Completion Check                              float64       \n",
      " 116  Debris FSO Complete                                 float64       \n",
      " 117  FSO Complete                                        object        \n",
      " 118  FSO Sent to County                                  float64       \n",
      " 119  Owner Name                                          object        \n",
      " 120  Owner Phone                                         object        \n",
      " 121  Owner Email                                         object        \n",
      " 122  ROE Notes                                           object        \n",
      " 123  Special Notes                                       object        \n",
      " 124  Latitude                                            object        \n",
      " 125  Longitude                                           object        \n",
      " 126  Fire Name                                           object        \n",
      " 127  Declaration                                         object        \n",
      " 128  Parcel Zoning Type                                  object        \n",
      " 129  Insurance                                           object        \n",
      " 130  ROE Date                                            datetime64[ns]\n",
      " 131  ROE Verified                                        object        \n",
      " 132  Division                                            object        \n",
      " 133  Modified Date                                       datetime64[ns]\n",
      " 134  Duplicate                                           float64       \n",
      "dtypes: datetime64[ns](22), float64(63), int64(1), object(49)\n",
      "memory usage: 680.4+ KB\n"
     ]
    }
   ],
   "source": [
    "smartsheets.info(verbose=True)"
   ]
  },
  {
   "cell_type": "markdown",
   "id": "fcd3fcef",
   "metadata": {},
   "source": [
    "# Site Assessment site up"
   ]
  },
  {
   "cell_type": "code",
   "execution_count": 5,
   "id": "b7ecf380",
   "metadata": {},
   "outputs": [],
   "source": [
    "# sa column selection\n",
    "sa = sa[['APN','Date Completed','Automobiles', 'Motorcycle', 'ATV/UTV/Snowmobiles',\n",
    "       'Ag/Commercial/Construction', 'RV', 'Trailers', 'Vessel', 'Chimney','Division']]"
   ]
  },
  {
   "cell_type": "code",
   "execution_count": 6,
   "id": "5ad9e466",
   "metadata": {},
   "outputs": [],
   "source": [
    "# only use central division APNs and parcel information\n",
    "sa = sa[sa['Division'].isin(['Central Division'])]"
   ]
  },
  {
   "cell_type": "code",
   "execution_count": 7,
   "id": "86234d67",
   "metadata": {},
   "outputs": [],
   "source": [
    "# replace all 0s to No and all 1 to Yes for Chimney to match smartsheets\n",
    "sa['Chimney'] = sa['Chimney'].fillna(0).astype(int).astype(str).str.replace(\"0\", \"No\").str.replace(\"1\", \"Yes\")\n"
   ]
  },
  {
   "cell_type": "code",
   "execution_count": 8,
   "id": "ce1f3e83",
   "metadata": {},
   "outputs": [],
   "source": [
    "# set up date columns\n",
    "sa['Date Completed'] = pd.to_datetime(sa['Date Completed']).dt.date"
   ]
  },
  {
   "cell_type": "code",
   "execution_count": 9,
   "id": "873c5ddb",
   "metadata": {},
   "outputs": [],
   "source": [
    "sa.rename(columns={'Date Completed': 'SA Survey Date','APN': 'APN_SA','Motorcycle':'Motorcycle_SA',\n",
    "                  'RV': 'RV_SA', 'Trailers':'Trailers_SA', 'Vessel': 'Vessel_SA'}, inplace=True)"
   ]
  },
  {
   "cell_type": "code",
   "execution_count": 10,
   "id": "b1644e8c",
   "metadata": {},
   "outputs": [],
   "source": [
    "# set up numerical values for al vehicles\n",
    "sa['Automobiles'] = pd.to_numeric(sa['Automobiles'])\n",
    "sa['Motorcycle_SA'] = pd.to_numeric(sa['Motorcycle_SA'])\n",
    "sa['ATV/UTV/Snowmobiles'] = pd.to_numeric(sa['ATV/UTV/Snowmobiles'])\n",
    "sa['Ag/Commercial/Construction'] = pd.to_numeric(sa['Ag/Commercial/Construction'])\n",
    "sa['RV_SA'] = pd.to_numeric(sa['RV_SA'])\n",
    "sa['Trailers_SA'] = pd.to_numeric(sa['Trailers_SA'])\n",
    "sa['Vessel_SA'] = pd.to_numeric(sa['Vessel_SA'])"
   ]
  },
  {
   "cell_type": "code",
   "execution_count": 11,
   "id": "14e578c1",
   "metadata": {},
   "outputs": [],
   "source": [
    "sa.fillna({'Automobiles': 0,\n",
    "           'Motorcycle_SA': 0,\n",
    "           'ATV/UTV/Snowmobiles': 0,\n",
    "           'Ag/Commercial/Construction': 0,\n",
    "           'RV_SA': 0,\n",
    "           'Trailers_SA': 0,\n",
    "           'Vessel_SA': 0}, inplace=True)"
   ]
  },
  {
   "cell_type": "code",
   "execution_count": 12,
   "id": "9f98177d",
   "metadata": {},
   "outputs": [],
   "source": [
    "sa.columns = map(str.upper, sa.columns)"
   ]
  },
  {
   "cell_type": "markdown",
   "id": "2f79acaf",
   "metadata": {},
   "source": [
    "# Tetra Forms setup"
   ]
  },
  {
   "cell_type": "code",
   "execution_count": 13,
   "id": "5c656c81",
   "metadata": {},
   "outputs": [],
   "source": [
    "# get just the counties we need\n",
    "tetarforms = tetarforms[tetarforms['county'].isin(['ALPINE', 'EL DORADO', 'LAKE', 'NEVADA', 'PLACER'])]"
   ]
  },
  {
   "cell_type": "code",
   "execution_count": 14,
   "id": "20cc48a3",
   "metadata": {},
   "outputs": [],
   "source": [
    "# format dates \n",
    "tetarforms['survey_date'] = pd.to_datetime(tetarforms['survey_date']).dt.date"
   ]
  },
  {
   "cell_type": "code",
   "execution_count": 15,
   "id": "a810160e",
   "metadata": {},
   "outputs": [],
   "source": [
    "#get columsn we need\n",
    "tetarforms = tetarforms[['apn','survey_date','chimney_quantity', 'automobile_quantity', 'motorcycle_quantity',\n",
    "                         'atv_utv_quantity', 'comm_equip_quantity', 'rvs_quantity', 'trailer_quantity', 'vessel_quantity']]"
   ]
  },
  {
   "cell_type": "code",
   "execution_count": 16,
   "id": "281ef500",
   "metadata": {},
   "outputs": [],
   "source": [
    "tetarforms.fillna({'automobile_quantity': 0,\n",
    "           'motorcycle_quantity': 0,\n",
    "           'atv_utv_quantity': 0,\n",
    "           'comm_equip_quantity': 0,\n",
    "           'rvs_quantity': 0,\n",
    "           'trailer_quantity': 0,\n",
    "           'vessel_quantity': 0}, inplace=True)"
   ]
  },
  {
   "cell_type": "code",
   "execution_count": 17,
   "id": "0ed80f85",
   "metadata": {},
   "outputs": [],
   "source": [
    "tetarforms['chimney_quantity'] = np.where(tetarforms['chimney_quantity'] > 0, 'Yes', 'No')"
   ]
  },
  {
   "cell_type": "code",
   "execution_count": 18,
   "id": "4957c78d",
   "metadata": {},
   "outputs": [],
   "source": [
    "tetarforms.rename(columns={'apn': 'APN_TF', 'motorcycle_quantity':'motorcycle_quantity_TF'}, inplace=True)"
   ]
  },
  {
   "cell_type": "code",
   "execution_count": 19,
   "id": "2d63aa65",
   "metadata": {},
   "outputs": [],
   "source": [
    "tetarforms.columns = map(str.upper, tetarforms.columns)"
   ]
  },
  {
   "cell_type": "code",
   "execution_count": 20,
   "id": "6e94aa12",
   "metadata": {},
   "outputs": [],
   "source": [
    "# merge1 tetraforms and SA\n",
    "merge1 = sa.merge(tetarforms,\n",
    "                 left_on='APN_SA',\n",
    "                 right_on='APN_TF',\n",
    "                 how='outer',\n",
    "                 suffixes=('_SA', '_TF'))"
   ]
  },
  {
   "cell_type": "markdown",
   "id": "7400479a",
   "metadata": {},
   "source": [
    "# Smart sheet set up"
   ]
  },
  {
   "cell_type": "code",
   "execution_count": 21,
   "id": "cda46b73",
   "metadata": {
    "scrolled": true
   },
   "outputs": [],
   "source": [
    "# smartsheets.info(verbose=True, show_counts=True)"
   ]
  },
  {
   "cell_type": "code",
   "execution_count": 23,
   "id": "24652123",
   "metadata": {},
   "outputs": [],
   "source": [
    "# smart sheet column selection\n",
    "smartsheets = smartsheets[['APN_ROW Segment','Street #','Street Name', 'Structural Status', 'Chimney', 'Site Assessment',\n",
    "                          'Number of Passenger Vehicles', 'Number of ATV_UTV_snowmobiles',\n",
    "                          'Number of Ag_Commercial_Construction Equipment','Number of Motorcycles',\n",
    "                          'Number of RV\\'s', 'Number of Trailers', 'Number of Vessels (Boat_Jetski)', 'Total Number of Vehicles']]"
   ]
  },
  {
   "cell_type": "code",
   "execution_count": 25,
   "id": "4bb67137",
   "metadata": {},
   "outputs": [],
   "source": [
    "smartsheets = smartsheets.copy()"
   ]
  },
  {
   "cell_type": "code",
   "execution_count": 26,
   "id": "60f9644a",
   "metadata": {},
   "outputs": [],
   "source": [
    "smartsheets.fillna({'Chimney': \"No\",\n",
    "            'Number of Passenger Vehicles': 0,\n",
    "           'Number of ATV_UTV_snowmobiles': 0,\n",
    "           'Number of Ag_Commercial_Construction Equipment': 0,\n",
    "           'Number of Motorcycles': 0,\n",
    "            'Number of RV\\'s':0,\n",
    "           'Number of Trailers': 0,\n",
    "           'Number of Vessels (Boat_Jetski)': 0}, inplace=True)"
   ]
  },
  {
   "cell_type": "code",
   "execution_count": 27,
   "id": "d1f6ddec",
   "metadata": {},
   "outputs": [],
   "source": [
    "# take of the time on the dates\n",
    "smartsheets['Site Assessment'] = smartsheets['Site Assessment'].dt.date"
   ]
  },
  {
   "cell_type": "code",
   "execution_count": 28,
   "id": "85d8ffbb",
   "metadata": {},
   "outputs": [],
   "source": [
    "smartsheets.rename(columns={'Site Assessment': 'SA Survey Date', 'Number of Passenger Vehicles': 'Automobiles',\n",
    "                           'Number of ATV_UTV_snowmobiles': 'ATV/UTV/Snowmobiles',\n",
    "                           'Number of Ag_Commercial_Construction Equipment': 'Ag/Commercial/Construction',\n",
    "                           'Number of Motorcycles': 'Motorcycles_SS', 'Number of RV\\'s': 'RV_SS',\n",
    "                           'Number of Trailers':'Trailers_SS','Number of Vessels (Boat_Jetski)':'Vessel_SS'}, inplace=True)"
   ]
  },
  {
   "cell_type": "code",
   "execution_count": 29,
   "id": "9fa1ea9e",
   "metadata": {},
   "outputs": [],
   "source": [
    "smartsheets.columns = map(str.upper, smartsheets.columns)"
   ]
  },
  {
   "cell_type": "code",
   "execution_count": 30,
   "id": "b2c61952",
   "metadata": {},
   "outputs": [],
   "source": [
    "# merge both data frames for QC\n",
    "final = smartsheets.merge(merge1,\n",
    "                         left_on='APN_ROW SEGMENT',\n",
    "                         right_on='APN_SA',\n",
    "                         how='outer',\n",
    "                         suffixes=('_SS', '_SA'))"
   ]
  },
  {
   "cell_type": "code",
   "execution_count": 31,
   "id": "7ed58bf0",
   "metadata": {},
   "outputs": [],
   "source": [
    "# set Smart sheets apn as index\n",
    "final.set_index('APN_ROW SEGMENT', inplace=True)"
   ]
  },
  {
   "cell_type": "code",
   "execution_count": 32,
   "id": "03b5b0fc",
   "metadata": {},
   "outputs": [],
   "source": [
    "# final.reset_index(inplace=True)"
   ]
  },
  {
   "cell_type": "code",
   "execution_count": 33,
   "id": "54b6486f",
   "metadata": {},
   "outputs": [],
   "source": [
    "# final.columns"
   ]
  },
  {
   "cell_type": "code",
   "execution_count": 34,
   "id": "a4bacf16",
   "metadata": {},
   "outputs": [],
   "source": [
    "# column orinizationa\n",
    "final = final[['APN_SA', 'APN_TF','STREET #','STREET NAME','STRUCTURAL STATUS',\n",
    "               'SA SURVEY DATE_SS', 'SA SURVEY DATE_SA','SURVEY_DATE',\n",
    "               'CHIMNEY_SS','CHIMNEY_SA','CHIMNEY_QUANTITY',\n",
    "               'AUTOMOBILES_SS', 'AUTOMOBILES_SA','AUTOMOBILE_QUANTITY',\n",
    "               'MOTORCYCLES_SS', 'MOTORCYCLE_SA', 'MOTORCYCLE_QUANTITY_TF',\n",
    "              'ATV/UTV/SNOWMOBILES_SS', 'ATV/UTV/SNOWMOBILES_SA','ATV_UTV_QUANTITY',\n",
    "              'AG/COMMERCIAL/CONSTRUCTION_SS', 'AG/COMMERCIAL/CONSTRUCTION_SA','COMM_EQUIP_QUANTITY',\n",
    "              'RV_SS', 'RV_SA','RVS_QUANTITY',\n",
    "              'TRAILERS_SS', 'TRAILERS_SA','TRAILER_QUANTITY',\n",
    "              'VESSEL_SS','VESSEL_SA','VESSEL_QUANTITY',\n",
    "               'DIVISION','TOTAL NUMBER OF VEHICLES']]"
   ]
  },
  {
   "cell_type": "code",
   "execution_count": 35,
   "id": "bfbbdb17",
   "metadata": {},
   "outputs": [],
   "source": [
    "final.to_excel('Central Dixie Fire SA Audit.xlsx')"
   ]
  },
  {
   "cell_type": "code",
   "execution_count": null,
   "id": "08e88b24",
   "metadata": {},
   "outputs": [],
   "source": []
  }
 ],
 "metadata": {
  "kernelspec": {
   "display_name": "Python 3",
   "language": "python",
   "name": "python3"
  },
  "language_info": {
   "codemirror_mode": {
    "name": "ipython",
    "version": 3
   },
   "file_extension": ".py",
   "mimetype": "text/x-python",
   "name": "python",
   "nbconvert_exporter": "python",
   "pygments_lexer": "ipython3",
   "version": "3.9.4"
  }
 },
 "nbformat": 4,
 "nbformat_minor": 5
}
