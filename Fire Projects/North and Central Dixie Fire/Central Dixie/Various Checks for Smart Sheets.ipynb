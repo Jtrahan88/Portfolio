{
 "cells": [
  {
   "cell_type": "markdown",
   "id": "40ba6121",
   "metadata": {},
   "source": [
    "# What we are checking over view:\n",
    "\n",
    "* ASB sample sent prior to ASB assessment\n",
    "* ASB results prior to ASB sample sent date\n",
    "* Debris start prior to debris finish\n",
    "* Soil sample prior to debris finish\n",
    "* WLPZ and In Lieu are not blank before tree felling starts\n",
    "\n"
   ]
  },
  {
   "cell_type": "code",
   "execution_count": 1,
   "id": "6a7f5387",
   "metadata": {},
   "outputs": [],
   "source": [
    "import pandas as pd\n",
    "import os\n",
    "import glob \n"
   ]
  },
  {
   "cell_type": "markdown",
   "id": "04f92f39",
   "metadata": {},
   "source": [
    "Variable"
   ]
  },
  {
   "cell_type": "code",
   "execution_count": 2,
   "id": "e79e737f",
   "metadata": {},
   "outputs": [],
   "source": [
    "fileType_ex = \".xlsx\"\n",
    "fileType_csv = \".csv\""
   ]
  },
  {
   "cell_type": "markdown",
   "id": "b9e3454a",
   "metadata": {},
   "source": [
    "# comparasion fucntion"
   ]
  },
  {
   "cell_type": "code",
   "execution_count": 3,
   "id": "ad95ef30",
   "metadata": {},
   "outputs": [],
   "source": [
    "def compare(df, comp1=None, comp2=None, comp3=None):\n",
    "    \"\"\"Compares columns in our dataframe\"\"\"\n",
    "    if comp3 ==None:\n",
    "        if df[comp1] == df[comp2]:\n",
    "            return 1\n",
    "        else:\n",
    "            return 0\n",
    "    else:\n",
    "        if df[comp1] == df[comp2] and df[comp2] == df[comp3]:\n",
    "            return 1\n",
    "        else:\n",
    "            return 0"
   ]
  },
  {
   "cell_type": "markdown",
   "id": "365d9815",
   "metadata": {},
   "source": [
    "# Smart Sheets dowload and concate"
   ]
  },
  {
   "cell_type": "code",
   "execution_count": 4,
   "id": "487d7878",
   "metadata": {},
   "outputs": [],
   "source": [
    "path = r\"C:\\Users\\jacque.trahan\\Downloads\\Central Division 2021 Debris Removal Tracker*\"\n",
    "load = glob.glob(path+fileType_ex)\n",
    "df = pd.read_excel(max(load, key=os.path.getctime), parse_dates=True)"
   ]
  },
  {
   "cell_type": "code",
   "execution_count": 5,
   "id": "79357369",
   "metadata": {},
   "outputs": [],
   "source": [
    "path2 = r\"C:\\Users\\jacque.trahan\\Downloads\\South Central Division 2021 Debris Removal Tracker*\"\n",
    "load2 = glob.glob(path2+fileType_ex)\n",
    "df2 = pd.read_excel(max(load2, key=os.path.getctime), parse_dates=True)"
   ]
  },
  {
   "cell_type": "markdown",
   "id": "aef43d18",
   "metadata": {},
   "source": [
    "#### Concate Central and South Central"
   ]
  },
  {
   "cell_type": "code",
   "execution_count": 6,
   "id": "b48a65e0",
   "metadata": {},
   "outputs": [],
   "source": [
    "df_both = pd.concat([df,df2])"
   ]
  },
  {
   "cell_type": "markdown",
   "id": "c18b922f",
   "metadata": {},
   "source": [
    "# RTR dat import"
   ]
  },
  {
   "cell_type": "code",
   "execution_count": 7,
   "id": "423627da",
   "metadata": {},
   "outputs": [],
   "source": [
    "path = r\"C:\\Users\\jacque.trahan\\Downloads\\aDataManagerTicketExport*\"\n",
    "load_rtr = glob.glob(path+fileType_ex)\n",
    "df_RTR = pd.read_excel(max(load_rtr, key=os.path.getctime))"
   ]
  },
  {
   "cell_type": "markdown",
   "id": "4e596e0b",
   "metadata": {},
   "source": [
    "# ASB sample sent prior to ASB assessment"
   ]
  },
  {
   "cell_type": "code",
   "execution_count": 8,
   "id": "e892c5e4",
   "metadata": {
    "scrolled": true
   },
   "outputs": [],
   "source": [
    "asb_sample = df_both.copy()\n",
    "asb_sample = asb_sample[['APN_ROW Segment','Street #', 'Street Name', 'County',\n",
    "                         'ASB Assessment', 'ASB Sample Sent']]\n",
    "asb_sample = asb_sample[(asb_sample['ASB Assessment'] > asb_sample['ASB Sample Sent'])]\n",
    "\n",
    "asb_sample.set_index('APN_ROW Segment', inplace=True)\n",
    "asb_sample.to_excel('ASB sample sent prior to ASB assessment.xlsx')"
   ]
  },
  {
   "cell_type": "markdown",
   "id": "0a52b963",
   "metadata": {},
   "source": [
    "# ASB results prior to ASB sample sent date\n"
   ]
  },
  {
   "cell_type": "code",
   "execution_count": 9,
   "id": "bc6b7ea5",
   "metadata": {},
   "outputs": [],
   "source": [
    "asb_res = df_both.copy()\n",
    "asb_res = asb_res[['APN_ROW Segment','Street #', 'Street Name', 'County',\n",
    "                   'ASB Sample Sent','ASB Results Received', 'ASB Results']]\n",
    "asb_res = asb_res[(asb_res['ASB Sample Sent'].isna()) & (asb_res['ASB Results'].notna())]\n",
    "\n",
    "asb_res.set_index('APN_ROW Segment', inplace=True)\n",
    "asb_res.to_excel('ASB results prior to ASB sample sent date.xlsx')"
   ]
  },
  {
   "cell_type": "markdown",
   "id": "fea8f322",
   "metadata": {},
   "source": [
    "# Debris start prior to debris finish"
   ]
  },
  {
   "cell_type": "code",
   "execution_count": 10,
   "id": "149ac9db",
   "metadata": {},
   "outputs": [],
   "source": [
    "debris_stfin = df_both.copy()\n",
    "debris_stfin = debris_stfin[['APN_ROW Segment','Street #', 'Street Name', 'County',\n",
    "                             'Debris Start', 'Debris Finish']]\n",
    "debris_stfin = debris_stfin[(debris_stfin['Debris Start'] > debris_stfin['Debris Finish'])]\n",
    "\n",
    "debris_stfin.set_index('APN_ROW Segment', inplace=True)\n",
    "debris_stfin.to_excel('Debris finish prior to debris start.xlsx')"
   ]
  },
  {
   "cell_type": "markdown",
   "id": "af6f2c89",
   "metadata": {},
   "source": [
    "# Soil sample prior to debris finish"
   ]
  },
  {
   "cell_type": "code",
   "execution_count": 11,
   "id": "a1084d14",
   "metadata": {},
   "outputs": [],
   "source": [
    "soil_debris = df_both.copy()\n",
    "soil_debris = soil_debris[['APN_ROW Segment', 'Soil Sample', 'Debris Finish']]\n",
    "\n",
    "soil_debris = soil_debris[(soil_debris['Soil Sample'] < soil_debris['Debris Finish'])]\n",
    "\n",
    "soil_debris.set_index('APN_ROW Segment', inplace=True)\n",
    "soil_debris.to_excel(\"Soil prior to debris Finish.xlsx\")"
   ]
  },
  {
   "cell_type": "code",
   "execution_count": 12,
   "id": "db106b0a",
   "metadata": {},
   "outputs": [],
   "source": [
    "# soil_debris['Soil Sample'].strftime(\"%m-%d-%Y\")"
   ]
  },
  {
   "cell_type": "markdown",
   "id": "3c5467c4",
   "metadata": {},
   "source": [
    "# No soil sample result indicated, but a rec'd from lab date"
   ]
  },
  {
   "cell_type": "code",
   "execution_count": 13,
   "id": "855caacb",
   "metadata": {},
   "outputs": [],
   "source": [
    "soilTak_soilRec = df_both.copy()\n",
    "soilTak_soilRec = soilTak_soilRec[['APN_ROW Segment','Street #', 'Street Name', 'County','Structural Status',\n",
    "                                   'Soil Sample', 'Soil Sample Results Rec\\'d from Lab',\"Soil Sample Results\",\n",
    "                                  'Soil Boring','Soil Boring Results Rec\\'d from Lab', 'Soil Boring Results',\n",
    "                                  'Soil Re-scrape',\"Re-scrape Results Rec'd from Lab\", \"Re-scrape Results\",\n",
    "                                  'Soil Re-scrape 2',\"Re-scrape 2 Results Rec'd from Lab\", \"Re-scrape 2 Results\",\n",
    "                                  'Soil Rescrape 3',\"Re-scrape 3 Results Rec'd from Lab\", 'Re-scrape 3 Results',\n",
    "                                  \"Soil Samples Approved\"]]\n",
    "\n"
   ]
  },
  {
   "cell_type": "markdown",
   "id": "bf3f9d98",
   "metadata": {},
   "source": [
    "#### See where we are in Smartsheet with soils"
   ]
  },
  {
   "cell_type": "code",
   "execution_count": 14,
   "id": "c554886d",
   "metadata": {},
   "outputs": [],
   "source": [
    "def soil_location(df):\n",
    "    \"\"\"Prints out column header if the cell is not blank\"\"\"\n",
    "    if pd.notna(df[\"Soil Samples Approved\"]):\n",
    "        return \"Soil Samples Approved\"\n",
    "    \n",
    "    elif pd.notnull(df['Re-scrape 3 Results']):\n",
    "        return 'Re-scrape 3 Results'\n",
    "    \n",
    "    elif pd.notnull(df[\"Re-scrape 3 Results Rec'd from Lab\"]):\n",
    "        return \"Re-scrape 3 Results Rec'd from Lab\"\n",
    "    \n",
    "    elif pd.notnull(df[\"Re-scrape 2 Results\"]):\n",
    "        return \"Re-scrape 2 Results\"\n",
    "    \n",
    "    elif pd.notnull(df[\"Re-scrape 2 Results Rec'd from Lab\"]):\n",
    "        return \"Re-scrape 2 Results Rec'd from Lab\"\n",
    "    \n",
    "    elif pd.notnull(df['Soil Re-scrape 2']):\n",
    "        return 'Soil Re-scrape 2'\n",
    "    \n",
    "    elif pd.notnull(df[\"Re-scrape Results\"]):\n",
    "        return \"Re-scrape Results\"\n",
    "    \n",
    "    elif pd.notnull(df[\"Re-scrape Results Rec'd from Lab\"]):\n",
    "        return \"Re-scrape Results Rec'd from Lab\"\n",
    "    \n",
    "    elif pd.notnull(df['Soil Re-scrape']):\n",
    "        return 'Soil Re-scrape'\n",
    "    \n",
    "    elif pd.notnull(df['Soil Boring Results']):\n",
    "        return 'Soil Boring Results'\n",
    "    \n",
    "    elif pd.notnull(df['Soil Boring Results Rec\\'d from Lab']):\n",
    "        return 'Soil Boring Results Rec\\'d from Lab'\n",
    "    \n",
    "    elif pd.notnull(df['Soil Boring']):\n",
    "        return 'Soil Boring'\n",
    "    \n",
    "    elif pd.notnull(df[\"Soil Sample Results\"]):\n",
    "        return \"Soil Sample Results\"\n",
    "    \n",
    "    elif pd.notnull(df['Soil Sample Results Rec\\'d from Lab']):\n",
    "        return 'Soil Sample Results Rec\\'d from Lab'\n",
    "    \n",
    "    elif pd.notnull(df['Soil Sample']):\n",
    "        return 'Soil Sample'\n",
    "    \n",
    "    "
   ]
  },
  {
   "cell_type": "code",
   "execution_count": 15,
   "id": "865a29d6",
   "metadata": {},
   "outputs": [],
   "source": [
    "soilTak_soilRec.insert(soilTak_soilRec.columns.get_loc(\"Soil Samples Approved\")+1, \"Location in smartsheets\",\n",
    "                      soilTak_soilRec.apply(soil_location, axis=1))"
   ]
  },
  {
   "cell_type": "markdown",
   "id": "765b71c7",
   "metadata": {},
   "source": [
    "### Merge with the Soil Share point with the following columns\n",
    "* APN\n",
    "* Field Notes\n",
    "* Tt Recommendation\n",
    "* State Recommendation\n",
    "* State Rec Details\n",
    "* Access Issue\n",
    "* DTSC Mercury Site"
   ]
  },
  {
   "cell_type": "code",
   "execution_count": 16,
   "id": "dc7d1fff",
   "metadata": {},
   "outputs": [],
   "source": [
    "path_soilTracker = r\"C:\\Users\\jacque.trahan\\Downloads\\Soil Sampling Tracker*\"\n",
    "load_soil = glob.glob(path_soilTracker + fileType_csv)\n",
    "df_soilT = pd.read_csv(max(load_soil, key=os.path.getctime), usecols=['APN', 'Field Notes', 'Tt Recommendation', \n",
    "                                                                       'State Recommendation', 'State Rec Details',\n",
    "                                                                       'Access Issue', 'DTSC Mercury Site','State Recommendation',\n",
    "                                                                      'State Rec Details','State Rec Date','QC State Recs','ExpectedResultsDate',\n",
    "                                                                      'Current Sample Event','Division'])"
   ]
  },
  {
   "cell_type": "code",
   "execution_count": 17,
   "id": "7cfebe94",
   "metadata": {},
   "outputs": [],
   "source": [
    "df_soilT = df_soilT[df_soilT['Division'].isin(['Central Division'])]"
   ]
  },
  {
   "cell_type": "code",
   "execution_count": 18,
   "id": "404776e1",
   "metadata": {},
   "outputs": [],
   "source": [
    "Soil_final = soilTak_soilRec.merge(df_soilT,\n",
    "                              how='outer',\n",
    "                              left_on='APN_ROW Segment',\n",
    "                              right_on='APN')"
   ]
  },
  {
   "cell_type": "code",
   "execution_count": 19,
   "id": "a4ef4e6f",
   "metadata": {},
   "outputs": [],
   "source": [
    "Soil_final = Soil_final[['APN_ROW Segment','Street #', 'Street Name', 'County',\n",
    "                         'ExpectedResultsDate','Current Sample Event', \"Location in smartsheets\",\"Soil Samples Approved\",\n",
    "                         'Soil Sample', \"Soil Sample Results Rec'd from Lab\", \"Soil Sample Results\",\n",
    "                        'Field Notes', 'Tt Recommendation', 'State Recommendation', 'State Rec Details',\n",
    "                         'Access Issue', 'DTSC Mercury Site',\n",
    "                         'State Rec Details','State Rec Date','QC State Recs',\n",
    "                         'Division']]\n",
    "\n",
    "Soil_final.to_excel('No soil sample result indicated, but a rec\\'d from lab date-Manual Check.xlsx')"
   ]
  },
  {
   "cell_type": "markdown",
   "id": "ee1a23d5",
   "metadata": {},
   "source": [
    "# long and lats missing"
   ]
  },
  {
   "cell_type": "code",
   "execution_count": 20,
   "id": "0e7b719a",
   "metadata": {},
   "outputs": [],
   "source": [
    "lon_lat = df_both.copy()\n",
    "lon_lat = lon_lat[['APN_ROW Segment','Latitude', 'Longitude']]\n",
    "\n",
    "lon_lat = lon_lat[lon_lat['Latitude'].isna() | lon_lat['Longitude'].isna()]\n",
    "\n",
    "lon_lat.to_excel(\"Missing long and lat.xlsx\")"
   ]
  },
  {
   "cell_type": "markdown",
   "id": "746a631c",
   "metadata": {},
   "source": [
    "# TREE WLPZ and In Lieu are not blank before tree felling starts"
   ]
  },
  {
   "cell_type": "code",
   "execution_count": 21,
   "id": "ed9f0a16",
   "metadata": {},
   "outputs": [],
   "source": [
    "tree = df_both.copy()\n",
    "tree = tree[(tree['Withdrawal'].isna()) & (tree['Not Eligible'].isna())]\n",
    "tree = tree[['APN_ROW Segment','Street #', 'Street Name', 'County','Tree Crew',\n",
    "             'WLPZ Zone?','In lieu practices?',\n",
    "             'Division', 'Withdrawal', 'Not Eligible']]\n",
    "\n",
    "tree = tree[(tree['WLPZ Zone?'].isna() | tree['In lieu practices?'].isna()) &\n",
    "            (tree['Tree Crew'].str.contains(\"Tree Crew\"))]\n",
    "\n",
    "tree.set_index('APN_ROW Segment')\n",
    "tree.to_excel(\"TREE WLPZ and In Lieu are blank before tree felling starts.xlsx\")"
   ]
  },
  {
   "cell_type": "markdown",
   "id": "a119ca4b",
   "metadata": {},
   "source": [
    "# TREE WLPZ and In Lieu - Checks Power BI and Smart sheets comparasions"
   ]
  },
  {
   "cell_type": "code",
   "execution_count": 22,
   "id": "3c92ea7b",
   "metadata": {},
   "outputs": [],
   "source": [
    "# tree2 = df_both.copy()\n",
    "# tree2 = tree2[(tree2['Withdrawal'].isna()) & (tree2['Not Eligible'].isna())]\n",
    "# tree2 = tree2[['APN_ROW Segment','Street #', 'Street Name', 'County','Tree Crew',\n",
    "#              'WLPZ Zone?','In lieu practices?',\n",
    "#              'Division', 'Withdrawal', 'Not Eligible']]\n",
    "\n",
    "# tree2 = tree2[(tree2['WLPZ Zone?'].notna() & tree2['In lieu practices?'].isna())]"
   ]
  },
  {
   "cell_type": "code",
   "execution_count": 23,
   "id": "adf0c53f",
   "metadata": {},
   "outputs": [],
   "source": [
    "# rpf = pd.read_csv(r\"C:\\Users\\jacque.trahan\\Downloads\\RPFs.csv\")\n",
    "\n",
    "# rpf = rpf[rpf['County'].isin(['ALPINE', 'EL DORADO', 'LAKE', 'NEVADA', 'PLACER', 'TUOLUMNE', 'MENDOCINO', 'TULARE'])]"
   ]
  },
  {
   "cell_type": "code",
   "execution_count": 24,
   "id": "17e7d6f4",
   "metadata": {},
   "outputs": [],
   "source": [
    "# final = tree2.merge(rpf,\n",
    "#                    how='outer',\n",
    "#                    left_on='APN_ROW Segment',\n",
    "#                    right_on='APN')"
   ]
  },
  {
   "cell_type": "code",
   "execution_count": 25,
   "id": "5e14d322",
   "metadata": {},
   "outputs": [],
   "source": [
    "# final.to_excel('RPF power bi test-APN check.xlsx')"
   ]
  },
  {
   "cell_type": "markdown",
   "id": "84f5d4d9",
   "metadata": {},
   "source": [
    "# Tree Count in smart sheets compared to RTR\n",
    "\n",
    "* Check for mismatching tree counts "
   ]
  },
  {
   "cell_type": "code",
   "execution_count": 26,
   "id": "8786670c",
   "metadata": {},
   "outputs": [],
   "source": [
    "Tree_counts = df_both\n",
    "Tree_counts = Tree_counts[['APN_ROW Segment','Street #', 'Street Name', 'County','Tree Crew',\n",
    "                          'Number of Trees', 'Number of Hazard Trees Felled',\n",
    "                          'Withdrawal', 'Not Eligible']]\n",
    "Tree_counts = Tree_counts[(Tree_counts['Withdrawal'].isna()) & (Tree_counts['Not Eligible'].isna())]\n",
    "\n",
    "Tree_counts.insert(Tree_counts.columns.get_loc('Number of Hazard Trees Felled')+1, \"Match Counts\",\n",
    "                  Tree_counts.apply(compare, comp1='Number of Trees', comp2='Number of Hazard Trees Felled', axis=1))\n",
    "\n",
    "# Tree_counts.set_index('APN_ROW Segment', inplace=True)\n",
    "# Tree_counts.to_excel('# of trees on assesment vs number of trees felled in smart sheets comparasion.xlsx')"
   ]
  },
  {
   "cell_type": "code",
   "execution_count": 27,
   "id": "a7070002",
   "metadata": {},
   "outputs": [],
   "source": [
    "# bring in RTR and only look fo 76 tickets\n",
    "RTR_Tree = df_RTR.copy()\n",
    "RTR_Tree = RTR_Tree[['Zone Name','Is Void', 'GIS Zone1', 'Service Code', 'Unit Count']]\n",
    "RTR_Tree['Service Code'] = RTR_Tree['Service Code'].str.strip()\n",
    "\n",
    "RTR_Tree = RTR_Tree[(RTR_Tree['GIS Zone1'].isin(['CENTRAL DIVISION'])) & (RTR_Tree['Is Void'] == False) &\n",
    "                   RTR_Tree['Service Code'].isin(['76'])]\n",
    "\n",
    "RTR_Tree['Zone Name'] = RTR_Tree['Zone Name'].str[:3] + \"-\" + RTR_Tree['Zone Name'].str[3:6] + \"-\" + RTR_Tree['Zone Name'].str[6:]"
   ]
  },
  {
   "cell_type": "code",
   "execution_count": 28,
   "id": "baa90832",
   "metadata": {},
   "outputs": [],
   "source": [
    "RTR_Tree = RTR_Tree.groupby(['Zone Name', 'Service Code']).sum(['Unit Count']).drop(columns='Is Void').reset_index()"
   ]
  },
  {
   "cell_type": "code",
   "execution_count": 29,
   "id": "dec84086",
   "metadata": {
    "scrolled": true
   },
   "outputs": [],
   "source": [
    "final_TreeCount = Tree_counts.merge(RTR_Tree,\n",
    "                                   how='outer',\n",
    "                                   left_on='APN_ROW Segment',\n",
    "                                   right_on='Zone Name')"
   ]
  },
  {
   "cell_type": "code",
   "execution_count": 30,
   "id": "fd704164",
   "metadata": {},
   "outputs": [],
   "source": [
    "final_TreeCount = final_TreeCount.style.set_properties(**{'background-color': 'yellow'},\n",
    "                                    subset=('Match Counts'))"
   ]
  },
  {
   "cell_type": "code",
   "execution_count": 31,
   "id": "a35f3426",
   "metadata": {},
   "outputs": [],
   "source": [
    "final_TreeCount.to_excel('Tree Test.xlsx')"
   ]
  },
  {
   "cell_type": "code",
   "execution_count": null,
   "id": "931d3109",
   "metadata": {},
   "outputs": [],
   "source": []
  }
 ],
 "metadata": {
  "kernelspec": {
   "display_name": "Python 3",
   "language": "python",
   "name": "python3"
  },
  "language_info": {
   "codemirror_mode": {
    "name": "ipython",
    "version": 3
   },
   "file_extension": ".py",
   "mimetype": "text/x-python",
   "name": "python",
   "nbconvert_exporter": "python",
   "pygments_lexer": "ipython3",
   "version": "3.9.4"
  }
 },
 "nbformat": 4,
 "nbformat_minor": 5
}
