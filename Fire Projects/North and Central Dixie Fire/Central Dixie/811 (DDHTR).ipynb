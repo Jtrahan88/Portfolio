{
 "cells": [
  {
   "cell_type": "markdown",
   "id": "f15190d2",
   "metadata": {},
   "source": [
    "# 811s\n",
    "### outputs\n",
    "* Marked as completed in smart sheets\n",
    "* Marked as not completed in smart sheets"
   ]
  },
  {
   "cell_type": "code",
   "execution_count": 1,
   "id": "5973ec22",
   "metadata": {},
   "outputs": [],
   "source": [
    "import pandas as pd\n",
    "import os\n",
    "import glob\n",
    "import numpy as np"
   ]
  },
  {
   "cell_type": "code",
   "execution_count": 2,
   "id": "1a91ca2c",
   "metadata": {},
   "outputs": [],
   "source": [
    "path = r\"C:\\Users\\jacque.trahan\\Downloads\\Central Division 2021 Debris Removal Tracker*\"\n",
    "file_type = \".xlsx\"\n",
    "load_it = glob.glob(path + file_type)\n",
    "df = pd.read_excel(max(load_it, key=os.path.getctime))"
   ]
  },
  {
   "cell_type": "code",
   "execution_count": 3,
   "id": "61adc5ec",
   "metadata": {},
   "outputs": [],
   "source": [
    "checks = df.copy()"
   ]
  },
  {
   "cell_type": "code",
   "execution_count": 4,
   "id": "693f7f35",
   "metadata": {},
   "outputs": [
    {
     "name": "stdout",
     "output_type": "stream",
     "text": [
      "<class 'pandas.core.frame.DataFrame'>\n",
      "RangeIndex: 986 entries, 0 to 985\n",
      "Data columns (total 141 columns):\n",
      " #    Column                                              Dtype         \n",
      "---   ------                                              -----         \n",
      " 0    APN_ROW Segment                                     object        \n",
      " 1    ROE Type                                            object        \n",
      " 2    Structural Status                                   object        \n",
      " 3    Haz Tree Status                                     object        \n",
      " 4    Debris Crew                                         object        \n",
      " 5    Tree Crew                                           object        \n",
      " 6    Street #                                            object        \n",
      " 7    Street Name                                         object        \n",
      " 8    Unit #                                              object        \n",
      " 9    City                                                object        \n",
      " 10   County                                              object        \n",
      " 11   Group                                               float64       \n",
      " 12   Property Type                                       object        \n",
      " 13   Priority                                            object        \n",
      " 14   Elevation                                           float64       \n",
      " 15   Withdrawal                                          datetime64[ns]\n",
      " 16   Not Eligible                                        datetime64[ns]\n",
      " 17   Reason for Ineligibility                            object        \n",
      " 18   Determinant for Ineligibility                       object        \n",
      " 19   Hold                                                float64       \n",
      " 20   Hold Reason                                         object        \n",
      " 21   Safety Concern Property                             float64       \n",
      " 22   USFS Parcel?                                        float64       \n",
      " 23   Special Inclusion                                   object        \n",
      " 24   Gate Locked?                                        float64       \n",
      " 25   Code_Key Location                                   object        \n",
      " 26   Access Issues                                       float64       \n",
      " 27   Access Issues Type                                  object        \n",
      " 28   Phase 1 Complete                                    object        \n",
      " 29   Needs Milk Run or Phase 1 Revisit                   object        \n",
      " 30   811 Called (A&M)                                    float64       \n",
      " 31   Site Assessment                                     datetime64[ns]\n",
      " 32   RAD_MERC Sweep                                      datetime64[ns]\n",
      " 33   RAD_MERC Detected                                   float64       \n",
      " 34   Chimney                                             object        \n",
      " 35   Chimney Inaccessible for ASB                        float64       \n",
      " 36   Chimney Tipped                                      datetime64[ns]\n",
      " 37   NESHAP Walls                                        object        \n",
      " 38   NESHAP Notification                                 float64       \n",
      " 39   In Ground Pool                                      object        \n",
      " 40   Large Propane Tank                                  object        \n",
      " 41   Well                                                object        \n",
      " 42   Septic                                              object        \n",
      " 43   Solar_Wind Power                                    object        \n",
      " 44   Structural Walls                                    object        \n",
      " 45   Need Contractor Assist for ASB                      float64       \n",
      " 46   Vehicle(s)                                          float64       \n",
      " 47   Number of Passenger Vehicles                        float64       \n",
      " 48   Number of ATV_UTV_snowmobiles                       float64       \n",
      " 49   Number of Ag_Commercial_Construction Equipment      float64       \n",
      " 50   Number of Motorcycles                               float64       \n",
      " 51   Number of RV's                                      float64       \n",
      " 52   Number of Trailers                                  float64       \n",
      " 53   Number of Vessels (Boat_Jetski)                     float64       \n",
      " 54   Total Number of Vehicles                            float64       \n",
      " 55   Vehicles Description                                float64       \n",
      " 56   Number of Vehicles Removed                          float64       \n",
      " 57   ASB Assessment                                      datetime64[ns]\n",
      " 58   ASB Suspected                                       object        \n",
      " 59   ASB Sample Sent                                     datetime64[ns]\n",
      " 60   ASB Results Received                                datetime64[ns]\n",
      " 61   ASB Results                                         object        \n",
      " 62   ASB Abatement                                       datetime64[ns]\n",
      " 63   CAC Clearance                                       datetime64[ns]\n",
      " 64   Day to Asb Abatement from Results Rec'd             float64       \n",
      " 65   Bio Assessment                                      datetime64[ns]\n",
      " 66   Bio Monitor Needed                                  object        \n",
      " 67   Arch Assessment                                     datetime64[ns]\n",
      " 68   Arch Monitor Needed                                 object        \n",
      " 69   Tribal Clearance Required                           object        \n",
      " 70   WLPZ Zone?                                          object        \n",
      " 71   In lieu practices?                                  object        \n",
      " 72   OES EHP Attention Required                          object        \n",
      " 73   OES EHP Site Visit                                  datetime64[ns]\n",
      " 74   OES EHP Notes                                       float64       \n",
      " 75   Water crossing/bridge needed?                       object        \n",
      " 76   Water crossing/bridge install                       datetime64[ns]\n",
      " 77   Water crossing/bridge removal                       float64       \n",
      " 78   Permit(s) Needed                                    object        \n",
      " 79   Permit(s) Received                                  object        \n",
      " 80   811 Called (DDHTR)                                  float64       \n",
      " 81   Ready for Debris Removal                            datetime64[ns]\n",
      " 82   Property Owner Contact for Debris                   datetime64[ns]\n",
      " 83   Property Owner Contact for Trees                    datetime64[ns]\n",
      " 84   Contact Notes                                       object        \n",
      " 85   If Unable to Contact, Attempted # of Contacts       object        \n",
      " 86   If Unable to Contact, Who Approved to Move Forward  object        \n",
      " 87   Scheduled for Debris Removal                        datetime64[ns]\n",
      " 88   Debris Start                                        datetime64[ns]\n",
      " 89   Debris Finish                                       datetime64[ns]\n",
      " 90   State Rep Sign-Off for DR                           datetime64[ns]\n",
      " 91   Damage Caused during DR                             float64       \n",
      " 92   Explanation of Damage during DR                     float64       \n",
      " 93   Days from Debris Finish to Soil Sample              float64       \n",
      " 94   Soil Sample                                         datetime64[ns]\n",
      " 95   Soil Sample Results Rec'd from Lab                  datetime64[ns]\n",
      " 96   Day(s) From Soil Sample to Results Rec'd            float64       \n",
      " 97   Soil Sample Results                                 object        \n",
      " 98   Soil Boring                                         datetime64[ns]\n",
      " 99   Soil Boring Results Rec'd from Lab                  datetime64[ns]\n",
      " 100  Soil Boring Results                                 object        \n",
      " 101  Soil Re-scrape                                      datetime64[ns]\n",
      " 102  Re-scrape Results Rec'd from Lab                    datetime64[ns]\n",
      " 103  Re-scrape Results                                   object        \n",
      " 104  Soil Re-scrape 2                                    datetime64[ns]\n",
      " 105  Re-scrape 2 Results Rec'd from Lab                  float64       \n",
      " 106  Re-scrape 2 Results                                 float64       \n",
      " 107  Soil Rescrape 3                                     float64       \n",
      " 108  Re-scrape 3 Results Rec'd from Lab                  float64       \n",
      " 109  Re-scrape 3 Results                                 float64       \n",
      " 110  Soil Samples Approved                               datetime64[ns]\n",
      " 111  Haz Trees Assessment                                datetime64[ns]\n",
      " 112  Haz Trees Present?                                  object        \n",
      " 113  Number of Trees                                     float64       \n",
      " 114  Tree Felling Start                                  datetime64[ns]\n",
      " 115  Tree Felling Complete                               datetime64[ns]\n",
      " 116  Tree Removal Start                                  float64       \n",
      " 117  Tree Removal Complete                               float64       \n",
      " 118  Number of Hazard Trees Felled                       float64       \n",
      " 119  Erosion Control Complete                            datetime64[ns]\n",
      " 120  Erosion Control Waiver                              float64       \n",
      " 121  Trees Completion Check                              float64       \n",
      " 122  Debris FSO Complete                                 datetime64[ns]\n",
      " 123  FSO Complete                                        datetime64[ns]\n",
      " 124  FSO Sent to County                                  datetime64[ns]\n",
      " 125  Owner Name                                          object        \n",
      " 126  Owner Phone                                         object        \n",
      " 127  Owner Email                                         object        \n",
      " 128  ROE Notes                                           object        \n",
      " 129  Special Notes                                       object        \n",
      " 130  Latitude                                            float64       \n",
      " 131  Longitude                                           float64       \n",
      " 132  Fire Name                                           object        \n",
      " 133  Declaration                                         object        \n",
      " 134  Parcel Zoning Type                                  object        \n",
      " 135  Insurance                                           object        \n",
      " 136  ROE Date                                            datetime64[ns]\n",
      " 137  ROE Verified                                        object        \n",
      " 138  Division                                            object        \n",
      " 139  Modified Date                                       datetime64[ns]\n",
      " 140  Duplicate                                           float64       \n",
      "dtypes: datetime64[ns](38), float64(45), object(58)\n",
      "memory usage: 1.1+ MB\n"
     ]
    }
   ],
   "source": [
    "checks.info(verbose=True)"
   ]
  },
  {
   "cell_type": "code",
   "execution_count": null,
   "id": "e85fb8fd",
   "metadata": {},
   "outputs": [],
   "source": []
  },
  {
   "cell_type": "code",
   "execution_count": 5,
   "id": "b84edd97",
   "metadata": {},
   "outputs": [],
   "source": [
    "# set up \n",
    "checks_811s = checks[['APN_ROW Segment','Street #', 'Street Name', 'County','811 Called (DDHTR)',\n",
    "                      'Site Assessment', \"Debris Crew\", \"Not Eligible\", 'Withdrawal', 'Debris Start']]\n",
    "checks_811s = checks_811s[(checks_811s['Not Eligible'].isnull()) & (checks_811s['Withdrawal'].isnull())]\n",
    "checks_811s = checks_811s.copy()\n",
    "checks_811s['811 Called (DDHTR)'].fillna(0, inplace=True)"
   ]
  },
  {
   "cell_type": "code",
   "execution_count": 6,
   "id": "e911d64d",
   "metadata": {},
   "outputs": [],
   "source": [
    "# need to replace floats with what is means\n",
    "checks_811s.replace(1.0, \"Complete\", inplace=True)\n",
    "checks_811s.replace(0.0, \"Not done\", inplace=True)"
   ]
  },
  {
   "cell_type": "code",
   "execution_count": 7,
   "id": "0f3e4da8",
   "metadata": {},
   "outputs": [],
   "source": [
    "# set up our df for each catagory\n",
    "checks_811s_notdone = checks_811s[(checks_811s['811 Called (DDHTR)'] == \"Not done\") & (checks_811s['Debris Start'].notnull())]\n",
    "checks_811s_complete= checks_811s[(checks_811s['811 Called (DDHTR)']==\"Complete\")] \n",
    "\n",
    "\n",
    "# output for excles\n",
    "checks_811s_notdone.to_excel(\"811 Called (DDHTR) Not completed.xlsx\")\n",
    "checks_811s_complete.to_excel(\"811 Called (DDHTR) completed.xlsx\")"
   ]
  },
  {
   "cell_type": "code",
   "execution_count": 8,
   "id": "90f8b198",
   "metadata": {},
   "outputs": [
    {
     "ename": "SyntaxError",
     "evalue": "invalid syntax (<ipython-input-8-774f1dd50554>, line 1)",
     "output_type": "error",
     "traceback": [
      "\u001b[1;36m  File \u001b[1;32m\"<ipython-input-8-774f1dd50554>\"\u001b[1;36m, line \u001b[1;32m1\u001b[0m\n\u001b[1;33m    if\u001b[0m\n\u001b[1;37m       ^\u001b[0m\n\u001b[1;31mSyntaxError\u001b[0m\u001b[1;31m:\u001b[0m invalid syntax\n"
     ]
    }
   ],
   "source": []
  }
 ],
 "metadata": {
  "kernelspec": {
   "display_name": "Python 3",
   "language": "python",
   "name": "python3"
  },
  "language_info": {
   "codemirror_mode": {
    "name": "ipython",
    "version": 3
   },
   "file_extension": ".py",
   "mimetype": "text/x-python",
   "name": "python",
   "nbconvert_exporter": "python",
   "pygments_lexer": "ipython3",
   "version": "3.9.4"
  }
 },
 "nbformat": 4,
 "nbformat_minor": 5
}
