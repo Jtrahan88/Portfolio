{
 "cells": [
  {
   "cell_type": "markdown",
   "id": "f15190d2",
   "metadata": {},
   "source": [
    "# 811s\n",
    "### outputs\n",
    "* Gets 811 DDHTR vlook ups - Named: DDHTR 811 Vlookup info"
   ]
  },
  {
   "cell_type": "code",
   "execution_count": 1,
   "id": "5973ec22",
   "metadata": {},
   "outputs": [],
   "source": [
    "import pandas as pd\n",
    "import os\n",
    "import glob\n",
    "import numpy as np\n",
    "import smartsheet\n",
    "\n",
    "#Variables\n",
    "# random\n",
    "excel = '.xlsx'\n",
    "csv = '.csv'\n",
    "\n",
    "# smartsheets Shet IDs\n",
    "Central_id = '1844440261257092'\n",
    "South_id= '6292262490531716'\n",
    "\n",
    "# Central's API\n",
    "Central = smartsheet.Smartsheet('6jJFxnAfFsDErU0BSr1Ae4D6cHq0zenczVR12') #API\n",
    "\n",
    "Central.errors_as_exceptions(True)\n",
    "\n",
    "# Central's API\n",
    "South = smartsheet.Smartsheet(\"H8mqAo60J2zGHSrJEwmlMoY88A9yjgCo6RnSI\") # API\n",
    "South.errors_as_exceptions(True)\n",
    "\n",
    "#download smartsheets to any folder you need\n",
    "# Central.Sheets.get_sheet_as_excel(Central_id, download_path=r\"C:\\Users\\jacque.trahan\\Downloads\")\n",
    "# South.Sheets.get_sheet_as_excel(South_id, download_path=r\"C:\\Users\\jacque.trahan\\Downloads\") \n",
    "\n",
    "\n",
    "#Google Sheets\n",
    "#Sheet ID comes right after /d/ in the URL\n",
    "Google_sheet_ID= '1O2dmdhEo5hJVAgRVDl4M4n3_v-KqHS56q3OZVdpZANU'\n",
    "# name of tab you want to use\n",
    "Google_sheets_name = 'Tree RTR Tracker'\n",
    "\n",
    "# this is tricky. after /export? we must put format=csv#id={Sheet Name}   -> manually to make this work\n",
    "url = f'https://docs.google.com/spreadsheets/d/{Google_sheet_ID}/export?format=csv#id={Google_sheets_name}'\n",
    "\n",
    "# Function to read in column titles and row vales and make out data frames\n",
    "def smartsheet_loadup(sheet):\n",
    "    columns = [col.title for col in sheet.columns]\n",
    "    rows = []\n",
    "    for row in sheet.rows:\n",
    "        cells = []\n",
    "        for cell in row.cells:\n",
    "            cells.append(cell.value)\n",
    "        rows.append(cells)\n",
    "    df = pd.DataFrame(rows, columns=columns)\n",
    "    return df\n",
    "\n",
    "Central_SS = smartsheet_loadup(Central.Sheets.get_sheet(Central_id))\n",
    "South_SS = smartsheet_loadup(South.Sheets.get_sheet(South_id))\n",
    "\n",
    "df_both = pd.concat([Central_SS,South_SS])"
   ]
  },
  {
   "cell_type": "markdown",
   "id": "ea5134d7",
   "metadata": {},
   "source": [
    "# Smartsheets uplaod below updated above. No longer need to download smartsheets"
   ]
  },
  {
   "cell_type": "code",
   "execution_count": 2,
   "id": "1a91ca2c",
   "metadata": {},
   "outputs": [],
   "source": [
    "# path = r\"C:\\Users\\jacque.trahan\\Downloads\\Central Division 2021 Debris Removal Tracker*\"\n",
    "# file_type = \".xlsx\"\n",
    "# load_it = glob.glob(path + file_type)\n",
    "# df = pd.read_excel(max(load_it, key=os.path.getctime))"
   ]
  },
  {
   "cell_type": "code",
   "execution_count": 3,
   "id": "9ec183a9",
   "metadata": {},
   "outputs": [],
   "source": [
    "# path2 = r\"C:\\Users\\jacque.trahan\\Downloads\\South Central Division 2021 Debris Removal Tracker*\"\n",
    "# loadit2 = glob.glob(path2 + file_type)\n",
    "# df2 = pd.read_excel(max(loadit2, key=os.path.getctime))"
   ]
  },
  {
   "cell_type": "code",
   "execution_count": 4,
   "id": "66da1828",
   "metadata": {},
   "outputs": [],
   "source": [
    "# df_both = pd.concat([df,df2])"
   ]
  },
  {
   "cell_type": "code",
   "execution_count": 5,
   "id": "856e33dd",
   "metadata": {},
   "outputs": [],
   "source": [
    "# df_both[['APN_ROW Segment','Street #', 'Street Name']].to_excel(\"find APNs for ECC.xlsx\")"
   ]
  },
  {
   "cell_type": "code",
   "execution_count": 6,
   "id": "b84edd97",
   "metadata": {},
   "outputs": [],
   "source": [
    "# checks = df_both.copy()\n",
    "# # set up \n",
    "# checks_811s = checks[['APN_ROW Segment','Street #', 'Street Name', 'County','811 Called (DDHTR)',\n",
    "#                       'Site Assessment', \"Debris Crew\", \"Not Eligible\", 'Withdrawal', 'Debris Start']]\n",
    "\n",
    "# checks_811s = checks_811s[(checks_811s['Not Eligible'].isnull()) & (checks_811s['Withdrawal'].isnull())]\n",
    "# checks_811s = checks_811s.copy()\n",
    "\n",
    "# checks_811s['811 Called (DDHTR)'].fillna(0, inplace=True)\n",
    "\n",
    "# # need to replace floats with what is means\n",
    "# checks_811s.replace({'811 Called (DDHTR)':{ 1.0: \"Complete\", 0.0: \"Not done\"}}, inplace=True)\n",
    "\n",
    "# # set up our df for each catagory\n",
    "# checks_811s_notdone = checks_811s[(checks_811s['811 Called (DDHTR)'] == \"Not done\") & (checks_811s['Debris Start'].notnull())]\n",
    "# checks_811s_complete= checks_811s[(checks_811s['811 Called (DDHTR)']==\"Complete\")] \n",
    "\n",
    "# # output for excles\n",
    "# checks_811s_notdone.to_excel(\"811 Called (DDHTR) Not completed.xlsx\")\n",
    "# checks_811s_complete.to_excel(\"811 Called (DDHTR) completed.xlsx\")"
   ]
  },
  {
   "cell_type": "markdown",
   "id": "76fa50d9",
   "metadata": {},
   "source": [
    "# Set up vlookup for DDTHR 811s tracker"
   ]
  },
  {
   "cell_type": "code",
   "execution_count": 7,
   "id": "3f77079f",
   "metadata": {},
   "outputs": [],
   "source": [
    "vlookup = df_both.copy()\n",
    "\n",
    "vlookup = vlookup[['APN_ROW Segment','Street #', 'Street Name', 'City', 'County',\n",
    "                      'Total Number of Vehicles', 'Number of Trees',\"Not Eligible\", 'Debris Finish', \n",
    "                      'Structural Status', 'ROE Type', '811 Called (DDHTR)', '811 Expiration Date']]\n",
    "\n",
    "vlookup['811 Called (DDHTR)'] = np.where(vlookup['811 Called (DDHTR)'] == 1, 'Completed', 'Incomplete')\n",
    "\n",
    "vlookup.set_index('APN_ROW Segment', inplace=True)\n",
    "vlookup.to_excel('DDHTR 811 Vlookup info.xlsx')"
   ]
  },
  {
   "cell_type": "code",
   "execution_count": null,
   "id": "81e8acc7",
   "metadata": {},
   "outputs": [],
   "source": []
  }
 ],
 "metadata": {
  "kernelspec": {
   "display_name": "Python 3",
   "language": "python",
   "name": "python3"
  },
  "language_info": {
   "codemirror_mode": {
    "name": "ipython",
    "version": 3
   },
   "file_extension": ".py",
   "mimetype": "text/x-python",
   "name": "python",
   "nbconvert_exporter": "python",
   "pygments_lexer": "ipython3",
   "version": "3.9.4"
  }
 },
 "nbformat": 4,
 "nbformat_minor": 5
}
