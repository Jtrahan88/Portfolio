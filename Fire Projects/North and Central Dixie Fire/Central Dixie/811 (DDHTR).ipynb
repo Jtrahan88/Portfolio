{
 "cells": [
  {
   "cell_type": "markdown",
   "id": "f15190d2",
   "metadata": {},
   "source": [
    "# 811s\n",
    "### outputs\n",
    "* Marked as completed in smart sheets\n",
    "* Marked as not completed in smart sheets"
   ]
  },
  {
   "cell_type": "code",
   "execution_count": 1,
   "id": "5973ec22",
   "metadata": {},
   "outputs": [],
   "source": [
    "import pandas as pd\n",
    "import os\n",
    "import glob\n",
    "import numpy as np"
   ]
  },
  {
   "cell_type": "code",
   "execution_count": 2,
   "id": "1a91ca2c",
   "metadata": {},
   "outputs": [],
   "source": [
    "path = r\"C:\\Users\\jacque.trahan\\Downloads\\Central Division 2021 Debris Removal Tracker*\"\n",
    "file_type = \".xlsx\"\n",
    "load_it = glob.glob(path + file_type)\n",
    "df = pd.read_excel(max(load_it, key=os.path.getctime))"
   ]
  },
  {
   "cell_type": "code",
   "execution_count": 3,
   "id": "9ec183a9",
   "metadata": {},
   "outputs": [],
   "source": [
    "path2 = r\"C:\\Users\\jacque.trahan\\Downloads\\South Central Division 2021 Debris Removal Tracker*\"\n",
    "loadit2 = glob.glob(path2 + file_type)\n",
    "df2 = pd.read_excel(max(loadit2, key=os.path.getctime))"
   ]
  },
  {
   "cell_type": "code",
   "execution_count": 4,
   "id": "66da1828",
   "metadata": {},
   "outputs": [],
   "source": [
    "df_both = pd.concat([df,df2])"
   ]
  },
  {
   "cell_type": "code",
   "execution_count": 5,
   "id": "b84edd97",
   "metadata": {},
   "outputs": [],
   "source": [
    "checks = df_both.copy()\n",
    "# set up \n",
    "checks_811s = checks[['APN_ROW Segment','Street #', 'Street Name', 'County','811 Called (DDHTR)',\n",
    "                      'Site Assessment', \"Debris Crew\", \"Not Eligible\", 'Withdrawal', 'Debris Start']]\n",
    "\n",
    "checks_811s = checks_811s[(checks_811s['Not Eligible'].isnull()) & (checks_811s['Withdrawal'].isnull())]\n",
    "checks_811s = checks_811s.copy()\n",
    "\n",
    "checks_811s['811 Called (DDHTR)'].fillna(0, inplace=True)\n",
    "\n",
    "# need to replace floats with what is means\n",
    "checks_811s.replace({'811 Called (DDHTR)':{ 1.0: \"Complete\", 0.0: \"Not done\"}}, inplace=True)\n",
    "\n",
    "# set up our df for each catagory\n",
    "checks_811s_notdone = checks_811s[(checks_811s['811 Called (DDHTR)'] == \"Not done\") & (checks_811s['Debris Start'].notnull())]\n",
    "checks_811s_complete= checks_811s[(checks_811s['811 Called (DDHTR)']==\"Complete\")] \n",
    "\n",
    "# output for excles\n",
    "checks_811s_notdone.to_excel(\"811 Called (DDHTR) Not completed.xlsx\")\n",
    "checks_811s_complete.to_excel(\"811 Called (DDHTR) completed.xlsx\")"
   ]
  }
 ],
 "metadata": {
  "kernelspec": {
   "display_name": "Python 3",
   "language": "python",
   "name": "python3"
  },
  "language_info": {
   "codemirror_mode": {
    "name": "ipython",
    "version": 3
   },
   "file_extension": ".py",
   "mimetype": "text/x-python",
   "name": "python",
   "nbconvert_exporter": "python",
   "pygments_lexer": "ipython3",
   "version": "3.9.4"
  }
 },
 "nbformat": 4,
 "nbformat_minor": 5
}
