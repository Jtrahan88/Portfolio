{
 "cells": [
  {
   "cell_type": "code",
   "execution_count": 1,
   "id": "39657162",
   "metadata": {},
   "outputs": [],
   "source": [
    "import pandas as pd\n",
    "import os\n",
    "import glob\n",
    "import numpy as np\n",
    "import smartsheet\n",
    "\n",
    "#Variables\n",
    "# random\n",
    "excel = '.xlsx'\n",
    "csv = '.csv'\n",
    "\n",
    "# smartsheets Shet IDs\n",
    "Central_id = '1844440261257092'\n",
    "South_id= '6292262490531716'\n",
    "\n",
    "# Central's API\n",
    "Central = smartsheet.Smartsheet('6jJFxnAfFsDErU0BSr1Ae4D6cHq0zenczVR12') #API\n",
    "\n",
    "Central.errors_as_exceptions(True)\n",
    "\n",
    "# Central's API\n",
    "South = smartsheet.Smartsheet(\"H8mqAo60J2zGHSrJEwmlMoY88A9yjgCo6RnSI\") # API\n",
    "South.errors_as_exceptions(True)\n",
    "\n",
    "#download smartsheets to any folder you need\n",
    "# Central.Sheets.get_sheet_as_excel(Central_id, download_path=r\"C:\\Users\\jacque.trahan\\Downloads\")\n",
    "# South.Sheets.get_sheet_as_excel(South_id, download_path=r\"C:\\Users\\jacque.trahan\\Downloads\") \n",
    "\n",
    "\n",
    "#Google Sheets\n",
    "#Sheet ID comes right after /d/ in the URL\n",
    "Google_sheet_ID= '1O2dmdhEo5hJVAgRVDl4M4n3_v-KqHS56q3OZVdpZANU'\n",
    "# name of tab you want to use\n",
    "Google_sheets_name = 'Tree RTR Tracker'\n",
    "\n",
    "# this is tricky. after /export? we must put format=csv#id={Sheet Name}   -> manually to make this work\n",
    "url = f'https://docs.google.com/spreadsheets/d/{Google_sheet_ID}/export?format=csv#id={Google_sheets_name}'\n",
    "\n",
    "\n",
    "\n",
    "# Function to read in column titles and row vales and make out data frames from smartsheets\n",
    "def smartsheet_loadup(sheet):\n",
    "    columns = [col.title for col in sheet.columns]\n",
    "    rows = []\n",
    "    for row in sheet.rows:\n",
    "        cells = []\n",
    "        for cell in row.cells:\n",
    "            cells.append(cell.value)\n",
    "        rows.append(cells)\n",
    "    df = pd.DataFrame(rows, columns=columns)\n",
    "    return df\n",
    "\n",
    "Central_SS = smartsheet_loadup(Central.Sheets.get_sheet(Central_id))\n",
    "South_SS = smartsheet_loadup(South.Sheets.get_sheet(South_id))\n",
    "\n",
    "df_both = pd.concat([Central_SS,South_SS])\n"
   ]
  },
  {
   "cell_type": "markdown",
   "id": "7e8ab6dc",
   "metadata": {},
   "source": [
    "# Smartsheets now uploaded by API below method no longer used"
   ]
  },
  {
   "cell_type": "code",
   "execution_count": 2,
   "id": "b9cdded5",
   "metadata": {},
   "outputs": [],
   "source": [
    "# path1 = r\"C:\\Users\\jacque.trahan\\Downloads\\Central Division 2021 Debris Removal Tracker*\"\n",
    "# file_type1 = \".xlsx\"\n",
    "# load1 = glob.glob(path1 + file_type1)\n",
    "# df = pd.read_excel(max(load1, key=os.path.getctime))"
   ]
  },
  {
   "cell_type": "code",
   "execution_count": 3,
   "id": "c76487b8",
   "metadata": {},
   "outputs": [],
   "source": [
    "# path2 = r\"C:\\Users\\jacque.trahan\\Downloads\\South Central Division 2021 Debris Removal Tracker*\"\n",
    "# load2 = glob.glob(path2 + file_type1)\n",
    "# df2 = pd.read_excel(max(load2, key=os.path.getctime))\n",
    "# df2.rename(columns=({'Propane Tanks': 'Propane Tank'}),inplace=True)"
   ]
  },
  {
   "cell_type": "code",
   "execution_count": 4,
   "id": "009267bb",
   "metadata": {},
   "outputs": [],
   "source": [
    "# df_both = pd.concat([df, df2])"
   ]
  },
  {
   "cell_type": "code",
   "execution_count": 5,
   "id": "6962dfde",
   "metadata": {},
   "outputs": [],
   "source": [
    "# df_both.info(verbose=True)"
   ]
  },
  {
   "cell_type": "code",
   "execution_count": 6,
   "id": "e0f26649",
   "metadata": {},
   "outputs": [],
   "source": [
    "# check = df_both[['APN_ROW Segment', 'Structural Status', 'Street #', 'Street Name','County', 'Debris Crew','ROE Type',\n",
    "#                  'Haz Tree Status','Tree Felling Start', 'Tree Felling Complete','Trees Completion Check',\n",
    "#                  'Soil Samples Approved',\n",
    "#                  'Erosion Control Complete','Erosion Control Waiver']]"
   ]
  },
  {
   "cell_type": "code",
   "execution_count": 7,
   "id": "d168857f",
   "metadata": {},
   "outputs": [],
   "source": [
    "# check.to_excel('Check FSW and Debris Crew.xlsx')"
   ]
  },
  {
   "cell_type": "code",
   "execution_count": 8,
   "id": "d2d7033f",
   "metadata": {},
   "outputs": [],
   "source": [
    "FSO = df_both.copy()\n",
    "FSO = FSO[['APN_ROW Segment', 'Structural Status', 'Street #', 'Street Name','County',\n",
    "                  'Haz Tree Status',\"Tree Removal Complete\", # should say TFSW complete willneed to check this\n",
    "                  'Soil Samples Approved',\n",
    "                  'Erosion Control Complete', 'Erosion Control Waiver',\n",
    "                  \"USFS Parcel?\", \"Needs Milk Run or Phase 1 Revisit\",\n",
    "                   \"811 Called (A&M)\", \"811 Called (DDHTR)\",\n",
    "                   \"Vehicle(s)\", 'Number of Vehicles Removed',\n",
    "                   \"ROE Date\",\n",
    "                   'FSO Complete', 'FSO Sent to County','Debris Crew',\n",
    "           'Number of Trees','Tree Removal Start', 'Tree Removal Complete',\n",
    "           'Tree Felling Start', 'Tree Felling Complete',\n",
    "           'Number of Hazard Trees Felled','Trees Completion Check', 'ROE Type', 'Tree Crew', 'Trees Completion Check',\n",
    "           'Total Number of Vehicles',\n",
    "           'Hold', 'Hold Reason', 'Contact Notes', 'Propane Tank', 'Propane Tank Removal', 'Date Propane Tank Removed',\n",
    "           'Nesting Bird Survey Date', 'City'\n",
    "       ]]\n",
    "\n",
    "FSO[\"Vehicle(s)\"] = np.where(FSO[\"Vehicle(s)\"] == 1, \"True\", \"\")\n",
    "FSO[\"ROE Date\"] = FSO[\"ROE Date\"].fillna(\"\")\n",
    "FSO.set_index('APN_ROW Segment', inplace=True)\n",
    "FSO.to_excel(\"Smartsheets data.xlsx\")\n",
    "FSO.reset_index(inplace=True)"
   ]
  },
  {
   "cell_type": "markdown",
   "id": "5a283a7a",
   "metadata": {},
   "source": [
    "# Read in and set up RTR Data"
   ]
  },
  {
   "cell_type": "code",
   "execution_count": 9,
   "id": "b7b80a43",
   "metadata": {},
   "outputs": [],
   "source": [
    "# path2 = r\"C:\\Users\\jacque.trahan\\Downloads\\RTR Data Live*\"\n",
    "# file_type2 = \".xlsx\"\n",
    "# load2 = glob.glob(path2 + file_type2)\n",
    "# df2 = pd.read_excel(max(load2, key=os.path.getctime), parse_dates=True)"
   ]
  },
  {
   "cell_type": "code",
   "execution_count": 10,
   "id": "3a4d8b15",
   "metadata": {},
   "outputs": [],
   "source": [
    "# df2.info()"
   ]
  },
  {
   "cell_type": "code",
   "execution_count": 11,
   "id": "ca56d6bd",
   "metadata": {},
   "outputs": [],
   "source": [
    "path2 = r\"C:\\Users\\jacque.trahan\\Downloads\\aDataManagerTicketExport*\"\n",
    "file_type2 = \".xlsx\"\n",
    "load2 = glob.glob(path2 + file_type2)\n",
    "df2 = pd.read_excel(max(load2, key=os.path.getctime), parse_dates=True)"
   ]
  },
  {
   "cell_type": "code",
   "execution_count": 12,
   "id": "cabe95e8",
   "metadata": {},
   "outputs": [],
   "source": [
    "RTR2 = df2.copy()\n",
    "RTR2['Zone Name'] = RTR2['Zone Name'].str.strip()\n",
    "RTR2['Zone Name'] = RTR2['Zone Name'].replace(\"-\", \"\")\n",
    "RTR2['Zone Name'] = RTR2['Zone Name'].str[:3] + \"-\" + RTR2['Zone Name'].str[3:6] + \"-\" + RTR2['Zone Name'].str[6:]\n",
    "RTR2['Service Code'] = RTR2['Service Code'].str.strip()"
   ]
  },
  {
   "cell_type": "markdown",
   "id": "466e6d6b",
   "metadata": {},
   "source": [
    "# RTR Tree"
   ]
  },
  {
   "cell_type": "code",
   "execution_count": 13,
   "id": "3ca55569",
   "metadata": {},
   "outputs": [],
   "source": [
    "RTR = RTR2.copy()\n",
    "#set up columns & conditions for trees\n",
    "RTR = RTR[['Zone Name', 'Service Code', 'Unit Count', 'Is Void', 'GIS Zone1','GIS Zone2','Start Time', 'End Time',\"Addr No\", \"Addr St\", \"Ticket Number\"]]\n",
    "RTR = RTR[(RTR['Is Void'] == False) & (RTR['Service Code'].isin(['12A', '12B', '76', '55A','55B'])) & ~(RTR['GIS Zone1'].isin(['NORTHERN DIVISION']))] \n",
    "\n",
    "RTR.set_index('Zone Name', inplace = True)\n",
    "RTR.to_excel('RTR Data for Trees.xlsx')"
   ]
  },
  {
   "cell_type": "markdown",
   "id": "e4793a51",
   "metadata": {},
   "source": [
    "# RTR Data For Erosion"
   ]
  },
  {
   "cell_type": "code",
   "execution_count": 14,
   "id": "28172a41",
   "metadata": {},
   "outputs": [],
   "source": [
    "RTR_erosion = RTR2.copy()\n",
    "\n",
    "#Set up columns\n",
    "RTR_erosion = RTR_erosion[['Zone Name', 'Service Code', 'Unit Count', 'Is Void', 'GIS Zone1','GIS Zone2', 'Ticket Date',\n",
    "             \"Addr No\", \"Addr St\", \"Ticket Number\", \"End Time\", \"Disposal Monitor Name\"]]\n",
    "\n",
    "#set up conditions for erosion\n",
    "RTR_erosion = RTR_erosion[(RTR_erosion['Is Void'] == False) & (RTR_erosion['Service Code'] == '73A')] \n",
    "RTR_erosion =  RTR_erosion[~(RTR_erosion['GIS Zone1'].isin(['NORTHERN DIVISION']))]\n",
    "\n",
    "# format dates without times\n",
    "RTR_erosion['Ticket Date'] = pd.to_datetime(RTR_erosion['Ticket Date']).dt.date\n",
    "\n",
    "# set zone name as index and make an excel sheet\n",
    "RTR_erosion.set_index('Zone Name', inplace=True)\n",
    "RTR_erosion.to_excel('RTR Data For Erosion.xlsx')\n",
    "\n",
    "# RTR_erosion = RTR_erosion.add_suffix('_RTR')\n",
    "# RTR_erosion.reset_index(inplace=True)"
   ]
  },
  {
   "cell_type": "markdown",
   "id": "c38a933d",
   "metadata": {},
   "source": [
    "# Propane tank removal - Service code is 2B"
   ]
  },
  {
   "cell_type": "code",
   "execution_count": 15,
   "id": "52f8bbc9",
   "metadata": {},
   "outputs": [],
   "source": [
    "Propane = RTR2.copy()\n",
    "\n",
    "Propane = Propane[['Zone Name', 'Service Code', 'Unit Count', 'Is Void', 'GIS Zone1','GIS Zone2', 'Ticket Date',\n",
    "             \"Addr No\", \"Addr St\", \"Ticket Number\",\"End Time\", \"Disposal Monitor Name\"]]\n",
    "Propane = Propane[(Propane['Service Code'].isin(['2B'])) & (Propane['Is Void'] == False) & ~(Propane['GIS Zone1'].isin(['NORTHERN DIVISION']))]\n",
    "Propane['Ticket Date'] = pd.to_datetime(Propane['Ticket Date']).dt.date\n",
    "\n",
    "\n",
    "Propane.set_index('Zone Name', inplace=True)\n",
    "Propane.to_excel('RTR Data for Propane Tanks.xlsx')"
   ]
  },
  {
   "cell_type": "markdown",
   "id": "4c0720a2",
   "metadata": {},
   "source": [
    "# Check Propane tanks missing"
   ]
  },
  {
   "cell_type": "code",
   "execution_count": 16,
   "id": "2be88b0e",
   "metadata": {},
   "outputs": [],
   "source": [
    "propane = df_both.copy()\n",
    "\n",
    "propane = propane[['APN_ROW Segment', 'Structural Status', 'Street #', 'Street Name','County',\n",
    " 'Propane Tank', 'Propane Tank Removal', 'Date Propane Tank Removed']]\n",
    "\n",
    "propane = propane[(propane['Propane Tank'].isnull())]\n",
    "propane.to_excel(\"Missing Propane Status.xlsx\")"
   ]
  },
  {
   "cell_type": "code",
   "execution_count": null,
   "id": "8ec16e21",
   "metadata": {},
   "outputs": [],
   "source": []
  },
  {
   "cell_type": "code",
   "execution_count": null,
   "id": "59d10642",
   "metadata": {},
   "outputs": [],
   "source": []
  },
  {
   "cell_type": "code",
   "execution_count": null,
   "id": "21051580",
   "metadata": {},
   "outputs": [],
   "source": []
  }
 ],
 "metadata": {
  "kernelspec": {
   "display_name": "Python 3",
   "language": "python",
   "name": "python3"
  },
  "language_info": {
   "codemirror_mode": {
    "name": "ipython",
    "version": 3
   },
   "file_extension": ".py",
   "mimetype": "text/x-python",
   "name": "python",
   "nbconvert_exporter": "python",
   "pygments_lexer": "ipython3",
   "version": "3.9.4"
  }
 },
 "nbformat": 4,
 "nbformat_minor": 5
}
