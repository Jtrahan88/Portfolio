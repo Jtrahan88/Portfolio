{
 "cells": [
  {
   "cell_type": "code",
   "execution_count": 1,
   "id": "39657162",
   "metadata": {},
   "outputs": [],
   "source": [
    "import pandas as pd\n",
    "import os\n",
    "import glob\n",
    "import numpy as np"
   ]
  },
  {
   "cell_type": "markdown",
   "id": "7e8ab6dc",
   "metadata": {},
   "source": [
    "# Smartsheets "
   ]
  },
  {
   "cell_type": "code",
   "execution_count": 2,
   "id": "b9cdded5",
   "metadata": {},
   "outputs": [],
   "source": [
    "path1 = r\"C:\\Users\\jacque.trahan\\Downloads\\Central Division 2021 Debris Removal Tracker*\"\n",
    "file_type1 = \".xlsx\"\n",
    "load1 = glob.glob(path1 + file_type1)\n",
    "df = pd.read_excel(max(load1, key=os.path.getctime), parse_dates=True, keep_default_na=False)"
   ]
  },
  {
   "cell_type": "code",
   "execution_count": 3,
   "id": "c76487b8",
   "metadata": {},
   "outputs": [],
   "source": [
    "path2 = r\"C:\\Users\\jacque.trahan\\Downloads\\South Central Division 2021 Debris Removal Tracker*\"\n",
    "load2 = glob.glob(path2 + file_type1)\n",
    "df2 = pd.read_excel(max(load2, key=os.path.getctime), parse_dates=True, keep_default_na=False)"
   ]
  },
  {
   "cell_type": "code",
   "execution_count": 4,
   "id": "692070a3",
   "metadata": {},
   "outputs": [],
   "source": [
    "df_both = pd.concat([df, df2])"
   ]
  },
  {
   "cell_type": "code",
   "execution_count": 5,
   "id": "6962dfde",
   "metadata": {},
   "outputs": [],
   "source": [
    "# df_both.info(verbose=True)"
   ]
  },
  {
   "cell_type": "code",
   "execution_count": 6,
   "id": "e0f26649",
   "metadata": {},
   "outputs": [],
   "source": [
    "check = df_both[['APN_ROW Segment', 'Structural Status', 'Street #', 'Street Name','County', 'Debris Crew','ROE Type',\n",
    "                 'Haz Tree Status','Tree Felling Start', 'Tree Felling Complete','Trees Completion Check',\n",
    "                 'Soil Samples Approved',\n",
    "                 'Erosion Control Complete','Erosion Control Waiver',]]"
   ]
  },
  {
   "cell_type": "code",
   "execution_count": 7,
   "id": "d168857f",
   "metadata": {},
   "outputs": [],
   "source": [
    "check.to_excel('Check FSW and Debris Crew.xlsx')"
   ]
  },
  {
   "cell_type": "code",
   "execution_count": 8,
   "id": "d2d7033f",
   "metadata": {},
   "outputs": [],
   "source": [
    "FSO = df_both.copy()\n",
    "FSO = FSO[['APN_ROW Segment', 'Structural Status', 'Street #', 'Street Name','County',\n",
    "                  'Haz Tree Status',\"Tree Removal Complete\", # should say TFSW complete willneed to check this\n",
    "                  'Soil Samples Approved',\n",
    "                  'Erosion Control Complete', 'Erosion Control Waiver',\n",
    "                  \"USFS Parcel?\", \"Needs Milk Run or Phase 1 Revisit\",\n",
    "                   \"811 Called (A&M)\", \"811 Called (DDHTR)\",\n",
    "                   \"Vehicle(s)\", 'Number of Vehicles Removed',\n",
    "                   \"ROE Date\",\n",
    "                   'FSO Complete', 'FSO Sent to County','Debris Crew',\n",
    "           'Number of Trees','Tree Removal Start', 'Tree Removal Complete',\n",
    "           'Tree Felling Start', 'Tree Felling Complete',\n",
    "           'Number of Hazard Trees Felled','Trees Completion Check', 'ROE Type', 'Tree Crew', 'Trees Completion Check',\n",
    "           'Total Number of Vehicles',\n",
    "           'Hold', 'Hold Reason'\n",
    "       ]]\n",
    "FSO[\"ROE Date\"] = FSO[\"ROE Date\"].fillna(\"\")\n",
    "FSO.set_index('APN_ROW Segment', inplace=True)\n",
    "FSO.to_excel(\"Smartsheets data.xlsx\")\n",
    "FSO.reset_index(inplace=True)"
   ]
  },
  {
   "cell_type": "markdown",
   "id": "466e6d6b",
   "metadata": {},
   "source": [
    "# RTR Tree"
   ]
  },
  {
   "cell_type": "code",
   "execution_count": 9,
   "id": "ca56d6bd",
   "metadata": {},
   "outputs": [],
   "source": [
    "path2 = r\"C:\\Users\\jacque.trahan\\Downloads\\aDataManagerTicketExport*\"\n",
    "file_type2 = \".xlsx\"\n",
    "load2 = glob.glob(path2 + file_type2)\n",
    "df2 = pd.read_excel(max(load2, key=os.path.getctime), parse_dates=True)"
   ]
  },
  {
   "cell_type": "code",
   "execution_count": 10,
   "id": "3ca55569",
   "metadata": {},
   "outputs": [],
   "source": [
    "RTR = df2.copy()\n",
    "RTR = RTR[['Zone Name', 'Service Code', 'Unit Count', 'Is Void', 'GIS Zone1','GIS Zone2','Start Time', 'End Time',\"Addr No\", \"Addr St\", \"Ticket Number\"]]\n",
    "RTR = RTR.copy()\n",
    "RTR['Zone Name'] = RTR['Zone Name'].str[:3] + \"-\" + RTR['Zone Name'].str[3:6] + \"-\" + RTR['Zone Name'].str[6:]\n",
    "RTR['Service Code'] = RTR['Service Code'].str.strip()\n",
    "RTR = RTR[(RTR['Is Void'] == False) & (RTR['Service Code'].isin(['12A', '12B', '76', '55A','55B'])) & (RTR['GIS Zone1'].isin(['CENTRAL DIVISION']))] "
   ]
  },
  {
   "cell_type": "code",
   "execution_count": 11,
   "id": "c0774af2",
   "metadata": {},
   "outputs": [],
   "source": [
    "RTR.set_index('Zone Name', inplace = True)\n",
    "RTR.to_excel('RTR Data for Trees.xlsx')"
   ]
  },
  {
   "cell_type": "markdown",
   "id": "ac560226",
   "metadata": {},
   "source": [
    "# Nightly Tree Email for Ready for TFSW"
   ]
  },
  {
   "cell_type": "code",
   "execution_count": 12,
   "id": "ecb82f15",
   "metadata": {},
   "outputs": [],
   "source": [
    "# rdy_TFSW = df.copy()\n",
    "# rdy_TFSW = rdy_TFSW[['APN_ROW Segment', 'Tree Crew', 'Street #', 'Street Name','County','Tree Removal Start', 'Tree Removal Complete'\n",
    "#        ]]\n",
    "# rdy_TFSW = rdy_TFSW[rdy_TFSW['Tree Crew'].isin(['Ready for TFSW'])]\n",
    "# rdy_TFSW.set_index('APN_ROW Segment')\n",
    "# rdy_TFSW.to_excel(\"Ready for TFSW-Central Dixie 2021.xlsx\")"
   ]
  },
  {
   "cell_type": "code",
   "execution_count": null,
   "id": "0f1cc9d0",
   "metadata": {},
   "outputs": [],
   "source": []
  },
  {
   "cell_type": "markdown",
   "id": "e4793a51",
   "metadata": {},
   "source": [
    "# RTR Data For Erosion"
   ]
  },
  {
   "cell_type": "code",
   "execution_count": 13,
   "id": "28172a41",
   "metadata": {},
   "outputs": [],
   "source": [
    "RTR2 = df2.copy()\n",
    "RTR2 = RTR2[['Zone Name', 'Service Code', 'Unit Count', 'Is Void', 'GIS Zone1','GIS Zone2', 'Ticket Date',\n",
    "             \"Addr No\", \"Addr St\", \"Ticket Number\"]]\n",
    "RTR2 = RTR2.copy()\n",
    "RTR2['Zone Name'] = RTR2['Zone Name'].str[:3] + \"-\" + RTR2['Zone Name'].str[3:6] + \"-\" + RTR2['Zone Name'].str[6:]\n",
    "RTR2['Service Code'] = RTR2['Service Code'].str.strip()\n",
    "RTR_erosion = RTR2[(RTR2['Is Void'] == False) & (RTR2['Service Code'] == '73A')] \n",
    "RTR_erosion =  RTR_erosion[RTR_erosion['GIS Zone1'].isin(['CENTRAL DIVISION'])]\n",
    "RTR_erosion.set_index('Zone Name', inplace=True)\n",
    "RTR_erosion.to_excel('RTR Data For Erosion.xlsx')\n",
    "\n",
    "# RTR_erosion = RTR_erosion.add_suffix('_RTR')\n",
    "# RTR_erosion.reset_index(inplace=True)"
   ]
  },
  {
   "cell_type": "code",
   "execution_count": 14,
   "id": "2174a1fa",
   "metadata": {},
   "outputs": [],
   "source": [
    "# final = FSO.merge(RTR_erosion,\n",
    "#                      left_on='APN_ROW Segment',\n",
    "#                      right_on='Zone Name',\n",
    "#                      how='outer')\n"
   ]
  },
  {
   "cell_type": "code",
   "execution_count": 15,
   "id": "417b3ae0",
   "metadata": {},
   "outputs": [],
   "source": [
    "# final.columns"
   ]
  },
  {
   "cell_type": "code",
   "execution_count": 16,
   "id": "9836d44e",
   "metadata": {},
   "outputs": [],
   "source": [
    "\n",
    "# final.set_index('APN_ROW Segment', inplace=True)\n",
    "# final.to_excel('Smart sheets and Erosion files side by side.xlsx')"
   ]
  },
  {
   "cell_type": "code",
   "execution_count": null,
   "id": "c546152b",
   "metadata": {},
   "outputs": [],
   "source": []
  },
  {
   "cell_type": "code",
   "execution_count": null,
   "id": "52f8bbc9",
   "metadata": {},
   "outputs": [],
   "source": []
  }
 ],
 "metadata": {
  "kernelspec": {
   "display_name": "Python 3",
   "language": "python",
   "name": "python3"
  },
  "language_info": {
   "codemirror_mode": {
    "name": "ipython",
    "version": 3
   },
   "file_extension": ".py",
   "mimetype": "text/x-python",
   "name": "python",
   "nbconvert_exporter": "python",
   "pygments_lexer": "ipython3",
   "version": "3.9.4"
  }
 },
 "nbformat": 4,
 "nbformat_minor": 5
}
