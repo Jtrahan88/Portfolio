{
 "cells": [
  {
   "cell_type": "code",
   "execution_count": 1,
   "id": "39657162",
   "metadata": {},
   "outputs": [],
   "source": [
    "import pandas as pd\n",
    "import os\n",
    "import glob\n",
    "import numpy as np"
   ]
  },
  {
   "cell_type": "code",
   "execution_count": 2,
   "id": "b9cdded5",
   "metadata": {},
   "outputs": [],
   "source": [
    "path1 = r\"C:\\Users\\jacque.trahan\\Downloads\\Central Division 2021 Debris Removal Tracker*\"\n",
    "file_type1 = \".xlsx\"\n",
    "load1 = glob.glob(path1 + file_type1)\n",
    "df = pd.read_excel(max(load1, key=os.path.getctime), parse_dates=True, keep_default_na=False)"
   ]
  },
  {
   "cell_type": "code",
   "execution_count": 3,
   "id": "77ff67de",
   "metadata": {},
   "outputs": [],
   "source": [
    "FSO = df.copy()\n",
    "FSO = FSO[['APN_ROW Segment', 'Structural Status', 'Street #', 'Street Name','County',\n",
    "                  'Haz Tree Status',\"Tree Removal Complete\", # should say TFSW complete willneed to check this\n",
    "                  'Soil Samples Approved',\n",
    "                  'Erosion Control Complete', 'Erosion Control Waiver',\n",
    "                  \"USFS Parcel?\", \"Needs Milk Run or Phase 1 Revisit\",\n",
    "                   \"811 Called (A&M)\", \"811 Called (DDHTR)\",\n",
    "                   \"Vehicle(s)\", 'Number of Vehicles Removed',\n",
    "                   \"ROE Date\",\n",
    "                   'FSO Complete', 'FSO Sent to County','Debris Crew',\n",
    "           'Number of Trees','Tree Removal Start', 'Tree Removal Complete',\n",
    "           'Tree Felling Start', 'Tree Felling Complete',\n",
    "           'Number of Hazard Trees Felled','Trees Completion Check'\n",
    "       ]]"
   ]
  },
  {
   "cell_type": "code",
   "execution_count": 4,
   "id": "de830cf1",
   "metadata": {},
   "outputs": [],
   "source": [
    "FSO.set_index('APN_ROW Segment', inplace=True)\n",
    "FSO.to_excel(\"Smartsheets data.xlsx\")"
   ]
  },
  {
   "cell_type": "markdown",
   "id": "466e6d6b",
   "metadata": {},
   "source": [
    "# RTR Tree"
   ]
  },
  {
   "cell_type": "code",
   "execution_count": 5,
   "id": "ca56d6bd",
   "metadata": {},
   "outputs": [],
   "source": [
    "path2 = r\"C:\\Users\\jacque.trahan\\Downloads\\aDataManagerTicketExport*\"\n",
    "file_type2 = \".xlsx\"\n",
    "load2 = glob.glob(path2 + file_type2)\n",
    "df2 = pd.read_excel(max(load2, key=os.path.getctime), parse_dates=True)"
   ]
  },
  {
   "cell_type": "code",
   "execution_count": 6,
   "id": "3ca55569",
   "metadata": {},
   "outputs": [],
   "source": [
    "RTR = df2.copy()\n",
    "RTR = RTR[['Zone Name', 'Service Code', 'Unit Count', 'Is Void', 'GIS Zone1','GIS Zone2','Start Time', 'End Time']]\n",
    "RTR = RTR.copy()\n",
    "RTR['Zone Name'] = RTR['Zone Name'].str[:3] + \"-\" + RTR['Zone Name'].str[3:6] + \"-\" + RTR['Zone Name'].str[6:]\n",
    "RTR['Service Code'] = RTR['Service Code'].str.strip()\n",
    "RTR = RTR[(RTR['Is Void'] == False) & (RTR['Service Code'].isin(['12A', '12B', '76'])) & (RTR['GIS Zone1'].isin(['CENTRAL DIVISION']))] "
   ]
  },
  {
   "cell_type": "code",
   "execution_count": 7,
   "id": "c0774af2",
   "metadata": {},
   "outputs": [],
   "source": [
    "RTR.set_index('Zone Name', inplace = True)\n",
    "RTR.to_excel('Smart Sheets for Trees.xlsx')"
   ]
  },
  {
   "cell_type": "code",
   "execution_count": null,
   "id": "28172a41",
   "metadata": {},
   "outputs": [],
   "source": []
  }
 ],
 "metadata": {
  "kernelspec": {
   "display_name": "Python 3",
   "language": "python",
   "name": "python3"
  },
  "language_info": {
   "codemirror_mode": {
    "name": "ipython",
    "version": 3
   },
   "file_extension": ".py",
   "mimetype": "text/x-python",
   "name": "python",
   "nbconvert_exporter": "python",
   "pygments_lexer": "ipython3",
   "version": "3.9.4"
  }
 },
 "nbformat": 4,
 "nbformat_minor": 5
}
