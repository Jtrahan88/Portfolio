{
 "cells": [
  {
   "cell_type": "code",
   "execution_count": 1,
   "id": "39e5d520",
   "metadata": {},
   "outputs": [],
   "source": [
    "import pandas as pd\n",
    "import numpy as np"
   ]
  },
  {
   "cell_type": "code",
   "execution_count": 2,
   "id": "afa41d11",
   "metadata": {},
   "outputs": [],
   "source": [
    "# pd.set_option('display.max_rows', 600)\n",
    "# pd.set_option('display.max_columns', 600)"
   ]
  },
  {
   "cell_type": "code",
   "execution_count": 3,
   "id": "f7da7342",
   "metadata": {},
   "outputs": [],
   "source": [
    "df1 = pd.read_excel('../Central Branch  trackers/Central Division 2021 Debris Removal Tracker.xlsx')\n",
    "df2 = pd.read_csv('Power BI CSVs/BIO.csv')\n",
    "df3 = pd.read_csv('Power BI CSVs/Arch.csv')"
   ]
  },
  {
   "cell_type": "code",
   "execution_count": 4,
   "id": "9f867cd5",
   "metadata": {},
   "outputs": [],
   "source": [
    "smartsheets = df1.copy()\n",
    "bio = df2.copy()\n",
    "arch = df3.copy()"
   ]
  },
  {
   "cell_type": "markdown",
   "id": "1a43e30c",
   "metadata": {},
   "source": [
    "# smart sheet columns needed check:\n",
    "APN_ROW Segment 'Arch Monitor Needed','Bio Monitor Needed'"
   ]
  },
  {
   "cell_type": "code",
   "execution_count": 5,
   "id": "a7321efc",
   "metadata": {},
   "outputs": [],
   "source": [
    "# select columns we need\n",
    "smartsheets = smartsheets[['APN_ROW Segment','Arch Monitor Needed','Arch Assessment', 'Bio Monitor Needed','Bio Assessment']]"
   ]
  },
  {
   "cell_type": "code",
   "execution_count": 6,
   "id": "dc1985bd",
   "metadata": {},
   "outputs": [],
   "source": [
    "smartsheets['Arch Assessment'] = pd.to_datetime(smartsheets['Arch Assessment']).dt.date\n",
    "smartsheets['Bio Assessment'] = pd.to_datetime(smartsheets['Bio Assessment']).dt.date"
   ]
  },
  {
   "cell_type": "code",
   "execution_count": 7,
   "id": "0eff3b4a",
   "metadata": {},
   "outputs": [],
   "source": [
    "smartsheets.rename(columns={'Arch Monitor Needed': 'Arch Monitor Needed_SS','Arch Assessment':'Arch Assessment_SS',\n",
    "                            'Bio Monitor Needed':'Bio Monitor Needed_SS','Bio Assessment':'Bio Assessment_SS'}, inplace=True)"
   ]
  },
  {
   "cell_type": "markdown",
   "id": "c1896460",
   "metadata": {},
   "source": [
    "# BIO columns needed:\n",
    "APN , Biological monitoring recommended?"
   ]
  },
  {
   "cell_type": "code",
   "execution_count": 8,
   "id": "a8f546da",
   "metadata": {},
   "outputs": [],
   "source": [
    "# bio['Biological monitoring recommended?'].value_counts()"
   ]
  },
  {
   "cell_type": "code",
   "execution_count": 9,
   "id": "b0a3312f",
   "metadata": {},
   "outputs": [],
   "source": [
    "# select columns we need\n",
    "bio = bio[['APN', 'Biological monitoring recommended?','County', 'Observation Date']]"
   ]
  },
  {
   "cell_type": "code",
   "execution_count": 10,
   "id": "3a2b5d43",
   "metadata": {},
   "outputs": [],
   "source": [
    "bio = bio[bio['County'].isin(['ALPINE', 'EL DORADO', 'LAKE', 'NEVADA', 'PLACER'])]"
   ]
  },
  {
   "cell_type": "code",
   "execution_count": 11,
   "id": "70257746",
   "metadata": {},
   "outputs": [],
   "source": [
    "bio['Observation Date'] = pd.to_datetime(bio['Observation Date']).dt.date"
   ]
  },
  {
   "cell_type": "code",
   "execution_count": 12,
   "id": "6db5360b",
   "metadata": {},
   "outputs": [],
   "source": [
    "# change column name values to match smart sheets\n",
    "bio['Biological monitoring recommended?'] = bio['Biological monitoring recommended?'].str.replace('No Debris, No Tree', 'No Bio Monitoring Needed for Debris or Trees')\n",
    "bio['Biological monitoring recommended?'] =bio['Biological monitoring recommended?'].str.replace('Yes Debris, Yes Tree', 'Bio Monitoring Needed for Debris AND Trees')\n",
    "bio['Biological monitoring recommended?'] =bio['Biological monitoring recommended?'].str.replace('No Debris, Yes Tree', 'Bio Monitoring Needed for Trees, not Debris')\n",
    "bio['Biological monitoring recommended?'] =bio['Biological monitoring recommended?'].str.replace('Yes Debris, No Tree','Bio Monitoring Needed for Debris, not Trees')"
   ]
  },
  {
   "cell_type": "code",
   "execution_count": 13,
   "id": "6a561bca",
   "metadata": {},
   "outputs": [],
   "source": [
    "bio.rename(columns={'Observation Date':'Observation Date_BIO'}, inplace=True)"
   ]
  },
  {
   "cell_type": "markdown",
   "id": "1c55cf23",
   "metadata": {},
   "source": [
    "# ARCH columns needed:\n",
    "APN , Archaeological Resources Present?"
   ]
  },
  {
   "cell_type": "code",
   "execution_count": 14,
   "id": "0576574f",
   "metadata": {},
   "outputs": [],
   "source": [
    "# select columns we need\n",
    "arch = arch[['APN', 'Monitoring Recommendation','Date', 'County']]"
   ]
  },
  {
   "cell_type": "code",
   "execution_count": 15,
   "id": "33578bfc",
   "metadata": {},
   "outputs": [],
   "source": [
    "arch = arch[arch['County'].isin(['ALPINE', 'EL DORADO', 'LAKE', 'NEVADA', 'PLACER'])]"
   ]
  },
  {
   "cell_type": "code",
   "execution_count": 16,
   "id": "ee97b696",
   "metadata": {},
   "outputs": [],
   "source": [
    "arch['Date'] = pd.to_datetime(arch['Date']).dt.date"
   ]
  },
  {
   "cell_type": "code",
   "execution_count": 17,
   "id": "77a12fea",
   "metadata": {},
   "outputs": [],
   "source": [
    "# change column name values to match smart sheets\n",
    "arch['Monitoring Recommendation'] = arch['Monitoring Recommendation'].str.replace('No Debris, No Tree', 'No Arch Monitoring Needed for Debris or Trees')\n",
    "arch['Monitoring Recommendation'] = arch['Monitoring Recommendation'].str.replace('Yes Debris, Yes Tree', 'Arch Monitoring Needed for Debris AND Trees')\n",
    "arch['Monitoring Recommendation'] = arch['Monitoring Recommendation'].str.replace('No Debris, Yes Tree', 'Arch Monitoring Needed for Trees, not Debris')\n",
    "arch['Monitoring Recommendation'] = arch['Monitoring Recommendation'].str.replace('Yes Debris, No Tree', 'Arch Monitoring Needed for Debris, not Trees')"
   ]
  },
  {
   "cell_type": "code",
   "execution_count": 18,
   "id": "4007f6c8",
   "metadata": {},
   "outputs": [],
   "source": [
    "arch.rename(columns={'Monitoring Recommendation':'Monitoring Recommendation_ARCH', 'Date': 'Date_ARCH'},inplace=True)"
   ]
  },
  {
   "cell_type": "markdown",
   "id": "8b43e145",
   "metadata": {},
   "source": [
    "# Merge Data bases\n",
    "* smartsheets and BIO\n",
    "* smasrtsheet and Arch"
   ]
  },
  {
   "cell_type": "markdown",
   "id": "382d1ff9",
   "metadata": {},
   "source": [
    "# Smartsheet and BIO"
   ]
  },
  {
   "cell_type": "code",
   "execution_count": 19,
   "id": "f89f0fea",
   "metadata": {},
   "outputs": [],
   "source": [
    "# Merge Smartsheets and BIO\n",
    "\n",
    "smartsheets_bio = smartsheets.merge(bio,\n",
    "                          left_on='APN_ROW Segment',\n",
    "                          right_on='APN',\n",
    "                          how='outer')"
   ]
  },
  {
   "cell_type": "code",
   "execution_count": 20,
   "id": "1c7c065d",
   "metadata": {},
   "outputs": [],
   "source": [
    "smartsheets_bio.rename(columns={'APN':'APN_BIO'}, inplace=True)"
   ]
  },
  {
   "cell_type": "code",
   "execution_count": 21,
   "id": "63cb086f",
   "metadata": {},
   "outputs": [
    {
     "data": {
      "text/html": [
       "<div>\n",
       "<style scoped>\n",
       "    .dataframe tbody tr th:only-of-type {\n",
       "        vertical-align: middle;\n",
       "    }\n",
       "\n",
       "    .dataframe tbody tr th {\n",
       "        vertical-align: top;\n",
       "    }\n",
       "\n",
       "    .dataframe thead th {\n",
       "        text-align: right;\n",
       "    }\n",
       "</style>\n",
       "<table border=\"1\" class=\"dataframe\">\n",
       "  <thead>\n",
       "    <tr style=\"text-align: right;\">\n",
       "      <th></th>\n",
       "      <th>APN_ROW Segment</th>\n",
       "      <th>Arch Monitor Needed_SS</th>\n",
       "      <th>Arch Assessment_SS</th>\n",
       "      <th>Bio Monitor Needed_SS</th>\n",
       "      <th>Bio Assessment_SS</th>\n",
       "      <th>APN_BIO</th>\n",
       "      <th>Biological monitoring recommended?</th>\n",
       "      <th>County</th>\n",
       "      <th>Observation Date_BIO</th>\n",
       "    </tr>\n",
       "  </thead>\n",
       "  <tbody>\n",
       "  </tbody>\n",
       "</table>\n",
       "</div>"
      ],
      "text/plain": [
       "Empty DataFrame\n",
       "Columns: [APN_ROW Segment, Arch Monitor Needed_SS, Arch Assessment_SS, Bio Monitor Needed_SS, Bio Assessment_SS, APN_BIO, Biological monitoring recommended?, County, Observation Date_BIO]\n",
       "Index: []"
      ]
     },
     "execution_count": 21,
     "metadata": {},
     "output_type": "execute_result"
    }
   ],
   "source": [
    "smartsheets_bio.head(0)"
   ]
  },
  {
   "cell_type": "code",
   "execution_count": 22,
   "id": "66d2e127",
   "metadata": {
    "scrolled": true
   },
   "outputs": [
    {
     "name": "stdout",
     "output_type": "stream",
     "text": [
      "<class 'pandas.core.frame.DataFrame'>\n",
      "Int64Index: 687 entries, 0 to 686\n",
      "Data columns (total 9 columns):\n",
      " #   Column                              Non-Null Count  Dtype \n",
      "---  ------                              --------------  ----- \n",
      " 0   APN_ROW Segment                     686 non-null    object\n",
      " 1   Arch Monitor Needed_SS              333 non-null    object\n",
      " 2   Arch Assessment_SS                  332 non-null    object\n",
      " 3   Bio Monitor Needed_SS               397 non-null    object\n",
      " 4   Bio Assessment_SS                   397 non-null    object\n",
      " 5   APN_BIO                             402 non-null    object\n",
      " 6   Biological monitoring recommended?  402 non-null    object\n",
      " 7   County                              402 non-null    object\n",
      " 8   Observation Date_BIO                402 non-null    object\n",
      "dtypes: object(9)\n",
      "memory usage: 53.7+ KB\n"
     ]
    }
   ],
   "source": [
    "smartsheets_bio.info()"
   ]
  },
  {
   "cell_type": "code",
   "execution_count": 23,
   "id": "748699fe",
   "metadata": {},
   "outputs": [],
   "source": [
    "smartsheets_bio['Bio Monitor Needed_SS'] = smartsheets_bio['Bio Monitor Needed_SS'].fillna(\"0\")\n",
    "smartsheets_bio['Biological monitoring recommended?'] = smartsheets_bio['Biological monitoring recommended?'].fillna('0')\n",
    "smartsheets_bio['Observation Date_BIO'] = smartsheets_bio['Observation Date_BIO'].fillna(\"0\")\n",
    "smartsheets_bio['Bio Assessment_SS'] = smartsheets_bio['Bio Assessment_SS'].fillna(\"0\")"
   ]
  },
  {
   "cell_type": "markdown",
   "id": "9d5634c3",
   "metadata": {},
   "source": [
    "# Smartsheet and Arch"
   ]
  },
  {
   "cell_type": "code",
   "execution_count": 24,
   "id": "f14ef762",
   "metadata": {},
   "outputs": [],
   "source": [
    "smartsheets_ARCH = smartsheets.merge(arch,\n",
    "                    left_on='APN_ROW Segment',\n",
    "                    right_on='APN',\n",
    "                    how='outer')"
   ]
  },
  {
   "cell_type": "code",
   "execution_count": 25,
   "id": "b6e3a002",
   "metadata": {},
   "outputs": [],
   "source": [
    "smartsheets_ARCH.rename(columns={'APN':'APN_ARCH'}, inplace=True)"
   ]
  },
  {
   "cell_type": "code",
   "execution_count": 26,
   "id": "167d80c0",
   "metadata": {},
   "outputs": [
    {
     "data": {
      "text/html": [
       "<div>\n",
       "<style scoped>\n",
       "    .dataframe tbody tr th:only-of-type {\n",
       "        vertical-align: middle;\n",
       "    }\n",
       "\n",
       "    .dataframe tbody tr th {\n",
       "        vertical-align: top;\n",
       "    }\n",
       "\n",
       "    .dataframe thead th {\n",
       "        text-align: right;\n",
       "    }\n",
       "</style>\n",
       "<table border=\"1\" class=\"dataframe\">\n",
       "  <thead>\n",
       "    <tr style=\"text-align: right;\">\n",
       "      <th></th>\n",
       "      <th>APN_ROW Segment</th>\n",
       "      <th>Arch Monitor Needed_SS</th>\n",
       "      <th>Arch Assessment_SS</th>\n",
       "      <th>Bio Monitor Needed_SS</th>\n",
       "      <th>Bio Assessment_SS</th>\n",
       "      <th>APN_ARCH</th>\n",
       "      <th>Monitoring Recommendation_ARCH</th>\n",
       "      <th>Date_ARCH</th>\n",
       "      <th>County</th>\n",
       "    </tr>\n",
       "  </thead>\n",
       "  <tbody>\n",
       "  </tbody>\n",
       "</table>\n",
       "</div>"
      ],
      "text/plain": [
       "Empty DataFrame\n",
       "Columns: [APN_ROW Segment, Arch Monitor Needed_SS, Arch Assessment_SS, Bio Monitor Needed_SS, Bio Assessment_SS, APN_ARCH, Monitoring Recommendation_ARCH, Date_ARCH, County]\n",
       "Index: []"
      ]
     },
     "execution_count": 26,
     "metadata": {},
     "output_type": "execute_result"
    }
   ],
   "source": [
    "smartsheets_ARCH.head(0)"
   ]
  },
  {
   "cell_type": "code",
   "execution_count": 27,
   "id": "1c0d4cfd",
   "metadata": {},
   "outputs": [
    {
     "data": {
      "text/plain": [
       "dtype('O')"
      ]
     },
     "execution_count": 27,
     "metadata": {},
     "output_type": "execute_result"
    }
   ],
   "source": [
    "smartsheets_ARCH['Date_ARCH'].dtypes"
   ]
  },
  {
   "cell_type": "code",
   "execution_count": 28,
   "id": "a3f520de",
   "metadata": {},
   "outputs": [],
   "source": [
    "smartsheets_ARCH['Arch Monitor Needed_SS'] = smartsheets_ARCH['Arch Monitor Needed_SS'].fillna(\"0\")\n",
    "smartsheets_ARCH['Monitoring Recommendation_ARCH'] = smartsheets_ARCH['Monitoring Recommendation_ARCH'].fillna('0')\n",
    "smartsheets_ARCH['Date_ARCH'] = smartsheets_ARCH['Date_ARCH'].fillna(\"0\")\n",
    "smartsheets_ARCH['Arch Assessment_SS'] = smartsheets_ARCH['Arch Assessment_SS'].fillna(\"0\")"
   ]
  },
  {
   "cell_type": "markdown",
   "id": "4e7d3086",
   "metadata": {},
   "source": [
    "# Set up column order for each Data base"
   ]
  },
  {
   "cell_type": "code",
   "execution_count": 29,
   "id": "36db29e3",
   "metadata": {},
   "outputs": [],
   "source": [
    "# ARch and smart sheets\n",
    "smartsheets_ARCH = smartsheets_ARCH[['APN_ROW Segment', 'APN_ARCH',\n",
    "       'Arch Monitor Needed_SS', 'Monitoring Recommendation_ARCH',\n",
    "                                     'Arch Assessment_SS','Date_ARCH']]"
   ]
  },
  {
   "cell_type": "code",
   "execution_count": 30,
   "id": "959d79a8",
   "metadata": {},
   "outputs": [],
   "source": [
    "# BIO and smasrt sheets\n",
    "smartsheets_bio = smartsheets_bio[['APN_ROW Segment', 'APN_BIO',\n",
    "                                   'Bio Monitor Needed_SS', 'Biological monitoring recommended?',\n",
    "                                   'Bio Assessment_SS','Observation Date_BIO']]"
   ]
  },
  {
   "cell_type": "markdown",
   "id": "1d8d7d17",
   "metadata": {},
   "source": [
    "# Compare columns in smart sheet to other databases"
   ]
  },
  {
   "cell_type": "code",
   "execution_count": 31,
   "id": "91246c6b",
   "metadata": {},
   "outputs": [],
   "source": [
    "def compare_cols(df, comp1, comp2):\n",
    "    if df[comp1] == df[comp2]:\n",
    "        return 1\n",
    "    else:\n",
    "        return 0"
   ]
  },
  {
   "cell_type": "markdown",
   "id": "daf8e64f",
   "metadata": {},
   "source": [
    "# compart ARCH monitor needed to smartsheet"
   ]
  },
  {
   "cell_type": "code",
   "execution_count": 32,
   "id": "eecf5fd6",
   "metadata": {},
   "outputs": [],
   "source": [
    "smartsheets_ARCH.insert(smartsheets_ARCH.columns.get_loc('Monitoring Recommendation_ARCH') + 1, \"ARC Check\",\n",
    "            smartsheets_ARCH.apply(compare_cols, comp1='Arch Monitor Needed_SS', comp2='Monitoring Recommendation_ARCH',axis=1))"
   ]
  },
  {
   "cell_type": "markdown",
   "id": "a5f15637",
   "metadata": {},
   "source": [
    "# comapre dates for ARCH and smartsheets dates"
   ]
  },
  {
   "cell_type": "code",
   "execution_count": 33,
   "id": "49915773",
   "metadata": {},
   "outputs": [],
   "source": [
    "smartsheets_ARCH.insert(smartsheets_ARCH.columns.get_loc('Date_ARCH') + 1, 'Check Arch Dates',\n",
    "            smartsheets_ARCH.apply(compare_cols, comp1='Arch Assessment_SS', comp2='Date_ARCH', axis=1))"
   ]
  },
  {
   "cell_type": "markdown",
   "id": "90eb3352",
   "metadata": {},
   "source": [
    "# check BIO and Smartsheet dates"
   ]
  },
  {
   "cell_type": "code",
   "execution_count": 34,
   "id": "570eaaa4",
   "metadata": {},
   "outputs": [],
   "source": [
    "smartsheets_bio.insert(smartsheets_bio.columns.get_loc('Observation Date_BIO') + 1, 'Check BIO Dates',\n",
    "            smartsheets_bio.apply(compare_cols, comp1='Bio Assessment_SS', comp2='Observation Date_BIO',axis=1))"
   ]
  },
  {
   "cell_type": "markdown",
   "id": "65078ab5",
   "metadata": {},
   "source": [
    "# Compare BIO monitor needed to  smartsheets "
   ]
  },
  {
   "cell_type": "code",
   "execution_count": 35,
   "id": "54b17599",
   "metadata": {},
   "outputs": [],
   "source": [
    "smartsheets_bio.insert(smartsheets_bio.columns.get_loc('Biological monitoring recommended?') + 1, 'BIO Check',\n",
    "                                  smartsheets_bio.apply(compare_cols, comp1='Bio Monitor Needed_SS',\n",
    "                                              comp2='Biological monitoring recommended?',axis=1))"
   ]
  },
  {
   "cell_type": "markdown",
   "id": "9b72afbb",
   "metadata": {},
   "source": [
    "# highligh the columns that are comparing values"
   ]
  },
  {
   "cell_type": "code",
   "execution_count": 36,
   "id": "8940fee7",
   "metadata": {},
   "outputs": [],
   "source": [
    "df_style_BIO = smartsheets_bio.style.set_properties(**{'background-color': '#ffffb3'},\n",
    "                          subset=['BIO Check', 'Check BIO Dates'])"
   ]
  },
  {
   "cell_type": "code",
   "execution_count": 37,
   "id": "c85300a5",
   "metadata": {},
   "outputs": [],
   "source": [
    "df_style_ARCH = smartsheets_ARCH.style.set_properties(**{'background-color': '#ffffb3'},\n",
    "                                                    subset=[\"ARC Check\", 'Check Arch Dates'])"
   ]
  },
  {
   "cell_type": "code",
   "execution_count": 38,
   "id": "14fb0bbb",
   "metadata": {},
   "outputs": [],
   "source": [
    "df_style_BIO.to_excel('BIO checks.xlsx')"
   ]
  },
  {
   "cell_type": "code",
   "execution_count": 39,
   "id": "94bcb5ea",
   "metadata": {},
   "outputs": [],
   "source": [
    "df_style_ARCH.to_excel('ARCH check.xlsx')"
   ]
  },
  {
   "cell_type": "code",
   "execution_count": null,
   "id": "5d5b0997",
   "metadata": {},
   "outputs": [],
   "source": []
  }
 ],
 "metadata": {
  "kernelspec": {
   "display_name": "Python 3",
   "language": "python",
   "name": "python3"
  },
  "language_info": {
   "codemirror_mode": {
    "name": "ipython",
    "version": 3
   },
   "file_extension": ".py",
   "mimetype": "text/x-python",
   "name": "python",
   "nbconvert_exporter": "python",
   "pygments_lexer": "ipython3",
   "version": "3.9.4"
  }
 },
 "nbformat": 4,
 "nbformat_minor": 5
}
