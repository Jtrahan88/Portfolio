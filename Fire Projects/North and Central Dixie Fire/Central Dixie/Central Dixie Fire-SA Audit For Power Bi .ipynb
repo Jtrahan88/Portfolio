{
 "cells": [
  {
   "cell_type": "code",
   "execution_count": 1,
   "id": "ea3990e6",
   "metadata": {},
   "outputs": [],
   "source": [
    "import pandas as pd\n",
    "import os\n",
    "import glob\n",
    "import numpy as np"
   ]
  },
  {
   "cell_type": "code",
   "execution_count": 2,
   "id": "baa0575e",
   "metadata": {},
   "outputs": [],
   "source": [
    "path1 = r\"C:\\Users\\jacque.trahan\\Downloads\\Central Division 2021 Debris Removal Tracker*\"\n",
    "file_type1 = '.xlsx'\n",
    "load1 = glob.glob(path1 + file_type1)\n",
    "\n",
    "df1 = pd.read_excel(max(load1, key=os.path.getctime))"
   ]
  },
  {
   "cell_type": "code",
   "execution_count": 3,
   "id": "d96faa2a",
   "metadata": {},
   "outputs": [],
   "source": [
    "# read in South Central Smart sheeets tracker\n",
    "path_s = r\"C:\\Users\\jacque.trahan\\Downloads\\South Central Division 2021 Debris Removal Tracker*\"\n",
    "file_type_s = '.xlsx'\n",
    "load_it_s = glob.glob(path_s + file_type_s)\n",
    "\n",
    "df_s = pd.read_excel(max(load_it_s, key=os.path.getctime), parse_dates=True)"
   ]
  },
  {
   "cell_type": "markdown",
   "id": "dfa8f105",
   "metadata": {},
   "source": [
    "### Concat central and south cental files"
   ]
  },
  {
   "cell_type": "code",
   "execution_count": 4,
   "id": "1d546ea2",
   "metadata": {},
   "outputs": [],
   "source": [
    "df_both = pd.concat([df1, df_s])"
   ]
  },
  {
   "cell_type": "code",
   "execution_count": 5,
   "id": "bc2defc9",
   "metadata": {},
   "outputs": [],
   "source": [
    "path2 = r\"C:\\Users\\jacque.trahan\\Downloads\\Site Assessment Tracker*\"\n",
    "file_type2 = '.csv'\n",
    "load2 = glob.glob(path2 + file_type2)\n",
    "\n",
    "df2 = pd.read_csv(max(load2, key=os.path.getctime))"
   ]
  },
  {
   "cell_type": "code",
   "execution_count": 6,
   "id": "cf23dc44",
   "metadata": {},
   "outputs": [],
   "source": [
    "# df1 = pd.read_excel('../../Central Dixie fire/Central Branch  trackers/Central Division 2021 Debris Removal Tracker.xlsx', parse_dates=True)\n",
    "# df2 = pd.read_csv(\"../../tetra forms ASB and SA/Site Assessment Tracker.csv\", parse_dates=True)"
   ]
  },
  {
   "cell_type": "code",
   "execution_count": 7,
   "id": "82a84d32",
   "metadata": {},
   "outputs": [],
   "source": [
    "df3 =pd.read_excel(\"../tetra forms ASB and SA/SA_TetraForms1.xlsx\", parse_dates=True)"
   ]
  },
  {
   "cell_type": "code",
   "execution_count": 8,
   "id": "a0cfeb05",
   "metadata": {},
   "outputs": [],
   "source": [
    "# RTR for vehicle counts\n",
    "path4 = r\"C:\\Users\\jacque.trahan\\Downloads\\aDataManagerTicketExport*\"\n",
    "file_type4 = \".xlsx\"\n",
    "load4 = glob.glob(path4 + file_type4)\n",
    "df4 = pd.read_excel(max(load4, key=os.path.getctime), parse_dates=True, na_values=None)"
   ]
  },
  {
   "cell_type": "code",
   "execution_count": 9,
   "id": "4d51988b",
   "metadata": {},
   "outputs": [],
   "source": [
    "smartsheets = df_both.copy()\n",
    "sa = df2.copy()\n",
    "tetarforms = df3.copy()"
   ]
  },
  {
   "cell_type": "code",
   "execution_count": 10,
   "id": "b61e10fa",
   "metadata": {},
   "outputs": [],
   "source": [
    "# smartsheets[(smartsheets['Site Assessment'].notnull()) & (smartsheets['RAD_MERC Sweep'].isnull())].to_excel('No sweep dates.xlsx')"
   ]
  },
  {
   "cell_type": "code",
   "execution_count": 11,
   "id": "8e69fb53",
   "metadata": {},
   "outputs": [],
   "source": [
    "# smartsheets.info(verbose=True)"
   ]
  },
  {
   "cell_type": "markdown",
   "id": "fcd3fcef",
   "metadata": {},
   "source": [
    "# Site Assessment site up"
   ]
  },
  {
   "cell_type": "code",
   "execution_count": 12,
   "id": "b7ecf380",
   "metadata": {},
   "outputs": [],
   "source": [
    "# sa column selection\n",
    "sa = sa[[\"APN\", \"Survey Date\", \"Number of Chimney(s)?\", \n",
    "        \"Number of Automobile(s)?\", \"Number of Motorcycle(s)?\", \"Number of ATV/UTV/Snowmobiles?\", \n",
    "       \"Number of Ag/Commercial/Construction Equipment?\", \"Number of Recreational Vehicle(s)?\", \n",
    "       \"Number of Trailer(s)?\", \"Number of Vessel(s)?\", \"County\"]]"
   ]
  },
  {
   "cell_type": "code",
   "execution_count": 13,
   "id": "5ad9e466",
   "metadata": {},
   "outputs": [],
   "source": [
    "# only use central division APNs and parcel information\n",
    "sa = sa[sa[\"County\"].isin(['ALPINE', 'EL DORADO', 'LAKE', 'NEVADA', 'PLACER'])]"
   ]
  },
  {
   "cell_type": "markdown",
   "id": "3d5fff27",
   "metadata": {},
   "source": [
    "### Get the value counts of APNS in Sa"
   ]
  },
  {
   "cell_type": "code",
   "execution_count": 14,
   "id": "51928b4c",
   "metadata": {},
   "outputs": [],
   "source": [
    "# pd.set_option('display.max_rows',1000)"
   ]
  },
  {
   "cell_type": "code",
   "execution_count": 15,
   "id": "89f4f645",
   "metadata": {},
   "outputs": [],
   "source": [
    "sa['APN'].value_counts().to_excel('SA power BI APN counts central.xlsx')"
   ]
  },
  {
   "cell_type": "markdown",
   "id": "a6ec5ea5",
   "metadata": {},
   "source": [
    "# other Setups"
   ]
  },
  {
   "cell_type": "code",
   "execution_count": 16,
   "id": "dc1c7e9a",
   "metadata": {},
   "outputs": [],
   "source": [
    "sa['Number of Chimney(s)?'] = np.where(sa['Number of Chimney(s)?'] > 0, 'Yes', 'No')"
   ]
  },
  {
   "cell_type": "code",
   "execution_count": 17,
   "id": "063cb803",
   "metadata": {},
   "outputs": [],
   "source": [
    "sa[(sa['Survey Date'] == \"11/9/2021; 11/18/2021\")] = 11/18/2021"
   ]
  },
  {
   "cell_type": "code",
   "execution_count": 18,
   "id": "ce1f3e83",
   "metadata": {
    "scrolled": true
   },
   "outputs": [],
   "source": [
    "# set up date columns\n",
    "sa['Survey Date'] = pd.to_datetime(sa['Survey Date']).dt.date"
   ]
  },
  {
   "cell_type": "code",
   "execution_count": 19,
   "id": "873c5ddb",
   "metadata": {},
   "outputs": [],
   "source": [
    "sa.rename(columns={'APN': 'APN_SA','Survey Date': 'SA Survey Date','Number of Chimney(s)?': 'Chimney',\n",
    "                   \"Number of Automobile(s)?\":'Automobiles', 'Number of Motorcycle(s)?':'Motorcycle_SA',\n",
    "                   \"Number of ATV/UTV/Snowmobiles?\": 'ATV/UTV/Snowmobiles',\n",
    "                   \"Number of Ag/Commercial/Construction Equipment?\":'Ag/Commercial/Construction',\n",
    "                  \"Number of Recreational Vehicle(s)?\": 'RV_SA', 'Number of Trailer(s)?':'Trailers_SA',\n",
    "                   'Number of Vessel(s)?': 'Vessel_SA'}, inplace=True)"
   ]
  },
  {
   "cell_type": "code",
   "execution_count": 20,
   "id": "b1644e8c",
   "metadata": {},
   "outputs": [],
   "source": [
    "# set up numerical values for al vehicles\n",
    "sa['Automobiles'] = pd.to_numeric(sa['Automobiles'])\n",
    "sa['Motorcycle_SA'] = pd.to_numeric(sa['Motorcycle_SA'])\n",
    "sa['ATV/UTV/Snowmobiles'] = pd.to_numeric(sa['ATV/UTV/Snowmobiles'])\n",
    "sa['Ag/Commercial/Construction'] = pd.to_numeric(sa['Ag/Commercial/Construction'])\n",
    "sa['RV_SA'] = pd.to_numeric(sa['RV_SA'])\n",
    "sa['Trailers_SA'] = pd.to_numeric(sa['Trailers_SA'])\n",
    "sa['Vessel_SA'] = pd.to_numeric(sa['Vessel_SA'])"
   ]
  },
  {
   "cell_type": "code",
   "execution_count": 21,
   "id": "14e578c1",
   "metadata": {},
   "outputs": [],
   "source": [
    "sa.fillna({'SA Survey Date':0,\n",
    "           'Automobiles': 0,\n",
    "           'Motorcycle_SA': 0,\n",
    "           'ATV/UTV/Snowmobiles': 0,\n",
    "           'Ag/Commercial/Construction': 0,\n",
    "           'RV_SA': 0,\n",
    "           'Trailers_SA': 0,\n",
    "           'Vessel_SA': 0}, inplace=True)"
   ]
  },
  {
   "cell_type": "code",
   "execution_count": 22,
   "id": "9f98177d",
   "metadata": {},
   "outputs": [],
   "source": [
    "sa.columns = map(str.upper, sa.columns)"
   ]
  },
  {
   "cell_type": "markdown",
   "id": "2f79acaf",
   "metadata": {},
   "source": [
    "# Tetra Forms setup"
   ]
  },
  {
   "cell_type": "code",
   "execution_count": 23,
   "id": "5c656c81",
   "metadata": {},
   "outputs": [],
   "source": [
    "# get just the counties we need\n",
    "tetarforms = tetarforms[tetarforms['county'].isin(['ALPINE', 'EL DORADO', 'LAKE', 'NEVADA', 'PLACER'])]"
   ]
  },
  {
   "cell_type": "markdown",
   "id": "ee1871b1",
   "metadata": {},
   "source": [
    "### Get the value counts of APNS in Tetra Forms for central"
   ]
  },
  {
   "cell_type": "code",
   "execution_count": 24,
   "id": "de9cd05b",
   "metadata": {},
   "outputs": [],
   "source": [
    "tetarforms['apn'].value_counts().to_excel('Tetra Forms APN counts SA central.xlsx')"
   ]
  },
  {
   "cell_type": "code",
   "execution_count": 25,
   "id": "7785849d",
   "metadata": {},
   "outputs": [],
   "source": [
    "tetarforms[tetarforms['survey_date'] == \"11/9/2021; 11/18/2021\"] = 11/18/2021"
   ]
  },
  {
   "cell_type": "code",
   "execution_count": 26,
   "id": "20cc48a3",
   "metadata": {},
   "outputs": [],
   "source": [
    "# format dates \n",
    "tetarforms['survey_date'] = pd.to_datetime(tetarforms['survey_date']).dt.date"
   ]
  },
  {
   "cell_type": "code",
   "execution_count": 27,
   "id": "a810160e",
   "metadata": {},
   "outputs": [],
   "source": [
    "#get columsn we need\n",
    "tetarforms = tetarforms[['apn','survey_date','chimney_quantity', 'automobile_quantity', 'motorcycle_quantity',\n",
    "                         'atv_utv_quantity', 'comm_equip_quantity', 'rvs_quantity', 'trailer_quantity', 'vessel_quantity']]"
   ]
  },
  {
   "cell_type": "code",
   "execution_count": 28,
   "id": "281ef500",
   "metadata": {},
   "outputs": [],
   "source": [
    "tetarforms.fillna({'survey_date':0,\n",
    "           'automobile_quantity': 0,\n",
    "           'motorcycle_quantity': 0,\n",
    "           'atv_utv_quantity': 0,\n",
    "           'comm_equip_quantity': 0,\n",
    "           'rvs_quantity': 0,\n",
    "           'trailer_quantity': 0,\n",
    "           'vessel_quantity': 0}, inplace=True)"
   ]
  },
  {
   "cell_type": "code",
   "execution_count": 29,
   "id": "0ed80f85",
   "metadata": {},
   "outputs": [],
   "source": [
    "tetarforms['chimney_quantity'] = np.where(tetarforms['chimney_quantity'] > 0, 'Yes', 'No')"
   ]
  },
  {
   "cell_type": "code",
   "execution_count": 30,
   "id": "4957c78d",
   "metadata": {},
   "outputs": [],
   "source": [
    "tetarforms.rename(columns={'apn': 'APN_TF', 'motorcycle_quantity':'motorcycle_quantity_TF'}, inplace=True)"
   ]
  },
  {
   "cell_type": "code",
   "execution_count": 31,
   "id": "2d63aa65",
   "metadata": {},
   "outputs": [],
   "source": [
    "tetarforms.columns = map(str.upper, tetarforms.columns)"
   ]
  },
  {
   "cell_type": "code",
   "execution_count": 32,
   "id": "6e94aa12",
   "metadata": {},
   "outputs": [],
   "source": [
    "# merge1 tetraforms and SA\n",
    "merge1 = sa.merge(tetarforms,\n",
    "                 left_on='APN_SA',\n",
    "                 right_on='APN_TF',\n",
    "                 how='outer',\n",
    "                 suffixes=('_SA', '_TF'))"
   ]
  },
  {
   "cell_type": "markdown",
   "id": "7400479a",
   "metadata": {},
   "source": [
    "# Smart sheet set up"
   ]
  },
  {
   "cell_type": "code",
   "execution_count": 33,
   "id": "cda46b73",
   "metadata": {
    "scrolled": true
   },
   "outputs": [],
   "source": [
    "# smartsheets.info(verbose=True, show_counts=True)"
   ]
  },
  {
   "cell_type": "code",
   "execution_count": 34,
   "id": "24652123",
   "metadata": {},
   "outputs": [],
   "source": [
    "# smart sheet column selection\n",
    "smartsheets = smartsheets[['APN_ROW Segment','Street #','Street Name', 'Structural Status','County',\n",
    "                           'Chimney',\n",
    "                           'Site Assessment',\n",
    "                          'Number of Passenger Vehicles', 'Number of ATV_UTV_snowmobiles',\n",
    "                          'Number of Ag_Commercial_Construction Equipment','Number of Motorcycles',\n",
    "                          'Number of RV\\'s', 'Number of Trailers', 'Number of Vessels (Boat_Jetski)', 'Total Number of Vehicles']]"
   ]
  },
  {
   "cell_type": "code",
   "execution_count": 35,
   "id": "4bb67137",
   "metadata": {},
   "outputs": [],
   "source": [
    "smartsheets = smartsheets.copy()"
   ]
  },
  {
   "cell_type": "code",
   "execution_count": 36,
   "id": "d1f6ddec",
   "metadata": {},
   "outputs": [],
   "source": [
    "# take of the time on the dates\n",
    "smartsheets['Site Assessment'] = smartsheets['Site Assessment'].dt.date"
   ]
  },
  {
   "cell_type": "code",
   "execution_count": 37,
   "id": "60f9644a",
   "metadata": {},
   "outputs": [],
   "source": [
    "smartsheets.fillna({'Chimney': 'No',\n",
    "                    'Site Assessment': 0,\n",
    "                    'Number of Passenger Vehicles': 0,\n",
    "                    'Number of ATV_UTV_snowmobiles': 0,\n",
    "                    'Number of Ag_Commercial_Construction Equipment': 0,\n",
    "                    'Number of Motorcycles': 0,\n",
    "                    'Number of RV\\'s':0,\n",
    "                    'Number of Trailers': 0,\n",
    "                    'Number of Vessels (Boat_Jetski)': 0}, inplace=True)"
   ]
  },
  {
   "cell_type": "code",
   "execution_count": 38,
   "id": "85d8ffbb",
   "metadata": {},
   "outputs": [],
   "source": [
    "smartsheets.rename(columns={'County':'County_SS','Site Assessment': 'SA Survey Date', 'Number of Passenger Vehicles': 'Automobiles',\n",
    "                           'Number of ATV_UTV_snowmobiles': 'ATV/UTV/Snowmobiles',\n",
    "                           'Number of Ag_Commercial_Construction Equipment': 'Ag/Commercial/Construction',\n",
    "                           'Number of Motorcycles': 'Motorcycles_SS', 'Number of RV\\'s': 'RV_SS',\n",
    "                           'Number of Trailers':'Trailers_SS','Number of Vessels (Boat_Jetski)':'Vessel_SS'}, inplace=True)"
   ]
  },
  {
   "cell_type": "code",
   "execution_count": 39,
   "id": "9fa1ea9e",
   "metadata": {},
   "outputs": [],
   "source": [
    "smartsheets.columns = map(str.upper, smartsheets.columns)"
   ]
  },
  {
   "cell_type": "code",
   "execution_count": 40,
   "id": "b2c61952",
   "metadata": {},
   "outputs": [],
   "source": [
    "# merge both data frames for QC\n",
    "finals = smartsheets.merge(merge1,\n",
    "                         left_on='APN_ROW SEGMENT',\n",
    "                         right_on='APN_SA',\n",
    "                         how='outer',\n",
    "                         suffixes=('_SS', '_SA'))"
   ]
  },
  {
   "cell_type": "code",
   "execution_count": 41,
   "id": "a4bacf16",
   "metadata": {},
   "outputs": [],
   "source": [
    "# column orinizationa\n",
    "final = finals[['APN_ROW SEGMENT','APN_SA', 'APN_TF','STREET #','STREET NAME','STRUCTURAL STATUS','COUNTY_SS',\n",
    "               'SA SURVEY DATE_SS', 'SA SURVEY DATE_SA','SURVEY_DATE',\n",
    "               'CHIMNEY_SS','CHIMNEY_SA','CHIMNEY_QUANTITY',\n",
    "               'AUTOMOBILES_SS', 'AUTOMOBILES_SA','AUTOMOBILE_QUANTITY',\n",
    "               'MOTORCYCLES_SS', 'MOTORCYCLE_SA', 'MOTORCYCLE_QUANTITY_TF',\n",
    "              'ATV/UTV/SNOWMOBILES_SS', 'ATV/UTV/SNOWMOBILES_SA','ATV_UTV_QUANTITY',\n",
    "              'AG/COMMERCIAL/CONSTRUCTION_SS', 'AG/COMMERCIAL/CONSTRUCTION_SA','COMM_EQUIP_QUANTITY',\n",
    "              'RV_SS', 'RV_SA','RVS_QUANTITY',\n",
    "              'TRAILERS_SS', 'TRAILERS_SA','TRAILER_QUANTITY',\n",
    "              'VESSEL_SS','VESSEL_SA','VESSEL_QUANTITY',\n",
    "               'TOTAL NUMBER OF VEHICLES']]"
   ]
  },
  {
   "cell_type": "markdown",
   "id": "46a8fd9c",
   "metadata": {},
   "source": [
    "# Fill in the na and blanks with 0's"
   ]
  },
  {
   "cell_type": "code",
   "execution_count": 42,
   "id": "5772c030",
   "metadata": {},
   "outputs": [],
   "source": [
    "final = final.copy()\n",
    "final.fillna({'SA SURVEY DATE_SA':0,\n",
    "           'SURVEY_DATE': 0,\n",
    "           'CHIMNEY_SA': 0,\n",
    "           'CHIMNEY_QUANTITY': 0,\n",
    "           'AUTOMOBILES_SA': 0,\n",
    "           'AUTOMOBILE_QUANTITY': 0,\n",
    "           'MOTORCYCLE_SA': 0,\n",
    "           'MOTORCYCLE_QUANTITY_TF': 0,\n",
    "             'ATV/UTV/SNOWMOBILES_SA': 0,\n",
    "             'ATV_UTV_QUANTITY': 0,\n",
    "             'AG/COMMERCIAL/CONSTRUCTION_SA': 0,\n",
    "             'COMM_EQUIP_QUANTITY': 0,\n",
    "             'RV_SA': 0,\n",
    "             'RVS_QUANTITY': 0,\n",
    "             'TRAILERS_SA':0,\n",
    "             'TRAILER_QUANTITY': 0,\n",
    "             'VESSEL_SA': 0,\n",
    "             'VESSEL_QUANTITY': 0}, inplace=True)"
   ]
  },
  {
   "cell_type": "markdown",
   "id": "a038bc0d",
   "metadata": {},
   "source": [
    "# compare function for each category"
   ]
  },
  {
   "cell_type": "code",
   "execution_count": 43,
   "id": "f5692f47",
   "metadata": {},
   "outputs": [],
   "source": [
    "def compare_cols(df,comp1,comp2,comp3):\n",
    "    if (df[comp1] == df[comp2]) & (df[comp1] == df[comp3]):\n",
    "        return 1\n",
    "    else:\n",
    "        return 0"
   ]
  },
  {
   "cell_type": "markdown",
   "id": "6115e37f",
   "metadata": {},
   "source": [
    "# Survey date checks"
   ]
  },
  {
   "cell_type": "code",
   "execution_count": 44,
   "id": "cc6e5e76",
   "metadata": {},
   "outputs": [],
   "source": [
    "final.insert(final.columns.get_loc('SURVEY_DATE')+1, \"Survey Matches\",\n",
    "            final.apply(compare_cols, comp1='SA SURVEY DATE_SS', comp2='SA SURVEY DATE_SA', comp3='SURVEY_DATE', axis=1))"
   ]
  },
  {
   "cell_type": "markdown",
   "id": "ae3e885f",
   "metadata": {},
   "source": [
    "# CHIMNEY"
   ]
  },
  {
   "cell_type": "code",
   "execution_count": 45,
   "id": "887c759c",
   "metadata": {},
   "outputs": [],
   "source": [
    "final.insert(final.columns.get_loc('CHIMNEY_QUANTITY')+1, \"Chimney Macthes\",\n",
    "            final.apply(compare_cols, comp1='CHIMNEY_SS', comp2='CHIMNEY_SA', comp3='CHIMNEY_QUANTITY', axis=1))"
   ]
  },
  {
   "cell_type": "markdown",
   "id": "3d572c83",
   "metadata": {},
   "source": [
    "# AUTOMOBILES"
   ]
  },
  {
   "cell_type": "code",
   "execution_count": 46,
   "id": "64daf068",
   "metadata": {},
   "outputs": [],
   "source": [
    "final.insert(final.columns.get_loc('AUTOMOBILE_QUANTITY')+1, \"AUTOMOBILE-M\",\n",
    "            final.apply(compare_cols, comp1='AUTOMOBILES_SS', comp2='AUTOMOBILES_SA', comp3='AUTOMOBILE_QUANTITY', axis=1))"
   ]
  },
  {
   "cell_type": "markdown",
   "id": "f2eb7b2c",
   "metadata": {},
   "source": [
    "# MOTORCYCLES"
   ]
  },
  {
   "cell_type": "code",
   "execution_count": 47,
   "id": "e9503922",
   "metadata": {},
   "outputs": [],
   "source": [
    "final.insert(final.columns.get_loc('MOTORCYCLE_QUANTITY_TF')+1, \"Motorcycle-M\",\n",
    "            final.apply(compare_cols, comp1='MOTORCYCLES_SS', comp2='MOTORCYCLE_SA', comp3='MOTORCYCLE_QUANTITY_TF', axis=1))"
   ]
  },
  {
   "cell_type": "markdown",
   "id": "4491abcb",
   "metadata": {},
   "source": [
    "# ATV/UTV/SNOWMOBILES"
   ]
  },
  {
   "cell_type": "code",
   "execution_count": 48,
   "id": "84ab178a",
   "metadata": {},
   "outputs": [],
   "source": [
    "final.insert(final.columns.get_loc('ATV_UTV_QUANTITY')+1, \"ATV-M\",\n",
    "            final.apply(compare_cols,\n",
    "                        comp1='ATV/UTV/SNOWMOBILES_SS', comp2='ATV/UTV/SNOWMOBILES_SA', comp3='ATV_UTV_QUANTITY', axis=1))"
   ]
  },
  {
   "cell_type": "markdown",
   "id": "feea50e0",
   "metadata": {},
   "source": [
    "# AG/COMMERCIAL/CONSTRUCTION"
   ]
  },
  {
   "cell_type": "code",
   "execution_count": 49,
   "id": "bf5027b5",
   "metadata": {},
   "outputs": [],
   "source": [
    "final.insert(final.columns.get_loc('COMM_EQUIP_QUANTITY')+1, \"COMM-M\",\n",
    "            final.apply(compare_cols,\n",
    "                        comp1='AG/COMMERCIAL/CONSTRUCTION_SS',\n",
    "                        comp2='AG/COMMERCIAL/CONSTRUCTION_SA', comp3='COMM_EQUIP_QUANTITY', axis=1))"
   ]
  },
  {
   "cell_type": "markdown",
   "id": "efb82941",
   "metadata": {},
   "source": [
    "# RV"
   ]
  },
  {
   "cell_type": "code",
   "execution_count": 50,
   "id": "03811dea",
   "metadata": {},
   "outputs": [],
   "source": [
    "final.insert(final.columns.get_loc('RVS_QUANTITY')+1, \"RV-M\",\n",
    "            final.apply(compare_cols, comp1='RV_SS', comp2='RV_SA', comp3='RVS_QUANTITY', axis=1))"
   ]
  },
  {
   "cell_type": "markdown",
   "id": "38c6efb7",
   "metadata": {},
   "source": [
    "# TRAILERS"
   ]
  },
  {
   "cell_type": "code",
   "execution_count": 51,
   "id": "e10820b1",
   "metadata": {},
   "outputs": [],
   "source": [
    "final.insert(final.columns.get_loc('TRAILER_QUANTITY')+1, \"Trailer-M\",\n",
    "            final.apply(compare_cols, comp1='TRAILERS_SS', comp2='TRAILERS_SA', comp3='TRAILER_QUANTITY', axis=1))"
   ]
  },
  {
   "cell_type": "markdown",
   "id": "348a1deb",
   "metadata": {},
   "source": [
    "# VESSEL"
   ]
  },
  {
   "cell_type": "code",
   "execution_count": 52,
   "id": "26fec37b",
   "metadata": {},
   "outputs": [],
   "source": [
    "final.insert(final.columns.get_loc('VESSEL_QUANTITY')+1, \"Vessel-M\",\n",
    "            final.apply(compare_cols, comp1='VESSEL_SS', comp2='VESSEL_SA', comp3='VESSEL_QUANTITY', axis=1))"
   ]
  },
  {
   "cell_type": "markdown",
   "id": "21941ef0",
   "metadata": {},
   "source": [
    "# color in the compare columns"
   ]
  },
  {
   "cell_type": "code",
   "execution_count": 53,
   "id": "1f2c655d",
   "metadata": {},
   "outputs": [],
   "source": [
    "final_style = final.style.set_properties(**{'background-color': 'lightblue'},\n",
    "                          subset=['Survey Matches', 'Chimney Macthes','AUTOMOBILE-M','Motorcycle-M',\"ATV-M\",\n",
    "                                  'COMM-M',\"RV-M\",'Trailer-M' ,'Vessel-M'])"
   ]
  },
  {
   "cell_type": "code",
   "execution_count": 54,
   "id": "bfbbdb17",
   "metadata": {},
   "outputs": [],
   "source": [
    "final_style.to_excel('Central Dixie Fire SA Audit.xlsx')"
   ]
  },
  {
   "cell_type": "markdown",
   "id": "2c6a9fa2",
   "metadata": {},
   "source": [
    "# RTR vehcile counts for each APN"
   ]
  },
  {
   "cell_type": "code",
   "execution_count": 55,
   "id": "9fa379e9",
   "metadata": {},
   "outputs": [],
   "source": [
    "RTR = df4.copy()\n",
    "RTR = RTR[['Zone Name', 'Service Code', 'Unit Count', 'Is Void', 'GIS Zone1','GIS Zone2']]\n",
    "RTR = RTR.copy()\n",
    "RTR['Zone Name'] = RTR['Zone Name'].str[:3] + \"-\" + RTR['Zone Name'].str[3:6] + \"-\" + RTR['Zone Name'].str[6:]\n",
    "RTR['Service Code'] = RTR['Service Code'].str.strip()\n",
    "\n"
   ]
  },
  {
   "cell_type": "code",
   "execution_count": 56,
   "id": "f81e8dea",
   "metadata": {},
   "outputs": [],
   "source": [
    "RTR_Vecs = RTR.copy()\n",
    "RTR_Vecs = RTR_Vecs[(RTR_Vecs['Is Void'] == False) & (RTR_Vecs['Service Code'].isin(['5A','5B']))]\n",
    "RTR_Vecs = RTR_Vecs[RTR_Vecs['GIS Zone1'].isin(['CENTRAL DIVISION'])]\n",
    "RTR_Vecs = RTR_Vecs[['Zone Name', 'Unit Count', 'GIS Zone2']]\n",
    "RTR_SUM_Vecs = RTR_Vecs.groupby(['Zone Name'])[['Unit Count']].sum().reset_index()\n",
    "RTR_SUM_Vecs = RTR_SUM_Vecs.add_suffix(\"_RTR\")"
   ]
  },
  {
   "cell_type": "code",
   "execution_count": 59,
   "id": "fcd5e9bf",
   "metadata": {
    "scrolled": true
   },
   "outputs": [
    {
     "data": {
      "text/html": [
       "<div>\n",
       "<style scoped>\n",
       "    .dataframe tbody tr th:only-of-type {\n",
       "        vertical-align: middle;\n",
       "    }\n",
       "\n",
       "    .dataframe tbody tr th {\n",
       "        vertical-align: top;\n",
       "    }\n",
       "\n",
       "    .dataframe thead th {\n",
       "        text-align: right;\n",
       "    }\n",
       "</style>\n",
       "<table border=\"1\" class=\"dataframe\">\n",
       "  <thead>\n",
       "    <tr style=\"text-align: right;\">\n",
       "      <th></th>\n",
       "      <th>APN_ROW SEGMENT</th>\n",
       "      <th>STREET #</th>\n",
       "      <th>STREET NAME</th>\n",
       "      <th>STRUCTURAL STATUS</th>\n",
       "      <th>COUNTY_SS</th>\n",
       "      <th>CHIMNEY</th>\n",
       "      <th>SA SURVEY DATE</th>\n",
       "      <th>AUTOMOBILES</th>\n",
       "      <th>ATV/UTV/SNOWMOBILES</th>\n",
       "      <th>AG/COMMERCIAL/CONSTRUCTION</th>\n",
       "      <th>MOTORCYCLES_SS</th>\n",
       "      <th>RV_SS</th>\n",
       "      <th>TRAILERS_SS</th>\n",
       "      <th>VESSEL_SS</th>\n",
       "      <th>TOTAL NUMBER OF VEHICLES</th>\n",
       "    </tr>\n",
       "  </thead>\n",
       "  <tbody>\n",
       "    <tr>\n",
       "      <th>0</th>\n",
       "      <td>012-036-270</td>\n",
       "      <td>16355</td>\n",
       "      <td>Dam Road</td>\n",
       "      <td>Returned to County</td>\n",
       "      <td>Lake</td>\n",
       "      <td>No</td>\n",
       "      <td>2021-10-28</td>\n",
       "      <td>4.0</td>\n",
       "      <td>0.0</td>\n",
       "      <td>0.0</td>\n",
       "      <td>5.0</td>\n",
       "      <td>0.0</td>\n",
       "      <td>1.0</td>\n",
       "      <td>2.0</td>\n",
       "      <td>12</td>\n",
       "    </tr>\n",
       "    <tr>\n",
       "      <th>1</th>\n",
       "      <td>042-374-130</td>\n",
       "      <td>16350</td>\n",
       "      <td>Dam Road</td>\n",
       "      <td>Tree Operations in Progress</td>\n",
       "      <td>Lake</td>\n",
       "      <td>No</td>\n",
       "      <td>2021-11-03</td>\n",
       "      <td>0.0</td>\n",
       "      <td>0.0</td>\n",
       "      <td>0.0</td>\n",
       "      <td>0.0</td>\n",
       "      <td>0.0</td>\n",
       "      <td>0.0</td>\n",
       "      <td>0.0</td>\n",
       "      <td>0</td>\n",
       "    </tr>\n",
       "    <tr>\n",
       "      <th>2</th>\n",
       "      <td>042-376-190</td>\n",
       "      <td>16428</td>\n",
       "      <td>2nd Avenue</td>\n",
       "      <td>Ready for Debris Removal</td>\n",
       "      <td>Lake</td>\n",
       "      <td>No</td>\n",
       "      <td>2021-12-04</td>\n",
       "      <td>0.0</td>\n",
       "      <td>0.0</td>\n",
       "      <td>1.0</td>\n",
       "      <td>0.0</td>\n",
       "      <td>0.0</td>\n",
       "      <td>1.0</td>\n",
       "      <td>0.0</td>\n",
       "      <td>2</td>\n",
       "    </tr>\n",
       "    <tr>\n",
       "      <th>3</th>\n",
       "      <td>041-492-003</td>\n",
       "      <td>6774</td>\n",
       "      <td>Tyler Drive</td>\n",
       "      <td>Ready for Tree Operations</td>\n",
       "      <td>El Dorado</td>\n",
       "      <td>No</td>\n",
       "      <td>2021-10-11</td>\n",
       "      <td>0.0</td>\n",
       "      <td>2.0</td>\n",
       "      <td>1.0</td>\n",
       "      <td>0.0</td>\n",
       "      <td>0.0</td>\n",
       "      <td>1.0</td>\n",
       "      <td>0.0</td>\n",
       "      <td>4</td>\n",
       "    </tr>\n",
       "    <tr>\n",
       "      <th>4</th>\n",
       "      <td>041-481-007</td>\n",
       "      <td>6823</td>\n",
       "      <td>Tyler Drive</td>\n",
       "      <td>Ready for Tree Operations</td>\n",
       "      <td>El Dorado</td>\n",
       "      <td>Yes</td>\n",
       "      <td>2021-11-04</td>\n",
       "      <td>0.0</td>\n",
       "      <td>0.0</td>\n",
       "      <td>0.0</td>\n",
       "      <td>0.0</td>\n",
       "      <td>0.0</td>\n",
       "      <td>0.0</td>\n",
       "      <td>0.0</td>\n",
       "      <td>0</td>\n",
       "    </tr>\n",
       "    <tr>\n",
       "      <th>...</th>\n",
       "      <td>...</td>\n",
       "      <td>...</td>\n",
       "      <td>...</td>\n",
       "      <td>...</td>\n",
       "      <td>...</td>\n",
       "      <td>...</td>\n",
       "      <td>...</td>\n",
       "      <td>...</td>\n",
       "      <td>...</td>\n",
       "      <td>...</td>\n",
       "      <td>...</td>\n",
       "      <td>...</td>\n",
       "      <td>...</td>\n",
       "      <td>...</td>\n",
       "      <td>...</td>\n",
       "    </tr>\n",
       "    <tr>\n",
       "      <th>15</th>\n",
       "      <td>059-550-022</td>\n",
       "      <td>18887</td>\n",
       "      <td>Golden Dove Lane</td>\n",
       "      <td>ROE Received</td>\n",
       "      <td>Tuolumne</td>\n",
       "      <td>No</td>\n",
       "      <td>0</td>\n",
       "      <td>0.0</td>\n",
       "      <td>0.0</td>\n",
       "      <td>0.0</td>\n",
       "      <td>0.0</td>\n",
       "      <td>0.0</td>\n",
       "      <td>0.0</td>\n",
       "      <td>0.0</td>\n",
       "      <td>0</td>\n",
       "    </tr>\n",
       "    <tr>\n",
       "      <th>16</th>\n",
       "      <td>059-550-005</td>\n",
       "      <td>059-550-005</td>\n",
       "      <td>No Address</td>\n",
       "      <td>ROE Received</td>\n",
       "      <td>Tuolumne</td>\n",
       "      <td>No</td>\n",
       "      <td>0</td>\n",
       "      <td>0.0</td>\n",
       "      <td>0.0</td>\n",
       "      <td>0.0</td>\n",
       "      <td>0.0</td>\n",
       "      <td>0.0</td>\n",
       "      <td>0.0</td>\n",
       "      <td>0.0</td>\n",
       "      <td>0</td>\n",
       "    </tr>\n",
       "    <tr>\n",
       "      <th>17</th>\n",
       "      <td>059-550-021</td>\n",
       "      <td>19125</td>\n",
       "      <td>Golden Dove Lane</td>\n",
       "      <td>ROE Received</td>\n",
       "      <td>Tuolumne</td>\n",
       "      <td>No</td>\n",
       "      <td>0</td>\n",
       "      <td>0.0</td>\n",
       "      <td>0.0</td>\n",
       "      <td>0.0</td>\n",
       "      <td>0.0</td>\n",
       "      <td>0.0</td>\n",
       "      <td>0.0</td>\n",
       "      <td>0.0</td>\n",
       "      <td>0</td>\n",
       "    </tr>\n",
       "    <tr>\n",
       "      <th>18</th>\n",
       "      <td>059-550-004</td>\n",
       "      <td>059-550-004</td>\n",
       "      <td>No Address</td>\n",
       "      <td>ROE Received</td>\n",
       "      <td>Tuolumne</td>\n",
       "      <td>No</td>\n",
       "      <td>0</td>\n",
       "      <td>0.0</td>\n",
       "      <td>0.0</td>\n",
       "      <td>0.0</td>\n",
       "      <td>0.0</td>\n",
       "      <td>0.0</td>\n",
       "      <td>0.0</td>\n",
       "      <td>0.0</td>\n",
       "      <td>0</td>\n",
       "    </tr>\n",
       "    <tr>\n",
       "      <th>19</th>\n",
       "      <td>059-550-018</td>\n",
       "      <td>11387</td>\n",
       "      <td>Silver Pine Drive</td>\n",
       "      <td>ROE Received</td>\n",
       "      <td>Tuolumne</td>\n",
       "      <td>No</td>\n",
       "      <td>0</td>\n",
       "      <td>0.0</td>\n",
       "      <td>0.0</td>\n",
       "      <td>0.0</td>\n",
       "      <td>0.0</td>\n",
       "      <td>0.0</td>\n",
       "      <td>0.0</td>\n",
       "      <td>0.0</td>\n",
       "      <td>0</td>\n",
       "    </tr>\n",
       "  </tbody>\n",
       "</table>\n",
       "<p>1003 rows × 15 columns</p>\n",
       "</div>"
      ],
      "text/plain": [
       "   APN_ROW SEGMENT     STREET #        STREET NAME  \\\n",
       "0      012-036-270        16355           Dam Road   \n",
       "1      042-374-130        16350           Dam Road   \n",
       "2      042-376-190        16428         2nd Avenue   \n",
       "3      041-492-003         6774        Tyler Drive   \n",
       "4      041-481-007         6823        Tyler Drive   \n",
       "..             ...          ...                ...   \n",
       "15     059-550-022        18887   Golden Dove Lane   \n",
       "16     059-550-005  059-550-005         No Address   \n",
       "17     059-550-021        19125   Golden Dove Lane   \n",
       "18     059-550-004  059-550-004         No Address   \n",
       "19     059-550-018        11387  Silver Pine Drive   \n",
       "\n",
       "              STRUCTURAL STATUS  COUNTY_SS CHIMNEY SA SURVEY DATE  \\\n",
       "0            Returned to County       Lake      No     2021-10-28   \n",
       "1   Tree Operations in Progress       Lake      No     2021-11-03   \n",
       "2      Ready for Debris Removal       Lake      No     2021-12-04   \n",
       "3     Ready for Tree Operations  El Dorado      No     2021-10-11   \n",
       "4     Ready for Tree Operations  El Dorado     Yes     2021-11-04   \n",
       "..                          ...        ...     ...            ...   \n",
       "15                 ROE Received   Tuolumne      No              0   \n",
       "16                 ROE Received   Tuolumne      No              0   \n",
       "17                 ROE Received   Tuolumne      No              0   \n",
       "18                 ROE Received   Tuolumne      No              0   \n",
       "19                 ROE Received   Tuolumne      No              0   \n",
       "\n",
       "    AUTOMOBILES  ATV/UTV/SNOWMOBILES  AG/COMMERCIAL/CONSTRUCTION  \\\n",
       "0           4.0                  0.0                         0.0   \n",
       "1           0.0                  0.0                         0.0   \n",
       "2           0.0                  0.0                         1.0   \n",
       "3           0.0                  2.0                         1.0   \n",
       "4           0.0                  0.0                         0.0   \n",
       "..          ...                  ...                         ...   \n",
       "15          0.0                  0.0                         0.0   \n",
       "16          0.0                  0.0                         0.0   \n",
       "17          0.0                  0.0                         0.0   \n",
       "18          0.0                  0.0                         0.0   \n",
       "19          0.0                  0.0                         0.0   \n",
       "\n",
       "    MOTORCYCLES_SS  RV_SS  TRAILERS_SS  VESSEL_SS  TOTAL NUMBER OF VEHICLES  \n",
       "0              5.0    0.0          1.0        2.0                        12  \n",
       "1              0.0    0.0          0.0        0.0                         0  \n",
       "2              0.0    0.0          1.0        0.0                         2  \n",
       "3              0.0    0.0          1.0        0.0                         4  \n",
       "4              0.0    0.0          0.0        0.0                         0  \n",
       "..             ...    ...          ...        ...                       ...  \n",
       "15             0.0    0.0          0.0        0.0                         0  \n",
       "16             0.0    0.0          0.0        0.0                         0  \n",
       "17             0.0    0.0          0.0        0.0                         0  \n",
       "18             0.0    0.0          0.0        0.0                         0  \n",
       "19             0.0    0.0          0.0        0.0                         0  \n",
       "\n",
       "[1003 rows x 15 columns]"
      ]
     },
     "execution_count": 59,
     "metadata": {},
     "output_type": "execute_result"
    }
   ],
   "source": [
    "smartsheets"
   ]
  },
  {
   "cell_type": "code",
   "execution_count": 60,
   "id": "3650c52e",
   "metadata": {
    "scrolled": true
   },
   "outputs": [],
   "source": [
    "RTR_vec_final = smartsheets.merge(RTR_SUM_Vecs,\n",
    "                             left_on='APN_ROW SEGMENT',\n",
    "                             right_on='Zone Name_RTR',\n",
    "                             how='outer')"
   ]
  },
  {
   "cell_type": "code",
   "execution_count": 61,
   "id": "a1a72bec",
   "metadata": {},
   "outputs": [],
   "source": [
    "RTR_vec_final['Left over Vehicles'] = RTR_vec_final['TOTAL NUMBER OF VEHICLES'] - RTR_vec_final['Unit Count_RTR']"
   ]
  },
  {
   "cell_type": "code",
   "execution_count": 63,
   "id": "229ceb8e",
   "metadata": {},
   "outputs": [],
   "source": [
    "RTR_vec_final = RTR_vec_final[['APN_ROW SEGMENT','STREET #','STREET NAME','STRUCTURAL STATUS','COUNTY_SS',\n",
    "               'TOTAL NUMBER OF VEHICLES', 'Unit Count_RTR', 'Left over Vehicles']]"
   ]
  },
  {
   "cell_type": "code",
   "execution_count": 64,
   "id": "1d4c7b3d",
   "metadata": {},
   "outputs": [],
   "source": [
    "RTR_vec_final.to_excel('Vehicle RTR counts Central.xlsx')"
   ]
  },
  {
   "cell_type": "code",
   "execution_count": null,
   "id": "c522162e",
   "metadata": {},
   "outputs": [],
   "source": []
  }
 ],
 "metadata": {
  "kernelspec": {
   "display_name": "Python 3",
   "language": "python",
   "name": "python3"
  },
  "language_info": {
   "codemirror_mode": {
    "name": "ipython",
    "version": 3
   },
   "file_extension": ".py",
   "mimetype": "text/x-python",
   "name": "python",
   "nbconvert_exporter": "python",
   "pygments_lexer": "ipython3",
   "version": "3.9.4"
  }
 },
 "nbformat": 4,
 "nbformat_minor": 5
}
