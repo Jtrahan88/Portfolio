{
 "cells": [
  {
   "cell_type": "code",
   "execution_count": 1,
   "id": "d440b2f9",
   "metadata": {},
   "outputs": [],
   "source": [
    "import pandas as pd\n",
    "import numpy as np"
   ]
  },
  {
   "attachments": {
    "image.png": {
     "image/png": "[encoded data removed]"
    }
   },
   "cell_type": "markdown",
   "id": "69f793e7",
   "metadata": {},
   "source": [
    "**make a lastest date based on the following**\n",
    "* ARCH,BIO,ASB\n",
    "* if ASB is POS that lastest date will be CAC date\n",
    "* if ASB is ND lasest date will be Date received\n",
    "\n",
    "#### Columns needed:  APN_ROW Segment,\tStreet #,\tStreet Name,\tDebris Crew\n",
    "![image.png](attachment:image.png)\n",
    "**Asbestos**\n",
    "* ASB Results\n",
    "* CAC Clearance\n",
    "* ASB Results Received\n",
    "\n",
    "**ARC**\n",
    "* Arch Assessment\n",
    "\n",
    "**BIO**\n",
    "* Bio Assessment\n",
    "\n",
    "\n",
    "\n",
    "\n",
    "\n",
    "# Steps:\n",
    "* 1) Compare all dates to Derbirs removal date. DRd should **match** the latest date.\n",
    "* 2) see if other date are greater. If so print out that date\n",
    "* 3) see if DRD is equal to anyone orther dates\n",
    "* 4) if all dates are 0 then leave blank"
   ]
  },
  {
   "cell_type": "code",
   "execution_count": 2,
   "id": "68b73dc7",
   "metadata": {},
   "outputs": [],
   "source": [
    "df = pd.read_excel('../Central Branch  trackers/Central Division 2021 Debris Removal Tracker.xlsx')"
   ]
  },
  {
   "cell_type": "code",
   "execution_count": 3,
   "id": "0567ea9a",
   "metadata": {},
   "outputs": [],
   "source": [
    "# df.info(verbose=True)"
   ]
  },
  {
   "cell_type": "code",
   "execution_count": 4,
   "id": "db78b109",
   "metadata": {},
   "outputs": [],
   "source": [
    "# create new columns for each area we might have to check\n",
    "checks = df[['APN_ROW Segment', 'Street #', 'Street Name', 'Debris Crew', 'Structural Status',\n",
    "             'ASB Results', 'CAC Clearance', 'ASB Results Received',\n",
    "            'Arch Assessment',\n",
    "            'Bio Assessment',\n",
    "            'Ready for Debris Removal']]"
   ]
  },
  {
   "cell_type": "code",
   "execution_count": 5,
   "id": "3356bbf8",
   "metadata": {},
   "outputs": [],
   "source": [
    "# set up which structal status to not look for\n",
    "checks = checks[(~checks['Structural Status'].isin(['Site Assessment Complete','Chimney Tip Needed',\n",
    "                                                    'Asbestos Abatement Needed', 'ROE Received','Pending Asbestos Results']))]"
   ]
  },
  {
   "cell_type": "markdown",
   "id": "2e14e575",
   "metadata": {},
   "source": [
    "# Change datetimes to string and fill NAs with \"0\"s"
   ]
  },
  {
   "cell_type": "code",
   "execution_count": 6,
   "id": "9442d142",
   "metadata": {},
   "outputs": [],
   "source": [
    "checks = checks.copy()"
   ]
  },
  {
   "cell_type": "code",
   "execution_count": 7,
   "id": "952cd963",
   "metadata": {},
   "outputs": [],
   "source": [
    "checks['CAC Clearance'] = checks['CAC Clearance'].dt.strftime('%Y-%m-%d').fillna(\"0\")\n",
    "checks['ASB Results Received'] = checks['ASB Results Received'].dt.strftime('%Y-%m-%d').fillna(\"0\")\n",
    "checks['Arch Assessment'] = checks['Arch Assessment'].dt.strftime('%Y-%m-%d').fillna(\"0\")\n",
    "checks['Bio Assessment'] = checks['Bio Assessment'].dt.strftime('%Y-%m-%d').fillna(\"0\")\n",
    "checks['Ready for Debris Removal'] = checks['Ready for Debris Removal'].dt.strftime('%Y-%m-%d').fillna('0')"
   ]
  },
  {
   "cell_type": "code",
   "execution_count": 8,
   "id": "3e8f8009",
   "metadata": {},
   "outputs": [],
   "source": [
    "# checks_style = checks.style.highlight_max(color = 'yellow', axis=0, subset=['CAC Clearance','ASB Results Received',\n",
    "#                                                                             'Arch Assessment', 'Bio Assessment'])"
   ]
  },
  {
   "cell_type": "code",
   "execution_count": 9,
   "id": "0e268bf7",
   "metadata": {},
   "outputs": [],
   "source": [
    "# checks_style"
   ]
  },
  {
   "cell_type": "code",
   "execution_count": 10,
   "id": "1beaf400",
   "metadata": {},
   "outputs": [],
   "source": [
    "# checks_style.to_excel('Test style date.xlsx')"
   ]
  },
  {
   "cell_type": "code",
   "execution_count": 11,
   "id": "fb61d23d",
   "metadata": {},
   "outputs": [],
   "source": [
    "def find_lastest_date(df, comp1, comp2, comp3, comp4, comp5):\n",
    "    # Debris not finished\n",
    "    if df[comp1] == \"0\":\n",
    "        return 'No \"Ready for Debris Removal\" Date'\n",
    "    \n",
    "    \n",
    "    \n",
    "    # compares comp1 to all other comps\n",
    "    if ((df[comp1] > df[comp2]) & (df[comp1] > df[comp3]) & (df[comp1] > df[comp4]) & (df[comp1] > df[comp5])):\n",
    "        return '\"Ready for Debris Removal\" is greater than Latest Date'\n",
    "    # compares comp2 to all other comps\n",
    "    elif ((df[comp2] > df[comp1]) & (df[comp2] >= df[comp3]) & (df[comp2] >= df[comp4]) & (df[comp2] >= df[comp5])):\n",
    "        return \"'ASB Results Received' Latest/has other matching dates\"\n",
    "    # compares comp3 to all other comps\n",
    "    elif  ((df[comp3] > df[comp1]) & (df[comp3] >= df[comp2]) & (df[comp3] >= df[comp4]) & (df[comp3] >= df[comp5])):\n",
    "        return '\"Arch Assessment\" Latest/has other matching dates'\n",
    "    # compares comp4 to all other comps\n",
    "    elif ((df[comp4] > df[comp1]) & (df[comp4] >= df[comp2]) & (df[comp4] >= df[comp3]) & (df[comp4] >= df[comp5])):\n",
    "        return '\"Bio Assessment\" Latest/has other matching dates'\n",
    "    elif((df[comp5] > df[comp1]) & (df[comp5] >= df[comp2]) & (df[comp5] >= df[comp3]) & (df[comp5] >= df[comp4])):\n",
    "         return '\"CAC Clearance\" Latest/has other matching dates'\n",
    "    \n",
    "    # Comp matches\n",
    "    \n",
    "    # All comps == \"0\" leave blank\n",
    "    elif ((df[comp1] == \"0\") & (df[comp2] == \"0\") & (df[comp3] == \"0\") & (df[comp4] == \"0\") & (df[comp5] == \"0\")):\n",
    "        return \"\"\n",
    "    \n",
    "    \n",
    "    # All comps macth\n",
    "    elif ((df[comp1] == df[comp2]) & (df[comp1] == df[comp3]) & (df[comp1] == df[comp4]) & (df[comp1] == df[comp5])):\n",
    "        return \"Ready for Debris Removal matches Latest  Date\"\n",
    "    \n",
    "    # comp1 match to another other comp\n",
    "    elif ((df[comp1] == df[comp2]) | (df[comp1] == df[comp3]) | (df[comp1] == df[comp4]) | (df[comp1] == df[comp5])):\n",
    "        return \"Ready for Debris Removal matches Latest  Date\"\n",
    "    else:\n",
    "        return \"\""
   ]
  },
  {
   "cell_type": "code",
   "execution_count": 12,
   "id": "d9a6f0e2",
   "metadata": {},
   "outputs": [],
   "source": [
    "checks.insert(checks.columns.get_loc('Ready for Debris Removal') + 1, \"Max Date\",\n",
    "             checks.apply(find_lastest_date, comp1='Ready for Debris Removal', comp2='ASB Results Received',\n",
    "                          comp3='Arch Assessment', comp4='Bio Assessment',comp5='CAC Clearance', axis=1))"
   ]
  },
  {
   "cell_type": "code",
   "execution_count": 13,
   "id": "628bc877",
   "metadata": {},
   "outputs": [],
   "source": [
    "check_style = checks.style.set_properties(**{'background-color': '#ffffb3'}, subset=[\"Max Date\"])"
   ]
  },
  {
   "cell_type": "code",
   "execution_count": 14,
   "id": "8a83f97d",
   "metadata": {},
   "outputs": [],
   "source": [
    "# check_style"
   ]
  },
  {
   "cell_type": "code",
   "execution_count": 15,
   "id": "e12394a8",
   "metadata": {},
   "outputs": [],
   "source": [
    "check_style.to_excel('Debris Removal Lastest Date Checks.xlsx')"
   ]
  },
  {
   "cell_type": "code",
   "execution_count": null,
   "id": "2f8d450a",
   "metadata": {},
   "outputs": [],
   "source": []
  }
 ],
 "metadata": {
  "kernelspec": {
   "display_name": "Python 3",
   "language": "python",
   "name": "python3"
  },
  "language_info": {
   "codemirror_mode": {
    "name": "ipython",
    "version": 3
   },
   "file_extension": ".py",
   "mimetype": "text/x-python",
   "name": "python",
   "nbconvert_exporter": "python",
   "pygments_lexer": "ipython3",
   "version": "3.9.4"
  }
 },
 "nbformat": 4,
 "nbformat_minor": 5
}
