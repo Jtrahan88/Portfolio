{
 "cells": [
  {
   "cell_type": "code",
   "execution_count": 15,
   "id": "350cb06c",
   "metadata": {},
   "outputs": [],
   "source": [
    "import pandas as pd\n",
    "import os\n",
    "import glob\n",
    "import numpy as np"
   ]
  },
  {
   "cell_type": "code",
   "execution_count": 16,
   "id": "ef8f8238",
   "metadata": {},
   "outputs": [],
   "source": [
    "path = r\"C:\\Users\\jacque.trahan\\Downloads\\Central Division 2021 Debris Removal Tracker*\"\n",
    "file_type = \".xlsx\"\n",
    "load_it = glob.glob(path + file_type)\n",
    "df = pd.read_excel(max(load_it, key=os.path.getctime))"
   ]
  },
  {
   "cell_type": "code",
   "execution_count": 17,
   "id": "0538be34",
   "metadata": {},
   "outputs": [],
   "source": [
    "checks = df.copy()"
   ]
  },
  {
   "cell_type": "code",
   "execution_count": 14,
   "id": "7f0049dd",
   "metadata": {},
   "outputs": [],
   "source": [
    "checks.loc[checks['Not Eligible'].notnull(),['APN_ROW Segment','Street #', 'Street Name', 'County', 'Not Eligible']].to_excel('Not eligible properties.xlsx')"
   ]
  },
  {
   "cell_type": "code",
   "execution_count": null,
   "id": "800ec949",
   "metadata": {},
   "outputs": [],
   "source": [
    "# pd.set_option('display.max_rows', 210)"
   ]
  },
  {
   "cell_type": "markdown",
   "id": "2bcd7334",
   "metadata": {},
   "source": [
    "# Checks debris start/finish dates and special notes"
   ]
  },
  {
   "cell_type": "code",
   "execution_count": null,
   "id": "3cd1c2fd",
   "metadata": {},
   "outputs": [],
   "source": [
    "# checks = checks[['APN_ROW Segment','Street #', 'Street Name', 'County','Debris Start', 'Debris Finish', 'Special Notes']]"
   ]
  },
  {
   "cell_type": "code",
   "execution_count": null,
   "id": "969719cc",
   "metadata": {},
   "outputs": [],
   "source": [
    "# fin_no_start = checks[(checks['Debris Start'].isnull()) & (checks['Debris Finish'].notnull())]\n",
    "# fin_no_start.to_excel('MMissing startdate but has finish dates.xlsx')"
   ]
  },
  {
   "cell_type": "markdown",
   "id": "f4c9a70a",
   "metadata": {},
   "source": [
    "# 811 checks"
   ]
  },
  {
   "cell_type": "code",
   "execution_count": 21,
   "id": "2441558a",
   "metadata": {},
   "outputs": [],
   "source": [
    "checks_811s = checks[['APN_ROW Segment','Street #', 'Street Name', 'County','811 Called (A&M)',\n",
    "                      'Site Assessment', \"Debris Crew\", \"Not Eligible\", 'Withdrawal']]\n",
    "checks_811s = checks_811s[(checks_811s['Not Eligible'].isnull()) & (checks_811s['Withdrawal'].isnull())]"
   ]
  },
  {
   "cell_type": "code",
   "execution_count": 6,
   "id": "6b59438d",
   "metadata": {},
   "outputs": [],
   "source": [
    "# checks_811s.head()"
   ]
  },
  {
   "cell_type": "code",
   "execution_count": 22,
   "id": "c7784a85",
   "metadata": {},
   "outputs": [],
   "source": [
    "checks_811s = checks_811s.copy()\n",
    "checks_811s['811 Called (A&M)'].fillna(0, inplace=True)"
   ]
  },
  {
   "cell_type": "code",
   "execution_count": 23,
   "id": "65c8a904",
   "metadata": {},
   "outputs": [],
   "source": [
    "checks_811s.replace(1.0, \"Complete\", inplace=True)\n",
    "checks_811s.replace(0.0, \"Not done\", inplace=True)"
   ]
  },
  {
   "cell_type": "code",
   "execution_count": 25,
   "id": "ff5dfc7e",
   "metadata": {},
   "outputs": [],
   "source": [
    "checks_811s_notdone = checks_811s[(checks_811s['811 Called (A&M)'] == \"Not done\")]# & (checks_811s['Site Assessment'].notnull())]"
   ]
  },
  {
   "cell_type": "code",
   "execution_count": 26,
   "id": "a8f4fa47",
   "metadata": {},
   "outputs": [],
   "source": [
    "checks_811s_complete= checks_811s[(checks_811s['811 Called (A&M)']==\"Complete\")] #& (checks_811s['Site Assessment'].notnull())] # "
   ]
  },
  {
   "cell_type": "code",
   "execution_count": 30,
   "id": "f0fafe91",
   "metadata": {},
   "outputs": [],
   "source": [
    "checks_811s_notdone.to_excel(\"811s (A&M) Not completed.xlsx\")"
   ]
  },
  {
   "cell_type": "code",
   "execution_count": 31,
   "id": "7a337e52",
   "metadata": {},
   "outputs": [],
   "source": [
    "checks_811s_complete.to_excel(\"811s (A&M) completed.xlsx\")"
   ]
  },
  {
   "cell_type": "markdown",
   "id": "7a860a98",
   "metadata": {},
   "source": [
    "# Power BI"
   ]
  },
  {
   "cell_type": "code",
   "execution_count": 98,
   "id": "ce0ccd6d",
   "metadata": {},
   "outputs": [],
   "source": [
    "power_bi= checks.copy()"
   ]
  },
  {
   "cell_type": "code",
   "execution_count": 99,
   "id": "5c5471df",
   "metadata": {},
   "outputs": [],
   "source": [
    "power_bi = power_bi[['APN_ROW Segment', 'ASB Assessment', 'Site Assessment', 'Phase 1 Complete', 'ROE Verified']]"
   ]
  },
  {
   "cell_type": "code",
   "execution_count": 104,
   "id": "30b4bf76",
   "metadata": {
    "collapsed": true
   },
   "outputs": [
    {
     "data": {
      "text/html": [
       "<div>\n",
       "<style scoped>\n",
       "    .dataframe tbody tr th:only-of-type {\n",
       "        vertical-align: middle;\n",
       "    }\n",
       "\n",
       "    .dataframe tbody tr th {\n",
       "        vertical-align: top;\n",
       "    }\n",
       "\n",
       "    .dataframe thead th {\n",
       "        text-align: right;\n",
       "    }\n",
       "</style>\n",
       "<table border=\"1\" class=\"dataframe\">\n",
       "  <thead>\n",
       "    <tr style=\"text-align: right;\">\n",
       "      <th></th>\n",
       "      <th>APN_ROW Segment</th>\n",
       "      <th>ASB Assessment</th>\n",
       "      <th>Site Assessment</th>\n",
       "      <th>Phase 1 Complete</th>\n",
       "      <th>ROE Verified</th>\n",
       "    </tr>\n",
       "  </thead>\n",
       "  <tbody>\n",
       "    <tr>\n",
       "      <th>19</th>\n",
       "      <td>041-494-005</td>\n",
       "      <td>NaT</td>\n",
       "      <td>NaT</td>\n",
       "      <td>No</td>\n",
       "      <td>ROE Verified</td>\n",
       "    </tr>\n",
       "    <tr>\n",
       "      <th>20</th>\n",
       "      <td>041-642-007</td>\n",
       "      <td>NaT</td>\n",
       "      <td>NaT</td>\n",
       "      <td>No</td>\n",
       "      <td>ROE Verified</td>\n",
       "    </tr>\n",
       "    <tr>\n",
       "      <th>21</th>\n",
       "      <td>041-643-002</td>\n",
       "      <td>NaT</td>\n",
       "      <td>NaT</td>\n",
       "      <td>Unk</td>\n",
       "      <td>ROE Verified</td>\n",
       "    </tr>\n",
       "    <tr>\n",
       "      <th>25</th>\n",
       "      <td>038-361-014</td>\n",
       "      <td>NaT</td>\n",
       "      <td>2021-11-13</td>\n",
       "      <td>No</td>\n",
       "      <td>ROE Verified</td>\n",
       "    </tr>\n",
       "    <tr>\n",
       "      <th>36</th>\n",
       "      <td>041-431-004</td>\n",
       "      <td>NaT</td>\n",
       "      <td>2021-11-09</td>\n",
       "      <td>Yes</td>\n",
       "      <td>ROE Verified</td>\n",
       "    </tr>\n",
       "    <tr>\n",
       "      <th>...</th>\n",
       "      <td>...</td>\n",
       "      <td>...</td>\n",
       "      <td>...</td>\n",
       "      <td>...</td>\n",
       "      <td>...</td>\n",
       "    </tr>\n",
       "    <tr>\n",
       "      <th>941</th>\n",
       "      <td>041-882-027</td>\n",
       "      <td>NaT</td>\n",
       "      <td>NaT</td>\n",
       "      <td>No</td>\n",
       "      <td>ROE Verified</td>\n",
       "    </tr>\n",
       "    <tr>\n",
       "      <th>946</th>\n",
       "      <td>041-404-010</td>\n",
       "      <td>NaT</td>\n",
       "      <td>NaT</td>\n",
       "      <td>No</td>\n",
       "      <td>ROE Verified</td>\n",
       "    </tr>\n",
       "    <tr>\n",
       "      <th>948</th>\n",
       "      <td>041-432-005</td>\n",
       "      <td>NaT</td>\n",
       "      <td>NaT</td>\n",
       "      <td>Yes</td>\n",
       "      <td>ROE Verified</td>\n",
       "    </tr>\n",
       "    <tr>\n",
       "      <th>952</th>\n",
       "      <td>041-402-002</td>\n",
       "      <td>NaT</td>\n",
       "      <td>NaT</td>\n",
       "      <td>No</td>\n",
       "      <td>ROE Verified</td>\n",
       "    </tr>\n",
       "    <tr>\n",
       "      <th>953</th>\n",
       "      <td>041-523-008</td>\n",
       "      <td>NaT</td>\n",
       "      <td>NaT</td>\n",
       "      <td>NaN</td>\n",
       "      <td>ROE Verified</td>\n",
       "    </tr>\n",
       "  </tbody>\n",
       "</table>\n",
       "<p>218 rows × 5 columns</p>\n",
       "</div>"
      ],
      "text/plain": [
       "    APN_ROW Segment ASB Assessment Site Assessment Phase 1 Complete  \\\n",
       "19      041-494-005            NaT             NaT               No   \n",
       "20      041-642-007            NaT             NaT               No   \n",
       "21      041-643-002            NaT             NaT              Unk   \n",
       "25      038-361-014            NaT      2021-11-13               No   \n",
       "36      041-431-004            NaT      2021-11-09              Yes   \n",
       "..              ...            ...             ...              ...   \n",
       "941     041-882-027            NaT             NaT               No   \n",
       "946     041-404-010            NaT             NaT               No   \n",
       "948     041-432-005            NaT             NaT              Yes   \n",
       "952     041-402-002            NaT             NaT               No   \n",
       "953     041-523-008            NaT             NaT              NaN   \n",
       "\n",
       "     ROE Verified  \n",
       "19   ROE Verified  \n",
       "20   ROE Verified  \n",
       "21   ROE Verified  \n",
       "25   ROE Verified  \n",
       "36   ROE Verified  \n",
       "..            ...  \n",
       "941  ROE Verified  \n",
       "946  ROE Verified  \n",
       "948  ROE Verified  \n",
       "952  ROE Verified  \n",
       "953  ROE Verified  \n",
       "\n",
       "[218 rows x 5 columns]"
      ]
     },
     "execution_count": 104,
     "metadata": {},
     "output_type": "execute_result"
    }
   ],
   "source": [
    "power_bi[(power_bi['ASB Assessment'].isnull())]"
   ]
  },
  {
   "cell_type": "code",
   "execution_count": 100,
   "id": "d3fb1ae9",
   "metadata": {
    "collapsed": true
   },
   "outputs": [
    {
     "data": {
      "text/html": [
       "<div>\n",
       "<style scoped>\n",
       "    .dataframe tbody tr th:only-of-type {\n",
       "        vertical-align: middle;\n",
       "    }\n",
       "\n",
       "    .dataframe tbody tr th {\n",
       "        vertical-align: top;\n",
       "    }\n",
       "\n",
       "    .dataframe thead th {\n",
       "        text-align: right;\n",
       "    }\n",
       "</style>\n",
       "<table border=\"1\" class=\"dataframe\">\n",
       "  <thead>\n",
       "    <tr style=\"text-align: right;\">\n",
       "      <th></th>\n",
       "      <th>APN_ROW Segment</th>\n",
       "      <th>ASB Assessment</th>\n",
       "      <th>Site Assessment</th>\n",
       "      <th>Phase 1 Complete</th>\n",
       "      <th>ROE Verified</th>\n",
       "    </tr>\n",
       "  </thead>\n",
       "  <tbody>\n",
       "    <tr>\n",
       "      <th>19</th>\n",
       "      <td>041-494-005</td>\n",
       "      <td>NaT</td>\n",
       "      <td>NaT</td>\n",
       "      <td>No</td>\n",
       "      <td>ROE Verified</td>\n",
       "    </tr>\n",
       "    <tr>\n",
       "      <th>20</th>\n",
       "      <td>041-642-007</td>\n",
       "      <td>NaT</td>\n",
       "      <td>NaT</td>\n",
       "      <td>No</td>\n",
       "      <td>ROE Verified</td>\n",
       "    </tr>\n",
       "    <tr>\n",
       "      <th>21</th>\n",
       "      <td>041-643-002</td>\n",
       "      <td>NaT</td>\n",
       "      <td>NaT</td>\n",
       "      <td>Unk</td>\n",
       "      <td>ROE Verified</td>\n",
       "    </tr>\n",
       "    <tr>\n",
       "      <th>25</th>\n",
       "      <td>038-361-014</td>\n",
       "      <td>NaT</td>\n",
       "      <td>2021-11-13</td>\n",
       "      <td>No</td>\n",
       "      <td>ROE Verified</td>\n",
       "    </tr>\n",
       "    <tr>\n",
       "      <th>37</th>\n",
       "      <td>041-431-005</td>\n",
       "      <td>NaT</td>\n",
       "      <td>NaT</td>\n",
       "      <td>No</td>\n",
       "      <td>ROE Verified</td>\n",
       "    </tr>\n",
       "    <tr>\n",
       "      <th>...</th>\n",
       "      <td>...</td>\n",
       "      <td>...</td>\n",
       "      <td>...</td>\n",
       "      <td>...</td>\n",
       "      <td>...</td>\n",
       "    </tr>\n",
       "    <tr>\n",
       "      <th>937</th>\n",
       "      <td>041-651-010</td>\n",
       "      <td>NaT</td>\n",
       "      <td>NaT</td>\n",
       "      <td>No</td>\n",
       "      <td>ROE Verified</td>\n",
       "    </tr>\n",
       "    <tr>\n",
       "      <th>940</th>\n",
       "      <td>041-871-014</td>\n",
       "      <td>NaT</td>\n",
       "      <td>NaT</td>\n",
       "      <td>No</td>\n",
       "      <td>ROE Verified</td>\n",
       "    </tr>\n",
       "    <tr>\n",
       "      <th>941</th>\n",
       "      <td>041-882-027</td>\n",
       "      <td>NaT</td>\n",
       "      <td>NaT</td>\n",
       "      <td>No</td>\n",
       "      <td>ROE Verified</td>\n",
       "    </tr>\n",
       "    <tr>\n",
       "      <th>946</th>\n",
       "      <td>041-404-010</td>\n",
       "      <td>NaT</td>\n",
       "      <td>NaT</td>\n",
       "      <td>No</td>\n",
       "      <td>ROE Verified</td>\n",
       "    </tr>\n",
       "    <tr>\n",
       "      <th>952</th>\n",
       "      <td>041-402-002</td>\n",
       "      <td>NaT</td>\n",
       "      <td>NaT</td>\n",
       "      <td>No</td>\n",
       "      <td>ROE Verified</td>\n",
       "    </tr>\n",
       "  </tbody>\n",
       "</table>\n",
       "<p>158 rows × 5 columns</p>\n",
       "</div>"
      ],
      "text/plain": [
       "    APN_ROW Segment ASB Assessment Site Assessment Phase 1 Complete  \\\n",
       "19      041-494-005            NaT             NaT               No   \n",
       "20      041-642-007            NaT             NaT               No   \n",
       "21      041-643-002            NaT             NaT              Unk   \n",
       "25      038-361-014            NaT      2021-11-13               No   \n",
       "37      041-431-005            NaT             NaT               No   \n",
       "..              ...            ...             ...              ...   \n",
       "937     041-651-010            NaT             NaT               No   \n",
       "940     041-871-014            NaT             NaT               No   \n",
       "941     041-882-027            NaT             NaT               No   \n",
       "946     041-404-010            NaT             NaT               No   \n",
       "952     041-402-002            NaT             NaT               No   \n",
       "\n",
       "     ROE Verified  \n",
       "19   ROE Verified  \n",
       "20   ROE Verified  \n",
       "21   ROE Verified  \n",
       "25   ROE Verified  \n",
       "37   ROE Verified  \n",
       "..            ...  \n",
       "937  ROE Verified  \n",
       "940  ROE Verified  \n",
       "941  ROE Verified  \n",
       "946  ROE Verified  \n",
       "952  ROE Verified  \n",
       "\n",
       "[158 rows x 5 columns]"
      ]
     },
     "execution_count": 100,
     "metadata": {},
     "output_type": "execute_result"
    }
   ],
   "source": [
    "power_bi[(power_bi['ASB Assessment'].isnull()) & (power_bi['Phase 1 Complete'].isin(['No', 'Unk', \"\"])& (power_bi['ROE Verified'] == \"ROE Verified\"))]"
   ]
  },
  {
   "cell_type": "code",
   "execution_count": 103,
   "id": "4c04ddfc",
   "metadata": {
    "collapsed": true
   },
   "outputs": [
    {
     "data": {
      "text/html": [
       "<div>\n",
       "<style scoped>\n",
       "    .dataframe tbody tr th:only-of-type {\n",
       "        vertical-align: middle;\n",
       "    }\n",
       "\n",
       "    .dataframe tbody tr th {\n",
       "        vertical-align: top;\n",
       "    }\n",
       "\n",
       "    .dataframe thead th {\n",
       "        text-align: right;\n",
       "    }\n",
       "</style>\n",
       "<table border=\"1\" class=\"dataframe\">\n",
       "  <thead>\n",
       "    <tr style=\"text-align: right;\">\n",
       "      <th></th>\n",
       "      <th>APN_ROW Segment</th>\n",
       "      <th>ASB Assessment</th>\n",
       "      <th>Site Assessment</th>\n",
       "      <th>Phase 1 Complete</th>\n",
       "      <th>ROE Verified</th>\n",
       "    </tr>\n",
       "  </thead>\n",
       "  <tbody>\n",
       "    <tr>\n",
       "      <th>19</th>\n",
       "      <td>041-494-005</td>\n",
       "      <td>NaT</td>\n",
       "      <td>NaT</td>\n",
       "      <td>No</td>\n",
       "      <td>ROE Verified</td>\n",
       "    </tr>\n",
       "    <tr>\n",
       "      <th>20</th>\n",
       "      <td>041-642-007</td>\n",
       "      <td>NaT</td>\n",
       "      <td>NaT</td>\n",
       "      <td>No</td>\n",
       "      <td>ROE Verified</td>\n",
       "    </tr>\n",
       "    <tr>\n",
       "      <th>21</th>\n",
       "      <td>041-643-002</td>\n",
       "      <td>NaT</td>\n",
       "      <td>NaT</td>\n",
       "      <td>Unk</td>\n",
       "      <td>ROE Verified</td>\n",
       "    </tr>\n",
       "    <tr>\n",
       "      <th>37</th>\n",
       "      <td>041-431-005</td>\n",
       "      <td>NaT</td>\n",
       "      <td>NaT</td>\n",
       "      <td>No</td>\n",
       "      <td>ROE Verified</td>\n",
       "    </tr>\n",
       "    <tr>\n",
       "      <th>38</th>\n",
       "      <td>041-431-006</td>\n",
       "      <td>NaT</td>\n",
       "      <td>NaT</td>\n",
       "      <td>No</td>\n",
       "      <td>ROE Verified</td>\n",
       "    </tr>\n",
       "    <tr>\n",
       "      <th>...</th>\n",
       "      <td>...</td>\n",
       "      <td>...</td>\n",
       "      <td>...</td>\n",
       "      <td>...</td>\n",
       "      <td>...</td>\n",
       "    </tr>\n",
       "    <tr>\n",
       "      <th>941</th>\n",
       "      <td>041-882-027</td>\n",
       "      <td>NaT</td>\n",
       "      <td>NaT</td>\n",
       "      <td>No</td>\n",
       "      <td>ROE Verified</td>\n",
       "    </tr>\n",
       "    <tr>\n",
       "      <th>946</th>\n",
       "      <td>041-404-010</td>\n",
       "      <td>NaT</td>\n",
       "      <td>NaT</td>\n",
       "      <td>No</td>\n",
       "      <td>ROE Verified</td>\n",
       "    </tr>\n",
       "    <tr>\n",
       "      <th>948</th>\n",
       "      <td>041-432-005</td>\n",
       "      <td>NaT</td>\n",
       "      <td>NaT</td>\n",
       "      <td>Yes</td>\n",
       "      <td>ROE Verified</td>\n",
       "    </tr>\n",
       "    <tr>\n",
       "      <th>952</th>\n",
       "      <td>041-402-002</td>\n",
       "      <td>NaT</td>\n",
       "      <td>NaT</td>\n",
       "      <td>No</td>\n",
       "      <td>ROE Verified</td>\n",
       "    </tr>\n",
       "    <tr>\n",
       "      <th>953</th>\n",
       "      <td>041-523-008</td>\n",
       "      <td>NaT</td>\n",
       "      <td>NaT</td>\n",
       "      <td>NaN</td>\n",
       "      <td>ROE Verified</td>\n",
       "    </tr>\n",
       "  </tbody>\n",
       "</table>\n",
       "<p>124 rows × 5 columns</p>\n",
       "</div>"
      ],
      "text/plain": [
       "    APN_ROW Segment ASB Assessment Site Assessment Phase 1 Complete  \\\n",
       "19      041-494-005            NaT             NaT               No   \n",
       "20      041-642-007            NaT             NaT               No   \n",
       "21      041-643-002            NaT             NaT              Unk   \n",
       "37      041-431-005            NaT             NaT               No   \n",
       "38      041-431-006            NaT             NaT               No   \n",
       "..              ...            ...             ...              ...   \n",
       "941     041-882-027            NaT             NaT               No   \n",
       "946     041-404-010            NaT             NaT               No   \n",
       "948     041-432-005            NaT             NaT              Yes   \n",
       "952     041-402-002            NaT             NaT               No   \n",
       "953     041-523-008            NaT             NaT              NaN   \n",
       "\n",
       "     ROE Verified  \n",
       "19   ROE Verified  \n",
       "20   ROE Verified  \n",
       "21   ROE Verified  \n",
       "37   ROE Verified  \n",
       "38   ROE Verified  \n",
       "..            ...  \n",
       "941  ROE Verified  \n",
       "946  ROE Verified  \n",
       "948  ROE Verified  \n",
       "952  ROE Verified  \n",
       "953  ROE Verified  \n",
       "\n",
       "[124 rows x 5 columns]"
      ]
     },
     "execution_count": 103,
     "metadata": {},
     "output_type": "execute_result"
    }
   ],
   "source": [
    "power_bi[(power_bi['Site Assessment'].isnull())]"
   ]
  },
  {
   "cell_type": "code",
   "execution_count": 101,
   "id": "726816ef",
   "metadata": {
    "collapsed": true
   },
   "outputs": [
    {
     "data": {
      "text/html": [
       "<div>\n",
       "<style scoped>\n",
       "    .dataframe tbody tr th:only-of-type {\n",
       "        vertical-align: middle;\n",
       "    }\n",
       "\n",
       "    .dataframe tbody tr th {\n",
       "        vertical-align: top;\n",
       "    }\n",
       "\n",
       "    .dataframe thead th {\n",
       "        text-align: right;\n",
       "    }\n",
       "</style>\n",
       "<table border=\"1\" class=\"dataframe\">\n",
       "  <thead>\n",
       "    <tr style=\"text-align: right;\">\n",
       "      <th></th>\n",
       "      <th>APN_ROW Segment</th>\n",
       "      <th>ASB Assessment</th>\n",
       "      <th>Site Assessment</th>\n",
       "      <th>Phase 1 Complete</th>\n",
       "      <th>ROE Verified</th>\n",
       "    </tr>\n",
       "  </thead>\n",
       "  <tbody>\n",
       "    <tr>\n",
       "      <th>19</th>\n",
       "      <td>041-494-005</td>\n",
       "      <td>NaT</td>\n",
       "      <td>NaT</td>\n",
       "      <td>No</td>\n",
       "      <td>ROE Verified</td>\n",
       "    </tr>\n",
       "    <tr>\n",
       "      <th>20</th>\n",
       "      <td>041-642-007</td>\n",
       "      <td>NaT</td>\n",
       "      <td>NaT</td>\n",
       "      <td>No</td>\n",
       "      <td>ROE Verified</td>\n",
       "    </tr>\n",
       "    <tr>\n",
       "      <th>21</th>\n",
       "      <td>041-643-002</td>\n",
       "      <td>NaT</td>\n",
       "      <td>NaT</td>\n",
       "      <td>Unk</td>\n",
       "      <td>ROE Verified</td>\n",
       "    </tr>\n",
       "    <tr>\n",
       "      <th>37</th>\n",
       "      <td>041-431-005</td>\n",
       "      <td>NaT</td>\n",
       "      <td>NaT</td>\n",
       "      <td>No</td>\n",
       "      <td>ROE Verified</td>\n",
       "    </tr>\n",
       "    <tr>\n",
       "      <th>38</th>\n",
       "      <td>041-431-006</td>\n",
       "      <td>NaT</td>\n",
       "      <td>NaT</td>\n",
       "      <td>No</td>\n",
       "      <td>ROE Verified</td>\n",
       "    </tr>\n",
       "    <tr>\n",
       "      <th>...</th>\n",
       "      <td>...</td>\n",
       "      <td>...</td>\n",
       "      <td>...</td>\n",
       "      <td>...</td>\n",
       "      <td>...</td>\n",
       "    </tr>\n",
       "    <tr>\n",
       "      <th>937</th>\n",
       "      <td>041-651-010</td>\n",
       "      <td>NaT</td>\n",
       "      <td>NaT</td>\n",
       "      <td>No</td>\n",
       "      <td>ROE Verified</td>\n",
       "    </tr>\n",
       "    <tr>\n",
       "      <th>940</th>\n",
       "      <td>041-871-014</td>\n",
       "      <td>NaT</td>\n",
       "      <td>NaT</td>\n",
       "      <td>No</td>\n",
       "      <td>ROE Verified</td>\n",
       "    </tr>\n",
       "    <tr>\n",
       "      <th>941</th>\n",
       "      <td>041-882-027</td>\n",
       "      <td>NaT</td>\n",
       "      <td>NaT</td>\n",
       "      <td>No</td>\n",
       "      <td>ROE Verified</td>\n",
       "    </tr>\n",
       "    <tr>\n",
       "      <th>946</th>\n",
       "      <td>041-404-010</td>\n",
       "      <td>NaT</td>\n",
       "      <td>NaT</td>\n",
       "      <td>No</td>\n",
       "      <td>ROE Verified</td>\n",
       "    </tr>\n",
       "    <tr>\n",
       "      <th>952</th>\n",
       "      <td>041-402-002</td>\n",
       "      <td>NaT</td>\n",
       "      <td>NaT</td>\n",
       "      <td>No</td>\n",
       "      <td>ROE Verified</td>\n",
       "    </tr>\n",
       "  </tbody>\n",
       "</table>\n",
       "<p>84 rows × 5 columns</p>\n",
       "</div>"
      ],
      "text/plain": [
       "    APN_ROW Segment ASB Assessment Site Assessment Phase 1 Complete  \\\n",
       "19      041-494-005            NaT             NaT               No   \n",
       "20      041-642-007            NaT             NaT               No   \n",
       "21      041-643-002            NaT             NaT              Unk   \n",
       "37      041-431-005            NaT             NaT               No   \n",
       "38      041-431-006            NaT             NaT               No   \n",
       "..              ...            ...             ...              ...   \n",
       "937     041-651-010            NaT             NaT               No   \n",
       "940     041-871-014            NaT             NaT               No   \n",
       "941     041-882-027            NaT             NaT               No   \n",
       "946     041-404-010            NaT             NaT               No   \n",
       "952     041-402-002            NaT             NaT               No   \n",
       "\n",
       "     ROE Verified  \n",
       "19   ROE Verified  \n",
       "20   ROE Verified  \n",
       "21   ROE Verified  \n",
       "37   ROE Verified  \n",
       "38   ROE Verified  \n",
       "..            ...  \n",
       "937  ROE Verified  \n",
       "940  ROE Verified  \n",
       "941  ROE Verified  \n",
       "946  ROE Verified  \n",
       "952  ROE Verified  \n",
       "\n",
       "[84 rows x 5 columns]"
      ]
     },
     "execution_count": 101,
     "metadata": {},
     "output_type": "execute_result"
    }
   ],
   "source": [
    "power_bi[(power_bi['Site Assessment'].isnull()) & (power_bi['Phase 1 Complete'].isin(['No', 'Unk', \"\"])& (power_bi['ROE Verified'] == \"ROE Verified\"))]"
   ]
  },
  {
   "cell_type": "markdown",
   "id": "d83b53b0",
   "metadata": {},
   "source": [
    "# Phase 1 checks"
   ]
  },
  {
   "cell_type": "code",
   "execution_count": 4,
   "id": "e3558d32",
   "metadata": {},
   "outputs": [],
   "source": [
    "phase = checks.copy()"
   ]
  },
  {
   "cell_type": "code",
   "execution_count": 8,
   "id": "6dd44c44",
   "metadata": {},
   "outputs": [],
   "source": [
    "phase[['APN_ROW Segment', 'Phase 1 Complete']].to_excel('Phase 1 add no to blanks.xlsx')"
   ]
  },
  {
   "cell_type": "markdown",
   "id": "30c68974",
   "metadata": {},
   "source": [
    "# Milk run QC"
   ]
  },
  {
   "cell_type": "markdown",
   "id": "593ddd84",
   "metadata": {},
   "source": [
    "#### Central Division 2021 DTSC Tracker "
   ]
  },
  {
   "cell_type": "code",
   "execution_count": 82,
   "id": "b15023f3",
   "metadata": {},
   "outputs": [],
   "source": [
    "milk_path = r\"C:\\Users\\jacque.trahan\\Downloads\\Central Division 2021 DTSC Tracker*\"\n",
    "milk_type = \".xlsx\"\n",
    "milk_load = glob.glob(milk_path + milk_type)\n",
    "milkrun_DTSC_SS_tracker = pd.read_excel(max(milk_load, key=os.path.getctime))"
   ]
  },
  {
   "cell_type": "code",
   "execution_count": 83,
   "id": "bacde6eb",
   "metadata": {},
   "outputs": [],
   "source": [
    "milkrun_DTSC_SS_tracker = milkrun_DTSC_SS_tracker = milkrun_DTSC_SS_tracker.copy()\n",
    "milkrun_DTSC_SS_tracker = milkrun_DTSC_SS_tracker[['APN', 'DTSC Attn Needed', 'Milk Run Notes',\n",
    "                                                              'DTSC Activated', 'DTSC Comments', 'DTSC Completed',\n",
    "                                                               '\"MilkRun/Phase1...\" field reset in debris tracker', '\"Phase 1 Status\" updated in debris tracker']]\n",
    "milkrun_DTSC_SS_tracker = milkrun_DTSC_SS_tracker.add_suffix(\"_DTSC\")"
   ]
  },
  {
   "cell_type": "code",
   "execution_count": 92,
   "id": "864a2f30",
   "metadata": {},
   "outputs": [
    {
     "data": {
      "text/plain": [
       "Index(['APN_DTSC', 'DTSC Attn Needed_DTSC', 'Milk Run Notes_DTSC',\n",
       "       'DTSC Activated_DTSC', 'DTSC Comments_DTSC', 'DTSC Completed_DTSC',\n",
       "       '\"MilkRun/Phase1...\" field reset in debris tracker_DTSC',\n",
       "       '\"Phase 1 Status\" updated in debris tracker_DTSC'],\n",
       "      dtype='object')"
      ]
     },
     "execution_count": 92,
     "metadata": {},
     "output_type": "execute_result"
    }
   ],
   "source": [
    "milkrun_DTSC_SS_tracker.columns"
   ]
  },
  {
   "cell_type": "markdown",
   "id": "59cfb7c7",
   "metadata": {},
   "source": [
    "### CENTRAL PLANNING TRACKER TT "
   ]
  },
  {
   "cell_type": "code",
   "execution_count": 84,
   "id": "81fcc2fd",
   "metadata": {},
   "outputs": [],
   "source": [
    "plan_milk_path = r\"C:\\Users\\jacque.trahan\\Downloads\\CENTRAL PLANNING TRACKER TT*\"\n",
    "plan_milk_type = \".xlsx\"\n",
    "plan_milk_load = glob.glob(plan_milk_path + plan_milk_type)\n",
    "milkrun_DTSC_Planning_tracker = pd.read_excel(max(plan_milk_load, key=os.path.getctime), sheet_name='MILK RUN')\n"
   ]
  },
  {
   "cell_type": "code",
   "execution_count": 85,
   "id": "018a242a",
   "metadata": {},
   "outputs": [],
   "source": [
    "milkrun_DTSC_Planning_tracker = milkrun_DTSC_Planning_tracker.copy()\n",
    "milkrun_DTSC_Planning_tracker = milkrun_DTSC_Planning_tracker[['APN', 'HHW?', 'WASTE LEFT ON SITE',\n",
    "       'LOCATION OF WASTE, IF SPECIFIED', 'DATE ADDED TO MILK RUN TRACKER', 'DATE COMPLETED']]\n",
    "milkrun_DTSC_Planning_tracker = milkrun_DTSC_Planning_tracker.add_suffix(\"_Planning\")"
   ]
  },
  {
   "cell_type": "markdown",
   "id": "4d51452c",
   "metadata": {},
   "source": [
    "### Smart sheets "
   ]
  },
  {
   "cell_type": "code",
   "execution_count": 86,
   "id": "8d4ed6ba",
   "metadata": {},
   "outputs": [],
   "source": [
    "smartsheets = checks.copy()\n",
    "smartsheets = smartsheets[['APN_ROW Segment','Structural Status', 'Street #', 'Street Name', 'County',\n",
    "                           'Needs Milk Run or Phase 1 Revisit']]"
   ]
  },
  {
   "cell_type": "markdown",
   "id": "0947b4f1",
   "metadata": {},
   "source": [
    "### Merge them"
   ]
  },
  {
   "cell_type": "code",
   "execution_count": 87,
   "id": "33037724",
   "metadata": {},
   "outputs": [],
   "source": [
    "DTSC_merge = milkrun_DTSC_SS_tracker.merge(milkrun_DTSC_Planning_tracker,\n",
    "                            left_on='APN_DTSC',\n",
    "                            right_on='APN_Planning',\n",
    "                            how='outer')"
   ]
  },
  {
   "cell_type": "code",
   "execution_count": 89,
   "id": "4728b3bf",
   "metadata": {},
   "outputs": [],
   "source": [
    "final = DTSC_merge.merge(smartsheets,\n",
    "                      left_on='APN_DTSC',\n",
    "                      right_on='APN_ROW Segment',\n",
    "                      how='outer')"
   ]
  },
  {
   "cell_type": "markdown",
   "id": "87ab9bf6",
   "metadata": {},
   "source": [
    "# style\n",
    "* DTSC = yellow\n",
    "* PLanning = light blue\n",
    "* Smart sheets = white"
   ]
  },
  {
   "cell_type": "code",
   "execution_count": 93,
   "id": "46cf108e",
   "metadata": {},
   "outputs": [],
   "source": [
    "final_style1 = final.style.set_properties(**{'background-color': 'yellow'},\n",
    "                                         subset=['APN_DTSC', 'DTSC Attn Needed_DTSC', 'Milk Run Notes_DTSC',\n",
    "       'DTSC Activated_DTSC', 'DTSC Comments_DTSC', 'DTSC Completed_DTSC',\n",
    "       '\"MilkRun/Phase1...\" field reset in debris tracker_DTSC',\n",
    "       '\"Phase 1 Status\" updated in debris tracker_DTSC'])"
   ]
  },
  {
   "cell_type": "code",
   "execution_count": 94,
   "id": "51ef42f8",
   "metadata": {},
   "outputs": [],
   "source": [
    "final_style1.to_excel('Test milk.xlsx')"
   ]
  },
  {
   "cell_type": "code",
   "execution_count": null,
   "id": "1d62191c",
   "metadata": {},
   "outputs": [],
   "source": []
  }
 ],
 "metadata": {
  "kernelspec": {
   "display_name": "Python 3",
   "language": "python",
   "name": "python3"
  },
  "language_info": {
   "codemirror_mode": {
    "name": "ipython",
    "version": 3
   },
   "file_extension": ".py",
   "mimetype": "text/x-python",
   "name": "python",
   "nbconvert_exporter": "python",
   "pygments_lexer": "ipython3",
   "version": "3.9.4"
  }
 },
 "nbformat": 4,
 "nbformat_minor": 5
}
