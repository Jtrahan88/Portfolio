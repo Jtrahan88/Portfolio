{
 "cells": [
  {
   "cell_type": "markdown",
   "id": "56a828bf",
   "metadata": {},
   "source": [
    "# ARCH assessment date-Central."
   ]
  },
  {
   "cell_type": "code",
   "execution_count": 1,
   "id": "1cf3b5cc",
   "metadata": {},
   "outputs": [],
   "source": [
    "import pandas as pd\n",
    "import numpy as np\n",
    "import os\n",
    "import glob"
   ]
  },
  {
   "cell_type": "markdown",
   "id": "bd2c4f10",
   "metadata": {},
   "source": [
    "### Central"
   ]
  },
  {
   "cell_type": "code",
   "execution_count": 2,
   "id": "9961b372",
   "metadata": {},
   "outputs": [],
   "source": [
    "path1 = r\"C:\\Users\\jacque.trahan\\Downloads\\Central Division 2021 Debris Removal Tracker*\"\n",
    "file_type1 = \".xlsx\"\n",
    "loadit1 = glob.glob(path1 + file_type1)\n",
    "df1 = pd.read_excel(max(loadit1, key=os.path.getctime))"
   ]
  },
  {
   "cell_type": "code",
   "execution_count": 3,
   "id": "38181a2a",
   "metadata": {},
   "outputs": [
    {
     "name": "stdout",
     "output_type": "stream",
     "text": [
      "<class 'pandas.core.frame.DataFrame'>\n",
      "RangeIndex: 983 entries, 0 to 982\n",
      "Data columns (total 141 columns):\n",
      " #    Column                                              Dtype         \n",
      "---   ------                                              -----         \n",
      " 0    APN_ROW Segment                                     object        \n",
      " 1    ROE Type                                            object        \n",
      " 2    Structural Status                                   object        \n",
      " 3    Haz Tree Status                                     object        \n",
      " 4    Debris Crew                                         object        \n",
      " 5    Tree Crew                                           object        \n",
      " 6    Street #                                            object        \n",
      " 7    Street Name                                         object        \n",
      " 8    Unit #                                              object        \n",
      " 9    City                                                object        \n",
      " 10   County                                              object        \n",
      " 11   Group                                               float64       \n",
      " 12   Property Type                                       object        \n",
      " 13   Priority                                            object        \n",
      " 14   Elevation                                           float64       \n",
      " 15   Withdrawal                                          datetime64[ns]\n",
      " 16   Not Eligible                                        datetime64[ns]\n",
      " 17   Reason for Ineligibility                            object        \n",
      " 18   Determinant for Ineligibility                       object        \n",
      " 19   Hold                                                float64       \n",
      " 20   Hold Reason                                         object        \n",
      " 21   Safety Concern Property                             float64       \n",
      " 22   USFS Parcel?                                        float64       \n",
      " 23   Special Inclusion                                   object        \n",
      " 24   Gate Locked?                                        float64       \n",
      " 25   Code_Key Location                                   object        \n",
      " 26   Access Issues                                       float64       \n",
      " 27   Access Issues Type                                  object        \n",
      " 28   Phase 1 Complete                                    object        \n",
      " 29   Needs Milk Run or Phase 1 Revisit                   object        \n",
      " 30   811 Called (A&M)                                    float64       \n",
      " 31   Site Assessment                                     datetime64[ns]\n",
      " 32   RAD_MERC Sweep                                      datetime64[ns]\n",
      " 33   RAD_MERC Detected                                   float64       \n",
      " 34   Chimney                                             object        \n",
      " 35   Chimney Inaccessible for ASB                        float64       \n",
      " 36   Chimney Tipped                                      datetime64[ns]\n",
      " 37   NESHAP Walls                                        object        \n",
      " 38   NESHAP Notification                                 float64       \n",
      " 39   In Ground Pool                                      object        \n",
      " 40   Large Propane Tank                                  object        \n",
      " 41   Well                                                object        \n",
      " 42   Septic                                              object        \n",
      " 43   Solar_Wind Power                                    object        \n",
      " 44   Structural Walls                                    object        \n",
      " 45   Need Contractor Assist for ASB                      float64       \n",
      " 46   Vehicle(s)                                          float64       \n",
      " 47   Number of Passenger Vehicles                        float64       \n",
      " 48   Number of ATV_UTV_snowmobiles                       float64       \n",
      " 49   Number of Ag_Commercial_Construction Equipment      float64       \n",
      " 50   Number of Motorcycles                               float64       \n",
      " 51   Number of RV's                                      float64       \n",
      " 52   Number of Trailers                                  float64       \n",
      " 53   Number of Vessels (Boat_Jetski)                     float64       \n",
      " 54   Total Number of Vehicles                            int64         \n",
      " 55   Vehicles Description                                float64       \n",
      " 56   Number of Vehicles Removed                          float64       \n",
      " 57   ASB Assessment                                      datetime64[ns]\n",
      " 58   ASB Suspected                                       object        \n",
      " 59   ASB Sample Sent                                     datetime64[ns]\n",
      " 60   ASB Results Received                                datetime64[ns]\n",
      " 61   ASB Results                                         object        \n",
      " 62   ASB Abatement                                       datetime64[ns]\n",
      " 63   CAC Clearance                                       datetime64[ns]\n",
      " 64   Day to Asb Abatement from Results Rec'd             float64       \n",
      " 65   Bio Assessment                                      datetime64[ns]\n",
      " 66   Bio Monitor Needed                                  object        \n",
      " 67   Arch Assessment                                     datetime64[ns]\n",
      " 68   Arch Monitor Needed                                 object        \n",
      " 69   Tribal Clearance Required                           object        \n",
      " 70   WLPZ Zone?                                          object        \n",
      " 71   In lieu practices?                                  object        \n",
      " 72   OES EHP Attention Required                          object        \n",
      " 73   OES EHP Site Visit                                  datetime64[ns]\n",
      " 74   OES EHP Notes                                       float64       \n",
      " 75   Water crossing/bridge needed?                       object        \n",
      " 76   Water crossing/bridge install                       datetime64[ns]\n",
      " 77   Water crossing/bridge removal                       float64       \n",
      " 78   Permit(s) Needed                                    object        \n",
      " 79   Permit(s) Received                                  object        \n",
      " 80   811 Called (DDHTR)                                  float64       \n",
      " 81   Ready for Debris Removal                            datetime64[ns]\n",
      " 82   Property Owner Contact for Debris                   datetime64[ns]\n",
      " 83   Property Owner Contact for Trees                    datetime64[ns]\n",
      " 84   Contact Notes                                       object        \n",
      " 85   If Unable to Contact, Attempted # of Contacts       object        \n",
      " 86   If Unable to Contact, Who Approved to Move Forward  object        \n",
      " 87   Scheduled for Debris Removal                        datetime64[ns]\n",
      " 88   Debris Start                                        datetime64[ns]\n",
      " 89   Debris Finish                                       datetime64[ns]\n",
      " 90   State Rep Sign-Off for DR                           datetime64[ns]\n",
      " 91   Damage Caused during DR                             float64       \n",
      " 92   Explanation of Damage during DR                     float64       \n",
      " 93   Days from Debris Finish to Soil Sample              float64       \n",
      " 94   Soil Sample                                         datetime64[ns]\n",
      " 95   Soil Sample Results Rec'd from Lab                  datetime64[ns]\n",
      " 96   Day(s) From Soil Sample to Results Rec'd            float64       \n",
      " 97   Soil Sample Results                                 object        \n",
      " 98   Soil Boring                                         datetime64[ns]\n",
      " 99   Soil Boring Results Rec'd from Lab                  datetime64[ns]\n",
      " 100  Soil Boring Results                                 object        \n",
      " 101  Soil Re-scrape                                      datetime64[ns]\n",
      " 102  Re-scrape Results Rec'd from Lab                    datetime64[ns]\n",
      " 103  Re-scrape Results                                   object        \n",
      " 104  Soil Re-scrape 2                                    datetime64[ns]\n",
      " 105  Re-scrape 2 Results Rec'd from Lab                  float64       \n",
      " 106  Re-scrape 2 Results                                 float64       \n",
      " 107  Soil Rescrape 3                                     float64       \n",
      " 108  Re-scrape 3 Results Rec'd from Lab                  float64       \n",
      " 109  Re-scrape 3 Results                                 float64       \n",
      " 110  Soil Samples Approved                               datetime64[ns]\n",
      " 111  Haz Trees Assessment                                datetime64[ns]\n",
      " 112  Haz Trees Present?                                  object        \n",
      " 113  Number of Trees                                     float64       \n",
      " 114  Tree Felling Start                                  datetime64[ns]\n",
      " 115  Tree Felling Complete                               datetime64[ns]\n",
      " 116  Tree Removal Start                                  datetime64[ns]\n",
      " 117  Tree Removal Complete                               float64       \n",
      " 118  Number of Hazard Trees Felled                       float64       \n",
      " 119  Erosion Control Complete                            datetime64[ns]\n",
      " 120  Erosion Control Waiver                              datetime64[ns]\n",
      " 121  Trees Completion Check                              float64       \n",
      " 122  Debris FSO Complete                                 datetime64[ns]\n",
      " 123  FSO Complete                                        datetime64[ns]\n",
      " 124  FSO Sent to County                                  datetime64[ns]\n",
      " 125  Owner Name                                          object        \n",
      " 126  Owner Phone                                         object        \n",
      " 127  Owner Email                                         object        \n",
      " 128  ROE Notes                                           object        \n",
      " 129  Special Notes                                       object        \n",
      " 130  Latitude                                            float64       \n",
      " 131  Longitude                                           float64       \n",
      " 132  Fire Name                                           object        \n",
      " 133  Declaration                                         object        \n",
      " 134  Parcel Zoning Type                                  object        \n",
      " 135  Insurance                                           object        \n",
      " 136  ROE Date                                            datetime64[ns]\n",
      " 137  ROE Verified                                        object        \n",
      " 138  Division                                            object        \n",
      " 139  Modified Date                                       datetime64[ns]\n",
      " 140  Duplicate                                           float64       \n",
      "dtypes: datetime64[ns](40), float64(42), int64(1), object(58)\n",
      "memory usage: 1.1+ MB\n"
     ]
    }
   ],
   "source": [
    "df1.info(verbose=True)"
   ]
  },
  {
   "cell_type": "code",
   "execution_count": 4,
   "id": "b072928d",
   "metadata": {},
   "outputs": [
    {
     "name": "stderr",
     "output_type": "stream",
     "text": [
      "C:\\Users\\jacque.trahan\\AppData\\Roaming\\Python\\Python39\\site-packages\\pandas\\core\\series.py:4463: SettingWithCopyWarning: \n",
      "A value is trying to be set on a copy of a slice from a DataFrame\n",
      "\n",
      "See the caveats in the documentation: https://pandas.pydata.org/pandas-docs/stable/user_guide/indexing.html#returning-a-view-versus-a-copy\n",
      "  return super().fillna(\n"
     ]
    }
   ],
   "source": [
    "arch_c = df1.copy()\n",
    "arch_c = arch_c[['APN_ROW Segment','Street #', 'Street Name', 'County', 'Arch Assessment','Division', 'Withdrawal', 'Not Eligible']]\n",
    "arch_cDone = arch_c[(arch_c['Arch Assessment'].notna()) & (arch_c['Withdrawal'].isna()) & (arch_c['Not Eligible'].isna())]\n",
    "arch_cNotDone = arch_c[(arch_c['Arch Assessment'].isna()) & (arch_c['Withdrawal'].isna()) & (arch_c['Not Eligible'].isna())]\n",
    "arch_cNotDone['Arch Assessment'].fillna(1, inplace=True)"
   ]
  },
  {
   "cell_type": "code",
   "execution_count": 5,
   "id": "28af7d53",
   "metadata": {},
   "outputs": [],
   "source": [
    "final_c_arch = arch_cDone.merge(arch_cNotDone,\n",
    "                          left_on='APN_ROW Segment',\n",
    "                          right_on=\"APN_ROW Segment\",\n",
    "                          how='outer',\n",
    "                          suffixes=(\"_Done\", \"_Not Done\")).to_excel(\"Arch assessment  summary-Central.xlsx\")"
   ]
  },
  {
   "cell_type": "markdown",
   "id": "8fc7bee2",
   "metadata": {},
   "source": [
    "# BIO"
   ]
  },
  {
   "cell_type": "markdown",
   "id": "c8258afb",
   "metadata": {},
   "source": [
    "### Central"
   ]
  },
  {
   "cell_type": "code",
   "execution_count": 6,
   "id": "4293a344",
   "metadata": {},
   "outputs": [],
   "source": [
    "bio_c = df1.copy()\n",
    "bio_c = bio_c[['APN_ROW Segment','Street #', 'Street Name', 'County', 'Bio Assessment','Division','Withdrawal', 'Not Eligible']]\n",
    "bio_cDone = bio_c[bio_c['Bio Assessment'].notna() & (bio_c['Withdrawal'].isna()) & (bio_c['Not Eligible'].isna())]\n",
    "bio_cNotDone = bio_c[(bio_c['Bio Assessment'].isna()) & (bio_c['Withdrawal'].isna()) & (bio_c['Not Eligible'].isna())]\n",
    "bio_cNotDone['Bio Assessment'].fillna(1, inplace=True)\n"
   ]
  },
  {
   "cell_type": "code",
   "execution_count": 7,
   "id": "10e678fc",
   "metadata": {},
   "outputs": [],
   "source": [
    "final_c_bio = bio_cDone.merge(bio_cNotDone,\n",
    "                          left_on='APN_ROW Segment',\n",
    "                          right_on=\"APN_ROW Segment\",\n",
    "                          how='outer',\n",
    "                          suffixes=(\"_Done\", \"_Not Done\")).to_excel(\"Bio assessment summary-Central.xlsx\")"
   ]
  },
  {
   "cell_type": "markdown",
   "id": "9403ff43",
   "metadata": {},
   "source": [
    "### Northern"
   ]
  },
  {
   "cell_type": "markdown",
   "id": "2146a3a5",
   "metadata": {},
   "source": [
    "# Arch "
   ]
  },
  {
   "cell_type": "code",
   "execution_count": 8,
   "id": "3b8ad9b4",
   "metadata": {},
   "outputs": [],
   "source": [
    "path2 = r\"C:\\Users\\jacque.trahan\\Downloads\\BOP_North Div 2021 Debris Removal Tracker*\"\n",
    "file_type2 = \".xlsx\"\n",
    "loadit2 = glob.glob(path2 + file_type2)\n",
    "df2 = pd.read_excel(max(loadit2, key=os.path.getctime))"
   ]
  },
  {
   "cell_type": "code",
   "execution_count": 9,
   "id": "5f3bc310",
   "metadata": {},
   "outputs": [],
   "source": [
    "arch_n = df2.copy()\n",
    "arch_n = arch_n[(arch_n['Withdrawal'].isna()) & (arch_n['Not Eligible'].isna())]\n",
    "arch_n = arch_n[['APN_ROW Segment','Street #', 'Street Name', 'County', 'Arch Assessment','Division', 'Withdrawal', 'Not Eligible']]\n",
    "arch_nDone = arch_n[(arch_n['Arch Assessment'].notna())]\n",
    "arch_nNotDone = arch_n[(arch_n['Arch Assessment'].isna())]\n",
    "arch_nNotDone['Arch Assessment'].fillna(1, inplace=True)"
   ]
  },
  {
   "cell_type": "code",
   "execution_count": 10,
   "id": "676c6d26",
   "metadata": {},
   "outputs": [],
   "source": [
    "final_n_arch = arch_nDone.merge(arch_nNotDone,\n",
    "                          left_on='APN_ROW Segment',\n",
    "                          right_on=\"APN_ROW Segment\",\n",
    "                          how='outer',\n",
    "                          suffixes=(\"_Done\", \"_Not Done\")).to_excel(\"Arch assessment summary-Northern.xlsx\")"
   ]
  },
  {
   "cell_type": "markdown",
   "id": "bec3f18c",
   "metadata": {},
   "source": [
    "# Bio"
   ]
  },
  {
   "cell_type": "code",
   "execution_count": 11,
   "id": "5da38c19",
   "metadata": {},
   "outputs": [],
   "source": [
    "bio_n = df2.copy()\n",
    "bio_n = bio_n[((bio_n['Withdrawal'].isna()) & (bio_n['Not Eligible'].isna()))]\n",
    "bio_n = bio_n[['APN_ROW Segment','Street #', 'Street Name', 'County', 'Bio Assessment','Division','Withdrawal', 'Not Eligible']]\n",
    "bio_nDone = bio_n[(bio_n['Bio Assessment'].notna())]\n",
    "bio_nNotDone = bio_n[(bio_n['Bio Assessment'].isna())]\n",
    "bio_nNotDone['Bio Assessment'].fillna(1, inplace=True)"
   ]
  },
  {
   "cell_type": "code",
   "execution_count": 12,
   "id": "bd204e7d",
   "metadata": {},
   "outputs": [],
   "source": [
    "final_n_bio = bio_nDone.merge(bio_nNotDone,\n",
    "                          left_on='APN_ROW Segment',\n",
    "                          right_on=\"APN_ROW Segment\",\n",
    "                          how='outer',\n",
    "                          suffixes=(\"_Done\", \"_Not Done\")).to_excel(\"Bio assessment summary-Northern.xlsx\")"
   ]
  },
  {
   "cell_type": "code",
   "execution_count": null,
   "id": "99a48b1f",
   "metadata": {},
   "outputs": [],
   "source": []
  }
 ],
 "metadata": {
  "kernelspec": {
   "display_name": "Python 3",
   "language": "python",
   "name": "python3"
  },
  "language_info": {
   "codemirror_mode": {
    "name": "ipython",
    "version": 3
   },
   "file_extension": ".py",
   "mimetype": "text/x-python",
   "name": "python",
   "nbconvert_exporter": "python",
   "pygments_lexer": "ipython3",
   "version": "3.9.4"
  }
 },
 "nbformat": 4,
 "nbformat_minor": 5
}
