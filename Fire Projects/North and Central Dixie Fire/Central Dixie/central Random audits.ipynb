{
 "cells": [
  {
   "cell_type": "code",
   "execution_count": 1,
   "id": "23940443",
   "metadata": {},
   "outputs": [],
   "source": [
    "import pandas as pd\n",
    "import os\n",
    "import glob\n",
    "import numpy as np"
   ]
  },
  {
   "cell_type": "code",
   "execution_count": 2,
   "id": "63313f02",
   "metadata": {},
   "outputs": [],
   "source": [
    "path = r\"C:\\Users\\jacque.trahan\\Downloads\\El Dorado County ROEs 2021\"\n",
    "file_type = '.xlsx'\n",
    "loadup = glob.glob(path + file_type)\n",
    "df = pd.read_excel(max(loadup, key=os.path.getctime))"
   ]
  },
  {
   "cell_type": "code",
   "execution_count": 3,
   "id": "76fb06bb",
   "metadata": {},
   "outputs": [],
   "source": [
    "county= df.copy()"
   ]
  },
  {
   "cell_type": "code",
   "execution_count": 4,
   "id": "a73a7485",
   "metadata": {
    "scrolled": true
   },
   "outputs": [],
   "source": [
    "path2 = r\"C:\\Users\\jacque.trahan\\Downloads\\CENTRAL PLANNING TRACKER TT\"\n",
    "file_type2 = '.xlsx'\n",
    "loadup2 = glob.glob(path2 + file_type)\n",
    "df2 = pd.read_excel(max(loadup2, key=os.path.getctime), sheet_name='ROE ISSUES')"
   ]
  },
  {
   "cell_type": "code",
   "execution_count": 5,
   "id": "437e5fb9",
   "metadata": {},
   "outputs": [],
   "source": [
    "df2 = df2[df2['County'].isin(['El Dorado'])]"
   ]
  },
  {
   "cell_type": "code",
   "execution_count": 6,
   "id": "cd39f8b1",
   "metadata": {},
   "outputs": [
    {
     "data": {
      "text/plain": [
       "Index(['Date', 'ROE ISSUES APN', 'Street Address', 'Street Name', 'County',\n",
       "       'ISSUE', 'COMMENTS', 'DATE SENT TO COUNTY', 'Issue resolved',\n",
       "       'Unnamed: 9', 'Unnamed: 10', 'Unnamed: 11', 'Unnamed: 12',\n",
       "       'Unnamed: 13', 'Unnamed: 14', 'Unnamed: 15', 'Unnamed: 16',\n",
       "       'Unnamed: 17', 'Unnamed: 18', 'Unnamed: 19', 'Unnamed: 20',\n",
       "       'Unnamed: 21', 'Unnamed: 22', 'Unnamed: 23', 'Unnamed: 24',\n",
       "       'Unnamed: 25', 'Unnamed: 26', 'Unnamed: 27', 'Unnamed: 28',\n",
       "       'Unnamed: 29', 'Unnamed: 30', 'Unnamed: 31'],\n",
       "      dtype='object')"
      ]
     },
     "execution_count": 6,
     "metadata": {},
     "output_type": "execute_result"
    }
   ],
   "source": [
    "df2.columns"
   ]
  },
  {
   "cell_type": "code",
   "execution_count": 7,
   "id": "3f6c1ef2",
   "metadata": {
    "scrolled": true
   },
   "outputs": [],
   "source": [
    "# df2 = df2[df2['Issue resolved'].isnull()]"
   ]
  },
  {
   "cell_type": "code",
   "execution_count": 8,
   "id": "3214d5d8",
   "metadata": {},
   "outputs": [],
   "source": [
    "df2.drop(df2.columns[9:], axis=1, inplace=True)"
   ]
  },
  {
   "cell_type": "code",
   "execution_count": 9,
   "id": "03f4f0e7",
   "metadata": {},
   "outputs": [],
   "source": [
    "planning = df2.copy()"
   ]
  },
  {
   "cell_type": "code",
   "execution_count": 11,
   "id": "57aff37f",
   "metadata": {},
   "outputs": [
    {
     "data": {
      "text/plain": [
       "ROE Verified             675\n",
       "ROE Needs County Attn     37\n",
       "Name: ROE Verified, dtype: int64"
      ]
     },
     "execution_count": 11,
     "metadata": {},
     "output_type": "execute_result"
    }
   ],
   "source": [
    "df['ROE Verified'].value_counts()"
   ]
  },
  {
   "cell_type": "code",
   "execution_count": 16,
   "id": "1f6c327e",
   "metadata": {},
   "outputs": [
    {
     "data": {
      "text/plain": [
       "22"
      ]
     },
     "execution_count": 16,
     "metadata": {},
     "output_type": "execute_result"
    }
   ],
   "source": [
    "len(df[df['ROE Verified'].isnull()])"
   ]
  },
  {
   "cell_type": "code",
   "execution_count": 17,
   "id": "debc2113",
   "metadata": {},
   "outputs": [
    {
     "data": {
      "text/plain": [
       "734"
      ]
     },
     "execution_count": 17,
     "metadata": {},
     "output_type": "execute_result"
    }
   ],
   "source": [
    "len(df['ROE Verified'])"
   ]
  },
  {
   "cell_type": "code",
   "execution_count": 59,
   "id": "dc001496",
   "metadata": {},
   "outputs": [],
   "source": [
    "final = planning.merge(county,\n",
    "                left_on='ROE ISSUES APN',\n",
    "                right_on='APN',\n",
    "                how='outer',\n",
    "                suffixes=('_County', '_Planning'))"
   ]
  },
  {
   "cell_type": "code",
   "execution_count": 60,
   "id": "ae8bc21c",
   "metadata": {},
   "outputs": [],
   "source": [
    "final.to_excel('test.xlsx')"
   ]
  },
  {
   "cell_type": "code",
   "execution_count": 27,
   "id": "b347b9e0",
   "metadata": {},
   "outputs": [
    {
     "data": {
      "text/html": [
       "<div>\n",
       "<style scoped>\n",
       "    .dataframe tbody tr th:only-of-type {\n",
       "        vertical-align: middle;\n",
       "    }\n",
       "\n",
       "    .dataframe tbody tr th {\n",
       "        vertical-align: top;\n",
       "    }\n",
       "\n",
       "    .dataframe thead th {\n",
       "        text-align: right;\n",
       "    }\n",
       "</style>\n",
       "<table border=\"1\" class=\"dataframe\">\n",
       "  <thead>\n",
       "    <tr style=\"text-align: right;\">\n",
       "      <th></th>\n",
       "      <th>Date</th>\n",
       "      <th>ROE ISSUES APN</th>\n",
       "      <th>Street Address</th>\n",
       "      <th>Street Name</th>\n",
       "      <th>County</th>\n",
       "      <th>ISSUE</th>\n",
       "      <th>COMMENTS</th>\n",
       "      <th>DATE SENT TO COUNTY</th>\n",
       "      <th>Issue resolved</th>\n",
       "      <th>Unnamed: 9</th>\n",
       "      <th>...</th>\n",
       "      <th>Unnamed: 22</th>\n",
       "      <th>Unnamed: 23</th>\n",
       "      <th>Unnamed: 24</th>\n",
       "      <th>Unnamed: 25</th>\n",
       "      <th>Unnamed: 26</th>\n",
       "      <th>Unnamed: 27</th>\n",
       "      <th>Unnamed: 28</th>\n",
       "      <th>Unnamed: 29</th>\n",
       "      <th>Unnamed: 30</th>\n",
       "      <th>Unnamed: 31</th>\n",
       "    </tr>\n",
       "  </thead>\n",
       "  <tbody>\n",
       "    <tr>\n",
       "      <th>0</th>\n",
       "      <td>2021-10-26 00:00:00</td>\n",
       "      <td>037-380-016</td>\n",
       "      <td>2060</td>\n",
       "      <td>Huckleberry Heights Road</td>\n",
       "      <td>El Dorado</td>\n",
       "      <td>GIS shows 11674 NORTHVIEW DRIVE address for th...</td>\n",
       "      <td>Huckleberry road is correct, we added three ze...</td>\n",
       "      <td>2021-10-26 00:00:00</td>\n",
       "      <td>NaN</td>\n",
       "      <td>NaN</td>\n",
       "      <td>...</td>\n",
       "      <td>NaN</td>\n",
       "      <td>NaN</td>\n",
       "      <td>NaN</td>\n",
       "      <td>NaN</td>\n",
       "      <td>NaN</td>\n",
       "      <td>NaN</td>\n",
       "      <td>NaN</td>\n",
       "      <td>NaN</td>\n",
       "      <td>NaN</td>\n",
       "      <td>NaN</td>\n",
       "    </tr>\n",
       "  </tbody>\n",
       "</table>\n",
       "<p>1 rows × 32 columns</p>\n",
       "</div>"
      ],
      "text/plain": [
       "                  Date ROE ISSUES APN Street Address  \\\n",
       "0  2021-10-26 00:00:00    037-380-016           2060   \n",
       "\n",
       "                Street Name     County  \\\n",
       "0  Huckleberry Heights Road  El Dorado   \n",
       "\n",
       "                                               ISSUE  \\\n",
       "0  GIS shows 11674 NORTHVIEW DRIVE address for th...   \n",
       "\n",
       "                                            COMMENTS  DATE SENT TO COUNTY  \\\n",
       "0  Huckleberry road is correct, we added three ze...  2021-10-26 00:00:00   \n",
       "\n",
       "   Issue resolved Unnamed: 9  ...  Unnamed: 22  Unnamed: 23  Unnamed: 24  \\\n",
       "0             NaN        NaN  ...          NaN          NaN          NaN   \n",
       "\n",
       "   Unnamed: 25  Unnamed: 26  Unnamed: 27  Unnamed: 28  Unnamed: 29  \\\n",
       "0          NaN          NaN          NaN          NaN          NaN   \n",
       "\n",
       "   Unnamed: 30  Unnamed: 31  \n",
       "0          NaN          NaN  \n",
       "\n",
       "[1 rows x 32 columns]"
      ]
     },
     "execution_count": 27,
     "metadata": {},
     "output_type": "execute_result"
    }
   ],
   "source": [
    "planning.head(1)"
   ]
  },
  {
   "cell_type": "code",
   "execution_count": 34,
   "id": "6f9de917",
   "metadata": {},
   "outputs": [],
   "source": [
    "county['APN'].value_counts(ascending=False).to_excel('Duplicate APNs in County\\'s Smartsheet ROE tracker.xlsx')"
   ]
  },
  {
   "cell_type": "code",
   "execution_count": null,
   "id": "48fa0234",
   "metadata": {},
   "outputs": [],
   "source": []
  }
 ],
 "metadata": {
  "kernelspec": {
   "display_name": "Python 3",
   "language": "python",
   "name": "python3"
  },
  "language_info": {
   "codemirror_mode": {
    "name": "ipython",
    "version": 3
   },
   "file_extension": ".py",
   "mimetype": "text/x-python",
   "name": "python",
   "nbconvert_exporter": "python",
   "pygments_lexer": "ipython3",
   "version": "3.9.4"
  }
 },
 "nbformat": 4,
 "nbformat_minor": 5
}
