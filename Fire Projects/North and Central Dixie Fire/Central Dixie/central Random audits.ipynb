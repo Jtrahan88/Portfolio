{
 "cells": [
  {
   "cell_type": "code",
   "execution_count": 1,
   "id": "23940443",
   "metadata": {},
   "outputs": [],
   "source": [
    "import pandas as pd\n",
    "import xlrd\n",
    "import numpy as np\n",
    "import matplotlib.pyplot as plt\n",
    "%matplotlib inline\n",
    "import seaborn as sns"
   ]
  },
  {
   "cell_type": "code",
   "execution_count": 2,
   "id": "f364e59d",
   "metadata": {},
   "outputs": [],
   "source": [
    "df1 = pd.read_excel('Central Branch  trackers/Central Division 2021 Debris Removal Tracker.xlsx', parse_dates=True)\n",
    "df2 = pd.read_csv(\"tetra forms ASB and SA/Asbestos Tracker.csv\", parse_dates=True)\n",
    "df3 = pd.read_excel('tetra forms ASB and SA/Site_assessment tracker.xlsx', parse_dates=True)"
   ]
  },
  {
   "cell_type": "code",
   "execution_count": 3,
   "id": "21797788",
   "metadata": {},
   "outputs": [],
   "source": [
    "smartsheets = df1.copy()\n",
    "asbestos = df2\n",
    "sa = df3"
   ]
  },
  {
   "cell_type": "code",
   "execution_count": 4,
   "id": "1269b138",
   "metadata": {},
   "outputs": [
    {
     "data": {
      "text/plain": [
       "(1220, 56)"
      ]
     },
     "execution_count": 4,
     "metadata": {},
     "output_type": "execute_result"
    }
   ],
   "source": [
    "asbestos.shape"
   ]
  },
  {
   "cell_type": "code",
   "execution_count": 5,
   "id": "070085ba",
   "metadata": {},
   "outputs": [
    {
     "data": {
      "text/plain": [
       "(1223, 51)"
      ]
     },
     "execution_count": 5,
     "metadata": {},
     "output_type": "execute_result"
    }
   ],
   "source": [
    "sa.shape"
   ]
  },
  {
   "cell_type": "markdown",
   "id": "50a5aaf3",
   "metadata": {},
   "source": [
    "# Combined all documents"
   ]
  },
  {
   "cell_type": "code",
   "execution_count": null,
   "id": "f7aaad23",
   "metadata": {},
   "outputs": [],
   "source": [
    "merge1 = smartsheets.merge(asbestos,\n",
    "                          left_on='APN_ROW Segment',\n",
    "                          right_on='APN',\n",
    "                          how='outer',\n",
    "                          suffixes=('_SS','_ASB'))"
   ]
  },
  {
   "cell_type": "code",
   "execution_count": null,
   "id": "cf7d6a67",
   "metadata": {},
   "outputs": [],
   "source": [
    "AllTrackers = merge1.merge(sa,\n",
    "                          left_on='APN_ROW Segment',\n",
    "                          right_on='APN',\n",
    "                          how='outer',\n",
    "                          suffixes=(\"_SS\",\"_SA\"))"
   ]
  },
  {
   "cell_type": "code",
   "execution_count": null,
   "id": "606b2bd4",
   "metadata": {},
   "outputs": [],
   "source": [
    "AllTrackers.head()"
   ]
  },
  {
   "cell_type": "code",
   "execution_count": null,
   "id": "1f0d1b67",
   "metadata": {},
   "outputs": [],
   "source": [
    "# using .loc to find a certain APN and then look for the columns needed\n",
    "AllTrackers.loc[AllTrackers['APN_ROW Segment'] == \"012-036-020_34\",['APN_ROW Segment','Chimney']]"
   ]
  },
  {
   "cell_type": "code",
   "execution_count": null,
   "id": "acb459cc",
   "metadata": {
    "scrolled": true
   },
   "outputs": [],
   "source": [
    "# smartsheets.columns.to_list()"
   ]
  },
  {
   "cell_type": "markdown",
   "id": "95c0f4ce",
   "metadata": {},
   "source": [
    "# Check derbis start and finish dates with any aspect needed"
   ]
  },
  {
   "cell_type": "code",
   "execution_count": null,
   "id": "5956d90b",
   "metadata": {},
   "outputs": [],
   "source": [
    "smartsheets[(smartsheets['Debris Start'].notnull()) & (smartsheets['Debris Finish'].isnull())][['APN_ROW Segment','Debris Crew', 'Debris Start',\n",
    " 'Debris Finish',\n",
    " 'State Rep Sign-Off for DR']].sort_values(by=['Debris Crew'])"
   ]
  },
  {
   "cell_type": "code",
   "execution_count": null,
   "id": "956ad400",
   "metadata": {},
   "outputs": [],
   "source": [
    "filt  = smartsheets[(smartsheets['Debris Finish'].notnull()) & (smartsheets['Special Notes'].isnull()) ][['APN_ROW Segment','County','Debris Crew', 'Debris Start',\n",
    " 'Debris Finish','State Rep Sign-Off for DR','Special Notes', \"ROE Notes\"]]\n",
    "filt"
   ]
  },
  {
   "cell_type": "code",
   "execution_count": null,
   "id": "baf21c87",
   "metadata": {},
   "outputs": [],
   "source": [
    "# filt.to_excel('Fill in specail note.xlsx')"
   ]
  },
  {
   "cell_type": "code",
   "execution_count": null,
   "id": "63313f02",
   "metadata": {},
   "outputs": [],
   "source": []
  }
 ],
 "metadata": {
  "kernelspec": {
   "display_name": "Python 3",
   "language": "python",
   "name": "python3"
  },
  "language_info": {
   "codemirror_mode": {
    "name": "ipython",
    "version": 3
   },
   "file_extension": ".py",
   "mimetype": "text/x-python",
   "name": "python",
   "nbconvert_exporter": "python",
   "pygments_lexer": "ipython3",
   "version": "3.9.4"
  }
 },
 "nbformat": 4,
 "nbformat_minor": 5
}
