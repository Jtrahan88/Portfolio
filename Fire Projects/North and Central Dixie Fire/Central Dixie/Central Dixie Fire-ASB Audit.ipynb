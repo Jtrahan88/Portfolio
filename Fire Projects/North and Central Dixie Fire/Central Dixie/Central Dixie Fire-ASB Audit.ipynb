{
 "cells": [
  {
   "cell_type": "code",
   "execution_count": 1,
   "id": "373b0609",
   "metadata": {},
   "outputs": [],
   "source": [
    "import pandas as pd\n",
    "import glob\n",
    "import numpy as np\n",
    "import os"
   ]
  },
  {
   "cell_type": "markdown",
   "id": "a0da204b",
   "metadata": {},
   "source": [
    "# Gets our most recent dowloaded files from the downloads folder"
   ]
  },
  {
   "cell_type": "code",
   "execution_count": 2,
   "id": "0dd56b2f",
   "metadata": {},
   "outputs": [],
   "source": [
    "path1 = r\"C:\\Users\\jacque.trahan\\Downloads\\Central Division 2021 Debris Removal Tracker*\"\n",
    "file_type1 = '.xlsx'\n",
    "load_it1 = glob.glob(path1 + file_type1)\n",
    "\n",
    "df1 = pd.read_excel(max(load_it1, key=os.path.getctime))"
   ]
  },
  {
   "cell_type": "code",
   "execution_count": 3,
   "id": "33a8ca10",
   "metadata": {
    "scrolled": true
   },
   "outputs": [],
   "source": [
    "path2 = r\"C:\\Users\\jacque.trahan\\Downloads\\Asbestos Tracker*\"\n",
    "file_type2 = '.csv'\n",
    "load_it2 = glob.glob(path2 + file_type2)\n",
    "\n",
    "df2 = pd.read_csv(max(load_it2, key=os.path.getctime))"
   ]
  },
  {
   "cell_type": "markdown",
   "id": "c379b693",
   "metadata": {},
   "source": [
    "Tetra forms has a key error that we have to open the file first then save it as a new file. \n",
    "Only then will it all me to read the file in pandas\n",
    "* KeyError: \"There is no item named 'xl / sharedStrings.xml' in the archive\""
   ]
  },
  {
   "cell_type": "code",
   "execution_count": 4,
   "id": "fbdd350f",
   "metadata": {},
   "outputs": [],
   "source": [
    "# df1 = pd.read_excel('Central Branch  trackers/Central Division 2021 Debris Removal Tracker.xlsx')\n",
    "# df2 = pd.read_csv(\"../tetra forms ASB and SA/Asbestos Tracker.csv\", parse_dates=True)\n",
    "# we have to open the file then save it with a different name as an excel. Find a way to solve this\n",
    "df3= pd.read_excel(\"../tetra forms ASB and SA/ASB_TetraForms_survey1.xlsx\", )"
   ]
  },
  {
   "cell_type": "code",
   "execution_count": 5,
   "id": "d14119f5",
   "metadata": {},
   "outputs": [],
   "source": [
    "smartsheets = df1.copy()\n",
    "asbestos = df2.copy()\n",
    "tetratForms = df3.copy()"
   ]
  },
  {
   "cell_type": "markdown",
   "id": "62b00733",
   "metadata": {},
   "source": [
    "# Most important info"
   ]
  },
  {
   "cell_type": "markdown",
   "id": "5da160c6",
   "metadata": {},
   "source": [
    "What I need to Check Daily is Smart Sheets vs ENV. Trackers\n",
    "* Chimneys and neshaps match\n",
    "* FINAL RESULTS vs Smart sheets – biggest concern\n",
    "\n",
    "* ASB Assessment Date Match\n",
    "\n",
    "* End of day numbers match"
   ]
  },
  {
   "cell_type": "markdown",
   "id": "c95899b5",
   "metadata": {},
   "source": [
    "# Asbestos set up"
   ]
  },
  {
   "cell_type": "code",
   "execution_count": 6,
   "id": "efbe1d26",
   "metadata": {},
   "outputs": [],
   "source": [
    "# Take out all divisions other than central.\n",
    "asbestos = asbestos[asbestos['Division'].isin(['Central Division'])]"
   ]
  },
  {
   "cell_type": "markdown",
   "id": "d3a2b160",
   "metadata": {},
   "source": [
    "###  Get APN counts from Asbetsos"
   ]
  },
  {
   "cell_type": "code",
   "execution_count": 7,
   "id": "b5bf25af",
   "metadata": {},
   "outputs": [],
   "source": [
    "pd.set_option('display.max_rows',1000)"
   ]
  },
  {
   "cell_type": "code",
   "execution_count": 8,
   "id": "95b444a9",
   "metadata": {},
   "outputs": [],
   "source": [
    "asbestos['APN'].value_counts().to_excel('Asbestos tracker APN Counts-central.xlsx')"
   ]
  },
  {
   "cell_type": "code",
   "execution_count": 9,
   "id": "4dbd6133",
   "metadata": {},
   "outputs": [],
   "source": [
    "# changes date column from object to a date.\n",
    "asbestos['Date Collected'] = pd.to_datetime(asbestos['Date Collected']).dt.date.fillna(0)\n",
    "asbestos['Chimney Tip Date'] = pd.to_datetime(asbestos['Chimney Tip Date']).dt.date.fillna(0)\n",
    "asbestos['Chimney Abatement Completed Date'] = pd.to_datetime(asbestos['Chimney Abatement Completed Date']).dt.date.fillna(0)\n",
    "asbestos['Asbestos Abatement Completed Date'] = pd.to_datetime(asbestos['Asbestos Abatement Completed Date']).dt.date.fillna(0)\n",
    "asbestos['Date Shipped or Driven'] = pd.to_datetime(asbestos['Date Shipped or Driven']).dt.date.fillna(0)"
   ]
  },
  {
   "cell_type": "code",
   "execution_count": 10,
   "id": "72cc6dc5",
   "metadata": {},
   "outputs": [],
   "source": [
    "asbestos.columns = map(str.upper, asbestos.columns)"
   ]
  },
  {
   "cell_type": "code",
   "execution_count": 11,
   "id": "2e6f1f60",
   "metadata": {},
   "outputs": [],
   "source": [
    "asbestos.rename(columns={'APN':'APN_ASB'}, inplace=True)"
   ]
  },
  {
   "cell_type": "code",
   "execution_count": 12,
   "id": "e4c86c9c",
   "metadata": {},
   "outputs": [],
   "source": [
    "# Column section all upper case\n",
    "asb_cols = asbestos[['APN_ASB', 'FINAL RESULTS', 'CHIMNEY', 'CHIMNEY TIP DATE', 'CHIMNEY FINDING',\n",
    "                 'NESHAP WALLS',\n",
    "                 'DATE COLLECTED', 'DATE SHIPPED OR DRIVEN', \n",
    "                 'SAMPLE QUANTITY', 'POINT COUNT NEEDED', 'POINT COUNT RESULTS',\n",
    "                 'ASBESTOS ABATEMENT COMPLETED DATE', 'CHIMNEY ABATEMENT COMPLETED DATE',\n",
    "                 'PLANNING NOTES', 'DIVISION']]"
   ]
  },
  {
   "cell_type": "markdown",
   "id": "cecdcdf4",
   "metadata": {},
   "source": [
    "# Tetra Forms setup"
   ]
  },
  {
   "cell_type": "markdown",
   "id": "64a70ecd",
   "metadata": {},
   "source": [
    "### Tetra Forms sheet sample_log setup"
   ]
  },
  {
   "cell_type": "code",
   "execution_count": 13,
   "id": "4bae0a85",
   "metadata": {},
   "outputs": [],
   "source": [
    "# read in the sample log of the survey forms to get the correct sample count\n",
    "TF = pd.read_excel(\"../tetra forms ASB and SA/ASB_TetraForms_survey1.xlsx\", sheet_name='sample_log')"
   ]
  },
  {
   "cell_type": "code",
   "execution_count": 14,
   "id": "0987fc57",
   "metadata": {},
   "outputs": [],
   "source": [
    "# will grab the highest sample taken\n",
    "max_samples = TF.groupby(['apn'])[['samplecounter']].max().reset_index()\n"
   ]
  },
  {
   "cell_type": "markdown",
   "id": "75bc165a",
   "metadata": {},
   "source": [
    "## Tetra Forms chimney tip setup\n",
    "Combine chimney tip database with sample log"
   ]
  },
  {
   "cell_type": "code",
   "execution_count": 15,
   "id": "626b58d0",
   "metadata": {},
   "outputs": [],
   "source": [
    "# Read in the chuimney tip database\n",
    "TF_tips = pd.read_excel('../tetra forms ASB and SA/ASB_TetraForms_tips1.xlsx')"
   ]
  },
  {
   "cell_type": "code",
   "execution_count": 16,
   "id": "d7ccd8c0",
   "metadata": {},
   "outputs": [],
   "source": [
    "TF_tips = TF_tips[TF_tips['county'].isin(['ALPINE', 'EL DORADO', 'LAKE', 'NEVADA', 'PLACER'])]"
   ]
  },
  {
   "cell_type": "code",
   "execution_count": 17,
   "id": "4513d11c",
   "metadata": {},
   "outputs": [],
   "source": [
    "# columns needed\n",
    "TF_tips= TF_tips[['apn', 'inspection_date']]"
   ]
  },
  {
   "cell_type": "markdown",
   "id": "3113eaf1",
   "metadata": {},
   "source": [
    "### Get Chimney Tip APN counts in asbestos"
   ]
  },
  {
   "cell_type": "code",
   "execution_count": 18,
   "id": "1f46e68c",
   "metadata": {},
   "outputs": [],
   "source": [
    "TF_tips['apn'].value_counts().to_excel('Asbestos Chimney tip APN counts.xlsx') # 1 for 1 last check all good"
   ]
  },
  {
   "cell_type": "code",
   "execution_count": 19,
   "id": "c6a86430",
   "metadata": {},
   "outputs": [],
   "source": [
    "# rename for easy reading for later merges\n",
    "TF_tips.rename(columns={'inspection_date': 'TIP INSPECTION_TF'}, inplace=True)"
   ]
  },
  {
   "cell_type": "code",
   "execution_count": 20,
   "id": "102f4676",
   "metadata": {},
   "outputs": [],
   "source": [
    "# Need to make this series a datetime and fill in 0'sfor blank spots\n",
    "TF_tips['TIP INSPECTION_TF'] = pd.to_datetime(TF_tips['TIP INSPECTION_TF']).dt.date.fillna(0)"
   ]
  },
  {
   "cell_type": "code",
   "execution_count": 21,
   "id": "969e40c4",
   "metadata": {},
   "outputs": [],
   "source": [
    "# merge tips and sample log databases\n",
    "merge1 = max_samples.merge(TF_tips,\n",
    "                          left_on='apn',\n",
    "                          right_on='apn',\n",
    "                          how='outer')"
   ]
  },
  {
   "cell_type": "markdown",
   "id": "44f4653b",
   "metadata": {},
   "source": [
    "# Tetra Forms Abatment date setup\n",
    "Combine Abatment date database with merge 1 (tips and max samples)"
   ]
  },
  {
   "cell_type": "code",
   "execution_count": 22,
   "id": "40974a5e",
   "metadata": {},
   "outputs": [],
   "source": [
    "# abatment clearance form logs\n",
    "TF_abate = pd.read_excel('../tetra forms ASB and SA/ASB_TetraForms_abatment1.xlsx')"
   ]
  },
  {
   "cell_type": "code",
   "execution_count": 23,
   "id": "e4a3e037",
   "metadata": {},
   "outputs": [],
   "source": [
    "# chossing couty for only central division. Only way to seperate the divisions in Tetra forms\n",
    "TF_abate = TF_abate[TF_abate['county'].isin(['ALPINE', 'EL DORADO', 'LAKE', 'NEVADA', 'PLACER'])]"
   ]
  },
  {
   "cell_type": "code",
   "execution_count": 24,
   "id": "5c99a703",
   "metadata": {},
   "outputs": [],
   "source": [
    "# columns needed\n",
    "TF_abate = TF_abate[['apn', 'abatement_end']]"
   ]
  },
  {
   "cell_type": "markdown",
   "id": "76e1a79e",
   "metadata": {},
   "source": [
    "#### Get Tetra Forms Abatment APN counts in asbestos"
   ]
  },
  {
   "cell_type": "code",
   "execution_count": 25,
   "id": "6778de1f",
   "metadata": {},
   "outputs": [],
   "source": [
    "TF_abate['apn'].value_counts().to_excel('TF Abatmanet APN Counts central.xlsx')"
   ]
  },
  {
   "cell_type": "code",
   "execution_count": 26,
   "id": "47f198da",
   "metadata": {},
   "outputs": [],
   "source": [
    "# Need to make this series a datetime and fill in 0'sfor blank spots\n",
    "TF_abate['abatement_end'] = pd.to_datetime(TF_abate['abatement_end']).dt.date.fillna(0)"
   ]
  },
  {
   "cell_type": "code",
   "execution_count": 27,
   "id": "867c09a9",
   "metadata": {},
   "outputs": [],
   "source": [
    "# rename for easy reading on later merges\n",
    "TF_abate.rename(columns={'abatement_end': 'ABATEMENT END_TF'}, inplace=True)"
   ]
  },
  {
   "cell_type": "code",
   "execution_count": 28,
   "id": "ed133b82",
   "metadata": {},
   "outputs": [],
   "source": [
    "merge2 = merge1.merge(TF_abate,\n",
    "                     left_on='apn',\n",
    "                     right_on='apn',\n",
    "                     how='outer')"
   ]
  },
  {
   "cell_type": "markdown",
   "id": "649934ac",
   "metadata": {},
   "source": [
    "# Master Tetra Forms setup from all thre databases\n",
    "* Chimney tips\n",
    "* abatement dates\n",
    "* asbestos survey info"
   ]
  },
  {
   "cell_type": "code",
   "execution_count": 29,
   "id": "bc34ff60",
   "metadata": {},
   "outputs": [],
   "source": [
    "# merges in tetra froms surveys with sample logs, tips, and abataemetn databses.\n",
    "tetratForms = tetratForms.merge(merge2,\n",
    "                 left_on='apn',\n",
    "                 right_on='apn',\n",
    "                 how='outer')"
   ]
  },
  {
   "cell_type": "code",
   "execution_count": 30,
   "id": "ec73300e",
   "metadata": {},
   "outputs": [],
   "source": [
    "# chossing couty for only central division. Only way to seperate the divisions in Tetra forms\n",
    "tetratForms = tetratForms[tetratForms['county'].isin(['ALPINE', 'EL DORADO', 'LAKE', 'NEVADA', 'PLACER'])]"
   ]
  },
  {
   "cell_type": "code",
   "execution_count": 31,
   "id": "b11968d5",
   "metadata": {},
   "outputs": [],
   "source": [
    "# columns needed\n",
    "tetratForms = tetratForms[['apn', 'chimneys','walls','inspection_date', 'county','samplecounter','TIP INSPECTION_TF',\n",
    "                           'ABATEMENT END_TF' ]]"
   ]
  },
  {
   "cell_type": "markdown",
   "id": "2362d3fa",
   "metadata": {},
   "source": [
    "###  TF Survey APN counts"
   ]
  },
  {
   "cell_type": "code",
   "execution_count": 32,
   "id": "23497bc5",
   "metadata": {},
   "outputs": [],
   "source": [
    "tetratForms['apn'].value_counts().to_excel('Asbestos Survey TF_APN counts central.xlsx')"
   ]
  },
  {
   "cell_type": "code",
   "execution_count": 33,
   "id": "72a05fc3",
   "metadata": {},
   "outputs": [],
   "source": [
    "# change date object to date time format\n",
    "tetratForms['inspection_date'] = pd.to_datetime(tetratForms['inspection_date']).dt.date.fillna(0)"
   ]
  },
  {
   "cell_type": "code",
   "execution_count": 34,
   "id": "006fc1f6",
   "metadata": {},
   "outputs": [],
   "source": [
    "# rename out columns for easier readin on merges\n",
    "tetratForms.rename(columns={'inspection_date': 'survey inspection date'}, inplace=True)"
   ]
  },
  {
   "cell_type": "code",
   "execution_count": 35,
   "id": "5121884c",
   "metadata": {},
   "outputs": [],
   "source": [
    "# make ALL columnS upper CASE\n",
    "tetratForms.columns =map(str.upper, tetratForms.columns)"
   ]
  },
  {
   "cell_type": "code",
   "execution_count": 36,
   "id": "a24f7a1a",
   "metadata": {},
   "outputs": [],
   "source": [
    "tetratForms.rename(columns={'APN': 'APN_TF'}, inplace=True)"
   ]
  },
  {
   "cell_type": "markdown",
   "id": "6ae3ace8",
   "metadata": {},
   "source": [
    "# Smart Sheet set up"
   ]
  },
  {
   "cell_type": "markdown",
   "id": "211fc0df",
   "metadata": {},
   "source": [
    "### Get APN counts from Smart Sheets"
   ]
  },
  {
   "cell_type": "code",
   "execution_count": 37,
   "id": "c446ad09",
   "metadata": {},
   "outputs": [],
   "source": [
    "smartsheets['APN_ROW Segment'].value_counts().to_excel('Central_SS APN counts.xlsx')"
   ]
  },
  {
   "cell_type": "code",
   "execution_count": 38,
   "id": "68708329",
   "metadata": {},
   "outputs": [],
   "source": [
    "# changes date column from object to a date. and fill na with 0's\n",
    "smartsheets[\"ASB Assessment\"] = smartsheets[\"ASB Assessment\"].dt.date.fillna(0)\n",
    "smartsheets[\"Chimney Tipped\"] = smartsheets[\"Chimney Tipped\"].dt.date.fillna(0)\n",
    "smartsheets[\"ASB Abatement\"] = smartsheets[\"ASB Abatement\"].dt.date.fillna(0)"
   ]
  },
  {
   "cell_type": "code",
   "execution_count": 39,
   "id": "d0fb99d0",
   "metadata": {},
   "outputs": [],
   "source": [
    "smartsheets.rename(columns={'ASB Assessment': 'Date Collected', 'Chimney Tipped':'CHIMNEY TIP DATE',\n",
    "                            'County': 'SS_COUNTY'}, inplace=True)"
   ]
  },
  {
   "cell_type": "code",
   "execution_count": 40,
   "id": "6da9acb1",
   "metadata": {},
   "outputs": [],
   "source": [
    "smartsheets.columns = map(str.upper, smartsheets.columns)"
   ]
  },
  {
   "cell_type": "code",
   "execution_count": 41,
   "id": "447c47c3",
   "metadata": {},
   "outputs": [],
   "source": [
    "# Column section normal uppercase\n",
    "ss_cols = smartsheets[['APN_ROW SEGMENT','STREET #','STREET NAME','STRUCTURAL STATUS','SS_COUNTY','ASB RESULTS',\n",
    "                     'CHIMNEY','CHIMNEY TIP DATE',\n",
    "                     'NESHAP WALLS', \n",
    "                     \"DATE COLLECTED\",'ASB SUSPECTED',\n",
    "                     'ASB ABATEMENT']]"
   ]
  },
  {
   "cell_type": "markdown",
   "id": "c7b2da22",
   "metadata": {},
   "source": [
    "# Smasrt merge first w/ ASB"
   ]
  },
  {
   "cell_type": "code",
   "execution_count": 42,
   "id": "453dcbd8",
   "metadata": {},
   "outputs": [],
   "source": [
    "smasrt_ASB = ss_cols.merge(asbestos,\n",
    "                           left_on='APN_ROW SEGMENT',\n",
    "                           right_on='APN_ASB',\n",
    "                           how='outer',\n",
    "                         suffixes=('_SS','_ASB'))"
   ]
  },
  {
   "cell_type": "markdown",
   "id": "05da5302",
   "metadata": {},
   "source": [
    "# smartsheet w/ ASB merge with Tetraform"
   ]
  },
  {
   "cell_type": "code",
   "execution_count": 43,
   "id": "16b39c28",
   "metadata": {},
   "outputs": [],
   "source": [
    "SS_ASB_TF = smasrt_ASB.merge(tetratForms,\n",
    "           left_on=\"APN_ROW SEGMENT\",\n",
    "           right_on='APN_TF',\n",
    "           how='outer',\n",
    "           suffixes=(\"_SS\", \"_TF\"))"
   ]
  },
  {
   "cell_type": "markdown",
   "id": "0be33c99",
   "metadata": {},
   "source": [
    "# load in ESL and merge with SS_ASB_TF \n",
    "* reads all files in a folder"
   ]
  },
  {
   "cell_type": "code",
   "execution_count": 44,
   "id": "f4c329af",
   "metadata": {},
   "outputs": [],
   "source": [
    "path = r\"C:\\Users\\jacque.trahan\\Desktop\\Dixie Fires Audit\\ESLs\\Central\"\n",
    "\n",
    "esl_final = pd.concat(map(pd.read_excel, glob.glob(path + '/*.xlsx')))"
   ]
  },
  {
   "cell_type": "markdown",
   "id": "b47b87e8",
   "metadata": {},
   "source": [
    "* Below is What the above is doing \n",
    "* The above way is faster\n",
    "* no list"
   ]
  },
  {
   "cell_type": "code",
   "execution_count": 45,
   "id": "76db4283",
   "metadata": {},
   "outputs": [],
   "source": [
    "# path = r\"C:\\Users\\jacque.trahan\\Desktop\\Dixie Fires Audit\\ESLs\\Central\"\n",
    "# esl_final= glob.glob(path + \"/*.xlsx\")\n",
    "\n",
    "# li=[]\n",
    "# for filename in all_files:\n",
    "#     df = pd.read_excel(filename, index_col=None)\n",
    "#     li.append(df)\n",
    "\n",
    "# esl_final = pd.concat(li)\n"
   ]
  },
  {
   "cell_type": "code",
   "execution_count": null,
   "id": "434a14b7",
   "metadata": {},
   "outputs": [],
   "source": []
  },
  {
   "cell_type": "code",
   "execution_count": 46,
   "id": "8fff4340",
   "metadata": {},
   "outputs": [],
   "source": [
    "esl_final = esl_final[['APN', 'DATE_SHIPPED_OR_DRIVEN']]"
   ]
  },
  {
   "cell_type": "code",
   "execution_count": 47,
   "id": "207fc804",
   "metadata": {},
   "outputs": [],
   "source": [
    "esl_final.rename(columns={'DATE_SHIPPED_OR_DRIVEN':'DATE_SHIPPED_OR_DRIVEN_esl'}, inplace=True)"
   ]
  },
  {
   "cell_type": "code",
   "execution_count": 48,
   "id": "31bb8f43",
   "metadata": {},
   "outputs": [],
   "source": [
    "esl_final['DATE_SHIPPED_OR_DRIVEN_esl'] = pd.to_datetime(esl_final['DATE_SHIPPED_OR_DRIVEN_esl']).dt.date.fillna(0)"
   ]
  },
  {
   "cell_type": "code",
   "execution_count": 49,
   "id": "e60c76d4",
   "metadata": {},
   "outputs": [],
   "source": [
    "esl = esl_final.groupby(['APN'])[['DATE_SHIPPED_OR_DRIVEN_esl']].max().reset_index()"
   ]
  },
  {
   "cell_type": "markdown",
   "id": "a6929746",
   "metadata": {},
   "source": [
    "# Merge SS_ASB_TF Merge with ESL master"
   ]
  },
  {
   "cell_type": "code",
   "execution_count": 50,
   "id": "b6c3b3b2",
   "metadata": {},
   "outputs": [],
   "source": [
    "final = SS_ASB_TF.merge(esl,\n",
    "            left_on=\"APN_ROW SEGMENT\",\n",
    "            right_on='APN',\n",
    "            how='outer')"
   ]
  },
  {
   "cell_type": "markdown",
   "id": "b41c6af2",
   "metadata": {},
   "source": [
    "# set up columns for QC order"
   ]
  },
  {
   "cell_type": "code",
   "execution_count": 51,
   "id": "90a2393b",
   "metadata": {},
   "outputs": [],
   "source": [
    "# change the ND/POS to spell out for easier matching in audits\n",
    "final['FINAL RESULTS'] = final['FINAL RESULTS'].str.replace(\"ND\", 'NEGATIVE').str.replace(\"POS\",\"POSITIVE\")"
   ]
  },
  {
   "cell_type": "markdown",
   "id": "835f35f4",
   "metadata": {},
   "source": [
    "# Get hacky and force blanks to say 0\n",
    "this is beacsue some APN are not in every tracker yet"
   ]
  },
  {
   "cell_type": "markdown",
   "id": "36f4f381",
   "metadata": {},
   "source": [
    "## Smartsheets \n"
   ]
  },
  {
   "cell_type": "code",
   "execution_count": 52,
   "id": "789f8664",
   "metadata": {},
   "outputs": [],
   "source": [
    "final['CHIMNEY TIP DATE_SS'] = final['CHIMNEY TIP DATE_SS'].fillna(0)\n",
    "final['ASB RESULTS'] = final['ASB RESULTS'].fillna(\"0\")\n",
    "\n",
    "final['CHIMNEY_SS'] = final['CHIMNEY_SS'].str.replace(\"No\", '0')\n",
    "final['CHIMNEY_SS'] = final['CHIMNEY_SS'].fillna(\"0\")\n",
    "\n",
    "final[\"ASB ABATEMENT\"] = final[\"ASB ABATEMENT\"].fillna(0)\n",
    "\n",
    "final[\"NESHAP WALLS_SS\"] = final[\"NESHAP WALLS_SS\"].str.replace(\"No\", \"0\").fillna(\"0\")\n",
    "\n"
   ]
  },
  {
   "cell_type": "markdown",
   "id": "e5a559a2",
   "metadata": {},
   "source": [
    "## ASB Tracker\n"
   ]
  },
  {
   "cell_type": "code",
   "execution_count": 53,
   "id": "90b669b1",
   "metadata": {},
   "outputs": [],
   "source": [
    "final['DATE COLLECTED_ASB'] = final['DATE COLLECTED_ASB'].fillna(0)\n",
    "final['DATE SHIPPED OR DRIVEN'] = final['DATE SHIPPED OR DRIVEN'].fillna(0)\n",
    "\n",
    "final['CHIMNEY TIP DATE_ASB'] = final['CHIMNEY TIP DATE_ASB'].fillna(0)\n",
    "\n",
    "final['SAMPLE QUANTITY'] = final['SAMPLE QUANTITY'].fillna(0)\n",
    "\n",
    "final['FINAL RESULTS'] = final['FINAL RESULTS'].fillna(\"0\")\n",
    "\n",
    "final['CHIMNEY_ASB'] = final['CHIMNEY_ASB'].str.replace(\"No\", \"0\")\n",
    "final['CHIMNEY_ASB'] = final['CHIMNEY_ASB'].fillna('0')\n",
    "\n",
    "final[\"ASBESTOS ABATEMENT COMPLETED DATE\"] = final[\"ASBESTOS ABATEMENT COMPLETED DATE\"].fillna(0)\n",
    "\n",
    "final[\"NESHAP WALLS_ASB\"] = final[\"NESHAP WALLS_ASB\"].str.replace(\"No\", \"0\").fillna(\"0\")\n"
   ]
  },
  {
   "cell_type": "markdown",
   "id": "4794d9d6",
   "metadata": {},
   "source": [
    "## Tetra Forms\n"
   ]
  },
  {
   "cell_type": "code",
   "execution_count": 54,
   "id": "16ab1e9b",
   "metadata": {},
   "outputs": [],
   "source": [
    "final['TIP INSPECTION_TF'] = final['TIP INSPECTION_TF'].fillna(0)\n",
    "\n",
    "final['SURVEY INSPECTION DATE'] = final['SURVEY INSPECTION DATE'].fillna(0)\n",
    "\n",
    "final['ABATEMENT END_TF'] = final['ABATEMENT END_TF'].fillna(0)\n",
    "\n",
    "final['SAMPLECOUNTER'] = final['SAMPLECOUNTER'].fillna(0)\n",
    "\n",
    "final['CHIMNEYS'] = final['CHIMNEYS'].str.replace('No', \"0\").fillna(\"0\")\n",
    "\n",
    "\n",
    "final[\"ABATEMENT END_TF\"] = final[\"ABATEMENT END_TF\"].fillna(0)\n",
    "\n",
    "final[\"WALLS\"] = final[\"WALLS\"].str.replace(\"No\", \"0\").fillna(\"0\")\n"
   ]
  },
  {
   "cell_type": "markdown",
   "id": "ede86a90",
   "metadata": {},
   "source": [
    "# ESL fillna with 0's"
   ]
  },
  {
   "cell_type": "code",
   "execution_count": 55,
   "id": "2ab4e3ec",
   "metadata": {},
   "outputs": [],
   "source": [
    "final['DATE_SHIPPED_OR_DRIVEN_esl'] = final['DATE_SHIPPED_OR_DRIVEN_esl'].fillna(0)"
   ]
  },
  {
   "cell_type": "code",
   "execution_count": 56,
   "id": "26166062",
   "metadata": {},
   "outputs": [],
   "source": [
    "final = final[[\"APN_ROW SEGMENT\",'APN_ASB','APN_TF','STREET #','STREET NAME_SS','STRUCTURAL STATUS','SS_COUNTY',\n",
    "               \"DATE COLLECTED_SS\",'DATE COLLECTED_ASB','SURVEY INSPECTION DATE',\n",
    "               'SAMPLE QUANTITY','SAMPLECOUNTER',\n",
    "               'ASB SUSPECTED', 'DATE SHIPPED OR DRIVEN','DATE_SHIPPED_OR_DRIVEN_esl',\n",
    "               'ASB RESULTS','FINAL RESULTS','POINT COUNT NEEDED', 'POINT COUNT RESULTS',\n",
    "               'CHIMNEY_SS','CHIMNEY_ASB','CHIMNEYS',\n",
    "               'CHIMNEY TIP DATE_SS','CHIMNEY TIP DATE_ASB','TIP INSPECTION_TF',\n",
    "               'CHIMNEY FINDING', 'CHIMNEY ABATEMENT COMPLETED DATE',\n",
    "               'ASB ABATEMENT','ASBESTOS ABATEMENT COMPLETED DATE', 'ABATEMENT END_TF',\n",
    "               'NESHAP WALLS_SS','NESHAP WALLS_ASB','WALLS',\n",
    "               'DIVISION']]"
   ]
  },
  {
   "cell_type": "markdown",
   "id": "edf726ef",
   "metadata": {},
   "source": [
    "# If ASB is suspected in SS shipped should not be blank in ASB tracker"
   ]
  },
  {
   "cell_type": "code",
   "execution_count": 57,
   "id": "b60a3385",
   "metadata": {},
   "outputs": [],
   "source": [
    "def shipping_dates(df):\n",
    "    if ((df['ASB SUSPECTED'] == 'Yes') & (df['DATE SHIPPED OR DRIVEN'] == 0)):\n",
    "        return 0\n",
    "    else:\n",
    "        return 1"
   ]
  },
  {
   "cell_type": "code",
   "execution_count": 58,
   "id": "881dd28e",
   "metadata": {},
   "outputs": [],
   "source": [
    "final.insert(final.columns.get_loc('DATE_SHIPPED_OR_DRIVEN_esl')+1, 'Blank Ship Date',\n",
    "            final.apply(shipping_dates,axis=1))"
   ]
  },
  {
   "cell_type": "markdown",
   "id": "d7051d08",
   "metadata": {},
   "source": [
    "# Automate the Excel QC process Function for all below process"
   ]
  },
  {
   "cell_type": "code",
   "execution_count": 59,
   "id": "1b4b0901",
   "metadata": {},
   "outputs": [],
   "source": [
    "def compare_cols(df, comp1, comp2, comp3=None):\n",
    "    if comp3 == None:\n",
    "        if df[comp1] == df[comp2]:\n",
    "            return 1\n",
    "        else:\n",
    "            return 0\n",
    "    elif ((df[comp1] == df[comp2]) & (df[comp1] == df[comp3]) & (df[comp2] == df[comp3])):\n",
    "        return 1\n",
    "    else:\n",
    "        return 0"
   ]
  },
  {
   "cell_type": "markdown",
   "id": "2905df94",
   "metadata": {},
   "source": [
    "# Check date shipped in ASB and date shipped in ESL"
   ]
  },
  {
   "cell_type": "code",
   "execution_count": 60,
   "id": "7e9d2ae5",
   "metadata": {},
   "outputs": [],
   "source": [
    "final.insert(final.columns.get_loc('Blank Ship Date')+1, 'Check ship dates',\n",
    "             final.apply(compare_cols, comp1='DATE SHIPPED OR DRIVEN', comp2='DATE_SHIPPED_OR_DRIVEN_esl', axis=1))"
   ]
  },
  {
   "cell_type": "markdown",
   "id": "c625b745",
   "metadata": {},
   "source": [
    "# check Date Collected"
   ]
  },
  {
   "cell_type": "code",
   "execution_count": 61,
   "id": "345296bd",
   "metadata": {
    "scrolled": true
   },
   "outputs": [],
   "source": [
    "final.insert(final.columns.get_loc('SAMPLE QUANTITY')+1,'Date Collected - M',\n",
    "             final.apply(compare_cols, comp1=\"DATE COLLECTED_SS\", comp2='DATE COLLECTED_ASB', comp3='SURVEY INSPECTION DATE', axis=1))"
   ]
  },
  {
   "cell_type": "markdown",
   "id": "409c00a5",
   "metadata": {},
   "source": [
    "# check Total Samples Collected Counts"
   ]
  },
  {
   "cell_type": "code",
   "execution_count": 62,
   "id": "9c88e2b9",
   "metadata": {},
   "outputs": [],
   "source": [
    "final.insert(final.columns.get_loc('SAMPLECOUNTER')+1, \"Total Samples Collected Counts-M\", \n",
    "            final.apply(compare_cols, comp1='SAMPLE QUANTITY', comp2='SAMPLECOUNTER',axis=1))"
   ]
  },
  {
   "cell_type": "code",
   "execution_count": 63,
   "id": "4c88e89f",
   "metadata": {},
   "outputs": [],
   "source": [
    "# have to use in place here or it will turn everythig to 0 if we use df[cols] = df[col].fillna(0) Like above\n",
    "final['Total Samples Collected Counts-M'].fillna(0, inplace=True)"
   ]
  },
  {
   "cell_type": "markdown",
   "id": "418d92b5",
   "metadata": {},
   "source": [
    "# check Final Results"
   ]
  },
  {
   "cell_type": "markdown",
   "id": "68d89ce2",
   "metadata": {},
   "source": [
    "Not working correctly. leaves a blank if there is an NS in column. Solve it"
   ]
  },
  {
   "cell_type": "code",
   "execution_count": 64,
   "id": "0436e78f",
   "metadata": {},
   "outputs": [],
   "source": [
    "final.insert(final.columns.get_loc('POINT COUNT RESULTS')+1, \"Final Results-M\", \n",
    "            final.apply(compare_cols, comp1=\"ASB RESULTS\", comp2=\"FINAL RESULTS\", axis=1))"
   ]
  },
  {
   "cell_type": "code",
   "execution_count": 65,
   "id": "5b90b6d6",
   "metadata": {},
   "outputs": [],
   "source": [
    "final[\"Final Results-M\"].fillna(0,inplace=True)"
   ]
  },
  {
   "cell_type": "markdown",
   "id": "a83ad8a2",
   "metadata": {},
   "source": [
    "# Check Chimney "
   ]
  },
  {
   "cell_type": "code",
   "execution_count": 66,
   "id": "ce4dbb12",
   "metadata": {},
   "outputs": [],
   "source": [
    "final.insert(final.columns.get_loc('CHIMNEYS')+1, 'Has Chimney-M',\n",
    "            final.apply(compare_cols, comp1=\"CHIMNEY_SS\", comp2=\"CHIMNEY_ASB\", comp3=\"CHIMNEYS\", axis=1))"
   ]
  },
  {
   "cell_type": "code",
   "execution_count": 67,
   "id": "4c6ce7cf",
   "metadata": {},
   "outputs": [],
   "source": [
    "final['Has Chimney-M'].fillna(0, inplace=True)"
   ]
  },
  {
   "cell_type": "markdown",
   "id": "ec18fee1",
   "metadata": {},
   "source": [
    "# check CHIMNEY TIP DATE"
   ]
  },
  {
   "cell_type": "code",
   "execution_count": 68,
   "id": "309b4449",
   "metadata": {},
   "outputs": [],
   "source": [
    "final.insert(final.columns.get_loc('TIP INSPECTION_TF')+1, \"Chimney Tip dates-M\", \n",
    "            final.apply(compare_cols, comp1=\"CHIMNEY TIP DATE_SS\", comp2=\"CHIMNEY TIP DATE_ASB\", comp3=\"TIP INSPECTION_TF\", axis=1))"
   ]
  },
  {
   "cell_type": "markdown",
   "id": "2ea14242",
   "metadata": {},
   "source": [
    "# check Abatements Dates"
   ]
  },
  {
   "cell_type": "code",
   "execution_count": 69,
   "id": "7e25793f",
   "metadata": {},
   "outputs": [],
   "source": [
    "final.insert(final.columns.get_loc('ABATEMENT END_TF')+1, \"ASB ABATEMENT Date-M\",\n",
    "            final.apply(compare_cols,\n",
    "                        comp1=\"ASB ABATEMENT\", comp2=\"ASBESTOS ABATEMENT COMPLETED DATE\", comp3=\"ABATEMENT END_TF\", axis=1))"
   ]
  },
  {
   "cell_type": "markdown",
   "id": "c3c4c54f",
   "metadata": {},
   "source": [
    "# check NESHAPS"
   ]
  },
  {
   "cell_type": "code",
   "execution_count": 70,
   "id": "7b63c156",
   "metadata": {},
   "outputs": [],
   "source": [
    "final.insert(final.columns.get_loc('WALLS')+1, \"Neshap Wall-M\",\n",
    "            final.apply(compare_cols, comp1=\"NESHAP WALLS_SS\", comp2=\"NESHAP WALLS_ASB\", comp3=\"WALLS\", axis=1))"
   ]
  },
  {
   "cell_type": "markdown",
   "id": "6d5288d4",
   "metadata": {},
   "source": [
    "# Highight columns"
   ]
  },
  {
   "cell_type": "code",
   "execution_count": 71,
   "id": "96cf52ac",
   "metadata": {},
   "outputs": [],
   "source": [
    "# # set match columns to a certain color:\n",
    "# # SYNTAX - df.style.set_properties(**{'background-color': 'color wanted'}, subset=[\"Col A\", 'Col b', 'etc.'])\n",
    "\n",
    "df_style = final.style.set_properties(**{'background-color': '#ffffb3'},\n",
    "                           subset=['Date Collected - M',\"Neshap Wall-M\",\"ASB ABATEMENT Date-M\",\n",
    "                                  \"Chimney Tip dates-M\",'Has Chimney-M',\n",
    "                                   \"Final Results-M\",\"Total Samples Collected Counts-M\",\n",
    "                                   'Blank Ship Date', 'Check ship dates'], inplace=True)"
   ]
  },
  {
   "cell_type": "markdown",
   "id": "bf237457",
   "metadata": {},
   "source": [
    "# Make Smart sheets APNs the index and put in excel"
   ]
  },
  {
   "cell_type": "code",
   "execution_count": 72,
   "id": "b16fcc92",
   "metadata": {},
   "outputs": [],
   "source": [
    "# final.set_index(\"APN_ROW SEGMENT\", inplace=True)"
   ]
  },
  {
   "cell_type": "code",
   "execution_count": 73,
   "id": "202cdb6f",
   "metadata": {},
   "outputs": [],
   "source": [
    "df_style.to_excel(\"Central Dixie ASB Audit.xlsx\")"
   ]
  },
  {
   "cell_type": "markdown",
   "id": "be8e74e9",
   "metadata": {},
   "source": [
    "# Get number of ssamples taken compared to number of samples positive.\n",
    "### this is extra if I have time."
   ]
  },
  {
   "cell_type": "code",
   "execution_count": 74,
   "id": "995f19b6",
   "metadata": {},
   "outputs": [
    {
     "data": {
      "text/plain": [
       "<AxesSubplot:title={'center':' ASB Overview by %'}>"
      ]
     },
     "execution_count": 74,
     "metadata": {},
     "output_type": "execute_result"
    },
    {
     "data": {
      "image/png": "[encoded data removed]",
      "text/plain": [
       "<Figure size 432x432 with 1 Axes>"
      ]
     },
     "metadata": {},
     "output_type": "display_data"
    }
   ],
   "source": [
    "final[['FINAL RESULTS']].value_counts().plot(kind='pie',\n",
    "                                           labels=['No Data', \"Negitives\", \"Positives\", \"NS\"],\n",
    "                                             colors = ['yellow', 'green', 'red', 'lightblue'],\n",
    "                                          autopct='%.2f',\n",
    "                                           fontsize=15,\n",
    "                                          figsize=(6,6),\n",
    "                                           title=' ASB Overview by %',\n",
    "                                            ylabel=\"\")\n",
    "\n"
   ]
  },
  {
   "cell_type": "code",
   "execution_count": 75,
   "id": "f199621c",
   "metadata": {},
   "outputs": [
    {
     "data": {
      "text/plain": [
       "<AxesSubplot:title={'center':'Smart Sheets ASB Overview by %'}>"
      ]
     },
     "execution_count": 75,
     "metadata": {},
     "output_type": "execute_result"
    },
    {
     "data": {
      "image/png": "[encoded data removed]",
      "text/plain": [
       "<Figure size 432x432 with 1 Axes>"
      ]
     },
     "metadata": {},
     "output_type": "display_data"
    }
   ],
   "source": [
    "final[['ASB RESULTS']].value_counts().plot(kind='pie',\n",
    "                                           labels=['No Data', \"Negitives\", \"Positives\"],\n",
    "                                           colors = ['yellow', 'green', 'red'],\n",
    "                                          autopct='%.2f',\n",
    "                                           fontsize=15,\n",
    "                                          figsize=(6,6),\n",
    "                                           title='Smart Sheets ASB Overview by %',\n",
    "                                          ylabel=\"\")"
   ]
  },
  {
   "cell_type": "code",
   "execution_count": 76,
   "id": "6cbf1a8d",
   "metadata": {
    "scrolled": false
   },
   "outputs": [
    {
     "ename": "NameError",
     "evalue": "name 'plt' is not defined",
     "output_type": "error",
     "traceback": [
      "\u001b[1;31m---------------------------------------------------------------------------\u001b[0m",
      "\u001b[1;31mNameError\u001b[0m                                 Traceback (most recent call last)",
      "\u001b[1;32m<ipython-input-76-86a5416e403e>\u001b[0m in \u001b[0;36m<module>\u001b[1;34m\u001b[0m\n\u001b[1;32m----> 1\u001b[1;33m \u001b[0mplt\u001b[0m\u001b[1;33m.\u001b[0m\u001b[0mfigure\u001b[0m\u001b[1;33m(\u001b[0m\u001b[0mfigsize\u001b[0m\u001b[1;33m=\u001b[0m\u001b[1;33m(\u001b[0m\u001b[1;36m12\u001b[0m\u001b[1;33m,\u001b[0m\u001b[1;36m6\u001b[0m\u001b[1;33m)\u001b[0m\u001b[1;33m)\u001b[0m\u001b[1;33m\u001b[0m\u001b[1;33m\u001b[0m\u001b[0m\n\u001b[0m\u001b[0;32m      2\u001b[0m \u001b[0msns\u001b[0m\u001b[1;33m.\u001b[0m\u001b[0mcountplot\u001b[0m\u001b[1;33m(\u001b[0m\u001b[0mdata\u001b[0m\u001b[1;33m=\u001b[0m\u001b[0mfinal\u001b[0m\u001b[1;33m,\u001b[0m \u001b[0mx\u001b[0m\u001b[1;33m=\u001b[0m\u001b[1;34m'SS_COUNTY'\u001b[0m\u001b[1;33m,\u001b[0m \u001b[0mhue\u001b[0m\u001b[1;33m=\u001b[0m\u001b[1;34m'ASB RESULTS'\u001b[0m\u001b[1;33m)\u001b[0m\u001b[1;33m\u001b[0m\u001b[1;33m\u001b[0m\u001b[0m\n",
      "\u001b[1;31mNameError\u001b[0m: name 'plt' is not defined"
     ]
    }
   ],
   "source": [
    "plt.figure(figsize=(12,6))\n",
    "sns.countplot(data=final, x='SS_COUNTY', hue='ASB RESULTS')\n"
   ]
  },
  {
   "cell_type": "code",
   "execution_count": null,
   "id": "87dfcc87",
   "metadata": {},
   "outputs": [],
   "source": [
    "plt.figure(figsize=(12,6))\n",
    "sns.countplot(data=final, x='SS_COUNTY', hue='FINAL RESULTS')"
   ]
  },
  {
   "cell_type": "code",
   "execution_count": null,
   "id": "82d9b144",
   "metadata": {},
   "outputs": [],
   "source": []
  },
  {
   "cell_type": "code",
   "execution_count": null,
   "id": "3171c5cb",
   "metadata": {},
   "outputs": [],
   "source": []
  }
 ],
 "metadata": {
  "kernelspec": {
   "display_name": "Python 3",
   "language": "python",
   "name": "python3"
  },
  "language_info": {
   "codemirror_mode": {
    "name": "ipython",
    "version": 3
   },
   "file_extension": ".py",
   "mimetype": "text/x-python",
   "name": "python",
   "nbconvert_exporter": "python",
   "pygments_lexer": "ipython3",
   "version": "3.9.4"
  }
 },
 "nbformat": 4,
 "nbformat_minor": 5
}
