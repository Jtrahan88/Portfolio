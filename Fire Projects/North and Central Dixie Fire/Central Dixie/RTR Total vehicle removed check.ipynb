{
 "cells": [
  {
   "cell_type": "code",
   "execution_count": null,
   "id": "4f03cd0e",
   "metadata": {},
   "outputs": [],
   "source": [
    "import pandas as pd\n",
    "import os\n",
    "import glob\n",
    "import numpy as np"
   ]
  },
  {
   "cell_type": "markdown",
   "id": "93ccf21c",
   "metadata": {},
   "source": [
    "# Compare Function"
   ]
  },
  {
   "cell_type": "code",
   "execution_count": null,
   "id": "4cf2484b",
   "metadata": {},
   "outputs": [],
   "source": [
    "def compare(df, comp1=None, comp2=None, comp3=None):\n",
    "    if df[comp1] == df[comp2]:\n",
    "        return \"Match\"\n",
    "    else:\n",
    "        return \"No Match\""
   ]
  },
  {
   "cell_type": "markdown",
   "id": "1ec1e56c",
   "metadata": {},
   "source": [
    "# Smartsheets"
   ]
  },
  {
   "cell_type": "code",
   "execution_count": null,
   "id": "9928ff2e",
   "metadata": {},
   "outputs": [],
   "source": [
    "path1 = r\"C:\\Users\\jacque.trahan\\Downloads\\Central Division 2021 Debris Removal Tracker*\"\n",
    "file_type1 = \".xlsx\"\n",
    "load1 = glob.glob(path1 + file_type1)\n",
    "df1 = pd.read_excel(max(load1, key=os.path.getctime), parse_dates=True, keep_default_na=False)"
   ]
  },
  {
   "cell_type": "markdown",
   "id": "020da9a2",
   "metadata": {},
   "source": [
    "### Vehicle Removal and total setup"
   ]
  },
  {
   "cell_type": "code",
   "execution_count": null,
   "id": "7fca2b60",
   "metadata": {},
   "outputs": [],
   "source": [
    "vecs = df1.copy()\n",
    "vecs = vecs[['APN_ROW Segment','Structural Status', 'Street #', 'Street Name','County',\n",
    "             'Total Number of Vehicles']]"
   ]
  },
  {
   "cell_type": "code",
   "execution_count": null,
   "id": "99a7891a",
   "metadata": {},
   "outputs": [],
   "source": [
    "vecs.groupby(['County'])['Total Number of Vehicles'].sum()"
   ]
  },
  {
   "cell_type": "markdown",
   "id": "26caaa96",
   "metadata": {},
   "source": [
    "# RTR for vehicle removal"
   ]
  },
  {
   "cell_type": "code",
   "execution_count": null,
   "id": "2fd4b9fe",
   "metadata": {},
   "outputs": [],
   "source": [
    "path2 = r\"C:\\Users\\jacque.trahan\\Downloads\\aDataManagerTicketExport*\"\n",
    "file_type2 = \".xlsx\"\n",
    "load2 = glob.glob(path2 + file_type2)\n",
    "df2 = pd.read_excel(max(load2, key=os.path.getctime), parse_dates=True, na_values=None)"
   ]
  },
  {
   "cell_type": "code",
   "execution_count": null,
   "id": "5aa10524",
   "metadata": {},
   "outputs": [],
   "source": [
    "RTR = df2.copy()\n",
    "RTR = RTR[['Zone Name', 'Service Code', 'Unit Count', 'Is Void', 'GIS Zone1','GIS Zone2']]\n",
    "RTR = RTR.copy()\n",
    "RTR['Zone Name'] = RTR['Zone Name'].str[:3] + \"-\" + RTR['Zone Name'].str[3:6] + \"-\" + RTR['Zone Name'].str[6:]\n",
    "RTR['Service Code'] = RTR['Service Code'].str.strip()"
   ]
  },
  {
   "cell_type": "code",
   "execution_count": null,
   "id": "9806cb00",
   "metadata": {},
   "outputs": [],
   "source": [
    "RTR_Vecs = RTR.copy()\n",
    "RTR_Vecs = RTR_Vecs[(RTR_Vecs['Is Void'] == False) & (RTR_Vecs['Service Code'].isin(['5A','5B']))]"
   ]
  },
  {
   "cell_type": "code",
   "execution_count": null,
   "id": "bb3fdc0f",
   "metadata": {},
   "outputs": [],
   "source": [
    "# RTR_Vecs['GIS Zone2']."
   ]
  },
  {
   "cell_type": "code",
   "execution_count": null,
   "id": "43f3b20c",
   "metadata": {},
   "outputs": [],
   "source": [
    "RTR_Vecs = RTR_Vecs[RTR_Vecs['GIS Zone1'].isin(['CENTRAL DIVISION'])]"
   ]
  },
  {
   "cell_type": "code",
   "execution_count": null,
   "id": "4e3afc9f",
   "metadata": {},
   "outputs": [],
   "source": [
    "RTR_Vecs = RTR_Vecs[['Zone Name', 'Unit Count', 'GIS Zone2']]"
   ]
  },
  {
   "cell_type": "code",
   "execution_count": null,
   "id": "ee1dc41a",
   "metadata": {},
   "outputs": [],
   "source": [
    "RTR_SUM_Vecs = RTR_Vecs.groupby(['Zone Name'])[['Unit Count']].sum().reset_index()"
   ]
  },
  {
   "cell_type": "code",
   "execution_count": null,
   "id": "ec38133f",
   "metadata": {},
   "outputs": [],
   "source": [
    "RTR_SUM_Vecs = RTR_SUM_Vecs.add_suffix(\"_RTR\")"
   ]
  },
  {
   "cell_type": "markdown",
   "id": "246b0b4b",
   "metadata": {},
   "source": [
    "### Merge smartsheets and rtr total vehicles"
   ]
  },
  {
   "cell_type": "code",
   "execution_count": null,
   "id": "cfed9fde",
   "metadata": {},
   "outputs": [],
   "source": [
    "RTR_vec_final = vecs.merge(RTR_SUM_Vecs,\n",
    "                             left_on='APN_ROW Segment',\n",
    "                             right_on='Zone Name_RTR',\n",
    "                             how='outer')"
   ]
  },
  {
   "cell_type": "code",
   "execution_count": null,
   "id": "dd04794c",
   "metadata": {},
   "outputs": [],
   "source": [
    "RTR_vec_final.head(1)"
   ]
  },
  {
   "cell_type": "code",
   "execution_count": null,
   "id": "bee7b710",
   "metadata": {},
   "outputs": [],
   "source": [
    "RTR_vec_final['Unit Count_RTR'] = RTR_vec_final['Unit Count_RTR'].replace(np.nan, 0)\n",
    "RTR_vec_final['Total Number of Vehicles'] = RTR_vec_final['Total Number of Vehicles'].fillna(0)"
   ]
  },
  {
   "cell_type": "code",
   "execution_count": null,
   "id": "6268fa83",
   "metadata": {},
   "outputs": [],
   "source": [
    "RTR_vec_final.insert(RTR_vec_final.columns.get_loc('Total Number of Vehicles')+1, \"Match\",\n",
    "                                    RTR_vec_final.apply(compare, comp1='Total Number of Vehicles',\n",
    "                                                        comp2='Unit Count_RTR', axis=1))"
   ]
  },
  {
   "cell_type": "code",
   "execution_count": null,
   "id": "f845b4c7",
   "metadata": {},
   "outputs": [],
   "source": [
    "RTR_vec_final_style = RTR_vec_final.style.set_properties(**{'background-color': 'lightblue'},\n",
    "                                        subset=['Zone Name_RTR', 'Unit Count_RTR'])"
   ]
  },
  {
   "cell_type": "code",
   "execution_count": null,
   "id": "3aca82f6",
   "metadata": {},
   "outputs": [],
   "source": [
    "RTR_vec_final_style.to_excel(\"RTR Total vehicle removed check.xlsx\")"
   ]
  },
  {
   "cell_type": "code",
   "execution_count": null,
   "id": "8a07488b",
   "metadata": {},
   "outputs": [],
   "source": [
    "RTR_vec_final.head(1)"
   ]
  },
  {
   "cell_type": "code",
   "execution_count": null,
   "id": "c8d90226",
   "metadata": {},
   "outputs": [],
   "source": [
    "RTR_vec_final.groupby(['County'])['Total Number of Vehicles'].sum()"
   ]
  },
  {
   "cell_type": "code",
   "execution_count": null,
   "id": "4579c9ae",
   "metadata": {},
   "outputs": [],
   "source": [
    "RTR_vec_final.groupby(['County'])['Unit Count_RTR'].sum()"
   ]
  },
  {
   "cell_type": "code",
   "execution_count": null,
   "id": "c4cff6a2",
   "metadata": {},
   "outputs": [],
   "source": []
  }
 ],
 "metadata": {
  "kernelspec": {
   "display_name": "Python 3",
   "language": "python",
   "name": "python3"
  },
  "language_info": {
   "codemirror_mode": {
    "name": "ipython",
    "version": 3
   },
   "file_extension": ".py",
   "mimetype": "text/x-python",
   "name": "python",
   "nbconvert_exporter": "python",
   "pygments_lexer": "ipython3",
   "version": "3.9.4"
  }
 },
 "nbformat": 4,
 "nbformat_minor": 5
}
