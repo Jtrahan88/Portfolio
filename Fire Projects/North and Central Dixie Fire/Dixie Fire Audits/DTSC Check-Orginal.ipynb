{
 "cells": [
  {
   "cell_type": "code",
   "execution_count": 1,
   "id": "23940443",
   "metadata": {},
   "outputs": [],
   "source": [
    "import pandas as pd\n",
    "import os\n",
    "import glob\n",
    "import numpy as np"
   ]
  },
  {
   "cell_type": "code",
   "execution_count": 4,
   "id": "63313f02",
   "metadata": {},
   "outputs": [],
   "source": [
    "#states Pahse 1 tracker\n",
    "path = r\"C:\\Users\\jacque.trahan\\Downloads\\Fires2021_ParcelLayer_v2_InternalView_12.8*\"\n",
    "file_type = '.xlsx'\n",
    "loadup = glob.glob(path + file_type)\n",
    "df = pd.read_excel(max(loadup, key=os.path.getctime), sheet_name=1)"
   ]
  },
  {
   "cell_type": "code",
   "execution_count": 8,
   "id": "e754901e",
   "metadata": {
    "scrolled": true
   },
   "outputs": [
    {
     "name": "stdout",
     "output_type": "stream",
     "text": [
      "<class 'pandas.core.frame.DataFrame'>\n",
      "RangeIndex: 2329 entries, 0 to 2328\n",
      "Data columns (total 131 columns):\n",
      " #    Column                                                       Dtype         \n",
      "---   ------                                                       -----         \n",
      " 0    OBJECTID                                                     int64         \n",
      " 1    Parent Global ID From Feature                                object        \n",
      " 2    County                                                       object        \n",
      " 3    Fire Name:                                                   object        \n",
      " 4    Parcel Status:                                               object        \n",
      " 5    No Access Reason:                                            object        \n",
      " 6    APN                                                          object        \n",
      " 7    Address                                                      object        \n",
      " 8    Team Lead                                                    object        \n",
      " 9    Date and Time Onsite:                                        datetime64[ns]\n",
      " 10   Date and Time Offsite:                                       datetime64[ns]\n",
      " 11   CGI/4 Gas Detected:                                          object        \n",
      " 12   CGI/4 Gas Notes:                                             float64       \n",
      " 13   Gamma Rad Detected:                                          object        \n",
      " 14   Gamma Rad Notes:                                             float64       \n",
      " 15   Suspect ACM exists onsite?                                   object        \n",
      " 16   Type of Asbestos                                             object        \n",
      " 17   Brakepads Recovered                                          float64       \n",
      " 18   Recovered Material Measurement Unit                          object        \n",
      " 19   Items Removed?                                               object        \n",
      " 20   Cement Pipe Trans Recovered                                  float64       \n",
      " 21   Recovered Material Measurement Unit.1                        object        \n",
      " 22   Items Removed?.1                                             object        \n",
      " 23   Cement Shingle Trans Recovered                               float64       \n",
      " 24   Recovered Material Measurement Unit.2                        object        \n",
      " 25   Items Removed?.2                                             object        \n",
      " 26   Corrugated CPT Recovered                                     float64       \n",
      " 27   Recovered Material Measurement Unit.3                        object        \n",
      " 28   Items Removed?.3                                             object        \n",
      " 29   Duct Insulation Recovered                                    float64       \n",
      " 30   Recovered Material Measurement Unit.4                        object        \n",
      " 31   Items Removed?.4                                             object        \n",
      " 32   Floortiles Recovered                                         float64       \n",
      " 33   Recovered Material Measurement Unit.5                        object        \n",
      " 34   Items Removed?.5                                             object        \n",
      " 35   Gaskets Recovered                                            float64       \n",
      " 36   Recovered Material Measurement Unit.6                        object        \n",
      " 37   Items Removed?.6                                             object        \n",
      " 38   Heatshields Recovered                                        float64       \n",
      " 39   Recovered Material Measurement Unit.7                        object        \n",
      " 40   Items Removed?.7                                             object        \n",
      " 41   Roof Felt Recovered                                          float64       \n",
      " 42   Recovered Material Measurement Unit.8                        object        \n",
      " 43   Items Removed?.8                                             object        \n",
      " 44   Roof Mastic Recovered                                        float64       \n",
      " 45   Recovered Material Measurement Unit.9                        object        \n",
      " 46   Items Removed?.9                                             object        \n",
      " 47   Seam Caulking Recovered                                      float64       \n",
      " 48   Recovered Material Measurement Unit.10                       object        \n",
      " 49   Items Removed?.10                                            object        \n",
      " 50   Seam Coating Recovered                                       float64       \n",
      " 51   Recovered Material Measurement Unit.11                       object        \n",
      " 52   Items Removed?.11                                            object        \n",
      " 53   Sheet Flooring Recovered                                     float64       \n",
      " 54   Recovered Material Measurement Unit.12                       object        \n",
      " 55   Items Removed?.12                                            object        \n",
      " 56   Window Glazing Recovered                                     float64       \n",
      " 57   Recovered Material Measurement Unit.13                       object        \n",
      " 58   Items Removed?.13                                            object        \n",
      " 59   Other ACM Recovered                                          float64       \n",
      " 60   Recovered Material Measurement Unit.14                       object        \n",
      " 61   Items Removed?.14                                            object        \n",
      " 62   Removal will take more than 2 Hours                          object        \n",
      " 63   Suspect ACM left on site                                     object        \n",
      " 64   Suspect ACM left on site.1                                   object        \n",
      " 65   HHW exists onsite?                                           object        \n",
      " 66   HHW Types Found                                              object        \n",
      " 67   Aerosols Recovered                                           float64       \n",
      " 68   Recovered Material Measurement Unit.15                       object        \n",
      " 69   Antifreeze Recovered                                         float64       \n",
      " 70   Recovered Material Measurement Unit.16                       object        \n",
      " 71   Solvents Recovered                                           float64       \n",
      " 72   Recovered Material Measurement Unit.17                       object        \n",
      " 73   Pool Chemicals Recovered                                     float64       \n",
      " 74   Recovered Material Measurement Unit.18                       object        \n",
      " 75   Household Cleaners Recovered                                 float64       \n",
      " 76   Recovered Material Measurement Unit.19                       object        \n",
      " 77   Light Ballasts Recovered                                     float64       \n",
      " 78   Recovered Material Measurement Unit.20                       object        \n",
      " 79   Paint Recovered                                              float64       \n",
      " 80   Recovered Material Measurement Unit.21                       object        \n",
      " 81   Pesticides Recovered                                         float64       \n",
      " 82   Recovered Material Measurement Unit.22                       object        \n",
      " 83   Fertilizers Recovered                                        float64       \n",
      " 84   Recovered Material Measurement Unit.23                       object        \n",
      " 85   Oil Water Recovered                                          float64       \n",
      " 86   Recovered Material Measurement Unit.24                       object        \n",
      " 87   Battery Types Found                                          object        \n",
      " 88   Car Batteries Recovered                                      float64       \n",
      " 89   Household Batteries Recovered                                float64       \n",
      " 90   Forklift Batteries Recovered                                 float64       \n",
      " 91   Solar Batteries Recovered                                    float64       \n",
      " 92   Liquid Fuel Tank Types Found                                 object        \n",
      " 93   Number of Heating Fuel Tanks                                 float64       \n",
      " 94   Heating Fuel Gallons (Total)                                 float64       \n",
      " 95   Heating Fuel Removed?                                        object        \n",
      " 96   Number of Diesel Fuel Tanks                                  float64       \n",
      " 97   Diesel Fuel Gallons (Total)                                  float64       \n",
      " 98   Diesel Fuel Removed?                                         object        \n",
      " 99   Number of Other Fuel Tanks                                   float64       \n",
      " 100  Other Fuel Gallons (Total)                                   float64       \n",
      " 101  Other Fuel Removed?                                          object        \n",
      " 102  Compressed Gas Tank Type                                     object        \n",
      " 103  Acetylene Tanks Recovered                                    float64       \n",
      " 104  Propane Tanks - Removed                                      float64       \n",
      " 105  Propane Tanks - Devalved & Left On-Site                      float64       \n",
      " 106  Other Tanks - Removed                                        float64       \n",
      " 107  Other Tanks - Devalved & Left On-Site                        float64       \n",
      " 108  Other HHW Items - Removed                                    float64       \n",
      " 109  Other Tanks - Removed.1                                      float64       \n",
      " 110  HHW Comments                                                 object        \n",
      " 111  Did a Physical obstacle prevent full HHW assessment?         object        \n",
      " 112  Physical Obstacle Comment                                    object        \n",
      " 113  E-waste Collected Onsite?                                    object        \n",
      " 114  E-waste Notes                                                object        \n",
      " 115  Is there a large propane tank onsite? (>100 Gallons)         object        \n",
      " 116  Empty containers identified and marked with white paint(x)?  object        \n",
      " 117  Ammunition Present?                                          object        \n",
      " 118  Is ammunition larger than 50 Cal?                            object        \n",
      " 119  Chimney onsite?                                              object        \n",
      " 120  Is revisit required for additional Operations?               object        \n",
      " 121  Pick a reason for a revisit                                  object        \n",
      " 122  Reason for Revisit                                           object        \n",
      " 123  Assessment Notes:                                            object        \n",
      " 124  Photo Notes:                                                 object        \n",
      " 125  GlobalID                                                     object        \n",
      " 126  CreationDate                                                 datetime64[ns]\n",
      " 127  Creator                                                      object        \n",
      " 128  EditDate                                                     datetime64[ns]\n",
      " 129  Editor                                                       object        \n",
      " 130  Recovered Material Measurement Unit.25                       float64       \n",
      "dtypes: datetime64[ns](4), float64(45), int64(1), object(81)\n",
      "memory usage: 2.3+ MB\n"
     ]
    }
   ],
   "source": [
    "df.info(verbose=True)"
   ]
  },
  {
   "cell_type": "markdown",
   "id": "d1bdc0ae",
   "metadata": {},
   "source": [
    "# Navada"
   ]
  },
  {
   "cell_type": "code",
   "execution_count": 3,
   "id": "e42f8100",
   "metadata": {},
   "outputs": [],
   "source": [
    "navada = df[(df['COUNTYNAME'].isin(['NEVADA']) & (df['Parcel Status:'].isin(['Assessed', 'Deferred to Phase 2',\n",
    "                                                                             'Identified', 'Assessed Return Needed'])))]"
   ]
  },
  {
   "cell_type": "code",
   "execution_count": 4,
   "id": "1e2cfeb6",
   "metadata": {},
   "outputs": [],
   "source": [
    "navada = navada.copy()"
   ]
  },
  {
   "cell_type": "code",
   "execution_count": 5,
   "id": "a08baf06",
   "metadata": {},
   "outputs": [],
   "source": [
    "navada['PARCEL_APN'] = navada['PARCEL_APN'].astype(str)"
   ]
  },
  {
   "cell_type": "code",
   "execution_count": 6,
   "id": "e80394b5",
   "metadata": {
    "scrolled": true
   },
   "outputs": [],
   "source": [
    "navada['PARCEL_APN'] = (\"0\" + navada['PARCEL_APN'].str[:-3])"
   ]
  },
  {
   "cell_type": "markdown",
   "id": "124fb2fc",
   "metadata": {},
   "source": [
    "# placer"
   ]
  },
  {
   "cell_type": "code",
   "execution_count": 7,
   "id": "1747bf36",
   "metadata": {},
   "outputs": [],
   "source": [
    "placer = df[(df['COUNTYNAME'].isin(['PLACER']) & (df['Parcel Status:'].isin(['Assessed', 'Deferred to Phase 2',\n",
    "                                                                             'Identified', 'Assessed Return Needed'])))]"
   ]
  },
  {
   "cell_type": "code",
   "execution_count": 8,
   "id": "7bf41d63",
   "metadata": {},
   "outputs": [],
   "source": [
    "placer =placer.copy()"
   ]
  },
  {
   "cell_type": "code",
   "execution_count": 9,
   "id": "ab72a457",
   "metadata": {
    "scrolled": true
   },
   "outputs": [],
   "source": [
    "placer['PARCEL_APN'] = placer['PARCEL_APN'].astype(str)"
   ]
  },
  {
   "cell_type": "code",
   "execution_count": 10,
   "id": "5e38593f",
   "metadata": {},
   "outputs": [],
   "source": [
    "placer['PARCEL_APN'] = placer['PARCEL_APN'].str.replace(\"-\", \"\")"
   ]
  },
  {
   "cell_type": "code",
   "execution_count": 11,
   "id": "1cfa4001",
   "metadata": {},
   "outputs": [],
   "source": [
    "placer['PARCEL_APN'] = placer['PARCEL_APN'].str[:-3]"
   ]
  },
  {
   "cell_type": "markdown",
   "id": "bf34afb3",
   "metadata": {},
   "source": [
    "# Lake"
   ]
  },
  {
   "cell_type": "code",
   "execution_count": 12,
   "id": "43791430",
   "metadata": {},
   "outputs": [],
   "source": [
    "lake = df[(df['COUNTYNAME'].isin(['LAKE']) & (df['Parcel Status:'].isin(['Assessed', 'Deferred to Phase 2',\n",
    "                                                                             'Identified', 'Assessed Return Needed'])))]"
   ]
  },
  {
   "cell_type": "code",
   "execution_count": 13,
   "id": "4d1b9feb",
   "metadata": {},
   "outputs": [],
   "source": [
    "lake = lake.copy()"
   ]
  },
  {
   "cell_type": "code",
   "execution_count": 14,
   "id": "6da63a71",
   "metadata": {
    "scrolled": true
   },
   "outputs": [],
   "source": [
    "lake['PARCEL_APN'] = lake['PARCEL_APN'].astype(str)"
   ]
  },
  {
   "cell_type": "code",
   "execution_count": 15,
   "id": "86f121e3",
   "metadata": {},
   "outputs": [],
   "source": [
    "lake['PARCEL_APN'] = (\"0\" + lake['PARCEL_APN'] + \"0\")"
   ]
  },
  {
   "cell_type": "markdown",
   "id": "f715ed1e",
   "metadata": {},
   "source": [
    "# EL DORADO"
   ]
  },
  {
   "cell_type": "code",
   "execution_count": 16,
   "id": "622c9438",
   "metadata": {},
   "outputs": [],
   "source": [
    "eldorado = df[(df['COUNTYNAME'].isin(['EL DORADO']) & (df['Parcel Status:'].isin(['Assessed', 'Deferred to Phase 2',\n",
    "                                                                             'Identified', 'Assessed Return Needed'])))]"
   ]
  },
  {
   "cell_type": "code",
   "execution_count": 17,
   "id": "286700f6",
   "metadata": {},
   "outputs": [],
   "source": [
    "eldorado = eldorado.copy()"
   ]
  },
  {
   "cell_type": "code",
   "execution_count": 18,
   "id": "fa94f5d8",
   "metadata": {},
   "outputs": [],
   "source": [
    "eldorado['PARCEL_APN'] = eldorado['PARCEL_APN'].astype(str)"
   ]
  },
  {
   "cell_type": "code",
   "execution_count": 19,
   "id": "cd91f51e",
   "metadata": {},
   "outputs": [],
   "source": [
    "eldorado['PARCEL_APN'] = \"0\" + eldorado['PARCEL_APN']"
   ]
  },
  {
   "cell_type": "markdown",
   "id": "4c7a0656",
   "metadata": {},
   "source": [
    "# concat all the counties into one file"
   ]
  },
  {
   "cell_type": "code",
   "execution_count": 20,
   "id": "3e9e3e41",
   "metadata": {},
   "outputs": [],
   "source": [
    "final = pd.concat([navada,placer,lake, eldorado])"
   ]
  },
  {
   "cell_type": "markdown",
   "id": "73aac9cc",
   "metadata": {},
   "source": [
    "# Add the dashes"
   ]
  },
  {
   "cell_type": "code",
   "execution_count": 21,
   "id": "9e50a1e1",
   "metadata": {},
   "outputs": [
    {
     "data": {
      "text/plain": [
       "6425    028270047\n",
       "6430    028261029\n",
       "6431    028261030\n",
       "6433    028221038\n",
       "6434    028221039\n",
       "Name: PARCEL_APN, dtype: object"
      ]
     },
     "execution_count": 21,
     "metadata": {},
     "output_type": "execute_result"
    }
   ],
   "source": [
    "final['PARCEL_APN'].head()"
   ]
  },
  {
   "cell_type": "code",
   "execution_count": 22,
   "id": "a5baffe5",
   "metadata": {
    "scrolled": true
   },
   "outputs": [],
   "source": [
    "final['PARCEL_APN'] = (final['PARCEL_APN'].str[:3] + '-' + final['PARCEL_APN'].str[3:6] + '-' + final['PARCEL_APN'].str[6:])"
   ]
  },
  {
   "cell_type": "code",
   "execution_count": 23,
   "id": "e2a43e29",
   "metadata": {},
   "outputs": [
    {
     "data": {
      "text/html": [
       "<div>\n",
       "<style scoped>\n",
       "    .dataframe tbody tr th:only-of-type {\n",
       "        vertical-align: middle;\n",
       "    }\n",
       "\n",
       "    .dataframe tbody tr th {\n",
       "        vertical-align: top;\n",
       "    }\n",
       "\n",
       "    .dataframe thead th {\n",
       "        text-align: right;\n",
       "    }\n",
       "</style>\n",
       "<table border=\"1\" class=\"dataframe\">\n",
       "  <thead>\n",
       "    <tr style=\"text-align: right;\">\n",
       "      <th></th>\n",
       "      <th>PARCEL_APN</th>\n",
       "      <th>COUNTYNAME</th>\n",
       "      <th>SITE_ADDR</th>\n",
       "      <th>SITE_CITY</th>\n",
       "      <th>Parcel Status:</th>\n",
       "    </tr>\n",
       "  </thead>\n",
       "  <tbody>\n",
       "    <tr>\n",
       "      <th>13493</th>\n",
       "      <td>037-010-033</td>\n",
       "      <td>EL DORADO</td>\n",
       "      <td>NaN</td>\n",
       "      <td>ECHO LAKE</td>\n",
       "      <td>Identified</td>\n",
       "    </tr>\n",
       "  </tbody>\n",
       "</table>\n",
       "</div>"
      ],
      "text/plain": [
       "        PARCEL_APN COUNTYNAME SITE_ADDR  SITE_CITY Parcel Status:\n",
       "13493  037-010-033  EL DORADO       NaN  ECHO LAKE     Identified"
      ]
     },
     "execution_count": 23,
     "metadata": {},
     "output_type": "execute_result"
    }
   ],
   "source": [
    "final[(final['PARCEL_APN'] == '037-010-033')]"
   ]
  },
  {
   "cell_type": "code",
   "execution_count": 24,
   "id": "41d49f4d",
   "metadata": {},
   "outputs": [],
   "source": [
    "final.set_index('PARCEL_APN', inplace=True)"
   ]
  },
  {
   "cell_type": "code",
   "execution_count": 25,
   "id": "164f87ce",
   "metadata": {},
   "outputs": [],
   "source": [
    "final.to_excel('All Formated2.xlsx')"
   ]
  },
  {
   "cell_type": "code",
   "execution_count": 28,
   "id": "398e5df5",
   "metadata": {},
   "outputs": [
    {
     "data": {
      "text/html": [
       "<div>\n",
       "<style scoped>\n",
       "    .dataframe tbody tr th:only-of-type {\n",
       "        vertical-align: middle;\n",
       "    }\n",
       "\n",
       "    .dataframe tbody tr th {\n",
       "        vertical-align: top;\n",
       "    }\n",
       "\n",
       "    .dataframe thead th {\n",
       "        text-align: right;\n",
       "    }\n",
       "</style>\n",
       "<table border=\"1\" class=\"dataframe\">\n",
       "  <thead>\n",
       "    <tr style=\"text-align: right;\">\n",
       "      <th></th>\n",
       "      <th>PARCEL_APN</th>\n",
       "      <th>COUNTYNAME</th>\n",
       "      <th>SITE_ADDR</th>\n",
       "      <th>SITE_CITY</th>\n",
       "      <th>Parcel Status:</th>\n",
       "    </tr>\n",
       "  </thead>\n",
       "  <tbody>\n",
       "    <tr>\n",
       "      <th>0</th>\n",
       "      <td>028-270-047</td>\n",
       "      <td>NEVADA</td>\n",
       "      <td>19907 CLYDESDALE RD</td>\n",
       "      <td>GRASS VALLEY</td>\n",
       "      <td>Assessed</td>\n",
       "    </tr>\n",
       "    <tr>\n",
       "      <th>1</th>\n",
       "      <td>028-261-029</td>\n",
       "      <td>NEVADA</td>\n",
       "      <td>15865 MOUNT OLIVE RD</td>\n",
       "      <td>GRASS VALLEY</td>\n",
       "      <td>Assessed</td>\n",
       "    </tr>\n",
       "    <tr>\n",
       "      <th>2</th>\n",
       "      <td>028-261-030</td>\n",
       "      <td>NEVADA</td>\n",
       "      <td>15909 MOUNT OLIVE RD</td>\n",
       "      <td>GRASS VALLEY</td>\n",
       "      <td>Assessed</td>\n",
       "    </tr>\n",
       "    <tr>\n",
       "      <th>3</th>\n",
       "      <td>028-221-038</td>\n",
       "      <td>NEVADA</td>\n",
       "      <td>16008 MOUNT OLIVE RD</td>\n",
       "      <td>GRASS VALLEY</td>\n",
       "      <td>Assessed</td>\n",
       "    </tr>\n",
       "    <tr>\n",
       "      <th>4</th>\n",
       "      <td>028-221-039</td>\n",
       "      <td>NEVADA</td>\n",
       "      <td>16056 MOUNT OLIVE RD</td>\n",
       "      <td>GRASS VALLEY</td>\n",
       "      <td>Assessed</td>\n",
       "    </tr>\n",
       "    <tr>\n",
       "      <th>...</th>\n",
       "      <td>...</td>\n",
       "      <td>...</td>\n",
       "      <td>...</td>\n",
       "      <td>...</td>\n",
       "      <td>...</td>\n",
       "    </tr>\n",
       "    <tr>\n",
       "      <th>908</th>\n",
       "      <td>011-210-007</td>\n",
       "      <td>EL DORADO</td>\n",
       "      <td>11040 RANDALL TRACT LN</td>\n",
       "      <td>POLLOCK PINES</td>\n",
       "      <td>Assessed</td>\n",
       "    </tr>\n",
       "    <tr>\n",
       "      <th>909</th>\n",
       "      <td>041-881-013</td>\n",
       "      <td>EL DORADO</td>\n",
       "      <td>5600 WILDROSE</td>\n",
       "      <td>GRIZZLY FLATS</td>\n",
       "      <td>Assessed</td>\n",
       "    </tr>\n",
       "    <tr>\n",
       "      <th>910</th>\n",
       "      <td>011-130-007</td>\n",
       "      <td>EL DORADO</td>\n",
       "      <td>10320 BULL CREEK RD</td>\n",
       "      <td>POLLOCK PINES</td>\n",
       "      <td>Assessed</td>\n",
       "    </tr>\n",
       "    <tr>\n",
       "      <th>911</th>\n",
       "      <td>011-150-007</td>\n",
       "      <td>EL DORADO</td>\n",
       "      <td>10120 HIGHWAY 50</td>\n",
       "      <td>POLLOCK PINES</td>\n",
       "      <td>Assessed</td>\n",
       "    </tr>\n",
       "    <tr>\n",
       "      <th>912</th>\n",
       "      <td>011-150-014</td>\n",
       "      <td>EL DORADO</td>\n",
       "      <td>10108 BULL CREEK RD</td>\n",
       "      <td>POLLOCK PINES</td>\n",
       "      <td>Assessed</td>\n",
       "    </tr>\n",
       "  </tbody>\n",
       "</table>\n",
       "<p>913 rows × 5 columns</p>\n",
       "</div>"
      ],
      "text/plain": [
       "      PARCEL_APN COUNTYNAME               SITE_ADDR      SITE_CITY  \\\n",
       "0    028-270-047     NEVADA     19907 CLYDESDALE RD   GRASS VALLEY   \n",
       "1    028-261-029     NEVADA    15865 MOUNT OLIVE RD   GRASS VALLEY   \n",
       "2    028-261-030     NEVADA    15909 MOUNT OLIVE RD   GRASS VALLEY   \n",
       "3    028-221-038     NEVADA    16008 MOUNT OLIVE RD   GRASS VALLEY   \n",
       "4    028-221-039     NEVADA    16056 MOUNT OLIVE RD   GRASS VALLEY   \n",
       "..           ...        ...                     ...            ...   \n",
       "908  011-210-007  EL DORADO  11040 RANDALL TRACT LN  POLLOCK PINES   \n",
       "909  041-881-013  EL DORADO           5600 WILDROSE  GRIZZLY FLATS   \n",
       "910  011-130-007  EL DORADO     10320 BULL CREEK RD  POLLOCK PINES   \n",
       "911  011-150-007  EL DORADO        10120 HIGHWAY 50  POLLOCK PINES   \n",
       "912  011-150-014  EL DORADO     10108 BULL CREEK RD  POLLOCK PINES   \n",
       "\n",
       "    Parcel Status:  \n",
       "0         Assessed  \n",
       "1         Assessed  \n",
       "2         Assessed  \n",
       "3         Assessed  \n",
       "4         Assessed  \n",
       "..             ...  \n",
       "908       Assessed  \n",
       "909       Assessed  \n",
       "910       Assessed  \n",
       "911       Assessed  \n",
       "912       Assessed  \n",
       "\n",
       "[913 rows x 5 columns]"
      ]
     },
     "execution_count": 28,
     "metadata": {},
     "output_type": "execute_result"
    }
   ],
   "source": [
    "final.reset_index()"
   ]
  },
  {
   "cell_type": "code",
   "execution_count": 29,
   "id": "c5605fbc",
   "metadata": {},
   "outputs": [
    {
     "data": {
      "text/html": [
       "<div>\n",
       "<style scoped>\n",
       "    .dataframe tbody tr th:only-of-type {\n",
       "        vertical-align: middle;\n",
       "    }\n",
       "\n",
       "    .dataframe tbody tr th {\n",
       "        vertical-align: top;\n",
       "    }\n",
       "\n",
       "    .dataframe thead th {\n",
       "        text-align: right;\n",
       "    }\n",
       "</style>\n",
       "<table border=\"1\" class=\"dataframe\">\n",
       "  <thead>\n",
       "    <tr style=\"text-align: right;\">\n",
       "      <th></th>\n",
       "      <th>COUNTYNAME</th>\n",
       "      <th>SITE_ADDR</th>\n",
       "      <th>SITE_CITY</th>\n",
       "      <th>Parcel Status:</th>\n",
       "    </tr>\n",
       "    <tr>\n",
       "      <th>PARCEL_APN</th>\n",
       "      <th></th>\n",
       "      <th></th>\n",
       "      <th></th>\n",
       "      <th></th>\n",
       "    </tr>\n",
       "  </thead>\n",
       "  <tbody>\n",
       "    <tr>\n",
       "      <th>028-270-047</th>\n",
       "      <td>NEVADA</td>\n",
       "      <td>19907 CLYDESDALE RD</td>\n",
       "      <td>GRASS VALLEY</td>\n",
       "      <td>Assessed</td>\n",
       "    </tr>\n",
       "    <tr>\n",
       "      <th>028-261-029</th>\n",
       "      <td>NEVADA</td>\n",
       "      <td>15865 MOUNT OLIVE RD</td>\n",
       "      <td>GRASS VALLEY</td>\n",
       "      <td>Assessed</td>\n",
       "    </tr>\n",
       "    <tr>\n",
       "      <th>028-261-030</th>\n",
       "      <td>NEVADA</td>\n",
       "      <td>15909 MOUNT OLIVE RD</td>\n",
       "      <td>GRASS VALLEY</td>\n",
       "      <td>Assessed</td>\n",
       "    </tr>\n",
       "    <tr>\n",
       "      <th>028-221-038</th>\n",
       "      <td>NEVADA</td>\n",
       "      <td>16008 MOUNT OLIVE RD</td>\n",
       "      <td>GRASS VALLEY</td>\n",
       "      <td>Assessed</td>\n",
       "    </tr>\n",
       "    <tr>\n",
       "      <th>028-221-039</th>\n",
       "      <td>NEVADA</td>\n",
       "      <td>16056 MOUNT OLIVE RD</td>\n",
       "      <td>GRASS VALLEY</td>\n",
       "      <td>Assessed</td>\n",
       "    </tr>\n",
       "    <tr>\n",
       "      <th>...</th>\n",
       "      <td>...</td>\n",
       "      <td>...</td>\n",
       "      <td>...</td>\n",
       "      <td>...</td>\n",
       "    </tr>\n",
       "    <tr>\n",
       "      <th>011-210-007</th>\n",
       "      <td>EL DORADO</td>\n",
       "      <td>11040 RANDALL TRACT LN</td>\n",
       "      <td>POLLOCK PINES</td>\n",
       "      <td>Assessed</td>\n",
       "    </tr>\n",
       "    <tr>\n",
       "      <th>041-881-013</th>\n",
       "      <td>EL DORADO</td>\n",
       "      <td>5600 WILDROSE</td>\n",
       "      <td>GRIZZLY FLATS</td>\n",
       "      <td>Assessed</td>\n",
       "    </tr>\n",
       "    <tr>\n",
       "      <th>011-130-007</th>\n",
       "      <td>EL DORADO</td>\n",
       "      <td>10320 BULL CREEK RD</td>\n",
       "      <td>POLLOCK PINES</td>\n",
       "      <td>Assessed</td>\n",
       "    </tr>\n",
       "    <tr>\n",
       "      <th>011-150-007</th>\n",
       "      <td>EL DORADO</td>\n",
       "      <td>10120 HIGHWAY 50</td>\n",
       "      <td>POLLOCK PINES</td>\n",
       "      <td>Assessed</td>\n",
       "    </tr>\n",
       "    <tr>\n",
       "      <th>011-150-014</th>\n",
       "      <td>EL DORADO</td>\n",
       "      <td>10108 BULL CREEK RD</td>\n",
       "      <td>POLLOCK PINES</td>\n",
       "      <td>Assessed</td>\n",
       "    </tr>\n",
       "  </tbody>\n",
       "</table>\n",
       "<p>913 rows × 4 columns</p>\n",
       "</div>"
      ],
      "text/plain": [
       "            COUNTYNAME               SITE_ADDR      SITE_CITY Parcel Status:\n",
       "PARCEL_APN                                                                  \n",
       "028-270-047     NEVADA     19907 CLYDESDALE RD   GRASS VALLEY       Assessed\n",
       "028-261-029     NEVADA    15865 MOUNT OLIVE RD   GRASS VALLEY       Assessed\n",
       "028-261-030     NEVADA    15909 MOUNT OLIVE RD   GRASS VALLEY       Assessed\n",
       "028-221-038     NEVADA    16008 MOUNT OLIVE RD   GRASS VALLEY       Assessed\n",
       "028-221-039     NEVADA    16056 MOUNT OLIVE RD   GRASS VALLEY       Assessed\n",
       "...                ...                     ...            ...            ...\n",
       "011-210-007  EL DORADO  11040 RANDALL TRACT LN  POLLOCK PINES       Assessed\n",
       "041-881-013  EL DORADO           5600 WILDROSE  GRIZZLY FLATS       Assessed\n",
       "011-130-007  EL DORADO     10320 BULL CREEK RD  POLLOCK PINES       Assessed\n",
       "011-150-007  EL DORADO        10120 HIGHWAY 50  POLLOCK PINES       Assessed\n",
       "011-150-014  EL DORADO     10108 BULL CREEK RD  POLLOCK PINES       Assessed\n",
       "\n",
       "[913 rows x 4 columns]"
      ]
     },
     "execution_count": 29,
     "metadata": {},
     "output_type": "execute_result"
    }
   ],
   "source": [
    "final"
   ]
  },
  {
   "cell_type": "code",
   "execution_count": null,
   "id": "17de321b",
   "metadata": {},
   "outputs": [],
   "source": []
  }
 ],
 "metadata": {
  "kernelspec": {
   "display_name": "Python 3",
   "language": "python",
   "name": "python3"
  },
  "language_info": {
   "codemirror_mode": {
    "name": "ipython",
    "version": 3
   },
   "file_extension": ".py",
   "mimetype": "text/x-python",
   "name": "python",
   "nbconvert_exporter": "python",
   "pygments_lexer": "ipython3",
   "version": "3.9.4"
  }
 },
 "nbformat": 4,
 "nbformat_minor": 5
}
