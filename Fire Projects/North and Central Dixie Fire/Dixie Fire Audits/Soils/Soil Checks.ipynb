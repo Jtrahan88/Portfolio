{
 "cells": [
  {
   "cell_type": "markdown",
   "id": "bebc21c3",
   "metadata": {},
   "source": [
    "# Soil Audit:\n",
    "### outputs:\n",
    "* Check Soil APN status vs structual status and current location in smartsheets\n",
    "* No Soil Sample Dates in smartsheets\n",
    "\n",
    "\n",
    "## Downloads needed:\n",
    "* 2 Smartsheets both Central and South or BOP and ANVIL\n",
    "* Soil Tracker - Sharepoint"
   ]
  },
  {
   "cell_type": "markdown",
   "id": "74fc4917",
   "metadata": {},
   "source": [
    "# Libraries"
   ]
  },
  {
   "cell_type": "code",
   "execution_count": 1,
   "id": "b858daa2",
   "metadata": {},
   "outputs": [],
   "source": [
    "import pandas as pd\n",
    "import os\n",
    "import glob\n",
    "import numpy as np\n",
    "from datetime import timedelta\n",
    "import smartsheet"
   ]
  },
  {
   "cell_type": "markdown",
   "id": "52e972d4",
   "metadata": {},
   "source": [
    "# Varables"
   ]
  },
  {
   "cell_type": "code",
   "execution_count": 2,
   "id": "f837454b",
   "metadata": {},
   "outputs": [],
   "source": [
    "csv = '.csv'\n",
    "excel = '.xlsx'"
   ]
  },
  {
   "cell_type": "code",
   "execution_count": 3,
   "id": "5598f580",
   "metadata": {},
   "outputs": [
    {
     "name": "stdout",
     "output_type": "stream",
     "text": [
      "What project are we Auditing?: Central or Northern northern\n",
      "Northern Audit Started\n"
     ]
    }
   ],
   "source": [
    "while True:\n",
    "    user = input('What project are we Auditing?: Central or Northern ').lower()\n",
    "    try:\n",
    "\n",
    "        #central Set up\n",
    "        if user == 'central':\n",
    "            print('Central Audit Started')\n",
    "            # Counties:\n",
    "            county= ['ALPINE', 'EL DORADO', 'LAKE', 'NEVADA', 'PLACER', 'TUOLUMNE', 'MENDOCINO', 'TULARE', 'KERN']\n",
    "\n",
    "            # Division. * northern goes here becasue we want everything not in northern Division\n",
    "            division = 'Northern Division'\n",
    "\n",
    "            # smartsheets Shet IDs\n",
    "            sheet_id1 = '1844440261257092' # central\n",
    "            sheet_id2= '6292262490531716' # south central\n",
    "\n",
    "            # Central's API\n",
    "            API1 = smartsheet.Smartsheet('6jJFxnAfFsDErU0BSr1Ae4D6cHq0zenczVR12') # API central\n",
    "\n",
    "            API1.errors_as_exceptions(True)\n",
    "\n",
    "            # Central's API\n",
    "            API2 = smartsheet.Smartsheet(\"H8mqAo60J2zGHSrJEwmlMoY88A9yjgCo6RnSI\") # API south central\n",
    "            API2.errors_as_exceptions(True)\n",
    "            break\n",
    "\n",
    "        #northern Set up\n",
    "        elif user == 'northern':\n",
    "            print('Northern Audit Started')\n",
    "            # Counties:\n",
    "            county = ['LASSEN', 'PLUMAS', 'SISKIYOU', 'TRINITY', 'SHASTA', 'TEHAMA']\n",
    "\n",
    "            # Division. * northern goes here becasue we want everything not in northern Division\n",
    "            division = 'Central Division'\n",
    "\n",
    "            # smartsheets Shet IDs\n",
    "            sheet_id1 = '3589680131270532' # BOP\n",
    "            sheet_id2= '5367491607193476' # ANVIL\n",
    "\n",
    "            # Central's API\n",
    "            API1 = smartsheet.Smartsheet('6w7vusWNdvdm9TJmjImZfbh0SPQgi3HJaekNb') # API BOP\n",
    "\n",
    "            API1.errors_as_exceptions(True)\n",
    "\n",
    "            # Central's API\n",
    "            API2 = smartsheet.Smartsheet(\"MQQmCjvvFWLKBoX9K7A33rHSoLnuj1MGVJuVK\") # API ANVIL\n",
    "            API2.errors_as_exceptions(True)\n",
    "            break\n",
    "    except ValueError:\n",
    "        print(\"\\ninvaild input Only 'Central or Northern' allowed\")"
   ]
  },
  {
   "cell_type": "markdown",
   "id": "33a6bdd3",
   "metadata": {},
   "source": [
    "# Function to set up Smartsheet into a readable Database"
   ]
  },
  {
   "cell_type": "code",
   "execution_count": 4,
   "id": "ef9feff7",
   "metadata": {},
   "outputs": [],
   "source": [
    "def smartsheet_loadup(sheet):\n",
    "    columns = [col.title for col in sheet.columns]\n",
    "    rows = []\n",
    "    for row in sheet.rows:\n",
    "        cells = []\n",
    "        for cell in row.cells:\n",
    "            cells.append(cell.value)\n",
    "        rows.append(cells)\n",
    "    df = pd.DataFrame(rows, columns=columns)\n",
    "    return df\n",
    "\n",
    "Area1_SS = smartsheet_loadup(API1.Sheets.get_sheet(sheet_id1))\n",
    "Area2_SS = smartsheet_loadup(API2.Sheets.get_sheet(sheet_id2))\n",
    "\n",
    "df_both = pd.concat([Area1_SS,Area2_SS])"
   ]
  },
  {
   "cell_type": "markdown",
   "id": "64233f5d",
   "metadata": {},
   "source": [
    "# Read in Soil Tracker and Clean up"
   ]
  },
  {
   "cell_type": "code",
   "execution_count": 5,
   "id": "46932c7e",
   "metadata": {},
   "outputs": [],
   "source": [
    "path_soilTracker = r\"C:\\Users\\jacque.trahan\\Downloads\\Soil Sampling Tracker*\"\n",
    "load_soil = glob.glob(path_soilTracker + csv)\n",
    "soils_sharePoint = pd.read_csv(max(load_soil, key=os.path.getctime))\n",
    "\n",
    "soils_sharePoint = soils_sharePoint[~(soils_sharePoint['Division'].isin([division]))]"
   ]
  },
  {
   "cell_type": "code",
   "execution_count": 6,
   "id": "66476c2b",
   "metadata": {},
   "outputs": [],
   "source": [
    "# Sharepoint Columns\n",
    "soils_sharePoint = soils_sharePoint[['APN', 'APN Status', 'Field Notes', 'Tt Recommendation','Date Collected',\n",
    "                                                                              \"Date Lab Recd\",\n",
    "                                                                       'State Recommendation', 'State Rec Details',\n",
    "                                                                       'DTSC Mercury Site','State Recommendation',\n",
    "                                                                      'State Rec Details','State Rec Date','QC State Recs','ExpectedResultsDate',\n",
    "                                                                      'Current Sample Event','Division', 'Recs Notes']]"
   ]
  },
  {
   "cell_type": "code",
   "execution_count": 7,
   "id": "106a1b7d",
   "metadata": {},
   "outputs": [],
   "source": [
    "# Smartsheet column set up\n",
    "SS_soils = df_both.copy()\n",
    "SS_soils = SS_soils[['APN_ROW Segment','Street #', 'Street Name', 'County','Structural Status','Debris Crew',\n",
    "                                   'Soil Sample', 'Soil Sample Results Rec\\'d from Lab',\"Soil Sample Results\",\n",
    "                                  'Soil Boring','Soil Boring Results Rec\\'d from Lab', 'Soil Boring Results',\n",
    "                                  'Soil Re-scrape',\"Re-scrape Results Rec'd from Lab\", \"Re-scrape Results\",\n",
    "                                  'Soil Re-scrape 2',\"Re-scrape 2 Results Rec'd from Lab\", \"Re-scrape 2 Results\",\n",
    "                                  'Soil Rescrape 3',\"Re-scrape 3 Results Rec'd from Lab\", 'Re-scrape 3 Results',\n",
    "                                  \"Soil Samples Approved\"]]\n"
   ]
  },
  {
   "cell_type": "markdown",
   "id": "72ebdd8d",
   "metadata": {},
   "source": [
    "# Fuction to check location of last date entered in smartsheets"
   ]
  },
  {
   "cell_type": "code",
   "execution_count": 8,
   "id": "8286718b",
   "metadata": {},
   "outputs": [],
   "source": [
    "def soil_location(df):\n",
    "    \"\"\"Prints out column header if the cell is not blank\"\"\"\n",
    "    if pd.notna(df[\"Soil Samples Approved\"]):\n",
    "        return \"Soil Samples Approved\"\n",
    "    \n",
    "    elif pd.notnull(df['Re-scrape 3 Results']):\n",
    "        return 'Re-scrape 3 Results'\n",
    "    \n",
    "    elif pd.notnull(df[\"Re-scrape 3 Results Rec'd from Lab\"]):\n",
    "        return \"Re-scrape 3 Results Rec'd from Lab\"\n",
    "    \n",
    "    elif pd.notnull(df[\"Re-scrape 2 Results\"]):\n",
    "        return \"Re-scrape 2 Results\"\n",
    "    \n",
    "    elif pd.notnull(df[\"Re-scrape 2 Results Rec'd from Lab\"]):\n",
    "        return \"Re-scrape 2 Results Rec'd from Lab\"\n",
    "    \n",
    "    elif pd.notnull(df['Soil Re-scrape 2']):\n",
    "        return 'Soil Re-scrape 2'\n",
    "    \n",
    "    elif pd.notnull(df[\"Re-scrape Results\"]):\n",
    "        return \"Re-scrape Results\"\n",
    "    \n",
    "    elif pd.notnull(df[\"Re-scrape Results Rec'd from Lab\"]):\n",
    "        return \"Re-scrape Results Rec'd from Lab\"\n",
    "    \n",
    "    elif pd.notnull(df['Soil Re-scrape']):\n",
    "        return 'Soil Re-scrape'\n",
    "    \n",
    "    elif pd.notnull(df['Soil Boring Results']):\n",
    "        return 'Soil Boring Results'\n",
    "    \n",
    "    elif pd.notnull(df['Soil Boring Results Rec\\'d from Lab']):\n",
    "        return 'Soil Boring Results Rec\\'d from Lab'\n",
    "    \n",
    "    elif pd.notnull(df['Soil Boring']):\n",
    "        return 'Soil Boring'\n",
    "    \n",
    "    elif pd.notnull(df[\"Soil Sample Results\"]):\n",
    "        return \"Soil Sample Results\"\n",
    "    \n",
    "    elif pd.notnull(df['Soil Sample Results Rec\\'d from Lab']):\n",
    "        return 'Soil Sample Results Rec\\'d from Lab'\n",
    "    \n",
    "    elif pd.notnull(df['Soil Sample']):\n",
    "        return 'Soil Sample'\n",
    "    "
   ]
  },
  {
   "cell_type": "code",
   "execution_count": 9,
   "id": "18271c23",
   "metadata": {},
   "outputs": [],
   "source": [
    "SS_soils.insert(SS_soils.columns.get_loc(\"Soil Samples Approved\")+1, \"Location in smartsheets\",\n",
    "                      SS_soils.apply(soil_location, axis=1))\n",
    "\n"
   ]
  },
  {
   "cell_type": "markdown",
   "id": "c2edd119",
   "metadata": {},
   "source": [
    "# Merge Smasrtsheets and Soil Tracker adn Clean up"
   ]
  },
  {
   "cell_type": "code",
   "execution_count": 17,
   "id": "9b5623be",
   "metadata": {},
   "outputs": [],
   "source": [
    "Soil_final = SS_soils.merge(soils_sharePoint,\n",
    "                              how='left',\n",
    "                              left_on='APN_ROW Segment',\n",
    "                              right_on='APN')"
   ]
  },
  {
   "cell_type": "markdown",
   "id": "01f1c0bf",
   "metadata": {},
   "source": [
    "# change names of columns"
   ]
  },
  {
   "cell_type": "code",
   "execution_count": 18,
   "id": "44ac3ba0",
   "metadata": {},
   "outputs": [],
   "source": [
    "Soil_final.rename(columns={'Soil Sample Results Rec\\'d from Lab': '1st Lab sample received-lab',\n",
    "                          'Soil Boring Results Rec\\'d from Lab': 'Boring 1st result received-lab',\n",
    "                          \"Re-scrape Results Rec'd from Lab\": 'rescrape 1st recived-lab',\n",
    "                          \"Re-scrape 2 Results Rec'd from Lab\": '2nd rescrape-lab',\n",
    "                          \"Re-scrape 3 Results Rec'd from Lab\": \"3rd rescrape-lab\"}, inplace=True)"
   ]
  },
  {
   "cell_type": "markdown",
   "id": "9350d41d",
   "metadata": {},
   "source": [
    "# Function to check if dates are greater than another date adn should not be"
   ]
  },
  {
   "cell_type": "code",
   "execution_count": 19,
   "id": "ed7f85a0",
   "metadata": {},
   "outputs": [],
   "source": [
    "def Soil_Sample(df):\n",
    "    if df['Soil Sample'] > df['1st Lab sample received-lab']:\n",
    "        return 'Check Soil Sample Dates'\n",
    "    else:\n",
    "        return 'Match'\n",
    "    \n",
    "def Soil_Boring(df):\n",
    "    if df['Soil Boring'] > df['Boring 1st result received-lab']:\n",
    "        return 'Check Soil Boring Dates'\n",
    "    else:\n",
    "        return 'Match'\n",
    "    \n",
    "def Soil_Rescrape(df):\n",
    "    if df['Soil Re-scrape'] > df['rescrape 1st recived-lab']:\n",
    "        return 'Check Soil Re-scrape Dates'\n",
    "    else:\n",
    "        return 'Match'\n",
    "def Soil_Rescrape2(df):    \n",
    "    if df['Soil Re-scrape 2'] > df['2nd rescrape-lab']:\n",
    "        return 'Check Soil Re-scrape 2 Dates'\n",
    "    else:\n",
    "        return 'Match'\n",
    "\n",
    "def Soil_Rescrape3(df):    \n",
    "    if df['Soil Rescrape 3'] > df[\"3rd rescrape-lab\"]:\n",
    "        return 'Check Soil Rescrape 3 Dates'\n",
    "    else:\n",
    "        return 'Match'"
   ]
  },
  {
   "cell_type": "code",
   "execution_count": 20,
   "id": "b2e9ed88",
   "metadata": {},
   "outputs": [],
   "source": [
    "# Final Column set up. Column order\n",
    "Soil_final = Soil_final.copy()\n",
    "Soil_final = Soil_final[['APN_ROW Segment','Street #', 'Street Name', 'County','Structural Status','Debris Crew',\n",
    "                         \"Location in smartsheets\", 'APN Status',\n",
    "                         'Soil Sample','Date Collected', '1st Lab sample received-lab',\"Soil Sample Results\",\n",
    "                         'Recs Notes','Current Sample Event','ExpectedResultsDate',\"Soil Samples Approved\",\n",
    "                         \n",
    "                      'Soil Boring','Boring 1st result received-lab', 'Soil Boring Results',\n",
    "                         \n",
    "                      'Soil Re-scrape',\"rescrape 1st recived-lab\", \"Re-scrape Results\",\n",
    "                                             \n",
    "                      'Soil Re-scrape 2',\"2nd rescrape-lab\", \"Re-scrape 2 Results\",\n",
    "                                                \n",
    "                      'Soil Rescrape 3',\"3rd rescrape-lab\", 'Re-scrape 3 Results',\n",
    "                         \n",
    "                        'Field Notes', 'Tt Recommendation', 'State Recommendation', 'State Rec Details',\n",
    "                         'DTSC Mercury Site',\n",
    "                         'State Rec Details','State Rec Date','QC State Recs',\n",
    "                         'Division']]"
   ]
  },
  {
   "cell_type": "markdown",
   "id": "047962e2",
   "metadata": {},
   "source": [
    "# Final Data clean up after merge"
   ]
  },
  {
   "cell_type": "code",
   "execution_count": 21,
   "id": "a1da394a",
   "metadata": {},
   "outputs": [],
   "source": [
    "Soil_final['Soil Sample'] = pd.to_datetime(Soil_final['Soil Sample']).fillna(pd.NaT)\n",
    "Soil_final['1st Lab sample received-lab'] = pd.to_datetime(Soil_final['1st Lab sample received-lab']).fillna(pd.NaT)\n",
    "\n",
    "Soil_final['Soil Re-scrape 2'] = pd.to_datetime(Soil_final['Soil Re-scrape 2']).fillna(pd.NaT)\n",
    "Soil_final[\"2nd rescrape-lab\"] = pd.to_datetime(Soil_final[\"2nd rescrape-lab\"]).fillna(pd.NaT)\n",
    "\n",
    "Soil_final['Soil Rescrape 3'] = pd.to_datetime(Soil_final['Soil Rescrape 3']).fillna(pd.NaT)\n",
    "Soil_final[\"3rd rescrape-lab\"] = pd.to_datetime(Soil_final[\"3rd rescrape-lab\"]).fillna(pd.NaT)\n",
    "\n",
    "Soil_final['Soil Boring'] = pd.to_datetime(Soil_final['Soil Boring']).fillna(pd.NaT)\n",
    "Soil_final['Boring 1st result received-lab'] = pd.to_datetime(Soil_final['Boring 1st result received-lab']).fillna(pd.NaT)\n",
    "\n",
    "Soil_final['Soil Re-scrape'] = pd.to_datetime(Soil_final['Soil Re-scrape']).fillna(pd.NaT)\n",
    "Soil_final[\"rescrape 1st recived-lab\"] = pd.to_datetime(Soil_final[\"rescrape 1st recived-lab\"]).fillna(pd.NaT)\n"
   ]
  },
  {
   "cell_type": "markdown",
   "id": "98d6a9a8",
   "metadata": {},
   "source": [
    "# Audit Check for matches"
   ]
  },
  {
   "cell_type": "code",
   "execution_count": 22,
   "id": "68b62c4b",
   "metadata": {},
   "outputs": [],
   "source": [
    "# sample date check\n",
    "Soil_final.insert(Soil_final.columns.get_loc(\"Soil Samples Approved\")+1, 'Soil_Sample Date checks-M',\n",
    "                 Soil_final.apply(Soil_Sample, axis=1))\n",
    "\n",
    "# Soil_Boring Check\n",
    "Soil_final.insert(Soil_final.columns.get_loc('Soil Boring Results')+1, 'Soil_Boring Date checks-M',\n",
    "                 Soil_final.apply(Soil_Boring, axis=1))\n",
    "\n",
    "#Soil_Rescrape\n",
    "Soil_final.insert(Soil_final.columns.get_loc(\"Re-scrape Results\")+1, 'Soil_Rescrape Date checks-M',\n",
    "                 Soil_final.apply(Soil_Rescrape, axis=1))\n",
    "\n",
    "#Soil_Rescrape2\n",
    "Soil_final.insert(Soil_final.columns.get_loc(\"Re-scrape 2 Results\")+1, 'Soil_Rescrape2 Date checks-M',\n",
    "                 Soil_final.apply(Soil_Rescrape2, axis=1))\n",
    "\n",
    "#Soil_Rescrape3\n",
    "Soil_final.insert(Soil_final.columns.get_loc('Re-scrape 3 Results')+1, 'Soil_Rescrape3 Date checks-M',\n",
    "                 Soil_final.apply(Soil_Rescrape3, axis=1))\n",
    "\n",
    "Soil_final.set_index('APN_ROW Segment', inplace=True)\n",
    "Soil_final.to_excel('Check Soil APN status vs structual status and current location in smartsheets.xlsx')"
   ]
  },
  {
   "cell_type": "markdown",
   "id": "eb576cee",
   "metadata": {},
   "source": [
    "# No sample date in SS, But sampled in Soil tracker"
   ]
  },
  {
   "cell_type": "code",
   "execution_count": 23,
   "id": "ab7a2775",
   "metadata": {},
   "outputs": [],
   "source": [
    "Soil_final = Soil_final[(Soil_final['Soil Sample'].isnull()) & (Soil_final['Date Collected'].notnull())]\n",
    "\n",
    "Soil_final = Soil_final[['Street #', 'Street Name', 'County', 'Structural Status', 'Debris Crew',\n",
    "        'APN Status', 'Soil Sample','Date Collected']]\n",
    "\n",
    "# Soil_Sample_date_checks.set_index('APN_ROW Segment', inplace=True)\n",
    "Soil_final.to_excel('No Soil Sample Dates in smartsheets.xlsx')"
   ]
  },
  {
   "cell_type": "code",
   "execution_count": null,
   "id": "e662baff",
   "metadata": {},
   "outputs": [],
   "source": []
  },
  {
   "cell_type": "code",
   "execution_count": null,
   "id": "d638da90",
   "metadata": {},
   "outputs": [],
   "source": []
  }
 ],
 "metadata": {
  "kernelspec": {
   "display_name": "Python 3",
   "language": "python",
   "name": "python3"
  },
  "language_info": {
   "codemirror_mode": {
    "name": "ipython",
    "version": 3
   },
   "file_extension": ".py",
   "mimetype": "text/x-python",
   "name": "python",
   "nbconvert_exporter": "python",
   "pygments_lexer": "ipython3",
   "version": "3.9.4"
  }
 },
 "nbformat": 4,
 "nbformat_minor": 5
}
