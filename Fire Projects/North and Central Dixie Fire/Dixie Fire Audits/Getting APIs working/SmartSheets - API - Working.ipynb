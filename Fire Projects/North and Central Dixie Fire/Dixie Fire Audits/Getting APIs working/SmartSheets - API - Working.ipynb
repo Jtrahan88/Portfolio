{
 "cells": [
  {
   "cell_type": "code",
   "execution_count": null,
   "id": "5866fb75",
   "metadata": {},
   "outputs": [],
   "source": [
    "# This is the set up to use SMart Sheets API"
   ]
  },
  {
   "cell_type": "markdown",
   "id": "0b4a5d8d",
   "metadata": {},
   "source": [
    "# Imports"
   ]
  },
  {
   "cell_type": "code",
   "execution_count": 1,
   "id": "cecd56c4",
   "metadata": {},
   "outputs": [],
   "source": [
    "#libraies:\n",
    "import pandas as pd\n",
    "import numpy as np\n",
    "import smartsheet\n",
    "\n",
    "#Variables\n",
    "# random\n",
    "excel = '.xlsx'\n",
    "csv = '.csv'\n",
    "\n",
    "# smartsheets Sheet IDs\n",
    "Central_id = '1844440261257092'\n",
    "South_id= '6292262490531716'\n",
    "# APIs\n",
    "Central_API = '6jJFxnAfFsDErU0BSr1Ae4D6cHq0zenczVR12'\n",
    "South_API = \"H8mqAo60J2zGHSrJEwmlMoY88A9yjgCo6RnSI\"\n",
    "\n",
    "# Central's Load in API to find sources info\n",
    "Central = smartsheet.Smartsheet(Central_API) #API\n",
    "\n",
    "Central.errors_as_exceptions(True)\n",
    "\n",
    "# South's Load in API to find sources info\n",
    "South = smartsheet.Smartsheet(South_API) # API\n",
    "South.errors_as_exceptions(True)\n",
    "\n",
    "#download smartsheets to any folder you need\n",
    "# Central.Sheets.get_sheet_as_excel(Central_id, download_path=r\"C:\\Users\\jacque.trahan\\Downloads\")\n",
    "# South.Sheets.get_sheet_as_excel(South_id, download_path=r\"C:\\Users\\jacque.trahan\\Downloads\") \n",
    "\n",
    "\n",
    "#Google Sheets\n",
    "#Sheet ID comes right after /d/ in the URL\n",
    "Google_sheet_ID= '1O2dmdhEo5hJVAgRVDl4M4n3_v-KqHS56q3OZVdpZANU'\n",
    "# name of tab you want to use\n",
    "Google_sheets_name = 'Tree RTR Tracker'\n",
    "\n",
    "# this is tricky. after /export? we must put format=csv#id={Sheet Name}   -> manually to make this work\n",
    "url = f'https://docs.google.com/spreadsheets/d/{Google_sheet_ID}/export?format=csv#id={Google_sheets_name}'\n",
    "\n",
    "# Function to read in column titles and row vales and make out data frames from smartsheets\n",
    "def smartsheet_loadup(sheet):\n",
    "    columns = [col.title for col in sheet.columns]\n",
    "    rows = []\n",
    "    for row in sheet.rows:\n",
    "        cells = []\n",
    "        for cell in row.cells:\n",
    "            cells.append(cell.value)\n",
    "        rows.append(cells)\n",
    "    df = pd.DataFrame(rows, columns=columns)\n",
    "    return df\n",
    "\n",
    "Central_SS = smartsheet_loadup(Central.Sheets.get_sheet(Central_id))\n",
    "South_SS = smartsheet_loadup(South.Sheets.get_sheet(South_id))\n",
    "\n",
    "df_both = pd.concat([Central_SS,South_SS])\n",
    "\n",
    "\n",
    "\n",
    "\n"
   ]
  },
  {
   "cell_type": "markdown",
   "id": "e0b5daaf",
   "metadata": {},
   "source": [
    "# The break down"
   ]
  },
  {
   "cell_type": "code",
   "execution_count": 3,
   "id": "1294b042",
   "metadata": {},
   "outputs": [],
   "source": [
    "# #libraies:\n",
    "# import pandas as pd\n",
    "# import numpy as np\n",
    "# import smartsheet\n",
    "\n",
    "# #Variables\n",
    "# # random\n",
    "# excel = '.xlsx'\n",
    "# csv = '.csv'\n",
    "\n",
    "# # smartsheets Sheet IDs\n",
    "# Central_id = '1844440261257092'\n",
    "# South_id= '6292262490531716'\n",
    "# # APIs\n",
    "# Central_API = '6jJFxnAfFsDErU0BSr1Ae4D6cHq0zenczVR12'\n",
    "# South_API = \"H8mqAo60J2zGHSrJEwmlMoY88A9yjgCo6RnSI\""
   ]
  },
  {
   "cell_type": "code",
   "execution_count": 4,
   "id": "d2ad5ddf",
   "metadata": {},
   "outputs": [],
   "source": [
    "# s = smartsheet.Smartsheet(Central_API) # gets access to the smartshet document we need\n",
    "\n",
    "# central = s.Sheets.get_sheet(Central_id,column) # calls the correct sheet we need in smartsheets"
   ]
  },
  {
   "cell_type": "code",
   "execution_count": 35,
   "id": "4f28541d",
   "metadata": {},
   "outputs": [],
   "source": [
    "# unsure how to see teh raw data but the below will set up a data frame for us\n",
    "\n",
    "# r=[]\n",
    "# for row in central.rows:\n",
    "#     cells=[]\n",
    "#     for cell in row.cells:\n",
    "#         cells.append(cell.value)\n",
    "#     r.append(cells)\n",
    "#     print(r[0])"
   ]
  },
  {
   "cell_type": "code",
   "execution_count": null,
   "id": "123d1232",
   "metadata": {},
   "outputs": [],
   "source": []
  }
 ],
 "metadata": {
  "kernelspec": {
   "display_name": "Python 3",
   "language": "python",
   "name": "python3"
  },
  "language_info": {
   "codemirror_mode": {
    "name": "ipython",
    "version": 3
   },
   "file_extension": ".py",
   "mimetype": "text/x-python",
   "name": "python",
   "nbconvert_exporter": "python",
   "pygments_lexer": "ipython3",
   "version": "3.9.4"
  }
 },
 "nbformat": 4,
 "nbformat_minor": 5
}
