{
 "cells": [
  {
   "cell_type": "markdown",
   "id": "838748b6",
   "metadata": {},
   "source": [
    "# Site Assessment Audit:\n",
    "### outputs:\n",
    "* Central Dixie Fire SA Audit\n",
    "* Tetra Forms APN counts SA central\n",
    "* SA APN counts central-Power BI\n",
    "* SA APN counts central-Share Point\n",
    "\n",
    "\n",
    "## Downloads needed:\n",
    "* 2 Smartsheets both Central and South or BOP and ANVIL\n",
    "* 1- Tetrat forms: Site survey form\n",
    "* Power BI SA tracker\n",
    "* Site Assessment tracker - Sharepoint\n"
   ]
  },
  {
   "cell_type": "markdown",
   "id": "51e0470e",
   "metadata": {},
   "source": [
    "# Libraires"
   ]
  },
  {
   "cell_type": "code",
   "execution_count": 1,
   "id": "77d41349",
   "metadata": {},
   "outputs": [],
   "source": [
    "import pandas as pd\n",
    "import glob\n",
    "import numpy as np\n",
    "import os\n",
    "import smartsheet\n",
    "import datetime"
   ]
  },
  {
   "cell_type": "markdown",
   "id": "9b06cdbd",
   "metadata": {},
   "source": [
    "# Variables"
   ]
  },
  {
   "cell_type": "code",
   "execution_count": 2,
   "id": "74664bef",
   "metadata": {},
   "outputs": [],
   "source": [
    "csv = '.csv'\n",
    "excel = '.xlsx'"
   ]
  },
  {
   "cell_type": "code",
   "execution_count": 3,
   "id": "ea3990e6",
   "metadata": {},
   "outputs": [
    {
     "name": "stdout",
     "output_type": "stream",
     "text": [
      "What project are we Auditing?: Central or Northern aja\n",
      "What project are we Auditing?: Central or Northern lakjhgf\n",
      "What project are we Auditing?: Central or Northern northern\n",
      "Northern Audit Started\n"
     ]
    }
   ],
   "source": [
    "while True:\n",
    "    user = input('What project are we Auditing?: Central or Northern ').lower()\n",
    "    try:\n",
    "\n",
    "        #central Set up\n",
    "        if user == 'central':\n",
    "            print('Central Audit Started')\n",
    "            # Counties:\n",
    "            county= ['ALPINE', 'EL DORADO', 'LAKE', 'NEVADA', 'PLACER', 'TUOLUMNE', 'MENDOCINO', 'TULARE', 'KERN']\n",
    "\n",
    "            # Division. * northern goes here becasue we want everything not in northern Division\n",
    "            division = 'Northern Division'\n",
    "\n",
    "            # smartsheets Shet IDs\n",
    "            sheet_id1 = '1844440261257092' # central\n",
    "            sheet_id2= '6292262490531716' # south central\n",
    "\n",
    "            # Central's API\n",
    "            API1 = smartsheet.Smartsheet('6jJFxnAfFsDErU0BSr1Ae4D6cHq0zenczVR12') # API central\n",
    "\n",
    "            API1.errors_as_exceptions(True)\n",
    "\n",
    "            # Central's API\n",
    "            API2 = smartsheet.Smartsheet(\"H8mqAo60J2zGHSrJEwmlMoY88A9yjgCo6RnSI\") # API south central\n",
    "            API2.errors_as_exceptions(True)\n",
    "            break\n",
    "\n",
    "        #northern Set up\n",
    "        elif user == 'northern':\n",
    "            print('Northern Audit Started')\n",
    "            # Counties:\n",
    "            county = ['LASSEN', 'PLUMAS', 'SISKIYOU', 'TRINITY', 'SHASTA', 'TEHAMA']\n",
    "\n",
    "            # Division. * northern goes here becasue we want everything not in northern Division\n",
    "            division = 'Central Division'\n",
    "\n",
    "            # smartsheets Shet IDs\n",
    "            sheet_id1 = '3589680131270532' # BOP\n",
    "            sheet_id2= '5367491607193476' # ANVIL\n",
    "\n",
    "            # Central's API\n",
    "            API1 = smartsheet.Smartsheet('6w7vusWNdvdm9TJmjImZfbh0SPQgi3HJaekNb') # API BOP\n",
    "\n",
    "            API1.errors_as_exceptions(True)\n",
    "\n",
    "            # Central's API\n",
    "            API2 = smartsheet.Smartsheet(\"MQQmCjvvFWLKBoX9K7A33rHSoLnuj1MGVJuVK\") # API ANVIL\n",
    "            API2.errors_as_exceptions(True)\n",
    "            break\n",
    "    except ValueError:\n",
    "        print(\"\\ninvaild input Only 'Central or Northern' allowed\")"
   ]
  },
  {
   "cell_type": "markdown",
   "id": "c688f068",
   "metadata": {},
   "source": [
    "# Function to set up Smartsheet into a readable Database"
   ]
  },
  {
   "cell_type": "code",
   "execution_count": 4,
   "id": "dc50da67",
   "metadata": {},
   "outputs": [],
   "source": [
    "def smartsheet_loadup(sheet):\n",
    "    columns = [col.title for col in sheet.columns]\n",
    "    rows = []\n",
    "    for row in sheet.rows:\n",
    "        cells = []\n",
    "        for cell in row.cells:\n",
    "            cells.append(cell.value)\n",
    "        rows.append(cells)\n",
    "    df = pd.DataFrame(rows, columns=columns)\n",
    "    return df\n",
    "\n",
    "Area1_SS = smartsheet_loadup(API1.Sheets.get_sheet(sheet_id1))\n",
    "Area2_SS = smartsheet_loadup(API2.Sheets.get_sheet(sheet_id2))\n",
    "\n",
    "df_both = pd.concat([Area1_SS,Area2_SS])"
   ]
  },
  {
   "cell_type": "markdown",
   "id": "3620aebe",
   "metadata": {},
   "source": [
    "# Share point"
   ]
  },
  {
   "cell_type": "code",
   "execution_count": 5,
   "id": "82a84d32",
   "metadata": {},
   "outputs": [],
   "source": [
    "SA_sharepoint_path = r\"C:\\Users\\jacque.trahan\\Downloads\\Site Assessment Tracker*\"\n",
    "Share_load = glob.glob(SA_sharepoint_path + csv)\n",
    "sa_share = pd.read_csv(max(Share_load, key=os.path.getctime))"
   ]
  },
  {
   "cell_type": "markdown",
   "id": "06bba920",
   "metadata": {},
   "source": [
    "# Power Bi (APN Counts only)"
   ]
  },
  {
   "cell_type": "code",
   "execution_count": 6,
   "id": "bbb47fca",
   "metadata": {
    "scrolled": false
   },
   "outputs": [],
   "source": [
    "sa_powerBi_path = r\"C:\\Users\\jacque.trahan\\Downloads\\SA Tracker-Power BI*\"\n",
    "bi_load = glob.glob(sa_powerBi_path + csv)\n",
    "power_bi_sa = pd.read_csv(max(bi_load, key=os.path.getctime))"
   ]
  },
  {
   "cell_type": "code",
   "execution_count": 7,
   "id": "bd0d3503",
   "metadata": {},
   "outputs": [],
   "source": [
    "sa_bi = power_bi_sa.copy()"
   ]
  },
  {
   "cell_type": "markdown",
   "id": "d6d0e126",
   "metadata": {},
   "source": [
    "# Tetra forms"
   ]
  },
  {
   "cell_type": "code",
   "execution_count": 8,
   "id": "e2e84a1f",
   "metadata": {},
   "outputs": [],
   "source": [
    "df3 =pd.read_excel(\"../../tetra forms ASB and SA/SA_TetraForms.xlsx\", parse_dates=True)"
   ]
  },
  {
   "cell_type": "code",
   "execution_count": 9,
   "id": "4d51988b",
   "metadata": {},
   "outputs": [],
   "source": [
    "smartsheets = df_both.copy()\n",
    "sa = sa_share.copy()\n",
    "tetarforms = df3.copy()"
   ]
  },
  {
   "cell_type": "code",
   "execution_count": 10,
   "id": "75677458",
   "metadata": {},
   "outputs": [],
   "source": [
    "tetarforms = tetarforms[tetarforms['record_void'] != \"Yes\"]"
   ]
  },
  {
   "cell_type": "markdown",
   "id": "fcd3fcef",
   "metadata": {},
   "source": [
    "# Site Assessment Cleaning"
   ]
  },
  {
   "cell_type": "code",
   "execution_count": 11,
   "id": "b7ecf380",
   "metadata": {},
   "outputs": [],
   "source": [
    "# sa column selection\n",
    "sa = sa[['APN','Date Completed','Automobiles', 'Motorcycle', 'ATV/UTV/Snowmobiles',\n",
    "       'Ag/Commercial/Construction', 'RV', 'Trailers', 'Vessel', 'Chimney','Division']]"
   ]
  },
  {
   "cell_type": "code",
   "execution_count": 12,
   "id": "5ad9e466",
   "metadata": {},
   "outputs": [],
   "source": [
    "# only use central division APNs and parcel information\n",
    "sa = sa[~sa['Division'].isin([division])]"
   ]
  },
  {
   "cell_type": "markdown",
   "id": "3d5fff27",
   "metadata": {},
   "source": [
    "### Get the value counts of APNS in Sa Share Point"
   ]
  },
  {
   "cell_type": "code",
   "execution_count": 13,
   "id": "89f4f645",
   "metadata": {
    "scrolled": true
   },
   "outputs": [],
   "source": [
    "# share point\n",
    "sa['APN'].value_counts().to_excel('SA APN counts central-Share Point.xlsx')\n",
    "\n",
    "# power bi\n",
    "sa_bi['APN'].value_counts().to_excel('SA APN counts central-Power BI.xlsx')"
   ]
  },
  {
   "cell_type": "code",
   "execution_count": 14,
   "id": "1dc8c827",
   "metadata": {},
   "outputs": [],
   "source": [
    "# replace all 0s to No and everything greater than 0 = 'yes'\n",
    "sa['Chimney'] = np.where(sa['Chimney'] > 0, 'Yes', 'No')"
   ]
  },
  {
   "cell_type": "code",
   "execution_count": 15,
   "id": "ce1f3e83",
   "metadata": {},
   "outputs": [],
   "source": [
    "# set up date columns\n",
    "sa['Date Completed'] = pd.to_datetime(sa['Date Completed']).dt.date"
   ]
  },
  {
   "cell_type": "code",
   "execution_count": 16,
   "id": "873c5ddb",
   "metadata": {},
   "outputs": [],
   "source": [
    "sa.rename(columns={'Date Completed': 'SA Survey Date','APN': 'APN_SA','Motorcycle':'Motorcycle_SA',\n",
    "                  'RV': 'RV_SA', 'Trailers':'Trailers_SA', 'Vessel': 'Vessel_SA'}, inplace=True)"
   ]
  },
  {
   "cell_type": "code",
   "execution_count": 17,
   "id": "b1644e8c",
   "metadata": {},
   "outputs": [],
   "source": [
    "# set up numerical values for al vehicles\n",
    "sa['Automobiles'] = pd.to_numeric(sa['Automobiles'])\n",
    "sa['Motorcycle_SA'] = pd.to_numeric(sa['Motorcycle_SA'])\n",
    "sa['ATV/UTV/Snowmobiles'] = pd.to_numeric(sa['ATV/UTV/Snowmobiles'])\n",
    "sa['Ag/Commercial/Construction'] = pd.to_numeric(sa['Ag/Commercial/Construction'])\n",
    "sa['RV_SA'] = pd.to_numeric(sa['RV_SA'])\n",
    "sa['Trailers_SA'] = pd.to_numeric(sa['Trailers_SA'])\n",
    "sa['Vessel_SA'] = pd.to_numeric(sa['Vessel_SA'])"
   ]
  },
  {
   "cell_type": "code",
   "execution_count": 18,
   "id": "14e578c1",
   "metadata": {},
   "outputs": [],
   "source": [
    "sa.fillna({'SA Survey Date':0,\n",
    "           'Automobiles': 0,\n",
    "           'Motorcycle_SA': 0,\n",
    "           'ATV/UTV/Snowmobiles': 0,\n",
    "           'Ag/Commercial/Construction': 0,\n",
    "           'RV_SA': 0,\n",
    "           'Trailers_SA': 0,\n",
    "           'Vessel_SA': 0}, inplace=True)"
   ]
  },
  {
   "cell_type": "code",
   "execution_count": 19,
   "id": "9f98177d",
   "metadata": {},
   "outputs": [],
   "source": [
    "sa.columns = map(str.upper, sa.columns)"
   ]
  },
  {
   "cell_type": "markdown",
   "id": "2f79acaf",
   "metadata": {},
   "source": [
    "# Tetra Forms Cleaning"
   ]
  },
  {
   "cell_type": "code",
   "execution_count": 20,
   "id": "5c656c81",
   "metadata": {},
   "outputs": [],
   "source": [
    "# get just the counties we need\n",
    "tetarforms = tetarforms[tetarforms['county'].isin(county)]"
   ]
  },
  {
   "cell_type": "markdown",
   "id": "ee1871b1",
   "metadata": {},
   "source": [
    "### Get the value counts of APNS in Tetra Forms for central"
   ]
  },
  {
   "cell_type": "code",
   "execution_count": 21,
   "id": "de9cd05b",
   "metadata": {},
   "outputs": [],
   "source": [
    "tetarforms['apn'].value_counts().to_excel('Tetra Forms APN counts SA central.xlsx')"
   ]
  },
  {
   "cell_type": "code",
   "execution_count": 22,
   "id": "d88f84f3",
   "metadata": {},
   "outputs": [],
   "source": [
    "tetarforms[(tetarforms['survey_date'] == \"11/9/2021; 11/18/2021\")] = 11/18/2021"
   ]
  },
  {
   "cell_type": "code",
   "execution_count": 23,
   "id": "20cc48a3",
   "metadata": {},
   "outputs": [],
   "source": [
    "# format dates \n",
    "tetarforms['survey_date'] = pd.to_datetime(tetarforms['survey_date']).dt.date"
   ]
  },
  {
   "cell_type": "code",
   "execution_count": 24,
   "id": "a810160e",
   "metadata": {},
   "outputs": [],
   "source": [
    "#get columsn we need\n",
    "tetarforms = tetarforms[['apn','survey_date','chimney_quantity', 'automobile_quantity', 'motorcycle_quantity',\n",
    "                         'atv_utv_quantity', 'comm_equip_quantity', 'rvs_quantity', 'trailer_quantity', 'vessel_quantity']]"
   ]
  },
  {
   "cell_type": "code",
   "execution_count": 25,
   "id": "281ef500",
   "metadata": {},
   "outputs": [],
   "source": [
    "tetarforms.fillna({'survey_date':0,\n",
    "           'automobile_quantity': 0,\n",
    "           'motorcycle_quantity': 0,\n",
    "           'atv_utv_quantity': 0,\n",
    "           'comm_equip_quantity': 0,\n",
    "           'rvs_quantity': 0,\n",
    "           'trailer_quantity': 0,\n",
    "           'vessel_quantity': 0}, inplace=True)"
   ]
  },
  {
   "cell_type": "code",
   "execution_count": 26,
   "id": "0ed80f85",
   "metadata": {},
   "outputs": [],
   "source": [
    "tetarforms['chimney_quantity'] = np.where(tetarforms['chimney_quantity'] > 0, 'Yes', 'No')"
   ]
  },
  {
   "cell_type": "code",
   "execution_count": 27,
   "id": "4957c78d",
   "metadata": {},
   "outputs": [],
   "source": [
    "tetarforms.rename(columns={'apn': 'APN_TF', 'motorcycle_quantity':'motorcycle_quantity_TF'}, inplace=True)"
   ]
  },
  {
   "cell_type": "code",
   "execution_count": 28,
   "id": "2d63aa65",
   "metadata": {},
   "outputs": [],
   "source": [
    "tetarforms.columns = map(str.upper, tetarforms.columns)"
   ]
  },
  {
   "cell_type": "markdown",
   "id": "d996b02f",
   "metadata": {},
   "source": [
    "# TF_SA_Merge -  tetraforms and SA"
   ]
  },
  {
   "cell_type": "code",
   "execution_count": 29,
   "id": "6e94aa12",
   "metadata": {},
   "outputs": [],
   "source": [
    "\n",
    "TF_SA_Merge = sa.merge(tetarforms,\n",
    "                 left_on='APN_SA',\n",
    "                 right_on='APN_TF',\n",
    "                 how='outer',\n",
    "                 suffixes=('_SA', '_TF'))"
   ]
  },
  {
   "cell_type": "markdown",
   "id": "7400479a",
   "metadata": {},
   "source": [
    "# Smart sheet Cleaning"
   ]
  },
  {
   "cell_type": "code",
   "execution_count": 30,
   "id": "24652123",
   "metadata": {},
   "outputs": [],
   "source": [
    "# smart sheet column selection\n",
    "smartsheets = smartsheets[['APN_ROW Segment','Street #','Street Name', 'Structural Status','County',\n",
    "                           'Chimney',\n",
    "                           'Site Assessment',\n",
    "                          'Number of Passenger Vehicles', 'Number of ATV_UTV_snowmobiles',\n",
    "                          'Number of Ag_Commercial_Construction Equipment','Number of Motorcycles',\n",
    "                          'Number of RV\\'s', 'Number of Trailers', 'Number of Vessels (Boat_Jetski)', 'Total Number of Vehicles']]\n",
    "\n",
    "smartsheets = smartsheets.copy()\n",
    "\n",
    "# take of the time on the dates\n",
    "smartsheets['Site Assessment'] = pd.to_datetime(smartsheets['Site Assessment']).dt.date"
   ]
  },
  {
   "cell_type": "code",
   "execution_count": 31,
   "id": "60f9644a",
   "metadata": {},
   "outputs": [],
   "source": [
    "# fill N/A or blanks as needed \n",
    "smartsheets.fillna({'Chimney': 'No',\n",
    "                    'Site Assessment': 0,\n",
    "                    'Number of Passenger Vehicles': 0,\n",
    "                    'Number of ATV_UTV_snowmobiles': 0,\n",
    "                    'Number of Ag_Commercial_Construction Equipment': 0,\n",
    "                    'Number of Motorcycles': 0,\n",
    "                    'Number of RV\\'s':0,\n",
    "                    'Number of Trailers': 0,\n",
    "                    'Number of Vessels (Boat_Jetski)': 0}, inplace=True)"
   ]
  },
  {
   "cell_type": "code",
   "execution_count": 32,
   "id": "85d8ffbb",
   "metadata": {},
   "outputs": [],
   "source": [
    "# Rename columns\n",
    "smartsheets.rename(columns={'County':'County_SS','Site Assessment': 'SA Survey Date', 'Number of Passenger Vehicles': 'Automobiles',\n",
    "                           'Number of ATV_UTV_snowmobiles': 'ATV/UTV/Snowmobiles',\n",
    "                           'Number of Ag_Commercial_Construction Equipment': 'Ag/Commercial/Construction',\n",
    "                           'Number of Motorcycles': 'Motorcycles_SS', 'Number of RV\\'s': 'RV_SS',\n",
    "                           'Number of Trailers':'Trailers_SS','Number of Vessels (Boat_Jetski)':'Vessel_SS'}, inplace=True)"
   ]
  },
  {
   "cell_type": "code",
   "execution_count": 33,
   "id": "9fa1ea9e",
   "metadata": {},
   "outputs": [],
   "source": [
    "# capitalize all column headers\n",
    "smartsheets.columns = map(str.upper, smartsheets.columns)"
   ]
  },
  {
   "cell_type": "markdown",
   "id": "4c43a89d",
   "metadata": {},
   "source": [
    "# Merge Smartsheets with TF and SA' merged database"
   ]
  },
  {
   "cell_type": "code",
   "execution_count": 34,
   "id": "b2c61952",
   "metadata": {},
   "outputs": [],
   "source": [
    "# merge both data frames for QC\n",
    "final = smartsheets.merge(TF_SA_Merge,\n",
    "                         left_on='APN_ROW SEGMENT',\n",
    "                         right_on='APN_SA',\n",
    "                         how='left',\n",
    "                         suffixes=('_SS', '_SA'))"
   ]
  },
  {
   "cell_type": "code",
   "execution_count": 35,
   "id": "a4bacf16",
   "metadata": {},
   "outputs": [],
   "source": [
    "# column orinizationa\n",
    "final = final[['APN_ROW SEGMENT','APN_SA', 'APN_TF','STREET #','STREET NAME','STRUCTURAL STATUS','COUNTY_SS',\n",
    "               'SA SURVEY DATE_SS', 'SA SURVEY DATE_SA','SURVEY_DATE',\n",
    "               'CHIMNEY_SS','CHIMNEY_SA','CHIMNEY_QUANTITY',\n",
    "               'AUTOMOBILES_SS', 'AUTOMOBILES_SA','AUTOMOBILE_QUANTITY',\n",
    "               'MOTORCYCLES_SS', 'MOTORCYCLE_SA', 'MOTORCYCLE_QUANTITY_TF',\n",
    "              'ATV/UTV/SNOWMOBILES_SS', 'ATV/UTV/SNOWMOBILES_SA','ATV_UTV_QUANTITY',\n",
    "              'AG/COMMERCIAL/CONSTRUCTION_SS', 'AG/COMMERCIAL/CONSTRUCTION_SA','COMM_EQUIP_QUANTITY',\n",
    "              'RV_SS', 'RV_SA','RVS_QUANTITY',\n",
    "              'TRAILERS_SS', 'TRAILERS_SA','TRAILER_QUANTITY',\n",
    "              'VESSEL_SS','VESSEL_SA','VESSEL_QUANTITY',\n",
    "               'DIVISION','TOTAL NUMBER OF VEHICLES']]"
   ]
  },
  {
   "cell_type": "code",
   "execution_count": 36,
   "id": "e4f0a861",
   "metadata": {},
   "outputs": [],
   "source": [
    "final['SA SURVEY DATE_SS'] = pd.to_datetime(final['SA SURVEY DATE_SS'], errors='coerce').dt.date\n",
    "final['SA SURVEY DATE_SA'] = pd.to_datetime(final['SA SURVEY DATE_SA'], errors='coerce').dt.date\n",
    "final['SURVEY_DATE'] = pd.to_datetime(final['SURVEY_DATE'], errors='coerce').dt.date"
   ]
  },
  {
   "cell_type": "markdown",
   "id": "c0425a31",
   "metadata": {},
   "source": [
    "# add 0's to any remaining blanks"
   ]
  },
  {
   "cell_type": "code",
   "execution_count": 37,
   "id": "73750808",
   "metadata": {},
   "outputs": [],
   "source": [
    "# This will tell us that we have no data in the remander of the cells\n",
    "final.fillna(0,inplace=True)"
   ]
  },
  {
   "cell_type": "markdown",
   "id": "a038bc0d",
   "metadata": {},
   "source": [
    "# compare function for each category"
   ]
  },
  {
   "cell_type": "code",
   "execution_count": 38,
   "id": "f5692f47",
   "metadata": {},
   "outputs": [],
   "source": [
    "def compare_cols(df,comp1,comp2,comp3):\n",
    "    if (df[comp1] == df[comp2]) & (df[comp1] == df[comp3]):\n",
    "        return 1\n",
    "    else:\n",
    "        return 0"
   ]
  },
  {
   "cell_type": "markdown",
   "id": "6115e37f",
   "metadata": {},
   "source": [
    "# Survey date checks"
   ]
  },
  {
   "cell_type": "code",
   "execution_count": 39,
   "id": "cc6e5e76",
   "metadata": {},
   "outputs": [],
   "source": [
    "final.insert(final.columns.get_loc('SURVEY_DATE')+1, \"Survey Matches\",\n",
    "            final.apply(compare_cols, comp1='SA SURVEY DATE_SS', comp2='SA SURVEY DATE_SA', comp3='SURVEY_DATE', axis=1))"
   ]
  },
  {
   "cell_type": "markdown",
   "id": "ae3e885f",
   "metadata": {},
   "source": [
    "# CHIMNEY"
   ]
  },
  {
   "cell_type": "code",
   "execution_count": 40,
   "id": "887c759c",
   "metadata": {},
   "outputs": [],
   "source": [
    "final.insert(final.columns.get_loc('CHIMNEY_QUANTITY')+1, \"Chimney Macthes\",\n",
    "            final.apply(compare_cols, comp1='CHIMNEY_SS', comp2='CHIMNEY_SA', comp3='CHIMNEY_QUANTITY', axis=1))"
   ]
  },
  {
   "cell_type": "markdown",
   "id": "3d572c83",
   "metadata": {},
   "source": [
    "# AUTOMOBILES"
   ]
  },
  {
   "cell_type": "code",
   "execution_count": 41,
   "id": "64daf068",
   "metadata": {},
   "outputs": [],
   "source": [
    "final.insert(final.columns.get_loc('AUTOMOBILE_QUANTITY')+1, \"AUTOMOBILE-M\",\n",
    "            final.apply(compare_cols, comp1='AUTOMOBILES_SS', comp2='AUTOMOBILES_SA', comp3='AUTOMOBILE_QUANTITY', axis=1))"
   ]
  },
  {
   "cell_type": "markdown",
   "id": "f2eb7b2c",
   "metadata": {},
   "source": [
    "# MOTORCYCLES"
   ]
  },
  {
   "cell_type": "code",
   "execution_count": 42,
   "id": "e9503922",
   "metadata": {},
   "outputs": [],
   "source": [
    "final.insert(final.columns.get_loc('MOTORCYCLE_QUANTITY_TF')+1, \"Motorcycle-M\",\n",
    "            final.apply(compare_cols, comp1='MOTORCYCLES_SS', comp2='MOTORCYCLE_SA', comp3='MOTORCYCLE_QUANTITY_TF', axis=1))"
   ]
  },
  {
   "cell_type": "markdown",
   "id": "4491abcb",
   "metadata": {},
   "source": [
    "# ATV/UTV/SNOWMOBILES"
   ]
  },
  {
   "cell_type": "code",
   "execution_count": 43,
   "id": "84ab178a",
   "metadata": {},
   "outputs": [],
   "source": [
    "final.insert(final.columns.get_loc('ATV_UTV_QUANTITY')+1, \"ATV-M\",\n",
    "            final.apply(compare_cols,\n",
    "                        comp1='ATV/UTV/SNOWMOBILES_SS', comp2='ATV/UTV/SNOWMOBILES_SA', comp3='ATV_UTV_QUANTITY', axis=1))"
   ]
  },
  {
   "cell_type": "markdown",
   "id": "feea50e0",
   "metadata": {},
   "source": [
    "# AG/COMMERCIAL/CONSTRUCTION"
   ]
  },
  {
   "cell_type": "code",
   "execution_count": 44,
   "id": "bf5027b5",
   "metadata": {},
   "outputs": [],
   "source": [
    "final.insert(final.columns.get_loc('COMM_EQUIP_QUANTITY')+1, \"COMM-M\",\n",
    "            final.apply(compare_cols,\n",
    "                        comp1='AG/COMMERCIAL/CONSTRUCTION_SS',\n",
    "                        comp2='AG/COMMERCIAL/CONSTRUCTION_SA', comp3='COMM_EQUIP_QUANTITY', axis=1))"
   ]
  },
  {
   "cell_type": "markdown",
   "id": "efb82941",
   "metadata": {},
   "source": [
    "# RV"
   ]
  },
  {
   "cell_type": "code",
   "execution_count": 45,
   "id": "03811dea",
   "metadata": {},
   "outputs": [],
   "source": [
    "final.insert(final.columns.get_loc('RVS_QUANTITY')+1, \"RV-M\",\n",
    "            final.apply(compare_cols, comp1='RV_SS', comp2='RV_SA', comp3='RVS_QUANTITY', axis=1))"
   ]
  },
  {
   "cell_type": "markdown",
   "id": "38c6efb7",
   "metadata": {},
   "source": [
    "# TRAILERS"
   ]
  },
  {
   "cell_type": "code",
   "execution_count": 46,
   "id": "e10820b1",
   "metadata": {},
   "outputs": [],
   "source": [
    "final.insert(final.columns.get_loc('TRAILER_QUANTITY')+1, \"Trailer-M\",\n",
    "            final.apply(compare_cols, comp1='TRAILERS_SS', comp2='TRAILERS_SA', comp3='TRAILER_QUANTITY', axis=1))"
   ]
  },
  {
   "cell_type": "markdown",
   "id": "348a1deb",
   "metadata": {},
   "source": [
    "# VESSEL"
   ]
  },
  {
   "cell_type": "code",
   "execution_count": 47,
   "id": "26fec37b",
   "metadata": {},
   "outputs": [],
   "source": [
    "final.insert(final.columns.get_loc('VESSEL_QUANTITY')+1, \"Vessel-M\",\n",
    "            final.apply(compare_cols, comp1='VESSEL_SS', comp2='VESSEL_SA', comp3='VESSEL_QUANTITY', axis=1))"
   ]
  },
  {
   "cell_type": "markdown",
   "id": "21941ef0",
   "metadata": {},
   "source": [
    "# color in the compare columns"
   ]
  },
  {
   "cell_type": "code",
   "execution_count": 48,
   "id": "1f2c655d",
   "metadata": {},
   "outputs": [],
   "source": [
    "final_style = final.style.set_properties(**{'background-color': 'lightblue'},\n",
    "                          subset=['Survey Matches', 'Chimney Macthes','AUTOMOBILE-M','Motorcycle-M',\"ATV-M\",\n",
    "                                  'COMM-M',\"RV-M\",'Trailer-M' ,'Vessel-M'])"
   ]
  },
  {
   "cell_type": "code",
   "execution_count": 49,
   "id": "bfbbdb17",
   "metadata": {},
   "outputs": [],
   "source": [
    "final_style.to_excel('Central Dixie Fire SA Audit.xlsx')"
   ]
  },
  {
   "cell_type": "code",
   "execution_count": null,
   "id": "67203bf1",
   "metadata": {},
   "outputs": [],
   "source": []
  },
  {
   "cell_type": "code",
   "execution_count": null,
   "id": "cc6ff49b",
   "metadata": {},
   "outputs": [],
   "source": []
  }
 ],
 "metadata": {
  "kernelspec": {
   "display_name": "Python 3",
   "language": "python",
   "name": "python3"
  },
  "language_info": {
   "codemirror_mode": {
    "name": "ipython",
    "version": 3
   },
   "file_extension": ".py",
   "mimetype": "text/x-python",
   "name": "python",
   "nbconvert_exporter": "python",
   "pygments_lexer": "ipython3",
   "version": "3.9.4"
  }
 },
 "nbformat": 4,
 "nbformat_minor": 5
}
