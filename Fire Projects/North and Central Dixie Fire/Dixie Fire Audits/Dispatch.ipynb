{
 "cells": [
  {
   "cell_type": "markdown",
   "id": "fa36d070",
   "metadata": {},
   "source": [
    "# Overview\n",
    "\n",
    "* Debris Crews comes from email\n",
    "* ASB Abatments comes from Kai email\n",
    "* Rescapes comes fomr James Christopher\n",
    "* Soil Sampling comes from Jose Diego\n",
    "* Erosion comes from Jose Diego\n",
    "* ASB comes from Lona Email - see what was done 9in lona's email) then add what is left over\n",
    "\n",
    "* Arborist come from Google spread sheet we need to filter down. \n",
    "\n",
    "\n",
    "* FSO & TFSW From smatsheets Runway\n",
    "\n",
    "\n",
    "* /SA Filter Smart Sheets for"
   ]
  },
  {
   "cell_type": "code",
   "execution_count": 1,
   "id": "bb18c46d",
   "metadata": {},
   "outputs": [],
   "source": [
    "import pandas as pd\n",
    "import os\n",
    "import glob"
   ]
  },
  {
   "cell_type": "code",
   "execution_count": 2,
   "id": "0ab4623e",
   "metadata": {},
   "outputs": [],
   "source": [
    "excel = '.xlsx'\n",
    "csv = \".csv\""
   ]
  },
  {
   "cell_type": "code",
   "execution_count": 3,
   "id": "8c324e94",
   "metadata": {},
   "outputs": [],
   "source": [
    "path_C = r\"C:\\Users\\jacque.trahan\\Downloads\\Central Division 2021 Debris Removal Tracker*\"\n",
    "load_it_C = glob.glob(path_C + excel)\n",
    "df_c = pd.read_excel(max(load_it_C, key=os.path.getctime))"
   ]
  },
  {
   "cell_type": "code",
   "execution_count": 4,
   "id": "2f4ccfd9",
   "metadata": {},
   "outputs": [],
   "source": [
    "path2_C = r\"C:\\Users\\jacque.trahan\\Downloads\\South Central Division 2021 Debris Removal Tracker*\"\n",
    "loadit2_C = glob.glob(path2_C + excel)\n",
    "df2_c = pd.read_excel(max(loadit2_C, key=os.path.getctime))"
   ]
  },
  {
   "cell_type": "code",
   "execution_count": 5,
   "id": "dbfc60bb",
   "metadata": {},
   "outputs": [],
   "source": [
    "df_both_Cen = pd.concat([df_c, df2_c])"
   ]
  },
  {
   "cell_type": "code",
   "execution_count": 6,
   "id": "bd61ff88",
   "metadata": {},
   "outputs": [],
   "source": [
    "df_both_Cen[['APN_ROW Segment','Street #', 'Street Name', 'County', 'Structural Status',\n",
    "             'ASB Assessment',\n",
    "             'Soil Sample','State Rep Sign-Off for DR', 'Soil Boring', 'Soil Re-scrape', 'Soil Re-scrape 2', 'Soil Rescrape 3',\n",
    "             'Erosion Control Complete',\n",
    "            'Bio Assessment', 'Arch Assessment','Elevation',\n",
    "             'Soil Boring', \n",
    "             \"Not Eligible\", 'Withdrawal']].to_excel('Dispatch.xlsx')"
   ]
  },
  {
   "cell_type": "code",
   "execution_count": null,
   "id": "37443f16",
   "metadata": {},
   "outputs": [],
   "source": []
  }
 ],
 "metadata": {
  "kernelspec": {
   "display_name": "Python 3",
   "language": "python",
   "name": "python3"
  },
  "language_info": {
   "codemirror_mode": {
    "name": "ipython",
    "version": 3
   },
   "file_extension": ".py",
   "mimetype": "text/x-python",
   "name": "python",
   "nbconvert_exporter": "python",
   "pygments_lexer": "ipython3",
   "version": "3.9.4"
  }
 },
 "nbformat": 4,
 "nbformat_minor": 5
}
