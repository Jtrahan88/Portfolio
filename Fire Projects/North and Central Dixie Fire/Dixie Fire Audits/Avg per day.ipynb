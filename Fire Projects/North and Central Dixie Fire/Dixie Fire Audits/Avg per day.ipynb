{
 "cells": [
  {
   "cell_type": "code",
   "execution_count": 1,
   "id": "5a32265a",
   "metadata": {},
   "outputs": [],
   "source": [
    "import pandas as pd\n",
    "import glob\n",
    "import numpy as np\n",
    "import os\n",
    "import smartsheet\n",
    "import datetime\n",
    "\n",
    "\n",
    "file_ex = 'xlsx'\n",
    "file_csv = '.csv'"
   ]
  },
  {
   "cell_type": "markdown",
   "id": "6d77f0e6",
   "metadata": {},
   "source": [
    "# Central"
   ]
  },
  {
   "cell_type": "code",
   "execution_count": 2,
   "id": "e8a80b77",
   "metadata": {},
   "outputs": [],
   "source": [
    "county= ['ALPINE', 'EL DORADO', 'LAKE', 'NEVADA', 'PLACER', 'TUOLUMNE', 'MENDOCINO', 'TULARE', 'KERN']\n",
    "\n",
    "Central_county = ['ALPINE', 'EL DORADO', 'LAKE', 'NEVADA', 'PLACER']\n",
    "SCentral_couty = ['TUOLUMNE', 'MENDOCINO', 'TULARE', 'KERN']\n",
    "\n",
    "\n",
    "# smartsheets Shet IDs\n",
    "Central_id = '1844440261257092'\n",
    "South_id= '6292262490531716'\n",
    "\n",
    "# Central's API\n",
    "Central = smartsheet.Smartsheet('6jJFxnAfFsDErU0BSr1Ae4D6cHq0zenczVR12') #API\n",
    "\n",
    "Central.errors_as_exceptions(True)\n",
    "\n",
    "# Central's API\n",
    "South = smartsheet.Smartsheet(\"H8mqAo60J2zGHSrJEwmlMoY88A9yjgCo6RnSI\") # API\n",
    "South.errors_as_exceptions(True)\n",
    "\n",
    "# # Download Smartrsheets to \n",
    "# Central.Sheets.get_sheet_as_excel(Central_id, download_path=r\"C:\\Users\\jacque.trahan\\Downloads\")\n",
    "# South.Sheets.get_sheet_as_excel(South_id, download_path=r\"C:\\Users\\jacque.trahan\\Downloads\") \n",
    "\n",
    "# Function to read in column titles and row vales and make out data frames\n",
    "def smartsheet_loadup(sheet):\n",
    "    columns = [col.title for col in sheet.columns]\n",
    "    rows = []\n",
    "    for row in sheet.rows:\n",
    "        cells = []\n",
    "        for cell in row.cells:\n",
    "            cells.append(cell.value)\n",
    "        rows.append(cells)\n",
    "    df = pd.DataFrame(rows, columns=columns)\n",
    "    return df\n",
    "\n",
    "Central_SS = smartsheet_loadup(Central.Sheets.get_sheet(Central_id))\n",
    "South_SS = smartsheet_loadup(South.Sheets.get_sheet(South_id))\n",
    "\n"
   ]
  },
  {
   "cell_type": "markdown",
   "id": "d30bc878",
   "metadata": {},
   "source": [
    "# North"
   ]
  },
  {
   "cell_type": "code",
   "execution_count": 3,
   "id": "fc5f5cdc",
   "metadata": {},
   "outputs": [
    {
     "name": "stderr",
     "output_type": "stream",
     "text": [
      "C:\\Users\\jacque.trahan\\AppData\\Roaming\\Python\\Python39\\site-packages\\openpyxl\\styles\\stylesheet.py:226: UserWarning: Workbook contains no default style, apply openpyxl's default\n",
      "  warn(\"Workbook contains no default style, apply openpyxl's default\")\n",
      "C:\\Users\\jacque.trahan\\AppData\\Roaming\\Python\\Python39\\site-packages\\openpyxl\\styles\\stylesheet.py:226: UserWarning: Workbook contains no default style, apply openpyxl's default\n",
      "  warn(\"Workbook contains no default style, apply openpyxl's default\")\n"
     ]
    }
   ],
   "source": [
    "# read in BOP Smart hseets tracker\n",
    "path1 = r\"C:\\Users\\jacque.trahan\\Downloads\\BOP_North Div 2021 Debris Removal Tracker*\"\n",
    "load_it1 = glob.glob(path1 + file_ex)\n",
    "\n",
    "df_B = pd.read_excel(max(load_it1, key=os.path.getctime), parse_dates=True)\n",
    "\n",
    "\n",
    "# read in ANVIL Smart sheeets tracker\n",
    "path_s = r\"C:\\Users\\jacque.trahan\\Downloads\\ANVIL_North Div 2021 Debris Removal Tracker*\"\n",
    "load_it_s = glob.glob(path_s + file_ex)\n",
    "\n",
    "df_A = pd.read_excel(max(load_it_s, key=os.path.getctime), parse_dates=True)"
   ]
  },
  {
   "cell_type": "markdown",
   "id": "b4eea296",
   "metadata": {},
   "source": [
    "# RTR data"
   ]
  },
  {
   "cell_type": "code",
   "execution_count": 4,
   "id": "8333e0a6",
   "metadata": {},
   "outputs": [],
   "source": [
    "# set up counties for each project\n",
    "Central_county = ['ALPINE', 'EL DORADO', 'LAKE', 'NEVADA', 'PLACER']\n",
    "SCentral_county = ['TUOLUMNE', 'MENDOCINO', 'TULARE', 'KERN']\n",
    "\n",
    "\n",
    "BOP_county = ['PLUMAS', 'SISKIYOU', 'LASSEN', 'TRINITY']\n",
    "\n",
    "Anvil_county = ['SHASTA', 'TRINITY', 'SISKIYOU']"
   ]
  },
  {
   "cell_type": "code",
   "execution_count": 39,
   "id": "cd2efdf6",
   "metadata": {},
   "outputs": [],
   "source": [
    "path2 = r\"C:\\Users\\jacque.trahan\\Downloads\\aDataManagerTicketExport*\"\n",
    "load2 = glob.glob(path2 + file_ex)\n",
    "\n",
    "df_RTR = pd.read_excel(max(load2, key=os.path.getctime), parse_dates=True, na_values=None)\n",
    "\n",
    "RTR = df_RTR.copy()\n",
    "RTR['Service Code'] = RTR['Service Code'].str.strip().str.upper()\n",
    "RTR = RTR[(RTR['Service Code'].isin(['12A', '12B'])) & (RTR['Is Void'] != True)] \n",
    "\n"
   ]
  },
  {
   "cell_type": "code",
   "execution_count": 44,
   "id": "6a22fadc",
   "metadata": {
    "scrolled": true
   },
   "outputs": [
    {
     "data": {
      "text/html": [
       "<div>\n",
       "<style scoped>\n",
       "    .dataframe tbody tr th:only-of-type {\n",
       "        vertical-align: middle;\n",
       "    }\n",
       "\n",
       "    .dataframe tbody tr th {\n",
       "        vertical-align: top;\n",
       "    }\n",
       "\n",
       "    .dataframe thead th {\n",
       "        text-align: right;\n",
       "    }\n",
       "</style>\n",
       "<table border=\"1\" class=\"dataframe\">\n",
       "  <thead>\n",
       "    <tr style=\"text-align: right;\">\n",
       "      <th></th>\n",
       "      <th>End Time</th>\n",
       "      <th>Start Time</th>\n",
       "      <th>Total Days on Property</th>\n",
       "    </tr>\n",
       "  </thead>\n",
       "  <tbody>\n",
       "    <tr>\n",
       "      <th>5348</th>\n",
       "      <td>2021-12-06</td>\n",
       "      <td>2021-12-06</td>\n",
       "      <td>1</td>\n",
       "    </tr>\n",
       "    <tr>\n",
       "      <th>5379</th>\n",
       "      <td>2021-12-06</td>\n",
       "      <td>2021-12-06</td>\n",
       "      <td>1</td>\n",
       "    </tr>\n",
       "    <tr>\n",
       "      <th>5380</th>\n",
       "      <td>2021-12-06</td>\n",
       "      <td>2021-12-06</td>\n",
       "      <td>1</td>\n",
       "    </tr>\n",
       "    <tr>\n",
       "      <th>5382</th>\n",
       "      <td>2021-12-06</td>\n",
       "      <td>2021-12-06</td>\n",
       "      <td>1</td>\n",
       "    </tr>\n",
       "    <tr>\n",
       "      <th>5383</th>\n",
       "      <td>2021-12-06</td>\n",
       "      <td>2021-12-06</td>\n",
       "      <td>1</td>\n",
       "    </tr>\n",
       "    <tr>\n",
       "      <th>...</th>\n",
       "      <td>...</td>\n",
       "      <td>...</td>\n",
       "      <td>...</td>\n",
       "    </tr>\n",
       "    <tr>\n",
       "      <th>54594</th>\n",
       "      <td>2022-05-05</td>\n",
       "      <td>2022-05-05</td>\n",
       "      <td>1</td>\n",
       "    </tr>\n",
       "    <tr>\n",
       "      <th>54596</th>\n",
       "      <td>2022-05-05</td>\n",
       "      <td>2022-05-05</td>\n",
       "      <td>1</td>\n",
       "    </tr>\n",
       "    <tr>\n",
       "      <th>54598</th>\n",
       "      <td>2022-05-05</td>\n",
       "      <td>2022-05-05</td>\n",
       "      <td>1</td>\n",
       "    </tr>\n",
       "    <tr>\n",
       "      <th>54602</th>\n",
       "      <td>2022-05-05</td>\n",
       "      <td>2022-05-05</td>\n",
       "      <td>1</td>\n",
       "    </tr>\n",
       "    <tr>\n",
       "      <th>54603</th>\n",
       "      <td>2022-05-05</td>\n",
       "      <td>2022-05-05</td>\n",
       "      <td>1</td>\n",
       "    </tr>\n",
       "  </tbody>\n",
       "</table>\n",
       "<p>34522 rows × 3 columns</p>\n",
       "</div>"
      ],
      "text/plain": [
       "         End Time  Start Time  Total Days on Property\n",
       "5348   2021-12-06  2021-12-06                       1\n",
       "5379   2021-12-06  2021-12-06                       1\n",
       "5380   2021-12-06  2021-12-06                       1\n",
       "5382   2021-12-06  2021-12-06                       1\n",
       "5383   2021-12-06  2021-12-06                       1\n",
       "...           ...         ...                     ...\n",
       "54594  2022-05-05  2022-05-05                       1\n",
       "54596  2022-05-05  2022-05-05                       1\n",
       "54598  2022-05-05  2022-05-05                       1\n",
       "54602  2022-05-05  2022-05-05                       1\n",
       "54603  2022-05-05  2022-05-05                       1\n",
       "\n",
       "[34522 rows x 3 columns]"
      ]
     },
     "execution_count": 44,
     "metadata": {},
     "output_type": "execute_result"
    }
   ],
   "source": [
    "RTR['End Time'] = pd.to_datetime(RTR['End Time']).dt.date\n",
    "RTR['Start Time'] = pd.to_datetime(RTR['Start Time']).dt.date\n",
    "\n",
    "RTR['Total Days on Property'] = (RTR['End Time'] - RTR['Start Time']).dt.days + 1\n",
    "\n",
    "RTR['Average days on Property'] = (C_RTR['Ticket Date'].size())\n",
    "RTR[['End Time','Start Time','Total Days on Property']]"
   ]
  },
  {
   "cell_type": "markdown",
   "id": "81555a7b",
   "metadata": {},
   "source": [
    "# Central"
   ]
  },
  {
   "cell_type": "code",
   "execution_count": 46,
   "id": "ef27b36d",
   "metadata": {},
   "outputs": [],
   "source": [
    "C_RTR = RTR[(RTR['GIS Zone2'].isin(Central_county)) & (~RTR['GIS Zone1'].isin(['NORTHERN DIVISION']))]\n",
    "s_RTR = RTR[RTR['GIS Zone2'].isin([SCentral_county]) & (~RTR['GIS Zone1'].isin(['NORTHERN DIVISION']))]\n",
    "\n",
    "\n",
    "Bop_RTR = RTR[RTR['GIS Zone2'].isin([BOP_county]) & (~RTR['GIS Zone1'].isin(['CENTRAL DIVISION']))]\n",
    "Anvil_RTR = RTR[RTR['GIS Zone2'].isin([Anvil_county]) & (~RTR['GIS Zone1'].isin(['CENTRAL DIVISION']))]"
   ]
  },
  {
   "cell_type": "code",
   "execution_count": 13,
   "id": "62d3c7b4",
   "metadata": {},
   "outputs": [
    {
     "ename": "TypeError",
     "evalue": "'int' object is not callable",
     "output_type": "error",
     "traceback": [
      "\u001b[1;31m---------------------------------------------------------------------------\u001b[0m",
      "\u001b[1;31mTypeError\u001b[0m                                 Traceback (most recent call last)",
      "\u001b[1;32m<ipython-input-13-84ed3479c8b0>\u001b[0m in \u001b[0;36m<module>\u001b[1;34m\u001b[0m\n\u001b[1;32m----> 1\u001b[1;33m \u001b[0mC_RTR\u001b[0m\u001b[1;33m[\u001b[0m\u001b[1;34m'Service Code'\u001b[0m\u001b[1;33m]\u001b[0m\u001b[1;33m.\u001b[0m\u001b[0msize\u001b[0m\u001b[1;33m(\u001b[0m\u001b[1;33m)\u001b[0m\u001b[1;33m\u001b[0m\u001b[1;33m\u001b[0m\u001b[0m\n\u001b[0m",
      "\u001b[1;31mTypeError\u001b[0m: 'int' object is not callable"
     ]
    }
   ],
   "source": [
    "C_RTR['Service Code'].size()"
   ]
  },
  {
   "cell_type": "code",
   "execution_count": 48,
   "id": "b29fa7c1",
   "metadata": {},
   "outputs": [],
   "source": [
    "c = C_RTR.groupby(C_RTR['Ticket Date']).agg({'Service Code':'size', 'Total Days on Property': 'mean'}).reset_index()#.to_excel('Central Tree Counts.xlsx')\n",
    "# s_RTR.groupby(s_RTR['Ticket Date'].dt.date).size().reset_index(name='Count').to_excel('South Central Tree Counts.xlsx')\n",
    "\n",
    "\n",
    "# Bop_RTR.groupby(Bop_RTR['Ticket Date'].dt.date).size().reset_index(name='Count').to_excel('BOP Tree Counts.xlsx')\n",
    "# Anvil_RTR.groupby(Anvil_RTR['Ticket Date'].dt.date).size().reset_index(name='Count').to_excel('Anvil Tree Counts.xlsx')\n"
   ]
  },
  {
   "cell_type": "code",
   "execution_count": 11,
   "id": "e178cb70",
   "metadata": {},
   "outputs": [
    {
     "data": {
      "text/html": [
       "<div>\n",
       "<style scoped>\n",
       "    .dataframe tbody tr th:only-of-type {\n",
       "        vertical-align: middle;\n",
       "    }\n",
       "\n",
       "    .dataframe tbody tr th {\n",
       "        vertical-align: top;\n",
       "    }\n",
       "\n",
       "    .dataframe thead th {\n",
       "        text-align: right;\n",
       "    }\n",
       "</style>\n",
       "<table border=\"1\" class=\"dataframe\">\n",
       "  <thead>\n",
       "    <tr style=\"text-align: right;\">\n",
       "      <th></th>\n",
       "      <th>Ticket Date</th>\n",
       "      <th>Count</th>\n",
       "    </tr>\n",
       "  </thead>\n",
       "  <tbody>\n",
       "    <tr>\n",
       "      <th>0</th>\n",
       "      <td>2021-12-08</td>\n",
       "      <td>74</td>\n",
       "    </tr>\n",
       "    <tr>\n",
       "      <th>1</th>\n",
       "      <td>2021-12-09</td>\n",
       "      <td>54</td>\n",
       "    </tr>\n",
       "    <tr>\n",
       "      <th>2</th>\n",
       "      <td>2021-12-10</td>\n",
       "      <td>78</td>\n",
       "    </tr>\n",
       "    <tr>\n",
       "      <th>3</th>\n",
       "      <td>2021-12-11</td>\n",
       "      <td>47</td>\n",
       "    </tr>\n",
       "    <tr>\n",
       "      <th>4</th>\n",
       "      <td>2021-12-17</td>\n",
       "      <td>38</td>\n",
       "    </tr>\n",
       "    <tr>\n",
       "      <th>...</th>\n",
       "      <td>...</td>\n",
       "      <td>...</td>\n",
       "    </tr>\n",
       "    <tr>\n",
       "      <th>104</th>\n",
       "      <td>2022-04-30</td>\n",
       "      <td>328</td>\n",
       "    </tr>\n",
       "    <tr>\n",
       "      <th>105</th>\n",
       "      <td>2022-05-02</td>\n",
       "      <td>353</td>\n",
       "    </tr>\n",
       "    <tr>\n",
       "      <th>106</th>\n",
       "      <td>2022-05-03</td>\n",
       "      <td>342</td>\n",
       "    </tr>\n",
       "    <tr>\n",
       "      <th>107</th>\n",
       "      <td>2022-05-04</td>\n",
       "      <td>480</td>\n",
       "    </tr>\n",
       "    <tr>\n",
       "      <th>108</th>\n",
       "      <td>2022-05-05</td>\n",
       "      <td>116</td>\n",
       "    </tr>\n",
       "  </tbody>\n",
       "</table>\n",
       "<p>109 rows × 2 columns</p>\n",
       "</div>"
      ],
      "text/plain": [
       "    Ticket Date  Count\n",
       "0    2021-12-08     74\n",
       "1    2021-12-09     54\n",
       "2    2021-12-10     78\n",
       "3    2021-12-11     47\n",
       "4    2021-12-17     38\n",
       "..          ...    ...\n",
       "104  2022-04-30    328\n",
       "105  2022-05-02    353\n",
       "106  2022-05-03    342\n",
       "107  2022-05-04    480\n",
       "108  2022-05-05    116\n",
       "\n",
       "[109 rows x 2 columns]"
      ]
     },
     "execution_count": 11,
     "metadata": {},
     "output_type": "execute_result"
    }
   ],
   "source": [
    "c"
   ]
  },
  {
   "cell_type": "code",
   "execution_count": null,
   "id": "84045869",
   "metadata": {},
   "outputs": [],
   "source": []
  },
  {
   "cell_type": "code",
   "execution_count": null,
   "id": "953cc9fb",
   "metadata": {},
   "outputs": [],
   "source": []
  }
 ],
 "metadata": {
  "kernelspec": {
   "display_name": "Python 3",
   "language": "python",
   "name": "python3"
  },
  "language_info": {
   "codemirror_mode": {
    "name": "ipython",
    "version": 3
   },
   "file_extension": ".py",
   "mimetype": "text/x-python",
   "name": "python",
   "nbconvert_exporter": "python",
   "pygments_lexer": "ipython3",
   "version": "3.9.4"
  }
 },
 "nbformat": 4,
 "nbformat_minor": 5
}
