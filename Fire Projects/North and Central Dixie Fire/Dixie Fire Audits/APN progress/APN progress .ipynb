{
 "cells": [
  {
   "cell_type": "code",
   "execution_count": 1,
   "id": "a204955d",
   "metadata": {},
   "outputs": [],
   "source": [
    "import pandas as pd\n",
    "import glob\n",
    "import numpy as np\n",
    "import os\n",
    "import smartsheet\n",
    "import datetime\n",
    "\n",
    "county= ['ALPINE', 'EL DORADO', 'LAKE', 'NEVADA', 'PLACER', 'TUOLUMNE', 'MENDOCINO', 'TULARE', 'KERN']\n",
    "\n",
    "file_ex = 'xlsx'\n",
    "file_csv = '.csv'\n",
    "\n",
    "\n",
    "# smartsheets Shet IDs\n",
    "Central_id = '1844440261257092'\n",
    "South_id= '6292262490531716'\n",
    "\n",
    "# Central's API\n",
    "Central = smartsheet.Smartsheet('6jJFxnAfFsDErU0BSr1Ae4D6cHq0zenczVR12') #API\n",
    "\n",
    "Central.errors_as_exceptions(True)\n",
    "\n",
    "# Central's API\n",
    "South = smartsheet.Smartsheet(\"H8mqAo60J2zGHSrJEwmlMoY88A9yjgCo6RnSI\") # API\n",
    "South.errors_as_exceptions(True)\n",
    "\n",
    "# # Download Smartrsheets to \n",
    "# Central.Sheets.get_sheet_as_excel(Central_id, download_path=r\"C:\\Users\\jacque.trahan\\Downloads\")\n",
    "# South.Sheets.get_sheet_as_excel(South_id, download_path=r\"C:\\Users\\jacque.trahan\\Downloads\") \n",
    "\n",
    "# Function to read in column titles and row vales and make out data frames\n",
    "def smartsheet_loadup(sheet):\n",
    "    columns = [col.title for col in sheet.columns]\n",
    "    rows = []\n",
    "    for row in sheet.rows:\n",
    "        cells = []\n",
    "        for cell in row.cells:\n",
    "            cells.append(cell.value)\n",
    "        rows.append(cells)\n",
    "    df = pd.DataFrame(rows, columns=columns)\n",
    "    return df\n",
    "\n",
    "Central_SS = smartsheet_loadup(Central.Sheets.get_sheet(Central_id))\n",
    "South_SS = smartsheet_loadup(South.Sheets.get_sheet(South_id))\n",
    "\n",
    "# df_both = pd.concat([Central_SS,South_SS]) # combine both DF on top of each other. "
   ]
  },
  {
   "cell_type": "markdown",
   "id": "112bc078",
   "metadata": {},
   "source": [
    "# Central"
   ]
  },
  {
   "cell_type": "code",
   "execution_count": 19,
   "id": "a4c21427",
   "metadata": {},
   "outputs": [],
   "source": [
    "Central_progress = Central_SS[['APN_ROW Segment','Street #','Street Name','County',\n",
    "                                    'TISW Complete', 'FSO Complete']].copy()\n",
    "\n",
    "Central_progress['TISW Complete'] = pd.to_datetime(Central_progress['TISW Complete']).dt.date\n",
    "Central_progress['FSO Complete'] = pd.to_datetime(Central_progress['FSO Complete']).dt.date\n",
    "\n",
    "Central_progress.groupby(['TISW Complete'])[['APN_ROW Segment']].count().to_excel('Central APNs TISW completed by date.xlsx')\n",
    "Central_progress.groupby(['FSO Complete'])[['APN_ROW Segment']].count().to_excel('Central APNs FSO completed by date.xlsx')\n",
    "\n",
    "\n",
    "Central_progress.to_excel('Total APNs in central.xlsx')"
   ]
  },
  {
   "cell_type": "markdown",
   "id": "47c8f727",
   "metadata": {},
   "source": [
    "# South Central"
   ]
  },
  {
   "cell_type": "code",
   "execution_count": 23,
   "id": "93948f40",
   "metadata": {},
   "outputs": [],
   "source": [
    "South_progress = South_SS[['APN_ROW Segment','Street #','Street Name','County',\n",
    "                                    'TISW Complete', 'FSO Complete']].copy()\n",
    "\n",
    "South_progress['TISW Complete'] = pd.to_datetime(South_progress['TISW Complete']).dt.date\n",
    "South_progress['FSO Complete'] = pd.to_datetime(South_progress['FSO Complete']).dt.date\n",
    "\n",
    "South_progress.groupby(['TISW Complete'])[['APN_ROW Segment']].count().to_excel('South Central APNs TISW completed by date.xlsx')\n",
    "South_progress.groupby(['FSO Complete'])[['APN_ROW Segment']].count().to_excel('South Central APNs FSO completed by date.xlsx')\n",
    "\n",
    "South_progress.to_excel('Total APNs in South central.xlsx')\n",
    "\n"
   ]
  },
  {
   "cell_type": "code",
   "execution_count": null,
   "id": "9eb47d80",
   "metadata": {},
   "outputs": [],
   "source": []
  }
 ],
 "metadata": {
  "kernelspec": {
   "display_name": "Python 3",
   "language": "python",
   "name": "python3"
  },
  "language_info": {
   "codemirror_mode": {
    "name": "ipython",
    "version": 3
   },
   "file_extension": ".py",
   "mimetype": "text/x-python",
   "name": "python",
   "nbconvert_exporter": "python",
   "pygments_lexer": "ipython3",
   "version": "3.9.4"
  }
 },
 "nbformat": 4,
 "nbformat_minor": 5
}
