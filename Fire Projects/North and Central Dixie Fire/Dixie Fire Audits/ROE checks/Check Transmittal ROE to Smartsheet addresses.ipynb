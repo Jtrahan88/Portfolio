{
 "cells": [
  {
   "cell_type": "markdown",
   "id": "3147cb79",
   "metadata": {},
   "source": [
    "# Downlaods smartsheets using API\n",
    "* imports libraies as well"
   ]
  },
  {
   "cell_type": "code",
   "execution_count": 1,
   "id": "7f930b98",
   "metadata": {},
   "outputs": [],
   "source": [
    "import pandas as pd\n",
    "import os\n",
    "import glob\n",
    "import numpy as np\n",
    "import smartsheet\n",
    "\n",
    "#Variables\n",
    "# random\n",
    "excel = '.xlsx'\n",
    "csv = '.csv'\n",
    "\n",
    "# smartsheets Shet IDs\n",
    "Central_id = '1844440261257092'\n",
    "South_id= '6292262490531716'\n",
    "\n",
    "\n",
    "#Row Pages Central\n",
    "ElDorado_roe = '8929697795991428'\n",
    "Alpine_roe = '7943135218165636'\n",
    "Lake_roe = '5352548384171908'\n",
    "Navada_roe = '5052434323138436'\n",
    "Placer_roe = '4565950893713284'\n",
    "\n",
    "\n",
    "#Row Pages South Central\n",
    "Kern_roe = '7984637982074756'\n",
    "Mendo_roe = '4192310708725636'\n",
    "Tulare_roe = '2872621877487492'\n",
    "Tuolumne_roe = '6571548644534148'\n",
    "\n",
    "# Central's API\n",
    "Central = smartsheet.Smartsheet('6jJFxnAfFsDErU0BSr1Ae4D6cHq0zenczVR12') #API\n",
    "\n",
    "Central.errors_as_exceptions(True)\n",
    "\n",
    "# Central's API\n",
    "South = smartsheet.Smartsheet(\"H8mqAo60J2zGHSrJEwmlMoY88A9yjgCo6RnSI\") # API\n",
    "South.errors_as_exceptions(True)\n",
    "\n",
    "#download smartsheets to any folder you need\n",
    "# Central.Sheets.get_sheet_as_excel(Central_id, download_path=r\"C:\\Users\\jacque.trahan\\Downloads\")\n",
    "# South.Sheets.get_sheet_as_excel(South_id, download_path=r\"C:\\Users\\jacque.trahan\\Downloads\") \n",
    "\n",
    "\n",
    "# #Google Sheets\n",
    "# #Sheet ID comes right after /d/ in the URL\n",
    "# Google_sheet_ID= '1O2dmdhEo5hJVAgRVDl4M4n3_v-KqHS56q3OZVdpZANU'\n",
    "# # name of tab you want to use\n",
    "# Google_sheets_name = 'Tree RTR Tracker'\n",
    "\n",
    "# # this is tricky. after /export? we must put format=csv#id={Sheet Name}   -> manually to make this work\n",
    "# url = f'https://docs.google.com/spreadsheets/d/{Google_sheet_ID}/export?format=csv#id={Google_sheets_name}'\n",
    "\n",
    "\n",
    "\n",
    "# Function to read in column titles and row vales and make out data frames from smartsheets\n",
    "def smartsheet_loadup(sheet):\n",
    "    columns = [col.title for col in sheet.columns]\n",
    "    rows = []\n",
    "    for row in sheet.rows:\n",
    "        cells = []\n",
    "        for cell in row.cells:\n",
    "            cells.append(cell.value)\n",
    "        rows.append(cells)\n",
    "    df = pd.DataFrame(rows, columns=columns)\n",
    "    return df\n",
    "\n",
    "Central_SS = smartsheet_loadup(Central.Sheets.get_sheet(Central_id))\n",
    "South_SS = smartsheet_loadup(South.Sheets.get_sheet(South_id))\n",
    "\n",
    "df_both = pd.concat([Central_SS,South_SS])\n"
   ]
  },
  {
   "cell_type": "markdown",
   "id": "db9f1365",
   "metadata": {},
   "source": [
    "# ROE transmittal\n",
    "* combines all files in one folder\n",
    "* will have to manually download each transmittal untill further notice"
   ]
  },
  {
   "cell_type": "code",
   "execution_count": 2,
   "id": "1e1cbe0e",
   "metadata": {},
   "outputs": [],
   "source": [
    "# joined_files = os.path.join(r\"C:\\Users\\jacque.trahan\\Desktop\\ROE checks\", \"*.xlsx\")\n",
    "# joined_list = glob.glob(joined_files)\n",
    "\n",
    "\n",
    "# df = pd.concat(map(pd.read_excel, joined_list), ignore_index=True)"
   ]
  },
  {
   "cell_type": "markdown",
   "id": "3ecc7512",
   "metadata": {},
   "source": [
    "# Call in the Smart sheet function to combine all ROE using API"
   ]
  },
  {
   "cell_type": "code",
   "execution_count": 3,
   "id": "469a7261",
   "metadata": {},
   "outputs": [],
   "source": [
    "#Row Pages Central\n",
    "ElDorado = smartsheet_loadup(Central.Sheets.get_sheet(ElDorado_roe))\n",
    "Alpine = smartsheet_loadup(Central.Sheets.get_sheet(Alpine_roe))\n",
    "Lake = smartsheet_loadup(Central.Sheets.get_sheet(Lake_roe))\n",
    "Navada = smartsheet_loadup(Central.Sheets.get_sheet(Navada_roe))\n",
    "Placer = smartsheet_loadup(Central.Sheets.get_sheet(Placer_roe))\n",
    "\n",
    "\n",
    "# #Row Pages South Central\n",
    "Kern = smartsheet_loadup(South.Sheets.get_sheet(Kern_roe))\n",
    "Mendo = smartsheet_loadup(South.Sheets.get_sheet(Mendo_roe))\n",
    "Tulare = smartsheet_loadup(South.Sheets.get_sheet(Tulare_roe))\n",
    "Tuolumne = smartsheet_loadup(South.Sheets.get_sheet(Tuolumne_roe))\n",
    "\n",
    "ROE_t = pd.concat([ElDorado, Alpine, Lake, Navada, Placer, Kern, Mendo, Tulare, Tuolumne])\n",
    "\n",
    "ROE_t = ROE_t[['APN', 'Street #', 'Street Name', 'County']].copy()"
   ]
  },
  {
   "cell_type": "code",
   "execution_count": 4,
   "id": "93342ed6",
   "metadata": {},
   "outputs": [],
   "source": [
    "SS = df_both[['APN_ROW Segment','Street #', 'Street Name', 'County', 'ROE Type']].copy()\n"
   ]
  },
  {
   "cell_type": "code",
   "execution_count": 5,
   "id": "202f3a67",
   "metadata": {},
   "outputs": [],
   "source": [
    "Check = SS.merge(ROE_t,\n",
    "                left_on='APN_ROW Segment',\n",
    "                right_on='APN',\n",
    "                how='outer',\n",
    "                suffixes=(\"_SS\",\"_ROE\"))"
   ]
  },
  {
   "cell_type": "code",
   "execution_count": 6,
   "id": "8dd25162",
   "metadata": {},
   "outputs": [],
   "source": [
    "Check['Street #_SS'] = Check['Street #_SS'].astype(str)\n",
    "Check['Street Name_SS'] = Check['Street Name_SS'].astype(str)\n",
    "Check['Street #_ROE'] = Check['Street #_ROE'].astype(str)\n",
    "Check['Street Name_ROE'] = Check['Street Name_ROE'].astype(str)"
   ]
  },
  {
   "cell_type": "code",
   "execution_count": 7,
   "id": "2c4c8943",
   "metadata": {},
   "outputs": [],
   "source": [
    "Check['SmartSheet address'] = Check['Street #_SS'] + \" \" + Check['Street Name_SS']\n",
    "Check['ROE address'] = Check['Street #_ROE'] + \" \" + Check['Street Name_ROE']"
   ]
  },
  {
   "cell_type": "code",
   "execution_count": 8,
   "id": "72bb2ff6",
   "metadata": {},
   "outputs": [],
   "source": [
    "Checks = Check[Check['SmartSheet address'] != Check['ROE address']]"
   ]
  },
  {
   "cell_type": "code",
   "execution_count": 9,
   "id": "be28e9bd",
   "metadata": {
    "scrolled": true
   },
   "outputs": [],
   "source": [
    "Checks.to_excel('ROE Adress check.xlsx')"
   ]
  },
  {
   "cell_type": "code",
   "execution_count": null,
   "id": "983c63ed",
   "metadata": {},
   "outputs": [],
   "source": []
  }
 ],
 "metadata": {
  "kernelspec": {
   "display_name": "Python 3",
   "language": "python",
   "name": "python3"
  },
  "language_info": {
   "codemirror_mode": {
    "name": "ipython",
    "version": 3
   },
   "file_extension": ".py",
   "mimetype": "text/x-python",
   "name": "python",
   "nbconvert_exporter": "python",
   "pygments_lexer": "ipython3",
   "version": "3.9.4"
  }
 },
 "nbformat": 4,
 "nbformat_minor": 5
}
