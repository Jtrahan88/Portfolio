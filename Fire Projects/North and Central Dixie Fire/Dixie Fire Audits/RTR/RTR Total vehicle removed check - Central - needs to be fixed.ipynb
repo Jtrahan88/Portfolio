{
 "cells": [
  {
   "cell_type": "markdown",
   "id": "d3500833",
   "metadata": {},
   "source": [
    "# Overview:\n",
    "\n",
    "* 5B tickets (VEHICLES ADJUDICATED OFF-SITE) \n",
    "\n",
    "*  5A tickets (VEHICLES ADJUDICATED ON PARCEL) - are counted from: aDataManagerTicketExport\n",
    "\n",
    "* NUMBER OF VEHICLES REMOVED ACCORDING TO SMART SHEETS = Smart Sheets Total Vehicle Counts\n",
    "\n",
    "* TOTAL VEHICLES REMOVED ACCORDING TO RTR TICKETS = 5A + 5B Tickets \n",
    "\n",
    "* Matches Removal Ticket Counts - Compares Smart Sheets Vehicle removal counts to total RTR ticket counts(5A + 5B tickets)\n",
    "\n",
    "* TOTAL RTR TICKETS MINUS SMARTSHEET COUNTS = Total Smart sheet vehicle counts - Total Vehicles Removed According to RTR Tickets (5A + 5B tickets)\n",
    "\n",
    "## Outputs:\n",
    "* Vehicle Counts Central Division-Audit\n",
    "\n",
    "\n",
    "## Downloads needed:\n",
    "* 2 Smartsheets both Central and South or BOP and ANVIL\n",
    "* RTR Data - aDataManagerTicketExport\n"
   ]
  },
  {
   "cell_type": "markdown",
   "id": "ecff815a",
   "metadata": {},
   "source": [
    "# Libraries"
   ]
  },
  {
   "cell_type": "code",
   "execution_count": 1,
   "id": "1dfd6f08",
   "metadata": {},
   "outputs": [],
   "source": [
    "import pandas as pd\n",
    "import glob\n",
    "import numpy as np\n",
    "import os\n",
    "import smartsheet\n",
    "import datetime"
   ]
  },
  {
   "cell_type": "markdown",
   "id": "bb86b246",
   "metadata": {},
   "source": [
    "# Variables"
   ]
  },
  {
   "cell_type": "code",
   "execution_count": 2,
   "id": "ae4a8677",
   "metadata": {},
   "outputs": [],
   "source": [
    "csv = '.csv'\n",
    "excel = '.xlsx'"
   ]
  },
  {
   "cell_type": "code",
   "execution_count": 3,
   "id": "4f03cd0e",
   "metadata": {},
   "outputs": [
    {
     "name": "stdout",
     "output_type": "stream",
     "text": [
      "What project are we Auditing?: Central or Northern northern\n",
      "Northern Audit Started\n"
     ]
    }
   ],
   "source": [
    "while True:\n",
    "    user = input('What project are we Auditing?: Central or Northern ').lower()\n",
    "    try:\n",
    "\n",
    "        #central Set up\n",
    "        if user == 'central':\n",
    "            print('Central Audit Started')\n",
    "            # Counties:\n",
    "            county= ['ALPINE', 'EL DORADO', 'LAKE', 'NEVADA', 'PLACER', 'TUOLUMNE', 'MENDOCINO', 'TULARE', 'KERN']\n",
    "\n",
    "            # Division. * northern goes here becasue we want everything not in northern Division\n",
    "            division = 'NORTHERN DIVISION'\n",
    "\n",
    "            # smartsheets Shet IDs\n",
    "            sheet_id1 = '1844440261257092' # central\n",
    "            sheet_id2= '6292262490531716' # south central\n",
    "\n",
    "            # Central's API\n",
    "            API1 = smartsheet.Smartsheet('6jJFxnAfFsDErU0BSr1Ae4D6cHq0zenczVR12') # API central\n",
    "\n",
    "            API1.errors_as_exceptions(True)\n",
    "\n",
    "            # Central's API\n",
    "            API2 = smartsheet.Smartsheet(\"H8mqAo60J2zGHSrJEwmlMoY88A9yjgCo6RnSI\") # API south central\n",
    "            API2.errors_as_exceptions(True)\n",
    "            break\n",
    "\n",
    "        #northern Set up\n",
    "        elif user == 'northern':\n",
    "            print('Northern Audit Started')\n",
    "            # Counties:\n",
    "            county = ['LASSEN', 'PLUMAS', 'SISKIYOU', 'TRINITY', 'SHASTA', 'TEHAMA']\n",
    "\n",
    "            # Division. * northern goes here becasue we want everything not in northern Division\n",
    "            division = 'CENTRAL DIVISION'\n",
    "\n",
    "            # smartsheets Shet IDs\n",
    "            sheet_id1 = '3589680131270532' # BOP\n",
    "            sheet_id2= '5367491607193476' # ANVIL\n",
    "\n",
    "            # Central's API\n",
    "            API1 = smartsheet.Smartsheet('6w7vusWNdvdm9TJmjImZfbh0SPQgi3HJaekNb') # API BOP\n",
    "\n",
    "            API1.errors_as_exceptions(True)\n",
    "\n",
    "            # Central's API\n",
    "            API2 = smartsheet.Smartsheet(\"MQQmCjvvFWLKBoX9K7A33rHSoLnuj1MGVJuVK\") # API ANVIL\n",
    "            API2.errors_as_exceptions(True)\n",
    "            break\n",
    "    except ValueError:\n",
    "        print(\"\\ninvaild input Only 'Central or Northern' allowed\")"
   ]
  },
  {
   "cell_type": "markdown",
   "id": "2d25b259",
   "metadata": {},
   "source": [
    "# Function to set up Smartsheet into a readable Database"
   ]
  },
  {
   "cell_type": "code",
   "execution_count": 4,
   "id": "7cc830e5",
   "metadata": {},
   "outputs": [],
   "source": [
    "def smartsheet_loadup(sheet):\n",
    "    columns = [col.title for col in sheet.columns]\n",
    "    rows = []\n",
    "    for row in sheet.rows:\n",
    "        cells = []\n",
    "        for cell in row.cells:\n",
    "            cells.append(cell.value)\n",
    "        rows.append(cells)\n",
    "    df = pd.DataFrame(rows, columns=columns)\n",
    "    return df\n",
    "\n",
    "Area1_SS = smartsheet_loadup(API1.Sheets.get_sheet(sheet_id1))\n",
    "Area2_SS = smartsheet_loadup(API2.Sheets.get_sheet(sheet_id2))\n",
    "\n",
    "df_both = pd.concat([Area1_SS,Area2_SS])"
   ]
  },
  {
   "cell_type": "markdown",
   "id": "93ccf21c",
   "metadata": {},
   "source": [
    "#  Functions"
   ]
  },
  {
   "cell_type": "code",
   "execution_count": 5,
   "id": "4cf2484b",
   "metadata": {},
   "outputs": [],
   "source": [
    "def compare(df, comp1=None, comp2=None, comp3=None):\n",
    "    \"\"\"Compares two columns\"\"\"\n",
    "    if df[comp1] == df[comp2]:\n",
    "        return \"Match\"\n",
    "    else:\n",
    "        return \"No Match\""
   ]
  },
  {
   "cell_type": "markdown",
   "id": "81e5126f",
   "metadata": {},
   "source": [
    "### Get ride of setting with copy warning"
   ]
  },
  {
   "cell_type": "code",
   "execution_count": 6,
   "id": "796f9d86",
   "metadata": {},
   "outputs": [],
   "source": [
    "smartsheets = df_both.copy()"
   ]
  },
  {
   "cell_type": "markdown",
   "id": "26caaa96",
   "metadata": {},
   "source": [
    "# RTR for vehicle removal"
   ]
  },
  {
   "cell_type": "markdown",
   "id": "888e90d5",
   "metadata": {},
   "source": [
    "## 5A/5B Tickets -this is the normal RTR unit rate tickets from aDataManagerTicketExport"
   ]
  },
  {
   "cell_type": "code",
   "execution_count": 7,
   "id": "2fd4b9fe",
   "metadata": {},
   "outputs": [],
   "source": [
    "# this is the normal RTR unit rate tickets from aDataManagerTicketExport\n",
    "path2 = r\"C:\\Users\\jacque.trahan\\Downloads\\aDataManagerTicketExport*\"\n",
    "load2 = glob.glob(path2 + excel)\n",
    "\n",
    "df2 = pd.read_excel(max(load2, key=os.path.getctime), parse_dates=True, na_values=None)"
   ]
  },
  {
   "cell_type": "markdown",
   "id": "50af7d1c",
   "metadata": {},
   "source": [
    "#### Format RTR data"
   ]
  },
  {
   "cell_type": "code",
   "execution_count": 8,
   "id": "a8204089",
   "metadata": {},
   "outputs": [],
   "source": [
    "Replace_APNs = {'167-310-2500':'167-310-25-00','028-370-004 21285': '028-370-004_21285',\n",
    "                '028-370-004 21275':'028-370-004_21275'}"
   ]
  },
  {
   "cell_type": "code",
   "execution_count": 9,
   "id": "5aa10524",
   "metadata": {},
   "outputs": [],
   "source": [
    "RTR = df2.copy()\n",
    "RTR = RTR[['Zone Name', 'Service Code', 'Unit Count', 'Is Void', 'GIS Zone1','GIS Zone2','Ticket Number']]\n",
    "RTR = RTR.copy()\n",
    "RTR['Zone Name'] = RTR['Zone Name'].str.replace(\"-\",\"\")\n",
    "RTR['Zone Name'] = RTR['Zone Name'].str[:3] + \"-\" + RTR['Zone Name'].str[3:6] + \"-\" + RTR['Zone Name'].str[6:]\n",
    "RTR['Zone Name'] = RTR['Zone Name'].str.replace('167-310-2500', '167-310-25-00')\n",
    "RTR['Service Code'] = RTR['Service Code'].str.strip()\n",
    "\n"
   ]
  },
  {
   "cell_type": "markdown",
   "id": "4a0ecdeb",
   "metadata": {},
   "source": [
    "#### Format RTR service code data"
   ]
  },
  {
   "cell_type": "code",
   "execution_count": 10,
   "id": "f3e5cb1e",
   "metadata": {},
   "outputs": [],
   "source": [
    "RTR_Vecs = RTR.copy()\n",
    "RTR_Vecs = RTR_Vecs[(RTR_Vecs['Is Void'] == False) & (RTR_Vecs['Service Code'].isin(['5A','5B']))]\n",
    "RTR_Vecs = RTR_Vecs[~RTR_Vecs['GIS Zone1'].isin([division])]\n",
    "\n",
    "RTR_Vecs = RTR_Vecs[['Zone Name', 'Unit Count', 'Service Code', 'Ticket Number', 'GIS Zone1','GIS Zone2','Is Void']]"
   ]
  },
  {
   "cell_type": "markdown",
   "id": "22074aea",
   "metadata": {},
   "source": [
    "# Just 5A Tickets"
   ]
  },
  {
   "cell_type": "code",
   "execution_count": 11,
   "id": "05e7072c",
   "metadata": {},
   "outputs": [],
   "source": [
    "RTR_5a = RTR_Vecs[RTR_Vecs['Service Code'].isin(['5A'])]\n",
    "#sum up unit counts\n",
    "RTR_5a_sum = RTR_5a.groupby(['Zone Name'])[['Unit Count']].sum()\n",
    "\n",
    "#change Column header\n",
    "RTR_5a_sum.columns = [\"5A Totals(VEHICLES ADJUDICATED ON PARCEL)\"]\n",
    "#reset index\n",
    "RTR_5a_sum.reset_index(inplace=True)"
   ]
  },
  {
   "cell_type": "markdown",
   "id": "97264df0",
   "metadata": {},
   "source": [
    "# Just 5B Tickets"
   ]
  },
  {
   "cell_type": "code",
   "execution_count": 12,
   "id": "2b25c700",
   "metadata": {},
   "outputs": [],
   "source": [
    "RTR_5b = RTR_Vecs[RTR_Vecs['Service Code'].isin(['5B'])]\n",
    "\n",
    "#sum up unit counts\n",
    "RTR_5b_sum = RTR_5b.groupby(['Zone Name'])[['Unit Count']].sum()\n",
    "\n",
    "# Change column header\n",
    "RTR_5b_sum.columns = ['5B Totals(VEHICLES ADJUDICATED OFF-SITE)']\n",
    "#reset index\n",
    "RTR_5b_sum.reset_index(inplace=True)"
   ]
  },
  {
   "cell_type": "markdown",
   "id": "afbb6631",
   "metadata": {},
   "source": [
    "# Merge 5A and 5B columns"
   ]
  },
  {
   "cell_type": "code",
   "execution_count": 13,
   "id": "89dba40e",
   "metadata": {},
   "outputs": [],
   "source": [
    "RTR_Nums = RTR_5a_sum.merge(RTR_5b_sum,\n",
    "                           how='outer',\n",
    "                           left_on='Zone Name',\n",
    "                           right_on='Zone Name')"
   ]
  },
  {
   "cell_type": "markdown",
   "id": "246b0b4b",
   "metadata": {},
   "source": [
    "### Merge smartsheets and rtr total vehicles\n"
   ]
  },
  {
   "cell_type": "code",
   "execution_count": 14,
   "id": "5b6695f9",
   "metadata": {},
   "outputs": [],
   "source": [
    "smartsheets.columns = map(str.upper, smartsheets.columns)"
   ]
  },
  {
   "cell_type": "code",
   "execution_count": 15,
   "id": "cfed9fde",
   "metadata": {},
   "outputs": [],
   "source": [
    "RTR_vec_final = smartsheets.merge(RTR_Nums,\n",
    "                             left_on='APN_ROW SEGMENT',\n",
    "                             right_on='Zone Name',\n",
    "                             how='left')"
   ]
  },
  {
   "cell_type": "code",
   "execution_count": 16,
   "id": "19425a47",
   "metadata": {},
   "outputs": [],
   "source": [
    "RTR_vec_final.rename(columns={'NUMBER OF VEHICLES REMOVED': 'NUMBER OF VEHICLES REMOVED ACCORDING TO SMART SHEETS'},\n",
    "                     inplace=True)"
   ]
  },
  {
   "cell_type": "code",
   "execution_count": 17,
   "id": "3dfedf63",
   "metadata": {},
   "outputs": [],
   "source": [
    "RTR_vec_final =RTR_vec_final[['APN_ROW SEGMENT','STREET #','STREET NAME','STRUCTURAL STATUS','COUNTY', 'CITY',\n",
    "                           'TOTAL NUMBER OF VEHICLES','5A Totals(VEHICLES ADJUDICATED ON PARCEL)',\n",
    "                              '5B Totals(VEHICLES ADJUDICATED OFF-SITE)',\n",
    "                              'NUMBER OF VEHICLES REMOVED ACCORDING TO SMART SHEETS']]"
   ]
  },
  {
   "cell_type": "code",
   "execution_count": 18,
   "id": "c5d7c73d",
   "metadata": {},
   "outputs": [],
   "source": [
    "RTR_vec_final = RTR_vec_final.copy()\n",
    "RTR_vec_final.fillna(0, inplace=True)"
   ]
  },
  {
   "cell_type": "code",
   "execution_count": 19,
   "id": "256891de",
   "metadata": {},
   "outputs": [],
   "source": [
    "RTR_vec_final['Total Vehicles Removed According to RTR Tickets'] = (RTR_vec_final['5A Totals(VEHICLES ADJUDICATED ON PARCEL)'] + RTR_vec_final['5B Totals(VEHICLES ADJUDICATED OFF-SITE)'])"
   ]
  },
  {
   "cell_type": "code",
   "execution_count": 20,
   "id": "ed074925",
   "metadata": {},
   "outputs": [],
   "source": [
    "RTR_vec_final['Total RTR tickets minus Smartsheet Counts'] = RTR_vec_final['TOTAL NUMBER OF VEHICLES'] - RTR_vec_final['Total Vehicles Removed According to RTR Tickets']"
   ]
  },
  {
   "cell_type": "code",
   "execution_count": 21,
   "id": "7f8ecf6d",
   "metadata": {},
   "outputs": [],
   "source": [
    "RTR_vec_final.columns = map(str.upper, RTR_vec_final.columns)"
   ]
  },
  {
   "cell_type": "code",
   "execution_count": 22,
   "id": "1b8ad534",
   "metadata": {},
   "outputs": [],
   "source": [
    "RTR_vec_final.insert(RTR_vec_final.columns.get_loc('TOTAL VEHICLES REMOVED ACCORDING TO RTR TICKETS')+1, \"SMART SHEETS COMPARED TO RTR\",\n",
    "                    RTR_vec_final.apply(compare, comp1='TOTAL VEHICLES REMOVED ACCORDING TO RTR TICKETS',\n",
    "                                        comp2='NUMBER OF VEHICLES REMOVED ACCORDING TO SMART SHEETS', axis=1))"
   ]
  },
  {
   "cell_type": "markdown",
   "id": "58dda986",
   "metadata": {},
   "source": [
    "# Sum the total cars in Smart sheets and total RTR tickets made\n",
    "* put the sum at the bottom of each row. "
   ]
  },
  {
   "cell_type": "code",
   "execution_count": 23,
   "id": "2c8117d2",
   "metadata": {},
   "outputs": [],
   "source": [
    "# smart sheet make its own data frame then change colum names to make \n",
    "RTR_vec_final.loc['TOTALs'] = RTR_vec_final.sum(numeric_only=True, axis=0).fillna(0)\n"
   ]
  },
  {
   "cell_type": "code",
   "execution_count": 24,
   "id": "2e088049",
   "metadata": {},
   "outputs": [],
   "source": [
    "RTR_vec_final.set_index('APN_ROW SEGMENT', inplace=True)\n",
    "RTR_vec_final.to_excel('Vehicle Counts Central Division-Audit.xlsx')"
   ]
  },
  {
   "cell_type": "markdown",
   "id": "481e1daf",
   "metadata": {},
   "source": [
    "### Check Contractor Sheets vs RTR data\n",
    "### No longer needed"
   ]
  },
  {
   "cell_type": "code",
   "execution_count": 25,
   "id": "f73551eb",
   "metadata": {},
   "outputs": [],
   "source": [
    "# contractor = pd.read_excel(r'C:\\Users\\jacque.trahan\\Downloads\\Vehicles of 2021 CA Fires ADMS Report - RCI.xlsx',\n",
    "#                            sheet_name='Sub UR Ticket Export')"
   ]
  },
  {
   "cell_type": "code",
   "execution_count": 26,
   "id": "c3df0aff",
   "metadata": {},
   "outputs": [],
   "source": [
    "# contractor = contractor.copy()\n",
    "# contractor = contractor[['Zone','Quan.','Ticket No.', 'Service Code', 'Collection Addr No', 'Collection Addr ST']]\n",
    "# contractor['Service Code'] = contractor['Service Code'].str.strip()\n",
    "# contractor = contractor[(contractor['Service Code'].isin(['5A','5B']))]\n",
    "\n",
    "# contractor['Zone'] = contractor['Zone'].str.strip()\n",
    "# contractor['Zone'] = contractor['Zone'].str[:3] + \"-\" + contractor['Zone'].str[3:6] + \"-\" + contractor['Zone'].str[6:]"
   ]
  },
  {
   "cell_type": "markdown",
   "id": "23cfd64f",
   "metadata": {},
   "source": [
    "# Sum up contractor 5A"
   ]
  },
  {
   "cell_type": "code",
   "execution_count": 27,
   "id": "95442d89",
   "metadata": {},
   "outputs": [],
   "source": [
    "# contractor_5A = contractor.copy()\n",
    "# contractor_5A = contractor_5A[contractor_5A['Service Code'].isin(['5A'])]\n",
    "# #sum up unit counts\n",
    "# contractor_5A_sum = contractor_5A.groupby(['Zone'])[['Quan.']].sum()\n",
    "\n",
    "# #change Column header\n",
    "# contractor_5A_sum.columns = [\"5A Totals\"]\n",
    "# #reset index\n",
    "# contractor_5A_sum.reset_index(inplace=True)"
   ]
  },
  {
   "cell_type": "markdown",
   "id": "065bbab4",
   "metadata": {},
   "source": [
    "# Sum up contractor 5B"
   ]
  },
  {
   "cell_type": "code",
   "execution_count": 28,
   "id": "9e12e993",
   "metadata": {},
   "outputs": [],
   "source": [
    "# contractor_5B = contractor.copy()\n",
    "\n",
    "# contractor_5B = contractor.copy()\n",
    "# contractor_5B = contractor_5B[contractor_5B['Service Code'].isin(['5B'])]\n",
    "# #sum up unit counts\n",
    "# contractor_5B_sum = contractor_5B.groupby(['Zone'])[['Quan.']].sum()\n",
    "\n",
    "# #change Column header\n",
    "# contractor_5B_sum.columns = [\"5B Totals\"]\n",
    "# #reset index\n",
    "# contractor_5B_sum.reset_index(inplace=True)"
   ]
  },
  {
   "cell_type": "code",
   "execution_count": 29,
   "id": "d39306ef",
   "metadata": {},
   "outputs": [],
   "source": [
    "# # merge contractor 5A and 5B totals\n",
    "\n",
    "# contracot_final = contractor_5A_sum.merge(contractor_5B_sum,\n",
    "#                                          left_on='Zone',\n",
    "#                                          right_on='Zone',\n",
    "#                                          how='outer')"
   ]
  },
  {
   "cell_type": "code",
   "execution_count": 30,
   "id": "81de1dc1",
   "metadata": {},
   "outputs": [],
   "source": [
    "# contracot_final = contracot_final.add_suffix(\"_Contractor Provided Tickets\")\n",
    "# # RTR_vec_final.reset_index(inplace=True)"
   ]
  },
  {
   "cell_type": "code",
   "execution_count": 31,
   "id": "5c124907",
   "metadata": {},
   "outputs": [],
   "source": [
    "# vec_final_check = RTR_vec_final.merge(contracot_final,\n",
    "#                         left_on='APN_ROW SEGMENT',\n",
    "#                          right_on='Zone_Contractor Provided Tickets',\n",
    "#                          how='outer')\n",
    "\n",
    "# vec_final_check.set_index('APN_ROW SEGMENT', inplace=True)\n",
    "# vec_final_check.to_excel('Tests RTR and Contractor.xlsx')"
   ]
  },
  {
   "cell_type": "code",
   "execution_count": null,
   "id": "1be2335e",
   "metadata": {},
   "outputs": [],
   "source": []
  }
 ],
 "metadata": {
  "kernelspec": {
   "display_name": "Python 3",
   "language": "python",
   "name": "python3"
  },
  "language_info": {
   "codemirror_mode": {
    "name": "ipython",
    "version": 3
   },
   "file_extension": ".py",
   "mimetype": "text/x-python",
   "name": "python",
   "nbconvert_exporter": "python",
   "pygments_lexer": "ipython3",
   "version": "3.9.4"
  }
 },
 "nbformat": 4,
 "nbformat_minor": 5
}
