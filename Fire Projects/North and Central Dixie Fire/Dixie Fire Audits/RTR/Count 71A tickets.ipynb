{
  "cells": [
    {
      "cell_type": "markdown",
      "id": "246b0b4b",
      "metadata": {
        "id": "246b0b4b"
      },
      "source": [
        "### Overview:\n",
        "\n",
        "* 5B tickets (VEHICLES ADJUDICATED OFF-SITE) - same as 5A kept here **just for reference** (nothing is counted off this)\n",
        "\n",
        "\n",
        "*  5A tickets (VEHICLES ADJUDICATED ON PARCEL) - are counted from: aDataManagerTicketExport\n",
        "\n",
        "* 71A tickets (in place for 5B Tickets) - are counted from hProjectDataExport but only if a disposal site was named\n",
        "\n",
        "* NUMBER OF VEHICLES REMOVED ACCORDING TO SMART SHEETS = Smart Sheets Total Vehicle Counts\n",
        "\n",
        "* TOTAL VEHICLES REMOVED ACCORDING TO RTR TICKETS = 5A + 71A Tickets \n",
        "\n",
        "* Matches Removal Ticket Counts - Compares Smart Sheets Vehicle removal counts to total RTR ticket counts(5A + 71A tickets)\n",
        "\n",
        "* TOTAL RTR TICKETS MINUS SMARTSHEET COUNTS = Total Smart sheet vehicle counts - Total Vehicles Removed According to RTR Tickets (5A + 71A tickets)\n",
        "\n",
        "\n",
        "# Video instructions can be found here:\n",
        "\n",
        "* https://youtu.be/0pvU6MJTcLc\n",
        "\n",
        "* We need Central, South Cental Smartsheet, and RTR downloads\n"
      ]
    },
    {
      "cell_type": "code",
      "source": [
        "pip install smartsheet-python-sdk"
      ],
      "metadata": {
        "id": "4RkVURpITEqo",
        "colab": {
          "base_uri": "https://localhost:8080/"
        },
        "outputId": "5c715a3d-ba9b-4ecf-99f5-8327aa099883"
      },
      "id": "4RkVURpITEqo",
      "execution_count": null,
      "outputs": [
        {
          "output_type": "stream",
          "name": "stdout",
          "text": [
            "Collecting smartsheet-python-sdk\n",
            "  Downloading smartsheet_python_sdk-2.105.1-py2.py3-none-any.whl (224 kB)\n",
            "\u001b[K     |████████████████████████████████| 224 kB 4.2 MB/s \n",
            "\u001b[?25hCollecting requests-toolbelt\n",
            "  Downloading requests_toolbelt-0.9.1-py2.py3-none-any.whl (54 kB)\n",
            "\u001b[K     |████████████████████████████████| 54 kB 3.2 MB/s \n",
            "\u001b[?25hRequirement already satisfied: requests in /usr/local/lib/python3.7/dist-packages (from smartsheet-python-sdk) (2.23.0)\n",
            "Requirement already satisfied: six>=1.9 in /usr/local/lib/python3.7/dist-packages (from smartsheet-python-sdk) (1.15.0)\n",
            "Requirement already satisfied: python-dateutil in /usr/local/lib/python3.7/dist-packages (from smartsheet-python-sdk) (2.8.2)\n",
            "Requirement already satisfied: certifi in /usr/local/lib/python3.7/dist-packages (from smartsheet-python-sdk) (2021.10.8)\n",
            "Requirement already satisfied: chardet<4,>=3.0.2 in /usr/local/lib/python3.7/dist-packages (from requests->smartsheet-python-sdk) (3.0.4)\n",
            "Requirement already satisfied: urllib3!=1.25.0,!=1.25.1,<1.26,>=1.21.1 in /usr/local/lib/python3.7/dist-packages (from requests->smartsheet-python-sdk) (1.24.3)\n",
            "Requirement already satisfied: idna<3,>=2.5 in /usr/local/lib/python3.7/dist-packages (from requests->smartsheet-python-sdk) (2.10)\n",
            "Installing collected packages: requests-toolbelt, smartsheet-python-sdk\n",
            "Successfully installed requests-toolbelt-0.9.1 smartsheet-python-sdk-2.105.1\n"
          ]
        }
      ]
    },
    {
      "cell_type": "code",
      "execution_count": null,
      "id": "4f03cd0e",
      "metadata": {
        "id": "4f03cd0e"
      },
      "outputs": [],
      "source": [
        "import pandas as pd\n",
        "import numpy as np\n",
        "import smartsheet\n",
        "from google.colab import files"
      ]
    },
    {
      "cell_type": "code",
      "source": [
        "county= ['ALPINE', 'EL DORADO', 'LAKE', 'NEVADA', 'PLACER', 'TUOLUMNE', 'MENDOCINO', 'TULARE', 'KERN']\n",
        "\n",
        "file_ex = 'xlsx'\n",
        "file_csv = '.csv'\n",
        "\n",
        "\n",
        "# smartsheets Shet IDs\n",
        "Central_id = '1844440261257092'\n",
        "South_id= '6292262490531716'\n",
        "\n",
        "# Central's API\n",
        "Central = smartsheet.Smartsheet('6jJFxnAfFsDErU0BSr1Ae4D6cHq0zenczVR12') #API\n",
        "\n",
        "Central.errors_as_exceptions(True)\n",
        "\n",
        "# Central's API\n",
        "South = smartsheet.Smartsheet(\"H8mqAo60J2zGHSrJEwmlMoY88A9yjgCo6RnSI\") # API\n",
        "South.errors_as_exceptions(True)\n",
        "\n",
        "# # Download Smartrsheets to \n",
        "# Central.Sheets.get_sheet_as_excel(Central_id, download_path=r\"C:\\Users\\jacque.trahan\\Downloads\")\n",
        "# South.Sheets.get_sheet_as_excel(South_id, download_path=r\"C:\\Users\\jacque.trahan\\Downloads\") \n",
        "\n",
        "# Function to read in column titles and row vales and make out data frames\n",
        "def smartsheet_loadup(sheet):\n",
        "    columns = [col.title for col in sheet.columns]\n",
        "    rows = []\n",
        "    for row in sheet.rows:\n",
        "        cells = []\n",
        "        for cell in row.cells:\n",
        "            cells.append(cell.value)\n",
        "        rows.append(cells)\n",
        "    df = pd.DataFrame(rows, columns=columns)\n",
        "    return df\n",
        "\n",
        "Central_SS = smartsheet_loadup(Central.Sheets.get_sheet(Central_id))\n",
        "South_SS = smartsheet_loadup(South.Sheets.get_sheet(South_id))\n",
        "\n",
        "df_both = pd.concat([Central_SS,South_SS])"
      ],
      "metadata": {
        "id": "K_Pwdxz_TOdB"
      },
      "id": "K_Pwdxz_TOdB",
      "execution_count": null,
      "outputs": []
    },
    {
      "cell_type": "markdown",
      "source": [
        "# Load in files"
      ],
      "metadata": {
        "id": "TC_wC4qeuoJl"
      },
      "id": "TC_wC4qeuoJl"
    },
    {
      "cell_type": "code",
      "source": [
        "#@title Paste Our Files Paths { display-mode: \"form\"}\n",
        "\n",
        "# Central = \"/content/Central Division 2021 Debris Removal Tracker (21).xlsx\" #@param {type: \"string\"}\n",
        "# South = \"/content/South Central Division 2021 Debris Removal Tracker (22).xlsx\" #@param {type: \"string\"}\n",
        "RTR_aDrive = \"/content/aDataManagerTicketExport (39).xlsx\" #@param {type: \"string\"}\n",
        "RTR_hDrive = \"/content/hProjectDataExport (8).xlsx\" #@param {type: \"string\"}"
      ],
      "metadata": {
        "id": "b8cTcEKiETfG"
      },
      "id": "b8cTcEKiETfG",
      "execution_count": null,
      "outputs": []
    },
    {
      "cell_type": "markdown",
      "id": "93ccf21c",
      "metadata": {
        "id": "93ccf21c"
      },
      "source": [
        "#  Functions"
      ]
    },
    {
      "cell_type": "code",
      "execution_count": null,
      "id": "4cf2484b",
      "metadata": {
        "id": "4cf2484b"
      },
      "outputs": [],
      "source": [
        "def compare(df, comp1=None, comp2=None, comp3=None):\n",
        "    \"\"\"Compares two columns\"\"\"\n",
        "    if df[comp1] == df[comp2]:\n",
        "        return \"Match\"\n",
        "    else:\n",
        "        return \"No Match\""
      ]
    },
    {
      "cell_type": "markdown",
      "id": "d0fc1a89",
      "metadata": {
        "id": "d0fc1a89"
      },
      "source": [
        "# variables"
      ]
    },
    {
      "cell_type": "code",
      "execution_count": null,
      "id": "77de53da",
      "metadata": {
        "id": "77de53da"
      },
      "outputs": [],
      "source": [
        "excel = \".xlsx\"\n",
        "csv = \".csv\"\n",
        "division = 'Central Division' # will be opposite of the division we are checking. Help check for evrything NOT in Northern Division\n",
        "RTR_division = \" CENTRAL DIVISION\" # ALL CAPS FOR RTR"
      ]
    },
    {
      "cell_type": "markdown",
      "source": [
        "# Load in files"
      ],
      "metadata": {
        "id": "ZnsjfnTZEUro"
      },
      "id": "ZnsjfnTZEUro"
    },
    {
      "cell_type": "markdown",
      "id": "1ec1e56c",
      "metadata": {
        "id": "1ec1e56c"
      },
      "source": [
        "# import Smartsheets and RTR files"
      ]
    },
    {
      "cell_type": "code",
      "source": [
        "Replace_APNs = {'167-310-2500':'167-310-25-00','028-370-004 21285': '028-370-004_21285',\n",
        "                '028-370-004 21275':'028-370-004_21275'}"
      ],
      "metadata": {
        "id": "YuNaS2DrBWYe"
      },
      "id": "YuNaS2DrBWYe",
      "execution_count": null,
      "outputs": []
    },
    {
      "cell_type": "code",
      "execution_count": null,
      "id": "9928ff2e",
      "metadata": {
        "id": "9928ff2e"
      },
      "outputs": [],
      "source": [
        "# # BOP_North Div 2021 Debris Removal Tracker\n",
        "# path1 = r\"C:\\Users\\jacque.trahan\\Downloads\\BOP_North Div 2021 Debris Removal Tracker*\"\n",
        "# load1 = glob.glob(path1 + excel)\n",
        "\n",
        "# df1 = pd.read_excel(max(load1, key=os.path.getctime))"
      ]
    },
    {
      "cell_type": "code",
      "execution_count": null,
      "id": "7d88a0c6",
      "metadata": {
        "id": "7d88a0c6"
      },
      "outputs": [],
      "source": [
        "# # read in South northern Smart sheeets tracker\n",
        "# path_s = r\"C:\\Users\\jacque.trahan\\Downloads\\ANVIL_North Div 2021 Debris Removal Tracker*\"\n",
        "# load_it_s = glob.glob(path_s + excel)\n",
        "\n",
        "# df_s = pd.read_excel(max(load_it_s, key=os.path.getctime), parse_dates=True)"
      ]
    },
    {
      "cell_type": "code",
      "source": [
        "# df1 = pd.read_excel(Central)\n",
        "# df2 = pd.read_excel(South)\n",
        "\n",
        "# df_both = pd.concat([df1,df2], ignore_index=True)\n",
        "\n",
        "# a drive load\n",
        "df_RTRa = pd.read_excel(RTR_aDrive)\n",
        "df_RTRa['Zone Name'] = df_RTRa['Zone Name'].str.strip()\n",
        "\n",
        "df_RTRa['Zone Name'] = df_RTRa['Zone Name'].str[:3] + \"-\" + df_RTRa['Zone Name'].str[3:6] + \"-\" + df_RTRa['Zone Name'].str[6:]\n",
        "df_RTRa['Service Code'] = df_RTRa['Service Code'].str.strip()\n",
        "df_RTRa = df_RTRa.replace({'Zone Name': Replace_APNs})\n",
        "\n",
        "\n",
        "\n",
        "\n",
        "# h Drive load\n",
        "df_RTRh = pd.read_excel(RTR_hDrive, header=2)\n",
        "df_RTRh['Zone'] = df_RTRh['Zone'].str.strip()\n",
        "\n",
        "df_RTRh['Zone'] = df_RTRh['Zone'].str[:3] + \"-\" + df_RTRh['Zone'].str[3:6] + \"-\" + df_RTRh['Zone'].str[6:]\n",
        "df_RTRh = df_RTRh.replace({'Zone Name': Replace_APNs})\n",
        "df_RTRh['Service Code'] = df_RTRh['Service Code'].str.strip()"
      ],
      "metadata": {
        "id": "0545-HRjEcrn"
      },
      "id": "0545-HRjEcrn",
      "execution_count": null,
      "outputs": []
    },
    {
      "cell_type": "markdown",
      "id": "81e5126f",
      "metadata": {
        "id": "81e5126f"
      },
      "source": [
        "### Concat Northern and south cental files"
      ]
    },
    {
      "cell_type": "code",
      "execution_count": null,
      "id": "8aa2b316",
      "metadata": {
        "id": "8aa2b316"
      },
      "outputs": [],
      "source": [
        "# df_both = pd.concat([df1, df_s])"
      ]
    },
    {
      "cell_type": "code",
      "execution_count": null,
      "id": "796f9d86",
      "metadata": {
        "id": "796f9d86"
      },
      "outputs": [],
      "source": [
        "smartsheets = df_both.copy()"
      ]
    },
    {
      "cell_type": "markdown",
      "id": "26caaa96",
      "metadata": {
        "id": "26caaa96"
      },
      "source": [
        "# RTR for vehicle removal"
      ]
    },
    {
      "cell_type": "markdown",
      "id": "505b5619",
      "metadata": {
        "id": "505b5619"
      },
      "source": [
        "# Get 71A tickets but only if the disposal site is not blank\n",
        "* hdrive"
      ]
    },
    {
      "cell_type": "markdown",
      "id": "332db76a",
      "metadata": {
        "id": "332db76a"
      },
      "source": [
        "### read in disposail site dtat base from hProjectDataExport"
      ]
    },
    {
      "cell_type": "code",
      "execution_count": null,
      "id": "764baee0",
      "metadata": {
        "id": "764baee0"
      },
      "outputs": [],
      "source": [
        "# # this is the normal 71A RTR unit rate tickets from hProjectDataExport\n",
        "# path3 = r\"C:\\Users\\jacque.trahan\\Downloads\\hProjectDataExport*\"\n",
        "# load3 = glob.glob(path3+excel)\n",
        "# df3 = pd.read_excel(max(load3, key=os.path.getctime), header=2)"
      ]
    },
    {
      "cell_type": "code",
      "execution_count": null,
      "id": "ba0878e5",
      "metadata": {
        "id": "ba0878e5"
      },
      "outputs": [],
      "source": [
        "RTR_71 = df_RTRh.copy()\n",
        "RTR_71 = RTR_71[['Zone', 'Service Code', 'Quan.','Disposal Site']]\n",
        "\n",
        "#format service code and conditon\n",
        "# RTR_71['Service Code'] = RTR_71['Service Code'].str.strip()\n",
        "RTR_71 = RTR_71[(RTR_71['Service Code'].isin(['71A'])) & (RTR_71['Disposal Site'].notna())]\n",
        "\n",
        "#fix APNs\n",
        "# RTR_71['Zone'] = RTR_71['Zone'].str.replace(\"-\", \"\")\n",
        "# RTR_71['Zone'] = RTR_71['Zone'].str[:3] + \"-\" + RTR_71['Zone'].str[3:6] + \"-\" + RTR_71['Zone'].str[6:] \n",
        "\n",
        "# get just 71A tickets as a column\n",
        "RTR_71_ticks = RTR_71.groupby(['Zone'])[['Quan.']].sum()\n",
        "RTR_71_ticks.reset_index(inplace=True)\n",
        "RTR_71_ticks.columns = ['Zone Name','71A TICKETS COUNTED FOR 5B TICKETS']\n",
        "\n"
      ]
    },
    {
      "cell_type": "markdown",
      "id": "888e90d5",
      "metadata": {
        "id": "888e90d5"
      },
      "source": [
        "### 5A/B Tickets - this is the normal RTR unit rate tickets from aDataManagerTicketExport"
      ]
    },
    {
      "cell_type": "markdown",
      "id": "4a0ecdeb",
      "metadata": {
        "id": "4a0ecdeb"
      },
      "source": [
        "#### Format RTR service code data"
      ]
    },
    {
      "cell_type": "code",
      "execution_count": null,
      "id": "f3e5cb1e",
      "metadata": {
        "id": "f3e5cb1e"
      },
      "outputs": [],
      "source": [
        "# a drive\n",
        "RTR_Vecs = df_RTRa.copy()\n",
        "RTR_Vecs = RTR_Vecs[(RTR_Vecs['Is Void'] == False) & (RTR_Vecs['Service Code'].isin(['5A','5B']))]\n",
        "RTR_Vecs = RTR_Vecs[~(RTR_Vecs['GIS Zone1'].isin(['NORTHERN DIVISION']))]\n",
        "\n",
        "RTR_Vecs = RTR_Vecs[['Zone Name', 'Unit Count', 'Service Code', 'Ticket Number']]"
      ]
    },
    {
      "cell_type": "code",
      "source": [
        "RTR_Vecs.to_excel('Test.xlsx')"
      ],
      "metadata": {
        "id": "DBWhj4B7grC0"
      },
      "id": "DBWhj4B7grC0",
      "execution_count": null,
      "outputs": []
    },
    {
      "cell_type": "markdown",
      "id": "22074aea",
      "metadata": {
        "id": "22074aea"
      },
      "source": [
        "# Just 5A Tickets - adrive"
      ]
    },
    {
      "cell_type": "code",
      "execution_count": null,
      "id": "05e7072c",
      "metadata": {
        "id": "05e7072c"
      },
      "outputs": [],
      "source": [
        "RTR_5a = RTR_Vecs[RTR_Vecs['Service Code'].isin(['5A'])]\n",
        "#sum up unit counts\n",
        "RTR_5a_sum = RTR_5a.groupby(['Zone Name'])[['Unit Count']].sum()\n",
        "\n",
        "#change Column header\n",
        "RTR_5a_sum.columns = [\"5A Totals(VEHICLES ADJUDICATED ON PARCEL)\"]\n",
        "#reset index\n",
        "RTR_5a_sum.reset_index(inplace=True)"
      ]
    },
    {
      "cell_type": "markdown",
      "id": "97264df0",
      "metadata": {
        "id": "97264df0"
      },
      "source": [
        "# Just 5B Tickets - adrive"
      ]
    },
    {
      "cell_type": "code",
      "execution_count": null,
      "id": "2b25c700",
      "metadata": {
        "id": "2b25c700"
      },
      "outputs": [],
      "source": [
        "RTR_5b = RTR_Vecs[RTR_Vecs['Service Code'].isin(['5B'])]\n",
        "\n",
        "#sum up unit counts\n",
        "RTR_5b_sum = RTR_5b.groupby(['Zone Name'])[['Unit Count']].sum()\n",
        "\n",
        "# Change column header\n",
        "RTR_5b_sum.columns = ['5B Totals(VEHICLES ADJUDICATED OFF-SITE)']\n",
        "#reset index\n",
        "RTR_5b_sum.reset_index(inplace=True)"
      ]
    },
    {
      "cell_type": "code",
      "source": [
        "RTR_5b_sum.to_excel('Test.xlsx')"
      ],
      "metadata": {
        "id": "paevdn2rfwfz"
      },
      "id": "paevdn2rfwfz",
      "execution_count": null,
      "outputs": []
    },
    {
      "cell_type": "markdown",
      "id": "afbb6631",
      "metadata": {
        "id": "afbb6631"
      },
      "source": [
        "# Merge 5A and 5B columns"
      ]
    },
    {
      "cell_type": "code",
      "execution_count": null,
      "id": "89dba40e",
      "metadata": {
        "id": "89dba40e"
      },
      "outputs": [],
      "source": [
        "RTR_Nums = RTR_5a_sum.merge(RTR_5b_sum,\n",
        "                           how='outer',\n",
        "                           left_on='Zone Name',\n",
        "                           right_on='Zone Name')"
      ]
    },
    {
      "cell_type": "markdown",
      "id": "d7c8f63c",
      "metadata": {
        "id": "d7c8f63c"
      },
      "source": [
        "# merge Unit rate RTR and disposal 71A RTR "
      ]
    },
    {
      "cell_type": "code",
      "execution_count": null,
      "id": "5ce398fa",
      "metadata": {
        "id": "5ce398fa"
      },
      "outputs": [],
      "source": [
        "RTR_final = RTR_Nums.merge(RTR_71_ticks,\n",
        "                          how='outer',\n",
        "                          left_on='Zone Name',\n",
        "                          right_on='Zone Name')"
      ]
    },
    {
      "cell_type": "code",
      "execution_count": null,
      "id": "ae429d35",
      "metadata": {
        "id": "ae429d35"
      },
      "outputs": [],
      "source": [
        "# RTR_final = RTR_Pre_final.merge(RTR_ticketNum,\n",
        "#                                how='outer',\n",
        "#                                left_on='Zone Name',\n",
        "#                                right_on='Zone Name')\n",
        "# RTR_final = RTR_final[['Zone Name', '5A Totals(VEHICLES ADJUDICATED ON PARCEL)',\n",
        "#        '5B Totals(VEHICLES ADJUDICATED OFF-SITE)',\n",
        "#        '71A TICKETS COUNTED FOR 5B TICKETS']]"
      ]
    },
    {
      "cell_type": "code",
      "execution_count": null,
      "id": "e8208b8d",
      "metadata": {
        "id": "e8208b8d"
      },
      "outputs": [],
      "source": [
        "smartsheets.columns = map(str.upper, smartsheets.columns)"
      ]
    },
    {
      "cell_type": "code",
      "execution_count": null,
      "id": "cfed9fde",
      "metadata": {
        "id": "cfed9fde"
      },
      "outputs": [],
      "source": [
        "RTR_vec_final = smartsheets.merge(RTR_final,\n",
        "                             left_on='APN_ROW SEGMENT',\n",
        "                             right_on='Zone Name',\n",
        "                             how='left')"
      ]
    },
    {
      "cell_type": "code",
      "execution_count": null,
      "id": "19425a47",
      "metadata": {
        "id": "19425a47"
      },
      "outputs": [],
      "source": [
        "RTR_vec_final.rename(columns={'NUMBER OF VEHICLES REMOVED': 'NUMBER OF VEHICLES REMOVED ACCORDING TO SMART SHEETS'},\n",
        "                     inplace=True)\n"
      ]
    },
    {
      "cell_type": "code",
      "execution_count": null,
      "id": "14589601",
      "metadata": {
        "id": "14589601"
      },
      "outputs": [],
      "source": [
        "# RTR_vec_final.columns"
      ]
    },
    {
      "cell_type": "code",
      "execution_count": null,
      "id": "1870010e",
      "metadata": {
        "id": "1870010e"
      },
      "outputs": [],
      "source": [
        "RTR_vec_final =RTR_vec_final[['APN_ROW SEGMENT','STREET #','STREET NAME','STRUCTURAL STATUS','COUNTY','CITY',\n",
        "                           'TOTAL NUMBER OF VEHICLES','5A Totals(VEHICLES ADJUDICATED ON PARCEL)',\n",
        "                              '5B Totals(VEHICLES ADJUDICATED OFF-SITE)','71A TICKETS COUNTED FOR 5B TICKETS',\n",
        "                              'NUMBER OF VEHICLES REMOVED ACCORDING TO SMART SHEETS']]"
      ]
    },
    {
      "cell_type": "code",
      "execution_count": null,
      "id": "c5d7c73d",
      "metadata": {
        "id": "c5d7c73d"
      },
      "outputs": [],
      "source": [
        "RTR_vec_final = RTR_vec_final.copy()\n",
        "RTR_vec_final.fillna(0, inplace=True)"
      ]
    },
    {
      "cell_type": "code",
      "execution_count": null,
      "id": "256891de",
      "metadata": {
        "id": "256891de"
      },
      "outputs": [],
      "source": [
        "RTR_vec_final['Total Vehicles Removed According to RTR Tickets'] = (RTR_vec_final['5A Totals(VEHICLES ADJUDICATED ON PARCEL)'] + RTR_vec_final['71A TICKETS COUNTED FOR 5B TICKETS'])"
      ]
    },
    {
      "cell_type": "code",
      "execution_count": null,
      "id": "ed074925",
      "metadata": {
        "id": "ed074925"
      },
      "outputs": [],
      "source": [
        "RTR_vec_final['Total RTR tickets minus Smartsheet Counts'] = RTR_vec_final['TOTAL NUMBER OF VEHICLES'] - RTR_vec_final['Total Vehicles Removed According to RTR Tickets']"
      ]
    },
    {
      "cell_type": "code",
      "execution_count": null,
      "id": "7f8ecf6d",
      "metadata": {
        "id": "7f8ecf6d"
      },
      "outputs": [],
      "source": [
        "RTR_vec_final.columns = map(str.upper, RTR_vec_final.columns)"
      ]
    },
    {
      "cell_type": "code",
      "execution_count": null,
      "id": "1b8ad534",
      "metadata": {
        "id": "1b8ad534"
      },
      "outputs": [],
      "source": [
        "RTR_vec_final.insert(RTR_vec_final.columns.get_loc('TOTAL VEHICLES REMOVED ACCORDING TO RTR TICKETS')+1, \"SMART SHEETS COMPARED TO RTR\",\n",
        "                    RTR_vec_final.apply(compare, comp1='TOTAL VEHICLES REMOVED ACCORDING TO RTR TICKETS',\n",
        "                                        comp2='NUMBER OF VEHICLES REMOVED ACCORDING TO SMART SHEETS', axis=1))"
      ]
    },
    {
      "cell_type": "code",
      "execution_count": null,
      "id": "2e088049",
      "metadata": {
        "id": "2e088049"
      },
      "outputs": [],
      "source": [
        "RTR_vec_final.set_index('APN_ROW SEGMENT', inplace=True)\n",
        "RTR_vec_final.to_excel('Vehicle Counts Central Division.xlsx')"
      ]
    }
  ],
  "metadata": {
    "kernelspec": {
      "display_name": "Python 3",
      "language": "python",
      "name": "python3"
    },
    "language_info": {
      "codemirror_mode": {
        "name": "ipython",
        "version": 3
      },
      "file_extension": ".py",
      "mimetype": "text/x-python",
      "name": "python",
      "nbconvert_exporter": "python",
      "pygments_lexer": "ipython3",
      "version": "3.9.4"
    },
    "colab": {
      "name": "RTR Total vehicle removed check - Central.ipynb",
      "provenance": [],
      "collapsed_sections": [
        "246b0b4b",
        "93ccf21c",
        "d0fc1a89",
        "1ec1e56c",
        "332db76a",
        "4a0ecdeb",
        "22074aea",
        "97264df0",
        "afbb6631",
        "d7c8f63c"
      ]
    }
  },
  "nbformat": 4,
  "nbformat_minor": 5
}