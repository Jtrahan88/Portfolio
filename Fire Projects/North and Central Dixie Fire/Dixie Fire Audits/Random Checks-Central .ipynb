{
 "cells": [
  {
   "cell_type": "code",
   "execution_count": 2,
   "id": "350cb06c",
   "metadata": {},
   "outputs": [],
   "source": [
    "import pandas as pd\n",
    "import glob\n",
    "import numpy as np\n",
    "import os\n",
    "import smartsheet\n",
    "import datetime"
   ]
  },
  {
   "cell_type": "markdown",
   "id": "4f1b79b1",
   "metadata": {},
   "source": [
    "# API of both central and south central sheets"
   ]
  },
  {
   "cell_type": "code",
   "execution_count": 3,
   "id": "10f9fcda",
   "metadata": {},
   "outputs": [],
   "source": [
    "county= ['ALPINE', 'EL DORADO', 'LAKE', 'NEVADA', 'PLACER', 'TUOLUMNE', 'MENDOCINO', 'TULARE', 'KERN']\n",
    "\n",
    "file_ex = 'xlsx'\n",
    "file_csv = '.csv'\n",
    "\n",
    "\n",
    "# smartsheets Shet IDs\n",
    "Central_id = '1844440261257092'\n",
    "South_id= '6292262490531716'\n",
    "\n",
    "# Central's API\n",
    "Central = smartsheet.Smartsheet('6jJFxnAfFsDErU0BSr1Ae4D6cHq0zenczVR12') #API\n",
    "\n",
    "Central.errors_as_exceptions(True)\n",
    "\n",
    "# Central's API\n",
    "South = smartsheet.Smartsheet(\"H8mqAo60J2zGHSrJEwmlMoY88A9yjgCo6RnSI\") # API\n",
    "South.errors_as_exceptions(True)\n",
    "\n",
    "# # Download Smartrsheets to \n",
    "# Central.Sheets.get_sheet_as_excel(Central_id, download_path=r\"C:\\Users\\jacque.trahan\\Downloads\")\n",
    "# South.Sheets.get_sheet_as_excel(South_id, download_path=r\"C:\\Users\\jacque.trahan\\Downloads\") \n",
    "\n",
    "# Function to read in column titles and row vales and make out data frames\n",
    "def smartsheet_loadup(sheet):\n",
    "    columns = [col.title for col in sheet.columns]\n",
    "    rows = []\n",
    "    for row in sheet.rows:\n",
    "        cells = []\n",
    "        for cell in row.cells:\n",
    "            cells.append(cell.value)\n",
    "        rows.append(cells)\n",
    "    df = pd.DataFrame(rows, columns=columns)\n",
    "    return df\n",
    "\n",
    "Central_SS = smartsheet_loadup(Central.Sheets.get_sheet(Central_id))\n",
    "South_SS = smartsheet_loadup(South.Sheets.get_sheet(South_id))\n",
    "\n",
    "df_both = pd.concat([Central_SS,South_SS])"
   ]
  },
  {
   "cell_type": "code",
   "execution_count": 6,
   "id": "2c3feba9",
   "metadata": {},
   "outputs": [],
   "source": []
  },
  {
   "cell_type": "markdown",
   "id": "5a2c37ec",
   "metadata": {},
   "source": [
    "# Variables"
   ]
  },
  {
   "cell_type": "code",
   "execution_count": 10,
   "id": "cfdc08c7",
   "metadata": {},
   "outputs": [],
   "source": [
    "excel = '.xlsx'\n",
    "csv = \".csv\""
   ]
  },
  {
   "cell_type": "markdown",
   "id": "e51a4aed",
   "metadata": {},
   "source": [
    "# Central Import"
   ]
  },
  {
   "cell_type": "code",
   "execution_count": 11,
   "id": "ef8f8238",
   "metadata": {},
   "outputs": [],
   "source": [
    "# path_C = r\"C:\\Users\\jacque.trahan\\Downloads\\Central Division 2021 Debris Removal Tracker*\"\n",
    "# load_it_C = glob.glob(path_C + excel)\n",
    "# df_c = pd.read_excel(max(load_it_C, key=os.path.getctime))"
   ]
  },
  {
   "cell_type": "code",
   "execution_count": 12,
   "id": "4247b759",
   "metadata": {},
   "outputs": [],
   "source": [
    "# path2_C = r\"C:\\Users\\jacque.trahan\\Downloads\\South Central Division 2021 Debris Removal Tracker*\"\n",
    "# loadit2_C = glob.glob(path2_C + excel)\n",
    "# df2_c = pd.read_excel(max(loadit2_C, key=os.path.getctime))"
   ]
  },
  {
   "cell_type": "code",
   "execution_count": 13,
   "id": "9a4b04bc",
   "metadata": {},
   "outputs": [],
   "source": [
    "# df_both_Cen = pd.concat([df_c, df2_c])"
   ]
  },
  {
   "cell_type": "code",
   "execution_count": 1,
   "id": "dbbc93b6",
   "metadata": {},
   "outputs": [],
   "source": [
    "# df_both_Cen['County'].value_counts()"
   ]
  },
  {
   "cell_type": "markdown",
   "id": "4d8b1a11",
   "metadata": {},
   "source": [
    "# check Tree survey updates"
   ]
  },
  {
   "cell_type": "code",
   "execution_count": 15,
   "id": "f6a68510",
   "metadata": {},
   "outputs": [],
   "source": [
    "SS_tree = df_both_Cen[['APN_ROW Segment','Street #', 'Street Name', 'County',\n",
    "                       'RPF Survey Status',  'RPF Boundary Review Needed', 'RPF Boundary Review Date',\n",
    "                       'PLS Boundary Review Needed', 'PLS Boundary Review Date', 'WLPZ Zone?', 'In lieu practices?',\n",
    "                      'Haz Trees Assessment', 'Haz Trees Present?', 'Number of Trees']].to_excel('MEndo Tree Check.xlsx')"
   ]
  },
  {
   "cell_type": "code",
   "execution_count": 41,
   "id": "36dc0398",
   "metadata": {},
   "outputs": [],
   "source": [
    "tree = pd.read_excel(r\"C:\\Users\\jacque.trahan\\Downloads\\Book1.xlsx\")"
   ]
  },
  {
   "cell_type": "code",
   "execution_count": 42,
   "id": "48cd1ad3",
   "metadata": {},
   "outputs": [],
   "source": [
    "tree = tree[['APN_ROW Segment','RPF Survey Status',  'RPF Boundary Review Needed', 'RPF Boundary Review Date', 'PLS Boundary Review Needed', 'PLS Boundary Review Date']]\n",
    "SS_tree = df_both_Cen[['APN_ROW Segment','RPF Survey Status',  'RPF Boundary Review Needed', 'RPF Boundary Review Date', 'PLS Boundary Review Needed', 'PLS Boundary Review Date']]"
   ]
  },
  {
   "cell_type": "code",
   "execution_count": 43,
   "id": "000abd87",
   "metadata": {},
   "outputs": [],
   "source": [
    "final = tree.merge(SS_tree,\n",
    "                  how='left',\n",
    "                  left_on='APN_ROW Segment',\n",
    "                  right_on='APN_ROW Segment')"
   ]
  },
  {
   "cell_type": "code",
   "execution_count": 45,
   "id": "695e0b70",
   "metadata": {},
   "outputs": [],
   "source": [
    "final.to_excel('Tree checl.xlsx')"
   ]
  },
  {
   "cell_type": "markdown",
   "id": "cd441c3d",
   "metadata": {},
   "source": [
    "# FSO check by city and county"
   ]
  },
  {
   "cell_type": "code",
   "execution_count": 7,
   "id": "6279c39e",
   "metadata": {},
   "outputs": [],
   "source": [
    "fso = df_both_Cen[['APN_ROW Segment','Street #', 'Street Name', 'County','City','ROE Type','Debris Crew']].to_excel('FSO check.xlsx')"
   ]
  },
  {
   "cell_type": "code",
   "execution_count": 6,
   "id": "61f2b1bd",
   "metadata": {
    "collapsed": true
   },
   "outputs": [
    {
     "name": "stdout",
     "output_type": "stream",
     "text": [
      "<class 'pandas.core.frame.DataFrame'>\n",
      "Int64Index: 1073 entries, 0 to 67\n",
      "Data columns (total 153 columns):\n",
      " #    Column                                              Dtype         \n",
      "---   ------                                              -----         \n",
      " 0    APN_ROW Segment                                     object        \n",
      " 1    ROE Type                                            object        \n",
      " 2    Structural Status                                   object        \n",
      " 3    Haz Tree Status                                     object        \n",
      " 4    Debris Crew                                         object        \n",
      " 5    Tree Crew                                           object        \n",
      " 6    Street #                                            object        \n",
      " 7    Street Name                                         object        \n",
      " 8    Unit #                                              object        \n",
      " 9    City                                                object        \n",
      " 10   County                                              object        \n",
      " 11   Group                                               float64       \n",
      " 12   Property Type                                       object        \n",
      " 13   Priority                                            object        \n",
      " 14   Elevation                                           float64       \n",
      " 15   Withdrawal                                          object        \n",
      " 16   Not Eligible                                        object        \n",
      " 17   Reason for Ineligibility                            object        \n",
      " 18   Determinant for Ineligibility                       object        \n",
      " 19   Hold                                                float64       \n",
      " 20   Hold Reason                                         object        \n",
      " 21   Safety Concern Property                             object        \n",
      " 22   USFS Parcel?                                        float64       \n",
      " 23   Special Inclusion                                   object        \n",
      " 24   Gate Locked?                                        float64       \n",
      " 25   Code_Key Location                                   object        \n",
      " 26   Access Issues                                       float64       \n",
      " 27   Access Issues Type                                  object        \n",
      " 28   Phase 1 Complete                                    object        \n",
      " 29   Needs Milk Run or Phase 1 Revisit                   object        \n",
      " 30   811 Called (A&M)                                    float64       \n",
      " 31   Site Assessment                                     datetime64[ns]\n",
      " 32   RAD_MERC Sweep                                      datetime64[ns]\n",
      " 33   RAD_MERC Detected                                   float64       \n",
      " 34   Chimney                                             object        \n",
      " 35   Chimney Inaccessible for ASB                        float64       \n",
      " 36   Chimney Tipped                                      datetime64[ns]\n",
      " 37   NESHAP Walls                                        object        \n",
      " 38   NESHAP Notification                                 float64       \n",
      " 39   In Ground Pool                                      object        \n",
      " 40   Large Propane Tank                                  object        \n",
      " 41   Well                                                object        \n",
      " 42   Septic                                              object        \n",
      " 43   Solar_Wind Power                                    object        \n",
      " 44   Structural Walls                                    object        \n",
      " 45   Need Contractor Assist for ASB                      float64       \n",
      " 46   Vehicle(s)                                          float64       \n",
      " 47   Number of Passenger Vehicles                        float64       \n",
      " 48   Number of ATV_UTV_snowmobiles                       float64       \n",
      " 49   Number of Ag_Commercial_Construction Equipment      float64       \n",
      " 50   Number of Motorcycles                               float64       \n",
      " 51   Number of RV's                                      float64       \n",
      " 52   Number of Trailers                                  float64       \n",
      " 53   Number of Vessels (Boat_Jetski)                     float64       \n",
      " 54   Total Number of Vehicles                            int64         \n",
      " 55   Vehicles Description                                float64       \n",
      " 56   Vehicle Adjudication Complete                       float64       \n",
      " 57   Number of Vehicles Removed                          float64       \n",
      " 58   Propane Tank                                        object        \n",
      " 59   Propane Tank Removal                                object        \n",
      " 60   Date Propane Tank Removed                           float64       \n",
      " 61   ASB Assessment                                      datetime64[ns]\n",
      " 62   ASB Suspected                                       object        \n",
      " 63   ASB Sample Sent                                     datetime64[ns]\n",
      " 64   ASB Results Received                                datetime64[ns]\n",
      " 65   ASB Results                                         object        \n",
      " 66   ASB Abatement                                       datetime64[ns]\n",
      " 67   CAC Clearance                                       datetime64[ns]\n",
      " 68   Day to Asb Abatement from Results Rec'd             float64       \n",
      " 69   Bio Assessment                                      datetime64[ns]\n",
      " 70   Bio Monitor Needed                                  object        \n",
      " 71   Arch Assessment                                     datetime64[ns]\n",
      " 72   Arch Monitor Needed                                 object        \n",
      " 73   Tribal Clearance Required                           object        \n",
      " 74   RPF Survey Status                                   object        \n",
      " 75   WLPZ Zone?                                          object        \n",
      " 76   In lieu practices?                                  object        \n",
      " 77   OES EHP Attention Required                          object        \n",
      " 78   OES EHP Site Visit                                  object        \n",
      " 79   OES EHP Notes                                       object        \n",
      " 80   Water crossing/bridge needed?                       object        \n",
      " 81   Water crossing/bridge install                       object        \n",
      " 82   Water crossing/bridge removal                       float64       \n",
      " 83   Permit(s) Needed                                    object        \n",
      " 84   Permit(s) Received                                  object        \n",
      " 85   811 Called (DDHTR)                                  float64       \n",
      " 86   811 Expiration Date                                 datetime64[ns]\n",
      " 87   Ready for Debris Removal                            datetime64[ns]\n",
      " 88   Property Owner Contact for Debris                   datetime64[ns]\n",
      " 89   Property Owner Contact for Trees                    datetime64[ns]\n",
      " 90   Contact Notes                                       object        \n",
      " 91   If Unable to Contact, Attempted # of Contacts       object        \n",
      " 92   If Unable to Contact, Who Approved to Move Forward  object        \n",
      " 93   Scheduled for Debris Removal                        object        \n",
      " 94   Debris Start                                        datetime64[ns]\n",
      " 95   Debris Finish                                       datetime64[ns]\n",
      " 96   State Rep Sign-Off for DR                           datetime64[ns]\n",
      " 97   Damage Caused during DR                             float64       \n",
      " 98   Explanation of Damage during DR                     float64       \n",
      " 99   Days from Debris Finish to Soil Sample              object        \n",
      " 100  Soil Sample                                         datetime64[ns]\n",
      " 101  Soil Sample Results Rec'd from Lab                  datetime64[ns]\n",
      " 102  Day(s) From Soil Sample to Results Rec'd            float64       \n",
      " 103  Soil Sample Results                                 object        \n",
      " 104  Soil Boring                                         datetime64[ns]\n",
      " 105  Soil Boring Results Rec'd from Lab                  object        \n",
      " 106  Soil Boring Results                                 object        \n",
      " 107  Soil Re-scrape                                      datetime64[ns]\n",
      " 108  Re-scrape Results Rec'd from Lab                    object        \n",
      " 109  Re-scrape Results                                   object        \n",
      " 110  Soil Re-scrape 2                                    object        \n",
      " 111  Re-scrape 2 Results Rec'd from Lab                  object        \n",
      " 112  Re-scrape 2 Results                                 object        \n",
      " 113  Soil Rescrape 3                                     object        \n",
      " 114  Re-scrape 3 Results Rec'd from Lab                  float64       \n",
      " 115  Re-scrape 3 Results                                 object        \n",
      " 116  Soil Samples Approved                               datetime64[ns]\n",
      " 117  Haz Trees Assessment                                datetime64[ns]\n",
      " 118  Haz Trees Present?                                  object        \n",
      " 119  Number of Trees                                     float64       \n",
      " 120  RPF Boundary Review Needed                          float64       \n",
      " 121  RPF Boundary Review Date                            float64       \n",
      " 122  PLS Boundary Review Needed                          float64       \n",
      " 123  PLS Boundary Review Date                            float64       \n",
      " 124  Tree Felling Start                                  object        \n",
      " 125  Tree Felling Complete                               object        \n",
      " 126  Tree Removal Start                                  object        \n",
      " 127  Tree Removal Complete                               object        \n",
      " 128  Number of Hazard Trees Felled                       float64       \n",
      " 129  Erosion Control Complete                            object        \n",
      " 130  Erosion Control Waiver                              float64       \n",
      " 131  Trees Completion Check                              object        \n",
      " 132  Debris FSO Complete                                 object        \n",
      " 133  FSO Complete                                        object        \n",
      " 134  FSO Sent to County                                  object        \n",
      " 135  Owner Name                                          object        \n",
      " 136  Owner Phone                                         object        \n",
      " 137  Owner Email                                         object        \n",
      " 138  ROE Notes                                           object        \n",
      " 139  Special Notes                                       object        \n",
      " 140  Latitude                                            float64       \n",
      " 141  Longitude                                           float64       \n",
      " 142  Fire Name                                           object        \n",
      " 143  Declaration                                         object        \n",
      " 144  Parcel Zoning Type                                  object        \n",
      " 145  Insurance                                           object        \n",
      " 146  ROE Date                                            datetime64[ns]\n",
      " 147  ROE Verified                                        object        \n",
      " 148  Division                                            object        \n",
      " 149  Modified Date                                       datetime64[ns]\n",
      " 150  Duplicate                                           float64       \n",
      " 151  Propane Tanks                                       float64       \n",
      " 152  Date Propane Tank                                   float64       \n",
      "dtypes: datetime64[ns](25), float64(42), int64(1), object(85)\n",
      "memory usage: 1.3+ MB\n"
     ]
    }
   ],
   "source": [
    "df_both_Cen.info(verbose=True)"
   ]
  },
  {
   "cell_type": "markdown",
   "id": "7d33646d",
   "metadata": {},
   "source": [
    "# Get Smartsheet attachment as a list"
   ]
  },
  {
   "cell_type": "code",
   "execution_count": 8,
   "id": "d5d65f11",
   "metadata": {},
   "outputs": [],
   "source": [
    "token = 'g6Frdvvjz8GtRERXOVljIuQrb0DRfQMUnc0DT'"
   ]
  },
  {
   "cell_type": "code",
   "execution_count": 9,
   "id": "8e79547f",
   "metadata": {},
   "outputs": [],
   "source": [
    "smartsheet_client = smartsheet.Smartsheet(token)\n",
    "# smartsheet_client.errors_as_exception(True)"
   ]
  },
  {
   "cell_type": "code",
   "execution_count": 10,
   "id": "cff5822d",
   "metadata": {},
   "outputs": [],
   "source": [
    "response = smartsheet_client.Attachments.list_all_attachments(1844440261257092, include_all=True)\n",
    "\n",
    "attachment = response.data"
   ]
  },
  {
   "cell_type": "code",
   "execution_count": 11,
   "id": "a0380c19",
   "metadata": {},
   "outputs": [
    {
     "data": {
      "text/plain": [
       "smartsheet.models.index_result.IndexResult"
      ]
     },
     "execution_count": 11,
     "metadata": {},
     "output_type": "execute_result"
    }
   ],
   "source": [
    "type(response)"
   ]
  },
  {
   "cell_type": "code",
   "execution_count": 24,
   "id": "f8535b00",
   "metadata": {},
   "outputs": [
    {
     "data": {
      "text/html": [
       "<div>\n",
       "<style scoped>\n",
       "    .dataframe tbody tr th:only-of-type {\n",
       "        vertical-align: middle;\n",
       "    }\n",
       "\n",
       "    .dataframe tbody tr th {\n",
       "        vertical-align: top;\n",
       "    }\n",
       "\n",
       "    .dataframe thead th {\n",
       "        text-align: right;\n",
       "    }\n",
       "</style>\n",
       "<table border=\"1\" class=\"dataframe\">\n",
       "  <thead>\n",
       "    <tr style=\"text-align: right;\">\n",
       "      <th></th>\n",
       "      <th>0</th>\n",
       "    </tr>\n",
       "  </thead>\n",
       "  <tbody>\n",
       "    <tr>\n",
       "      <th>0</th>\n",
       "      <td>{\"attachmentType\": \"FILE\", \"createdAt\": \"2022-...</td>\n",
       "    </tr>\n",
       "    <tr>\n",
       "      <th>1</th>\n",
       "      <td>{\"attachmentType\": \"FILE\", \"createdAt\": \"2022-...</td>\n",
       "    </tr>\n",
       "    <tr>\n",
       "      <th>2</th>\n",
       "      <td>{\"attachmentType\": \"FILE\", \"createdAt\": \"2022-...</td>\n",
       "    </tr>\n",
       "    <tr>\n",
       "      <th>3</th>\n",
       "      <td>{\"attachmentType\": \"FILE\", \"createdAt\": \"2022-...</td>\n",
       "    </tr>\n",
       "    <tr>\n",
       "      <th>4</th>\n",
       "      <td>{\"attachmentType\": \"FILE\", \"createdAt\": \"2022-...</td>\n",
       "    </tr>\n",
       "    <tr>\n",
       "      <th>...</th>\n",
       "      <td>...</td>\n",
       "    </tr>\n",
       "    <tr>\n",
       "      <th>7055</th>\n",
       "      <td>{\"attachmentType\": \"FILE\", \"createdAt\": \"2021-...</td>\n",
       "    </tr>\n",
       "    <tr>\n",
       "      <th>7056</th>\n",
       "      <td>{\"attachmentType\": \"FILE\", \"createdAt\": \"2021-...</td>\n",
       "    </tr>\n",
       "    <tr>\n",
       "      <th>7057</th>\n",
       "      <td>{\"attachmentType\": \"FILE\", \"createdAt\": \"2021-...</td>\n",
       "    </tr>\n",
       "    <tr>\n",
       "      <th>7058</th>\n",
       "      <td>{\"attachmentType\": \"FILE\", \"createdAt\": \"2021-...</td>\n",
       "    </tr>\n",
       "    <tr>\n",
       "      <th>7059</th>\n",
       "      <td>{\"attachmentType\": \"FILE\", \"createdAt\": \"2021-...</td>\n",
       "    </tr>\n",
       "  </tbody>\n",
       "</table>\n",
       "<p>7060 rows × 1 columns</p>\n",
       "</div>"
      ],
      "text/plain": [
       "                                                      0\n",
       "0     {\"attachmentType\": \"FILE\", \"createdAt\": \"2022-...\n",
       "1     {\"attachmentType\": \"FILE\", \"createdAt\": \"2022-...\n",
       "2     {\"attachmentType\": \"FILE\", \"createdAt\": \"2022-...\n",
       "3     {\"attachmentType\": \"FILE\", \"createdAt\": \"2022-...\n",
       "4     {\"attachmentType\": \"FILE\", \"createdAt\": \"2022-...\n",
       "...                                                 ...\n",
       "7055  {\"attachmentType\": \"FILE\", \"createdAt\": \"2021-...\n",
       "7056  {\"attachmentType\": \"FILE\", \"createdAt\": \"2021-...\n",
       "7057  {\"attachmentType\": \"FILE\", \"createdAt\": \"2021-...\n",
       "7058  {\"attachmentType\": \"FILE\", \"createdAt\": \"2021-...\n",
       "7059  {\"attachmentType\": \"FILE\", \"createdAt\": \"2021-...\n",
       "\n",
       "[7060 rows x 1 columns]"
      ]
     },
     "execution_count": 24,
     "metadata": {},
     "output_type": "execute_result"
    }
   ],
   "source": [
    "pd.DataFrame(data=attachment)"
   ]
  },
  {
   "cell_type": "code",
   "execution_count": 19,
   "id": "84523f1c",
   "metadata": {},
   "outputs": [
    {
     "data": {
      "text/plain": [
       "list"
      ]
     },
     "execution_count": 19,
     "metadata": {},
     "output_type": "execute_result"
    }
   ],
   "source": [
    "type(attachment)"
   ]
  },
  {
   "cell_type": "markdown",
   "id": "8d7bf8b6",
   "metadata": {},
   "source": [
    "# Check Propane Status"
   ]
  },
  {
   "cell_type": "code",
   "execution_count": null,
   "id": "bdb626fd",
   "metadata": {},
   "outputs": [],
   "source": [
    "propane = pd.read_excel(r\"C:\\Users\\jacque.trahan\\Downloads\\Propane Tanks _ 02.14.2022_Marked no (1).xlsx\")"
   ]
  },
  {
   "cell_type": "code",
   "execution_count": null,
   "id": "0bf97e70",
   "metadata": {},
   "outputs": [],
   "source": [
    "propane = propane[['APN', 'Propane Tank', 'Propane Tank Removal']]\n",
    "SS_test = df_both_Cen[['APN_ROW Segment','Street #', 'Street Name', 'County','City','ROE Type', 'Propane Tank', 'Propane Tank Removal']]\n",
    "\n",
    "propane_final = propane.merge(SS_test,\n",
    "                             left_on='APN',\n",
    "                             right_on='APN_ROW Segment',\n",
    "                             how='left')"
   ]
  },
  {
   "cell_type": "code",
   "execution_count": null,
   "id": "7ad04875",
   "metadata": {},
   "outputs": [],
   "source": [
    "propane_final.to_excel('test propane.xlsx')"
   ]
  },
  {
   "cell_type": "markdown",
   "id": "428e06ee",
   "metadata": {},
   "source": [
    "# Check tree crew staus amd erosion control dates"
   ]
  },
  {
   "cell_type": "code",
   "execution_count": null,
   "id": "f25fc705",
   "metadata": {},
   "outputs": [],
   "source": [
    "tree_crew = df_both_Cen.copy()\n",
    "tree_crew[['APN_ROW Segment','Street #', 'Street Name', 'County','City','ROE Type',\n",
    "            'Debris Crew', 'Tree Crew', 'Erosion Control Complete']].to_excel('Check Tre FSO dates and erosion.xlsx')"
   ]
  },
  {
   "cell_type": "code",
   "execution_count": null,
   "id": "930419a9",
   "metadata": {},
   "outputs": [],
   "source": []
  },
  {
   "cell_type": "code",
   "execution_count": null,
   "id": "15e8da72",
   "metadata": {},
   "outputs": [],
   "source": [
    "df_both_Cen[['APN_ROW Segment','Street #', 'Street Name', 'County','City','ROE Type', 'Structural Status', 'Debris Crew','Site Assessment',\n",
    "      'Debris Start', 'Debris Finish', 'Trees Completion Check']].to_excel('Wade Check Debris removal still needed Central and South Central.xlsx')"
   ]
  },
  {
   "cell_type": "code",
   "execution_count": null,
   "id": "bda177ea",
   "metadata": {},
   "outputs": [],
   "source": [
    "df_both_Cen.info(verbose=True)"
   ]
  },
  {
   "cell_type": "markdown",
   "id": "1cd3eb78",
   "metadata": {},
   "source": [
    "# Wade checks -Check for evry property debris not completed"
   ]
  },
  {
   "cell_type": "code",
   "execution_count": null,
   "id": "527b2357",
   "metadata": {},
   "outputs": [],
   "source": [
    "wade = df_both_Cen.copy()\n",
    "wade = wade[wade['Structural Status'].isin(['Ready for Debris Removal', 'Site Assessment Complete', 'No Asbestos Detected', \n",
    "                                      'Debris Removal in Progress', 'Asbestos Abatement Needed', 'Pending Asbestos Results'])]"
   ]
  },
  {
   "cell_type": "code",
   "execution_count": null,
   "id": "e6f1b9ea",
   "metadata": {},
   "outputs": [],
   "source": [
    "wade = df_both_Cen.copy()\n",
    "wade = wade[(wade['Debris Finish'].isna()) & (wade['Trees Completion Check'].isna()) ]"
   ]
  },
  {
   "cell_type": "code",
   "execution_count": null,
   "id": "e7434d23",
   "metadata": {},
   "outputs": [],
   "source": [
    "wade[['APN_ROW Segment','Street #', 'Street Name', 'County','ROE Type', 'Structural Status', 'Debris Crew','Site Assessment',\n",
    "      'Debris Start', 'Debris Finish', 'Trees Completion Check']].to_excel('2Wade Check Debris removal still needed Central and South Central.xlsx')"
   ]
  },
  {
   "cell_type": "code",
   "execution_count": null,
   "id": "c7bf7320",
   "metadata": {
    "scrolled": true
   },
   "outputs": [],
   "source": [
    "wade['Structural Status'].value_counts()"
   ]
  },
  {
   "cell_type": "markdown",
   "id": "46633d73",
   "metadata": {},
   "source": [
    "# Kern Property elevations needed"
   ]
  },
  {
   "cell_type": "code",
   "execution_count": null,
   "id": "294d82d7",
   "metadata": {},
   "outputs": [],
   "source": [
    "kern = df_both_Cen.copy()"
   ]
  },
  {
   "cell_type": "code",
   "execution_count": null,
   "id": "8cb635f8",
   "metadata": {},
   "outputs": [],
   "source": [
    "# kern['County'].value_counts()"
   ]
  },
  {
   "cell_type": "code",
   "execution_count": null,
   "id": "ec3a904e",
   "metadata": {},
   "outputs": [],
   "source": [
    "kern[(kern['County'].isin(['Kern']) & (kern['ROE Verified'] =='ROE Verified'))][['APN_ROW Segment','Street #', 'Street Name', 'County',\n",
    "                         'ROE Date', 'ROE Verified', 'Elevation']].to_excel('Kern ROW Elevations Needed.xlsx')"
   ]
  },
  {
   "cell_type": "markdown",
   "id": "c5e9a66a",
   "metadata": {},
   "source": [
    "# Check ROE Dates"
   ]
  },
  {
   "cell_type": "code",
   "execution_count": null,
   "id": "e8c2caee",
   "metadata": {},
   "outputs": [],
   "source": [
    "ROE_dates = df_both_Cen[['APN_ROW Segment','Street #', 'Street Name', 'County',\n",
    "                         'ROE Date', 'ROE Verified']].to_excel('ROE Date Checks.xlsx')\n",
    "                        "
   ]
  },
  {
   "cell_type": "markdown",
   "id": "017ef51a",
   "metadata": {},
   "source": [
    "# Check debris start and finish dates"
   ]
  },
  {
   "cell_type": "code",
   "execution_count": null,
   "id": "2e7c08e2",
   "metadata": {},
   "outputs": [],
   "source": [
    "df_both_Cen = df_both_Cen[['APN_ROW Segment','Street #', 'Street Name', 'County',\n",
    "                          'Debris Start', 'Debris Finish', 'State Rep Sign-Off for DR']].to_excel('Check debris start finish and state sign off dates.xlsx')"
   ]
  },
  {
   "cell_type": "code",
   "execution_count": null,
   "id": "e80984da",
   "metadata": {},
   "outputs": [],
   "source": [
    "# df_both_Cen.info(verbose=True)"
   ]
  },
  {
   "cell_type": "markdown",
   "id": "2b88ef18",
   "metadata": {},
   "source": [
    "# Randy check for Ready for Derbis rem"
   ]
  },
  {
   "cell_type": "code",
   "execution_count": null,
   "id": "f2e728c5",
   "metadata": {},
   "outputs": [],
   "source": [
    "df_both_Cen = df_both_Cen[['APN_ROW Segment','Street #', 'Street Name', 'County','Structural Status',\"Debris Crew\",'ROE Type',\n",
    "             'Elevation', \"Not Eligible\",'Reason for Ineligibility','Determinant for Ineligibility',\n",
    "                           'Withdrawal',\n",
    "                           'Hold', 'Hold Reason']]"
   ]
  },
  {
   "cell_type": "code",
   "execution_count": null,
   "id": "c8861731",
   "metadata": {},
   "outputs": [],
   "source": [
    "df_both_Cen = df_both_Cen[df_both_Cen['County'].isin(['Tulare'])]"
   ]
  },
  {
   "cell_type": "code",
   "execution_count": null,
   "id": "85fa5dc1",
   "metadata": {},
   "outputs": [],
   "source": []
  },
  {
   "cell_type": "code",
   "execution_count": null,
   "id": "52dee553",
   "metadata": {},
   "outputs": [],
   "source": [
    "df_both_Cen.to_excel('Tulare 22 APNs with elvauation.xlsx')"
   ]
  },
  {
   "cell_type": "code",
   "execution_count": null,
   "id": "d8e030ae",
   "metadata": {},
   "outputs": [],
   "source": [
    "df_both_Cen['County'].value_counts()"
   ]
  },
  {
   "cell_type": "code",
   "execution_count": null,
   "id": "cd2570a7",
   "metadata": {},
   "outputs": [],
   "source": [
    "df_both_Cen = df_both_Cen[(df_both_Cen['Elevation'] <= 4500) & \n",
    "                         (df_both_Cen[\"Not Eligible\"].isna())&\n",
    "                         (df_both_Cen[\"Withdrawal\"].isna())]"
   ]
  },
  {
   "cell_type": "code",
   "execution_count": null,
   "id": "793169c8",
   "metadata": {},
   "outputs": [],
   "source": [
    "df_both_Cen.to_excel(\"Properties under 4500 Elevation and ready for debris removal.xlsx\")"
   ]
  },
  {
   "cell_type": "code",
   "execution_count": null,
   "id": "6c451513",
   "metadata": {},
   "outputs": [],
   "source": [
    "df_both_Cen[['APN_ROW Segment','Street #', 'Street Name', 'County','811 Called (A&M)',\"Debris Crew\", \"Not Eligible\", 'Withdrawal']].to_excel('811 am.xlsx')"
   ]
  },
  {
   "cell_type": "code",
   "execution_count": null,
   "id": "89917f63",
   "metadata": {},
   "outputs": [],
   "source": [
    "df_both_Cen.info(verbose=True)"
   ]
  },
  {
   "cell_type": "code",
   "execution_count": null,
   "id": "b9769730",
   "metadata": {},
   "outputs": [],
   "source": [
    "df_both_Cen[['APN_ROW Segment','Street #', 'Street Name', 'County',\n",
    "            'Bio Assessment', 'Arch Assessment','Elevation', \"Not Eligible\", 'Withdrawal']].to_excel('Dispatch.xlsx')"
   ]
  },
  {
   "cell_type": "code",
   "execution_count": null,
   "id": "3f1af734",
   "metadata": {},
   "outputs": [],
   "source": []
  },
  {
   "cell_type": "code",
   "execution_count": null,
   "id": "9db071a2",
   "metadata": {},
   "outputs": [],
   "source": []
  },
  {
   "cell_type": "code",
   "execution_count": null,
   "id": "0e361bc9",
   "metadata": {},
   "outputs": [],
   "source": []
  },
  {
   "cell_type": "code",
   "execution_count": null,
   "id": "ce6b9186",
   "metadata": {},
   "outputs": [],
   "source": [
    "df_both_Cen.to_excel('Random Full Check.xlsx')"
   ]
  },
  {
   "cell_type": "code",
   "execution_count": null,
   "id": "52f8c5cf",
   "metadata": {},
   "outputs": [],
   "source": [
    "bi = df_both_Cen.copy()\n",
    "bi = bi[['APN_ROW Segment','Street #', 'Street Name', 'County','811 Called (DDHTR)',\n",
    "                      'Site Assessment', 'ASB Assessment',\n",
    "                      \"Debris Crew\", \"Not Eligible\", 'Withdrawal']]\n",
    "bi = bi[(bi['Not Eligible'].isnull()) & (bi['Withdrawal'].isnull()) &\n",
    "                         (bi['Site Assessment'].notna()) & (bi['ASB Assessment'].notna())]\n",
    "bi.to_excel(\"Test power bi aspects.xlsx\")"
   ]
  },
  {
   "cell_type": "code",
   "execution_count": null,
   "id": "0538be34",
   "metadata": {},
   "outputs": [],
   "source": [
    "Cen_checks = df_both_Cen.copy()"
   ]
  },
  {
   "cell_type": "code",
   "execution_count": null,
   "id": "28cb0386",
   "metadata": {},
   "outputs": [],
   "source": [
    "Cen_checks[['APN_ROW Segment', 'Street #', 'Street Name', 'City', 'County', 'Structural Status',\n",
    "                                                  'Phase 1 Complete', 'Hold', 'USFS Parcel?', 'Not Eligible', 'Withdrawal']]"
   ]
  },
  {
   "cell_type": "code",
   "execution_count": null,
   "id": "5f804d00",
   "metadata": {},
   "outputs": [],
   "source": [
    "Cen_checks[['APN_ROW Segment', 'Street #', 'Street Name', 'City', 'County', 'Structural Status',\n",
    "                                                  'Phase 1 Complete', 'Hold', 'USFS Parcel?', 'Not Eligible', 'Withdrawal']].to_excel(\"Verified FSOs for central and South Central.xlsx\")"
   ]
  },
  {
   "cell_type": "code",
   "execution_count": null,
   "id": "44c2d80b",
   "metadata": {},
   "outputs": [],
   "source": [
    "Cen_checks[(Cen_checks['Phase 1 Complete'] != \"Yes\") |\n",
    "                       (Cen_checks['Hold'] == True) |\n",
    "                       (Cen_checks['USFS Parcel?'] != \"N/A\") |\n",
    "                       (Cen_checks['Not Eligible'].notna() | Cen_checks['Withdrawal'].notna())][['APN_ROW Segment', 'Street #', 'Street Name', 'City', 'County', 'Structural Status',\n",
    "                                                  'Phase 1 Complete', 'Hold', 'USFS Parcel?', 'Not Eligible', 'Withdrawal']].to_excel(\"Verified FSOs for central and South Central.xlsx\")"
   ]
  },
  {
   "cell_type": "code",
   "execution_count": null,
   "id": "f22a91dd",
   "metadata": {},
   "outputs": [],
   "source": [
    "[['APN_ROW Segment', 'Street #', 'Street Name', 'City', 'County', 'Structural Status',\n",
    "                                                  'Phase 1 Complete', 'Hold', 'USFS Parcel?', 'Not Eligible', 'Withdrawal']].to_excel(\"Verified FSOs for central and South Central.xlsx\")"
   ]
  },
  {
   "cell_type": "code",
   "execution_count": null,
   "id": "ed89a337",
   "metadata": {},
   "outputs": [],
   "source": [
    "Cen_checks[(Cen_checks['ROE Verified'] == 'ROE Verified') &\n",
    "          (Cen_checks['Site Assessment'].isna())][['APN_ROW Segment', 'Street #', 'Street Name', 'City', 'County', 'Structural Status',\n",
    "                                                  'ROE Verified', 'Site Assessment']].to_excel(\"ROEs Available for SSF Teams for central and South Central.xlsx\")"
   ]
  },
  {
   "cell_type": "code",
   "execution_count": null,
   "id": "90f48d44",
   "metadata": {},
   "outputs": [],
   "source": [
    "Cen_checks.to_excel('Centrals smartsheets.xlsx')"
   ]
  },
  {
   "cell_type": "markdown",
   "id": "a23ddf4d",
   "metadata": {},
   "source": [
    "# Northern imports"
   ]
  },
  {
   "cell_type": "code",
   "execution_count": null,
   "id": "c8e5e4ab",
   "metadata": {},
   "outputs": [],
   "source": [
    "# read in BOP Smart hseets tracker\n",
    "path_N = r\"C:\\Users\\jacque.trahan\\Downloads\\BOP_North Div 2021 Debris Removal Tracker*\"\n",
    "load_itN = glob.glob(path_N + excel)\n",
    "\n",
    "df_N = pd.read_excel(max(load_itN, key=os.path.getctime), parse_dates=True)"
   ]
  },
  {
   "cell_type": "code",
   "execution_count": null,
   "id": "381c2c52",
   "metadata": {},
   "outputs": [],
   "source": [
    "# read in ANVIL Smart sheeets tracker\n",
    "path_ANV = r\"C:\\Users\\jacque.trahan\\Downloads\\ANVIL_North Div 2021 Debris Removal Tracker*\"\n",
    "load_it_ANV = glob.glob(path_ANV + excel)\n",
    "\n",
    "df_ANV = pd.read_excel(max(load_it_ANV, key=os.path.getctime), parse_dates=True)"
   ]
  },
  {
   "cell_type": "code",
   "execution_count": null,
   "id": "2290159f",
   "metadata": {},
   "outputs": [],
   "source": [
    "North_both = pd.concat([df_ANV, df_N])"
   ]
  },
  {
   "cell_type": "code",
   "execution_count": null,
   "id": "16d94a96",
   "metadata": {},
   "outputs": [],
   "source": [
    "North_check = North_both.copy()"
   ]
  },
  {
   "cell_type": "code",
   "execution_count": null,
   "id": "852f30b0",
   "metadata": {},
   "outputs": [],
   "source": [
    "Cen_checks.columns"
   ]
  },
  {
   "cell_type": "code",
   "execution_count": null,
   "id": "e5aceedd",
   "metadata": {},
   "outputs": [],
   "source": [
    "North_check.columns"
   ]
  },
  {
   "cell_type": "code",
   "execution_count": null,
   "id": "ef0fffd0",
   "metadata": {},
   "outputs": [],
   "source": [
    "# Columns in both data frames\n",
    "Cen_checks.columns.intersection(North_check.columns).to_frame()"
   ]
  },
  {
   "cell_type": "code",
   "execution_count": null,
   "id": "fda7dd9f",
   "metadata": {},
   "outputs": [],
   "source": [
    "North_check.columns.difference(Cen_checks.columns).to_frame().drop(columns=0).to_excel('Northern Branch extra columns.xlsx')"
   ]
  },
  {
   "cell_type": "code",
   "execution_count": null,
   "id": "80716c1a",
   "metadata": {},
   "outputs": [],
   "source": [
    "North_check.to_excel('Northern Branch extra columns check.xlsx')"
   ]
  },
  {
   "cell_type": "code",
   "execution_count": null,
   "id": "f3dac70d",
   "metadata": {},
   "outputs": [],
   "source": [
    "checks = checks[['APN_ROW Segment', 'Street #', 'Street Name', 'City', 'County', 'Structural Status',\n",
    "                 'ASB Assessment', 'ASB Sample Sent', 'ASB Results Received','ASB Results', 'ASB Abatement',\n",
    "                'Soil Sample', \"Soil Sample Results Rec'd from Lab\", \"Soil Sample Results\"]]"
   ]
  },
  {
   "cell_type": "code",
   "execution_count": null,
   "id": "10552aa3",
   "metadata": {},
   "outputs": [],
   "source": [
    "checks = checks[checks['Structural Status'].isin(['Pending Soil Sample Results', 'Pending Asbestos Results'])]"
   ]
  },
  {
   "cell_type": "code",
   "execution_count": null,
   "id": "77262076",
   "metadata": {},
   "outputs": [],
   "source": [
    "checks.to_excel('Check lake status.xlsx')"
   ]
  },
  {
   "cell_type": "code",
   "execution_count": null,
   "id": "17f07239",
   "metadata": {},
   "outputs": [],
   "source": []
  },
  {
   "cell_type": "markdown",
   "id": "2ac02325",
   "metadata": {},
   "source": [
    "# Richard task add county and street info"
   ]
  },
  {
   "cell_type": "code",
   "execution_count": null,
   "id": "dfc8335d",
   "metadata": {},
   "outputs": [],
   "source": [
    "# df_v = pd.read_excel(r\"C:\\Users\\jacque.trahan\\Downloads\\Vehicles on property_01102022.xlsx\")"
   ]
  },
  {
   "cell_type": "code",
   "execution_count": null,
   "id": "e0a80e52",
   "metadata": {},
   "outputs": [],
   "source": [
    "# df_v.head(1)"
   ]
  },
  {
   "cell_type": "code",
   "execution_count": null,
   "id": "a2d9d983",
   "metadata": {},
   "outputs": [],
   "source": [
    "# v_final = checks.merge(df_v,\n",
    "#                       how='outer',\n",
    "#                       left_on='APN_ROW Segment',\n",
    "#                       right_on='APN')\n",
    "\n",
    "# v_final = v_final[['APN_ROW Segment','APN','Street #', 'Street Name', 'City', 'County',\n",
    "#                  'Quantity of vehicles \\nleft on parcel', 'FINDINGS in SUM', 'Findings in ISW']].to_excel('Vehicles on property_01102022.xlsx')"
   ]
  },
  {
   "cell_type": "code",
   "execution_count": null,
   "id": "ab47a4d3",
   "metadata": {},
   "outputs": [],
   "source": []
  },
  {
   "cell_type": "code",
   "execution_count": null,
   "id": "0cd79cca",
   "metadata": {},
   "outputs": [],
   "source": [
    "checks.to_excel('Missing SOS Files.xlsx')"
   ]
  },
  {
   "cell_type": "code",
   "execution_count": null,
   "id": "099279a3",
   "metadata": {},
   "outputs": [],
   "source": [
    "checks = checks[['APN_ROW Segment','Street #', 'Street Name', 'County',\"Debris Crew\",\n",
    "                 'Debris Finish']].to_excel(\"Finsihs Debris.xlsx\")\n"
   ]
  },
  {
   "cell_type": "code",
   "execution_count": null,
   "id": "5d2001c2",
   "metadata": {},
   "outputs": [],
   "source": []
  },
  {
   "cell_type": "code",
   "execution_count": null,
   "id": "3beccf5a",
   "metadata": {},
   "outputs": [],
   "source": []
  },
  {
   "cell_type": "code",
   "execution_count": null,
   "id": "1297abf8",
   "metadata": {},
   "outputs": [],
   "source": [
    "checks[['APN_ROW Segment','Street #', 'Street Name', 'County',\"Debris Crew\",'Haz Tree Status','Tree Crew']].to_excel(\"Checks Debris crew status to trees.xlsx\")"
   ]
  },
  {
   "cell_type": "code",
   "execution_count": null,
   "id": "7f0049dd",
   "metadata": {},
   "outputs": [],
   "source": [
    "checks.loc[checks['Not Eligible'].notnull(),['APN_ROW Segment','Street #', 'Street Name', 'County', 'Not Eligible']].to_excel('Not eligible properties.xlsx')"
   ]
  },
  {
   "cell_type": "code",
   "execution_count": null,
   "id": "800ec949",
   "metadata": {},
   "outputs": [],
   "source": [
    "# pd.set_option('display.max_rows', 210)"
   ]
  },
  {
   "cell_type": "markdown",
   "id": "2bcd7334",
   "metadata": {},
   "source": [
    "# Checks debris start/finish dates and special notes"
   ]
  },
  {
   "cell_type": "code",
   "execution_count": null,
   "id": "3cd1c2fd",
   "metadata": {},
   "outputs": [],
   "source": [
    "# checks = checks[['APN_ROW Segment','Street #', 'Street Name', 'County','Debris Start', 'Debris Finish', 'Special Notes']]"
   ]
  },
  {
   "cell_type": "code",
   "execution_count": null,
   "id": "969719cc",
   "metadata": {},
   "outputs": [],
   "source": [
    "# fin_no_start = checks[(checks['Debris Start'].isnull()) & (checks['Debris Finish'].notnull())]\n",
    "# fin_no_start.to_excel('MMissing startdate but has finish dates.xlsx')"
   ]
  },
  {
   "cell_type": "markdown",
   "id": "f4c9a70a",
   "metadata": {},
   "source": [
    "# 811 checks"
   ]
  },
  {
   "cell_type": "code",
   "execution_count": null,
   "id": "2441558a",
   "metadata": {},
   "outputs": [],
   "source": [
    "checks_811s = checks[['APN_ROW Segment','Street #', 'Street Name', 'County','811 Called (A&M)',\n",
    "                      'Site Assessment', \"Debris Crew\", \"Not Eligible\", 'Withdrawal']]\n",
    "checks_811s = checks_811s[(checks_811s['Not Eligible'].isnull()) & (checks_811s['Withdrawal'].isnull())]"
   ]
  },
  {
   "cell_type": "code",
   "execution_count": null,
   "id": "6b59438d",
   "metadata": {},
   "outputs": [],
   "source": [
    "# checks_811s.head()"
   ]
  },
  {
   "cell_type": "code",
   "execution_count": null,
   "id": "c7784a85",
   "metadata": {},
   "outputs": [],
   "source": [
    "checks_811s = checks_811s.copy()\n",
    "checks_811s['811 Called (A&M)'].fillna(0, inplace=True)"
   ]
  },
  {
   "cell_type": "code",
   "execution_count": null,
   "id": "65c8a904",
   "metadata": {},
   "outputs": [],
   "source": [
    "checks_811s.replace(1.0, \"Complete\", inplace=True)\n",
    "checks_811s.replace(0.0, \"Not done\", inplace=True)"
   ]
  },
  {
   "cell_type": "code",
   "execution_count": null,
   "id": "ff5dfc7e",
   "metadata": {},
   "outputs": [],
   "source": [
    "checks_811s_notdone = checks_811s[(checks_811s['811 Called (A&M)'] == \"Not done\")]# & (checks_811s['Site Assessment'].notnull())]"
   ]
  },
  {
   "cell_type": "code",
   "execution_count": null,
   "id": "a8f4fa47",
   "metadata": {},
   "outputs": [],
   "source": [
    "checks_811s_complete= checks_811s[(checks_811s['811 Called (A&M)']==\"Complete\")] #& (checks_811s['Site Assessment'].notnull())] # "
   ]
  },
  {
   "cell_type": "code",
   "execution_count": null,
   "id": "f0fafe91",
   "metadata": {},
   "outputs": [],
   "source": [
    "checks_811s_notdone.to_excel(\"811s (A&M) Not completed.xlsx\")"
   ]
  },
  {
   "cell_type": "code",
   "execution_count": null,
   "id": "7a337e52",
   "metadata": {},
   "outputs": [],
   "source": [
    "checks_811s_complete.to_excel(\"811s (A&M) completed.xlsx\")"
   ]
  },
  {
   "cell_type": "markdown",
   "id": "7a860a98",
   "metadata": {},
   "source": [
    "# Power BI"
   ]
  },
  {
   "cell_type": "code",
   "execution_count": null,
   "id": "ce0ccd6d",
   "metadata": {},
   "outputs": [],
   "source": [
    "power_bi= checks.copy()"
   ]
  },
  {
   "cell_type": "code",
   "execution_count": null,
   "id": "5c5471df",
   "metadata": {},
   "outputs": [],
   "source": [
    "power_bi = power_bi[['APN_ROW Segment', 'ASB Assessment', 'Site Assessment', 'Phase 1 Complete', 'ROE Verified']]"
   ]
  },
  {
   "cell_type": "code",
   "execution_count": null,
   "id": "30b4bf76",
   "metadata": {},
   "outputs": [],
   "source": [
    "power_bi[(power_bi['ASB Assessment'].isnull())]"
   ]
  },
  {
   "cell_type": "code",
   "execution_count": null,
   "id": "d3fb1ae9",
   "metadata": {},
   "outputs": [],
   "source": [
    "power_bi[(power_bi['ASB Assessment'].isnull()) & (power_bi['Phase 1 Complete'].isin(['No', 'Unk', \"\"])& (power_bi['ROE Verified'] == \"ROE Verified\"))]"
   ]
  },
  {
   "cell_type": "code",
   "execution_count": null,
   "id": "4c04ddfc",
   "metadata": {},
   "outputs": [],
   "source": [
    "power_bi[(power_bi['Site Assessment'].isnull())]"
   ]
  },
  {
   "cell_type": "code",
   "execution_count": null,
   "id": "726816ef",
   "metadata": {},
   "outputs": [],
   "source": [
    "power_bi[(power_bi['Site Assessment'].isnull()) & (power_bi['Phase 1 Complete'].isin(['No', 'Unk', \"\"])& (power_bi['ROE Verified'] == \"ROE Verified\"))]"
   ]
  },
  {
   "cell_type": "markdown",
   "id": "d83b53b0",
   "metadata": {},
   "source": [
    "# Phase 1 checks"
   ]
  },
  {
   "cell_type": "code",
   "execution_count": null,
   "id": "e3558d32",
   "metadata": {},
   "outputs": [],
   "source": [
    "phase = checks.copy()"
   ]
  },
  {
   "cell_type": "code",
   "execution_count": null,
   "id": "6dd44c44",
   "metadata": {},
   "outputs": [],
   "source": [
    "phase[['APN_ROW Segment', 'Phase 1 Complete']].to_excel('Phase 1 add no to blanks.xlsx')"
   ]
  },
  {
   "cell_type": "markdown",
   "id": "30c68974",
   "metadata": {},
   "source": [
    "# Milk run QC"
   ]
  },
  {
   "cell_type": "markdown",
   "id": "593ddd84",
   "metadata": {},
   "source": [
    "#### Central Division 2021 DTSC Tracker "
   ]
  },
  {
   "cell_type": "code",
   "execution_count": null,
   "id": "b15023f3",
   "metadata": {},
   "outputs": [],
   "source": [
    "milk_path = r\"C:\\Users\\jacque.trahan\\Downloads\\Central Division 2021 DTSC Tracker*\"\n",
    "milk_type = \".xlsx\"\n",
    "milk_load = glob.glob(milk_path + milk_type)\n",
    "milkrun_DTSC_SS_tracker = pd.read_excel(max(milk_load, key=os.path.getctime))"
   ]
  },
  {
   "cell_type": "code",
   "execution_count": null,
   "id": "bacde6eb",
   "metadata": {},
   "outputs": [],
   "source": [
    "milkrun_DTSC_SS_tracker = milkrun_DTSC_SS_tracker = milkrun_DTSC_SS_tracker.copy()\n",
    "milkrun_DTSC_SS_tracker = milkrun_DTSC_SS_tracker[['APN', 'DTSC Attn Needed', 'Milk Run Notes',\n",
    "                                                              'DTSC Activated', 'DTSC Comments', 'DTSC Completed',\n",
    "                                                               '\"MilkRun/Phase1...\" field reset in debris tracker', '\"Phase 1 Status\" updated in debris tracker']]\n",
    "milkrun_DTSC_SS_tracker = milkrun_DTSC_SS_tracker.add_suffix(\"_DTSC\")"
   ]
  },
  {
   "cell_type": "code",
   "execution_count": null,
   "id": "864a2f30",
   "metadata": {},
   "outputs": [],
   "source": [
    "milkrun_DTSC_SS_tracker.columns"
   ]
  },
  {
   "cell_type": "markdown",
   "id": "59cfb7c7",
   "metadata": {},
   "source": [
    "### CENTRAL PLANNING TRACKER TT "
   ]
  },
  {
   "cell_type": "code",
   "execution_count": null,
   "id": "81fcc2fd",
   "metadata": {},
   "outputs": [],
   "source": [
    "plan_milk_path = r\"C:\\Users\\jacque.trahan\\Downloads\\CENTRAL PLANNING TRACKER TT*\"\n",
    "plan_milk_type = \".xlsx\"\n",
    "plan_milk_load = glob.glob(plan_milk_path + plan_milk_type)\n",
    "milkrun_DTSC_Planning_tracker = pd.read_excel(max(plan_milk_load, key=os.path.getctime), sheet_name='MILK RUN')\n"
   ]
  },
  {
   "cell_type": "code",
   "execution_count": null,
   "id": "018a242a",
   "metadata": {},
   "outputs": [],
   "source": [
    "milkrun_DTSC_Planning_tracker = milkrun_DTSC_Planning_tracker.copy()\n",
    "milkrun_DTSC_Planning_tracker = milkrun_DTSC_Planning_tracker[['APN', 'HHW?', 'WASTE LEFT ON SITE',\n",
    "       'LOCATION OF WASTE, IF SPECIFIED', 'DATE ADDED TO MILK RUN TRACKER', 'DATE COMPLETED']]\n",
    "milkrun_DTSC_Planning_tracker = milkrun_DTSC_Planning_tracker.add_suffix(\"_Planning\")"
   ]
  },
  {
   "cell_type": "markdown",
   "id": "4d51452c",
   "metadata": {},
   "source": [
    "### Smart sheets "
   ]
  },
  {
   "cell_type": "code",
   "execution_count": null,
   "id": "8d4ed6ba",
   "metadata": {},
   "outputs": [],
   "source": [
    "smartsheets = checks.copy()\n",
    "smartsheets = smartsheets[['APN_ROW Segment','Structural Status', 'Street #', 'Street Name', 'County',\n",
    "                           'Needs Milk Run or Phase 1 Revisit']]"
   ]
  },
  {
   "cell_type": "markdown",
   "id": "0947b4f1",
   "metadata": {},
   "source": [
    "### Merge them"
   ]
  },
  {
   "cell_type": "code",
   "execution_count": null,
   "id": "33037724",
   "metadata": {},
   "outputs": [],
   "source": [
    "DTSC_merge = milkrun_DTSC_SS_tracker.merge(milkrun_DTSC_Planning_tracker,\n",
    "                            left_on='APN_DTSC',\n",
    "                            right_on='APN_Planning',\n",
    "                            how='outer')"
   ]
  },
  {
   "cell_type": "code",
   "execution_count": null,
   "id": "4728b3bf",
   "metadata": {},
   "outputs": [],
   "source": [
    "final = DTSC_merge.merge(smartsheets,\n",
    "                      left_on='APN_DTSC',\n",
    "                      right_on='APN_ROW Segment',\n",
    "                      how='outer')"
   ]
  },
  {
   "cell_type": "markdown",
   "id": "87ab9bf6",
   "metadata": {},
   "source": [
    "# style\n",
    "* DTSC = yellow\n",
    "* PLanning = light blue\n",
    "* Smart sheets = white"
   ]
  },
  {
   "cell_type": "code",
   "execution_count": null,
   "id": "46cf108e",
   "metadata": {},
   "outputs": [],
   "source": [
    "final_style1 = final.style.set_properties(**{'background-color': 'yellow'},\n",
    "                                         subset=['APN_DTSC', 'DTSC Attn Needed_DTSC', 'Milk Run Notes_DTSC',\n",
    "       'DTSC Activated_DTSC', 'DTSC Comments_DTSC', 'DTSC Completed_DTSC',\n",
    "       '\"MilkRun/Phase1...\" field reset in debris tracker_DTSC',\n",
    "       '\"Phase 1 Status\" updated in debris tracker_DTSC'])"
   ]
  },
  {
   "cell_type": "code",
   "execution_count": null,
   "id": "51ef42f8",
   "metadata": {},
   "outputs": [],
   "source": [
    "final_style1.to_excel('Test milk.xlsx')"
   ]
  },
  {
   "cell_type": "code",
   "execution_count": null,
   "id": "1d62191c",
   "metadata": {},
   "outputs": [],
   "source": []
  }
 ],
 "metadata": {
  "kernelspec": {
   "display_name": "Python 3",
   "language": "python",
   "name": "python3"
  },
  "language_info": {
   "codemirror_mode": {
    "name": "ipython",
    "version": 3
   },
   "file_extension": ".py",
   "mimetype": "text/x-python",
   "name": "python",
   "nbconvert_exporter": "python",
   "pygments_lexer": "ipython3",
   "version": "3.9.4"
  }
 },
 "nbformat": 4,
 "nbformat_minor": 5
}
