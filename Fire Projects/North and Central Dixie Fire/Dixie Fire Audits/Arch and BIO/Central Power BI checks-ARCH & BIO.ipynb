{
 "cells": [
  {
   "cell_type": "markdown",
   "id": "94ed4703",
   "metadata": {},
   "source": [
    "# ARCH and BIO Audits\n",
    "\n",
    "## outputs:\n",
    "### ARC:\n",
    "* ARCH check\n",
    "* ARCH APN count central\n",
    "### BIO:\n",
    "* BIO checks\n",
    "* Bio APN Counts central\n",
    "\n",
    "## Downloads needed:\n",
    "* 2 Smartsheets both Central and South or BOP and ANVIL\n",
    "### ARC:\n",
    "* 1 - Power BI download\n",
    "### BIO:\n",
    "* 1 - Power BI download"
   ]
  },
  {
   "cell_type": "markdown",
   "id": "564cc5a2",
   "metadata": {},
   "source": [
    "# Libraries"
   ]
  },
  {
   "cell_type": "code",
   "execution_count": 1,
   "id": "3028a89a",
   "metadata": {},
   "outputs": [],
   "source": [
    "import pandas as pd\n",
    "import glob\n",
    "import numpy as np\n",
    "import os\n",
    "import smartsheet\n",
    "import datetime"
   ]
  },
  {
   "cell_type": "markdown",
   "id": "6b4a38f9",
   "metadata": {},
   "source": [
    "# Variables"
   ]
  },
  {
   "cell_type": "code",
   "execution_count": 2,
   "id": "8edd65bf",
   "metadata": {},
   "outputs": [],
   "source": [
    "csv = '.csv'\n",
    "excel = '.xlsx'"
   ]
  },
  {
   "cell_type": "code",
   "execution_count": 3,
   "id": "39e5d520",
   "metadata": {},
   "outputs": [
    {
     "name": "stdout",
     "output_type": "stream",
     "text": [
      "What project are we Auditing?: Central or Northern northern\n",
      "Northern Audit Started\n"
     ]
    }
   ],
   "source": [
    "while True:\n",
    "    user = input('What project are we Auditing?: Central or Northern ').lower()\n",
    "    try:\n",
    "\n",
    "        #central Set up\n",
    "        if user == 'central':\n",
    "            print('Central Audit Started')\n",
    "            # Counties:\n",
    "            county= ['ALPINE', 'EL DORADO', 'LAKE', 'NEVADA', 'PLACER', 'TUOLUMNE', 'MENDOCINO', 'TULARE', 'KERN']\n",
    "\n",
    "            # Division. * northern goes here becasue we want everything not in northern Division\n",
    "            division = 'Northern Division'\n",
    "\n",
    "            # smartsheets Shet IDs\n",
    "            sheet_id1 = '1844440261257092' # central\n",
    "            sheet_id2= '6292262490531716' # south central\n",
    "\n",
    "            # Central's API\n",
    "            API1 = smartsheet.Smartsheet('6jJFxnAfFsDErU0BSr1Ae4D6cHq0zenczVR12') # API central\n",
    "\n",
    "            API1.errors_as_exceptions(True)\n",
    "\n",
    "            # Central's API\n",
    "            API2 = smartsheet.Smartsheet(\"H8mqAo60J2zGHSrJEwmlMoY88A9yjgCo6RnSI\") # API south central\n",
    "            API2.errors_as_exceptions(True)\n",
    "            break\n",
    "\n",
    "        #northern Set up\n",
    "        elif user == 'northern':\n",
    "            print('Northern Audit Started')\n",
    "            # Counties:\n",
    "            county = ['LASSEN', 'PLUMAS', 'SISKIYOU', 'TRINITY', 'SHASTA', 'TEHAMA']\n",
    "\n",
    "            # Division. * northern goes here becasue we want everything not in northern Division\n",
    "            division = 'Central Division'\n",
    "\n",
    "            # smartsheets Shet IDs\n",
    "            sheet_id1 = '3589680131270532' # BOP\n",
    "            sheet_id2= '5367491607193476' # ANVIL\n",
    "\n",
    "            # Central's API\n",
    "            API1 = smartsheet.Smartsheet('6w7vusWNdvdm9TJmjImZfbh0SPQgi3HJaekNb') # API BOP\n",
    "\n",
    "            API1.errors_as_exceptions(True)\n",
    "\n",
    "            # Central's API\n",
    "            API2 = smartsheet.Smartsheet(\"MQQmCjvvFWLKBoX9K7A33rHSoLnuj1MGVJuVK\") # API ANVIL\n",
    "            API2.errors_as_exceptions(True)\n",
    "            break\n",
    "    except ValueError:\n",
    "        print(\"\\ninvaild input Only 'Central or Northern' allowed\")"
   ]
  },
  {
   "cell_type": "markdown",
   "id": "c28cae3c",
   "metadata": {},
   "source": [
    "# Function to set up Smartsheet into a readable Database"
   ]
  },
  {
   "cell_type": "code",
   "execution_count": 4,
   "id": "9021d255",
   "metadata": {},
   "outputs": [],
   "source": [
    "def smartsheet_loadup(sheet):\n",
    "    columns = [col.title for col in sheet.columns]\n",
    "    rows = []\n",
    "    for row in sheet.rows:\n",
    "        cells = []\n",
    "        for cell in row.cells:\n",
    "            cells.append(cell.value)\n",
    "        rows.append(cells)\n",
    "    df = pd.DataFrame(rows, columns=columns)\n",
    "    return df\n",
    "\n",
    "Area1_SS = smartsheet_loadup(API1.Sheets.get_sheet(sheet_id1))\n",
    "Area2_SS = smartsheet_loadup(API2.Sheets.get_sheet(sheet_id2))\n",
    "\n",
    "df_both = pd.concat([Area1_SS,Area2_SS])"
   ]
  },
  {
   "cell_type": "markdown",
   "id": "2d93d3cd",
   "metadata": {},
   "source": [
    "# Read in ARCH adn BIO Power BI databases"
   ]
  },
  {
   "cell_type": "code",
   "execution_count": 5,
   "id": "b237cdc1",
   "metadata": {},
   "outputs": [],
   "source": [
    "path2 = r\"C:\\Users\\jacque.trahan\\Downloads\\BIO*\"\n",
    "file_type2 = \".csv\"\n",
    "load_it2 = glob.glob(path2 + file_type2)\n",
    "\n",
    "df2 = pd.read_csv(max(load_it2, key=os.path.getctime))"
   ]
  },
  {
   "cell_type": "code",
   "execution_count": 6,
   "id": "1f9e7af7",
   "metadata": {},
   "outputs": [],
   "source": [
    "path3 = r\"C:\\Users\\jacque.trahan\\Downloads\\Arch*\"\n",
    "file_type3 = \".csv\"\n",
    "load_it3 = glob.glob(path3 + file_type2)\n",
    "\n",
    "df3 = pd.read_csv(max(load_it3, key=os.path.getctime))"
   ]
  },
  {
   "cell_type": "code",
   "execution_count": 7,
   "id": "9f867cd5",
   "metadata": {},
   "outputs": [],
   "source": [
    "smartsheets = df_both.copy()\n",
    "bio = df2.copy()\n",
    "arch = df3.copy()"
   ]
  },
  {
   "cell_type": "markdown",
   "id": "1a43e30c",
   "metadata": {},
   "source": [
    "# smart sheet Cleaning:\n",
    "APN_ROW Segment 'Arch Monitor Needed','Bio Monitor Needed'"
   ]
  },
  {
   "cell_type": "code",
   "execution_count": 8,
   "id": "a7321efc",
   "metadata": {},
   "outputs": [],
   "source": [
    "# select columns we need\n",
    "smartsheets = smartsheets[['APN_ROW Segment','Street #','Street Name', 'Structural Status','County',\n",
    "                           'Arch Monitor Needed','Arch Assessment',\n",
    "                           'Bio Monitor Needed','Bio Assessment']]"
   ]
  },
  {
   "cell_type": "code",
   "execution_count": 9,
   "id": "dc1985bd",
   "metadata": {},
   "outputs": [],
   "source": [
    "smartsheets['Arch Assessment'] = pd.to_datetime(smartsheets['Arch Assessment']).dt.date\n",
    "smartsheets['Bio Assessment'] = pd.to_datetime(smartsheets['Bio Assessment']).dt.date"
   ]
  },
  {
   "cell_type": "code",
   "execution_count": 10,
   "id": "0eff3b4a",
   "metadata": {},
   "outputs": [],
   "source": [
    "smartsheets.rename(columns={'Arch Monitor Needed': 'Arch Monitor Needed_SS','Arch Assessment':'Arch Assessment_SS',\n",
    "                            'Bio Monitor Needed':'Bio Monitor Needed_SS','Bio Assessment':'Bio Assessment_SS'}, inplace=True)"
   ]
  },
  {
   "cell_type": "markdown",
   "id": "c1896460",
   "metadata": {},
   "source": [
    "# BIO columns needed and cleaning:\n",
    "APN , Biological monitoring recommended?"
   ]
  },
  {
   "cell_type": "code",
   "execution_count": 11,
   "id": "b0a3312f",
   "metadata": {},
   "outputs": [],
   "source": [
    "# select columns we need\n",
    "bio = bio[['APN', 'Biological monitoring recommended?','County', 'Observation Date']]"
   ]
  },
  {
   "cell_type": "code",
   "execution_count": 12,
   "id": "3a2b5d43",
   "metadata": {},
   "outputs": [],
   "source": [
    "# get just for central dixie fire\n",
    "bio = bio[bio['County'].isin(county)]"
   ]
  },
  {
   "cell_type": "markdown",
   "id": "bc6ab345",
   "metadata": {},
   "source": [
    "### Get BIO APN count in Central"
   ]
  },
  {
   "cell_type": "code",
   "execution_count": 13,
   "id": "6d3cfdd1",
   "metadata": {},
   "outputs": [],
   "source": [
    "bio[['APN']].value_counts().to_excel('Bio APN Counts central.xlsx')"
   ]
  },
  {
   "cell_type": "code",
   "execution_count": 14,
   "id": "a8f546da",
   "metadata": {
    "scrolled": true
   },
   "outputs": [],
   "source": [
    "# bio['Biological monitoring recommended?'].value_counts()"
   ]
  },
  {
   "cell_type": "code",
   "execution_count": 15,
   "id": "70257746",
   "metadata": {},
   "outputs": [],
   "source": [
    "bio['Observation Date'] = pd.to_datetime(bio['Observation Date']).dt.date"
   ]
  },
  {
   "cell_type": "code",
   "execution_count": 16,
   "id": "6db5360b",
   "metadata": {},
   "outputs": [],
   "source": [
    "# change column name values to match smart sheets\n",
    "bio['Biological monitoring recommended?'] = bio['Biological monitoring recommended?'].str.replace('No Debris, No Tree', 'No Bio Monitoring Needed for Debris or Trees')\n",
    "bio['Biological monitoring recommended?'] =bio['Biological monitoring recommended?'].str.replace('Yes Debris, Yes Tree', 'Bio Monitoring Needed for Debris AND Trees')\n",
    "bio['Biological monitoring recommended?'] =bio['Biological monitoring recommended?'].str.replace('No Debris, Yes Tree', 'Bio Monitoring Needed for Trees, not Debris')\n",
    "bio['Biological monitoring recommended?'] =bio['Biological monitoring recommended?'].str.replace('Yes Debris, No Tree','Bio Monitoring Needed for Debris, not Trees')"
   ]
  },
  {
   "cell_type": "code",
   "execution_count": 17,
   "id": "6a561bca",
   "metadata": {},
   "outputs": [],
   "source": [
    "bio.rename(columns={'Observation Date':'Observation Date_BIO'}, inplace=True)"
   ]
  },
  {
   "cell_type": "markdown",
   "id": "1c55cf23",
   "metadata": {},
   "source": [
    "# ARCH columns needed and cleaning:\n",
    "APN , Archaeological Resources Present?"
   ]
  },
  {
   "cell_type": "code",
   "execution_count": 18,
   "id": "0576574f",
   "metadata": {},
   "outputs": [],
   "source": [
    "# select columns we need\n",
    "arch = arch[['APN', 'Monitoring Recommendation','Date', 'County']]"
   ]
  },
  {
   "cell_type": "code",
   "execution_count": 19,
   "id": "33578bfc",
   "metadata": {},
   "outputs": [],
   "source": [
    "# get just for central dixie fire\n",
    "arch = arch[arch['County'].isin(county)]"
   ]
  },
  {
   "cell_type": "markdown",
   "id": "72102289",
   "metadata": {},
   "source": [
    "### Get ARCH APN count for central"
   ]
  },
  {
   "cell_type": "code",
   "execution_count": 20,
   "id": "e4e38dc8",
   "metadata": {},
   "outputs": [],
   "source": [
    "arch['APN'].value_counts().to_excel('ARCH APN count central.xlsx')"
   ]
  },
  {
   "cell_type": "code",
   "execution_count": 21,
   "id": "ee97b696",
   "metadata": {},
   "outputs": [],
   "source": [
    "# formate dates \n",
    "arch['Date'] = pd.to_datetime(arch['Date']).dt.date"
   ]
  },
  {
   "cell_type": "code",
   "execution_count": 22,
   "id": "77a12fea",
   "metadata": {},
   "outputs": [],
   "source": [
    "# change column name values to match smart sheets\n",
    "arch['Monitoring Recommendation'] = arch['Monitoring Recommendation'].str.replace('No Debris, No Tree', 'No Arch Monitoring Needed for Debris or Trees')\n",
    "arch['Monitoring Recommendation'] = arch['Monitoring Recommendation'].str.replace('Yes Debris, Yes Tree', 'Arch Monitoring Needed for Debris AND Trees')\n",
    "arch['Monitoring Recommendation'] = arch['Monitoring Recommendation'].str.replace('No Debris, Yes Tree', 'Arch Monitoring Needed for Trees, not Debris')\n",
    "arch['Monitoring Recommendation'] = arch['Monitoring Recommendation'].str.replace('Yes Debris, No Tree', 'Arch Monitoring Needed for Debris, not Trees')"
   ]
  },
  {
   "cell_type": "code",
   "execution_count": 23,
   "id": "4007f6c8",
   "metadata": {},
   "outputs": [],
   "source": [
    "arch.rename(columns={'Monitoring Recommendation':'Monitoring Recommendation_ARCH', 'Date': 'Date_ARCH'},inplace=True)"
   ]
  },
  {
   "cell_type": "markdown",
   "id": "8b43e145",
   "metadata": {},
   "source": [
    "# Merge Data bases\n",
    "* smartsheets and BIO\n",
    "* smasrtsheet and Arch"
   ]
  },
  {
   "cell_type": "markdown",
   "id": "382d1ff9",
   "metadata": {},
   "source": [
    "# Smartsheet and BIO merge and additonal cleaning"
   ]
  },
  {
   "cell_type": "code",
   "execution_count": 24,
   "id": "f89f0fea",
   "metadata": {},
   "outputs": [],
   "source": [
    "# Merge Smartsheets and BIO\n",
    "\n",
    "smartsheets_bio = smartsheets.merge(bio,\n",
    "                          left_on='APN_ROW Segment',\n",
    "                          right_on='APN',\n",
    "                          how='left',\n",
    "                          suffixes=('_SS',\"_ARCH\"))"
   ]
  },
  {
   "cell_type": "code",
   "execution_count": 25,
   "id": "1c7c065d",
   "metadata": {},
   "outputs": [],
   "source": [
    "smartsheets_bio.rename(columns={'APN':'APN_BIO'}, inplace=True)"
   ]
  },
  {
   "cell_type": "code",
   "execution_count": 26,
   "id": "748699fe",
   "metadata": {},
   "outputs": [],
   "source": [
    "smartsheets_bio['Bio Monitor Needed_SS'] = smartsheets_bio['Bio Monitor Needed_SS'].fillna(\"0\")\n",
    "smartsheets_bio['Biological monitoring recommended?'] = smartsheets_bio['Biological monitoring recommended?'].fillna('0')\n",
    "smartsheets_bio['Observation Date_BIO'] = smartsheets_bio['Observation Date_BIO'].fillna(\"0\")\n",
    "smartsheets_bio['Bio Assessment_SS'] = smartsheets_bio['Bio Assessment_SS'].fillna(\"0\")"
   ]
  },
  {
   "cell_type": "markdown",
   "id": "9d5634c3",
   "metadata": {},
   "source": [
    "# Smartsheet and ARCH merge and additonal cleaning"
   ]
  },
  {
   "cell_type": "code",
   "execution_count": 27,
   "id": "f14ef762",
   "metadata": {},
   "outputs": [],
   "source": [
    "smartsheets_ARCH = smartsheets.merge(arch,\n",
    "                    left_on='APN_ROW Segment',\n",
    "                    right_on='APN',\n",
    "                    how='left',\n",
    "                    suffixes=('_SS',\"_ARCH\"))"
   ]
  },
  {
   "cell_type": "code",
   "execution_count": 28,
   "id": "b6e3a002",
   "metadata": {},
   "outputs": [],
   "source": [
    "# rename ARCH columns\n",
    "smartsheets_ARCH.rename(columns={'APN':'APN_ARCH'}, inplace=True)"
   ]
  },
  {
   "cell_type": "code",
   "execution_count": 29,
   "id": "a3f520de",
   "metadata": {},
   "outputs": [],
   "source": [
    "# FILLNA with 0s\n",
    "smartsheets_ARCH['Arch Monitor Needed_SS'] = smartsheets_ARCH['Arch Monitor Needed_SS'].fillna(\"0\")\n",
    "smartsheets_ARCH['Monitoring Recommendation_ARCH'] = smartsheets_ARCH['Monitoring Recommendation_ARCH'].fillna('0')\n",
    "smartsheets_ARCH['Date_ARCH'] = smartsheets_ARCH['Date_ARCH'].fillna(\"0\")\n",
    "smartsheets_ARCH['Arch Assessment_SS'] = smartsheets_ARCH['Arch Assessment_SS'].fillna(\"0\")"
   ]
  },
  {
   "cell_type": "markdown",
   "id": "4e7d3086",
   "metadata": {},
   "source": [
    "# Set up column order for each Data base"
   ]
  },
  {
   "cell_type": "code",
   "execution_count": 30,
   "id": "36db29e3",
   "metadata": {},
   "outputs": [],
   "source": [
    "# ARch and smart sheets\n",
    "smartsheets_ARCH = smartsheets_ARCH[['APN_ROW Segment', 'APN_ARCH','Street #','Street Name', 'Structural Status','County_SS',\n",
    "       'Arch Monitor Needed_SS', 'Monitoring Recommendation_ARCH',\n",
    "                                     'Arch Assessment_SS','Date_ARCH']]"
   ]
  },
  {
   "cell_type": "code",
   "execution_count": 31,
   "id": "959d79a8",
   "metadata": {},
   "outputs": [],
   "source": [
    "# BIO and smasrt sheets\n",
    "smartsheets_bio = smartsheets_bio[['APN_ROW Segment', 'APN_BIO','Street #','Street Name', 'Structural Status','County_SS',\n",
    "                                   'Bio Monitor Needed_SS', 'Biological monitoring recommended?',\n",
    "                                   'Bio Assessment_SS','Observation Date_BIO']]"
   ]
  },
  {
   "cell_type": "markdown",
   "id": "1d8d7d17",
   "metadata": {},
   "source": [
    "# Compare columns in smart sheet to other databases"
   ]
  },
  {
   "cell_type": "code",
   "execution_count": 32,
   "id": "91246c6b",
   "metadata": {},
   "outputs": [],
   "source": [
    "def compare_cols(df, comp1, comp2):\n",
    "    if df[comp1] == df[comp2]:\n",
    "        return 1\n",
    "    else:\n",
    "        return 0"
   ]
  },
  {
   "cell_type": "markdown",
   "id": "daf8e64f",
   "metadata": {},
   "source": [
    "# compart ARCH monitor needed to smartsheet"
   ]
  },
  {
   "cell_type": "code",
   "execution_count": 33,
   "id": "eecf5fd6",
   "metadata": {},
   "outputs": [],
   "source": [
    "smartsheets_ARCH.insert(smartsheets_ARCH.columns.get_loc('Monitoring Recommendation_ARCH') + 1, \"ARC Check\",\n",
    "            smartsheets_ARCH.apply(compare_cols, comp1='Arch Monitor Needed_SS', comp2='Monitoring Recommendation_ARCH',axis=1))"
   ]
  },
  {
   "cell_type": "markdown",
   "id": "a5f15637",
   "metadata": {},
   "source": [
    "# comapre dates for ARCH and smartsheets dates"
   ]
  },
  {
   "cell_type": "code",
   "execution_count": 34,
   "id": "49915773",
   "metadata": {},
   "outputs": [],
   "source": [
    "smartsheets_ARCH.insert(smartsheets_ARCH.columns.get_loc('Date_ARCH') + 1, 'Check Arch Dates',\n",
    "            smartsheets_ARCH.apply(compare_cols, comp1='Arch Assessment_SS', comp2='Date_ARCH', axis=1))"
   ]
  },
  {
   "cell_type": "markdown",
   "id": "90eb3352",
   "metadata": {},
   "source": [
    "# check BIO and Smartsheet dates"
   ]
  },
  {
   "cell_type": "code",
   "execution_count": 35,
   "id": "570eaaa4",
   "metadata": {},
   "outputs": [],
   "source": [
    "smartsheets_bio.insert(smartsheets_bio.columns.get_loc('Observation Date_BIO') + 1, 'Check BIO Dates',\n",
    "            smartsheets_bio.apply(compare_cols, comp1='Bio Assessment_SS', comp2='Observation Date_BIO',axis=1))"
   ]
  },
  {
   "cell_type": "markdown",
   "id": "65078ab5",
   "metadata": {},
   "source": [
    "# Compare BIO monitor needed to  smartsheets "
   ]
  },
  {
   "cell_type": "code",
   "execution_count": 36,
   "id": "54b17599",
   "metadata": {},
   "outputs": [],
   "source": [
    "smartsheets_bio.insert(smartsheets_bio.columns.get_loc('Biological monitoring recommended?') + 1, 'BIO Check',\n",
    "                                  smartsheets_bio.apply(compare_cols, comp1='Bio Monitor Needed_SS',\n",
    "                                              comp2='Biological monitoring recommended?',axis=1))"
   ]
  },
  {
   "cell_type": "markdown",
   "id": "9b72afbb",
   "metadata": {},
   "source": [
    "# highligh the columns that are comparing values"
   ]
  },
  {
   "cell_type": "code",
   "execution_count": 37,
   "id": "8940fee7",
   "metadata": {},
   "outputs": [],
   "source": [
    "df_style_BIO = smartsheets_bio.style.set_properties(**{'background-color': '#ffffb3'},\n",
    "                          subset=['BIO Check', 'Check BIO Dates'])"
   ]
  },
  {
   "cell_type": "code",
   "execution_count": 38,
   "id": "c85300a5",
   "metadata": {},
   "outputs": [],
   "source": [
    "df_style_ARCH = smartsheets_ARCH.style.set_properties(**{'background-color': '#ffffb3'},\n",
    "                                                    subset=[\"ARC Check\", 'Check Arch Dates'])"
   ]
  },
  {
   "cell_type": "code",
   "execution_count": 39,
   "id": "14fb0bbb",
   "metadata": {},
   "outputs": [],
   "source": [
    "df_style_BIO.to_excel('BIO checks.xlsx')"
   ]
  },
  {
   "cell_type": "code",
   "execution_count": 40,
   "id": "94bcb5ea",
   "metadata": {},
   "outputs": [],
   "source": [
    "df_style_ARCH.to_excel('ARCH check.xlsx')"
   ]
  },
  {
   "cell_type": "code",
   "execution_count": null,
   "id": "5d5b0997",
   "metadata": {},
   "outputs": [],
   "source": []
  }
 ],
 "metadata": {
  "kernelspec": {
   "display_name": "Python 3",
   "language": "python",
   "name": "python3"
  },
  "language_info": {
   "codemirror_mode": {
    "name": "ipython",
    "version": 3
   },
   "file_extension": ".py",
   "mimetype": "text/x-python",
   "name": "python",
   "nbconvert_exporter": "python",
   "pygments_lexer": "ipython3",
   "version": "3.9.4"
  }
 },
 "nbformat": 4,
 "nbformat_minor": 5
}
