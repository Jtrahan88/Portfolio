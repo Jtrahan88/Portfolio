{
 "cells": [
  {
   "cell_type": "markdown",
   "metadata": {
    "id": "vH7Q80o7V2Lt"
   },
   "source": [
    "# Video instructions can be found here:\n",
    "\n",
    "* https://youtu.be/0pvU6MJTcLc\n",
    "\n",
    "* We need Central, South Cental Smartsheet, and RTR downloads"
   ]
  },
  {
   "cell_type": "code",
   "execution_count": 1,
   "metadata": {
    "id": "HbZ20E22APsl"
   },
   "outputs": [],
   "source": [
    "import pandas as pd\n",
    "import os\n",
    "import glob"
   ]
  },
  {
   "cell_type": "code",
   "execution_count": 2,
   "metadata": {},
   "outputs": [],
   "source": [
    "file_ex = '.xlsx'"
   ]
  },
  {
   "cell_type": "markdown",
   "metadata": {
    "id": "4lCSvQP_Thne"
   },
   "source": [
    "# Import Smart Sheets"
   ]
  },
  {
   "cell_type": "code",
   "execution_count": 3,
   "metadata": {
    "id": "j4Ikyk_XAcKM"
   },
   "outputs": [],
   "source": [
    "# read in Smart hseets tracker\n",
    "path1 = r\"C:\\Users\\jacque.trahan\\Downloads\\Central Division 2021 Debris Removal Tracker*\"\n",
    "load_it1 = glob.glob(path1 + file_ex)\n",
    "\n",
    "df1 = pd.read_excel(max(load_it1, key=os.path.getctime), parse_dates=True)\n",
    "\n",
    "# read in South Central Smart sheeets tracker\n",
    "path_s = r\"C:\\Users\\jacque.trahan\\Downloads\\South Central Division 2021 Debris Removal Tracker*\"\n",
    "load_it_s = glob.glob(path_s + file_ex)\n",
    "\n",
    "df2 = pd.read_excel(max(load_it_s, key=os.path.getctime), parse_dates=True)\n",
    "\n",
    "df_both = pd.concat([df1, df2])\n",
    "df_both = df_both[['APN_ROW Segment', 'Street #', 'Street Name', 'City', 'County', 'Total Number of Vehicles', \"Number of Trees\", \"Not Eligible\",\n",
    "                   'Debris Finish', 'Structural Status', 'ROE Type', '811 Called (DDHTR)', '811 Expiration Date']]\n",
    "\n",
    "df_both['811 Called (DDHTR)'].replace(1.0, \"Complete\", inplace=True)"
   ]
  },
  {
   "cell_type": "code",
   "execution_count": 4,
   "metadata": {
    "id": "HMGOB9ZIA7vT"
   },
   "outputs": [],
   "source": [
    "df_both.set_index(\"APN_ROW Segment\", inplace=True)\n",
    "df_both.to_excel('Planning Vlookup Columns.xlsx')"
   ]
  },
  {
   "cell_type": "code",
   "execution_count": null,
   "metadata": {
    "id": "bG4pSc8nevYk"
   },
   "outputs": [],
   "source": []
  }
 ],
 "metadata": {
  "colab": {
   "collapsed_sections": [
    "MeeprWx4UcwW"
   ],
   "name": "Vlookup column Set Up for CENTRAL PLANNING TRACKER TT",
   "provenance": []
  },
  "kernelspec": {
   "display_name": "Python 3",
   "language": "python",
   "name": "python3"
  },
  "language_info": {
   "codemirror_mode": {
    "name": "ipython",
    "version": 3
   },
   "file_extension": ".py",
   "mimetype": "text/x-python",
   "name": "python",
   "nbconvert_exporter": "python",
   "pygments_lexer": "ipython3",
   "version": "3.9.4"
  }
 },
 "nbformat": 4,
 "nbformat_minor": 1
}
