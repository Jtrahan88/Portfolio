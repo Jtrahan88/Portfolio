{
 "cells": [
  {
   "cell_type": "markdown",
   "id": "f11990ef",
   "metadata": {},
   "source": [
    "# Libraries needed. "
   ]
  },
  {
   "cell_type": "code",
   "execution_count": null,
   "id": "b4b0ce51",
   "metadata": {},
   "outputs": [],
   "source": [
    "import pandas as pd\n",
    "import numpy as np\n",
    "import glob\n",
    "import os"
   ]
  },
  {
   "cell_type": "markdown",
   "id": "58dbd006",
   "metadata": {},
   "source": [
    "# Variables"
   ]
  },
  {
   "cell_type": "code",
   "execution_count": null,
   "id": "1c86396d",
   "metadata": {},
   "outputs": [],
   "source": [
    "excel = '.xlsx'\n",
    "path_new = r\"C:\\Users\\jacque.trahan\\Desktop\\Dixie fire\\Dispatches\\CentralDivisionDispatch_05.07.22.xlsx\"\n",
    "path_old = r\"C:\\Users\\jacque.trahan\\Desktop\\Dixie fire\\Dispatches\\CentralDivisionDispatch_05.07.22.xlsx\""
   ]
  },
  {
   "cell_type": "code",
   "execution_count": null,
   "id": "b77c01da",
   "metadata": {},
   "outputs": [],
   "source": [
    "# load_up = glob.glob(path)\n",
    "df_new = pd.read_excel(path_new, header=3)\n",
    "df_old = pd.read_excel(path_old, header=3, usecols=['Debris Removal', 'Task Force', 'Total Count'])"
   ]
  },
  {
   "cell_type": "code",
   "execution_count": null,
   "id": "d5c55e6e",
   "metadata": {},
   "outputs": [],
   "source": [
    "df_old = df_old[df_old['Task Force'].notnull()]\n",
    "df_old[['Debris Removal', 'Task Force', 'Total Count']]"
   ]
  },
  {
   "cell_type": "markdown",
   "id": "f139106c",
   "metadata": {},
   "source": [
    "# Make a function to do this"
   ]
  },
  {
   "cell_type": "code",
   "execution_count": null,
   "id": "068cfb81",
   "metadata": {},
   "outputs": [],
   "source": [
    "def dispatchEmailGenerator(emailDownload):\n",
    "    \"\"\"Grab Dispatch from my email, format for tracking, concat all files\"\"\"\n",
    "    # Read in files one at a time and format\n",
    "    pass\n",
    "        # Take out Nulls from the task force columns\n",
    "    pass\n",
    "    #concate each file until no files left in folder"
   ]
  },
  {
   "cell_type": "code",
   "execution_count": 2,
   "id": "140b99e4",
   "metadata": {},
   "outputs": [],
   "source": [
    "import win32com.client\n",
    "#other libraries to be used in this script\n",
    "import os\n",
    "from datetime import datetime, timedelta\n",
    "\n",
    "\n"
   ]
  },
  {
   "cell_type": "code",
   "execution_count": null,
   "id": "a784b54a",
   "metadata": {},
   "outputs": [],
   "source": [
    "outputDir = r\"C:\\Users\\jacque.trahan\\Desktop\\Dixie fire\\Dispatches\"  #location files save to\n",
    "\n",
    "outlook = win32com.client.Dispatch(\"Outlook.Application\").GetNamespace(\"MAPI\")  #opens outlook\n",
    "inbox = outlook.GetDefaultFolder(6).Folders['Dispatch - Central']\n",
    "messages = inbox.Items\n",
    "subject_line = r'Dispatch for*'\n",
    "messages = messages.Restrict(f\"[Subject] = {subject_line}\")\n",
    "\n",
    "try:\n",
    "    for message in list(messages):\n",
    "        try:\n",
    "            s = message.sender\n",
    "            for attachment in message.Attachments:\n",
    "                attachment.SaveASFile(os.path.join(outputDir, attachment.FileName))\n",
    "                print(f\"attachment {attachment.FileName} from {s} saved\")\n",
    "        except Exception as e:\n",
    "            print(\"error when saving the attachment:\" + str(e))\n",
    "except Exception as e:\n",
    "    print(\"error when processing emails messages:\" + str(e))"
   ]
  }
 ],
 "metadata": {
  "kernelspec": {
   "display_name": "Python 3",
   "language": "python",
   "name": "python3"
  },
  "language_info": {
   "codemirror_mode": {
    "name": "ipython",
    "version": 3
   },
   "file_extension": ".py",
   "mimetype": "text/x-python",
   "name": "python",
   "nbconvert_exporter": "python",
   "pygments_lexer": "ipython3",
   "version": "3.9.4"
  }
 },
 "nbformat": 4,
 "nbformat_minor": 5
}
