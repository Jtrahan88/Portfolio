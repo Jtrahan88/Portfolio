{
 "cells": [
  {
   "cell_type": "markdown",
   "id": "5b45ed12",
   "metadata": {},
   "source": [
    "# import libaries and Smartsheet API"
   ]
  },
  {
   "cell_type": "code",
   "execution_count": 3,
   "id": "3cf467f5",
   "metadata": {},
   "outputs": [],
   "source": [
    "import pandas as pd\n",
    "import os\n",
    "import glob\n",
    "import numpy as np\n",
    "import smartsheet\n",
    "\n",
    "#variable\n",
    "excel = '.xlsx'\n",
    "csv = '.csv'\n",
    "\n",
    "# Smartsheets ID\n",
    "Central_id = '1844440261257092'\n",
    "South_id = '6292262490531716'\n",
    "\n",
    "# Central's API\n",
    "Central = smartsheet.Smartsheet('6jJFxnAfFsDErU0BSr1Ae4D6cHq0zenczVR12') #API\n",
    "\n",
    "Central.errors_as_exceptions(True)\n",
    "\n",
    "# Central's API\n",
    "South = smartsheet.Smartsheet(\"H8mqAo60J2zGHSrJEwmlMoY88A9yjgCo6RnSI\") # API\n",
    "South.errors_as_exceptions(True)\n",
    "\n",
    "def smartsheet_loadup(sheet):\n",
    "    columns = [col.title for col in sheet.columns]\n",
    "    rows = []\n",
    "    for row in sheet.rows:\n",
    "        cells = []\n",
    "        for cell in row.cells:\n",
    "            cells.append(cell.value)\n",
    "        rows.append(cells)\n",
    "    df = pd.DataFrame(rows, columns=columns)\n",
    "    return df\n",
    "\n",
    "Central_SS = smartsheet_loadup(Central.Sheets.get_sheet(Central_id))\n",
    "South_SS = smartsheet_loadup(South.Sheets.get_sheet(South_id))\n",
    "\n",
    "df_both = pd.concat([Central_SS,South_SS])"
   ]
  },
  {
   "cell_type": "markdown",
   "id": "19b55d9e",
   "metadata": {},
   "source": [
    "# import Damage claim google tracker"
   ]
  },
  {
   "cell_type": "code",
   "execution_count": 10,
   "id": "b9b53545",
   "metadata": {},
   "outputs": [],
   "source": [
    "#sheet ID\n",
    "Google_sheet_id = '19HvftQZNwh_RnyEkgO0vuRidFCQZpZELPB8ug0FyfNY'\n",
    "# Tab name\n",
    "sheet_name = '2074205641' # this is the number at the end of teh URL link\n",
    "\n",
    "# google URL:\n",
    "# this is tricky. after /export? we must put:\n",
    "\n",
    "# export?format=csv#id={sheet_name}  -> manually to make this work\n",
    "url = f\"https://docs.google.com/spreadsheets/d/{Google_sheet_id}/export?gid={sheet_name}&format=csv\"\n",
    "\n",
    "damageClaim_google = pd.read_csv(url)\n"
   ]
  },
  {
   "cell_type": "code",
   "execution_count": 11,
   "id": "158b97c3",
   "metadata": {},
   "outputs": [
    {
     "data": {
      "text/html": [
       "<div>\n",
       "<style scoped>\n",
       "    .dataframe tbody tr th:only-of-type {\n",
       "        vertical-align: middle;\n",
       "    }\n",
       "\n",
       "    .dataframe tbody tr th {\n",
       "        vertical-align: top;\n",
       "    }\n",
       "\n",
       "    .dataframe thead th {\n",
       "        text-align: right;\n",
       "    }\n",
       "</style>\n",
       "<table border=\"1\" class=\"dataframe\">\n",
       "  <thead>\n",
       "    <tr style=\"text-align: right;\">\n",
       "      <th></th>\n",
       "      <th>Status</th>\n",
       "      <th>TICKET#</th>\n",
       "      <th>APN</th>\n",
       "      <th>Street #</th>\n",
       "      <th>Street Name</th>\n",
       "      <th>County</th>\n",
       "      <th>Nature of Claim -P.O Notes</th>\n",
       "      <th>Scope of Work</th>\n",
       "      <th>Response Due</th>\n",
       "      <th>Repaires Due By</th>\n",
       "    </tr>\n",
       "  </thead>\n",
       "  <tbody>\n",
       "    <tr>\n",
       "      <th>0</th>\n",
       "      <td>NaN</td>\n",
       "      <td>10003</td>\n",
       "      <td>099-120-051</td>\n",
       "      <td>1325</td>\n",
       "      <td>White Oak Drive</td>\n",
       "      <td>Placer</td>\n",
       "      <td>H/O claims the concrete riser for my septic ta...</td>\n",
       "      <td>ECC to repair Septic</td>\n",
       "      <td>NaN</td>\n",
       "      <td>NaN</td>\n",
       "    </tr>\n",
       "  </tbody>\n",
       "</table>\n",
       "</div>"
      ],
      "text/plain": [
       "   Status  TICKET#          APN  Street #      Street Name  County  \\\n",
       "0     NaN    10003  099-120-051      1325  White Oak Drive  Placer   \n",
       "\n",
       "                          Nature of Claim -P.O Notes         Scope of Work  \\\n",
       "0  H/O claims the concrete riser for my septic ta...  ECC to repair Septic   \n",
       "\n",
       "   Response Due  Repaires Due By  \n",
       "0           NaN              NaN  "
      ]
     },
     "execution_count": 11,
     "metadata": {},
     "output_type": "execute_result"
    }
   ],
   "source": [
    "damageClaim_google.head(1"
   ]
  },
  {
   "cell_type": "code",
   "execution_count": null,
   "id": "1ee29a92",
   "metadata": {},
   "outputs": [],
   "source": []
  }
 ],
 "metadata": {
  "kernelspec": {
   "display_name": "Python 3",
   "language": "python",
   "name": "python3"
  },
  "language_info": {
   "codemirror_mode": {
    "name": "ipython",
    "version": 3
   },
   "file_extension": ".py",
   "mimetype": "text/x-python",
   "name": "python",
   "nbconvert_exporter": "python",
   "pygments_lexer": "ipython3",
   "version": "3.9.4"
  }
 },
 "nbformat": 4,
 "nbformat_minor": 5
}
