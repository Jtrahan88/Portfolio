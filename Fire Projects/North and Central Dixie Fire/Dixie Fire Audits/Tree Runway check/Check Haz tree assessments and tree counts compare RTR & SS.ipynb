{
 "cells": [
  {
   "cell_type": "code",
   "execution_count": 1,
   "id": "c6a4b7ae",
   "metadata": {},
   "outputs": [],
   "source": [
    "import pandas as pd\n",
    "import glob\n",
    "import os\n",
    "import numpy as np"
   ]
  },
  {
   "cell_type": "markdown",
   "id": "e1d42707",
   "metadata": {},
   "source": [
    "# both Smart Sheets load in and set up"
   ]
  },
  {
   "cell_type": "code",
   "execution_count": 2,
   "id": "30ea4a15",
   "metadata": {},
   "outputs": [],
   "source": [
    "\n",
    "central_path = r\"C:\\Users\\jacque.trahan\\Downloads\\Central Division 2021 Debris Removal Tracker*\"\n",
    "file_type = \".xlsx\"\n",
    "load_it = glob.glob(central_path + file_type)\n",
    "df = pd.read_excel(max(load_it, key=os.path.getctime))\n",
    "\n",
    "south_path = r\"C:\\Users\\jacque.trahan\\Downloads\\South Central Division 2021 Debris Removal Tracker*\"\n",
    "loadit2 = glob.glob(south_path + file_type)\n",
    "df2 = pd.read_excel(max(loadit2, key=os.path.getctime))\n",
    "\n",
    "combined = pd.concat([df,df2])"
   ]
  },
  {
   "cell_type": "code",
   "execution_count": 3,
   "id": "496cf27a",
   "metadata": {},
   "outputs": [],
   "source": [
    "# combined.columns.to_list()"
   ]
  },
  {
   "cell_type": "markdown",
   "id": "ecb316e9",
   "metadata": {},
   "source": [
    "# RTR load in and setup"
   ]
  },
  {
   "cell_type": "code",
   "execution_count": 4,
   "id": "cf63a92e",
   "metadata": {},
   "outputs": [],
   "source": [
    "RTR_path = r\"C:\\Users\\jacque.trahan\\Downloads\\aDataManagerTicketExport*\"\n",
    "rtr_load = glob.glob(RTR_path + file_type)\n",
    "df3 = pd.read_excel(max(rtr_load, key=os.path.getctime))\n",
    "\n"
   ]
  },
  {
   "cell_type": "code",
   "execution_count": 5,
   "id": "4eb3cc2f",
   "metadata": {},
   "outputs": [],
   "source": [
    "rtr = df3.copy()\n",
    "rtr['Zone Name'] = rtr['Zone Name'].str.strip()\n",
    "rtr['Zone Name'] = rtr['Zone Name'].str.replace(\"-\",\"\")\n",
    "rtr['Zone Name'] = rtr['Zone Name'].str[:3] + \"-\" + rtr['Zone Name'].str[3:6] + \"-\" + rtr['Zone Name'].str[6:]\n",
    "rtr['Zone Name'] = rtr['Zone Name'].str.replace('167-310-2500', '167-310-25-00')\n",
    "rtr['Service Code'] = rtr['Service Code'].str.strip()\n",
    "rtr = rtr[(rtr['Service Code'].isin(['69A'])) & (rtr['Is Void'] == False) & ~(rtr['GIS Zone1'].isin(['NORTHERN DIVISION']))]"
   ]
  },
  {
   "cell_type": "markdown",
   "id": "9739a3dd",
   "metadata": {},
   "source": [
    "# merge and compare 69A tree asssessment tickets vs tree assessment dates"
   ]
  },
  {
   "cell_type": "code",
   "execution_count": 6,
   "id": "e338e07b",
   "metadata": {},
   "outputs": [],
   "source": [
    "final = combined.merge(rtr,\n",
    "                      left_on='APN_ROW Segment',\n",
    "                      right_on='Zone Name',\n",
    "                      how='outer')"
   ]
  },
  {
   "cell_type": "code",
   "execution_count": 7,
   "id": "c4a0271a",
   "metadata": {},
   "outputs": [],
   "source": [
    "final = final[['APN_ROW Segment','Zone Name','Structural Status', 'Street #', 'Street Name','County',\n",
    "             'Haz Trees Assessment', 'Service Code']].to_excel('tree test.xlsx')"
   ]
  },
  {
   "cell_type": "code",
   "execution_count": null,
   "id": "2bce4bea",
   "metadata": {},
   "outputs": [],
   "source": []
  }
 ],
 "metadata": {
  "kernelspec": {
   "display_name": "Python 3",
   "language": "python",
   "name": "python3"
  },
  "language_info": {
   "codemirror_mode": {
    "name": "ipython",
    "version": 3
   },
   "file_extension": ".py",
   "mimetype": "text/x-python",
   "name": "python",
   "nbconvert_exporter": "python",
   "pygments_lexer": "ipython3",
   "version": "3.9.4"
  }
 },
 "nbformat": 4,
 "nbformat_minor": 5
}
