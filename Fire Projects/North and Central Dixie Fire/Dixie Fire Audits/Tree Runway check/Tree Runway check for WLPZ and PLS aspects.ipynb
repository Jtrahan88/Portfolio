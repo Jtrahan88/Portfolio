{
 "cells": [
  {
   "cell_type": "markdown",
   "id": "996ecfb0",
   "metadata": {},
   "source": [
    "# What to check\n",
    "\n",
    "* Tree crew = PO notification, grizzley flats, felling crew\n",
    "* Arc and bio not blank\n",
    "* WLPZ and inlieu cant not be blank\n",
    "\n",
    "* RPF boundary. Multiple steps\n",
    "* 1) If RPF is no then we are good\n",
    "* 2) If yes then then we need a RPF date\n",
    "* 3) If PLS is a no we are good\n",
    "* 4) If if then we need a date\n",
    "\n",
    "* H/O contact date"
   ]
  },
  {
   "cell_type": "code",
   "execution_count": 1,
   "id": "6c952c4e",
   "metadata": {},
   "outputs": [],
   "source": [
    "import pandas as pd\n",
    "import os\n",
    "import glob\n",
    "import numpy as np"
   ]
  },
  {
   "cell_type": "markdown",
   "id": "2917b517",
   "metadata": {},
   "source": [
    "# Variables"
   ]
  },
  {
   "cell_type": "code",
   "execution_count": 29,
   "id": "78184f31",
   "metadata": {},
   "outputs": [],
   "source": [
    "excel = '.xlsx'\n",
    "csv = '.csv'"
   ]
  },
  {
   "cell_type": "markdown",
   "id": "4718767d",
   "metadata": {},
   "source": [
    "# central and soouth central imports"
   ]
  },
  {
   "cell_type": "code",
   "execution_count": 3,
   "id": "c0fae939",
   "metadata": {},
   "outputs": [],
   "source": [
    "central_path = r\"C:\\Users\\jacque.trahan\\Downloads\\Central Division 2021 Debris Removal Tracker*\"\n",
    "load_c = glob.glob(central_path + excel)\n",
    "central = pd.read_excel(max(load_c, key=os.path.getctime), parse_dates=True)\n",
    "\n",
    "south_path = r\"C:\\Users\\jacque.trahan\\Downloads\\South Central Division 2021 Debris Removal Tracker*\"\n",
    "load_s = glob.glob(south_path + excel)\n",
    "south = pd.read_excel(max(load_s, key=os.path.getctime), parse_dates=True)\n",
    "\n",
    "df = pd.concat([central, south])\n",
    "\n",
    "\n",
    "df['RPF Boundary Review Date'] = pd.to_datetime(df['RPF Boundary Review Date'].fillna(pd.NaT), errors='coerce')\n",
    "df['PLS Boundary Review Date'] = pd.to_datetime(df['PLS Boundary Review Date'].fillna(pd.NaT), errors='coerce')\n",
    "\n",
    "# df['RPF Boundary Review Date'] = pd.to_datetime(df['RPF Boundary Review Date']).dt.date\n",
    "# df['PLS Boundary Review Date'] = pd.to_datetime(df['PLS Boundary Review Date']).dt.date"
   ]
  },
  {
   "cell_type": "code",
   "execution_count": 28,
   "id": "b5c4b36a",
   "metadata": {},
   "outputs": [],
   "source": [
    "# df.info(verbose=True)"
   ]
  },
  {
   "cell_type": "markdown",
   "id": "5176cf66",
   "metadata": {},
   "source": [
    "# RPF function check"
   ]
  },
  {
   "cell_type": "code",
   "execution_count": 23,
   "id": "e73465e2",
   "metadata": {},
   "outputs": [],
   "source": [
    "def RPF(df):\n",
    "    '''Check for RPF info'''\n",
    "    if pd.isna(df['RPF Boundary Review Needed']):\n",
    "        return \"RPF status is blank\"\n",
    "    elif df['RPF Boundary Review Needed'] =='No':\n",
    "        return \"RPLF staus is No\"\n",
    "    elif df['RPF Boundary Review Needed'] =='Yes' and pd.isna(df['RPF Boundary Review Date']):\n",
    "        return \"RPF needs a date\"\n",
    "    elif df['RPF Boundary Review Needed'] =='Yes' and df['PLS Boundary Review Needed'] =='Yes' and (pd.isna(df['PLS Boundary Review Date'])):\n",
    "        return 'PLS needs date'\n",
    "    elif  df['RPF Boundary Review Needed'] =='Yes' and pd.isna(df['PLS Boundary Review Needed']):\n",
    "        return 'PLS needs review'\n",
    "    else:\n",
    "        return \"Everything checked for PLS and RPF\"\n",
    "    \n",
    "    \n",
    "def wlpz_inLieu(df):\n",
    "    \"\"\"WLPZ and In Liue checks\"\"\"\n",
    "    if pd.isna(df['WLPZ Zone?']) & pd.isna(df['In lieu practices?']):\n",
    "        return \"Missing WLPZ AND In lieu\"\n",
    "    elif pd.isna(df['WLPZ Zone?'])\n",
    "        return \"Missing WLPZ\"\n",
    "    elif  pd.isna(df['In lieu practices?']):\n",
    "        return ' Missing In lieu'\n",
    "    else: \n",
    "        return 'WLPZ and In Liue completed'"
   ]
  },
  {
   "cell_type": "code",
   "execution_count": 26,
   "id": "1716d2c2",
   "metadata": {},
   "outputs": [],
   "source": [
    "Tree_runway = df.copy()\n",
    "Tree_runway = Tree_runway[['APN_ROW Segment','Street #', 'Street Name', 'Structural Status','County', 'Tree Crew','Debris Crew',\n",
    "                          'Arch Assessment', 'Bio Assessment',\n",
    "                          'RPF Boundary Review Needed', 'RPF Boundary Review Date','RPF Hold',\n",
    "                          'PLS Boundary Review Needed', 'PLS Boundary Review Date',\n",
    "                          'WLPZ Zone?', 'In lieu practices?', 'Salmon Habitat', 'Contact Notes']]\n",
    "\n",
    "Tree_runway.insert(Tree_runway.columns.get_loc('Salmon Habitat')+1, 'What is needed for RPF/PLS',\n",
    "                  Tree_runway.apply(RPF,axis=1))\n",
    "\n",
    "Tree_runway.insert(Tree_runway.columns.get_loc('What is needed for RPF/PLS')+1, 'What is needed for WLPZ/In Lieu',\n",
    "                  Tree_runway.apply(wlpz_inLieu,axis=1))"
   ]
  },
  {
   "cell_type": "code",
   "execution_count": 27,
   "id": "35fc8a40",
   "metadata": {},
   "outputs": [],
   "source": [
    "Tree_runway.to_excel('Check Tree Runway crews.xlsx')"
   ]
  },
  {
   "cell_type": "code",
   "execution_count": null,
   "id": "95a47a28",
   "metadata": {},
   "outputs": [],
   "source": []
  }
 ],
 "metadata": {
  "kernelspec": {
   "display_name": "Python 3",
   "language": "python",
   "name": "python3"
  },
  "language_info": {
   "codemirror_mode": {
    "name": "ipython",
    "version": 3
   },
   "file_extension": ".py",
   "mimetype": "text/x-python",
   "name": "python",
   "nbconvert_exporter": "python",
   "pygments_lexer": "ipython3",
   "version": "3.9.4"
  }
 },
 "nbformat": 4,
 "nbformat_minor": 5
}
