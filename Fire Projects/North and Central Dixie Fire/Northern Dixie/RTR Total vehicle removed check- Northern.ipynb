{
 "cells": [
  {
   "cell_type": "code",
   "execution_count": 1,
   "id": "4f03cd0e",
   "metadata": {},
   "outputs": [],
   "source": [
    "import pandas as pd\n",
    "import os\n",
    "import glob\n",
    "import numpy as np"
   ]
  },
  {
   "cell_type": "markdown",
   "id": "93ccf21c",
   "metadata": {},
   "source": [
    "#  Functions"
   ]
  },
  {
   "cell_type": "code",
   "execution_count": 2,
   "id": "4cf2484b",
   "metadata": {},
   "outputs": [],
   "source": [
    "def compare(df, comp1=None, comp2=None, comp3=None):\n",
    "    \"\"\"Compares two columns\"\"\"\n",
    "    if df[comp1] == df[comp2]:\n",
    "        return \"Match\"\n",
    "    else:\n",
    "        return \"No Match\""
   ]
  },
  {
   "cell_type": "markdown",
   "id": "d0fc1a89",
   "metadata": {},
   "source": [
    "# variables"
   ]
  },
  {
   "cell_type": "code",
   "execution_count": 3,
   "id": "77de53da",
   "metadata": {},
   "outputs": [],
   "source": [
    "excel = 'xlsx'"
   ]
  },
  {
   "cell_type": "markdown",
   "id": "1ec1e56c",
   "metadata": {},
   "source": [
    "# Smartsheets"
   ]
  },
  {
   "cell_type": "code",
   "execution_count": 4,
   "id": "9928ff2e",
   "metadata": {},
   "outputs": [],
   "source": [
    "# BOP_North Div 2021 Debris Removal Tracker\n",
    "path1 = r\"C:\\Users\\jacque.trahan\\Downloads\\BOP_North Div 2021 Debris Removal Tracker*\"\n",
    "load1 = glob.glob(path1 + excel)\n",
    "\n",
    "df1 = pd.read_excel(max(load1, key=os.path.getctime))"
   ]
  },
  {
   "cell_type": "code",
   "execution_count": 5,
   "id": "7d88a0c6",
   "metadata": {},
   "outputs": [],
   "source": [
    "# read in South northern Smart sheeets tracker\n",
    "path_s = r\"C:\\Users\\jacque.trahan\\Downloads\\ANVIL_North Div 2021 Debris Removal Tracker*\"\n",
    "load_it_s = glob.glob(path_s + excel)\n",
    "\n",
    "df_s = pd.read_excel(max(load_it_s, key=os.path.getctime), parse_dates=True)"
   ]
  },
  {
   "cell_type": "markdown",
   "id": "81e5126f",
   "metadata": {},
   "source": [
    "### Concat Northern and south cental files"
   ]
  },
  {
   "cell_type": "code",
   "execution_count": 6,
   "id": "8aa2b316",
   "metadata": {},
   "outputs": [],
   "source": [
    "df_both = pd.concat([df1, df_s])"
   ]
  },
  {
   "cell_type": "code",
   "execution_count": 7,
   "id": "796f9d86",
   "metadata": {},
   "outputs": [],
   "source": [
    "smartsheets = df_both.copy()"
   ]
  },
  {
   "cell_type": "markdown",
   "id": "26caaa96",
   "metadata": {},
   "source": [
    "# RTR for vehicle removal"
   ]
  },
  {
   "cell_type": "markdown",
   "id": "505b5619",
   "metadata": {},
   "source": [
    "# Get 71A tickets but only if the disposal site is not blank"
   ]
  },
  {
   "cell_type": "markdown",
   "id": "332db76a",
   "metadata": {},
   "source": [
    "### read in disposail site dtat base from hProjectDataExport"
   ]
  },
  {
   "cell_type": "code",
   "execution_count": 8,
   "id": "764baee0",
   "metadata": {},
   "outputs": [],
   "source": [
    "# this is the normal 71A RTR unit rate tickets from hProjectDataExport\n",
    "path3 = r\"C:\\Users\\jacque.trahan\\Downloads\\hProjectDataExport*\"\n",
    "load3 = glob.glob(path3+excel)\n",
    "df3 = pd.read_excel(max(load3, key=os.path.getctime), header=2)"
   ]
  },
  {
   "cell_type": "code",
   "execution_count": 9,
   "id": "ba0878e5",
   "metadata": {},
   "outputs": [],
   "source": [
    "RTR_71 = df3.copy()\n",
    "RTR_71 = RTR_71.copy()\n",
    "RTR_71 = RTR_71[['Zone', 'Service Code', 'Quan.','Disposal Site']]\n",
    "\n",
    "#format service code and conditon\n",
    "RTR_71['Service Code'] = RTR_71['Service Code'].str.strip()\n",
    "RTR_71 = RTR_71[(RTR_71['Service Code'].isin(['71A'])) & (RTR_71['Disposal Site'].notna())]\n",
    "\n",
    "#fix APNs\n",
    "RTR_71['Zone'] = RTR_71['Zone'].str.replace(\"-\", \"\")\n",
    "RTR_71['Zone'] = RTR_71['Zone'].str[:3] + \"-\" + RTR_71['Zone'].str[3:6] + \"-\" + RTR_71['Zone'].str[6:] \n",
    "\n",
    "# get just 71A tickets as a column\n",
    "RTR_71_ticks = RTR_71.groupby(['Zone'])[['Quan.']].sum()\n",
    "RTR_71_ticks.reset_index(inplace=True)\n",
    "RTR_71_ticks.columns = ['Zone Name','71A TICKETS COUNTED FOR 5B TICKETS']\n",
    "\n"
   ]
  },
  {
   "cell_type": "markdown",
   "id": "888e90d5",
   "metadata": {},
   "source": [
    "### 5A/B Tickets - this is the normal RTR unit rate tickets from aDataManagerTicketExport"
   ]
  },
  {
   "cell_type": "code",
   "execution_count": 10,
   "id": "2fd4b9fe",
   "metadata": {},
   "outputs": [],
   "source": [
    "# this is the normal RTR unit rate tickets from aDataManagerTicketExport\n",
    "path2 = r\"C:\\Users\\jacque.trahan\\Downloads\\aDataManagerTicketExport*\"\n",
    "load2 = glob.glob(path2 + excel)\n",
    "\n",
    "df2 = pd.read_excel(max(load2, key=os.path.getctime), parse_dates=True, na_values=None)"
   ]
  },
  {
   "cell_type": "markdown",
   "id": "50af7d1c",
   "metadata": {},
   "source": [
    "#### Format RTR data"
   ]
  },
  {
   "cell_type": "code",
   "execution_count": 11,
   "id": "5aa10524",
   "metadata": {},
   "outputs": [],
   "source": [
    "RTR = df2.copy()\n",
    "RTR = RTR[['Zone Name', 'Service Code', 'Unit Count', 'Is Void', 'GIS Zone1','GIS Zone2','Ticket Number']]\n",
    "RTR = RTR.copy()\n",
    "RTR['Zone Name'] = RTR['Zone Name'].str.replace(\"-\", \"\")\n",
    "RTR['Zone Name'] = RTR['Zone Name'].str[:3] + \"-\" + RTR['Zone Name'].str[3:6] + \"-\" + RTR['Zone Name'].str[6:]\n",
    "RTR['Service Code'] = RTR['Service Code'].str.strip()"
   ]
  },
  {
   "cell_type": "markdown",
   "id": "4a0ecdeb",
   "metadata": {},
   "source": [
    "#### Format RTR service code data"
   ]
  },
  {
   "cell_type": "code",
   "execution_count": 12,
   "id": "f3e5cb1e",
   "metadata": {},
   "outputs": [],
   "source": [
    "RTR_Vecs = RTR.copy()\n",
    "RTR_Vecs = RTR_Vecs[(RTR_Vecs['Is Void'] == False) & (RTR_Vecs['Service Code'].isin(['5A','5B']))]\n",
    "RTR_Vecs = RTR_Vecs[RTR_Vecs['GIS Zone1'].isin(['NORTHERN DIVISION'])]\n",
    "\n",
    "RTR_Vecs = RTR_Vecs[['Zone Name', 'Unit Count', 'Service Code', 'Ticket Number']]"
   ]
  },
  {
   "cell_type": "markdown",
   "id": "22074aea",
   "metadata": {},
   "source": [
    "# Just 5A Tickets"
   ]
  },
  {
   "cell_type": "code",
   "execution_count": 13,
   "id": "05e7072c",
   "metadata": {},
   "outputs": [],
   "source": [
    "RTR_5a = RTR_Vecs[RTR_Vecs['Service Code'].isin(['5A'])]\n",
    "#sum up unit counts\n",
    "RTR_5a_sum = RTR_5a.groupby(['Zone Name'])[['Unit Count']].sum()\n",
    "\n",
    "#change Column header\n",
    "RTR_5a_sum.columns = [\"5A Totals(VEHICLES ADJUDICATED ON PARCEL)\"]\n",
    "#reset index\n",
    "RTR_5a_sum.reset_index(inplace=True)"
   ]
  },
  {
   "cell_type": "markdown",
   "id": "97264df0",
   "metadata": {},
   "source": [
    "# Just 5B Tickets"
   ]
  },
  {
   "cell_type": "code",
   "execution_count": 14,
   "id": "2b25c700",
   "metadata": {},
   "outputs": [],
   "source": [
    "RTR_5b = RTR_Vecs[RTR_Vecs['Service Code'].isin(['5B'])]\n",
    "\n",
    "#sum up unit counts\n",
    "RTR_5b_sum = RTR_5b.groupby(['Zone Name'])[['Unit Count']].sum()\n",
    "\n",
    "# Change column header\n",
    "RTR_5b_sum.columns = ['5B Totals(VEHICLES ADJUDICATED OFF-SITE)']\n",
    "#reset index\n",
    "RTR_5b_sum.reset_index(inplace=True)"
   ]
  },
  {
   "cell_type": "markdown",
   "id": "afbb6631",
   "metadata": {},
   "source": [
    "# Merge 5A and 5B columns"
   ]
  },
  {
   "cell_type": "code",
   "execution_count": 15,
   "id": "89dba40e",
   "metadata": {},
   "outputs": [],
   "source": [
    "RTR_Nums = RTR_5a_sum.merge(RTR_5b_sum,\n",
    "                           how='outer',\n",
    "                           left_on='Zone Name',\n",
    "                           right_on='Zone Name')"
   ]
  },
  {
   "cell_type": "markdown",
   "id": "d7c8f63c",
   "metadata": {},
   "source": [
    "# merge Unit rate RTR and disposal 71A RTR "
   ]
  },
  {
   "cell_type": "code",
   "execution_count": 16,
   "id": "5ce398fa",
   "metadata": {},
   "outputs": [],
   "source": [
    "RTR_final = RTR_Nums.merge(RTR_71_ticks,\n",
    "                          how='outer',\n",
    "                          left_on='Zone Name',\n",
    "                          right_on='Zone Name')"
   ]
  },
  {
   "cell_type": "markdown",
   "id": "246b0b4b",
   "metadata": {},
   "source": [
    "### Merge smartsheets and rtr total vehicles\n",
    "Overview:\n",
    "\n",
    "* 5B tickets (VEHICLES ADJUDICATED OFF-SITE) - same as 5A kept here **just for reference** (nothing is counted off this)\n",
    "\n",
    "\n",
    "*  5A tickets (VEHICLES ADJUDICATED ON PARCEL) - are counted from: aDataManagerTicketExport\n",
    "\n",
    "* 71A tickets (in place for 5B Tickets) - are counted from hProjectDataExport but only if a disposal site was named\n",
    "\n",
    "* NUMBER OF VEHICLES REMOVED ACCORDING TO SMART SHEETS = Smart Sheets Total Vehicle Counts\n",
    "\n",
    "* TOTAL VEHICLES REMOVED ACCORDING TO RTR TICKETS = 5A + 71A Tickets \n",
    "\n",
    "* Matches Removal Ticket Counts - Compares Smart Sheets Vehicle removal counts to total RTR ticket counts(5A + 71A tickets)\n",
    "\n",
    "* TOTAL RTR TICKETS MINUS SMARTSHEET COUNTS = Total Smart sheet vehicle counts - Total Vehicles Removed According to RTR Tickets (5A + 71A tickets)"
   ]
  },
  {
   "cell_type": "code",
   "execution_count": 17,
   "id": "5b6695f9",
   "metadata": {},
   "outputs": [],
   "source": [
    "smartsheets.columns = map(str.upper, smartsheets.columns)"
   ]
  },
  {
   "cell_type": "code",
   "execution_count": 18,
   "id": "cfed9fde",
   "metadata": {},
   "outputs": [],
   "source": [
    "RTR_vec_final = smartsheets.merge(RTR_final,\n",
    "                             left_on='APN_ROW SEGMENT',\n",
    "                             right_on='Zone Name',\n",
    "                             how='left')"
   ]
  },
  {
   "cell_type": "code",
   "execution_count": 19,
   "id": "19425a47",
   "metadata": {},
   "outputs": [],
   "source": [
    "RTR_vec_final.rename(columns={'NUMBER OF VEHICLES REMOVED': 'NUMBER OF VEHICLES REMOVED ACCORDING TO SMART SHEETS'},\n",
    "                     inplace=True)"
   ]
  },
  {
   "cell_type": "code",
   "execution_count": 20,
   "id": "a20a44ec",
   "metadata": {},
   "outputs": [],
   "source": [
    "RTR_vec_final =RTR_vec_final[['APN_ROW SEGMENT','STREET #','STREET NAME','STRUCTURAL STATUS','COUNTY',\n",
    "                           'TOTAL NUMBER OF VEHICLES','5A Totals(VEHICLES ADJUDICATED ON PARCEL)',\n",
    "                              '5B Totals(VEHICLES ADJUDICATED OFF-SITE)','71A TICKETS COUNTED FOR 5B TICKETS',\n",
    "                              'NUMBER OF VEHICLES REMOVED ACCORDING TO SMART SHEETS']]"
   ]
  },
  {
   "cell_type": "code",
   "execution_count": 21,
   "id": "c5d7c73d",
   "metadata": {},
   "outputs": [],
   "source": [
    "RTR_vec_final = RTR_vec_final.copy()\n",
    "RTR_vec_final.fillna(0, inplace=True)"
   ]
  },
  {
   "cell_type": "code",
   "execution_count": 22,
   "id": "256891de",
   "metadata": {},
   "outputs": [],
   "source": [
    "RTR_vec_final['Total Vehicles Removed According to RTR Tickets'] = (RTR_vec_final['5A Totals(VEHICLES ADJUDICATED ON PARCEL)'] + RTR_vec_final['71A TICKETS COUNTED FOR 5B TICKETS'])"
   ]
  },
  {
   "cell_type": "code",
   "execution_count": 23,
   "id": "ed074925",
   "metadata": {},
   "outputs": [],
   "source": [
    "RTR_vec_final['Total RTR tickets minus Smartsheet Counts'] = RTR_vec_final['TOTAL NUMBER OF VEHICLES'] - RTR_vec_final['Total Vehicles Removed According to RTR Tickets']"
   ]
  },
  {
   "cell_type": "code",
   "execution_count": 24,
   "id": "7f8ecf6d",
   "metadata": {},
   "outputs": [],
   "source": [
    "RTR_vec_final.columns = map(str.upper, RTR_vec_final.columns)"
   ]
  },
  {
   "cell_type": "code",
   "execution_count": 25,
   "id": "1b8ad534",
   "metadata": {},
   "outputs": [],
   "source": [
    "RTR_vec_final.insert(RTR_vec_final.columns.get_loc('TOTAL VEHICLES REMOVED ACCORDING TO RTR TICKETS')+1, \"SMART SHEETS COMPARED TO RTR\",\n",
    "                    RTR_vec_final.apply(compare, comp1='TOTAL VEHICLES REMOVED ACCORDING TO RTR TICKETS',\n",
    "                                        comp2='NUMBER OF VEHICLES REMOVED ACCORDING TO SMART SHEETS', axis=1))"
   ]
  },
  {
   "cell_type": "code",
   "execution_count": 26,
   "id": "2e088049",
   "metadata": {},
   "outputs": [],
   "source": [
    "RTR_vec_final.set_index('APN_ROW SEGMENT', inplace=True)\n",
    "RTR_vec_final.to_excel('Vehicle Counts Northern Division.xlsx')"
   ]
  },
  {
   "cell_type": "markdown",
   "id": "929b76b9",
   "metadata": {},
   "source": [
    "# Contarctor Checks(ECC)"
   ]
  },
  {
   "cell_type": "code",
   "execution_count": 27,
   "id": "55bf74ca",
   "metadata": {},
   "outputs": [],
   "source": [
    "# ecc = pd.read_excel(r\"C:\\Users\\jacque.trahan\\Downloads\\ECC vehicle aspects.xlsx\", sheet_name=1)"
   ]
  },
  {
   "cell_type": "code",
   "execution_count": 28,
   "id": "62713e65",
   "metadata": {},
   "outputs": [],
   "source": [
    "# ECC_merge = ecc.merge(RTR_vec_final,\n",
    "#                      how='left',\n",
    "#                      left_on='APNs',\n",
    "#                      right_on='APN_ROW SEGMENT')"
   ]
  },
  {
   "cell_type": "code",
   "execution_count": 29,
   "id": "6e3e66a6",
   "metadata": {},
   "outputs": [],
   "source": [
    "# ECC_merge.to_excel('Get APNs.xlsx')"
   ]
  },
  {
   "cell_type": "code",
   "execution_count": null,
   "id": "371d4866",
   "metadata": {},
   "outputs": [],
   "source": []
  }
 ],
 "metadata": {
  "kernelspec": {
   "display_name": "Python 3",
   "language": "python",
   "name": "python3"
  },
  "language_info": {
   "codemirror_mode": {
    "name": "ipython",
    "version": 3
   },
   "file_extension": ".py",
   "mimetype": "text/x-python",
   "name": "python",
   "nbconvert_exporter": "python",
   "pygments_lexer": "ipython3",
   "version": "3.9.4"
  }
 },
 "nbformat": 4,
 "nbformat_minor": 5
}
