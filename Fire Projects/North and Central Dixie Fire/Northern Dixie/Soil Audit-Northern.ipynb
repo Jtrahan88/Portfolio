{
 "cells": [
  {
   "cell_type": "markdown",
   "id": "45c8a933",
   "metadata": {},
   "source": [
    "# Soil Audits\n",
    "### Outputs\n",
    "* Mismatches between dates in Smart Shseets and Soil tracker(Share Point)\n",
    "* Duplicate APNs-soil only"
   ]
  },
  {
   "cell_type": "code",
   "execution_count": 1,
   "id": "369ae345",
   "metadata": {},
   "outputs": [],
   "source": [
    "import pandas as pd\n",
    "import os\n",
    "import glob\n",
    "import numpy as np"
   ]
  },
  {
   "cell_type": "code",
   "execution_count": 2,
   "id": "fa021a63",
   "metadata": {},
   "outputs": [],
   "source": [
    "# smart Sheets\n",
    "path1 = r\"C:\\Users\\jacque.trahan\\Downloads\\BOP_North Div 2021 Debris Removal Tracker*\"\n",
    "file_type1 =\".xlsx\"\n",
    "loadit1 = glob.glob(path1 + file_type1)\n",
    "df1 = pd.read_excel(max(loadit1, key=os.path.getctime))"
   ]
  },
  {
   "cell_type": "code",
   "execution_count": 3,
   "id": "5dcd5e3d",
   "metadata": {},
   "outputs": [],
   "source": [
    "# Soil Share Point\n",
    "path2 = r\"C:\\Users\\jacque.trahan\\Downloads\\Soil Sampling Tracker*\"\n",
    "file_type2 = \".csv\"\n",
    "loadit2 = glob.glob(path2 + file_type2)\n",
    "df2 = pd.read_csv(max(loadit2, key=os.path.getctime))"
   ]
  },
  {
   "cell_type": "code",
   "execution_count": 4,
   "id": "5973e2a9",
   "metadata": {},
   "outputs": [],
   "source": [
    "smart_sheets = df1.copy()\n",
    "# smart_sheets.columns = map(str.upper, smart_sheets.columns)\n",
    "smart_sheets = smart_sheets[['APN_ROW Segment','Street #','Street Name','Structural Status','County', 'Soil Sample', 'Division']]\n",
    "smart_sheets = smart_sheets[smart_sheets['Division'].isin(['Northern Division'])]\n",
    "\n",
    "smart_sheets.rename(columns={'Soil Sample':'Soil Sample_SS'}, inplace=True)"
   ]
  },
  {
   "cell_type": "code",
   "execution_count": 5,
   "id": "d9b5fad4",
   "metadata": {},
   "outputs": [],
   "source": [
    "soil = df2.copy()\n",
    "soil = soil[['APN', 'Date Collected', 'Division']]\n",
    "soil = soil[soil['Division'].isin(['Northern Division'])]"
   ]
  },
  {
   "cell_type": "code",
   "execution_count": 6,
   "id": "8789ca4d",
   "metadata": {},
   "outputs": [],
   "source": [
    "def compare(final, comp1, comp2):\n",
    "    if final[comp1] == final[comp2]:\n",
    "        return 1\n",
    "    else:\n",
    "        return 0"
   ]
  },
  {
   "cell_type": "code",
   "execution_count": 7,
   "id": "259f3f74",
   "metadata": {},
   "outputs": [],
   "source": [
    "final = smart_sheets.merge(soil,\n",
    "                          left_on='APN_ROW Segment',\n",
    "                          right_on=\"APN\",\n",
    "                          how=\"outer\")\n",
    "final = final[['APN_ROW Segment','APN', 'Street #','Street Name','Structural Status','County', 'Soil Sample_SS', 'Date Collected', ]]"
   ]
  },
  {
   "cell_type": "code",
   "execution_count": 8,
   "id": "7af27d7a",
   "metadata": {},
   "outputs": [],
   "source": [
    "final['Date Collected'] = pd.to_datetime(final['Date Collected']).dt.date.fillna(0)\n",
    "final['Soil Sample_SS'] = pd.to_datetime(final['Soil Sample_SS']).dt.date.fillna(0)"
   ]
  },
  {
   "cell_type": "code",
   "execution_count": 9,
   "id": "c2b48286",
   "metadata": {},
   "outputs": [],
   "source": [
    "final.insert(final.columns.get_loc('Date Collected')+1, \"Matches\",\n",
    "            final.apply(compare, comp1='Soil Sample_SS', comp2='Date Collected', axis=1))"
   ]
  },
  {
   "cell_type": "code",
   "execution_count": 10,
   "id": "7a8d3750",
   "metadata": {},
   "outputs": [],
   "source": [
    "final_style = final.style.set_properties(**{'background-color': 'lightblue'},\n",
    "                                        subset=['Matches'])"
   ]
  },
  {
   "cell_type": "code",
   "execution_count": 12,
   "id": "12758c25",
   "metadata": {},
   "outputs": [],
   "source": [
    "final_style.to_excel('Soil Date Mismatches-Northern.xlsx')"
   ]
  },
  {
   "cell_type": "markdown",
   "id": "f93652eb",
   "metadata": {},
   "source": [
    "# Duplicate APNs"
   ]
  },
  {
   "cell_type": "code",
   "execution_count": null,
   "id": "7ed47e69",
   "metadata": {},
   "outputs": [],
   "source": [
    "df2['APN'].value_counts().to_excel('Share Point Duplicate APNS Soil Northern.xlsx')"
   ]
  },
  {
   "cell_type": "code",
   "execution_count": null,
   "id": "1fed3795",
   "metadata": {},
   "outputs": [],
   "source": []
  }
 ],
 "metadata": {
  "kernelspec": {
   "display_name": "Python 3",
   "language": "python",
   "name": "python3"
  },
  "language_info": {
   "codemirror_mode": {
    "name": "ipython",
    "version": 3
   },
   "file_extension": ".py",
   "mimetype": "text/x-python",
   "name": "python",
   "nbconvert_exporter": "python",
   "pygments_lexer": "ipython3",
   "version": "3.9.4"
  }
 },
 "nbformat": 4,
 "nbformat_minor": 5
}
