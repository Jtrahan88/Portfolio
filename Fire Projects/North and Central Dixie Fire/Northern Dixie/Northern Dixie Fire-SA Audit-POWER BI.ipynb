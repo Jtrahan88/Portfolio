{
 "cells": [
  {
   "cell_type": "code",
   "execution_count": 1,
   "id": "ea3990e6",
   "metadata": {},
   "outputs": [],
   "source": [
    "import pandas as pd\n",
    "import glob\n",
    "import os\n",
    "import numpy as np"
   ]
  },
  {
   "cell_type": "code",
   "execution_count": 2,
   "id": "b830bfb2",
   "metadata": {},
   "outputs": [],
   "source": [
    "# BOP_North Div 2021 Debris Removal Tracker\n",
    "path1 = r\"C:\\Users\\jacque.trahan\\Downloads\\BOP_North Div 2021 Debris Removal Tracker*\"\n",
    "file_type1 = '.xlsx'\n",
    "load1 = glob.glob(path1 + file_type1)\n",
    "\n",
    "df1 = pd.read_excel(max(load1, key=os.path.getctime))"
   ]
  },
  {
   "cell_type": "code",
   "execution_count": 3,
   "id": "c8239cac",
   "metadata": {},
   "outputs": [],
   "source": [
    "# read in South Central Smart sheeets tracker\n",
    "path_s = r\"C:\\Users\\jacque.trahan\\Downloads\\ANVIL_North Div 2021 Debris Removal Tracker*\"\n",
    "file_type_s = '.xlsx'\n",
    "load_it_s = glob.glob(path_s + file_type_s)\n",
    "\n",
    "df_s = pd.read_excel(max(load_it_s, key=os.path.getctime), parse_dates=True)"
   ]
  },
  {
   "cell_type": "markdown",
   "id": "836f066d",
   "metadata": {},
   "source": [
    "### Concat central and south cental files"
   ]
  },
  {
   "cell_type": "code",
   "execution_count": 4,
   "id": "2e8cfda6",
   "metadata": {},
   "outputs": [],
   "source": [
    "df_both = pd.concat([df1, df_s])"
   ]
  },
  {
   "cell_type": "code",
   "execution_count": 5,
   "id": "a57bb5d2",
   "metadata": {},
   "outputs": [],
   "source": [
    "path2 = r\"C:\\Users\\jacque.trahan\\Downloads\\Site Assessment Tracker*\"\n",
    "file_type2 = '.csv'\n",
    "load2 = glob.glob(path2 + file_type2)\n",
    "\n",
    "df2 = pd.read_csv(max(load2, key=os.path.getctime))"
   ]
  },
  {
   "cell_type": "code",
   "execution_count": 6,
   "id": "cf23dc44",
   "metadata": {},
   "outputs": [],
   "source": [
    "# df1 = pd.read_excel('../Northern  Dixie fire/Northern Branch trackers/Northern Division 2021 Debris Removal Tracker.xlsx', parse_dates=True)\n",
    "# df2 = pd.read_csv(\"../tetra forms ASB and SA/Site Assessment Tracker.csv\", parse_dates=True)"
   ]
  },
  {
   "cell_type": "code",
   "execution_count": 7,
   "id": "8b7b7bbb",
   "metadata": {},
   "outputs": [],
   "source": [
    "df3 =pd.read_excel(\"../tetra forms ASB and SA/SA_TetraForms1.xlsx\", parse_dates=True)"
   ]
  },
  {
   "cell_type": "code",
   "execution_count": 8,
   "id": "0c04312b",
   "metadata": {},
   "outputs": [],
   "source": [
    "# RTR for vehicle counts\n",
    "path4 = r\"C:\\Users\\jacque.trahan\\Downloads\\aDataManagerTicketExport*\"\n",
    "file_type4 = \".xlsx\"\n",
    "load4 = glob.glob(path4 + file_type4)\n",
    "df4 = pd.read_excel(max(load4, key=os.path.getctime), parse_dates=True, na_values=None)"
   ]
  },
  {
   "cell_type": "code",
   "execution_count": 9,
   "id": "4d51988b",
   "metadata": {},
   "outputs": [],
   "source": [
    "smartsheets = df_both.copy()\n",
    "sa = df2.copy()\n",
    "tetarforms = df3.copy()"
   ]
  },
  {
   "cell_type": "markdown",
   "id": "fcd3fcef",
   "metadata": {},
   "source": [
    "# Site Assessment site up"
   ]
  },
  {
   "cell_type": "code",
   "execution_count": 10,
   "id": "b7ecf380",
   "metadata": {},
   "outputs": [],
   "source": [
    "# sa column selection\n",
    "sa = sa[[\"APN\", \"Survey Date\", \"Number of Chimney(s)?\", \n",
    "        \"Number of Automobile(s)?\", \"Number of Motorcycle(s)?\", \"Number of ATV/UTV/Snowmobiles?\", \n",
    "       \"Number of Ag/Commercial/Construction Equipment?\", \"Number of Recreational Vehicle(s)?\", \n",
    "       \"Number of Trailer(s)?\", \"Number of Vessel(s)?\", \"County\"]]"
   ]
  },
  {
   "cell_type": "code",
   "execution_count": 11,
   "id": "5ad9e466",
   "metadata": {},
   "outputs": [],
   "source": [
    "# only use central division APNs and parcel information\n",
    "sa = sa[sa['County'].isin(['LASSEN', 'PLUMAS', 'SISKIYOU', 'TRINITY'])]"
   ]
  },
  {
   "cell_type": "markdown",
   "id": "e75a0bf7",
   "metadata": {},
   "source": [
    "### Get the value counts of APNS in Sa"
   ]
  },
  {
   "cell_type": "code",
   "execution_count": 12,
   "id": "98bc9312",
   "metadata": {},
   "outputs": [],
   "source": [
    "pd.set_option('display.max_rows',1000)"
   ]
  },
  {
   "cell_type": "code",
   "execution_count": 13,
   "id": "1ccecf58",
   "metadata": {},
   "outputs": [],
   "source": [
    "sa['APN'].value_counts().to_excel('SA power BI APN counts northern.xlsx')"
   ]
  },
  {
   "cell_type": "code",
   "execution_count": 14,
   "id": "86234d67",
   "metadata": {},
   "outputs": [],
   "source": [
    "sa['Number of Chimney(s)?'] = np.where(sa['Number of Chimney(s)?'] > 0, 'Yes', 'No')"
   ]
  },
  {
   "cell_type": "code",
   "execution_count": 15,
   "id": "ce1f3e83",
   "metadata": {},
   "outputs": [],
   "source": [
    "# set up date columns\n",
    "sa['Survey Date'] = pd.to_datetime(sa['Survey Date']).dt.date"
   ]
  },
  {
   "cell_type": "code",
   "execution_count": 16,
   "id": "873c5ddb",
   "metadata": {},
   "outputs": [],
   "source": [
    "sa.rename(columns={'APN': 'APN_SA','Survey Date': 'SA Survey Date','Number of Chimney(s)?': 'Chimney',\n",
    "                   \"Number of Automobile(s)?\":'Automobiles', 'Number of Motorcycle(s)?':'Motorcycle_SA',\n",
    "                   \"Number of ATV/UTV/Snowmobiles?\": 'ATV/UTV/Snowmobiles',\n",
    "                   \"Number of Ag/Commercial/Construction Equipment?\":'Ag/Commercial/Construction',\n",
    "                  \"Number of Recreational Vehicle(s)?\": 'RV_SA', 'Number of Trailer(s)?':'Trailers_SA',\n",
    "                   'Number of Vessel(s)?': 'Vessel_SA'}, inplace=True)"
   ]
  },
  {
   "cell_type": "code",
   "execution_count": 17,
   "id": "b1644e8c",
   "metadata": {},
   "outputs": [],
   "source": [
    "# set up numerical values for al vehicles\n",
    "sa['Automobiles'] = pd.to_numeric(sa['Automobiles'], errors='coerce')\n",
    "sa['Motorcycle_SA'] = pd.to_numeric(sa['Motorcycle_SA'], errors='coerce')\n",
    "sa['ATV/UTV/Snowmobiles'] = pd.to_numeric(sa['ATV/UTV/Snowmobiles'], errors='coerce')\n",
    "sa['Ag/Commercial/Construction'] = pd.to_numeric(sa['Ag/Commercial/Construction'], errors='coerce')\n",
    "sa['RV_SA'] = pd.to_numeric(sa['RV_SA'], errors='coerce')\n",
    "sa['Trailers_SA'] = pd.to_numeric(sa['Trailers_SA'], errors='coerce')\n",
    "sa['Vessel_SA'] = pd.to_numeric(sa['Vessel_SA'], errors='coerce')"
   ]
  },
  {
   "cell_type": "code",
   "execution_count": 18,
   "id": "e1a6f6f9",
   "metadata": {},
   "outputs": [],
   "source": [
    "sa.fillna({'SA Survey Date':0,\n",
    "           'Automobiles': 0,\n",
    "           'Motorcycle_SA': 0,\n",
    "           'ATV/UTV/Snowmobiles': 0,\n",
    "           'Ag/Commercial/Construction': 0,\n",
    "           'RV_SA': 0,\n",
    "           'Trailers_SA': 0,\n",
    "           'Vessel_SA': 0}, inplace=True)"
   ]
  },
  {
   "cell_type": "code",
   "execution_count": 19,
   "id": "2c0eb66d",
   "metadata": {},
   "outputs": [],
   "source": [
    "sa.columns = map(str.upper, sa.columns)"
   ]
  },
  {
   "cell_type": "markdown",
   "id": "19cc1abe",
   "metadata": {},
   "source": [
    "# Tetra Forms setup"
   ]
  },
  {
   "cell_type": "code",
   "execution_count": 20,
   "id": "7d7773a8",
   "metadata": {},
   "outputs": [],
   "source": [
    "# get just the counties we need\n",
    "tetarforms = tetarforms[tetarforms['county'].isin(['LASSEN', 'PLUMAS', 'SISKIYOU', 'TRINITY'])]"
   ]
  },
  {
   "cell_type": "markdown",
   "id": "d6feb8ad",
   "metadata": {},
   "source": [
    "### Get the value counts of APNS in Tetra Forms for central"
   ]
  },
  {
   "cell_type": "code",
   "execution_count": 21,
   "id": "68d27ac9",
   "metadata": {},
   "outputs": [],
   "source": [
    "tetarforms['apn'].value_counts().to_excel('Tetra Forms APN counts SA Northern.xlsx')"
   ]
  },
  {
   "cell_type": "code",
   "execution_count": 22,
   "id": "c223ead6",
   "metadata": {},
   "outputs": [],
   "source": [
    "# format dates \n",
    "tetarforms['survey_date'] = pd.to_datetime(tetarforms['survey_date']).dt.date"
   ]
  },
  {
   "cell_type": "code",
   "execution_count": 23,
   "id": "6fd25353",
   "metadata": {},
   "outputs": [],
   "source": [
    "#get columsn we need\n",
    "tetarforms = tetarforms[['apn','survey_date','chimney_quantity', 'automobile_quantity', 'motorcycle_quantity', 'atv_utv_quantity',\n",
    "                        'comm_equip_quantity', 'rvs_quantity', 'trailer_quantity', 'vessel_quantity']]"
   ]
  },
  {
   "cell_type": "code",
   "execution_count": 24,
   "id": "17f6d2fa",
   "metadata": {},
   "outputs": [],
   "source": [
    "# tetarforms['motorcycle_quantity'].dtypes"
   ]
  },
  {
   "cell_type": "markdown",
   "id": "293edf28",
   "metadata": {},
   "source": [
    "#### add fill NA to all blanks"
   ]
  },
  {
   "cell_type": "code",
   "execution_count": 25,
   "id": "b0f8e690",
   "metadata": {},
   "outputs": [],
   "source": [
    "tetarforms['chimney_quantity'] = np.where(tetarforms['chimney_quantity'] > 0,'Yes', 'No')"
   ]
  },
  {
   "cell_type": "code",
   "execution_count": 26,
   "id": "b48f3a1f",
   "metadata": {},
   "outputs": [
    {
     "data": {
      "text/plain": [
       "1        No\n",
       "2        No\n",
       "3        No\n",
       "4        No\n",
       "5        No\n",
       "6        No\n",
       "18      Yes\n",
       "19       No\n",
       "20       No\n",
       "21       No\n",
       "22       No\n",
       "38       No\n",
       "43       No\n",
       "44       No\n",
       "45       No\n",
       "46       No\n",
       "47       No\n",
       "48       No\n",
       "49       No\n",
       "50      Yes\n",
       "51       No\n",
       "52       No\n",
       "58       No\n",
       "64      Yes\n",
       "74       No\n",
       "75       No\n",
       "78       No\n",
       "79       No\n",
       "82       No\n",
       "84      Yes\n",
       "85       No\n",
       "91       No\n",
       "97       No\n",
       "101      No\n",
       "106      No\n",
       "107      No\n",
       "108      No\n",
       "109      No\n",
       "115      No\n",
       "124      No\n",
       "126      No\n",
       "127      No\n",
       "128      No\n",
       "129      No\n",
       "130      No\n",
       "134      No\n",
       "139      No\n",
       "140      No\n",
       "141      No\n",
       "142      No\n",
       "149      No\n",
       "150      No\n",
       "151      No\n",
       "153      No\n",
       "158     Yes\n",
       "159      No\n",
       "166     Yes\n",
       "167      No\n",
       "168     Yes\n",
       "190      No\n",
       "191      No\n",
       "192      No\n",
       "198      No\n",
       "215      No\n",
       "219      No\n",
       "220      No\n",
       "222      No\n",
       "223      No\n",
       "225      No\n",
       "226     Yes\n",
       "238     Yes\n",
       "242      No\n",
       "244      No\n",
       "245      No\n",
       "246      No\n",
       "247      No\n",
       "254      No\n",
       "261      No\n",
       "262     Yes\n",
       "263     Yes\n",
       "272      No\n",
       "273      No\n",
       "290      No\n",
       "291      No\n",
       "296      No\n",
       "299      No\n",
       "300      No\n",
       "301      No\n",
       "302      No\n",
       "305      No\n",
       "311      No\n",
       "320      No\n",
       "322      No\n",
       "323      No\n",
       "324      No\n",
       "325      No\n",
       "326      No\n",
       "336      No\n",
       "342      No\n",
       "347     Yes\n",
       "348      No\n",
       "349      No\n",
       "350      No\n",
       "351      No\n",
       "352      No\n",
       "353      No\n",
       "363      No\n",
       "365      No\n",
       "366      No\n",
       "367      No\n",
       "370      No\n",
       "373      No\n",
       "374      No\n",
       "378      No\n",
       "379      No\n",
       "380      No\n",
       "381      No\n",
       "389      No\n",
       "390      No\n",
       "391      No\n",
       "393      No\n",
       "394      No\n",
       "395      No\n",
       "396      No\n",
       "397      No\n",
       "400     Yes\n",
       "401      No\n",
       "403      No\n",
       "406      No\n",
       "408      No\n",
       "412      No\n",
       "413      No\n",
       "414      No\n",
       "415      No\n",
       "417      No\n",
       "418      No\n",
       "419      No\n",
       "420      No\n",
       "423      No\n",
       "425      No\n",
       "426      No\n",
       "446      No\n",
       "447      No\n",
       "448      No\n",
       "450      No\n",
       "451      No\n",
       "452      No\n",
       "454      No\n",
       "460      No\n",
       "461     Yes\n",
       "462      No\n",
       "463     Yes\n",
       "464     Yes\n",
       "465      No\n",
       "472      No\n",
       "473      No\n",
       "474      No\n",
       "487      No\n",
       "492      No\n",
       "493      No\n",
       "494      No\n",
       "495      No\n",
       "505      No\n",
       "507      No\n",
       "509      No\n",
       "510      No\n",
       "511      No\n",
       "512      No\n",
       "518      No\n",
       "519     Yes\n",
       "522      No\n",
       "523      No\n",
       "524      No\n",
       "525      No\n",
       "527     Yes\n",
       "528      No\n",
       "531     Yes\n",
       "532      No\n",
       "533      No\n",
       "534      No\n",
       "536      No\n",
       "537      No\n",
       "538      No\n",
       "539      No\n",
       "540      No\n",
       "543      No\n",
       "546      No\n",
       "549      No\n",
       "551      No\n",
       "554      No\n",
       "557     Yes\n",
       "560      No\n",
       "561      No\n",
       "562      No\n",
       "570      No\n",
       "571     Yes\n",
       "573      No\n",
       "575      No\n",
       "582      No\n",
       "584      No\n",
       "587      No\n",
       "589      No\n",
       "590      No\n",
       "592      No\n",
       "594      No\n",
       "595      No\n",
       "598      No\n",
       "599      No\n",
       "600      No\n",
       "601      No\n",
       "611      No\n",
       "620      No\n",
       "621      No\n",
       "622      No\n",
       "623      No\n",
       "627      No\n",
       "628      No\n",
       "629      No\n",
       "630      No\n",
       "631      No\n",
       "633      No\n",
       "636      No\n",
       "638      No\n",
       "639      No\n",
       "646      No\n",
       "649      No\n",
       "651     Yes\n",
       "652     Yes\n",
       "653      No\n",
       "659      No\n",
       "660      No\n",
       "663      No\n",
       "667      No\n",
       "672      No\n",
       "676      No\n",
       "682      No\n",
       "683      No\n",
       "684      No\n",
       "685      No\n",
       "686      No\n",
       "687      No\n",
       "688      No\n",
       "690      No\n",
       "691      No\n",
       "692      No\n",
       "693      No\n",
       "694      No\n",
       "695      No\n",
       "696      No\n",
       "702     Yes\n",
       "709      No\n",
       "713      No\n",
       "714      No\n",
       "715     Yes\n",
       "716      No\n",
       "725     Yes\n",
       "726      No\n",
       "728      No\n",
       "729     Yes\n",
       "731      No\n",
       "732      No\n",
       "734      No\n",
       "735      No\n",
       "736      No\n",
       "737      No\n",
       "738      No\n",
       "739      No\n",
       "740      No\n",
       "741      No\n",
       "748      No\n",
       "750     Yes\n",
       "752      No\n",
       "754      No\n",
       "757      No\n",
       "758      No\n",
       "760      No\n",
       "764      No\n",
       "765      No\n",
       "768      No\n",
       "769      No\n",
       "770      No\n",
       "772      No\n",
       "773      No\n",
       "774      No\n",
       "782      No\n",
       "783      No\n",
       "795      No\n",
       "796      No\n",
       "798      No\n",
       "799      No\n",
       "800     Yes\n",
       "801      No\n",
       "802      No\n",
       "803      No\n",
       "810      No\n",
       "811      No\n",
       "813      No\n",
       "814      No\n",
       "815      No\n",
       "817      No\n",
       "820      No\n",
       "822      No\n",
       "823      No\n",
       "824      No\n",
       "825      No\n",
       "826     Yes\n",
       "827      No\n",
       "828      No\n",
       "829      No\n",
       "832      No\n",
       "834      No\n",
       "836      No\n",
       "840      No\n",
       "841      No\n",
       "844      No\n",
       "845      No\n",
       "846      No\n",
       "847      No\n",
       "849      No\n",
       "850      No\n",
       "851      No\n",
       "852     Yes\n",
       "853      No\n",
       "855      No\n",
       "856      No\n",
       "859      No\n",
       "861      No\n",
       "864      No\n",
       "865      No\n",
       "866     Yes\n",
       "867      No\n",
       "868      No\n",
       "869      No\n",
       "870      No\n",
       "872      No\n",
       "874      No\n",
       "875      No\n",
       "877      No\n",
       "879      No\n",
       "880      No\n",
       "882      No\n",
       "884      No\n",
       "886      No\n",
       "888      No\n",
       "893      No\n",
       "894      No\n",
       "895      No\n",
       "897      No\n",
       "898      No\n",
       "899      No\n",
       "901      No\n",
       "903      No\n",
       "906      No\n",
       "907      No\n",
       "909      No\n",
       "911      No\n",
       "912      No\n",
       "913      No\n",
       "914      No\n",
       "915      No\n",
       "916      No\n",
       "917      No\n",
       "918      No\n",
       "919      No\n",
       "920      No\n",
       "921      No\n",
       "922      No\n",
       "923      No\n",
       "926     Yes\n",
       "927      No\n",
       "928      No\n",
       "931      No\n",
       "932      No\n",
       "933      No\n",
       "934      No\n",
       "935      No\n",
       "936      No\n",
       "937      No\n",
       "939      No\n",
       "941      No\n",
       "942      No\n",
       "944      No\n",
       "945      No\n",
       "947      No\n",
       "948      No\n",
       "950      No\n",
       "952      No\n",
       "953      No\n",
       "954     Yes\n",
       "955      No\n",
       "957      No\n",
       "960     Yes\n",
       "961     Yes\n",
       "962      No\n",
       "966      No\n",
       "968      No\n",
       "969      No\n",
       "970      No\n",
       "971      No\n",
       "972      No\n",
       "973      No\n",
       "974     Yes\n",
       "975      No\n",
       "977      No\n",
       "978      No\n",
       "979      No\n",
       "980      No\n",
       "981      No\n",
       "982      No\n",
       "984      No\n",
       "987     Yes\n",
       "988      No\n",
       "989      No\n",
       "990      No\n",
       "991     Yes\n",
       "992      No\n",
       "993      No\n",
       "995      No\n",
       "996      No\n",
       "997      No\n",
       "998      No\n",
       "999      No\n",
       "1001     No\n",
       "1002     No\n",
       "1004     No\n",
       "1006     No\n",
       "1007     No\n",
       "1014     No\n",
       "1015     No\n",
       "1016     No\n",
       "1017     No\n",
       "1018     No\n",
       "1019     No\n",
       "1021     No\n",
       "1022     No\n",
       "1023     No\n",
       "1024     No\n",
       "1025    Yes\n",
       "1026    Yes\n",
       "1027     No\n",
       "1028    Yes\n",
       "1029    Yes\n",
       "1030     No\n",
       "1031     No\n",
       "1032     No\n",
       "1033     No\n",
       "1034     No\n",
       "1037     No\n",
       "1038    Yes\n",
       "1041     No\n",
       "1042     No\n",
       "1045     No\n",
       "1046     No\n",
       "1048     No\n",
       "1049     No\n",
       "1053     No\n",
       "1057     No\n",
       "1058     No\n",
       "1060     No\n",
       "1062     No\n",
       "1063     No\n",
       "1064     No\n",
       "1065     No\n",
       "1066     No\n",
       "1068     No\n",
       "1069     No\n",
       "1070     No\n",
       "1071     No\n",
       "1073     No\n",
       "1074     No\n",
       "1075     No\n",
       "1076     No\n",
       "1077     No\n",
       "1078     No\n",
       "1079     No\n",
       "1080    Yes\n",
       "1081    Yes\n",
       "1082     No\n",
       "1083    Yes\n",
       "1084     No\n",
       "1085     No\n",
       "1092     No\n",
       "1093     No\n",
       "1095     No\n",
       "1096     No\n",
       "1097    Yes\n",
       "1098     No\n",
       "1099     No\n",
       "1100     No\n",
       "1102     No\n",
       "1103     No\n",
       "1104     No\n",
       "1107     No\n",
       "1108     No\n",
       "1109     No\n",
       "1112     No\n",
       "1114     No\n",
       "1115     No\n",
       "1121     No\n",
       "1126     No\n",
       "1127     No\n",
       "1129     No\n",
       "1130    Yes\n",
       "1131     No\n",
       "1132     No\n",
       "1133     No\n",
       "1134     No\n",
       "1135     No\n",
       "1136    Yes\n",
       "1137     No\n",
       "1140     No\n",
       "1142     No\n",
       "1157     No\n",
       "1161     No\n",
       "1165     No\n",
       "1170    Yes\n",
       "1174    Yes\n",
       "1185     No\n",
       "1195     No\n",
       "1199     No\n",
       "1205     No\n",
       "1206    Yes\n",
       "1207     No\n",
       "1208     No\n",
       "1209     No\n",
       "1210     No\n",
       "1211     No\n",
       "1214     No\n",
       "1217    Yes\n",
       "1219     No\n",
       "1220     No\n",
       "1225     No\n",
       "1227     No\n",
       "1229     No\n",
       "1231     No\n",
       "1233     No\n",
       "1235     No\n",
       "1238    Yes\n",
       "1240     No\n",
       "1241     No\n",
       "1242    Yes\n",
       "1243     No\n",
       "1244    Yes\n",
       "1245     No\n",
       "1247     No\n",
       "1248     No\n",
       "1253     No\n",
       "1254     No\n",
       "1255     No\n",
       "1256     No\n",
       "1257     No\n",
       "1258     No\n",
       "1259     No\n",
       "1260    Yes\n",
       "1261     No\n",
       "1262     No\n",
       "1264     No\n",
       "1268    Yes\n",
       "1270     No\n",
       "1273     No\n",
       "1274     No\n",
       "1278     No\n",
       "1279     No\n",
       "1281     No\n",
       "1284     No\n",
       "1285     No\n",
       "1291     No\n",
       "1296     No\n",
       "1297     No\n",
       "1298     No\n",
       "1299     No\n",
       "1300     No\n",
       "1301     No\n",
       "1302     No\n",
       "1303    Yes\n",
       "1304     No\n",
       "1305     No\n",
       "1307     No\n",
       "1308     No\n",
       "1311     No\n",
       "1312     No\n",
       "1313    Yes\n",
       "1317    Yes\n",
       "1321     No\n",
       "1322     No\n",
       "1327     No\n",
       "1329     No\n",
       "1334     No\n",
       "1335     No\n",
       "1336     No\n",
       "1339     No\n",
       "1341     No\n",
       "1342    Yes\n",
       "1343    Yes\n",
       "1344     No\n",
       "1345     No\n",
       "1346     No\n",
       "1347    Yes\n",
       "1350     No\n",
       "1351     No\n",
       "1352     No\n",
       "1353     No\n",
       "1355    Yes\n",
       "1356     No\n",
       "1357     No\n",
       "1358     No\n",
       "1360    Yes\n",
       "1361     No\n",
       "1362     No\n",
       "1363     No\n",
       "1365     No\n",
       "1366    Yes\n",
       "1367     No\n",
       "1369     No\n",
       "1370    Yes\n",
       "1371     No\n",
       "1372    Yes\n",
       "1374     No\n",
       "1375     No\n",
       "1378     No\n",
       "1380     No\n",
       "1381     No\n",
       "1383     No\n",
       "1384     No\n",
       "1385     No\n",
       "1388     No\n",
       "1390     No\n",
       "1392     No\n",
       "1394     No\n",
       "1395     No\n",
       "1396     No\n",
       "1398    Yes\n",
       "1403     No\n",
       "1404     No\n",
       "1405     No\n",
       "1406     No\n",
       "1408     No\n",
       "1410     No\n",
       "1411     No\n",
       "1412     No\n",
       "1415     No\n",
       "1416     No\n",
       "1418     No\n",
       "1419     No\n",
       "1421     No\n",
       "1423     No\n",
       "1424     No\n",
       "1425    Yes\n",
       "1427     No\n",
       "1429     No\n",
       "1430    Yes\n",
       "1432     No\n",
       "1433    Yes\n",
       "1434     No\n",
       "1435     No\n",
       "1436     No\n",
       "1437     No\n",
       "1438     No\n",
       "1441     No\n",
       "1442     No\n",
       "1443     No\n",
       "1444     No\n",
       "1447     No\n",
       "1450    Yes\n",
       "1451     No\n",
       "1452     No\n",
       "1453     No\n",
       "1456     No\n",
       "1457     No\n",
       "1458     No\n",
       "1459     No\n",
       "1460     No\n",
       "1461    Yes\n",
       "1462     No\n",
       "1463     No\n",
       "1465     No\n",
       "1472     No\n",
       "1473     No\n",
       "1475     No\n",
       "1476    Yes\n",
       "1478     No\n",
       "1479     No\n",
       "1480     No\n",
       "1482     No\n",
       "1484     No\n",
       "1485     No\n",
       "1494     No\n",
       "1495     No\n",
       "1498     No\n",
       "1503     No\n",
       "1505     No\n",
       "1506     No\n",
       "1507     No\n",
       "1508     No\n",
       "1509     No\n",
       "1511     No\n",
       "1513     No\n",
       "1516     No\n",
       "1524     No\n",
       "1530     No\n",
       "1532     No\n",
       "1535     No\n",
       "1536     No\n",
       "1537     No\n",
       "1538    Yes\n",
       "1539    Yes\n",
       "1540     No\n",
       "1544     No\n",
       "1545     No\n",
       "1546     No\n",
       "1547     No\n",
       "1548     No\n",
       "1549     No\n",
       "1550     No\n",
       "1551     No\n",
       "1552     No\n",
       "1553     No\n",
       "1554     No\n",
       "1555    Yes\n",
       "1556    Yes\n",
       "1557    Yes\n",
       "1558     No\n",
       "Name: chimney_quantity, dtype: object"
      ]
     },
     "execution_count": 26,
     "metadata": {},
     "output_type": "execute_result"
    }
   ],
   "source": [
    "tetarforms['chimney_quantity']"
   ]
  },
  {
   "cell_type": "code",
   "execution_count": 27,
   "id": "148000fe",
   "metadata": {},
   "outputs": [],
   "source": [
    "tetarforms.fillna({'survey_date':0,\n",
    "           'automobile_quantity': 0,\n",
    "           'motorcycle_quantity': 0,\n",
    "           'atv_utv_quantity': 0,\n",
    "           'comm_equip_quantity': 0,\n",
    "           'rvs_quantity': 0,\n",
    "           'trailer_quantity': 0,\n",
    "           'vessel_quantity': 0}, inplace=True)"
   ]
  },
  {
   "cell_type": "code",
   "execution_count": 28,
   "id": "6279d747",
   "metadata": {},
   "outputs": [],
   "source": [
    "tetarforms.rename(columns={'apn': 'APN_TF', 'motorcycle_quantity':'motorcycle_quantity_TF'}, inplace=True)"
   ]
  },
  {
   "cell_type": "code",
   "execution_count": 29,
   "id": "c6758c1f",
   "metadata": {},
   "outputs": [],
   "source": [
    "tetarforms.columns = map(str.upper, tetarforms.columns)"
   ]
  },
  {
   "cell_type": "code",
   "execution_count": 30,
   "id": "8ba2b9c4",
   "metadata": {},
   "outputs": [],
   "source": [
    "# merge1 tetraforms and SA\n",
    "merge1 = sa.merge(tetarforms,\n",
    "                 left_on='APN_SA',\n",
    "                 right_on='APN_TF',\n",
    "                 how='outer',\n",
    "                 suffixes=('_SA', '_TF'))"
   ]
  },
  {
   "cell_type": "markdown",
   "id": "7400479a",
   "metadata": {},
   "source": [
    "# Smart sheet set up"
   ]
  },
  {
   "cell_type": "code",
   "execution_count": 31,
   "id": "24652123",
   "metadata": {},
   "outputs": [],
   "source": [
    "# smart sheet column selection\n",
    "smartsheets = smartsheets[['APN_ROW Segment','Street #','Street Name', 'Structural Status','County',\n",
    "                           'Chimney',\n",
    "                           'Site Assessment',\n",
    "                          'Number of Passenger Vehicles', 'Number of ATV_UTV_snowmobiles',\n",
    "                          'Number of Ag_Commercial_Construction Equipment','Number of Motorcycles',\n",
    "                          'Number of RV\\'s', 'Number of Trailers', 'Number of Vessels (Boat_Jetski)', 'Total Number of Vehicles']]"
   ]
  },
  {
   "cell_type": "code",
   "execution_count": 32,
   "id": "fd752f08",
   "metadata": {},
   "outputs": [],
   "source": [
    "smartsheets = smartsheets.copy()"
   ]
  },
  {
   "cell_type": "code",
   "execution_count": 33,
   "id": "d1f6ddec",
   "metadata": {},
   "outputs": [],
   "source": [
    "# take of the time on the dates\n",
    "smartsheets['Site Assessment'] = smartsheets['Site Assessment'].dt.date"
   ]
  },
  {
   "cell_type": "code",
   "execution_count": 34,
   "id": "aa41dec5",
   "metadata": {},
   "outputs": [],
   "source": [
    "smartsheets.fillna({'Chimney': 'No',\n",
    "                    'Site Assessment': 0,\n",
    "                    'Number of Passenger Vehicles': 0,\n",
    "                    'Number of ATV_UTV_snowmobiles': 0,\n",
    "                    'Number of Ag_Commercial_Construction Equipment': 0,\n",
    "                    'Number of Motorcycles': 0,\n",
    "                    'Number of RV\\'s':0,\n",
    "                    'Number of Trailers': 0,\n",
    "                    'Number of Vessels (Boat_Jetski)': 0}, inplace=True)"
   ]
  },
  {
   "cell_type": "code",
   "execution_count": 35,
   "id": "85d8ffbb",
   "metadata": {},
   "outputs": [],
   "source": [
    "smartsheets.rename(columns={'County':'County_SS','Site Assessment': 'SA Survey Date', 'Number of Passenger Vehicles': 'Automobiles',\n",
    "                           'Number of ATV_UTV_snowmobiles': 'ATV/UTV/Snowmobiles',\n",
    "                           'Number of Ag_Commercial_Construction Equipment': 'Ag/Commercial/Construction',\n",
    "                           'Number of Motorcycles': 'Motorcycles_SS', 'Number of RV\\'s': 'RV_SS',\n",
    "                           'Number of Trailers':'Trailers_SS','Number of Vessels (Boat_Jetski)':'Vessel_SS'}, inplace=True)"
   ]
  },
  {
   "cell_type": "code",
   "execution_count": 36,
   "id": "49586b7a",
   "metadata": {},
   "outputs": [],
   "source": [
    "smartsheets.columns = map(str.upper, smartsheets.columns)"
   ]
  },
  {
   "cell_type": "code",
   "execution_count": 37,
   "id": "b2c61952",
   "metadata": {},
   "outputs": [],
   "source": [
    "# merge both data frames for QC\n",
    "finals = smartsheets.merge(merge1,\n",
    "                         left_on='APN_ROW SEGMENT',\n",
    "                         right_on='APN_SA',\n",
    "                         how='outer',\n",
    "                         suffixes=('_SS', '_SA'))"
   ]
  },
  {
   "cell_type": "code",
   "execution_count": null,
   "id": "8f91825b",
   "metadata": {},
   "outputs": [],
   "source": []
  },
  {
   "cell_type": "code",
   "execution_count": 38,
   "id": "a4bacf16",
   "metadata": {},
   "outputs": [],
   "source": [
    "# column orinizationa\n",
    "final = finals[['APN_ROW SEGMENT','APN_SA', 'APN_TF','STREET #','STREET NAME','STRUCTURAL STATUS','COUNTY_SS',\n",
    "               'SA SURVEY DATE_SS', 'SA SURVEY DATE_SA','SURVEY_DATE',\n",
    "               'CHIMNEY_SS','CHIMNEY_SA','CHIMNEY_QUANTITY',\n",
    "               'AUTOMOBILES_SS', 'AUTOMOBILES_SA','AUTOMOBILE_QUANTITY',\n",
    "               'MOTORCYCLES_SS', 'MOTORCYCLE_SA', 'MOTORCYCLE_QUANTITY_TF',\n",
    "              'ATV/UTV/SNOWMOBILES_SS', 'ATV/UTV/SNOWMOBILES_SA','ATV_UTV_QUANTITY',\n",
    "              'AG/COMMERCIAL/CONSTRUCTION_SS', 'AG/COMMERCIAL/CONSTRUCTION_SA','COMM_EQUIP_QUANTITY',\n",
    "              'RV_SS', 'RV_SA','RVS_QUANTITY',\n",
    "              'TRAILERS_SS', 'TRAILERS_SA','TRAILER_QUANTITY',\n",
    "              'VESSEL_SS','VESSEL_SA','VESSEL_QUANTITY','TOTAL NUMBER OF VEHICLES']]"
   ]
  },
  {
   "cell_type": "code",
   "execution_count": 39,
   "id": "11532565",
   "metadata": {},
   "outputs": [],
   "source": [
    "# Fill in the na and blanks with 0's"
   ]
  },
  {
   "cell_type": "code",
   "execution_count": 40,
   "id": "dc8440a6",
   "metadata": {},
   "outputs": [
    {
     "name": "stderr",
     "output_type": "stream",
     "text": [
      "C:\\Users\\jacque.trahan\\AppData\\Roaming\\Python\\Python39\\site-packages\\pandas\\core\\series.py:4463: SettingWithCopyWarning: \n",
      "A value is trying to be set on a copy of a slice from a DataFrame\n",
      "\n",
      "See the caveats in the documentation: https://pandas.pydata.org/pandas-docs/stable/user_guide/indexing.html#returning-a-view-versus-a-copy\n",
      "  return super().fillna(\n"
     ]
    }
   ],
   "source": [
    "final.fillna({'SA SURVEY DATE_SA':0,\n",
    "           'SURVEY_DATE': 0,\n",
    "           'CHIMNEY_SA': 0,\n",
    "           'CHIMNEY_QUANTITY': 0,\n",
    "           'AUTOMOBILES_SA': 0,\n",
    "           'AUTOMOBILE_QUANTITY': 0,\n",
    "           'MOTORCYCLE_SA': 0,\n",
    "           'MOTORCYCLE_QUANTITY_TF': 0,\n",
    "             'ATV/UTV/SNOWMOBILES_SA': 0,\n",
    "             'ATV_UTV_QUANTITY': 0,\n",
    "             'AG/COMMERCIAL/CONSTRUCTION_SA': 0,\n",
    "             'COMM_EQUIP_QUANTITY': 0,\n",
    "             'RV_SA': 0,\n",
    "             'RVS_QUANTITY': 0,\n",
    "             'TRAILERS_SA':0,\n",
    "             'TRAILER_QUANTITY': 0,\n",
    "             'VESSEL_SA': 0,\n",
    "             'VESSEL_QUANTITY': 0}, inplace=True)"
   ]
  },
  {
   "cell_type": "markdown",
   "id": "49a8e008",
   "metadata": {},
   "source": [
    "# compare function for each category"
   ]
  },
  {
   "cell_type": "code",
   "execution_count": 41,
   "id": "8a960b09",
   "metadata": {},
   "outputs": [],
   "source": [
    "def compare_cols(df,comp1,comp2,comp3):\n",
    "    if (df[comp1] == df[comp2]) & (df[comp1] == df[comp3]):\n",
    "        return 1\n",
    "    else:\n",
    "        return 0"
   ]
  },
  {
   "cell_type": "markdown",
   "id": "3410e7f1",
   "metadata": {},
   "source": [
    "# Survey date checks"
   ]
  },
  {
   "cell_type": "code",
   "execution_count": 42,
   "id": "5ac3b8ea",
   "metadata": {},
   "outputs": [],
   "source": [
    "final.insert(final.columns.get_loc('SURVEY_DATE')+1, \"Survey Matches\",\n",
    "            final.apply(compare_cols, comp1='SA SURVEY DATE_SS', comp2='SA SURVEY DATE_SA', comp3='SURVEY_DATE', axis=1))"
   ]
  },
  {
   "cell_type": "markdown",
   "id": "fc680548",
   "metadata": {},
   "source": [
    "# CHIMNEY"
   ]
  },
  {
   "cell_type": "code",
   "execution_count": 43,
   "id": "d9bb1c91",
   "metadata": {},
   "outputs": [],
   "source": [
    "final.insert(final.columns.get_loc('CHIMNEY_QUANTITY')+1, \"Chimney Macthes\",\n",
    "            final.apply(compare_cols, comp1='CHIMNEY_SS', comp2='CHIMNEY_SA', comp3='CHIMNEY_QUANTITY', axis=1))"
   ]
  },
  {
   "cell_type": "markdown",
   "id": "eba1c0b5",
   "metadata": {},
   "source": [
    "# AUTOMOBILES"
   ]
  },
  {
   "cell_type": "code",
   "execution_count": 44,
   "id": "39ed4331",
   "metadata": {},
   "outputs": [],
   "source": [
    "final.insert(final.columns.get_loc('AUTOMOBILE_QUANTITY')+1, \"AUTOMOBILE-M\",\n",
    "            final.apply(compare_cols, comp1='AUTOMOBILES_SS', comp2='AUTOMOBILES_SA', comp3='AUTOMOBILE_QUANTITY', axis=1))"
   ]
  },
  {
   "cell_type": "markdown",
   "id": "aaa2ad3d",
   "metadata": {},
   "source": [
    "# MOTORCYCLES"
   ]
  },
  {
   "cell_type": "code",
   "execution_count": 45,
   "id": "71b6df78",
   "metadata": {},
   "outputs": [],
   "source": [
    "final.insert(final.columns.get_loc('MOTORCYCLE_QUANTITY_TF')+1, \"Motorcycle-M\",\n",
    "            final.apply(compare_cols, comp1='MOTORCYCLES_SS', comp2='MOTORCYCLE_SA', comp3='MOTORCYCLE_QUANTITY_TF', axis=1))"
   ]
  },
  {
   "cell_type": "markdown",
   "id": "e6ad26de",
   "metadata": {},
   "source": [
    "# ATV/UTV/SNOWMOBILES"
   ]
  },
  {
   "cell_type": "code",
   "execution_count": 46,
   "id": "e3483b5a",
   "metadata": {},
   "outputs": [],
   "source": [
    "final.insert(final.columns.get_loc('ATV_UTV_QUANTITY')+1, \"ATV-M\",\n",
    "            final.apply(compare_cols,\n",
    "                        comp1='ATV/UTV/SNOWMOBILES_SS', comp2='ATV/UTV/SNOWMOBILES_SA', comp3='ATV_UTV_QUANTITY', axis=1))"
   ]
  },
  {
   "cell_type": "markdown",
   "id": "b298bc3f",
   "metadata": {},
   "source": [
    "# AG/COMMERCIAL/CONSTRUCTION"
   ]
  },
  {
   "cell_type": "code",
   "execution_count": 47,
   "id": "5ad8a9d9",
   "metadata": {},
   "outputs": [],
   "source": [
    "final.insert(final.columns.get_loc('COMM_EQUIP_QUANTITY')+1, \"COMM-M\",\n",
    "            final.apply(compare_cols,\n",
    "                        comp1='AG/COMMERCIAL/CONSTRUCTION_SS',\n",
    "                        comp2='AG/COMMERCIAL/CONSTRUCTION_SA', comp3='COMM_EQUIP_QUANTITY', axis=1))"
   ]
  },
  {
   "cell_type": "markdown",
   "id": "832abbb9",
   "metadata": {},
   "source": [
    "# RV"
   ]
  },
  {
   "cell_type": "code",
   "execution_count": 48,
   "id": "b5326543",
   "metadata": {},
   "outputs": [],
   "source": [
    "final.insert(final.columns.get_loc('RVS_QUANTITY')+1, \"RV-M\",\n",
    "            final.apply(compare_cols, comp1='RV_SS', comp2='RV_SA', comp3='RVS_QUANTITY', axis=1))"
   ]
  },
  {
   "cell_type": "markdown",
   "id": "55f147ce",
   "metadata": {},
   "source": [
    "# TRAILERS"
   ]
  },
  {
   "cell_type": "code",
   "execution_count": 49,
   "id": "a6334f08",
   "metadata": {},
   "outputs": [],
   "source": [
    "final.insert(final.columns.get_loc('TRAILER_QUANTITY')+1, \"Trailer-M\",\n",
    "            final.apply(compare_cols, comp1='TRAILERS_SS', comp2='TRAILERS_SA', comp3='TRAILER_QUANTITY', axis=1))"
   ]
  },
  {
   "cell_type": "markdown",
   "id": "3f121e61",
   "metadata": {},
   "source": [
    "# VESSEL"
   ]
  },
  {
   "cell_type": "code",
   "execution_count": 50,
   "id": "5562b232",
   "metadata": {},
   "outputs": [],
   "source": [
    "final.insert(final.columns.get_loc('VESSEL_QUANTITY')+1, \"Vessel-M\",\n",
    "            final.apply(compare_cols, comp1='VESSEL_SS', comp2='VESSEL_SA', comp3='VESSEL_QUANTITY', axis=1))"
   ]
  },
  {
   "cell_type": "markdown",
   "id": "dd5d304e",
   "metadata": {},
   "source": [
    "# color in the compare columns"
   ]
  },
  {
   "cell_type": "code",
   "execution_count": 51,
   "id": "451f6cf5",
   "metadata": {},
   "outputs": [],
   "source": [
    "final_style = final.style.set_properties(**{'background-color': 'lightblue'},\n",
    "                          subset=['Survey Matches', 'Chimney Macthes','AUTOMOBILE-M','Motorcycle-M',\"ATV-M\",\n",
    "                                  'COMM-M',\"RV-M\",'Trailer-M' ,'Vessel-M'])"
   ]
  },
  {
   "cell_type": "code",
   "execution_count": 52,
   "id": "c24bd4cd",
   "metadata": {},
   "outputs": [],
   "source": [
    "final_style.to_excel('Northern Dixie Fire SA Audit.xlsx')"
   ]
  },
  {
   "cell_type": "markdown",
   "id": "68613a4f",
   "metadata": {},
   "source": [
    "# RTR vehcile counts for each APN"
   ]
  },
  {
   "cell_type": "code",
   "execution_count": 53,
   "id": "13d476e8",
   "metadata": {},
   "outputs": [],
   "source": [
    "RTR = df4.copy()\n",
    "RTR = RTR[['Zone Name', 'Service Code', 'Unit Count', 'Is Void', 'GIS Zone1','GIS Zone2']]\n",
    "RTR = RTR.copy()\n",
    "RTR['Zone Name'] = RTR['Zone Name'].str[:3] + \"-\" + RTR['Zone Name'].str[3:6] + \"-\" + RTR['Zone Name'].str[6:]\n",
    "RTR['Service Code'] = RTR['Service Code'].str.strip()\n",
    "\n"
   ]
  },
  {
   "cell_type": "code",
   "execution_count": 54,
   "id": "239f116e",
   "metadata": {},
   "outputs": [],
   "source": [
    "RTR_Vecs = RTR.copy()\n",
    "RTR_Vecs = RTR_Vecs[(RTR_Vecs['Is Void'] == False) & (RTR_Vecs['Service Code'].isin(['5A','5B']))]\n",
    "RTR_Vecs = RTR_Vecs[RTR_Vecs['GIS Zone1'].isin(['NORTHERN DIVISION'])]\n",
    "RTR_Vecs = RTR_Vecs[['Zone Name', 'Unit Count', 'GIS Zone2']]\n",
    "RTR_SUM_Vecs = RTR_Vecs.groupby(['Zone Name'])[['Unit Count']].sum().reset_index()\n",
    "RTR_SUM_Vecs = RTR_SUM_Vecs.add_suffix(\"_RTR\")"
   ]
  },
  {
   "cell_type": "code",
   "execution_count": 55,
   "id": "463bc9d3",
   "metadata": {},
   "outputs": [],
   "source": [
    "RTR_vec_final = final.merge(RTR_SUM_Vecs,\n",
    "                             left_on='APN_ROW SEGMENT',\n",
    "                             right_on='Zone Name_RTR',\n",
    "                             how='outer')"
   ]
  },
  {
   "cell_type": "code",
   "execution_count": 56,
   "id": "3893b9de",
   "metadata": {},
   "outputs": [],
   "source": [
    "RTR_vec_final['Left over Vehicles'] = RTR_vec_final['TOTAL NUMBER OF VEHICLES'] - RTR_vec_final['Unit Count_RTR']"
   ]
  },
  {
   "cell_type": "code",
   "execution_count": 57,
   "id": "adb22a38",
   "metadata": {},
   "outputs": [],
   "source": [
    "RTR_vec_final = RTR_vec_final[['APN_ROW SEGMENT','APN_SA', 'APN_TF','STREET #','STREET NAME','STRUCTURAL STATUS','COUNTY_SS',\n",
    "               'TOTAL NUMBER OF VEHICLES', 'Unit Count_RTR', 'Left over Vehicles']]"
   ]
  },
  {
   "cell_type": "code",
   "execution_count": 58,
   "id": "a56d39b4",
   "metadata": {},
   "outputs": [],
   "source": [
    "RTR_vec_final.to_excel('Vehicle RTR counts Northern.xlsx')"
   ]
  },
  {
   "cell_type": "code",
   "execution_count": null,
   "id": "0bcc84ad",
   "metadata": {},
   "outputs": [],
   "source": []
  }
 ],
 "metadata": {
  "kernelspec": {
   "display_name": "Python 3",
   "language": "python",
   "name": "python3"
  },
  "language_info": {
   "codemirror_mode": {
    "name": "ipython",
    "version": 3
   },
   "file_extension": ".py",
   "mimetype": "text/x-python",
   "name": "python",
   "nbconvert_exporter": "python",
   "pygments_lexer": "ipython3",
   "version": "3.9.4"
  }
 },
 "nbformat": 4,
 "nbformat_minor": 5
}
