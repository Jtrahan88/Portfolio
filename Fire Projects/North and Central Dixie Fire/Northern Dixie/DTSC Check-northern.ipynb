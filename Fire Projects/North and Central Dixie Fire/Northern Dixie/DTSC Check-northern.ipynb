{
 "cells": [
  {
   "cell_type": "code",
   "execution_count": 1,
   "id": "23940443",
   "metadata": {},
   "outputs": [],
   "source": [
    "import pandas as pd\n",
    "import os\n",
    "import glob\n",
    "import numpy as np\n",
    "import seaborn as sns"
   ]
  },
  {
   "cell_type": "code",
   "execution_count": 2,
   "id": "63313f02",
   "metadata": {},
   "outputs": [],
   "source": [
    "#states Pahse 1 tracker\n",
    "path = r\"C:\\Users\\jacque.trahan\\Downloads\\Fires2021_ParcelLayer_v2_InternalView_12.8*\"\n",
    "file_type = '.xlsx'\n",
    "loadup = glob.glob(path + file_type)\n",
    "df = pd.read_excel(max(loadup, key=os.path.getctime), sheet_name=1)"
   ]
  },
  {
   "cell_type": "code",
   "execution_count": 3,
   "id": "19217f51",
   "metadata": {},
   "outputs": [
    {
     "name": "stdout",
     "output_type": "stream",
     "text": [
      "<class 'pandas.core.frame.DataFrame'>\n",
      "RangeIndex: 2329 entries, 0 to 2328\n",
      "Data columns (total 131 columns):\n",
      " #    Column                                                       Dtype         \n",
      "---   ------                                                       -----         \n",
      " 0    OBJECTID                                                     int64         \n",
      " 1    Parent Global ID From Feature                                object        \n",
      " 2    County                                                       object        \n",
      " 3    Fire Name:                                                   object        \n",
      " 4    Parcel Status:                                               object        \n",
      " 5    No Access Reason:                                            object        \n",
      " 6    APN                                                          object        \n",
      " 7    Address                                                      object        \n",
      " 8    Team Lead                                                    object        \n",
      " 9    Date and Time Onsite:                                        datetime64[ns]\n",
      " 10   Date and Time Offsite:                                       datetime64[ns]\n",
      " 11   CGI/4 Gas Detected:                                          object        \n",
      " 12   CGI/4 Gas Notes:                                             float64       \n",
      " 13   Gamma Rad Detected:                                          object        \n",
      " 14   Gamma Rad Notes:                                             float64       \n",
      " 15   Suspect ACM exists onsite?                                   object        \n",
      " 16   Type of Asbestos                                             object        \n",
      " 17   Brakepads Recovered                                          float64       \n",
      " 18   Recovered Material Measurement Unit                          object        \n",
      " 19   Items Removed?                                               object        \n",
      " 20   Cement Pipe Trans Recovered                                  float64       \n",
      " 21   Recovered Material Measurement Unit.1                        object        \n",
      " 22   Items Removed?.1                                             object        \n",
      " 23   Cement Shingle Trans Recovered                               float64       \n",
      " 24   Recovered Material Measurement Unit.2                        object        \n",
      " 25   Items Removed?.2                                             object        \n",
      " 26   Corrugated CPT Recovered                                     float64       \n",
      " 27   Recovered Material Measurement Unit.3                        object        \n",
      " 28   Items Removed?.3                                             object        \n",
      " 29   Duct Insulation Recovered                                    float64       \n",
      " 30   Recovered Material Measurement Unit.4                        object        \n",
      " 31   Items Removed?.4                                             object        \n",
      " 32   Floortiles Recovered                                         float64       \n",
      " 33   Recovered Material Measurement Unit.5                        object        \n",
      " 34   Items Removed?.5                                             object        \n",
      " 35   Gaskets Recovered                                            float64       \n",
      " 36   Recovered Material Measurement Unit.6                        object        \n",
      " 37   Items Removed?.6                                             object        \n",
      " 38   Heatshields Recovered                                        float64       \n",
      " 39   Recovered Material Measurement Unit.7                        object        \n",
      " 40   Items Removed?.7                                             object        \n",
      " 41   Roof Felt Recovered                                          float64       \n",
      " 42   Recovered Material Measurement Unit.8                        object        \n",
      " 43   Items Removed?.8                                             object        \n",
      " 44   Roof Mastic Recovered                                        float64       \n",
      " 45   Recovered Material Measurement Unit.9                        object        \n",
      " 46   Items Removed?.9                                             object        \n",
      " 47   Seam Caulking Recovered                                      float64       \n",
      " 48   Recovered Material Measurement Unit.10                       object        \n",
      " 49   Items Removed?.10                                            object        \n",
      " 50   Seam Coating Recovered                                       float64       \n",
      " 51   Recovered Material Measurement Unit.11                       object        \n",
      " 52   Items Removed?.11                                            object        \n",
      " 53   Sheet Flooring Recovered                                     float64       \n",
      " 54   Recovered Material Measurement Unit.12                       object        \n",
      " 55   Items Removed?.12                                            object        \n",
      " 56   Window Glazing Recovered                                     float64       \n",
      " 57   Recovered Material Measurement Unit.13                       object        \n",
      " 58   Items Removed?.13                                            object        \n",
      " 59   Other ACM Recovered                                          float64       \n",
      " 60   Recovered Material Measurement Unit.14                       object        \n",
      " 61   Items Removed?.14                                            object        \n",
      " 62   Removal will take more than 2 Hours                          object        \n",
      " 63   Suspect ACM left on site                                     object        \n",
      " 64   Suspect ACM left on site.1                                   object        \n",
      " 65   HHW exists onsite?                                           object        \n",
      " 66   HHW Types Found                                              object        \n",
      " 67   Aerosols Recovered                                           float64       \n",
      " 68   Recovered Material Measurement Unit.15                       object        \n",
      " 69   Antifreeze Recovered                                         float64       \n",
      " 70   Recovered Material Measurement Unit.16                       object        \n",
      " 71   Solvents Recovered                                           float64       \n",
      " 72   Recovered Material Measurement Unit.17                       object        \n",
      " 73   Pool Chemicals Recovered                                     float64       \n",
      " 74   Recovered Material Measurement Unit.18                       object        \n",
      " 75   Household Cleaners Recovered                                 float64       \n",
      " 76   Recovered Material Measurement Unit.19                       object        \n",
      " 77   Light Ballasts Recovered                                     float64       \n",
      " 78   Recovered Material Measurement Unit.20                       object        \n",
      " 79   Paint Recovered                                              float64       \n",
      " 80   Recovered Material Measurement Unit.21                       object        \n",
      " 81   Pesticides Recovered                                         float64       \n",
      " 82   Recovered Material Measurement Unit.22                       object        \n",
      " 83   Fertilizers Recovered                                        float64       \n",
      " 84   Recovered Material Measurement Unit.23                       object        \n",
      " 85   Oil Water Recovered                                          float64       \n",
      " 86   Recovered Material Measurement Unit.24                       object        \n",
      " 87   Battery Types Found                                          object        \n",
      " 88   Car Batteries Recovered                                      float64       \n",
      " 89   Household Batteries Recovered                                float64       \n",
      " 90   Forklift Batteries Recovered                                 float64       \n",
      " 91   Solar Batteries Recovered                                    float64       \n",
      " 92   Liquid Fuel Tank Types Found                                 object        \n",
      " 93   Number of Heating Fuel Tanks                                 float64       \n",
      " 94   Heating Fuel Gallons (Total)                                 float64       \n",
      " 95   Heating Fuel Removed?                                        object        \n",
      " 96   Number of Diesel Fuel Tanks                                  float64       \n",
      " 97   Diesel Fuel Gallons (Total)                                  float64       \n",
      " 98   Diesel Fuel Removed?                                         object        \n",
      " 99   Number of Other Fuel Tanks                                   float64       \n",
      " 100  Other Fuel Gallons (Total)                                   float64       \n",
      " 101  Other Fuel Removed?                                          object        \n",
      " 102  Compressed Gas Tank Type                                     object        \n",
      " 103  Acetylene Tanks Recovered                                    float64       \n",
      " 104  Propane Tanks - Removed                                      float64       \n",
      " 105  Propane Tanks - Devalved & Left On-Site                      float64       \n",
      " 106  Other Tanks - Removed                                        float64       \n",
      " 107  Other Tanks - Devalved & Left On-Site                        float64       \n",
      " 108  Other HHW Items - Removed                                    float64       \n",
      " 109  Other Tanks - Removed.1                                      float64       \n",
      " 110  HHW Comments                                                 object        \n",
      " 111  Did a Physical obstacle prevent full HHW assessment?         object        \n",
      " 112  Physical Obstacle Comment                                    object        \n",
      " 113  E-waste Collected Onsite?                                    object        \n",
      " 114  E-waste Notes                                                object        \n",
      " 115  Is there a large propane tank onsite? (>100 Gallons)         object        \n",
      " 116  Empty containers identified and marked with white paint(x)?  object        \n",
      " 117  Ammunition Present?                                          object        \n",
      " 118  Is ammunition larger than 50 Cal?                            object        \n",
      " 119  Chimney onsite?                                              object        \n",
      " 120  Is revisit required for additional Operations?               object        \n",
      " 121  Pick a reason for a revisit                                  object        \n",
      " 122  Reason for Revisit                                           object        \n",
      " 123  Assessment Notes:                                            object        \n",
      " 124  Photo Notes:                                                 object        \n",
      " 125  GlobalID                                                     object        \n",
      " 126  CreationDate                                                 datetime64[ns]\n",
      " 127  Creator                                                      object        \n",
      " 128  EditDate                                                     datetime64[ns]\n",
      " 129  Editor                                                       object        \n",
      " 130  Recovered Material Measurement Unit.25                       float64       \n",
      "dtypes: datetime64[ns](4), float64(45), int64(1), object(81)\n",
      "memory usage: 2.3+ MB\n"
     ]
    }
   ],
   "source": [
    "df.info(verbose=True)"
   ]
  },
  {
   "cell_type": "markdown",
   "id": "d1bdc0ae",
   "metadata": {},
   "source": [
    "# LASSEN"
   ]
  },
  {
   "cell_type": "code",
   "execution_count": 4,
   "id": "e42f8100",
   "metadata": {},
   "outputs": [],
   "source": [
    "LASSEN = df[(df['County'].isin(['LASSEN']) & (df['Parcel Status:'].isin(['Assessed', 'Deferred to Phase 2',\n",
    "                                                                             'Identified', 'Assessed Return Needed'])))]"
   ]
  },
  {
   "cell_type": "code",
   "execution_count": 5,
   "id": "1e2cfeb6",
   "metadata": {},
   "outputs": [],
   "source": [
    "LASSEN = LASSEN.copy()"
   ]
  },
  {
   "cell_type": "code",
   "execution_count": 6,
   "id": "a08baf06",
   "metadata": {},
   "outputs": [],
   "source": [
    "LASSEN['APN'] = LASSEN['APN'].astype(str)"
   ]
  },
  {
   "cell_type": "code",
   "execution_count": 7,
   "id": "1b645f2b",
   "metadata": {},
   "outputs": [],
   "source": [
    "LASSEN['APN'] = LASSEN['APN'].str.replace(\"-\", \"\")"
   ]
  },
  {
   "cell_type": "code",
   "execution_count": 8,
   "id": "e80394b5",
   "metadata": {
    "scrolled": true
   },
   "outputs": [],
   "source": [
    "LASSEN['APN'] = (LASSEN['APN'].str[:-1])"
   ]
  },
  {
   "cell_type": "markdown",
   "id": "124fb2fc",
   "metadata": {},
   "source": [
    "# PLUMAS"
   ]
  },
  {
   "cell_type": "code",
   "execution_count": 9,
   "id": "1747bf36",
   "metadata": {},
   "outputs": [],
   "source": [
    "PLUMAS = df[(df['County'].isin(['PLUMAS']) & (df['Parcel Status:'].isin(['Assessed', 'Deferred to Phase 2',\n",
    "                                                                             'Identified', 'Assessed Return Needed'])))]"
   ]
  },
  {
   "cell_type": "code",
   "execution_count": 10,
   "id": "7bf41d63",
   "metadata": {},
   "outputs": [],
   "source": [
    "PLUMAS =PLUMAS.copy()"
   ]
  },
  {
   "cell_type": "code",
   "execution_count": 11,
   "id": "ab72a457",
   "metadata": {
    "scrolled": true
   },
   "outputs": [],
   "source": [
    "PLUMAS['APN'] = PLUMAS['APN'].astype(str)"
   ]
  },
  {
   "cell_type": "code",
   "execution_count": 12,
   "id": "5e38593f",
   "metadata": {},
   "outputs": [],
   "source": [
    "# PLUMAS['APN'] = PLUMAS['APN'].str.replace(\"-\", \"\")"
   ]
  },
  {
   "cell_type": "code",
   "execution_count": 13,
   "id": "1cfa4001",
   "metadata": {},
   "outputs": [],
   "source": [
    "# PLUMAS['APN'] = PLUMAS['APN'].str[:-3]"
   ]
  },
  {
   "cell_type": "markdown",
   "id": "bf34afb3",
   "metadata": {},
   "source": [
    "# SISKIYOU"
   ]
  },
  {
   "cell_type": "code",
   "execution_count": 14,
   "id": "43791430",
   "metadata": {},
   "outputs": [],
   "source": [
    "SISKIYOU = df[(df['County'].isin(['SISKIYOU']) & (df['Parcel Status:'].isin(['Assessed', 'Deferred to Phase 2',\n",
    "                                                                             'Identified', 'Assessed Return Needed'])))]"
   ]
  },
  {
   "cell_type": "code",
   "execution_count": 15,
   "id": "4d1b9feb",
   "metadata": {},
   "outputs": [],
   "source": [
    "SISKIYOU = SISKIYOU.copy()"
   ]
  },
  {
   "cell_type": "code",
   "execution_count": 16,
   "id": "6da63a71",
   "metadata": {
    "scrolled": true
   },
   "outputs": [],
   "source": [
    "SISKIYOU['APN'] = SISKIYOU['APN'].astype(str)"
   ]
  },
  {
   "cell_type": "code",
   "execution_count": 17,
   "id": "4a20cc96",
   "metadata": {},
   "outputs": [],
   "source": [
    "SISKIYOU['APN'] = SISKIYOU['APN'].str.replace(\"-\", \"\")"
   ]
  },
  {
   "cell_type": "code",
   "execution_count": 18,
   "id": "86f121e3",
   "metadata": {},
   "outputs": [],
   "source": [
    "# SISKIYOU['APN'] = (SISKIYOU['APN'] + \"0\")"
   ]
  },
  {
   "cell_type": "markdown",
   "id": "f715ed1e",
   "metadata": {},
   "source": [
    "# TRINITY"
   ]
  },
  {
   "cell_type": "code",
   "execution_count": 19,
   "id": "622c9438",
   "metadata": {},
   "outputs": [],
   "source": [
    "TRINITY = df[(df['County'].isin(['TRINITY']) & (df['Parcel Status:'].isin(['Assessed', 'Deferred to Phase 2',\n",
    "                                                                             'Identified', 'Assessed Return Needed'])))]"
   ]
  },
  {
   "cell_type": "code",
   "execution_count": 20,
   "id": "286700f6",
   "metadata": {},
   "outputs": [],
   "source": [
    "TRINITY = TRINITY.copy()"
   ]
  },
  {
   "cell_type": "code",
   "execution_count": 21,
   "id": "fa94f5d8",
   "metadata": {},
   "outputs": [],
   "source": [
    "TRINITY['APN'] = TRINITY['APN'].astype(str)"
   ]
  },
  {
   "cell_type": "code",
   "execution_count": 22,
   "id": "10efe962",
   "metadata": {},
   "outputs": [],
   "source": [
    "TRINITY['APN'] = TRINITY['APN'].str.replace(\"-\", \"\")"
   ]
  },
  {
   "cell_type": "code",
   "execution_count": 23,
   "id": "cd91f51e",
   "metadata": {},
   "outputs": [],
   "source": [
    "TRINITY['APN'] = TRINITY['APN'].str[:-1]"
   ]
  },
  {
   "cell_type": "markdown",
   "id": "99116755",
   "metadata": {},
   "source": [
    "# TEHAMA"
   ]
  },
  {
   "cell_type": "code",
   "execution_count": 24,
   "id": "0b0a82d5",
   "metadata": {},
   "outputs": [],
   "source": [
    "TEHAMA = df[(df['County'].isin(['TEHAMA'])) & (df['Parcel Status:'].isin(['Assessed', 'Deferred to Phase 2',\n",
    "                                                                             'Identified', 'Assessed Return Needed']))]\n",
    "TEHAMA = TEHAMA.copy()"
   ]
  },
  {
   "cell_type": "code",
   "execution_count": 25,
   "id": "80a38484",
   "metadata": {},
   "outputs": [],
   "source": [
    "TEHAMA['APN'] = TEHAMA['APN'].str[:8] + \"0\" + TEHAMA['APN'].str[8:10]"
   ]
  },
  {
   "cell_type": "code",
   "execution_count": 26,
   "id": "0bb661af",
   "metadata": {},
   "outputs": [],
   "source": [
    "TEHAMA = TEHAMA.copy()\n",
    "TEHAMA['APN'] = TEHAMA['APN'].str.replace(\"-\", \"\")"
   ]
  },
  {
   "cell_type": "markdown",
   "id": "4c7a0656",
   "metadata": {},
   "source": [
    "# concat all the counties into one file"
   ]
  },
  {
   "cell_type": "code",
   "execution_count": 27,
   "id": "3e9e3e41",
   "metadata": {},
   "outputs": [],
   "source": [
    "DTSC = pd.concat([LASSEN,PLUMAS,SISKIYOU, TRINITY, TEHAMA])"
   ]
  },
  {
   "cell_type": "markdown",
   "id": "73aac9cc",
   "metadata": {},
   "source": [
    "# Add the dashes"
   ]
  },
  {
   "cell_type": "code",
   "execution_count": 28,
   "id": "a5baffe5",
   "metadata": {
    "scrolled": true
   },
   "outputs": [],
   "source": [
    "DTSC['APN'] = (DTSC['APN'].str[:3] + '-' + DTSC['APN'].str[3:6] + '-' + DTSC['APN'].str[6:])"
   ]
  },
  {
   "cell_type": "code",
   "execution_count": 29,
   "id": "9e50a1e1",
   "metadata": {
    "scrolled": true
   },
   "outputs": [
    {
     "data": {
      "text/plain": [
       "22    141-040-311\n",
       "23    141-070-101\n",
       "24    141-070-051\n",
       "25    141-100-071\n",
       "26    141-120-251\n",
       "Name: APN, dtype: object"
      ]
     },
     "execution_count": 29,
     "metadata": {},
     "output_type": "execute_result"
    }
   ],
   "source": [
    "DTSC['APN'].head()"
   ]
  },
  {
   "cell_type": "code",
   "execution_count": 30,
   "id": "8a5117cd",
   "metadata": {},
   "outputs": [],
   "source": [
    "# final['APN'].to_excel('test.xlsx')"
   ]
  },
  {
   "cell_type": "code",
   "execution_count": 31,
   "id": "e2a43e29",
   "metadata": {
    "scrolled": false
   },
   "outputs": [
    {
     "data": {
      "text/html": [
       "<div>\n",
       "<style scoped>\n",
       "    .dataframe tbody tr th:only-of-type {\n",
       "        vertical-align: middle;\n",
       "    }\n",
       "\n",
       "    .dataframe tbody tr th {\n",
       "        vertical-align: top;\n",
       "    }\n",
       "\n",
       "    .dataframe thead th {\n",
       "        text-align: right;\n",
       "    }\n",
       "</style>\n",
       "<table border=\"1\" class=\"dataframe\">\n",
       "  <thead>\n",
       "    <tr style=\"text-align: right;\">\n",
       "      <th></th>\n",
       "      <th>OBJECTID</th>\n",
       "      <th>Parent Global ID From Feature</th>\n",
       "      <th>County</th>\n",
       "      <th>Fire Name:</th>\n",
       "      <th>Parcel Status:</th>\n",
       "      <th>No Access Reason:</th>\n",
       "      <th>APN</th>\n",
       "      <th>Address</th>\n",
       "      <th>Team Lead</th>\n",
       "      <th>Date and Time Onsite:</th>\n",
       "      <th>...</th>\n",
       "      <th>Pick a reason for a revisit</th>\n",
       "      <th>Reason for Revisit</th>\n",
       "      <th>Assessment Notes:</th>\n",
       "      <th>Photo Notes:</th>\n",
       "      <th>GlobalID</th>\n",
       "      <th>CreationDate</th>\n",
       "      <th>Creator</th>\n",
       "      <th>EditDate</th>\n",
       "      <th>Editor</th>\n",
       "      <th>Recovered Material Measurement Unit.25</th>\n",
       "    </tr>\n",
       "  </thead>\n",
       "  <tbody>\n",
       "  </tbody>\n",
       "</table>\n",
       "<p>0 rows × 131 columns</p>\n",
       "</div>"
      ],
      "text/plain": [
       "Empty DataFrame\n",
       "Columns: [OBJECTID, Parent Global ID From Feature, County, Fire Name:, Parcel Status:, No Access Reason:, APN, Address, Team Lead, Date and Time Onsite:, Date and Time Offsite:, CGI/4 Gas Detected:, CGI/4 Gas Notes:, Gamma Rad Detected:, Gamma Rad Notes:, Suspect ACM exists onsite?, Type of Asbestos, Brakepads Recovered, Recovered Material Measurement Unit, Items Removed?, Cement Pipe Trans Recovered, Recovered Material Measurement Unit.1, Items Removed?.1, Cement Shingle Trans Recovered, Recovered Material Measurement Unit.2, Items Removed?.2, Corrugated CPT Recovered, Recovered Material Measurement Unit.3, Items Removed?.3, Duct Insulation Recovered, Recovered Material Measurement Unit.4, Items Removed?.4, Floortiles Recovered, Recovered Material Measurement Unit.5, Items Removed?.5, Gaskets Recovered, Recovered Material Measurement Unit.6, Items Removed?.6, Heatshields Recovered, Recovered Material Measurement Unit.7, Items Removed?.7, Roof Felt Recovered, Recovered Material Measurement Unit.8, Items Removed?.8, Roof Mastic Recovered, Recovered Material Measurement Unit.9, Items Removed?.9, Seam Caulking Recovered, Recovered Material Measurement Unit.10, Items Removed?.10, Seam Coating Recovered, Recovered Material Measurement Unit.11, Items Removed?.11, Sheet Flooring Recovered, Recovered Material Measurement Unit.12, Items Removed?.12, Window Glazing Recovered, Recovered Material Measurement Unit.13, Items Removed?.13, Other ACM Recovered, Recovered Material Measurement Unit.14, Items Removed?.14, Removal will take more than 2 Hours, Suspect ACM left on site, Suspect ACM left on site.1, HHW exists onsite?, HHW Types Found, Aerosols Recovered, Recovered Material Measurement Unit.15, Antifreeze Recovered, Recovered Material Measurement Unit.16, Solvents Recovered, Recovered Material Measurement Unit.17, Pool Chemicals Recovered, Recovered Material Measurement Unit.18, Household Cleaners Recovered, Recovered Material Measurement Unit.19, Light Ballasts Recovered, Recovered Material Measurement Unit.20, Paint Recovered, Recovered Material Measurement Unit.21, Pesticides Recovered, Recovered Material Measurement Unit.22, Fertilizers Recovered, Recovered Material Measurement Unit.23, Oil Water Recovered, Recovered Material Measurement Unit.24, Battery Types Found, Car Batteries Recovered, Household Batteries Recovered, Forklift Batteries Recovered, Solar Batteries Recovered, Liquid Fuel Tank Types Found, Number of Heating Fuel Tanks, Heating Fuel Gallons (Total), Heating Fuel Removed?, Number of Diesel Fuel Tanks, Diesel Fuel Gallons (Total), Diesel Fuel Removed?, Number of Other Fuel Tanks, ...]\n",
       "Index: []\n",
       "\n",
       "[0 rows x 131 columns]"
      ]
     },
     "execution_count": 31,
     "metadata": {},
     "output_type": "execute_result"
    }
   ],
   "source": [
    "DTSC[(DTSC['APN'] == '004-260-019')]"
   ]
  },
  {
   "cell_type": "code",
   "execution_count": 32,
   "id": "c5605fbc",
   "metadata": {},
   "outputs": [],
   "source": [
    "DTSC = DTSC[['APN', 'County', 'Parcel Status:', 'Address']]"
   ]
  },
  {
   "cell_type": "code",
   "execution_count": 33,
   "id": "97ab1539",
   "metadata": {},
   "outputs": [],
   "source": [
    "DTSC_copy = DTSC.copy()\n",
    "DTSC_copy = DTSC_copy.add_suffix('_DTSC')"
   ]
  },
  {
   "cell_type": "markdown",
   "id": "61307b97",
   "metadata": {},
   "source": [
    "# For Randy - Needs Site Assessment Filter"
   ]
  },
  {
   "cell_type": "code",
   "execution_count": 34,
   "id": "64965429",
   "metadata": {},
   "outputs": [],
   "source": [
    "path3 = r\"C:\\Users\\jacque.trahan\\Downloads\\Randy filter-Northern*\"\n",
    "file_type3 = '.xlsx'\n",
    "load_it3 = glob.glob(path3 + file_type3)\n",
    "df3 = pd.read_excel(max(load_it3, key=os.path.getctime))"
   ]
  },
  {
   "cell_type": "code",
   "execution_count": 35,
   "id": "7d52cd83",
   "metadata": {},
   "outputs": [],
   "source": [
    "Randy_filt = df3.copy()"
   ]
  },
  {
   "cell_type": "code",
   "execution_count": 36,
   "id": "ca3bee1f",
   "metadata": {},
   "outputs": [],
   "source": [
    "Randy_filt = Randy_filt[['APN_ROW Segment', 'ROE Verified','ROE Type', 'Hold',\n",
    "                         'Not Eligible','Withdrawal','Phase 1 Complete','Site Assessment', 'USFS Parcel?']]"
   ]
  },
  {
   "cell_type": "code",
   "execution_count": 37,
   "id": "13292277",
   "metadata": {},
   "outputs": [],
   "source": [
    "Randy_filt = Randy_filt.add_suffix('_Randy')"
   ]
  },
  {
   "cell_type": "markdown",
   "id": "df336c35",
   "metadata": {},
   "source": [
    "# Planning Ready for site assessment tracker. "
   ]
  },
  {
   "cell_type": "markdown",
   "id": "611958dd",
   "metadata": {},
   "source": [
    "## filters for ROEs Available for SA Teams\n",
    "* ROE Verified = True\n",
    "* Holds = False\n",
    "* Not eilibale and widrawn = blank\n",
    "* phase one = blank\n",
    "* Site Assessmet = blank\n",
    "* USFS Parcel? = N/A"
   ]
  },
  {
   "cell_type": "code",
   "execution_count": 38,
   "id": "39deabca",
   "metadata": {},
   "outputs": [],
   "source": [
    "# Smart sheets\n",
    "path2 = r\"C:\\Users\\jacque.trahan\\Downloads\\Northern Division 2021 Debris Removal Tracker*\"\n",
    "file_type2 = '.xlsx'\n",
    "loadup2 = glob.glob(path2 + file_type2)\n",
    "df2 = pd.read_excel(max(loadup2, key=os.path.getctime))\n",
    "df_ss = pd.read_excel(max(loadup2, key=os.path.getctime), keep_default_na=False)"
   ]
  },
  {
   "cell_type": "code",
   "execution_count": 39,
   "id": "45baad8f",
   "metadata": {},
   "outputs": [],
   "source": [
    "SmartSheets = df_ss.copy()\n",
    "SmartSheets = SmartSheets[['APN_ROW Segment', 'ROE Verified','ROE Type', 'Hold',\n",
    "                         'Not Eligible','Withdrawal','Phase 1 Complete','Site Assessment', 'USFS Parcel?']]"
   ]
  },
  {
   "cell_type": "code",
   "execution_count": 40,
   "id": "7b39805d",
   "metadata": {},
   "outputs": [],
   "source": [
    "rdy_SAs = df2.copy()"
   ]
  },
  {
   "cell_type": "code",
   "execution_count": 42,
   "id": "a100f13a",
   "metadata": {},
   "outputs": [],
   "source": [
    "rdy_SAs = rdy_SAs[(rdy_SAs['ROE Verified'] == 'ROE Verified') & # Roe verified\n",
    "           (rdy_SAs['ROE Type'] == 'Full Program ROE (debris + trees)') & # ROE types is not just trees\n",
    "           (rdy_SAs['Hold'].isnull()) & # not on hold \n",
    "           (rdy_SAs['Not Eligible'].isnull()) & # Not eilibale = blank\n",
    "           (rdy_SAs['Withdrawal'].isnull()) & # Withdrawal= blank\n",
    "           (rdy_SAs['Phase 1 Complete'] == 'Yes') & #Phase one complete\n",
    "           (rdy_SAs['Site Assessment'].isnull()) & # SA hasnt been done\n",
    "           (rdy_SAs['USFS Parcel?'].isnull())           \n",
    "           ] "
   ]
  },
  {
   "cell_type": "code",
   "execution_count": null,
   "id": "37b77366",
   "metadata": {},
   "outputs": [],
   "source": []
  },
  {
   "cell_type": "code",
   "execution_count": 43,
   "id": "08d52a09",
   "metadata": {},
   "outputs": [],
   "source": [
    "rdy_SAs = rdy_SAs[['APN_ROW Segment', 'ROE Verified','ROE Type', 'Hold',\n",
    "                         'Not Eligible','Withdrawal','Phase 1 Complete','Site Assessment', 'USFS Parcel?']]"
   ]
  },
  {
   "cell_type": "code",
   "execution_count": 44,
   "id": "0458b7f8",
   "metadata": {},
   "outputs": [],
   "source": [
    "rdy_SAs = rdy_SAs.add_suffix(\"_Planning\")"
   ]
  },
  {
   "cell_type": "code",
   "execution_count": 45,
   "id": "d3b1cd0e",
   "metadata": {},
   "outputs": [],
   "source": [
    "SS_merge = rdy_SAs.merge(SmartSheets,\n",
    "                            left_on='APN_ROW Segment_Planning',\n",
    "                            right_on='APN_ROW Segment',\n",
    "                            how='outer')"
   ]
  },
  {
   "cell_type": "code",
   "execution_count": 46,
   "id": "651e3415",
   "metadata": {},
   "outputs": [],
   "source": [
    "SS_merge_RandyFilt = SS_merge.merge(Randy_filt,\n",
    "                               left_on='APN_ROW Segment',\n",
    "                               right_on='APN_ROW Segment_Randy',\n",
    "                               how='outer')"
   ]
  },
  {
   "cell_type": "code",
   "execution_count": 47,
   "id": "b0cfa829",
   "metadata": {},
   "outputs": [],
   "source": [
    "final = SS_merge_RandyFilt.merge(DTSC_copy,\n",
    "                                 left_on='APN_ROW Segment',\n",
    "                                 right_on='APN_DTSC',\n",
    "                                 how='outer')"
   ]
  },
  {
   "cell_type": "code",
   "execution_count": 48,
   "id": "b0b67571",
   "metadata": {},
   "outputs": [],
   "source": [
    "final.set_index('APN_ROW Segment', inplace=True)"
   ]
  },
  {
   "cell_type": "code",
   "execution_count": 49,
   "id": "cb3337bc",
   "metadata": {},
   "outputs": [],
   "source": [
    "final.to_excel('What Is Ready For Site Assessment- Northern.xlsx')"
   ]
  },
  {
   "cell_type": "code",
   "execution_count": null,
   "id": "f75cde6c",
   "metadata": {},
   "outputs": [],
   "source": []
  },
  {
   "cell_type": "code",
   "execution_count": null,
   "id": "cdbbd984",
   "metadata": {},
   "outputs": [],
   "source": []
  }
 ],
 "metadata": {
  "kernelspec": {
   "display_name": "Python 3",
   "language": "python",
   "name": "python3"
  },
  "language_info": {
   "codemirror_mode": {
    "name": "ipython",
    "version": 3
   },
   "file_extension": ".py",
   "mimetype": "text/x-python",
   "name": "python",
   "nbconvert_exporter": "python",
   "pygments_lexer": "ipython3",
   "version": "3.9.4"
  }
 },
 "nbformat": 4,
 "nbformat_minor": 5
}
