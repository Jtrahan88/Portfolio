{
 "cells": [
  {
   "cell_type": "markdown",
   "id": "a1bc0056",
   "metadata": {},
   "source": [
    "# Asbestos Audit:\n",
    "### outputs:\n",
    "* ASB audit\n",
    "* Duplicate APNs in share point, Tetra forms, Smart Sheets"
   ]
  },
  {
   "cell_type": "code",
   "execution_count": 1,
   "id": "373b0609",
   "metadata": {},
   "outputs": [],
   "source": [
    "import pandas as pd\n",
    "import glob\n",
    "import numpy as np\n",
    "import os"
   ]
  },
  {
   "cell_type": "markdown",
   "id": "6e9c9e6d",
   "metadata": {},
   "source": [
    "Variables"
   ]
  },
  {
   "cell_type": "code",
   "execution_count": 2,
   "id": "7992d731",
   "metadata": {},
   "outputs": [],
   "source": [
    "county = ['LASSEN', 'PLUMAS', 'SISKIYOU', 'TRINITY', 'SHASTA']\n",
    "\n",
    "\n",
    "file_type_ex = '.xlsx'\n",
    "file_type_csv = '.csv'"
   ]
  },
  {
   "cell_type": "markdown",
   "id": "6a31d84c",
   "metadata": {},
   "source": [
    "#  Smart Sheets\n",
    "## Gets our most recent dowloaded files from the downloads folder"
   ]
  },
  {
   "cell_type": "code",
   "execution_count": 3,
   "id": "d7f6da12",
   "metadata": {},
   "outputs": [],
   "source": [
    "# read in BOP Smart hseets tracker\n",
    "path1 = r\"C:\\Users\\jacque.trahan\\Downloads\\BOP_North Div 2021 Debris Removal Tracker*\"\n",
    "load_it1 = glob.glob(path1 + file_type_ex)\n",
    "\n",
    "df1 = pd.read_excel(max(load_it1, key=os.path.getctime), parse_dates=True)"
   ]
  },
  {
   "cell_type": "code",
   "execution_count": 4,
   "id": "a630b3ac",
   "metadata": {},
   "outputs": [],
   "source": [
    "# read in ANVIL Smart sheeets tracker\n",
    "path_s = r\"C:\\Users\\jacque.trahan\\Downloads\\ANVIL_North Div 2021 Debris Removal Tracker*\"\n",
    "load_it_s = glob.glob(path_s + file_type_ex)\n",
    "\n",
    "df_s = pd.read_excel(max(load_it_s, key=os.path.getctime), parse_dates=True)"
   ]
  },
  {
   "cell_type": "markdown",
   "id": "5903e6f8",
   "metadata": {},
   "source": [
    "### Concat Northern and south cental files"
   ]
  },
  {
   "cell_type": "code",
   "execution_count": 5,
   "id": "4006fcc7",
   "metadata": {},
   "outputs": [],
   "source": [
    "df_both = pd.concat([df1, df_s])"
   ]
  },
  {
   "cell_type": "code",
   "execution_count": 6,
   "id": "7725e025",
   "metadata": {
    "scrolled": true
   },
   "outputs": [],
   "source": [
    "# Read in asbestos tracker from share point\n",
    "path2 = r\"C:\\Users\\jacque.trahan\\Downloads\\Asbestos Tracker*\"\n",
    "\n",
    "load_it2 = glob.glob(path2 + file_type_csv)\n",
    "\n",
    "df2 = pd.read_csv(max(load_it2, key=os.path.getctime))"
   ]
  },
  {
   "cell_type": "code",
   "execution_count": 7,
   "id": "4a6b0fa9",
   "metadata": {
    "scrolled": true
   },
   "outputs": [],
   "source": [
    "# df2.info()"
   ]
  },
  {
   "cell_type": "code",
   "execution_count": 8,
   "id": "57cc43a3",
   "metadata": {},
   "outputs": [],
   "source": [
    "# read in ESL from SQL server\n",
    "path3 = r\"C:\\Users\\jacque.trahan\\Downloads\\Asbestos Sample Status*\"\n",
    "load_it3 = glob.glob(path3 + file_type_ex)\n",
    "esl_final = pd.read_excel(max(load_it3, key=os.path.getctime), header=1)"
   ]
  },
  {
   "cell_type": "markdown",
   "id": "59dd865c",
   "metadata": {},
   "source": [
    "Tetra forms has a key error that we have to open the file first then save it as a new file. \n",
    "Only then will it all me to read the file in pandas\n",
    "* KeyError: \"There is no item named 'xl / sharedStrings.xml' in the archive\""
   ]
  },
  {
   "cell_type": "markdown",
   "id": "522fe60f",
   "metadata": {},
   "source": [
    "# Tetra Forms"
   ]
  },
  {
   "cell_type": "code",
   "execution_count": 9,
   "id": "fbdd350f",
   "metadata": {},
   "outputs": [],
   "source": [
    "df3= pd.read_excel(\"../../tetra forms ASB and SA/ASB_TetraForms_survey1.xlsx\")"
   ]
  },
  {
   "cell_type": "markdown",
   "id": "1ebe7e7e",
   "metadata": {},
   "source": [
    "# load in ESL with Concat\n",
    "### No longer needed. But here for referacne on how to concat all files in a folder.\n",
    "#### New way has master file and can just be read from downloads. \n",
    "* reads all files in a folder\n"
   ]
  },
  {
   "cell_type": "code",
   "execution_count": 10,
   "id": "98bf7584",
   "metadata": {},
   "outputs": [],
   "source": [
    "# path = r\"C:\\Users\\jacque.trahan\\Desktop\\Dixie Fires Audit\\ESLs\\Northern\"\n",
    "\n",
    "# esl_final = pd.concat(map(pd.read_excel, glob.glob(path + '/*.xlsx')))\n",
    "\n"
   ]
  },
  {
   "cell_type": "markdown",
   "id": "e1c62c58",
   "metadata": {},
   "source": [
    "\n",
    "* Below is What the above is doing \n",
    "* The above way is faster\n",
    "* no list\n",
    "\n",
    "path = r\"C:\\Users\\jacque.trahan\\Desktop\\Dixie Fires Audit\\ESLs\\Northern\"\n",
    "esl_final= glob.glob(path + \"/*.xlsx\")\n",
    "\n",
    "li=[]\n",
    "for filename in all_files:\n",
    "    df = pd.read_excel(filename, index_col=None)\n",
    "    li.append(df)\n",
    "\n",
    "esl_final = pd.concat(li)"
   ]
  },
  {
   "cell_type": "code",
   "execution_count": 11,
   "id": "d14119f5",
   "metadata": {},
   "outputs": [],
   "source": [
    "smartsheets = df_both.copy()\n",
    "asbestos = df2.copy()\n",
    "tetratForms = df3.copy()"
   ]
  },
  {
   "cell_type": "markdown",
   "id": "62b00733",
   "metadata": {},
   "source": [
    "# Most important info"
   ]
  },
  {
   "cell_type": "markdown",
   "id": "5da160c6",
   "metadata": {},
   "source": [
    "What I need to Check Daily is Smart Sheets vs ENV. Trackers\n",
    "* Chimneys and neshaps match\n",
    "* FINAL RESULTS vs Smart sheets – biggest concern\n",
    "\n",
    "* ASB Assessment Date Match\n",
    "\n",
    "* End of day numbers match"
   ]
  },
  {
   "cell_type": "markdown",
   "id": "c95899b5",
   "metadata": {},
   "source": [
    "# Asbestos set up"
   ]
  },
  {
   "cell_type": "code",
   "execution_count": 12,
   "id": "c5aaa73a",
   "metadata": {},
   "outputs": [
    {
     "data": {
      "text/plain": [
       "Northern Division    1185\n",
       "Central Division     1047\n",
       "Name: Division, dtype: int64"
      ]
     },
     "execution_count": 12,
     "metadata": {},
     "output_type": "execute_result"
    }
   ],
   "source": [
    "asbestos['Division'].value_counts()"
   ]
  },
  {
   "cell_type": "code",
   "execution_count": 13,
   "id": "efbe1d26",
   "metadata": {},
   "outputs": [],
   "source": [
    "# Take out all divisions other than Northern.\n",
    "asbestos = asbestos[asbestos['Division'].isin(['Northern Division'])]"
   ]
  },
  {
   "cell_type": "markdown",
   "id": "d3a2b160",
   "metadata": {},
   "source": [
    "###  Get APN counts from Asbetsos"
   ]
  },
  {
   "cell_type": "code",
   "execution_count": 14,
   "id": "b5bf25af",
   "metadata": {},
   "outputs": [],
   "source": [
    "# pd.set_option('display.max_rows',1000)"
   ]
  },
  {
   "cell_type": "code",
   "execution_count": 15,
   "id": "95b444a9",
   "metadata": {},
   "outputs": [],
   "source": [
    "asbestos['APN'].value_counts().to_excel('Asbestos tracker APN Counts_Share Point-northern.xlsx')"
   ]
  },
  {
   "cell_type": "code",
   "execution_count": 16,
   "id": "4dbd6133",
   "metadata": {},
   "outputs": [],
   "source": [
    "# changes date column from object to a date.\n",
    "asbestos['Date Collected'] = pd.to_datetime(asbestos['Date Collected']).dt.date.fillna(0)\n",
    "asbestos['Chimney Tip Date'] = pd.to_datetime(asbestos['Chimney Tip Date']).dt.date.fillna(0)\n",
    "asbestos['Chimney Abatement Completed Date'] = pd.to_datetime(asbestos['Chimney Abatement Completed Date']).dt.date.fillna(0)\n",
    "asbestos['Asbestos Abatement Completed Date'] = pd.to_datetime(asbestos['Asbestos Abatement Completed Date']).dt.date.fillna(0)\n",
    "asbestos['Date Shipped or Driven'] = pd.to_datetime(asbestos['Date Shipped or Driven']).dt.date.fillna(\"0\")"
   ]
  },
  {
   "cell_type": "code",
   "execution_count": 17,
   "id": "72cc6dc5",
   "metadata": {},
   "outputs": [],
   "source": [
    "asbestos.columns = map(str.upper, asbestos.columns)"
   ]
  },
  {
   "cell_type": "code",
   "execution_count": 18,
   "id": "2e6f1f60",
   "metadata": {},
   "outputs": [],
   "source": [
    "asbestos.rename(columns={'APN':'APN_ASB'}, inplace=True)"
   ]
  },
  {
   "cell_type": "code",
   "execution_count": 19,
   "id": "e4c86c9c",
   "metadata": {},
   "outputs": [],
   "source": [
    "# Column section all upper case\n",
    "asb_cols = asbestos[['APN_ASB', 'FINAL RESULTS', 'CHIMNEY', 'CHIMNEY TIP DATE', 'CHIMNEY FINDING',\n",
    "                 'NESHAP WALLS',\n",
    "                 'DATE COLLECTED', 'DATE SHIPPED OR DRIVEN', \n",
    "                 'SAMPLE QUANTITY', 'POINT COUNT NEEDED', 'POINT COUNT RESULTS',\n",
    "                 'ASBESTOS ABATEMENT COMPLETED DATE', 'CHIMNEY ABATEMENT COMPLETED DATE',\n",
    "                 'PLANNING NOTES', 'DIVISION']]"
   ]
  },
  {
   "cell_type": "markdown",
   "id": "cecdcdf4",
   "metadata": {},
   "source": [
    "# Tetra Forms setup"
   ]
  },
  {
   "cell_type": "markdown",
   "id": "64a70ecd",
   "metadata": {},
   "source": [
    "### Tetra Forms sheet sample_log setup"
   ]
  },
  {
   "cell_type": "code",
   "execution_count": 20,
   "id": "4bae0a85",
   "metadata": {},
   "outputs": [],
   "source": [
    "# read in the sample log of the survey forms to get the correct sample count\n",
    "TF = pd.read_excel(\"../../tetra forms ASB and SA/ASB_TetraForms_survey1.xlsx\", sheet_name='sample_log')"
   ]
  },
  {
   "cell_type": "code",
   "execution_count": 21,
   "id": "0987fc57",
   "metadata": {},
   "outputs": [],
   "source": [
    "# will grab the highest sample taken\n",
    "max_samples = TF.groupby(['apn'])[['samplecounter']].max().reset_index()\n"
   ]
  },
  {
   "cell_type": "markdown",
   "id": "75bc165a",
   "metadata": {},
   "source": [
    "## Tetra Forms chimney tip setup\n",
    "Combine chimney tip database with sample log"
   ]
  },
  {
   "cell_type": "code",
   "execution_count": 22,
   "id": "626b58d0",
   "metadata": {},
   "outputs": [],
   "source": [
    "# Read in the chuimney tip database\n",
    "TF_tips = pd.read_excel('../../tetra forms ASB and SA/ASB_TetraForms_tips1.xlsx')"
   ]
  },
  {
   "cell_type": "code",
   "execution_count": 23,
   "id": "d7ccd8c0",
   "metadata": {},
   "outputs": [],
   "source": [
    "TF_tips = TF_tips[TF_tips['county'].isin(county)]"
   ]
  },
  {
   "cell_type": "code",
   "execution_count": 24,
   "id": "4513d11c",
   "metadata": {},
   "outputs": [],
   "source": [
    "# columns needed\n",
    "TF_tips= TF_tips[['apn', 'inspection_date']]"
   ]
  },
  {
   "cell_type": "markdown",
   "id": "3113eaf1",
   "metadata": {},
   "source": [
    "### Get Chimney Tip APN counts in asbestos"
   ]
  },
  {
   "cell_type": "code",
   "execution_count": 25,
   "id": "1f46e68c",
   "metadata": {},
   "outputs": [],
   "source": [
    "TF_tips['apn'].value_counts().to_excel('Asbestos Chimney tip APN counts.xlsx') # 1 for 1 last check all good"
   ]
  },
  {
   "cell_type": "code",
   "execution_count": 26,
   "id": "c6a86430",
   "metadata": {},
   "outputs": [],
   "source": [
    "# rename for easy reading for later merges\n",
    "TF_tips.rename(columns={'inspection_date': 'TIP INSPECTION_TF'}, inplace=True)"
   ]
  },
  {
   "cell_type": "code",
   "execution_count": 27,
   "id": "102f4676",
   "metadata": {},
   "outputs": [],
   "source": [
    "# Need to make this series a datetime and fill in 0'sfor blank spots\n",
    "TF_tips['TIP INSPECTION_TF'] = pd.to_datetime(TF_tips['TIP INSPECTION_TF']).dt.date.fillna(0)"
   ]
  },
  {
   "cell_type": "code",
   "execution_count": 28,
   "id": "969e40c4",
   "metadata": {},
   "outputs": [],
   "source": [
    "# merge tips and sample log databases\n",
    "merge1 = max_samples.merge(TF_tips,\n",
    "                          left_on='apn',\n",
    "                          right_on='apn',\n",
    "                          how='outer')"
   ]
  },
  {
   "cell_type": "markdown",
   "id": "44f4653b",
   "metadata": {},
   "source": [
    "# Tetra Forms Abatment date setup\n",
    "Combine Abatment date database with merge 1 (tips and max samples)"
   ]
  },
  {
   "cell_type": "code",
   "execution_count": 29,
   "id": "40974a5e",
   "metadata": {},
   "outputs": [],
   "source": [
    "# abatment clearance form logs\n",
    "TF_abate = pd.read_excel('../../tetra forms ASB and SA/ASB_TetraForms_abatment1.xlsx')"
   ]
  },
  {
   "cell_type": "code",
   "execution_count": 30,
   "id": "e4a3e037",
   "metadata": {},
   "outputs": [],
   "source": [
    "# chossing couty for only Northern division. Only way to seperate the divisions in Tetra forms\n",
    "TF_abate = TF_abate[TF_abate['county'].isin(county)]"
   ]
  },
  {
   "cell_type": "code",
   "execution_count": 31,
   "id": "5c99a703",
   "metadata": {},
   "outputs": [],
   "source": [
    "# columns needed\n",
    "TF_abate = TF_abate[['apn', 'abatement_end']]"
   ]
  },
  {
   "cell_type": "markdown",
   "id": "76e1a79e",
   "metadata": {},
   "source": [
    "#### Get Tetra Forms Abatment APN counts in asbestos"
   ]
  },
  {
   "cell_type": "code",
   "execution_count": 32,
   "id": "6778de1f",
   "metadata": {},
   "outputs": [],
   "source": [
    "TF_abate['apn'].value_counts().to_excel('TF Abatmanet APN Counts Northern.xlsx')"
   ]
  },
  {
   "cell_type": "code",
   "execution_count": 33,
   "id": "47f198da",
   "metadata": {},
   "outputs": [],
   "source": [
    "# Need to make this series a datetime and fill in 0'sfor blank spots\n",
    "TF_abate['abatement_end'] = pd.to_datetime(TF_abate['abatement_end']).dt.date.fillna(0)"
   ]
  },
  {
   "cell_type": "code",
   "execution_count": 34,
   "id": "867c09a9",
   "metadata": {},
   "outputs": [],
   "source": [
    "# rename for easy reading on later merges\n",
    "TF_abate.rename(columns={'abatement_end': 'ABATEMENT END_TF'}, inplace=True)"
   ]
  },
  {
   "cell_type": "code",
   "execution_count": 35,
   "id": "ed133b82",
   "metadata": {},
   "outputs": [],
   "source": [
    "merge2 = merge1.merge(TF_abate,\n",
    "                     left_on='apn',\n",
    "                     right_on='apn',\n",
    "                     how='outer')"
   ]
  },
  {
   "cell_type": "markdown",
   "id": "649934ac",
   "metadata": {},
   "source": [
    "# Master Tetra Forms setup from all thre databases\n",
    "* Chimney tips\n",
    "* abatement dates\n",
    "* asbestos survey info"
   ]
  },
  {
   "cell_type": "code",
   "execution_count": 36,
   "id": "bc34ff60",
   "metadata": {},
   "outputs": [],
   "source": [
    "# merges in tetra froms surveys with sample logs, tips, and abataemetn databses.\n",
    "tetratForms = tetratForms.merge(merge2,\n",
    "                 left_on='apn',\n",
    "                 right_on='apn',\n",
    "                 how='outer')"
   ]
  },
  {
   "cell_type": "code",
   "execution_count": 37,
   "id": "ec73300e",
   "metadata": {},
   "outputs": [],
   "source": [
    "# chossing couty for only Northern division. Only way to seperate the divisions in Tetra forms\n",
    "tetratForms = tetratForms[tetratForms['county'].isin(county)]"
   ]
  },
  {
   "cell_type": "code",
   "execution_count": 38,
   "id": "b11968d5",
   "metadata": {},
   "outputs": [],
   "source": [
    "# columns needed\n",
    "tetratForms = tetratForms[['apn', 'chimneys','walls','inspection_date', 'county','samplecounter','TIP INSPECTION_TF',\n",
    "                           'ABATEMENT END_TF' ]]"
   ]
  },
  {
   "cell_type": "markdown",
   "id": "2362d3fa",
   "metadata": {},
   "source": [
    "###  TF Survey APN counts"
   ]
  },
  {
   "cell_type": "code",
   "execution_count": 39,
   "id": "23497bc5",
   "metadata": {},
   "outputs": [],
   "source": [
    "tetratForms['apn'].value_counts().to_excel('Asbestos Survey TF_APN counts Northern.xlsx')"
   ]
  },
  {
   "cell_type": "code",
   "execution_count": 40,
   "id": "72a05fc3",
   "metadata": {},
   "outputs": [],
   "source": [
    "# change date object to date time format\n",
    "tetratForms['inspection_date'] = pd.to_datetime(tetratForms['inspection_date']).dt.date.fillna(0)"
   ]
  },
  {
   "cell_type": "code",
   "execution_count": 41,
   "id": "006fc1f6",
   "metadata": {},
   "outputs": [],
   "source": [
    "# rename out columns for easier readin on merges\n",
    "tetratForms.rename(columns={'inspection_date': 'survey inspection date'}, inplace=True)"
   ]
  },
  {
   "cell_type": "code",
   "execution_count": 42,
   "id": "5121884c",
   "metadata": {},
   "outputs": [],
   "source": [
    "# make ALL columnS upper CASE\n",
    "tetratForms.columns =map(str.upper, tetratForms.columns)"
   ]
  },
  {
   "cell_type": "code",
   "execution_count": 43,
   "id": "a24f7a1a",
   "metadata": {},
   "outputs": [],
   "source": [
    "tetratForms.rename(columns={'APN': 'APN_TF'}, inplace=True)"
   ]
  },
  {
   "cell_type": "markdown",
   "id": "6ae3ace8",
   "metadata": {},
   "source": [
    "# Smart Sheet set up"
   ]
  },
  {
   "cell_type": "markdown",
   "id": "211fc0df",
   "metadata": {},
   "source": [
    "### Get APN counts from Smart Sheets"
   ]
  },
  {
   "cell_type": "code",
   "execution_count": 44,
   "id": "c446ad09",
   "metadata": {},
   "outputs": [],
   "source": [
    "smartsheets['APN_ROW Segment'].value_counts().to_excel('Northern_SS Tracker APN counts.xlsx')"
   ]
  },
  {
   "cell_type": "code",
   "execution_count": 45,
   "id": "71ff5795",
   "metadata": {
    "scrolled": true
   },
   "outputs": [],
   "source": [
    "smartsheets[\"Chimney Tipped\"].fillna(0, inplace=True)\n"
   ]
  },
  {
   "cell_type": "markdown",
   "id": "1c93d68c",
   "metadata": {},
   "source": [
    "#### This is need becasue BUG: pd.to_datetime() throws if caching is on with Null-like arguments\n",
    "* solution: pd.to_datetime(df.colx.fillna(pd.NaT), errors='coerce')"
   ]
  },
  {
   "cell_type": "code",
   "execution_count": 46,
   "id": "c1e27f09",
   "metadata": {},
   "outputs": [],
   "source": [
    "smartsheets[\"Chimney Tipped\"] = pd.to_datetime(smartsheets[\"Chimney Tipped\"].fillna(pd.NaT), errors='coerce')\n",
    "smartsheets[\"ASB Assessment\"] = pd.to_datetime(smartsheets[\"ASB Assessment\"].fillna(pd.NaT), errors='coerce')\n",
    "smartsheets[\"ASB Abatement\"] = pd.to_datetime(smartsheets[\"ASB Abatement\"].fillna(pd.NaT), errors='coerce')"
   ]
  },
  {
   "cell_type": "code",
   "execution_count": 47,
   "id": "68708329",
   "metadata": {},
   "outputs": [],
   "source": [
    "# changes date column from object to a date. and fill na with 0's\n",
    "smartsheets[\"ASB Assessment\"] = smartsheets[\"ASB Assessment\"].dt.date.fillna(0)\n",
    "smartsheets[\"Chimney Tipped\"] = smartsheets[\"Chimney Tipped\"].dt.date.fillna(0)\n",
    "smartsheets[\"ASB Abatement\"] = smartsheets[\"ASB Abatement\"].dt.date.fillna(0)"
   ]
  },
  {
   "cell_type": "code",
   "execution_count": 48,
   "id": "d0fb99d0",
   "metadata": {},
   "outputs": [],
   "source": [
    "smartsheets.rename(columns={'ASB Assessment': 'Date Collected', 'Chimney Tipped':'CHIMNEY TIP DATE',\n",
    "                            'County': 'SS_COUNTY'}, inplace=True)"
   ]
  },
  {
   "cell_type": "code",
   "execution_count": 49,
   "id": "6da9acb1",
   "metadata": {},
   "outputs": [],
   "source": [
    "smartsheets.columns = map(str.upper, smartsheets.columns)"
   ]
  },
  {
   "cell_type": "code",
   "execution_count": 50,
   "id": "447c47c3",
   "metadata": {},
   "outputs": [],
   "source": [
    "# Column section normal uppercase\n",
    "ss_cols = smartsheets[['APN_ROW SEGMENT','STREET #','STREET NAME','STRUCTURAL STATUS','SS_COUNTY','ASB RESULTS',\n",
    "                     'CHIMNEY','CHIMNEY TIP DATE',\n",
    "                     'NESHAP WALLS', \n",
    "                     \"DATE COLLECTED\",'ASB SUSPECTED',\n",
    "                     'ASB ABATEMENT', 'DIVISION']]\n",
    "ss_cols = ss_cols[ss_cols['DIVISION'].isin(['Northern Division'])]"
   ]
  },
  {
   "cell_type": "markdown",
   "id": "c7b2da22",
   "metadata": {},
   "source": [
    "# Smasrt merge first w/ ASB"
   ]
  },
  {
   "cell_type": "code",
   "execution_count": 51,
   "id": "453dcbd8",
   "metadata": {},
   "outputs": [],
   "source": [
    "smasrt_ASB = ss_cols.merge(asbestos,\n",
    "                           left_on='APN_ROW SEGMENT',\n",
    "                           right_on='APN_ASB',\n",
    "                           how='outer',\n",
    "                         suffixes=('_SS','_ASB'))"
   ]
  },
  {
   "cell_type": "markdown",
   "id": "05da5302",
   "metadata": {},
   "source": [
    "# smartsheet w/ ASB merge with Tetraform"
   ]
  },
  {
   "cell_type": "code",
   "execution_count": 52,
   "id": "16b39c28",
   "metadata": {},
   "outputs": [],
   "source": [
    "SS_ASB_TF = smasrt_ASB.merge(tetratForms,\n",
    "           left_on=\"APN_ROW SEGMENT\",\n",
    "           right_on='APN_TF',\n",
    "           how='outer',\n",
    "           suffixes=(\"_SS\", \"_TF\"))"
   ]
  },
  {
   "cell_type": "markdown",
   "id": "0be33c99",
   "metadata": {},
   "source": [
    "# ESL Set up"
   ]
  },
  {
   "cell_type": "code",
   "execution_count": 53,
   "id": "c94f3332",
   "metadata": {},
   "outputs": [],
   "source": [
    "esl_final.columns = map(str.upper, esl_final.columns)"
   ]
  },
  {
   "cell_type": "code",
   "execution_count": 54,
   "id": "207fc804",
   "metadata": {},
   "outputs": [],
   "source": [
    "esl_final.rename(columns={'DATE SHIPPED':'DATE SHIPPED_esl'}, inplace=True)"
   ]
  },
  {
   "cell_type": "code",
   "execution_count": 55,
   "id": "e161f0b4",
   "metadata": {},
   "outputs": [],
   "source": [
    "esl_final = esl_final[esl_final['DIVISION'].isin(['Northern Division'])]"
   ]
  },
  {
   "cell_type": "code",
   "execution_count": 56,
   "id": "6c5c3ce7",
   "metadata": {},
   "outputs": [],
   "source": [
    "exceedances = esl_final[['APN', 'BULK PLM EXCEEDANCES']]"
   ]
  },
  {
   "cell_type": "code",
   "execution_count": 57,
   "id": "8fff4340",
   "metadata": {
    "scrolled": false
   },
   "outputs": [],
   "source": [
    "esl_final = esl_final[['APN', 'DATE SHIPPED_esl','BULK PLM EXCEEDANCES', 'DIVISION']]"
   ]
  },
  {
   "cell_type": "code",
   "execution_count": 58,
   "id": "31bb8f43",
   "metadata": {},
   "outputs": [],
   "source": [
    "esl_final['DATE SHIPPED_esl'] = pd.to_datetime(esl_final['DATE SHIPPED_esl']).dt.date.fillna(\"0\")"
   ]
  },
  {
   "cell_type": "code",
   "execution_count": 59,
   "id": "e60c76d4",
   "metadata": {},
   "outputs": [],
   "source": [
    "esl = esl_final.groupby(['APN'])[['DATE SHIPPED_esl']].max().reset_index()"
   ]
  },
  {
   "cell_type": "markdown",
   "id": "a6929746",
   "metadata": {},
   "source": [
    "# Merge SS_ASB_TF Merge with ESL master"
   ]
  },
  {
   "cell_type": "code",
   "execution_count": 60,
   "id": "b6c3b3b2",
   "metadata": {},
   "outputs": [],
   "source": [
    "pre_final = SS_ASB_TF.merge(esl,\n",
    "            left_on=\"APN_ROW SEGMENT\",\n",
    "            right_on='APN',\n",
    "            how='outer')"
   ]
  },
  {
   "cell_type": "code",
   "execution_count": 61,
   "id": "a9de280e",
   "metadata": {},
   "outputs": [],
   "source": [
    "final = pre_final.merge(exceedances,\n",
    "                       left_on=\"APN_ROW SEGMENT\",\n",
    "                       right_on='APN',\n",
    "                       how='outer')"
   ]
  },
  {
   "cell_type": "code",
   "execution_count": 62,
   "id": "7d64f571",
   "metadata": {
    "scrolled": true
   },
   "outputs": [],
   "source": [
    "# final.columns"
   ]
  },
  {
   "cell_type": "markdown",
   "id": "b41c6af2",
   "metadata": {},
   "source": [
    "# set up columns for QC order"
   ]
  },
  {
   "cell_type": "code",
   "execution_count": 63,
   "id": "90a2393b",
   "metadata": {},
   "outputs": [],
   "source": [
    "# change the ND/POS to spell out for easier matching in audits\n",
    "final['FINAL RESULTS'] = final['FINAL RESULTS'].str.replace(\"ND\", 'NEGATIVE').str.replace(\"POS\",\"POSITIVE\")"
   ]
  },
  {
   "cell_type": "markdown",
   "id": "835f35f4",
   "metadata": {},
   "source": [
    "# Get hacky and force blanks to say 0\n",
    "this is beacsue some APN are not in every tracker yet"
   ]
  },
  {
   "cell_type": "markdown",
   "id": "36f4f381",
   "metadata": {},
   "source": [
    "## Smartsheets \n"
   ]
  },
  {
   "cell_type": "code",
   "execution_count": 64,
   "id": "4aef3b6a",
   "metadata": {
    "scrolled": true
   },
   "outputs": [],
   "source": [
    "# final.columns"
   ]
  },
  {
   "cell_type": "code",
   "execution_count": 65,
   "id": "6d9526e6",
   "metadata": {
    "scrolled": true
   },
   "outputs": [],
   "source": [
    "final[\"DATE COLLECTED_SS\"] = final[\"DATE COLLECTED_SS\"].fillna(0)"
   ]
  },
  {
   "cell_type": "code",
   "execution_count": 66,
   "id": "789f8664",
   "metadata": {},
   "outputs": [],
   "source": [
    "final['CHIMNEY TIP DATE_SS'] = final['CHIMNEY TIP DATE_SS'].fillna(0)\n",
    "final['ASB RESULTS'] = final['ASB RESULTS'].fillna(\"0\")\n",
    "\n",
    "final['CHIMNEY_SS'] = final['CHIMNEY_SS'].str.replace(\"No\", '0')\n",
    "final['CHIMNEY_SS'] = final['CHIMNEY_SS'].fillna(\"0\")\n",
    "\n",
    "final[\"ASB ABATEMENT\"] = final[\"ASB ABATEMENT\"].fillna(0)\n",
    "\n",
    "final[\"NESHAP WALLS_SS\"] = final[\"NESHAP WALLS_SS\"].str.replace(\"No\", \"0\").fillna(\"0\")\n",
    "final['ASB SUSPECTED'] = final['ASB SUSPECTED'].fillna(\"0\")\n"
   ]
  },
  {
   "cell_type": "markdown",
   "id": "e5a559a2",
   "metadata": {},
   "source": [
    "## ASB Tracker\n"
   ]
  },
  {
   "cell_type": "code",
   "execution_count": 67,
   "id": "90b669b1",
   "metadata": {},
   "outputs": [],
   "source": [
    "final['DATE COLLECTED_ASB'] = final['DATE COLLECTED_ASB'].fillna(0)\n",
    "final['DATE SHIPPED OR DRIVEN'] = final['DATE SHIPPED OR DRIVEN'].fillna(\"0\")\n",
    "\n",
    "final['CHIMNEY TIP DATE_ASB'] = final['CHIMNEY TIP DATE_ASB'].fillna(0)\n",
    "\n",
    "final['SAMPLE QUANTITY'] = final['SAMPLE QUANTITY'].fillna(0)\n",
    "\n",
    "final['FINAL RESULTS'] = final['FINAL RESULTS'].fillna(\"0\")\n",
    "final['POINT COUNT RESULTS'] = final['POINT COUNT RESULTS'].fillna(\"0\")\n",
    "\n",
    "final['CHIMNEY_ASB'] = final['CHIMNEY_ASB'].str.replace(\"No\", \"0\")\n",
    "final['CHIMNEY_ASB'] = final['CHIMNEY_ASB'].fillna('0')\n",
    "\n",
    "final[\"ASBESTOS ABATEMENT COMPLETED DATE\"] = final[\"ASBESTOS ABATEMENT COMPLETED DATE\"].fillna(0)\n",
    "\n",
    "final[\"NESHAP WALLS_ASB\"] = final[\"NESHAP WALLS_ASB\"].str.replace(\"No\", \"0\").fillna(\"0\")\n"
   ]
  },
  {
   "cell_type": "markdown",
   "id": "4794d9d6",
   "metadata": {},
   "source": [
    "## Tetra Forms\n"
   ]
  },
  {
   "cell_type": "code",
   "execution_count": 68,
   "id": "16ab1e9b",
   "metadata": {},
   "outputs": [],
   "source": [
    "final['TIP INSPECTION_TF'] = final['TIP INSPECTION_TF'].fillna(0)\n",
    "\n",
    "final['SURVEY INSPECTION DATE'] = final['SURVEY INSPECTION DATE'].fillna(0)\n",
    "\n",
    "final['ABATEMENT END_TF'] = final['ABATEMENT END_TF'].fillna(0)\n",
    "\n",
    "final['SAMPLECOUNTER'] = final['SAMPLECOUNTER'].fillna(0)\n",
    "\n",
    "final['CHIMNEYS'] = final['CHIMNEYS'].str.replace('No', \"0\").fillna(\"0\")\n",
    "\n",
    "\n",
    "final[\"ABATEMENT END_TF\"] = final[\"ABATEMENT END_TF\"].fillna(0)\n",
    "\n",
    "final[\"WALLS\"] = final[\"WALLS\"].str.replace(\"No\", \"0\").fillna(\"0\")\n"
   ]
  },
  {
   "cell_type": "markdown",
   "id": "ede86a90",
   "metadata": {},
   "source": [
    "# ESL fillna with 0's"
   ]
  },
  {
   "cell_type": "code",
   "execution_count": 69,
   "id": "2ab4e3ec",
   "metadata": {},
   "outputs": [],
   "source": [
    "final['DATE SHIPPED_esl'] = final['DATE SHIPPED_esl'].fillna(\"0\")\n",
    "final['DATE SHIPPED OR DRIVEN'] = final['DATE SHIPPED OR DRIVEN'].fillna(\"0\")"
   ]
  },
  {
   "cell_type": "code",
   "execution_count": 70,
   "id": "40f9dc42",
   "metadata": {},
   "outputs": [],
   "source": [
    "# final.columns"
   ]
  },
  {
   "cell_type": "code",
   "execution_count": 71,
   "id": "26166062",
   "metadata": {},
   "outputs": [],
   "source": [
    "final = final[[\"APN_ROW SEGMENT\",'APN_ASB','APN_TF','STREET #','STREET NAME_SS','STRUCTURAL STATUS','SS_COUNTY',\n",
    "               \"DATE COLLECTED_SS\",'DATE COLLECTED_ASB','SURVEY INSPECTION DATE',\n",
    "               'SAMPLE QUANTITY','SAMPLECOUNTER',\n",
    "               'ASB SUSPECTED', 'DATE SHIPPED OR DRIVEN','DATE SHIPPED_esl',\n",
    "               'ASB RESULTS','FINAL RESULTS','POINT COUNT NEEDED', 'POINT COUNT RESULTS', 'BULK PLM EXCEEDANCES',\n",
    "               'CHIMNEY_SS','CHIMNEY_ASB','CHIMNEYS',\n",
    "               'CHIMNEY TIP DATE_SS','CHIMNEY TIP DATE_ASB','TIP INSPECTION_TF',\n",
    "               'CHIMNEY FINDING', 'CHIMNEY ABATEMENT COMPLETED DATE',\n",
    "               'ASB ABATEMENT','ASBESTOS ABATEMENT COMPLETED DATE', 'ABATEMENT END_TF',\n",
    "               'NESHAP WALLS_SS','NESHAP WALLS_ASB','WALLS',\n",
    "               'DIVISION_SS']]"
   ]
  },
  {
   "cell_type": "markdown",
   "id": "edf726ef",
   "metadata": {},
   "source": [
    "# If ASB is suspected in SS shipped should not be blank in ASB tracker"
   ]
  },
  {
   "cell_type": "code",
   "execution_count": 72,
   "id": "b60a3385",
   "metadata": {},
   "outputs": [],
   "source": [
    "def shipping_dates(df, comp1, comp2, comp3):\n",
    "    if ((df[comp1] != \"0\") & ((df[comp2] == \"0\") | (df[comp3] == \"0\"))):\n",
    "        return 0\n",
    "    else:\n",
    "        return 1"
   ]
  },
  {
   "cell_type": "code",
   "execution_count": 73,
   "id": "881dd28e",
   "metadata": {},
   "outputs": [],
   "source": [
    "final.insert(final.columns.get_loc('DATE SHIPPED_esl')+1, 'Blank Ship Date',\n",
    "            final.apply(shipping_dates,comp1='ASB SUSPECTED', comp2='DATE SHIPPED OR DRIVEN', comp3='DATE SHIPPED_esl',axis=1))"
   ]
  },
  {
   "cell_type": "markdown",
   "id": "d7051d08",
   "metadata": {},
   "source": [
    "# Automate the Excel QC process Function for all below process"
   ]
  },
  {
   "cell_type": "code",
   "execution_count": 74,
   "id": "1b4b0901",
   "metadata": {},
   "outputs": [],
   "source": [
    "def compare_cols(df, comp1, comp2, comp3=None):\n",
    "    if comp3 == None:\n",
    "        if df[comp1] == df[comp2]:\n",
    "            return 1\n",
    "        else:\n",
    "            return 0\n",
    "    elif ((df[comp1] == df[comp2]) & (df[comp1] == df[comp3]) & (df[comp2] == df[comp3])):\n",
    "        return 1\n",
    "    else:\n",
    "        return 0"
   ]
  },
  {
   "cell_type": "markdown",
   "id": "2905df94",
   "metadata": {},
   "source": [
    "# Check date shipped in ASB and date shipped in ESL"
   ]
  },
  {
   "cell_type": "code",
   "execution_count": 75,
   "id": "7e9d2ae5",
   "metadata": {},
   "outputs": [],
   "source": [
    "final.insert(final.columns.get_loc('Blank Ship Date')+1, 'Check if ship dates Match',\n",
    "             final.apply(compare_cols, comp1='DATE SHIPPED OR DRIVEN', comp2='DATE SHIPPED_esl', axis=1))"
   ]
  },
  {
   "cell_type": "markdown",
   "id": "c625b745",
   "metadata": {},
   "source": [
    "# check Date Collected"
   ]
  },
  {
   "cell_type": "code",
   "execution_count": 76,
   "id": "345296bd",
   "metadata": {
    "scrolled": true
   },
   "outputs": [],
   "source": [
    "final.insert(final.columns.get_loc('SAMPLE QUANTITY')+1,'Date Collected - M',\n",
    "             final.apply(compare_cols, comp1=\"DATE COLLECTED_SS\", comp2='DATE COLLECTED_ASB', comp3='SURVEY INSPECTION DATE', axis=1))"
   ]
  },
  {
   "cell_type": "markdown",
   "id": "409c00a5",
   "metadata": {},
   "source": [
    "# check Total Samples Collected Counts"
   ]
  },
  {
   "cell_type": "code",
   "execution_count": 77,
   "id": "9c88e2b9",
   "metadata": {},
   "outputs": [],
   "source": [
    "final.insert(final.columns.get_loc('SAMPLECOUNTER')+1, \"Total Samples Collected Counts-M\", \n",
    "            final.apply(compare_cols, comp1='SAMPLE QUANTITY', comp2='SAMPLECOUNTER',axis=1))"
   ]
  },
  {
   "cell_type": "code",
   "execution_count": 78,
   "id": "4c88e89f",
   "metadata": {},
   "outputs": [],
   "source": [
    "# have to use in place here or it will turn everythig to 0 if we use df[cols] = df[col].fillna(0) Like above\n",
    "final['Total Samples Collected Counts-M'].fillna(0, inplace=True)"
   ]
  },
  {
   "cell_type": "markdown",
   "id": "418d92b5",
   "metadata": {},
   "source": [
    "# check Final Results"
   ]
  },
  {
   "cell_type": "markdown",
   "id": "68d89ce2",
   "metadata": {},
   "source": [
    "Not working correctly. leaves a blank if there is an NS in column. Solve it"
   ]
  },
  {
   "cell_type": "code",
   "execution_count": 79,
   "id": "0436e78f",
   "metadata": {},
   "outputs": [],
   "source": [
    "final.insert(final.columns.get_loc('BULK PLM EXCEEDANCES')+1, \"Final Results-M\", \n",
    "            final.apply(compare_cols, comp1=\"ASB RESULTS\", comp2=\"FINAL RESULTS\", axis=1))"
   ]
  },
  {
   "cell_type": "code",
   "execution_count": 80,
   "id": "5b90b6d6",
   "metadata": {},
   "outputs": [],
   "source": [
    "final[\"Final Results-M\"].fillna(0,inplace=True)"
   ]
  },
  {
   "cell_type": "markdown",
   "id": "a83ad8a2",
   "metadata": {},
   "source": [
    "# Check Chimney "
   ]
  },
  {
   "cell_type": "code",
   "execution_count": 81,
   "id": "ce4dbb12",
   "metadata": {},
   "outputs": [],
   "source": [
    "final.insert(final.columns.get_loc('CHIMNEYS')+1, 'Has Chimney-M',\n",
    "            final.apply(compare_cols, comp1=\"CHIMNEY_SS\", comp2=\"CHIMNEY_ASB\", comp3=\"CHIMNEYS\", axis=1))"
   ]
  },
  {
   "cell_type": "code",
   "execution_count": 82,
   "id": "4c6ce7cf",
   "metadata": {},
   "outputs": [],
   "source": [
    "final['Has Chimney-M'].fillna(0, inplace=True)"
   ]
  },
  {
   "cell_type": "markdown",
   "id": "ec18fee1",
   "metadata": {},
   "source": [
    "# check CHIMNEY TIP DATE"
   ]
  },
  {
   "cell_type": "code",
   "execution_count": 83,
   "id": "309b4449",
   "metadata": {},
   "outputs": [],
   "source": [
    "final.insert(final.columns.get_loc('TIP INSPECTION_TF')+1, \"Chimney Tip dates-M\", \n",
    "            final.apply(compare_cols, comp1=\"CHIMNEY TIP DATE_SS\", comp2=\"CHIMNEY TIP DATE_ASB\", comp3=\"TIP INSPECTION_TF\", axis=1))"
   ]
  },
  {
   "cell_type": "markdown",
   "id": "2ea14242",
   "metadata": {},
   "source": [
    "# check Abatements Dates"
   ]
  },
  {
   "cell_type": "code",
   "execution_count": 84,
   "id": "7e25793f",
   "metadata": {},
   "outputs": [],
   "source": [
    "final.insert(final.columns.get_loc('ABATEMENT END_TF')+1, \"ASB ABATEMENT Date-M\",\n",
    "            final.apply(compare_cols,\n",
    "                        comp1=\"ASB ABATEMENT\", comp2=\"ASBESTOS ABATEMENT COMPLETED DATE\", comp3=\"ABATEMENT END_TF\", axis=1))"
   ]
  },
  {
   "cell_type": "markdown",
   "id": "c3c4c54f",
   "metadata": {},
   "source": [
    "# check NESHAPS"
   ]
  },
  {
   "cell_type": "code",
   "execution_count": 85,
   "id": "7b63c156",
   "metadata": {},
   "outputs": [],
   "source": [
    "final.insert(final.columns.get_loc('WALLS')+1, \"Neshap Wall-M\",\n",
    "            final.apply(compare_cols, comp1=\"NESHAP WALLS_SS\", comp2=\"NESHAP WALLS_ASB\", comp3=\"WALLS\", axis=1))"
   ]
  },
  {
   "cell_type": "markdown",
   "id": "6d5288d4",
   "metadata": {},
   "source": [
    "# Highight columns"
   ]
  },
  {
   "cell_type": "code",
   "execution_count": 86,
   "id": "96cf52ac",
   "metadata": {},
   "outputs": [],
   "source": [
    "# # set match columns to a certain color:\n",
    "# # SYNTAX - df.style.set_properties(**{'background-color': 'color wanted'}, subset=[\"Col A\", 'Col b', 'etc.'])\n",
    "\n",
    "df_style = final.style.set_properties(**{'background-color': '#ffffb3'},\n",
    "                           subset=['Date Collected - M',\"Neshap Wall-M\",\"ASB ABATEMENT Date-M\",\n",
    "                                  \"Chimney Tip dates-M\",'Has Chimney-M',\n",
    "                                   \"Final Results-M\",\"Total Samples Collected Counts-M\",\n",
    "                                   'Blank Ship Date', 'Check if ship dates Match'], inplace=True)"
   ]
  },
  {
   "cell_type": "markdown",
   "id": "bf237457",
   "metadata": {},
   "source": [
    "# Make Smart sheets APNs the index and put in excel"
   ]
  },
  {
   "cell_type": "code",
   "execution_count": 87,
   "id": "b16fcc92",
   "metadata": {},
   "outputs": [],
   "source": [
    "# final.set_index(\"APN_ROW SEGMENT\", inplace=True)"
   ]
  },
  {
   "cell_type": "code",
   "execution_count": 88,
   "id": "202cdb6f",
   "metadata": {},
   "outputs": [],
   "source": [
    "df_style.to_excel(\"Northern Dixie ASB Audit.xlsx\")"
   ]
  },
  {
   "cell_type": "markdown",
   "id": "0498c4ce",
   "metadata": {},
   "source": [
    "# ASB sample sent prior to ASB assessment"
   ]
  },
  {
   "cell_type": "code",
   "execution_count": 95,
   "id": "827ff05e",
   "metadata": {},
   "outputs": [],
   "source": [
    "asb_sample = df_both.copy()\n",
    "asb_sample = asb_sample[['APN_ROW Segment','Street #', 'Street Name', 'County',\n",
    "                         'ASB Assessment', 'ASB Sample Sent']]\n",
    "asb_sample = asb_sample[(asb_sample['ASB Assessment'] > asb_sample['ASB Sample Sent'])]\n",
    "\n",
    "asb_sample.set_index('APN_ROW Segment', inplace=True)\n",
    "asb_sample.to_excel('ASB sample sent prior to ASB assessment.xlsx')"
   ]
  },
  {
   "cell_type": "markdown",
   "id": "292ed46f",
   "metadata": {},
   "source": [
    "# ASB results prior to ASB sample sent date"
   ]
  },
  {
   "cell_type": "code",
   "execution_count": 90,
   "id": "c763b0b4",
   "metadata": {},
   "outputs": [],
   "source": [
    "asb_res = df_both.copy()\n",
    "asb_res = asb_res[['APN_ROW Segment','Street #', 'Street Name', 'County',\n",
    "                   'ASB Sample Sent','ASB Results Received', 'ASB Results']]\n",
    "asb_res = asb_res[(asb_res['ASB Sample Sent'].isna()) & (asb_res['ASB Results'].notna())]\n",
    "\n",
    "\n",
    "asb_res.set_index('APN_ROW Segment', inplace=True)\n",
    "asb_res.to_excel('ASB results prior to ASB sample sent date.xlsx')"
   ]
  },
  {
   "cell_type": "markdown",
   "id": "be8e74e9",
   "metadata": {},
   "source": [
    "# Get number of ssamples taken compared to number of samples positive.\n",
    "### this is extra if I have time."
   ]
  },
  {
   "cell_type": "code",
   "execution_count": 91,
   "id": "995f19b6",
   "metadata": {},
   "outputs": [],
   "source": [
    "# final[['FINAL RESULTS']].value_counts().plot(kind='pie',\n",
    "#                                            labels=['No Data', \"Negitives\", \"Positives\", \"NS\"],\n",
    "#                                              colors = ['yellow', 'green', 'red', 'lightblue'],\n",
    "#                                           autopct='%.2f',\n",
    "#                                            fontsize=15,\n",
    "#                                           figsize=(6,6),\n",
    "#                                            title=' ASB Overview by %',\n",
    "#                                             ylabel=\"\")\n",
    "\n"
   ]
  },
  {
   "cell_type": "code",
   "execution_count": 92,
   "id": "f199621c",
   "metadata": {},
   "outputs": [],
   "source": [
    "# final[['ASB RESULTS']].value_counts().plot(kind='pie',\n",
    "#                                            labels=['No Data', \"Negitives\", \"Positives\"],\n",
    "#                                            colors = ['yellow', 'green', 'red'],\n",
    "#                                           autopct='%.2f',\n",
    "#                                            fontsize=15,\n",
    "#                                           figsize=(6,6),\n",
    "#                                            title='Smart Sheets ASB Overview by %',\n",
    "#                                           ylabel=\"\")"
   ]
  },
  {
   "cell_type": "code",
   "execution_count": 93,
   "id": "6cbf1a8d",
   "metadata": {
    "scrolled": false
   },
   "outputs": [],
   "source": [
    "# plt.figure(figsize=(12,6))\n",
    "# sns.countplot(data=final, x='SS_COUNTY', hue='ASB RESULTS')\n"
   ]
  },
  {
   "cell_type": "code",
   "execution_count": 94,
   "id": "87dfcc87",
   "metadata": {},
   "outputs": [],
   "source": [
    "# plt.figure(figsize=(12,6))\n",
    "# sns.countplot(data=final, x='SS_COUNTY', hue='FINAL RESULTS')"
   ]
  },
  {
   "cell_type": "code",
   "execution_count": null,
   "id": "82d9b144",
   "metadata": {},
   "outputs": [],
   "source": []
  },
  {
   "cell_type": "code",
   "execution_count": null,
   "id": "3171c5cb",
   "metadata": {},
   "outputs": [],
   "source": []
  }
 ],
 "metadata": {
  "kernelspec": {
   "display_name": "Python 3",
   "language": "python",
   "name": "python3"
  },
  "language_info": {
   "codemirror_mode": {
    "name": "ipython",
    "version": 3
   },
   "file_extension": ".py",
   "mimetype": "text/x-python",
   "name": "python",
   "nbconvert_exporter": "python",
   "pygments_lexer": "ipython3",
   "version": "3.9.4"
  }
 },
 "nbformat": 4,
 "nbformat_minor": 5
}
