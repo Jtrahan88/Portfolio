{
 "cells": [
  {
   "cell_type": "code",
   "execution_count": 1,
   "id": "373b0609",
   "metadata": {},
   "outputs": [],
   "source": [
    "import pandas as pd\n",
    "import xlrd\n",
    "import numpy as np\n",
    "import matplotlib.pyplot as plt\n",
    "%matplotlib inline\n",
    "import seaborn as sns"
   ]
  },
  {
   "cell_type": "code",
   "execution_count": 2,
   "id": "fbdd350f",
   "metadata": {},
   "outputs": [],
   "source": [
    "df1 = pd.read_excel('Northern Branch trackers/Northern Division 2021 Debris Removal Tracker.xlsx')\n",
    "df2 = pd.read_csv(\"tetra forms ASB and SA/Asbestos Tracker.csv\", parse_dates=True)"
   ]
  },
  {
   "cell_type": "code",
   "execution_count": 3,
   "id": "53b66d5e",
   "metadata": {},
   "outputs": [],
   "source": [
    "# we have to open the file then save it with a different name as an excel. Find a way to solve this\n",
    "df3= pd.read_excel(\"tetra forms ASB and SA/ASB_TetraForms_survey1.xlsx\")"
   ]
  },
  {
   "cell_type": "code",
   "execution_count": 4,
   "id": "256164c4",
   "metadata": {},
   "outputs": [],
   "source": [
    "# we have to open the file then save it with a different name as an excel. Find a way to solve this\n",
    "# df3= pd.read_excel(\"ASB/ASB_TetraForms1.xlsx\")"
   ]
  },
  {
   "cell_type": "code",
   "execution_count": 5,
   "id": "d14119f5",
   "metadata": {},
   "outputs": [],
   "source": [
    "smartsheets = df1.copy()\n",
    "asbestos = df2.copy()\n",
    "tetratForms = df3.copy()"
   ]
  },
  {
   "cell_type": "code",
   "execution_count": 6,
   "id": "1abd23b4",
   "metadata": {
    "scrolled": true
   },
   "outputs": [],
   "source": [
    "# tetratForms.info()"
   ]
  },
  {
   "cell_type": "code",
   "execution_count": 7,
   "id": "696b5bcf",
   "metadata": {},
   "outputs": [],
   "source": [
    "# asbestos.loc[asbestos['APN'] =='028-261-052',['APN','Chimney']]"
   ]
  },
  {
   "cell_type": "markdown",
   "id": "62b00733",
   "metadata": {},
   "source": [
    "# Most important info"
   ]
  },
  {
   "cell_type": "markdown",
   "id": "5da160c6",
   "metadata": {},
   "source": [
    "What I Check Daily is Smart Sheets vs Tracker\n",
    "* Chimneys and neshaps match\n",
    "* FINAL RESULTS vs Smart sheets – biggest concern\n",
    "\n",
    "* ASB Assessment Date Match\n",
    "\n",
    "* End of day numbers match"
   ]
  },
  {
   "cell_type": "code",
   "execution_count": 8,
   "id": "fd09cb8a",
   "metadata": {},
   "outputs": [],
   "source": [
    "# smartsheets.info()"
   ]
  },
  {
   "cell_type": "markdown",
   "id": "c95899b5",
   "metadata": {},
   "source": [
    "# asbestos set up"
   ]
  },
  {
   "cell_type": "code",
   "execution_count": 9,
   "id": "efbe1d26",
   "metadata": {},
   "outputs": [],
   "source": [
    "# Take out all divisions other than central.\n",
    "asbestos = asbestos[asbestos['Division'].isin(['Northern Division'])]"
   ]
  },
  {
   "cell_type": "code",
   "execution_count": 10,
   "id": "4dbd6133",
   "metadata": {},
   "outputs": [],
   "source": [
    "# changes date column from object to a date.\n",
    "asbestos['Date Collected'] = pd.to_datetime(asbestos['Date Collected']).dt.date\n",
    "asbestos['Chimney Tip Date'] = pd.to_datetime(asbestos['Chimney Tip Date']).dt.date\n",
    "asbestos['Chimney Abatement Completed Date'] = pd.to_datetime(asbestos['Chimney Abatement Completed Date']).dt.date\n",
    "asbestos['Asbestos Abatement Completed Date'] = pd.to_datetime(asbestos['Asbestos Abatement Completed Date']).dt.date"
   ]
  },
  {
   "cell_type": "code",
   "execution_count": 11,
   "id": "72cc6dc5",
   "metadata": {},
   "outputs": [],
   "source": [
    "asbestos.columns = map(str.upper, asbestos.columns)"
   ]
  },
  {
   "cell_type": "code",
   "execution_count": 12,
   "id": "e4c86c9c",
   "metadata": {},
   "outputs": [],
   "source": [
    "# Column section all upper case\n",
    "asb_cols = asbestos[['APN', 'FINAL RESULTS', 'CHIMNEY', 'CHIMNEY TIP DATE', 'CHIMNEY FINDING',\n",
    "                 'NESHAP WALLS',\n",
    "                 'DATE COLLECTED', \n",
    "                 'SAMPLE QUANTITY', 'POINT COUNT NEEDED', 'POINT COUNT RESULTS',\n",
    "                 'ASBESTOS ABATEMENT COMPLETED DATE', 'CHIMNEY ABATEMENT COMPLETED DATE',\n",
    "                 'PLANNING NOTES', 'DIVISION']]"
   ]
  },
  {
   "cell_type": "code",
   "execution_count": 13,
   "id": "63328b16",
   "metadata": {},
   "outputs": [],
   "source": [
    "# # Column section normal\n",
    "# test1 =asbestos[['APN','Final Results','Chimney','Chimney Tip Date','Chimney Finding',\n",
    "#                  'NESHAP Walls', \n",
    "#                  'Date Collected',\n",
    "#                  'Sample Quantity','Point Count Needed','Point Count Results',\n",
    "#                  'Asbestos Abatement Completed Date','Chimney Abatement Completed Date',\n",
    "#                  'Planning Notes','Division']]\n",
    "# # test1.head(5)"
   ]
  },
  {
   "cell_type": "markdown",
   "id": "cecdcdf4",
   "metadata": {},
   "source": [
    "# Tetra Forms setup"
   ]
  },
  {
   "cell_type": "markdown",
   "id": "64a70ecd",
   "metadata": {},
   "source": [
    "### sheet sample_log setup"
   ]
  },
  {
   "cell_type": "code",
   "execution_count": 14,
   "id": "4bae0a85",
   "metadata": {},
   "outputs": [],
   "source": [
    "TF = pd.read_excel(\"tetra forms ASB and SA/ASB_TetraForms_survey1.xlsx\", sheet_name='sample_log')"
   ]
  },
  {
   "cell_type": "code",
   "execution_count": 15,
   "id": "0987fc57",
   "metadata": {},
   "outputs": [],
   "source": [
    "max_samples = TF.groupby(['apn'])[['samplecounter']].max().reset_index()\n"
   ]
  },
  {
   "cell_type": "markdown",
   "id": "33c47de1",
   "metadata": {},
   "source": [
    "## Tetra Forms chimney tip setup\n",
    "Combine chimney tip database with sample log"
   ]
  },
  {
   "cell_type": "code",
   "execution_count": 16,
   "id": "5807711c",
   "metadata": {},
   "outputs": [],
   "source": [
    "TF_tips = pd.read_excel('tetra forms ASB and SA/ASB_TetraForms_tips1.xlsx')"
   ]
  },
  {
   "cell_type": "code",
   "execution_count": 17,
   "id": "94c44f6e",
   "metadata": {},
   "outputs": [],
   "source": [
    "# columns needed\n",
    "TF_tips= TF_tips[['apn', 'inspection_date']]"
   ]
  },
  {
   "cell_type": "code",
   "execution_count": 18,
   "id": "5bf35d4d",
   "metadata": {},
   "outputs": [],
   "source": [
    "# rename for easy reading for later merges\n",
    "TF_tips.rename(columns={'inspection_date': 'TIP INSPECTION_TF'}, inplace=True)"
   ]
  },
  {
   "cell_type": "code",
   "execution_count": 19,
   "id": "dcf210db",
   "metadata": {},
   "outputs": [],
   "source": [
    "TF_tips['TIP INSPECTION_TF'] = pd.to_datetime(TF_tips['TIP INSPECTION_TF']).dt.date"
   ]
  },
  {
   "cell_type": "code",
   "execution_count": 20,
   "id": "bf1c4b01",
   "metadata": {},
   "outputs": [],
   "source": [
    "merge1 = max_samples.merge(TF_tips,\n",
    "                          left_on='apn',\n",
    "                          right_on='apn',\n",
    "                          how='outer')"
   ]
  },
  {
   "cell_type": "markdown",
   "id": "ab24a21d",
   "metadata": {},
   "source": [
    "# Tetra Forms Abatment date setup\n",
    "Combine Abatment date database with merge 1 (tips and max samples)"
   ]
  },
  {
   "cell_type": "code",
   "execution_count": 21,
   "id": "8b0ad811",
   "metadata": {},
   "outputs": [],
   "source": [
    "TF_abate = pd.read_excel('tetra forms ASB and SA/ASB_TetraForms_abatment1.xlsx')"
   ]
  },
  {
   "cell_type": "code",
   "execution_count": 22,
   "id": "450b496b",
   "metadata": {},
   "outputs": [],
   "source": [
    "# columns needed\n",
    "TF_abate = TF_abate[['apn', 'abatement_end']]"
   ]
  },
  {
   "cell_type": "code",
   "execution_count": 23,
   "id": "68e7534a",
   "metadata": {},
   "outputs": [],
   "source": [
    "TF_abate['abatement_end'] = pd.to_datetime(TF_abate['abatement_end']).dt.date"
   ]
  },
  {
   "cell_type": "code",
   "execution_count": 24,
   "id": "ccefb86b",
   "metadata": {},
   "outputs": [],
   "source": [
    "# rename for easy reading on later merges\n",
    "TF_abate.rename(columns={'abatement_end': 'ABATEMENT END_TF'}, inplace=True)"
   ]
  },
  {
   "cell_type": "code",
   "execution_count": 25,
   "id": "a96513c3",
   "metadata": {},
   "outputs": [],
   "source": [
    "merge2 = merge1.merge(TF_abate,\n",
    "                     left_on='apn',\n",
    "                     right_on='apn',\n",
    "                     how='outer')"
   ]
  },
  {
   "cell_type": "markdown",
   "id": "2d41efd1",
   "metadata": {},
   "source": [
    "# Master Tetra Forms setup from all thre databases\n",
    "* Chimney tips\n",
    "* abatement dates\n",
    "* asbestos survey info"
   ]
  },
  {
   "cell_type": "code",
   "execution_count": 26,
   "id": "bc34ff60",
   "metadata": {},
   "outputs": [],
   "source": [
    "tetratForms = tetratForms.merge(merge2,\n",
    "                 left_on='apn',\n",
    "                 right_on='apn',\n",
    "                 how='outer')"
   ]
  },
  {
   "cell_type": "code",
   "execution_count": 27,
   "id": "b11968d5",
   "metadata": {},
   "outputs": [],
   "source": [
    "# columns needed\n",
    "tetratForms = tetratForms[['apn', 'chimneys','walls','inspection_date', 'county','samplecounter','TIP INSPECTION_TF',\n",
    "                           'ABATEMENT END_TF' ]]"
   ]
  },
  {
   "cell_type": "code",
   "execution_count": 28,
   "id": "72a05fc3",
   "metadata": {},
   "outputs": [],
   "source": [
    "# change date object to date time format\n",
    "tetratForms['inspection_date'] = pd.to_datetime(tetratForms['inspection_date']).dt.date"
   ]
  },
  {
   "cell_type": "code",
   "execution_count": 29,
   "id": "964d2965",
   "metadata": {},
   "outputs": [],
   "source": [
    "# easier read for later merges\n",
    "tetratForms.rename(columns={'inspection_date': 'survey inspection date'}, inplace=True)"
   ]
  },
  {
   "cell_type": "code",
   "execution_count": 30,
   "id": "ec73300e",
   "metadata": {},
   "outputs": [],
   "source": [
    "tetratForms = tetratForms[tetratForms['county'].isin(['LASSEN', 'PLUMAS', 'SISKIYOU', 'TRINITY'])]"
   ]
  },
  {
   "cell_type": "code",
   "execution_count": 31,
   "id": "a24f7a1a",
   "metadata": {},
   "outputs": [],
   "source": [
    "# tetratForms.rename(columns={'walls': 'NESHAP Walls','inspection_date':'DATE COLLECTED'}, inplace=True)"
   ]
  },
  {
   "cell_type": "code",
   "execution_count": 32,
   "id": "5121884c",
   "metadata": {},
   "outputs": [],
   "source": [
    "# make ALL columnS upper CASE\n",
    "tetratForms.columns =map(str.upper, tetratForms.columns)"
   ]
  },
  {
   "cell_type": "code",
   "execution_count": 33,
   "id": "dc65b7a1",
   "metadata": {},
   "outputs": [],
   "source": [
    "# tetratForms.columns"
   ]
  },
  {
   "cell_type": "markdown",
   "id": "6ae3ace8",
   "metadata": {},
   "source": [
    "# Smart Sheet set up"
   ]
  },
  {
   "cell_type": "code",
   "execution_count": 34,
   "id": "68708329",
   "metadata": {},
   "outputs": [],
   "source": [
    "# changes date column from object to a date.\n",
    "smartsheets[\"ASB Assessment\"] = smartsheets[\"ASB Assessment\"].dt.date\n",
    "smartsheets[\"Chimney Tipped\"] = smartsheets[\"Chimney Tipped\"].dt.date\n",
    "smartsheets[\"ASB Abatement\"] = smartsheets[\"ASB Abatement\"].dt.date"
   ]
  },
  {
   "cell_type": "code",
   "execution_count": 35,
   "id": "d0fb99d0",
   "metadata": {},
   "outputs": [],
   "source": [
    "smartsheets.rename(columns={'ASB Assessment': 'Date Collected', 'Chimney Tipped':'CHIMNEY TIP DATE',\n",
    "                            'County': 'SS_COUNTY'}, inplace=True)"
   ]
  },
  {
   "cell_type": "code",
   "execution_count": 36,
   "id": "6da9acb1",
   "metadata": {},
   "outputs": [],
   "source": [
    "smartsheets.columns = map(str.upper, smartsheets.columns)"
   ]
  },
  {
   "cell_type": "code",
   "execution_count": 37,
   "id": "447c47c3",
   "metadata": {},
   "outputs": [],
   "source": [
    "# Column section normal uppercase\n",
    "ss_cols = smartsheets[['APN_ROW SEGMENT','STRUCTURAL STATUS','SS_COUNTY','ASB RESULTS',\n",
    "                     'CHIMNEY','CHIMNEY TIP DATE',\n",
    "                     'NESHAP WALLS', \n",
    "                     \"DATE COLLECTED\",\n",
    "                     'ASB ABATEMENT']]"
   ]
  },
  {
   "cell_type": "code",
   "execution_count": 38,
   "id": "ee493298",
   "metadata": {},
   "outputs": [],
   "source": [
    "# # Column section normal\n",
    "# test2 = smartsheets[['APN_ROW Segment','ASB Results',\n",
    "#                      'Chimney','Chimney Tipped',\n",
    "#                      'NESHAP Walls', \n",
    "#                      \"Date Collected\",\n",
    "#                      'ASB ABATEMENT']]"
   ]
  },
  {
   "cell_type": "markdown",
   "id": "4eecbbbc",
   "metadata": {},
   "source": [
    "# merge mart sheets with ASB tracker"
   ]
  },
  {
   "cell_type": "code",
   "execution_count": 39,
   "id": "dcbc67ad",
   "metadata": {},
   "outputs": [],
   "source": [
    "ASB_SS_Merge = ss_cols.merge(asb_cols,\n",
    "           left_on='APN_ROW SEGMENT',\n",
    "           right_on='APN',\n",
    "           how='outer',\n",
    "           suffixes=(\"_SS\",\"_ASB\"))"
   ]
  },
  {
   "cell_type": "code",
   "execution_count": 40,
   "id": "aebba375",
   "metadata": {},
   "outputs": [],
   "source": [
    "# ASB_SS_Merge.columns"
   ]
  },
  {
   "cell_type": "markdown",
   "id": "a6929746",
   "metadata": {},
   "source": [
    "# Merge merge 1 with tetra forms"
   ]
  },
  {
   "cell_type": "code",
   "execution_count": 41,
   "id": "b6c3b3b2",
   "metadata": {},
   "outputs": [],
   "source": [
    "final = ASB_SS_Merge.merge(tetratForms,\n",
    "            left_on=\"APN_ROW SEGMENT\",\n",
    "            right_on='APN',\n",
    "            how='outer',\n",
    "            suffixes=('_ASB', '_TF'))"
   ]
  },
  {
   "cell_type": "markdown",
   "id": "b41c6af2",
   "metadata": {},
   "source": [
    "# set up columns for QC order"
   ]
  },
  {
   "cell_type": "code",
   "execution_count": 42,
   "id": "b05374fd",
   "metadata": {},
   "outputs": [],
   "source": [
    "# final.columns"
   ]
  },
  {
   "cell_type": "code",
   "execution_count": 43,
   "id": "90a2393b",
   "metadata": {},
   "outputs": [],
   "source": [
    "final['FINAL RESULTS'] = final['FINAL RESULTS'].str.replace(\"ND\", 'NEGATIVE').str.replace(\"POS\",\"POSITIVE\")"
   ]
  },
  {
   "cell_type": "code",
   "execution_count": 44,
   "id": "f3d28529",
   "metadata": {
    "scrolled": true
   },
   "outputs": [],
   "source": [
    "final.set_index(\"APN_ROW SEGMENT\", inplace=True)"
   ]
  },
  {
   "cell_type": "code",
   "execution_count": 45,
   "id": "c24a79bd",
   "metadata": {},
   "outputs": [],
   "source": [
    "# test1 = asbestos['APN', 'FINAL RESULTS', 'CHIMNEY', 'CHIMNEY TIP DATE', 'CHIMNEY FINDING',\n",
    "#                  'NESHAP WALLS',\n",
    "#                  'DATE COLLECTED', \n",
    "#                  'SAMPLE QUANTITY', 'POINT COUNT NEEDED', 'POINT COUNT RESULTS',\n",
    "#                  'ASBESTOS ABATEMENT COMPLETED DATE', 'CHIMNEY ABATEMENT COMPLETED DATE',\n",
    "#                  'PLANNING NOTES', 'DIVISION']"
   ]
  },
  {
   "cell_type": "code",
   "execution_count": 46,
   "id": "eed8345b",
   "metadata": {},
   "outputs": [],
   "source": [
    "# test2 = smartsheets[['APN_ROW SEGMENT','Structural Status','ASB RESULTS',\n",
    "#                      'CHIMNEY','CHIMNEY TIPPED',\n",
    "#                      'NESHAP WALLS', \n",
    "#                      \"DATE COLLECTED\",\n",
    "#                      'ASB Abatement']]"
   ]
  },
  {
   "cell_type": "code",
   "execution_count": 47,
   "id": "a418511b",
   "metadata": {},
   "outputs": [],
   "source": [
    "# final.columns"
   ]
  },
  {
   "cell_type": "code",
   "execution_count": 48,
   "id": "26166062",
   "metadata": {},
   "outputs": [],
   "source": [
    "final = final[['APN_ASB','APN_TF','STRUCTURAL STATUS','SS_COUNTY',\n",
    "               \"DATE COLLECTED_SS\",'DATE COLLECTED_ASB','SURVEY INSPECTION DATE','SAMPLE QUANTITY','SAMPLECOUNTER',\n",
    "               'ASB RESULTS','FINAL RESULTS','POINT COUNT NEEDED', 'POINT COUNT RESULTS',\n",
    "               'CHIMNEY_SS','CHIMNEY_ASB','CHIMNEYS',\n",
    "               'CHIMNEY TIP DATE_SS','CHIMNEY TIP DATE_ASB','TIP INSPECTION_TF',\n",
    "               'CHIMNEY FINDING', 'CHIMNEY ABATEMENT COMPLETED DATE',\n",
    "               'ASB ABATEMENT','ASBESTOS ABATEMENT COMPLETED DATE', 'ABATEMENT END_TF',\n",
    "               'NESHAP WALLS_SS','NESHAP WALLS_ASB','WALLS',\n",
    "               'DIVISION']]"
   ]
  },
  {
   "cell_type": "code",
   "execution_count": 49,
   "id": "ccabc5fd",
   "metadata": {},
   "outputs": [],
   "source": [
    "# # add this once we have a Tetra form part done\n",
    "# final = final[['APN_ASB','APN_TF',\n",
    "#                'ASB Results','Final Results',\n",
    "#                'Chimney_SS','Chimney_ASB','CHIMNEYS',\n",
    "#                'NESHAP Walls_SS','NESHAP Walls_ASB','WALLS',\n",
    "#        \"ASB Assessment\",'Date Collected','INSPECTION_DATE', 'Division']]"
   ]
  },
  {
   "cell_type": "code",
   "execution_count": 50,
   "id": "7c139bd7",
   "metadata": {},
   "outputs": [],
   "source": [
    "final.to_excel(\"Northern Dixie ASB Audit.xlsx\")"
   ]
  },
  {
   "cell_type": "markdown",
   "id": "d2609c03",
   "metadata": {},
   "source": [
    "# Get number of ssamples taken compared to number of samples positive.\n",
    "### this is extra if I have time."
   ]
  },
  {
   "cell_type": "code",
   "execution_count": 51,
   "id": "9d337300",
   "metadata": {},
   "outputs": [],
   "source": [
    "# smartsheets\n",
    "# asbestos\n",
    "# tetratForms "
   ]
  },
  {
   "cell_type": "code",
   "execution_count": null,
   "id": "2d0389e3",
   "metadata": {},
   "outputs": [],
   "source": []
  }
 ],
 "metadata": {
  "kernelspec": {
   "display_name": "Python 3",
   "language": "python",
   "name": "python3"
  },
  "language_info": {
   "codemirror_mode": {
    "name": "ipython",
    "version": 3
   },
   "file_extension": ".py",
   "mimetype": "text/x-python",
   "name": "python",
   "nbconvert_exporter": "python",
   "pygments_lexer": "ipython3",
   "version": "3.9.4"
  }
 },
 "nbformat": 4,
 "nbformat_minor": 5
}
