{
 "cells": [
  {
   "cell_type": "code",
   "execution_count": 1,
   "id": "ea3990e6",
   "metadata": {},
   "outputs": [],
   "source": [
    "import pandas as pd\n",
    "import os\n",
    "import glob\n",
    "import numpy as np"
   ]
  },
  {
   "cell_type": "code",
   "execution_count": 2,
   "id": "7ceb5c07",
   "metadata": {},
   "outputs": [
    {
     "ename": "NameError",
     "evalue": "name 'glob' is not defined",
     "output_type": "error",
     "traceback": [
      "\u001b[1;31m---------------------------------------------------------------------------\u001b[0m",
      "\u001b[1;31mNameError\u001b[0m                                 Traceback (most recent call last)",
      "\u001b[1;32m<ipython-input-2-23a631e946fa>\u001b[0m in \u001b[0;36m<module>\u001b[1;34m\u001b[0m\n\u001b[0;32m      1\u001b[0m \u001b[0mpath1\u001b[0m \u001b[1;33m=\u001b[0m \u001b[1;34mr\"C:\\Users\\jacque.trahan\\Downloads\\Northern Division 2021 Debris Removal Tracker*\"\u001b[0m\u001b[1;33m\u001b[0m\u001b[1;33m\u001b[0m\u001b[0m\n\u001b[0;32m      2\u001b[0m \u001b[0mfile_type1\u001b[0m \u001b[1;33m=\u001b[0m \u001b[1;34m'.xlsx'\u001b[0m\u001b[1;33m\u001b[0m\u001b[1;33m\u001b[0m\u001b[0m\n\u001b[1;32m----> 3\u001b[1;33m \u001b[0mload1\u001b[0m \u001b[1;33m=\u001b[0m \u001b[0mglob\u001b[0m\u001b[1;33m.\u001b[0m\u001b[0mglob\u001b[0m\u001b[1;33m(\u001b[0m\u001b[0mpath1\u001b[0m \u001b[1;33m+\u001b[0m \u001b[0mfile_type1\u001b[0m\u001b[1;33m)\u001b[0m\u001b[1;33m\u001b[0m\u001b[1;33m\u001b[0m\u001b[0m\n\u001b[0m\u001b[0;32m      4\u001b[0m \u001b[1;33m\u001b[0m\u001b[0m\n\u001b[0;32m      5\u001b[0m \u001b[0mdf1\u001b[0m \u001b[1;33m=\u001b[0m \u001b[0mpd\u001b[0m\u001b[1;33m.\u001b[0m\u001b[0mread_excel\u001b[0m\u001b[1;33m(\u001b[0m\u001b[0mmax\u001b[0m\u001b[1;33m(\u001b[0m\u001b[0mload1\u001b[0m\u001b[1;33m,\u001b[0m \u001b[0mkey\u001b[0m\u001b[1;33m=\u001b[0m\u001b[0mos\u001b[0m\u001b[1;33m.\u001b[0m\u001b[0mpath\u001b[0m\u001b[1;33m.\u001b[0m\u001b[0mgetctime\u001b[0m\u001b[1;33m)\u001b[0m\u001b[1;33m)\u001b[0m\u001b[1;33m\u001b[0m\u001b[1;33m\u001b[0m\u001b[0m\n",
      "\u001b[1;31mNameError\u001b[0m: name 'glob' is not defined"
     ]
    }
   ],
   "source": [
    "path1 = r\"C:\\Users\\jacque.trahan\\Downloads\\Northern Division 2021 Debris Removal Tracker*\"\n",
    "file_type1 = '.xlsx'\n",
    "load1 = glob.glob(path1 + file_type1)\n",
    "\n",
    "df1 = pd.read_excel(max(load1, key=os.path.getctime))"
   ]
  },
  {
   "cell_type": "code",
   "execution_count": null,
   "id": "da6eb6f8",
   "metadata": {},
   "outputs": [],
   "source": [
    "path2 = r\"C:\\Users\\jacque.trahan\\Downloads\\Site Assessment Tracker*\"\n",
    "file_type2 = '.csv'\n",
    "load2 = glob.glob(path2 + file_type2)\n",
    "\n",
    "df2 = pd.read_csv(max(load2, key=os.path.getctime))"
   ]
  },
  {
   "cell_type": "code",
   "execution_count": null,
   "id": "cf23dc44",
   "metadata": {},
   "outputs": [],
   "source": [
    "# df1 = pd.read_excel('Northern Branch trackers/Northern Division 2021 Debris Removal Tracker.xlsx', parse_dates=True)\n",
    "# df2 = pd.read_csv('../tetra forms ASB and SA/Site Assessment Tracker.csv', parse_dates=True)"
   ]
  },
  {
   "cell_type": "code",
   "execution_count": null,
   "id": "8b7b7bbb",
   "metadata": {},
   "outputs": [],
   "source": [
    "df3 =pd.read_excel(\"../tetra forms ASB and SA/SA_TetraForms1.xlsx\", parse_dates=True)"
   ]
  },
  {
   "cell_type": "code",
   "execution_count": null,
   "id": "4d51988b",
   "metadata": {},
   "outputs": [],
   "source": [
    "smartsheets = df1.copy()\n",
    "sa = df2.copy()\n",
    "tetarforms = df3.copy()"
   ]
  },
  {
   "cell_type": "markdown",
   "id": "fcd3fcef",
   "metadata": {},
   "source": [
    "# Site Assessment site up"
   ]
  },
  {
   "cell_type": "code",
   "execution_count": null,
   "id": "b7ecf380",
   "metadata": {},
   "outputs": [],
   "source": [
    "# sa column selection\n",
    "sa = sa[['APN','Date Completed','Automobiles', 'Motorcycle', 'ATV/UTV/Snowmobiles',\n",
    "       'Ag/Commercial/Construction', 'RV', 'Trailers', 'Vessel', 'Chimney','Division']]"
   ]
  },
  {
   "cell_type": "code",
   "execution_count": null,
   "id": "5ad9e466",
   "metadata": {},
   "outputs": [],
   "source": [
    "# only use central division APNs and parcel information\n",
    "sa = sa[sa['Division'].isin(['Northern Division'])]"
   ]
  },
  {
   "cell_type": "markdown",
   "id": "e75a0bf7",
   "metadata": {},
   "source": [
    "### Get the value counts of APNS in Sa"
   ]
  },
  {
   "cell_type": "code",
   "execution_count": null,
   "id": "98bc9312",
   "metadata": {},
   "outputs": [],
   "source": [
    "pd.set_option('display.max_rows',1000)"
   ]
  },
  {
   "cell_type": "code",
   "execution_count": null,
   "id": "1ccecf58",
   "metadata": {},
   "outputs": [],
   "source": [
    "sa['APN'].value_counts().to_excel('SA APN counts northern.xlsx')"
   ]
  },
  {
   "cell_type": "code",
   "execution_count": null,
   "id": "86234d67",
   "metadata": {},
   "outputs": [],
   "source": [
    "# replace all 0s to No and all 1 to Yes for Chimney to match smartsheets\n",
    "sa['Chimney'] = sa['Chimney'].fillna(0).astype(int).astype(str).str.replace(\"0\", \"No\").str.replace(\"1\", \"Yes\")\n"
   ]
  },
  {
   "cell_type": "code",
   "execution_count": null,
   "id": "ce1f3e83",
   "metadata": {},
   "outputs": [],
   "source": [
    "# set up date columns\n",
    "sa['Date Completed'] = pd.to_datetime(sa['Date Completed']).dt.date"
   ]
  },
  {
   "cell_type": "code",
   "execution_count": null,
   "id": "873c5ddb",
   "metadata": {},
   "outputs": [],
   "source": [
    "sa.rename(columns={'Date Completed': 'SA Survey Date','APN': 'APN_SA','Motorcycle':'Motorcycle_SA',\n",
    "                  'RV': 'RV_SA', 'Trailers':'Trailers_SA', 'Vessel': 'Vessel_SA'}, inplace=True)"
   ]
  },
  {
   "cell_type": "code",
   "execution_count": null,
   "id": "b1644e8c",
   "metadata": {},
   "outputs": [],
   "source": [
    "# set up numerical values for al vehicles\n",
    "sa['Automobiles'] = pd.to_numeric(sa['Automobiles'], errors='coerce')\n",
    "sa['Motorcycle_SA'] = pd.to_numeric(sa['Motorcycle_SA'], errors='coerce')\n",
    "sa['ATV/UTV/Snowmobiles'] = pd.to_numeric(sa['ATV/UTV/Snowmobiles'], errors='coerce')\n",
    "sa['Ag/Commercial/Construction'] = pd.to_numeric(sa['Ag/Commercial/Construction'], errors='coerce')\n",
    "sa['RV_SA'] = pd.to_numeric(sa['RV_SA'], errors='coerce')\n",
    "sa['Trailers_SA'] = pd.to_numeric(sa['Trailers_SA'], errors='coerce')\n",
    "sa['Vessel_SA'] = pd.to_numeric(sa['Vessel_SA'], errors='coerce')"
   ]
  },
  {
   "cell_type": "code",
   "execution_count": null,
   "id": "e1a6f6f9",
   "metadata": {},
   "outputs": [],
   "source": [
    "sa.fillna({'SA Survey Date':0,\n",
    "           'Automobiles': 0,\n",
    "           'Motorcycle_SA': 0,\n",
    "           'ATV/UTV/Snowmobiles': 0,\n",
    "           'Ag/Commercial/Construction': 0,\n",
    "           'RV_SA': 0,\n",
    "           'Trailers_SA': 0,\n",
    "           'Vessel_SA': 0}, inplace=True)"
   ]
  },
  {
   "cell_type": "code",
   "execution_count": null,
   "id": "2c0eb66d",
   "metadata": {},
   "outputs": [],
   "source": [
    "sa.columns = map(str.upper, sa.columns)"
   ]
  },
  {
   "cell_type": "markdown",
   "id": "19cc1abe",
   "metadata": {},
   "source": [
    "# Tetra Forms setup"
   ]
  },
  {
   "cell_type": "code",
   "execution_count": null,
   "id": "7d7773a8",
   "metadata": {},
   "outputs": [],
   "source": [
    "# get just the counties we need\n",
    "tetarforms = tetarforms[tetarforms['county'].isin(['LASSEN', 'PLUMAS', 'SISKIYOU', 'TRINITY'])]"
   ]
  },
  {
   "cell_type": "markdown",
   "id": "d6feb8ad",
   "metadata": {},
   "source": [
    "### Get the value counts of APNS in Tetra Forms for central"
   ]
  },
  {
   "cell_type": "code",
   "execution_count": null,
   "id": "68d27ac9",
   "metadata": {},
   "outputs": [],
   "source": [
    "tetarforms['apn'].value_counts().to_excel('Tetra Forms APN counts SA Northern.xlsx')"
   ]
  },
  {
   "cell_type": "code",
   "execution_count": null,
   "id": "c223ead6",
   "metadata": {},
   "outputs": [],
   "source": [
    "# format dates \n",
    "tetarforms['survey_date'] = pd.to_datetime(tetarforms['survey_date']).dt.date"
   ]
  },
  {
   "cell_type": "code",
   "execution_count": null,
   "id": "6fd25353",
   "metadata": {},
   "outputs": [],
   "source": [
    "#get columsn we need\n",
    "tetarforms = tetarforms[['apn','survey_date','chimney_quantity', 'automobile_quantity', 'motorcycle_quantity', 'atv_utv_quantity',\n",
    "                        'comm_equip_quantity', 'rvs_quantity', 'trailer_quantity', 'vessel_quantity']]"
   ]
  },
  {
   "cell_type": "code",
   "execution_count": null,
   "id": "17f6d2fa",
   "metadata": {},
   "outputs": [],
   "source": [
    "# tetarforms['motorcycle_quantity'].dtypes"
   ]
  },
  {
   "cell_type": "markdown",
   "id": "293edf28",
   "metadata": {},
   "source": [
    "#### add fill NA to all blanks"
   ]
  },
  {
   "cell_type": "code",
   "execution_count": null,
   "id": "b0f8e690",
   "metadata": {},
   "outputs": [],
   "source": [
    "tetarforms['chimney_quantity'] = np.where(tetarforms['chimney_quantity'] > 0,'Yes', 'No')"
   ]
  },
  {
   "cell_type": "code",
   "execution_count": null,
   "id": "148000fe",
   "metadata": {},
   "outputs": [],
   "source": [
    "tetarforms.fillna({'survey_date':0,\n",
    "           'automobile_quantity': 0,\n",
    "           'motorcycle_quantity': 0,\n",
    "           'atv_utv_quantity': 0,\n",
    "           'comm_equip_quantity': 0,\n",
    "           'rvs_quantity': 0,\n",
    "           'trailer_quantity': 0,\n",
    "           'vessel_quantity': 0}, inplace=True)"
   ]
  },
  {
   "cell_type": "code",
   "execution_count": null,
   "id": "6279d747",
   "metadata": {},
   "outputs": [],
   "source": [
    "tetarforms.rename(columns={'apn': 'APN_TF', 'motorcycle_quantity':'motorcycle_quantity_TF'}, inplace=True)"
   ]
  },
  {
   "cell_type": "code",
   "execution_count": null,
   "id": "c6758c1f",
   "metadata": {},
   "outputs": [],
   "source": [
    "tetarforms.columns = map(str.upper, tetarforms.columns)"
   ]
  },
  {
   "cell_type": "code",
   "execution_count": null,
   "id": "8ba2b9c4",
   "metadata": {},
   "outputs": [],
   "source": [
    "# merge1 tetraforms and SA\n",
    "merge1 = sa.merge(tetarforms,\n",
    "                 left_on='APN_SA',\n",
    "                 right_on='APN_TF',\n",
    "                 how='outer',\n",
    "                 suffixes=('_SA', '_TF'))"
   ]
  },
  {
   "cell_type": "markdown",
   "id": "7400479a",
   "metadata": {},
   "source": [
    "# Smart sheet set up"
   ]
  },
  {
   "cell_type": "code",
   "execution_count": null,
   "id": "24652123",
   "metadata": {},
   "outputs": [],
   "source": [
    "# smart sheet column selection\n",
    "smartsheets = smartsheets[['APN_ROW Segment','Street #','Street Name', 'Structural Status','County',\n",
    "                           'Chimney',\n",
    "                           'Site Assessment',\n",
    "                          'Number of Passenger Vehicles', 'Number of ATV_UTV_snowmobiles',\n",
    "                          'Number of Ag_Commercial_Construction Equipment','Number of Motorcycles',\n",
    "                          'Number of RV\\'s', 'Number of Trailers', 'Number of Vessels (Boat_Jetski)', 'Total Number of Vehicles']]"
   ]
  },
  {
   "cell_type": "code",
   "execution_count": null,
   "id": "fd752f08",
   "metadata": {},
   "outputs": [],
   "source": [
    "smartsheets = smartsheets.copy()"
   ]
  },
  {
   "cell_type": "code",
   "execution_count": null,
   "id": "d1f6ddec",
   "metadata": {},
   "outputs": [],
   "source": [
    "# take of the time on the dates\n",
    "smartsheets['Site Assessment'] = smartsheets['Site Assessment'].dt.date"
   ]
  },
  {
   "cell_type": "code",
   "execution_count": null,
   "id": "aa41dec5",
   "metadata": {},
   "outputs": [],
   "source": [
    "smartsheets.fillna({'Chimney': 'No',\n",
    "                    'Site Assessment': 0,\n",
    "                    'Number of Passenger Vehicles': 0,\n",
    "                    'Number of ATV_UTV_snowmobiles': 0,\n",
    "                    'Number of Ag_Commercial_Construction Equipment': 0,\n",
    "                    'Number of Motorcycles': 0,\n",
    "                    'Number of RV\\'s':0,\n",
    "                    'Number of Trailers': 0,\n",
    "                    'Number of Vessels (Boat_Jetski)': 0}, inplace=True)"
   ]
  },
  {
   "cell_type": "code",
   "execution_count": null,
   "id": "85d8ffbb",
   "metadata": {},
   "outputs": [],
   "source": [
    "smartsheets.rename(columns={'County':'County_SS','Site Assessment': 'SA Survey Date', 'Number of Passenger Vehicles': 'Automobiles',\n",
    "                           'Number of ATV_UTV_snowmobiles': 'ATV/UTV/Snowmobiles',\n",
    "                           'Number of Ag_Commercial_Construction Equipment': 'Ag/Commercial/Construction',\n",
    "                           'Number of Motorcycles': 'Motorcycles_SS', 'Number of RV\\'s': 'RV_SS',\n",
    "                           'Number of Trailers':'Trailers_SS','Number of Vessels (Boat_Jetski)':'Vessel_SS'}, inplace=True)"
   ]
  },
  {
   "cell_type": "code",
   "execution_count": null,
   "id": "49586b7a",
   "metadata": {},
   "outputs": [],
   "source": [
    "smartsheets.columns = map(str.upper, smartsheets.columns)"
   ]
  },
  {
   "cell_type": "code",
   "execution_count": null,
   "id": "b2c61952",
   "metadata": {},
   "outputs": [],
   "source": [
    "# merge both data frames for QC\n",
    "final = smartsheets.merge(merge1,\n",
    "                         left_on='APN_ROW SEGMENT',\n",
    "                         right_on='APN_SA',\n",
    "                         how='outer',\n",
    "                         suffixes=('_SS', '_SA'))"
   ]
  },
  {
   "cell_type": "code",
   "execution_count": null,
   "id": "8f91825b",
   "metadata": {},
   "outputs": [],
   "source": []
  },
  {
   "cell_type": "code",
   "execution_count": null,
   "id": "a4bacf16",
   "metadata": {},
   "outputs": [],
   "source": [
    "# column orinizationa\n",
    "final = final[['APN_ROW SEGMENT','APN_SA', 'APN_TF','STREET #','STREET NAME','STRUCTURAL STATUS','COUNTY_SS',\n",
    "               'SA SURVEY DATE_SS', 'SA SURVEY DATE_SA','SURVEY_DATE',\n",
    "               'CHIMNEY_SS','CHIMNEY_SA','CHIMNEY_QUANTITY',\n",
    "               'AUTOMOBILES_SS', 'AUTOMOBILES_SA','AUTOMOBILE_QUANTITY',\n",
    "               'MOTORCYCLES_SS', 'MOTORCYCLE_SA', 'MOTORCYCLE_QUANTITY_TF',\n",
    "              'ATV/UTV/SNOWMOBILES_SS', 'ATV/UTV/SNOWMOBILES_SA','ATV_UTV_QUANTITY',\n",
    "              'AG/COMMERCIAL/CONSTRUCTION_SS', 'AG/COMMERCIAL/CONSTRUCTION_SA','COMM_EQUIP_QUANTITY',\n",
    "              'RV_SS', 'RV_SA','RVS_QUANTITY',\n",
    "              'TRAILERS_SS', 'TRAILERS_SA','TRAILER_QUANTITY',\n",
    "              'VESSEL_SS','VESSEL_SA','VESSEL_QUANTITY',\n",
    "               'DIVISION']]"
   ]
  },
  {
   "cell_type": "markdown",
   "id": "49a8e008",
   "metadata": {},
   "source": [
    "# compare function for each category"
   ]
  },
  {
   "cell_type": "code",
   "execution_count": null,
   "id": "8a960b09",
   "metadata": {},
   "outputs": [],
   "source": [
    "def compare_cols(df,comp1,comp2,comp3):\n",
    "    if (df[comp1] == df[comp2]) & (df[comp1] == df[comp3]):\n",
    "        return 1\n",
    "    else:\n",
    "        return 0"
   ]
  },
  {
   "cell_type": "markdown",
   "id": "3410e7f1",
   "metadata": {},
   "source": [
    "# Survey date checks"
   ]
  },
  {
   "cell_type": "code",
   "execution_count": null,
   "id": "5ac3b8ea",
   "metadata": {},
   "outputs": [],
   "source": [
    "final.insert(final.columns.get_loc('SURVEY_DATE')+1, \"Survey Matches\",\n",
    "            final.apply(compare_cols, comp1='SA SURVEY DATE_SS', comp2='SA SURVEY DATE_SA', comp3='SURVEY_DATE', axis=1))"
   ]
  },
  {
   "cell_type": "markdown",
   "id": "fc680548",
   "metadata": {},
   "source": [
    "# CHIMNEY"
   ]
  },
  {
   "cell_type": "code",
   "execution_count": null,
   "id": "d9bb1c91",
   "metadata": {},
   "outputs": [],
   "source": [
    "final.insert(final.columns.get_loc('CHIMNEY_QUANTITY')+1, \"Chimney Macthes\",\n",
    "            final.apply(compare_cols, comp1='CHIMNEY_SS', comp2='CHIMNEY_SA', comp3='CHIMNEY_QUANTITY', axis=1))"
   ]
  },
  {
   "cell_type": "markdown",
   "id": "eba1c0b5",
   "metadata": {},
   "source": [
    "# AUTOMOBILES"
   ]
  },
  {
   "cell_type": "code",
   "execution_count": null,
   "id": "39ed4331",
   "metadata": {},
   "outputs": [],
   "source": [
    "final.insert(final.columns.get_loc('AUTOMOBILE_QUANTITY')+1, \"AUTOMOBILE-M\",\n",
    "            final.apply(compare_cols, comp1='AUTOMOBILES_SS', comp2='AUTOMOBILES_SA', comp3='AUTOMOBILE_QUANTITY', axis=1))"
   ]
  },
  {
   "cell_type": "markdown",
   "id": "aaa2ad3d",
   "metadata": {},
   "source": [
    "# MOTORCYCLES"
   ]
  },
  {
   "cell_type": "code",
   "execution_count": null,
   "id": "71b6df78",
   "metadata": {},
   "outputs": [],
   "source": [
    "final.insert(final.columns.get_loc('MOTORCYCLE_QUANTITY_TF')+1, \"Motorcycle-M\",\n",
    "            final.apply(compare_cols, comp1='MOTORCYCLES_SS', comp2='MOTORCYCLE_SA', comp3='MOTORCYCLE_QUANTITY_TF', axis=1))"
   ]
  },
  {
   "cell_type": "markdown",
   "id": "e6ad26de",
   "metadata": {},
   "source": [
    "# ATV/UTV/SNOWMOBILES"
   ]
  },
  {
   "cell_type": "code",
   "execution_count": null,
   "id": "e3483b5a",
   "metadata": {},
   "outputs": [],
   "source": [
    "final.insert(final.columns.get_loc('ATV_UTV_QUANTITY')+1, \"ATV-M\",\n",
    "            final.apply(compare_cols,\n",
    "                        comp1='ATV/UTV/SNOWMOBILES_SS', comp2='ATV/UTV/SNOWMOBILES_SA', comp3='ATV_UTV_QUANTITY', axis=1))"
   ]
  },
  {
   "cell_type": "markdown",
   "id": "b298bc3f",
   "metadata": {},
   "source": [
    "# AG/COMMERCIAL/CONSTRUCTION"
   ]
  },
  {
   "cell_type": "code",
   "execution_count": null,
   "id": "5ad8a9d9",
   "metadata": {},
   "outputs": [],
   "source": [
    "final.insert(final.columns.get_loc('COMM_EQUIP_QUANTITY')+1, \"COMM-M\",\n",
    "            final.apply(compare_cols,\n",
    "                        comp1='AG/COMMERCIAL/CONSTRUCTION_SS',\n",
    "                        comp2='AG/COMMERCIAL/CONSTRUCTION_SA', comp3='COMM_EQUIP_QUANTITY', axis=1))"
   ]
  },
  {
   "cell_type": "markdown",
   "id": "832abbb9",
   "metadata": {},
   "source": [
    "# RV"
   ]
  },
  {
   "cell_type": "code",
   "execution_count": null,
   "id": "b5326543",
   "metadata": {},
   "outputs": [],
   "source": [
    "final.insert(final.columns.get_loc('RVS_QUANTITY')+1, \"RV-M\",\n",
    "            final.apply(compare_cols, comp1='RV_SS', comp2='RV_SA', comp3='RVS_QUANTITY', axis=1))"
   ]
  },
  {
   "cell_type": "markdown",
   "id": "55f147ce",
   "metadata": {},
   "source": [
    "# TRAILERS"
   ]
  },
  {
   "cell_type": "code",
   "execution_count": null,
   "id": "a6334f08",
   "metadata": {},
   "outputs": [],
   "source": [
    "final.insert(final.columns.get_loc('TRAILER_QUANTITY')+1, \"Trailer-M\",\n",
    "            final.apply(compare_cols, comp1='TRAILERS_SS', comp2='TRAILERS_SA', comp3='TRAILER_QUANTITY', axis=1))"
   ]
  },
  {
   "cell_type": "markdown",
   "id": "3f121e61",
   "metadata": {},
   "source": [
    "# VESSEL"
   ]
  },
  {
   "cell_type": "code",
   "execution_count": null,
   "id": "5562b232",
   "metadata": {},
   "outputs": [],
   "source": [
    "final.insert(final.columns.get_loc('VESSEL_QUANTITY')+1, \"Vessel-M\",\n",
    "            final.apply(compare_cols, comp1='VESSEL_SS', comp2='VESSEL_SA', comp3='VESSEL_QUANTITY', axis=1))"
   ]
  },
  {
   "cell_type": "markdown",
   "id": "dd5d304e",
   "metadata": {},
   "source": [
    "# color in the compare columns"
   ]
  },
  {
   "cell_type": "code",
   "execution_count": null,
   "id": "451f6cf5",
   "metadata": {},
   "outputs": [],
   "source": [
    "final_style = final.style.set_properties(**{'background-color': 'lightblue'},\n",
    "                          subset=['Survey Matches', 'Chimney Macthes','AUTOMOBILE-M','Motorcycle-M',\"ATV-M\",\n",
    "                                  'COMM-M',\"RV-M\",'Trailer-M' ,'Vessel-M'])"
   ]
  },
  {
   "cell_type": "code",
   "execution_count": null,
   "id": "c24bd4cd",
   "metadata": {},
   "outputs": [],
   "source": [
    "final_style.to_excel('Northern Dixie Fire SA Audit.xlsx')"
   ]
  },
  {
   "cell_type": "code",
   "execution_count": null,
   "id": "6286efa9",
   "metadata": {},
   "outputs": [],
   "source": []
  }
 ],
 "metadata": {
  "kernelspec": {
   "display_name": "Python 3",
   "language": "python",
   "name": "python3"
  },
  "language_info": {
   "codemirror_mode": {
    "name": "ipython",
    "version": 3
   },
   "file_extension": ".py",
   "mimetype": "text/x-python",
   "name": "python",
   "nbconvert_exporter": "python",
   "pygments_lexer": "ipython3",
   "version": "3.9.4"
  }
 },
 "nbformat": 4,
 "nbformat_minor": 5
}
