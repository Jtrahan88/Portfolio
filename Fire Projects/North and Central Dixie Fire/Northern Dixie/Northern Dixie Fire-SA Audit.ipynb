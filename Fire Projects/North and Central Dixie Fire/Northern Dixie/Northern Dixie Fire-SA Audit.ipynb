{
 "cells": [
  {
   "cell_type": "code",
   "execution_count": 1,
   "id": "ea3990e6",
   "metadata": {},
   "outputs": [],
   "source": [
    "import pandas as pd\n",
    "import xlrd\n",
    "import numpy as np\n",
    "import matplotlib.pyplot as plt\n",
    "%matplotlib inline\n",
    "import seaborn as sns"
   ]
  },
  {
   "cell_type": "code",
   "execution_count": 2,
   "id": "cf23dc44",
   "metadata": {},
   "outputs": [],
   "source": [
    "df1 = pd.read_excel('Northern Branch trackers/Northern Division 2021 Debris Removal Tracker.xlsx', parse_dates=True)\n",
    "df2 = pd.read_excel('tetra forms ASB and SA/Site_assessment tracker.xlsx', parse_dates=True)"
   ]
  },
  {
   "cell_type": "code",
   "execution_count": 3,
   "id": "8b7b7bbb",
   "metadata": {},
   "outputs": [],
   "source": [
    "df3 =pd.read_excel(\"tetra forms ASB and SA/SA_TetraForms1.xlsx\", parse_dates=True)"
   ]
  },
  {
   "cell_type": "code",
   "execution_count": 4,
   "id": "4d51988b",
   "metadata": {},
   "outputs": [],
   "source": [
    "smartsheets = df1.copy()\n",
    "sa = df2.copy()\n",
    "tetarforms = df3.copy()"
   ]
  },
  {
   "cell_type": "markdown",
   "id": "fcd3fcef",
   "metadata": {},
   "source": [
    "# Site Assessment site up"
   ]
  },
  {
   "cell_type": "code",
   "execution_count": 5,
   "id": "b7ecf380",
   "metadata": {},
   "outputs": [],
   "source": [
    "# sa column selection\n",
    "sa = sa[['APN','Date Completed','Automobiles', 'Motorcycle', 'ATV/UTV/Snowmobiles',\n",
    "       'Ag/Commercial/Construction', 'RV', 'Trailers', 'Vessel', 'Chimney','Division']]"
   ]
  },
  {
   "cell_type": "code",
   "execution_count": 6,
   "id": "5ad9e466",
   "metadata": {},
   "outputs": [],
   "source": [
    "# only use central division APNs and parcel information\n",
    "sa = sa[sa['Division'].isin(['Northern Division'])]"
   ]
  },
  {
   "cell_type": "code",
   "execution_count": 7,
   "id": "86234d67",
   "metadata": {},
   "outputs": [],
   "source": [
    "# replace all 0s to No and all 1 to Yes for Chimney to match smartsheets\n",
    "sa['Chimney'] = sa['Chimney'].fillna(0).astype(int).astype(str).str.replace(\"0\", \"No\").str.replace(\"1\", \"Yes\")\n"
   ]
  },
  {
   "cell_type": "code",
   "execution_count": 8,
   "id": "ce1f3e83",
   "metadata": {},
   "outputs": [],
   "source": [
    "# set up date columns\n",
    "sa['Date Completed'] = pd.to_datetime(sa['Date Completed']).dt.date"
   ]
  },
  {
   "cell_type": "code",
   "execution_count": 9,
   "id": "873c5ddb",
   "metadata": {},
   "outputs": [],
   "source": [
    "sa.rename(columns={'Date Completed': 'SA Survey Date','APN': 'APN_SA','Motorcycle':'Motorcycle_SA',\n",
    "                  'RV': 'RV_SA', 'Trailers':'Trailers_SA', 'Vessel': 'Vessel_SA'}, inplace=True)"
   ]
  },
  {
   "cell_type": "code",
   "execution_count": 10,
   "id": "b1644e8c",
   "metadata": {},
   "outputs": [],
   "source": [
    "# set up numerical values for al vehicles\n",
    "sa['Automobiles'] = pd.to_numeric(sa['Automobiles'], errors='coerce')\n",
    "sa['Motorcycle_SA'] = pd.to_numeric(sa['Motorcycle_SA'], errors='coerce')\n",
    "sa['ATV/UTV/Snowmobiles'] = pd.to_numeric(sa['ATV/UTV/Snowmobiles'], errors='coerce')\n",
    "sa['Ag/Commercial/Construction'] = pd.to_numeric(sa['Ag/Commercial/Construction'], errors='coerce')\n",
    "sa['RV_SA'] = pd.to_numeric(sa['RV_SA'], errors='coerce')\n",
    "sa['Trailers_SA'] = pd.to_numeric(sa['Trailers_SA'], errors='coerce')\n",
    "sa['Vessel_SA'] = pd.to_numeric(sa['Vessel_SA'], errors='coerce')"
   ]
  },
  {
   "cell_type": "code",
   "execution_count": 11,
   "id": "e1a6f6f9",
   "metadata": {},
   "outputs": [],
   "source": [
    "sa.fillna({'Automobiles': 0,\n",
    "           'Motorcycle_SA': 0,\n",
    "           'ATV/UTV/Snowmobiles': 0,\n",
    "           'Ag/Commercial/Construction': 0,\n",
    "           'RV_SA': 0,\n",
    "           'Trailers_SA': 0,\n",
    "           'Vessel_SA': 0}, inplace=True)"
   ]
  },
  {
   "cell_type": "code",
   "execution_count": 12,
   "id": "2c0eb66d",
   "metadata": {},
   "outputs": [],
   "source": [
    "sa.columns = map(str.upper, sa.columns)"
   ]
  },
  {
   "cell_type": "markdown",
   "id": "19cc1abe",
   "metadata": {},
   "source": [
    "# Tetra Forms setup"
   ]
  },
  {
   "cell_type": "code",
   "execution_count": 13,
   "id": "7d7773a8",
   "metadata": {},
   "outputs": [],
   "source": [
    "# get just the counties we need\n",
    "tetarforms = tetarforms[tetarforms['county'].isin(['LASSEN', 'PLUMAS', 'SISKIYOU', 'TRINITY'])]"
   ]
  },
  {
   "cell_type": "code",
   "execution_count": 14,
   "id": "c223ead6",
   "metadata": {},
   "outputs": [],
   "source": [
    "# format dates \n",
    "tetarforms['survey_date'] = pd.to_datetime(tetarforms['survey_date']).dt.date"
   ]
  },
  {
   "cell_type": "code",
   "execution_count": 15,
   "id": "6fd25353",
   "metadata": {},
   "outputs": [],
   "source": [
    "#get columsn we need\n",
    "tetarforms = tetarforms[['apn','survey_date','chimney_quantity', 'automobile_quantity', 'motorcycle_quantity', 'atv_utv_quantity',\n",
    "                        'comm_equip_quantity', 'rvs_quantity', 'trailer_quantity', 'vessel_quantity']]"
   ]
  },
  {
   "cell_type": "code",
   "execution_count": 16,
   "id": "17f6d2fa",
   "metadata": {},
   "outputs": [
    {
     "data": {
      "text/plain": [
       "dtype('int64')"
      ]
     },
     "execution_count": 16,
     "metadata": {},
     "output_type": "execute_result"
    }
   ],
   "source": [
    "tetarforms['motorcycle_quantity'].dtypes"
   ]
  },
  {
   "cell_type": "code",
   "execution_count": 17,
   "id": "148000fe",
   "metadata": {},
   "outputs": [],
   "source": [
    "tetarforms.fillna({'automobile_quantity': 0,\n",
    "           'motorcycle_quantity': 0,\n",
    "           'atv_utv_quantity': 0,\n",
    "           'comm_equip_quantity': 0,\n",
    "           'rvs_quantity': 0,\n",
    "           'trailer_quantity': 0,\n",
    "           'vessel_quantity': 0}, inplace=True)"
   ]
  },
  {
   "cell_type": "code",
   "execution_count": 18,
   "id": "b0f8e690",
   "metadata": {},
   "outputs": [],
   "source": [
    "tetarforms['chimney_quantity'] = np.where(tetarforms['chimney_quantity'] > 0,'Yes', 'No')"
   ]
  },
  {
   "cell_type": "code",
   "execution_count": 19,
   "id": "6279d747",
   "metadata": {},
   "outputs": [],
   "source": [
    "tetarforms.rename(columns={'apn': 'APN_TF', 'motorcycle_quantity':'motorcycle_quantity_TF'}, inplace=True)"
   ]
  },
  {
   "cell_type": "code",
   "execution_count": 20,
   "id": "c6758c1f",
   "metadata": {},
   "outputs": [],
   "source": [
    "tetarforms.columns = map(str.upper, tetarforms.columns)"
   ]
  },
  {
   "cell_type": "code",
   "execution_count": 21,
   "id": "8ba2b9c4",
   "metadata": {},
   "outputs": [],
   "source": [
    "# merge1 tetraforms and SA\n",
    "merge1 = sa.merge(tetarforms,\n",
    "                 left_on='APN_SA',\n",
    "                 right_on='APN_TF',\n",
    "                 how='outer',\n",
    "                 suffixes=('_SA', '_TF'))"
   ]
  },
  {
   "cell_type": "markdown",
   "id": "7400479a",
   "metadata": {},
   "source": [
    "# Smart sheet set up"
   ]
  },
  {
   "cell_type": "code",
   "execution_count": 22,
   "id": "cda46b73",
   "metadata": {
    "scrolled": true
   },
   "outputs": [],
   "source": [
    "# smartsheets.info(verbose=True, show_counts=True)"
   ]
  },
  {
   "cell_type": "code",
   "execution_count": 23,
   "id": "24652123",
   "metadata": {},
   "outputs": [],
   "source": [
    "# smart sheet column selection\n",
    "smartsheets = smartsheets[['APN_ROW Segment','Street #','Street Name', 'Structural Status', 'Chimney', 'Site Assessment',\n",
    "                          'Number of Passenger Vehicles', 'Number of ATV_UTV_snowmobiles',\n",
    "                          'Number of Ag_Commercial_Construction Equipment','Number of Motorcycles',\n",
    "                          'Number of RV\\'s', 'Number of Trailers', 'Number of Vessels (Boat_Jetski)', 'Total Number of Vehicles']]"
   ]
  },
  {
   "cell_type": "code",
   "execution_count": 24,
   "id": "fd752f08",
   "metadata": {},
   "outputs": [],
   "source": [
    "smartsheets = smartsheets.copy()"
   ]
  },
  {
   "cell_type": "code",
   "execution_count": 25,
   "id": "aa41dec5",
   "metadata": {},
   "outputs": [],
   "source": [
    "smartsheets.fillna({'Number of Passenger Vehicles': 0,\n",
    "           'Number of ATV_UTV_snowmobiles': 0,\n",
    "           'Number of Ag_Commercial_Construction Equipment': 0,\n",
    "           'Number of Motorcycles': 0,\n",
    "            'Number of RV\\'s':0,\n",
    "           'Number of Trailers': 0,\n",
    "           'Number of Vessels (Boat_Jetski)': 0}, inplace=True)"
   ]
  },
  {
   "cell_type": "code",
   "execution_count": 26,
   "id": "d1f6ddec",
   "metadata": {},
   "outputs": [],
   "source": [
    "# take of the time on the dates\n",
    "smartsheets['Site Assessment'] = smartsheets['Site Assessment'].dt.date"
   ]
  },
  {
   "cell_type": "code",
   "execution_count": 27,
   "id": "85d8ffbb",
   "metadata": {},
   "outputs": [],
   "source": [
    "smartsheets.rename(columns={'Site Assessment': 'SA Survey Date', 'Number of Passenger Vehicles': 'Automobiles',\n",
    "                           'Number of ATV_UTV_snowmobiles': 'ATV/UTV/Snowmobiles',\n",
    "                           'Number of Ag_Commercial_Construction Equipment': 'Ag/Commercial/Construction',\n",
    "                           'Number of Motorcycles': 'Motorcycles_SS', 'Number of RV\\'s': 'RV_SS',\n",
    "                           'Number of Trailers':'Trailers_SS','Number of Vessels (Boat_Jetski)':'Vessel_SS'}, inplace=True)"
   ]
  },
  {
   "cell_type": "code",
   "execution_count": 28,
   "id": "49586b7a",
   "metadata": {},
   "outputs": [],
   "source": [
    "smartsheets.columns = map(str.upper, smartsheets.columns)"
   ]
  },
  {
   "cell_type": "code",
   "execution_count": 29,
   "id": "b2c61952",
   "metadata": {},
   "outputs": [],
   "source": [
    "# merge both data frames for QC\n",
    "final = smartsheets.merge(merge1,\n",
    "                         left_on='APN_ROW SEGMENT',\n",
    "                         right_on='APN_SA',\n",
    "                         how='outer',\n",
    "                         suffixes=('_SS', '_SA'))"
   ]
  },
  {
   "cell_type": "code",
   "execution_count": 30,
   "id": "7ed58bf0",
   "metadata": {},
   "outputs": [],
   "source": [
    "# set Smart sheets apn as index\n",
    "final.set_index('APN_ROW SEGMENT', inplace=True)"
   ]
  },
  {
   "cell_type": "code",
   "execution_count": 31,
   "id": "8f91825b",
   "metadata": {},
   "outputs": [],
   "source": [
    "# final.reset_index(inplace=True)"
   ]
  },
  {
   "cell_type": "code",
   "execution_count": 32,
   "id": "54b6486f",
   "metadata": {
    "scrolled": true
   },
   "outputs": [],
   "source": [
    "# final.columns"
   ]
  },
  {
   "cell_type": "code",
   "execution_count": 33,
   "id": "a4bacf16",
   "metadata": {},
   "outputs": [],
   "source": [
    "# column orinizationa\n",
    "final = final[['APN_SA', 'APN_TF','STREET #','STREET NAME','STRUCTURAL STATUS',\n",
    "               'SA SURVEY DATE_SS', 'SA SURVEY DATE_SA','SURVEY_DATE',\n",
    "               'CHIMNEY_SS','CHIMNEY_SA','CHIMNEY_QUANTITY',\n",
    "               'AUTOMOBILES_SS', 'AUTOMOBILES_SA','AUTOMOBILE_QUANTITY',\n",
    "               'MOTORCYCLES_SS', 'MOTORCYCLE_SA', 'MOTORCYCLE_QUANTITY_TF',\n",
    "              'ATV/UTV/SNOWMOBILES_SS', 'ATV/UTV/SNOWMOBILES_SA','ATV_UTV_QUANTITY',\n",
    "              'AG/COMMERCIAL/CONSTRUCTION_SS', 'AG/COMMERCIAL/CONSTRUCTION_SA','COMM_EQUIP_QUANTITY',\n",
    "              'RV_SS', 'RV_SA','RVS_QUANTITY',\n",
    "              'TRAILERS_SS', 'TRAILERS_SA','TRAILER_QUANTITY',\n",
    "              'VESSEL_SS','VESSEL_SA','VESSEL_QUANTITY',\n",
    "               'DIVISION']]"
   ]
  },
  {
   "cell_type": "code",
   "execution_count": 34,
   "id": "bfbbdb17",
   "metadata": {},
   "outputs": [],
   "source": [
    "final.to_excel('Northern Dixie Fire SA Audit.xlsx')"
   ]
  },
  {
   "cell_type": "code",
   "execution_count": null,
   "id": "6286efa9",
   "metadata": {},
   "outputs": [],
   "source": []
  }
 ],
 "metadata": {
  "kernelspec": {
   "display_name": "Python 3",
   "language": "python",
   "name": "python3"
  },
  "language_info": {
   "codemirror_mode": {
    "name": "ipython",
    "version": 3
   },
   "file_extension": ".py",
   "mimetype": "text/x-python",
   "name": "python",
   "nbconvert_exporter": "python",
   "pygments_lexer": "ipython3",
   "version": "3.9.4"
  }
 },
 "nbformat": 4,
 "nbformat_minor": 5
}
