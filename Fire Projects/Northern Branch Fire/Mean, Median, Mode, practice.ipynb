{
 "cells": [
  {
   "cell_type": "code",
   "execution_count": 1,
   "id": "b40ddc51",
   "metadata": {},
   "outputs": [],
   "source": [
    "import pandas as pd\n",
    "# import matplotlib as plt\n",
    "# import numpy as np"
   ]
  },
  {
   "cell_type": "code",
   "execution_count": 2,
   "id": "05da17e5",
   "metadata": {},
   "outputs": [],
   "source": [
    "fileName = \"Vehicle Check/Northern Branch Phase II Debris Removal Ops.xlsx\"\n",
    "df = pd.read_excel(fileName)"
   ]
  },
  {
   "cell_type": "markdown",
   "id": "3bc2e41c",
   "metadata": {},
   "source": [
    "# Variables to use"
   ]
  },
  {
   "cell_type": "code",
   "execution_count": 3,
   "id": "eadd64ed",
   "metadata": {},
   "outputs": [],
   "source": [
    "status = (\"Withdrawal\", \"Ineligible\") # TODO: make apart of our search \n",
    "active_crews = [\"CREW#101\", \"CREW#102\", \"CREW#203\", \"CREW#301\", \"CREW#404\", \"CREW#501\", \"CREW#406\", \"CREW#304\", \"CREW#701\",\n",
    "                \"CREW#702\", \"CREW#703\", \"CREW#704\", \"CREW#705\", \"CREW#706\",\n",
    "                \"CREW#707\" \"CREW#708\", \"CREW#801\", \"CREW#802\", \"CREW#803\", \"CREW#805\"]"
   ]
  },
  {
   "cell_type": "code",
   "execution_count": 4,
   "id": "1ba9b5af",
   "metadata": {},
   "outputs": [
    {
     "data": {
      "text/plain": [
       "['APN',\n",
       " 'Structural Status',\n",
       " 'Haz Tree Only',\n",
       " '# of Trees',\n",
       " 'Haz Trees Assessment',\n",
       " 'Haz Trees',\n",
       " 'Hazard Tree Status',\n",
       " 'Street #',\n",
       " 'Unit #',\n",
       " 'Street Name',\n",
       " 'City',\n",
       " 'County',\n",
       " 'Division',\n",
       " 'Hold Reason',\n",
       " 'Hold',\n",
       " 'Gate Locked?',\n",
       " 'Code/Key Location',\n",
       " 'ROE Verified',\n",
       " 'Declaration',\n",
       " 'Property Type',\n",
       " 'Commercial Notes',\n",
       " 'Scheduled',\n",
       " 'Consultant',\n",
       " 'Debris Crew',\n",
       " 'Debris Crew Leader/Crew#',\n",
       " 'Debris Crew WO#',\n",
       " 'ROE Date',\n",
       " 'Priority',\n",
       " 'Withdrawal',\n",
       " 'Not Eligible',\n",
       " 'Reason for Ineligibility',\n",
       " 'Determinant for Ineligibility',\n",
       " 'Safety Concern Property',\n",
       " 'Phase 1 Complete',\n",
       " 'Needs Milk Run or Phase 1 Revisit',\n",
       " 'Milk Run/Phase 1 Revisit Complete',\n",
       " 'Access Issues',\n",
       " 'EHP Attention Required',\n",
       " 'EHP Attn Notes',\n",
       " 'Monitoring Needed',\n",
       " 'Monitoring Needed Description',\n",
       " 'Bio Assessment Notes',\n",
       " 'Arch Assessment Notes',\n",
       " 'CalOES Review Notes',\n",
       " 'Permit Needed',\n",
       " 'Permit Description',\n",
       " 'Owner Name',\n",
       " 'Contact Phone',\n",
       " 'Contact Email',\n",
       " 'Site Assessment',\n",
       " 'RAD/MERC Sweep',\n",
       " 'RAD/MERC Detected',\n",
       " 'Chimney',\n",
       " 'Chimney Inaccessible for ASB',\n",
       " 'NESHAP Walls',\n",
       " 'NESHAP Notification',\n",
       " 'Chimney Tipped',\n",
       " 'In Ground Pool',\n",
       " 'Large Propane Tank',\n",
       " 'Well',\n",
       " 'Septic',\n",
       " 'Solar Panels',\n",
       " 'Structural Walls',\n",
       " 'Need Contractor Assist for ASB',\n",
       " 'Vehicle(s)',\n",
       " 'Number of Vehicles',\n",
       " 'Vehicles Description',\n",
       " 'Number of Vehicles Removed',\n",
       " 'ASB Assessment',\n",
       " 'ASB Suspected',\n",
       " 'ASB Sample Sent',\n",
       " 'ASB Results Received',\n",
       " 'ASB Results',\n",
       " 'ASB Abatement',\n",
       " 'CAC Clearance',\n",
       " 'Ready for Debris Removal',\n",
       " 'Property Owner Contact',\n",
       " 'Contact Notes',\n",
       " 'If Unable to Contact, Attempted # of Contacts',\n",
       " 'If Unable to Contact, Who Approved to Move Forward',\n",
       " '811 Called',\n",
       " 'Debris Start',\n",
       " 'Debris Finish',\n",
       " 'State Rep Sign-Off for DR',\n",
       " 'Damage Caused during DR',\n",
       " 'Explanation of Damage during DR',\n",
       " 'Soil Sample',\n",
       " 'Soil Sample Results',\n",
       " 'Soil Boring',\n",
       " 'Soil Boring Results',\n",
       " 'Soil Re-scrape',\n",
       " 'Re-scrape Results',\n",
       " 'Soil Re-scrape 2',\n",
       " 'Re-scrape 2 Results',\n",
       " 'Soil Samples Approved',\n",
       " 'Hydromulch Complete',\n",
       " 'Wattles Complete',\n",
       " 'Erosion Control Waiver',\n",
       " 'FSO Complete',\n",
       " 'FSO Sent to County',\n",
       " 'Special Notes',\n",
       " 'Insurance',\n",
       " 'Latitude',\n",
       " 'Longitude',\n",
       " 'Lake Madrone Property',\n",
       " 'County Notified of Ineligibility',\n",
       " 'Approved for Special Inclusion',\n",
       " 'Tree Eligibility (Butte/Shasta/Trinity/Siskiyou)',\n",
       " 'Trinity Lease Lots Eligibility',\n",
       " 'Hazard Tree Work Package',\n",
       " 'Tree Felling Complete',\n",
       " 'Tree Removal Complete',\n",
       " 'Number of Trees Felled',\n",
       " 'Trees Final Site Walk',\n",
       " 'duplicate',\n",
       " 'Sync Status',\n",
       " 'Butte Vehicle Recon',\n",
       " 'Soils Hold']"
      ]
     },
     "execution_count": 4,
     "metadata": {},
     "output_type": "execute_result"
    }
   ],
   "source": [
    "df.columns.tolist()\n"
   ]
  },
  {
   "cell_type": "markdown",
   "id": "a9121904",
   "metadata": {},
   "source": [
    "# Get average from start and finish dates of crews\n",
    "# Steps:\n",
    "## -Finish days minus start day\n",
    "## -Change data types from timedate to float\n",
    "## -Make data frame only show the columns we need\n",
    "## -Group by county and get the sum, count, and mean of times debris was done on propeties"
   ]
  },
  {
   "cell_type": "code",
   "execution_count": 5,
   "id": "0c5f4f4f",
   "metadata": {},
   "outputs": [
    {
     "data": {
      "text/plain": [
       "Debris Finish    datetime64[ns]\n",
       "Debris Start     datetime64[ns]\n",
       "dtype: object"
      ]
     },
     "execution_count": 5,
     "metadata": {},
     "output_type": "execute_result"
    }
   ],
   "source": [
    "df[['Debris Finish', 'Debris Start']].dtypes"
   ]
  },
  {
   "cell_type": "markdown",
   "id": "8feaeabc",
   "metadata": {},
   "source": [
    "# Pick day you need below\n",
    "# And filter out \"Ineligible\", \"Withdrawal\" properties"
   ]
  },
  {
   "cell_type": "code",
   "execution_count": 8,
   "id": "3d94ced3",
   "metadata": {},
   "outputs": [],
   "source": [
    "df.loc[:, ['Debris Start', 'Debris Finish']] = df[(df.loc[:, 'Debris Start']> \"2021-05-01\") & (df.loc[:, 'Debris Finish'] <= \"2021-06-19\")]\n",
    "\n",
    "df.loc[:, \"Structural Status\"] = df[~df.loc[:, \"Structural Status\"].isin(status)]"
   ]
  },
  {
   "cell_type": "code",
   "execution_count": null,
   "id": "2033eb94",
   "metadata": {
    "scrolled": true
   },
   "outputs": [],
   "source": [
    "df.loc[:, \"duration\"] = df.loc[:, 'Debris Finish'] - df.loc[:, 'Debris Start']\n",
    "\n",
    "df[\"duration\"] = df[\"duration\"].dt.days # convert 'duration' column to a float instead of timedelta64[ns] \n",
    "\n",
    "# removal all other columsn from data frame except the following:\n",
    "df = df[['APN', \"Structural Status\", 'County', 'Debris Crew', 'Debris Crew WO#', 'Debris Start', 'Debris Finish', 'duration']] \n",
    "df['Debris Crew WO#'] = df['Debris Crew WO#'].str.extract('(CREW ?# ?\\d+)') ### LEARN THIS YESTERDAY!!!!!!\n",
    "\n",
    "\n",
    "df.groupby(['County', 'Debris Crew WO#'] ).duration.agg(['sum', 'count', 'mean'])\n",
    "# dffilt.to_excel(\"Date Averages formatting issue.xlsx\") # put it in an excel doc"
   ]
  },
  {
   "cell_type": "markdown",
   "id": "197cd4e3",
   "metadata": {},
   "source": [
    "# Take out spaces then\n",
    "# Filter for crews needed"
   ]
  },
  {
   "cell_type": "code",
   "execution_count": null,
   "id": "01f1fdf3",
   "metadata": {},
   "outputs": [],
   "source": [
    "df.loc[:, \"Debris Crew WO#\"] = df.loc[:, \"Debris Crew WO#\"].str.replace(\" \", \"\")"
   ]
  },
  {
   "cell_type": "code",
   "execution_count": null,
   "id": "ed86fd3a",
   "metadata": {},
   "outputs": [],
   "source": [
    "df.loc[:, 'Debris Crew WO#'] = df[df.loc[:, 'Debris Crew WO#'].isin(active_crews)]"
   ]
  },
  {
   "cell_type": "code",
   "execution_count": null,
   "id": "0d0a9616",
   "metadata": {},
   "outputs": [],
   "source": [
    "dffilt = df.groupby(['County', 'Debris Crew WO#'])[['duration']].mean()\n",
    "dffilt.to_excel(\"Overview test.xlsx\")\n",
    "dffilt"
   ]
  },
  {
   "cell_type": "markdown",
   "id": "77e7d7dd",
   "metadata": {},
   "source": [
    "# See all columns on screen. *Takes more memory (RAM)"
   ]
  },
  {
   "cell_type": "code",
   "execution_count": null,
   "id": "1294e18e",
   "metadata": {},
   "outputs": [],
   "source": [
    "pd.set_option('display.max_columns', 120)\n",
    "pd.set_option('display.max_rows', 2500)"
   ]
  },
  {
   "cell_type": "markdown",
   "id": "45294258",
   "metadata": {},
   "source": [
    "# Need to filter on the  'Debris Crew WO#' for all chars after crew is read. \n",
    "## Eaiser way is to grab last 11 chars but not accurate"
   ]
  },
  {
   "cell_type": "code",
   "execution_count": null,
   "id": "16aff774",
   "metadata": {
    "scrolled": true
   },
   "outputs": [],
   "source": [
    "df['Debris Crew WO#'] = df['Debris Crew WO#'].str.extract('(CREW ?# ?\\d+)')\n",
    "df.groupby(['APN', 'Debris Crew WO#'])[\"duration\"].mean()"
   ]
  },
  {
   "cell_type": "code",
   "execution_count": null,
   "id": "ac2c0439",
   "metadata": {},
   "outputs": [],
   "source": []
  },
  {
   "cell_type": "markdown",
   "id": "15ae09a1",
   "metadata": {},
   "source": [
    "# See if we can replace all values in Debris Crew WO# with just the actie crews"
   ]
  },
  {
   "cell_type": "code",
   "execution_count": null,
   "id": "aef6ce37",
   "metadata": {},
   "outputs": [],
   "source": [
    "df.loc[:, ['Place Holder']] = df.loc[:, 'Debris Crew WO#'].str[28:] # not very effective due to formatting\n",
    "df.loc[:, ['Place Holder']]"
   ]
  },
  {
   "cell_type": "code",
   "execution_count": null,
   "id": "abd0ab23",
   "metadata": {},
   "outputs": [],
   "source": [
    "df.loc[:, ['Place Holder']] = df.loc[:, 'Debris Crew WO#'].str[26:]\n",
    "df.loc[:, ['Place Holder']] = df.loc[:, ['Place Holder']].split().join(\" \")\n"
   ]
  },
  {
   "cell_type": "markdown",
   "id": "4b0ce2f5",
   "metadata": {},
   "source": [
    "# Method #1 referring to a list: How to grab just CREW # and number from text\n",
    "## You can use str.extract() with the capture group being a joined list with join('|'). The | symbol is for OR and allows you to search multiple values simultaneously for each row. Capture groups require parentheses around them which is why I add parentheses as strings before and after."
   ]
  },
  {
   "cell_type": "code",
   "execution_count": null,
   "id": "c7d13e4f",
   "metadata": {
    "scrolled": true
   },
   "outputs": [],
   "source": [
    "df['Debris Crew WO#'] = df['Debris Crew WO#'].str.extract(('(' + '|'.join(active_crews) + ')'))\n",
    "df['Debris Crew WO#']"
   ]
  },
  {
   "cell_type": "markdown",
   "id": "14f181d7",
   "metadata": {},
   "source": [
    "# Method #2 \n",
    "## Extracting based off a regex pattern and ignoring the list. A ? after a space means that the space is optional. Instead of a space you can also do \\s or \\s+ for multiple spaces. \\d+ means consecutive numbers. If there are commas in the numbers, the regex is slightly different:"
   ]
  },
  {
   "cell_type": "code",
   "execution_count": null,
   "id": "a24605d3",
   "metadata": {
    "scrolled": true
   },
   "outputs": [],
   "source": [
    "df['Debris Crew WO#'] = df['Debris Crew WO#'].str.extract('(CREW ?# ?\\d+)')\n",
    "df['Debris Crew WO#']"
   ]
  },
  {
   "cell_type": "code",
   "execution_count": 1,
   "id": "e2c15e65",
   "metadata": {},
   "outputs": [
    {
     "ename": "NameError",
     "evalue": "name 'df' is not defined",
     "output_type": "error",
     "traceback": [
      "\u001b[1;31m---------------------------------------------------------------------------\u001b[0m",
      "\u001b[1;31mNameError\u001b[0m                                 Traceback (most recent call last)",
      "\u001b[1;32m<ipython-input-1-16ab84c63ebf>\u001b[0m in \u001b[0;36m<module>\u001b[1;34m\u001b[0m\n\u001b[1;32m----> 1\u001b[1;33m \u001b[0mdf\u001b[0m\u001b[1;33m[\u001b[0m\u001b[1;34m'test 2'\u001b[0m\u001b[1;33m]\u001b[0m \u001b[1;33m=\u001b[0m \u001b[0mdf\u001b[0m\u001b[1;33m[\u001b[0m\u001b[1;34m'Debris Crew WO#'\u001b[0m\u001b[1;33m]\u001b[0m\u001b[1;33m.\u001b[0m\u001b[0mstr\u001b[0m\u001b[1;33m.\u001b[0m\u001b[0mextract\u001b[0m\u001b[1;33m(\u001b[0m\u001b[1;34m'(CREW ?# ?\\d)'\u001b[0m\u001b[1;33m)\u001b[0m\u001b[1;33m\u001b[0m\u001b[1;33m\u001b[0m\u001b[0m\n\u001b[0m\u001b[0;32m      2\u001b[0m \u001b[0mdf\u001b[0m\u001b[1;33m[\u001b[0m\u001b[1;34m'test2'\u001b[0m\u001b[1;33m]\u001b[0m\u001b[1;33m\u001b[0m\u001b[1;33m\u001b[0m\u001b[0m\n",
      "\u001b[1;31mNameError\u001b[0m: name 'df' is not defined"
     ]
    }
   ],
   "source": [
    "df['test 2'] = df['Debris Crew WO#'].str.extract('(CREW ?# ?\\d)')\n",
    "df['test2']"
   ]
  },
  {
   "cell_type": "code",
   "execution_count": null,
   "id": "40d17cb0",
   "metadata": {},
   "outputs": [],
   "source": []
  }
 ],
 "metadata": {
  "kernelspec": {
   "display_name": "Python 3",
   "language": "python",
   "name": "python3"
  },
  "language_info": {
   "codemirror_mode": {
    "name": "ipython",
    "version": 3
   },
   "file_extension": ".py",
   "mimetype": "text/x-python",
   "name": "python",
   "nbconvert_exporter": "python",
   "pygments_lexer": "ipython3",
   "version": "3.9.4"
  }
 },
 "nbformat": 4,
 "nbformat_minor": 5
}
