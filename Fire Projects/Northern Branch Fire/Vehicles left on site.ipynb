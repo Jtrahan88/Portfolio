{
 "cells": [
  {
   "cell_type": "code",
   "execution_count": 1,
   "id": "7c277d9b",
   "metadata": {},
   "outputs": [],
   "source": [
    "import pandas as pd\n",
    "import matplotlib.pyplot as plt\n",
    "import numpy as np"
   ]
  },
  {
   "cell_type": "code",
   "execution_count": 2,
   "id": "b8d21013",
   "metadata": {},
   "outputs": [],
   "source": [
    "file_Name = \"../State-Field and all trackers/Northern Branch Phase II Debris Removal Ops.xlsx\""
   ]
  },
  {
   "cell_type": "code",
   "execution_count": 3,
   "id": "e38b9d7f",
   "metadata": {
    "scrolled": true
   },
   "outputs": [
    {
     "data": {
      "text/plain": [
       "(2349, 124)"
      ]
     },
     "execution_count": 3,
     "metadata": {},
     "output_type": "execute_result"
    }
   ],
   "source": [
    "df = pd.read_excel(file_Name)\n",
    "df.shape"
   ]
  },
  {
   "cell_type": "code",
   "execution_count": 4,
   "id": "b0439ecb",
   "metadata": {},
   "outputs": [
    {
     "data": {
      "text/html": [
       "<div>\n",
       "<style scoped>\n",
       "    .dataframe tbody tr th:only-of-type {\n",
       "        vertical-align: middle;\n",
       "    }\n",
       "\n",
       "    .dataframe tbody tr th {\n",
       "        vertical-align: top;\n",
       "    }\n",
       "\n",
       "    .dataframe thead th {\n",
       "        text-align: right;\n",
       "    }\n",
       "</style>\n",
       "<table border=\"1\" class=\"dataframe\">\n",
       "  <thead>\n",
       "    <tr style=\"text-align: right;\">\n",
       "      <th></th>\n",
       "      <th>APN</th>\n",
       "      <th>Structural Status</th>\n",
       "      <th># of Trees</th>\n",
       "      <th>Haz Trees Assessment</th>\n",
       "      <th>Haz Trees</th>\n",
       "      <th>Haz Tree Only</th>\n",
       "      <th>Hazard Tree Status</th>\n",
       "      <th>Street #</th>\n",
       "      <th>Unit #</th>\n",
       "      <th>Street Name</th>\n",
       "      <th>...</th>\n",
       "      <th>Tree Felling Complete</th>\n",
       "      <th>Tree Removal Complete</th>\n",
       "      <th>Number of Hazard Trees Felled</th>\n",
       "      <th>Trees Final Site Walk</th>\n",
       "      <th>Modified Date</th>\n",
       "      <th>duplicate</th>\n",
       "      <th>Sync Status</th>\n",
       "      <th>Ineligible Date</th>\n",
       "      <th>Soils Hold Reason</th>\n",
       "      <th>Butte Alt Program Tree Property</th>\n",
       "    </tr>\n",
       "  </thead>\n",
       "  <tbody>\n",
       "    <tr>\n",
       "      <th>0</th>\n",
       "      <td>071-360-010-000</td>\n",
       "      <td>Returned to County</td>\n",
       "      <td>0.0</td>\n",
       "      <td>2020-12-08</td>\n",
       "      <td>No</td>\n",
       "      <td>NaN</td>\n",
       "      <td>No Hazard Trees</td>\n",
       "      <td>1879</td>\n",
       "      <td>NaN</td>\n",
       "      <td>Lumpkin Road</td>\n",
       "      <td>...</td>\n",
       "      <td>NaT</td>\n",
       "      <td>NaT</td>\n",
       "      <td>NaN</td>\n",
       "      <td>NaT</td>\n",
       "      <td>2021-10-20 11:11:25</td>\n",
       "      <td>NaN</td>\n",
       "      <td>NaN</td>\n",
       "      <td>NaT</td>\n",
       "      <td>NaN</td>\n",
       "      <td>NaN</td>\n",
       "    </tr>\n",
       "    <tr>\n",
       "      <th>1</th>\n",
       "      <td>071-060-011-000</td>\n",
       "      <td>Returned to County</td>\n",
       "      <td>NaN</td>\n",
       "      <td>NaT</td>\n",
       "      <td>Do Not Assess</td>\n",
       "      <td>NaN</td>\n",
       "      <td>NaN</td>\n",
       "      <td>99</td>\n",
       "      <td>NaN</td>\n",
       "      <td>Kanaka Ranch Road</td>\n",
       "      <td>...</td>\n",
       "      <td>NaT</td>\n",
       "      <td>NaT</td>\n",
       "      <td>NaN</td>\n",
       "      <td>NaT</td>\n",
       "      <td>2021-08-26 09:59:47</td>\n",
       "      <td>NaN</td>\n",
       "      <td>NaN</td>\n",
       "      <td>NaT</td>\n",
       "      <td>NaN</td>\n",
       "      <td>NaN</td>\n",
       "    </tr>\n",
       "    <tr>\n",
       "      <th>2</th>\n",
       "      <td>062-320-029-000</td>\n",
       "      <td>Ready for Tree Operations</td>\n",
       "      <td>10.0</td>\n",
       "      <td>2021-04-02</td>\n",
       "      <td>Yes</td>\n",
       "      <td>NaN</td>\n",
       "      <td>Ready for Tree Removal</td>\n",
       "      <td>062-320-029-000</td>\n",
       "      <td>Lot 169</td>\n",
       "      <td>Cedar Lane</td>\n",
       "      <td>...</td>\n",
       "      <td>NaT</td>\n",
       "      <td>NaT</td>\n",
       "      <td>NaN</td>\n",
       "      <td>NaT</td>\n",
       "      <td>2021-10-20 20:45:29</td>\n",
       "      <td>NaN</td>\n",
       "      <td>NaN</td>\n",
       "      <td>NaT</td>\n",
       "      <td>NaN</td>\n",
       "      <td>NaN</td>\n",
       "    </tr>\n",
       "    <tr>\n",
       "      <th>3</th>\n",
       "      <td>071-400-035-000</td>\n",
       "      <td>Returned to County</td>\n",
       "      <td>0.0</td>\n",
       "      <td>2021-02-05</td>\n",
       "      <td>No</td>\n",
       "      <td>NaN</td>\n",
       "      <td>No Hazard Trees</td>\n",
       "      <td>297</td>\n",
       "      <td>NaN</td>\n",
       "      <td>Simmons Road</td>\n",
       "      <td>...</td>\n",
       "      <td>NaT</td>\n",
       "      <td>NaT</td>\n",
       "      <td>NaN</td>\n",
       "      <td>NaT</td>\n",
       "      <td>2021-08-27 14:20:32</td>\n",
       "      <td>NaN</td>\n",
       "      <td>NaN</td>\n",
       "      <td>NaT</td>\n",
       "      <td>NaN</td>\n",
       "      <td>NaN</td>\n",
       "    </tr>\n",
       "    <tr>\n",
       "      <th>4</th>\n",
       "      <td>062-740-008-000</td>\n",
       "      <td>Ready for Tree Operations</td>\n",
       "      <td>1.0</td>\n",
       "      <td>2021-06-24</td>\n",
       "      <td>Yes</td>\n",
       "      <td>NaN</td>\n",
       "      <td>Off-Haul Complete</td>\n",
       "      <td>17</td>\n",
       "      <td>NaN</td>\n",
       "      <td>Hammer Lane</td>\n",
       "      <td>...</td>\n",
       "      <td>2021-08-11</td>\n",
       "      <td>NaT</td>\n",
       "      <td>1.0</td>\n",
       "      <td>NaT</td>\n",
       "      <td>2021-10-19 09:54:39</td>\n",
       "      <td>NaN</td>\n",
       "      <td>NaN</td>\n",
       "      <td>NaT</td>\n",
       "      <td>NaN</td>\n",
       "      <td>NaN</td>\n",
       "    </tr>\n",
       "  </tbody>\n",
       "</table>\n",
       "<p>5 rows × 124 columns</p>\n",
       "</div>"
      ],
      "text/plain": [
       "               APN          Structural Status  # of Trees  \\\n",
       "0  071-360-010-000         Returned to County         0.0   \n",
       "1  071-060-011-000         Returned to County         NaN   \n",
       "2  062-320-029-000  Ready for Tree Operations        10.0   \n",
       "3  071-400-035-000         Returned to County         0.0   \n",
       "4  062-740-008-000  Ready for Tree Operations         1.0   \n",
       "\n",
       "  Haz Trees Assessment      Haz Trees  Haz Tree Only      Hazard Tree Status  \\\n",
       "0           2020-12-08             No            NaN         No Hazard Trees   \n",
       "1                  NaT  Do Not Assess            NaN                     NaN   \n",
       "2           2021-04-02            Yes            NaN  Ready for Tree Removal   \n",
       "3           2021-02-05             No            NaN         No Hazard Trees   \n",
       "4           2021-06-24            Yes            NaN       Off-Haul Complete   \n",
       "\n",
       "          Street #   Unit #        Street Name  ... Tree Felling Complete  \\\n",
       "0             1879      NaN       Lumpkin Road  ...                   NaT   \n",
       "1               99      NaN  Kanaka Ranch Road  ...                   NaT   \n",
       "2  062-320-029-000  Lot 169         Cedar Lane  ...                   NaT   \n",
       "3              297      NaN       Simmons Road  ...                   NaT   \n",
       "4               17      NaN        Hammer Lane  ...            2021-08-11   \n",
       "\n",
       "  Tree Removal Complete Number of Hazard Trees Felled Trees Final Site Walk  \\\n",
       "0                   NaT                           NaN                   NaT   \n",
       "1                   NaT                           NaN                   NaT   \n",
       "2                   NaT                           NaN                   NaT   \n",
       "3                   NaT                           NaN                   NaT   \n",
       "4                   NaT                           1.0                   NaT   \n",
       "\n",
       "        Modified Date  duplicate Sync Status Ineligible Date  \\\n",
       "0 2021-10-20 11:11:25        NaN         NaN             NaT   \n",
       "1 2021-08-26 09:59:47        NaN         NaN             NaT   \n",
       "2 2021-10-20 20:45:29        NaN         NaN             NaT   \n",
       "3 2021-08-27 14:20:32        NaN         NaN             NaT   \n",
       "4 2021-10-19 09:54:39        NaN         NaN             NaT   \n",
       "\n",
       "  Soils Hold Reason Butte Alt Program Tree Property  \n",
       "0               NaN                             NaN  \n",
       "1               NaN                             NaN  \n",
       "2               NaN                             NaN  \n",
       "3               NaN                             NaN  \n",
       "4               NaN                             NaN  \n",
       "\n",
       "[5 rows x 124 columns]"
      ]
     },
     "execution_count": 4,
     "metadata": {},
     "output_type": "execute_result"
    }
   ],
   "source": [
    "df.head()"
   ]
  },
  {
   "cell_type": "code",
   "execution_count": 5,
   "id": "7110971b",
   "metadata": {
    "scrolled": true
   },
   "outputs": [
    {
     "data": {
      "text/plain": [
       "['APN',\n",
       " 'Structural Status',\n",
       " '# of Trees',\n",
       " 'Haz Trees Assessment',\n",
       " 'Haz Trees',\n",
       " 'Haz Tree Only',\n",
       " 'Hazard Tree Status',\n",
       " 'Street #',\n",
       " 'Unit #',\n",
       " 'Street Name',\n",
       " 'City',\n",
       " 'County',\n",
       " 'Division',\n",
       " 'Hold Reason',\n",
       " 'Hold',\n",
       " 'Gate Locked?',\n",
       " 'Code/Key Location',\n",
       " 'ROE Verified',\n",
       " 'Declaration',\n",
       " 'Property Type',\n",
       " 'Commercial Notes',\n",
       " 'Scheduled',\n",
       " 'Consultant',\n",
       " 'Debris Crew',\n",
       " 'Debris Crew Leader/Crew#',\n",
       " 'Debris Crew WO#',\n",
       " 'ROE Date',\n",
       " 'Priority',\n",
       " 'Withdrawal',\n",
       " 'Not Eligible',\n",
       " 'Reason for Ineligibility',\n",
       " 'Determinant for Ineligibility',\n",
       " 'Safety Concern Property',\n",
       " 'Phase 1 Complete',\n",
       " 'Needs Milk Run or Phase 1 Revisit',\n",
       " 'Milk Run/Phase 1 Revisit Complete',\n",
       " 'Access Issues',\n",
       " 'EHP Attention Required',\n",
       " 'EHP Attn Notes',\n",
       " 'Monitoring Needed',\n",
       " 'Monitoring Needed Description',\n",
       " 'Bio Assessment Notes',\n",
       " 'Arch Assessment Notes',\n",
       " 'CalOES Review Notes',\n",
       " 'Permit Needed',\n",
       " 'Permit Description',\n",
       " 'Owner Name',\n",
       " 'Contact Phone',\n",
       " 'Contact Email',\n",
       " 'Site Assessment',\n",
       " 'RAD/MERC Sweep',\n",
       " 'RAD/MERC Detected',\n",
       " 'Chimney',\n",
       " 'Chimney Inaccessible for ASB',\n",
       " 'NESHAP Walls',\n",
       " 'NESHAP Notification',\n",
       " 'Chimney Tipped',\n",
       " 'In Ground Pool',\n",
       " 'Large Propane Tank',\n",
       " 'Well',\n",
       " 'Septic',\n",
       " 'Solar Panels',\n",
       " 'Structural Walls',\n",
       " 'Need Contractor Assist for ASB',\n",
       " 'Vehicle(s)',\n",
       " 'Number of Vehicles',\n",
       " 'Vehicles Description',\n",
       " 'Number of Vehicles Removed',\n",
       " 'CHP Adjudicated (Butte)',\n",
       " 'ASB Assessment',\n",
       " 'ASB Suspected',\n",
       " 'ASB Sample Sent',\n",
       " 'ASB Results Received',\n",
       " 'ASB Results',\n",
       " 'ASB Abatement',\n",
       " 'CAC Clearance',\n",
       " 'Ready for Debris Removal',\n",
       " 'Property Owner Contact',\n",
       " 'Contact Notes',\n",
       " 'If Unable to Contact, Attempted # of Contacts',\n",
       " 'If Unable to Contact, Who Approved to Move Forward',\n",
       " '811 Called',\n",
       " 'Debris Start',\n",
       " 'Debris Finish',\n",
       " 'State Rep Sign-Off for DR',\n",
       " 'Damage Caused during DR',\n",
       " 'Explanation of Damage during DR',\n",
       " 'Soil Sample',\n",
       " 'Soil Sample Results',\n",
       " 'Soil Boring',\n",
       " 'Soil Boring Results',\n",
       " 'Soil Re-scrape',\n",
       " 'Re-scrape Results',\n",
       " 'Soil Re-scrape 2',\n",
       " 'Re-scrape 2 Results',\n",
       " 'Soil Rescrape 3',\n",
       " 'Re-scrape 3 Results',\n",
       " 'Soil Samples Approved',\n",
       " 'Hydromulch Complete',\n",
       " 'Wattles Complete',\n",
       " 'Erosion Control Waiver',\n",
       " 'Debris FSO Complete',\n",
       " 'FSO Complete',\n",
       " 'FSO Sent to County',\n",
       " 'Special Notes',\n",
       " 'Insurance',\n",
       " 'Latitude',\n",
       " 'Longitude',\n",
       " 'Lake Madrone Property',\n",
       " 'County Notified of Ineligibility',\n",
       " 'Approved for Special Inclusion',\n",
       " 'Tree Eligibility (Butte/Shasta/Trinity/Siskiyou)',\n",
       " 'Trinity Lease Lots Eligibility',\n",
       " 'Hazard Tree Work Package',\n",
       " 'Tree Felling Complete',\n",
       " 'Tree Removal Complete',\n",
       " 'Number of Hazard Trees Felled',\n",
       " 'Trees Final Site Walk',\n",
       " 'Modified Date',\n",
       " 'duplicate',\n",
       " 'Sync Status',\n",
       " 'Ineligible Date',\n",
       " 'Soils Hold Reason',\n",
       " 'Butte Alt Program Tree Property']"
      ]
     },
     "execution_count": 5,
     "metadata": {},
     "output_type": "execute_result"
    }
   ],
   "source": [
    "df.columns.to_list()"
   ]
  },
  {
   "cell_type": "code",
   "execution_count": 6,
   "id": "bba4c412",
   "metadata": {},
   "outputs": [],
   "source": [
    "df.loc[:, ['Number of Vehicles', 'Number of Vehicles Removed']] = df.loc[:, ['Number of Vehicles', 'Number of Vehicles Removed']].fillna(0)"
   ]
  },
  {
   "cell_type": "code",
   "execution_count": 7,
   "id": "d79f944d",
   "metadata": {},
   "outputs": [],
   "source": [
    "df['Number of Vehicles'] = pd.to_numeric(df['Number of Vehicles'], errors='coerce')"
   ]
  },
  {
   "cell_type": "code",
   "execution_count": 8,
   "id": "8a0f902c",
   "metadata": {},
   "outputs": [
    {
     "data": {
      "text/plain": [
       "dtype('float64')"
      ]
     },
     "execution_count": 8,
     "metadata": {},
     "output_type": "execute_result"
    }
   ],
   "source": [
    "df['Number of Vehicles'].dtypes"
   ]
  },
  {
   "cell_type": "code",
   "execution_count": 9,
   "id": "caad86b3",
   "metadata": {},
   "outputs": [
    {
     "data": {
      "text/plain": [
       "dtype('O')"
      ]
     },
     "execution_count": 9,
     "metadata": {},
     "output_type": "execute_result"
    }
   ],
   "source": [
    "df['Number of Vehicles Removed'].dtypes"
   ]
  },
  {
   "cell_type": "markdown",
   "id": "b5093910",
   "metadata": {},
   "source": [
    "covert Number of vehicles object to a int or float category"
   ]
  },
  {
   "cell_type": "code",
   "execution_count": 10,
   "id": "b167dbfa",
   "metadata": {},
   "outputs": [],
   "source": [
    "df['Number of Vehicles Removed'] = pd.to_numeric(df['Number of Vehicles Removed'], errors='coerce')"
   ]
  },
  {
   "cell_type": "code",
   "execution_count": 11,
   "id": "a76c045f",
   "metadata": {},
   "outputs": [
    {
     "data": {
      "text/plain": [
       "dtype('float64')"
      ]
     },
     "execution_count": 11,
     "metadata": {},
     "output_type": "execute_result"
    }
   ],
   "source": [
    "df['Number of Vehicles Removed'].dtype"
   ]
  },
  {
   "cell_type": "markdown",
   "id": "41a1d300",
   "metadata": {},
   "source": [
    "Create a new column with vehicles left over"
   ]
  },
  {
   "cell_type": "code",
   "execution_count": 12,
   "id": "f6bf6ec1",
   "metadata": {},
   "outputs": [],
   "source": [
    "df.loc[:, 'Vehicle Left'] =  df.loc[:, 'Number of Vehicles'] - df.loc[:, 'Number of Vehicles Removed']"
   ]
  },
  {
   "cell_type": "code",
   "execution_count": 13,
   "id": "66809937",
   "metadata": {},
   "outputs": [
    {
     "data": {
      "text/html": [
       "<div>\n",
       "<style scoped>\n",
       "    .dataframe tbody tr th:only-of-type {\n",
       "        vertical-align: middle;\n",
       "    }\n",
       "\n",
       "    .dataframe tbody tr th {\n",
       "        vertical-align: top;\n",
       "    }\n",
       "\n",
       "    .dataframe thead th {\n",
       "        text-align: right;\n",
       "    }\n",
       "</style>\n",
       "<table border=\"1\" class=\"dataframe\">\n",
       "  <thead>\n",
       "    <tr style=\"text-align: right;\">\n",
       "      <th></th>\n",
       "      <th>Number of Vehicles</th>\n",
       "      <th>Number of Vehicles Removed</th>\n",
       "      <th>Vehicle Left</th>\n",
       "    </tr>\n",
       "    <tr>\n",
       "      <th>County</th>\n",
       "      <th></th>\n",
       "      <th></th>\n",
       "      <th></th>\n",
       "    </tr>\n",
       "  </thead>\n",
       "  <tbody>\n",
       "    <tr>\n",
       "      <th>Butte</th>\n",
       "      <td>5933.0</td>\n",
       "      <td>5043.0</td>\n",
       "      <td>530.0</td>\n",
       "    </tr>\n",
       "    <tr>\n",
       "      <th>Del Norte</th>\n",
       "      <td>13.0</td>\n",
       "      <td>11.0</td>\n",
       "      <td>2.0</td>\n",
       "    </tr>\n",
       "    <tr>\n",
       "      <th>Lassen</th>\n",
       "      <td>22.0</td>\n",
       "      <td>27.0</td>\n",
       "      <td>-5.0</td>\n",
       "    </tr>\n",
       "    <tr>\n",
       "      <th>Nevada</th>\n",
       "      <td>9.0</td>\n",
       "      <td>7.0</td>\n",
       "      <td>2.0</td>\n",
       "    </tr>\n",
       "    <tr>\n",
       "      <th>Plumas</th>\n",
       "      <td>1.0</td>\n",
       "      <td>1.0</td>\n",
       "      <td>0.0</td>\n",
       "    </tr>\n",
       "    <tr>\n",
       "      <th>Shasta</th>\n",
       "      <td>520.0</td>\n",
       "      <td>517.0</td>\n",
       "      <td>0.0</td>\n",
       "    </tr>\n",
       "    <tr>\n",
       "      <th>Siskiyou</th>\n",
       "      <td>849.0</td>\n",
       "      <td>770.0</td>\n",
       "      <td>78.0</td>\n",
       "    </tr>\n",
       "    <tr>\n",
       "      <th>Trinity</th>\n",
       "      <td>653.0</td>\n",
       "      <td>544.0</td>\n",
       "      <td>108.0</td>\n",
       "    </tr>\n",
       "    <tr>\n",
       "      <th>Yuba</th>\n",
       "      <td>20.0</td>\n",
       "      <td>16.0</td>\n",
       "      <td>4.0</td>\n",
       "    </tr>\n",
       "  </tbody>\n",
       "</table>\n",
       "</div>"
      ],
      "text/plain": [
       "           Number of Vehicles  Number of Vehicles Removed  Vehicle Left\n",
       "County                                                                 \n",
       "Butte                  5933.0                      5043.0         530.0\n",
       "Del Norte                13.0                        11.0           2.0\n",
       "Lassen                   22.0                        27.0          -5.0\n",
       "Nevada                    9.0                         7.0           2.0\n",
       "Plumas                    1.0                         1.0           0.0\n",
       "Shasta                  520.0                       517.0           0.0\n",
       "Siskiyou                849.0                       770.0          78.0\n",
       "Trinity                 653.0                       544.0         108.0\n",
       "Yuba                     20.0                        16.0           4.0"
      ]
     },
     "execution_count": 13,
     "metadata": {},
     "output_type": "execute_result"
    }
   ],
   "source": [
    "dfVecfilt = df[['Number of Vehicles','Number of Vehicles Removed', 'County','Vehicle Left']].groupby('County').sum()\n",
    "dfVecfilt"
   ]
  },
  {
   "cell_type": "code",
   "execution_count": 14,
   "id": "03873dcb",
   "metadata": {
    "scrolled": false
   },
   "outputs": [
    {
     "data": {
      "text/plain": [
       "<AxesSubplot:xlabel='County'>"
      ]
     },
     "execution_count": 14,
     "metadata": {},
     "output_type": "execute_result"
    },
    {
     "data": {
      "image/png": "[encoded data removed]",
      "text/plain": [
       "<Figure size 1800x720 with 1 Axes>"
      ]
     },
     "metadata": {
      "needs_background": "light"
     },
     "output_type": "display_data"
    }
   ],
   "source": [
    "dfVecfilt.plot(kind='bar', figsize=(25,10))"
   ]
  },
  {
   "cell_type": "markdown",
   "id": "30dc3e67",
   "metadata": {},
   "source": [
    "# Make graph above with total for each bar placed on top"
   ]
  },
  {
   "cell_type": "code",
   "execution_count": 16,
   "id": "68d6b8f8",
   "metadata": {},
   "outputs": [],
   "source": [
    "dfVecfilt = df[['Number of Vehicles','Number of Vehicles Removed', 'County','Vehicle Left']].groupby('County').sum()\n",
    "dfVecfilt\n",
    "\n",
    "df_value2 = dfVecfilt.loc[:, 'Number of Vehicles']\n",
    "df_value3 = dfVecfilt.loc[:, 'Number of Vehicles Removed']\n",
    "df_value4 = dfVecfilt.loc[:, 'Vehicle Left']"
   ]
  },
  {
   "cell_type": "code",
   "execution_count": 17,
   "id": "2e4bb507",
   "metadata": {
    "scrolled": false
   },
   "outputs": [
    {
     "data": {
      "image/png": "[encoded data removed]",
      "text/plain": [
       "<Figure size 1440x1080 with 1 Axes>"
      ]
     },
     "metadata": {
      "needs_background": "light"
     },
     "output_type": "display_data"
    }
   ],
   "source": [
    "dfVecfilt.plot(kind='bar',  figsize=(20,15)) #do not do df_index from above due to it does the entire data base. \n",
    "\n",
    "for i in range(len(dfVecfilt)):\n",
    "    plt.text(i, df_value2[i], df_value2[i], ha='right', va='bottom')\n",
    "    plt.text(i, df_value3[i], df_value3[i], ha='center', va='bottom')\n",
    "    plt.text(i, df_value4[i], df_value4[i], ha='left', va='bottom')\n",
    "plt.xticks(rotation=30)\n",
    "plt.title(\"Northen Branch Fire Vehicle Summary\")\n",
    "plt.ylabel(\"Counts\")\n",
    "plt.grid(color='gray', linestyle='--', axis='y')\n",
    "plt.tight_layout()\n",
    "plt.show()"
   ]
  },
  {
   "cell_type": "code",
   "execution_count": null,
   "id": "a4a0b2b5",
   "metadata": {},
   "outputs": [],
   "source": []
  }
 ],
 "metadata": {
  "kernelspec": {
   "display_name": "Python 3",
   "language": "python",
   "name": "python3"
  },
  "language_info": {
   "codemirror_mode": {
    "name": "ipython",
    "version": 3
   },
   "file_extension": ".py",
   "mimetype": "text/x-python",
   "name": "python",
   "nbconvert_exporter": "python",
   "pygments_lexer": "ipython3",
   "version": "3.9.4"
  }
 },
 "nbformat": 4,
 "nbformat_minor": 5
}
