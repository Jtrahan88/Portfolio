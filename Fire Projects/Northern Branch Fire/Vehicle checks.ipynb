{
 "cells": [
  {
   "cell_type": "code",
   "execution_count": 1,
   "id": "590cd5aa",
   "metadata": {},
   "outputs": [],
   "source": [
    "import pandas as pd\n",
    "import matplotlib.pyplot as plt\n",
    "import numpy as np\n",
    "import time"
   ]
  },
  {
   "cell_type": "code",
   "execution_count": 2,
   "id": "54ed9ec1",
   "metadata": {},
   "outputs": [],
   "source": [
    "fileName =\"Vehicle Check/Northern Branch Phase II Debris Removal Ops.xlsx\"\n",
    "df = pd.read_excel(fileName)"
   ]
  },
  {
   "cell_type": "code",
   "execution_count": null,
   "id": "94e7caaf",
   "metadata": {},
   "outputs": [],
   "source": [
    "df.to_excel(\"Test.xlsx\")"
   ]
  },
  {
   "cell_type": "markdown",
   "id": "83dddd39",
   "metadata": {},
   "source": [
    "# See  Columns we need for our data analysis"
   ]
  },
  {
   "cell_type": "code",
   "execution_count": 3,
   "id": "edf7ccdd",
   "metadata": {},
   "outputs": [
    {
     "data": {
      "text/plain": [
       "['APN',\n",
       " 'Structural Status',\n",
       " 'Haz Tree Only',\n",
       " '# of Trees',\n",
       " 'Haz Trees Assessment',\n",
       " 'Haz Trees',\n",
       " 'Hazard Tree Status',\n",
       " 'Street #',\n",
       " 'Unit #',\n",
       " 'Street Name',\n",
       " 'City',\n",
       " 'County',\n",
       " 'Division',\n",
       " 'Hold Reason',\n",
       " 'Hold',\n",
       " 'Gate Locked?',\n",
       " 'Code/Key Location',\n",
       " 'ROE Verified',\n",
       " 'Declaration',\n",
       " 'Property Type',\n",
       " 'Commercial Notes',\n",
       " 'Scheduled',\n",
       " 'Consultant',\n",
       " 'Debris Crew',\n",
       " 'Debris Crew Leader/Crew#',\n",
       " 'Debris Crew WO#',\n",
       " 'ROE Date',\n",
       " 'Priority',\n",
       " 'Withdrawal',\n",
       " 'Not Eligible',\n",
       " 'Reason for Ineligibility',\n",
       " 'Determinant for Ineligibility',\n",
       " 'Safety Concern Property',\n",
       " 'Phase 1 Complete',\n",
       " 'Needs Milk Run or Phase 1 Revisit',\n",
       " 'Milk Run/Phase 1 Revisit Complete',\n",
       " 'Access Issues',\n",
       " 'EHP Attention Required',\n",
       " 'EHP Attn Notes',\n",
       " 'Monitoring Needed',\n",
       " 'Monitoring Needed Description',\n",
       " 'Bio Assessment Notes',\n",
       " 'Arch Assessment Notes',\n",
       " 'CalOES Review Notes',\n",
       " 'Permit Needed',\n",
       " 'Permit Description',\n",
       " 'Owner Name',\n",
       " 'Contact Phone',\n",
       " 'Contact Email',\n",
       " 'Site Assessment',\n",
       " 'RAD/MERC Sweep',\n",
       " 'RAD/MERC Detected',\n",
       " 'Chimney',\n",
       " 'Chimney Inaccessible for ASB',\n",
       " 'NESHAP Walls',\n",
       " 'NESHAP Notification',\n",
       " 'Chimney Tipped',\n",
       " 'In Ground Pool',\n",
       " 'Large Propane Tank',\n",
       " 'Well',\n",
       " 'Septic',\n",
       " 'Solar Panels',\n",
       " 'Structural Walls',\n",
       " 'Need Contractor Assist for ASB',\n",
       " 'Vehicle(s)',\n",
       " 'Number of Vehicles',\n",
       " 'Vehicles Description',\n",
       " 'Number of Vehicles Removed',\n",
       " 'ASB Assessment',\n",
       " 'ASB Suspected',\n",
       " 'ASB Sample Sent',\n",
       " 'ASB Results Received',\n",
       " 'ASB Results',\n",
       " 'ASB Abatement',\n",
       " 'CAC Clearance',\n",
       " 'Ready for Debris Removal',\n",
       " 'Property Owner Contact',\n",
       " 'Contact Notes',\n",
       " 'If Unable to Contact, Attempted # of Contacts',\n",
       " 'If Unable to Contact, Who Approved to Move Forward',\n",
       " '811 Called',\n",
       " 'Debris Start',\n",
       " 'Debris Finish',\n",
       " 'State Rep Sign-Off for DR',\n",
       " 'Damage Caused during DR',\n",
       " 'Explanation of Damage during DR',\n",
       " 'Soil Sample',\n",
       " 'Soil Sample Results',\n",
       " 'Soil Boring',\n",
       " 'Soil Boring Results',\n",
       " 'Soil Re-scrape',\n",
       " 'Re-scrape Results',\n",
       " 'Soil Re-scrape 2',\n",
       " 'Re-scrape 2 Results',\n",
       " 'Soil Samples Approved',\n",
       " 'Hydromulch Complete',\n",
       " 'Wattles Complete',\n",
       " 'Erosion Control Waiver',\n",
       " 'FSO Complete',\n",
       " 'FSO Sent to County',\n",
       " 'Special Notes',\n",
       " 'Insurance',\n",
       " 'Latitude',\n",
       " 'Longitude',\n",
       " 'Lake Madrone Property',\n",
       " 'County Notified of Ineligibility',\n",
       " 'Approved for Special Inclusion',\n",
       " 'Tree Eligibility (Butte/Shasta/Trinity/Siskiyou)',\n",
       " 'Trinity Lease Lots Eligibility',\n",
       " 'Hazard Tree Work Package',\n",
       " 'Tree Felling Complete',\n",
       " 'Tree Removal Complete',\n",
       " 'Number of Trees Felled',\n",
       " 'Trees Final Site Walk',\n",
       " 'duplicate',\n",
       " 'Sync Status',\n",
       " 'Butte Vehicle Recon',\n",
       " 'Soils Hold']"
      ]
     },
     "execution_count": 3,
     "metadata": {},
     "output_type": "execute_result"
    }
   ],
   "source": [
    "df.columns.tolist()"
   ]
  },
  {
   "cell_type": "markdown",
   "id": "61583bca",
   "metadata": {},
   "source": [
    "# We have text in a number column(FILLNA), and we will need to covert from object to a numeric value for Number of Vehicles Removed & Number of Vehicles. "
   ]
  },
  {
   "cell_type": "code",
   "execution_count": null,
   "id": "a590bea2",
   "metadata": {},
   "outputs": [],
   "source": [
    "df.loc[:, ['Number of Vehicles', 'Number of Vehicles Removed']] = df.loc[:,['Number of Vehicles', 'Number of Vehicles Removed']].fillna(0)\n",
    "df.loc[:, \"Number of Vehicles\"] = pd.to_numeric(df.loc[:, \"Number of Vehicles\"], errors='coerce')\n",
    "df.loc[:, \"Number of Vehicles Removed\"] = pd.to_numeric(df.loc[:,\"Number of Vehicles Removed\"], errors='coerce')\n",
    "# df.to_excel(\"Removed NAN test.xlsx\")"
   ]
  },
  {
   "cell_type": "markdown",
   "id": "65dc9bcf",
   "metadata": {},
   "source": [
    "# For Butte only\n",
    "## More filters before geting our numbers\n",
    "### Fill in NAN with zeros-(DONE)\n",
    "### Take out all withdramn and Ineligible\n",
    "### num of vecs - only properties with num of vecs removed = 0"
   ]
  },
  {
   "cell_type": "code",
   "execution_count": null,
   "id": "c773cbb5",
   "metadata": {},
   "outputs": [],
   "source": [
    "# df[['Number of Vehicles', 'Number of Vehicles Removed']] = df[['Number of Vehicles', 'Number of Vehicles Removed']].fillna(0)\n",
    "Status = (\"Withdrawal\", \"Ineligible\")\n",
    "\n",
    "# df['Number of Vehicles Removed'] = df[(df['Number of Vehicles Removed'] == 0)]\n",
    "\n",
    "df = df[(df.loc[:, 'Number of Vehicles Removed'] == 0) &  (df.loc[:, \"County\"] == \"Butte\") & (~df.loc[:, 'Structural Status'].isin(Status))]\n",
    "df.loc[:, \"Number of Vehicles\"] = pd.to_numeric(df.loc[:, \"Number of Vehicles\"], errors='coerce')\n",
    "df.loc[:, \"Number of Vehicles Removed\"] = pd.to_numeric(df.loc[:, \"Number of Vehicles Removed\"], errors='coerce')\n",
    "\n",
    "\n",
    "\n",
    "# df.to_excel(\"Check nums with SS.xlsx\")"
   ]
  },
  {
   "cell_type": "markdown",
   "id": "49cc40e5",
   "metadata": {},
   "source": [
    "# Check for our data types before graphing/Doing any arthimatic"
   ]
  },
  {
   "cell_type": "code",
   "execution_count": null,
   "id": "7201841f",
   "metadata": {},
   "outputs": [],
   "source": [
    "df.dtypes[['Number of Vehicles', 'Number of Vehicles Removed', 'County']]"
   ]
  },
  {
   "cell_type": "markdown",
   "id": "600430c9",
   "metadata": {},
   "source": [
    "# This will group data by county and then only show the comlumns we need\n",
    "## This couts up the number in the column, this case columns, that we watn to show by county"
   ]
  },
  {
   "cell_type": "markdown",
   "id": "b407b165",
   "metadata": {},
   "source": [
    "##### In general, use COUNT() when you want to count how many rows contain a non-empty value for a specified column. Use SUM() when you want to get the total sum of all values in a column"
   ]
  },
  {
   "cell_type": "code",
   "execution_count": null,
   "id": "c2334a50",
   "metadata": {
    "scrolled": false
   },
   "outputs": [],
   "source": [
    "df[\"Totals\"] = df.loc[:, 'Number of Vehicles'] - df.loc[:, 'Number of Vehicles Removed']\n",
    "\n",
    "df.groupby('County')[['Number of Vehicles', 'Number of Vehicles Removed', \"Totals\"]].sum()\n",
    "\n",
    "# df.to_excel(\"Todays Vehicles by county.xlsx\")"
   ]
  },
  {
   "cell_type": "markdown",
   "id": "c073ad75",
   "metadata": {},
   "source": [
    "# Same as above but for both ways of doing it be sure to fill in the NAN. Not sure way but the .sum() doesnt act right if there are NAN"
   ]
  },
  {
   "cell_type": "code",
   "execution_count": null,
   "id": "785f062e",
   "metadata": {},
   "outputs": [],
   "source": [
    "sumvecs = df.groupby(\"County\").sum()\n",
    "filt = sumvecs.loc[:]\n",
    "filt"
   ]
  },
  {
   "cell_type": "markdown",
   "id": "6cbc0dab",
   "metadata": {},
   "source": [
    "# Use the above in one function. (ADD to pycharm)"
   ]
  },
  {
   "cell_type": "code",
   "execution_count": null,
   "id": "fe4dba69",
   "metadata": {},
   "outputs": [],
   "source": [
    "def sumVehicles(df):\n",
    "    df = df.copy()\n",
    "# We have text in a number column(FILLNA), and we will need to covert from object to a numeric value for Number of Vehicles Removed & Number of Vehicles\n",
    "    df.loc[:, ['Number of Vehicles', 'Number of Vehicles Removed']] = df.loc[:,['Number of Vehicles', 'Number of Vehicles Removed']].fillna(0)\n",
    "    df.loc[:, \"Number of Vehicles\"] = pd.to_numeric(df.loc[:, \"Number of Vehicles\"], errors='coerce')\n",
    "    df.loc[:, \"Number of Vehicles Removed\"] = pd.to_numeric(df.loc[:,\"Number of Vehicles Removed\"], errors='coerce')\n",
    "    \n",
    "#vairable for isin()\n",
    "    Status = (\"Withdrawal\", \"Ineligible\")\n",
    "\n",
    "# filter for butte county only, number of vhelice remove 0 only, take out \"status\" aka withdrawals anf ineligible\n",
    "    df = df[(df.loc[:, 'Number of Vehicles Removed'] == 0) &  (df.loc[:, \"County\"] == \"Butte\") & (~df.loc[:, 'Structural Status'].isin(Status))]\n",
    "    df.loc[:, \"Number of Vehicles\"] = pd.to_numeric(df.loc[:, \"Number of Vehicles\"], errors='coerce')\n",
    "    df.loc[:, \"Number of Vehicles Removed\"] = pd.to_numeric(df.loc[:, \"Number of Vehicles Removed\"], errors='coerce')\n",
    "    \n",
    "# Get out math stuff done nuber of vehicles minus vechilces removed. See how many is left\n",
    "    df.loc[:, [\"Vehicles Left\"]] = df.loc[:, \"Number of Vehicles\"] - df.loc[:, \"Number of Vehicles Removed\"]\n",
    "    \n",
    "# sums up all our counts for the columns named\n",
    "    return df.groupby(\"County\")[[\"Number of Vehicles\", \"Number of Vehicles Removed\", \"Vehicles Left\"]].sum()\n",
    "#     df.to_excel(\"Removed NAN test.xlsx\")\n",
    "sumVehicles(df)"
   ]
  },
  {
   "cell_type": "markdown",
   "id": "0bb58507",
   "metadata": {},
   "source": [
    "# Mark a double bar graph from the numbers above(WIP)"
   ]
  },
  {
   "cell_type": "code",
   "execution_count": null,
   "id": "a1ffa50e",
   "metadata": {},
   "outputs": [],
   "source": [
    "# county = df.groupby([\"County\"])[['Number of Vehicles','Number of Vehicles Removed']].count()\n",
    "\n",
    "# vehicles = county.loc[:, ['Number of Vehicles','Number of Vehicles Removed']]\n",
    "\n",
    "df.groupby(\"County\")[['Number of Vehicles','Number of Vehicles Removed']].count().unstack(0).plot.bar()\n",
    "# for num in range(len(county)):\n",
    "#     plt.text(num, vehicles[num], vehicles[num], ha='center', va='bottom')\n",
    "plt.show()"
   ]
  },
  {
   "cell_type": "code",
   "execution_count": null,
   "id": "543a1c54",
   "metadata": {},
   "outputs": [],
   "source": [
    "county = df.groupby([\"County\"])[['Number of Vehicles','Number of Vehicles Removed']].count()\n",
    "\n",
    "numVehicles = county.loc[:, 'Number of Vehicles']\n",
    "\n",
    "numVehicles.plot(kind='bar')\n",
    "for num in range(len(county)):\n",
    "    plt.text(num, numVehicles[num], numVehicles[num], ha='center', va='bottom')\n",
    "plt.show()"
   ]
  },
  {
   "cell_type": "code",
   "execution_count": null,
   "id": "bd2ea2e3",
   "metadata": {},
   "outputs": [],
   "source": []
  }
 ],
 "metadata": {
  "kernelspec": {
   "display_name": "Python 3",
   "language": "python",
   "name": "python3"
  },
  "language_info": {
   "codemirror_mode": {
    "name": "ipython",
    "version": 3
   },
   "file_extension": ".py",
   "mimetype": "text/x-python",
   "name": "python",
   "nbconvert_exporter": "python",
   "pygments_lexer": "ipython3",
   "version": "3.9.4"
  }
 },
 "nbformat": 4,
 "nbformat_minor": 5
}
