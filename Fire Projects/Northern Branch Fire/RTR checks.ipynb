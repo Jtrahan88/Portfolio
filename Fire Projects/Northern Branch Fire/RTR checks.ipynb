{
 "cells": [
  {
   "cell_type": "code",
   "execution_count": 1,
   "id": "2afbc838",
   "metadata": {},
   "outputs": [],
   "source": [
    "import pandas as pd\n",
    "import matplotlib.pyplot as plt\n",
    "import numpy as np\n",
    "import re"
   ]
  },
  {
   "cell_type": "code",
   "execution_count": 2,
   "id": "45f13208",
   "metadata": {},
   "outputs": [],
   "source": [
    "fileName = 'state & Field Tracker/cCalRecycle_NorthBranch_DataManagerTicketExport.xlsx'"
   ]
  },
  {
   "cell_type": "code",
   "execution_count": 3,
   "id": "c875029d",
   "metadata": {},
   "outputs": [],
   "source": [
    "df = pd.read_excel(fileName)"
   ]
  },
  {
   "cell_type": "code",
   "execution_count": 4,
   "id": "e46b8e46",
   "metadata": {
    "collapsed": true
   },
   "outputs": [
    {
     "data": {
      "text/plain": [
       "['Ticket Number',\n",
       " 'Crew Number',\n",
       " 'Load Date',\n",
       " 'Ticket Date',\n",
       " 'Start Time',\n",
       " 'End Time',\n",
       " 'GPSNorth',\n",
       " 'GPSWest',\n",
       " 'Is Void',\n",
       " 'Ticket Notes',\n",
       " 'Disposal Monitor Number',\n",
       " 'Disposal Monitor Name',\n",
       " 'Zone Name',\n",
       " 'GIS Zone1',\n",
       " 'GIS Zone2',\n",
       " 'GIS Zone3',\n",
       " 'GIS Zone4',\n",
       " 'GIS Zone5',\n",
       " 'Contractor Name',\n",
       " 'Service Code',\n",
       " 'Measurement',\n",
       " 'Unit Count',\n",
       " 'Addr No',\n",
       " 'Addr St',\n",
       " 'ROENumber']"
      ]
     },
     "execution_count": 4,
     "metadata": {},
     "output_type": "execute_result"
    }
   ],
   "source": [
    "df.columns.to_list()"
   ]
  },
  {
   "cell_type": "markdown",
   "id": "b8f7dffd",
   "metadata": {},
   "source": [
    "# Get rid of any discrepancies in the servie code column\n",
    "some 8A have an extra space, or an '  for example"
   ]
  },
  {
   "cell_type": "code",
   "execution_count": 5,
   "id": "0fd6568a",
   "metadata": {},
   "outputs": [],
   "source": [
    " spec_chars = [\"!\", '\"', \"#\", \"%\", \"&\", \"'\", \"(\", \")\",\n",
    "                  \"*\", \"+\", \",\", \"-\", \".\", \"/\", \":\", \";\", \"<\",\n",
    "                  \"=\", \">\", \"?\", \"@\", \"[\", \"\\\\\", \"]\", \"^\", \"_\",\n",
    "                  \"`\", \"{\", \"|\", \"}\", \"~\", \"–\"]\n",
    "for char in spec_chars:\n",
    "    df['Service Code'] = df['Service Code'].str.replace(char, \" \", regex=True)\n",
    "# take away empyt spaces    \n",
    "df['Service Code'] = df['Service Code'].str.split().str.join(\" \")"
   ]
  },
  {
   "cell_type": "markdown",
   "id": "e5638e06",
   "metadata": {},
   "source": [
    "# What is needed:\n",
    "* 8A = sum all 8A tickets\n",
    "* 8AA = sum only all VAILD 8AA tickets. monitor name != CALRECYCLE* any that do is invalid."
   ]
  },
  {
   "cell_type": "markdown",
   "id": "dd44c9e2",
   "metadata": {},
   "source": [
    "# Ticket day adjustment\n",
    "We need only the date and not the time for the ticket dates"
   ]
  },
  {
   "cell_type": "code",
   "execution_count": 6,
   "id": "c23bc5b3",
   "metadata": {},
   "outputs": [],
   "source": [
    "df['Ticket Date'] = df['Ticket Date'].dt.date"
   ]
  },
  {
   "cell_type": "markdown",
   "id": "11033160",
   "metadata": {},
   "source": [
    "Should make ticket date and object now as well"
   ]
  },
  {
   "cell_type": "code",
   "execution_count": 7,
   "id": "0056dce1",
   "metadata": {},
   "outputs": [
    {
     "data": {
      "text/plain": [
       "dtype('O')"
      ]
     },
     "execution_count": 7,
     "metadata": {},
     "output_type": "execute_result"
    }
   ],
   "source": [
    "df['Ticket Date'].dtypes"
   ]
  },
  {
   "cell_type": "markdown",
   "id": "e65eeba6",
   "metadata": {},
   "source": [
    "# variable conditions\n"
   ]
  },
  {
   "cell_type": "code",
   "execution_count": 8,
   "id": "73ec9499",
   "metadata": {},
   "outputs": [],
   "source": [
    "monitorName = ('CALRECYCLE','CALRECYCLE CALRECYCLE')\n",
    "serviceCodes = ('8A', '8AA')"
   ]
  },
  {
   "cell_type": "code",
   "execution_count": 9,
   "id": "8c1b40bb",
   "metadata": {},
   "outputs": [],
   "source": [
    "df2 = df\n",
    "df2 = df2[(df2['Is Void'] != True) & (df2['Service Code'].isin(serviceCodes)) & (~df2['Disposal Monitor Name'].isin(monitorName))]"
   ]
  },
  {
   "cell_type": "code",
   "execution_count": 10,
   "id": "b823d598",
   "metadata": {},
   "outputs": [],
   "source": [
    "d3 = df2[['Service Code', 'GIS Zone1', 'Unit Count','Ticket Date']].groupby(['GIS Zone1', 'Service Code','Ticket Date']).sum()"
   ]
  },
  {
   "cell_type": "code",
   "execution_count": 17,
   "id": "c6be11c2",
   "metadata": {
    "scrolled": false
   },
   "outputs": [],
   "source": [
    "d4 = df2[['Service Code', 'GIS Zone1', 'Unit Count','Ticket Date']].groupby(['Ticket Date']).sum()"
   ]
  },
  {
   "cell_type": "code",
   "execution_count": 40,
   "id": "b3b7a436",
   "metadata": {},
   "outputs": [],
   "source": [
    "d3.to_excel('Text dates.xlsx')"
   ]
  },
  {
   "cell_type": "code",
   "execution_count": null,
   "id": "141e704f",
   "metadata": {},
   "outputs": [],
   "source": [
    "d4.head()"
   ]
  },
  {
   "cell_type": "code",
   "execution_count": 35,
   "id": "d8c51045",
   "metadata": {
    "scrolled": false
   },
   "outputs": [
    {
     "data": {
      "image/png": "[encoded data removed]",
      "text/plain": [
       "<Figure size 1800x360 with 1 Axes>"
      ]
     },
     "metadata": {
      "needs_background": "light"
     },
     "output_type": "display_data"
    }
   ],
   "source": [
    "d4.plot(kind='bar', figsize=(25,5))\n",
    "# plt.savefig('test.png', dpi=100)"
   ]
  },
  {
   "cell_type": "markdown",
   "id": "f7172bae",
   "metadata": {},
   "source": [
    "# plot graph with numbers:\n"
   ]
  },
  {
   "cell_type": "code",
   "execution_count": 39,
   "id": "f38a6ad8",
   "metadata": {
    "scrolled": true
   },
   "outputs": [
    {
     "data": {
      "text/html": [
       "<div>\n",
       "<style scoped>\n",
       "    .dataframe tbody tr th:only-of-type {\n",
       "        vertical-align: middle;\n",
       "    }\n",
       "\n",
       "    .dataframe tbody tr th {\n",
       "        vertical-align: top;\n",
       "    }\n",
       "\n",
       "    .dataframe thead th {\n",
       "        text-align: right;\n",
       "    }\n",
       "</style>\n",
       "<table border=\"1\" class=\"dataframe\">\n",
       "  <thead>\n",
       "    <tr style=\"text-align: right;\">\n",
       "      <th></th>\n",
       "      <th>Unit Count</th>\n",
       "    </tr>\n",
       "    <tr>\n",
       "      <th>Ticket Date</th>\n",
       "      <th></th>\n",
       "    </tr>\n",
       "  </thead>\n",
       "  <tbody>\n",
       "    <tr>\n",
       "      <th>2021-03-23</th>\n",
       "      <td>50.0</td>\n",
       "    </tr>\n",
       "    <tr>\n",
       "      <th>2021-03-24</th>\n",
       "      <td>15.0</td>\n",
       "    </tr>\n",
       "    <tr>\n",
       "      <th>2021-03-25</th>\n",
       "      <td>19.0</td>\n",
       "    </tr>\n",
       "    <tr>\n",
       "      <th>2021-03-26</th>\n",
       "      <td>26.0</td>\n",
       "    </tr>\n",
       "    <tr>\n",
       "      <th>2021-03-27</th>\n",
       "      <td>50.0</td>\n",
       "    </tr>\n",
       "    <tr>\n",
       "      <th>2021-03-29</th>\n",
       "      <td>16.0</td>\n",
       "    </tr>\n",
       "    <tr>\n",
       "      <th>2021-03-30</th>\n",
       "      <td>19.0</td>\n",
       "    </tr>\n",
       "    <tr>\n",
       "      <th>2021-03-31</th>\n",
       "      <td>25.0</td>\n",
       "    </tr>\n",
       "    <tr>\n",
       "      <th>2021-04-01</th>\n",
       "      <td>9.0</td>\n",
       "    </tr>\n",
       "    <tr>\n",
       "      <th>2021-04-02</th>\n",
       "      <td>68.0</td>\n",
       "    </tr>\n",
       "    <tr>\n",
       "      <th>2021-04-05</th>\n",
       "      <td>55.0</td>\n",
       "    </tr>\n",
       "    <tr>\n",
       "      <th>2021-04-06</th>\n",
       "      <td>38.0</td>\n",
       "    </tr>\n",
       "    <tr>\n",
       "      <th>2021-04-07</th>\n",
       "      <td>188.0</td>\n",
       "    </tr>\n",
       "    <tr>\n",
       "      <th>2021-04-08</th>\n",
       "      <td>119.0</td>\n",
       "    </tr>\n",
       "    <tr>\n",
       "      <th>2021-04-09</th>\n",
       "      <td>98.0</td>\n",
       "    </tr>\n",
       "    <tr>\n",
       "      <th>2021-04-10</th>\n",
       "      <td>138.0</td>\n",
       "    </tr>\n",
       "    <tr>\n",
       "      <th>2021-04-12</th>\n",
       "      <td>166.0</td>\n",
       "    </tr>\n",
       "    <tr>\n",
       "      <th>2021-04-13</th>\n",
       "      <td>157.0</td>\n",
       "    </tr>\n",
       "    <tr>\n",
       "      <th>2021-04-14</th>\n",
       "      <td>98.0</td>\n",
       "    </tr>\n",
       "    <tr>\n",
       "      <th>2021-04-15</th>\n",
       "      <td>82.0</td>\n",
       "    </tr>\n",
       "    <tr>\n",
       "      <th>2021-04-16</th>\n",
       "      <td>145.0</td>\n",
       "    </tr>\n",
       "    <tr>\n",
       "      <th>2021-04-17</th>\n",
       "      <td>174.0</td>\n",
       "    </tr>\n",
       "    <tr>\n",
       "      <th>2021-04-19</th>\n",
       "      <td>264.0</td>\n",
       "    </tr>\n",
       "    <tr>\n",
       "      <th>2021-04-20</th>\n",
       "      <td>116.0</td>\n",
       "    </tr>\n",
       "    <tr>\n",
       "      <th>2021-04-21</th>\n",
       "      <td>224.0</td>\n",
       "    </tr>\n",
       "    <tr>\n",
       "      <th>2021-04-22</th>\n",
       "      <td>96.0</td>\n",
       "    </tr>\n",
       "    <tr>\n",
       "      <th>2021-04-23</th>\n",
       "      <td>70.0</td>\n",
       "    </tr>\n",
       "    <tr>\n",
       "      <th>2021-04-24</th>\n",
       "      <td>18.0</td>\n",
       "    </tr>\n",
       "    <tr>\n",
       "      <th>2021-04-26</th>\n",
       "      <td>121.0</td>\n",
       "    </tr>\n",
       "    <tr>\n",
       "      <th>2021-04-27</th>\n",
       "      <td>103.0</td>\n",
       "    </tr>\n",
       "    <tr>\n",
       "      <th>2021-04-28</th>\n",
       "      <td>33.0</td>\n",
       "    </tr>\n",
       "    <tr>\n",
       "      <th>2021-04-29</th>\n",
       "      <td>50.0</td>\n",
       "    </tr>\n",
       "    <tr>\n",
       "      <th>2021-04-30</th>\n",
       "      <td>50.0</td>\n",
       "    </tr>\n",
       "    <tr>\n",
       "      <th>2021-05-01</th>\n",
       "      <td>36.0</td>\n",
       "    </tr>\n",
       "    <tr>\n",
       "      <th>2021-05-03</th>\n",
       "      <td>230.0</td>\n",
       "    </tr>\n",
       "    <tr>\n",
       "      <th>2021-05-04</th>\n",
       "      <td>141.0</td>\n",
       "    </tr>\n",
       "    <tr>\n",
       "      <th>2021-05-05</th>\n",
       "      <td>165.0</td>\n",
       "    </tr>\n",
       "    <tr>\n",
       "      <th>2021-05-07</th>\n",
       "      <td>90.0</td>\n",
       "    </tr>\n",
       "    <tr>\n",
       "      <th>2021-05-10</th>\n",
       "      <td>128.0</td>\n",
       "    </tr>\n",
       "    <tr>\n",
       "      <th>2021-05-11</th>\n",
       "      <td>87.0</td>\n",
       "    </tr>\n",
       "    <tr>\n",
       "      <th>2021-05-12</th>\n",
       "      <td>74.0</td>\n",
       "    </tr>\n",
       "    <tr>\n",
       "      <th>2021-05-13</th>\n",
       "      <td>177.0</td>\n",
       "    </tr>\n",
       "    <tr>\n",
       "      <th>2021-05-14</th>\n",
       "      <td>112.0</td>\n",
       "    </tr>\n",
       "    <tr>\n",
       "      <th>2021-05-15</th>\n",
       "      <td>139.0</td>\n",
       "    </tr>\n",
       "    <tr>\n",
       "      <th>2021-05-17</th>\n",
       "      <td>47.0</td>\n",
       "    </tr>\n",
       "    <tr>\n",
       "      <th>2021-05-18</th>\n",
       "      <td>87.0</td>\n",
       "    </tr>\n",
       "    <tr>\n",
       "      <th>2021-05-19</th>\n",
       "      <td>134.0</td>\n",
       "    </tr>\n",
       "    <tr>\n",
       "      <th>2021-05-20</th>\n",
       "      <td>200.0</td>\n",
       "    </tr>\n",
       "    <tr>\n",
       "      <th>2021-05-21</th>\n",
       "      <td>177.0</td>\n",
       "    </tr>\n",
       "    <tr>\n",
       "      <th>2021-05-22</th>\n",
       "      <td>233.0</td>\n",
       "    </tr>\n",
       "  </tbody>\n",
       "</table>\n",
       "</div>"
      ],
      "text/plain": [
       "             Unit Count\n",
       "Ticket Date            \n",
       "2021-03-23         50.0\n",
       "2021-03-24         15.0\n",
       "2021-03-25         19.0\n",
       "2021-03-26         26.0\n",
       "2021-03-27         50.0\n",
       "2021-03-29         16.0\n",
       "2021-03-30         19.0\n",
       "2021-03-31         25.0\n",
       "2021-04-01          9.0\n",
       "2021-04-02         68.0\n",
       "2021-04-05         55.0\n",
       "2021-04-06         38.0\n",
       "2021-04-07        188.0\n",
       "2021-04-08        119.0\n",
       "2021-04-09         98.0\n",
       "2021-04-10        138.0\n",
       "2021-04-12        166.0\n",
       "2021-04-13        157.0\n",
       "2021-04-14         98.0\n",
       "2021-04-15         82.0\n",
       "2021-04-16        145.0\n",
       "2021-04-17        174.0\n",
       "2021-04-19        264.0\n",
       "2021-04-20        116.0\n",
       "2021-04-21        224.0\n",
       "2021-04-22         96.0\n",
       "2021-04-23         70.0\n",
       "2021-04-24         18.0\n",
       "2021-04-26        121.0\n",
       "2021-04-27        103.0\n",
       "2021-04-28         33.0\n",
       "2021-04-29         50.0\n",
       "2021-04-30         50.0\n",
       "2021-05-01         36.0\n",
       "2021-05-03        230.0\n",
       "2021-05-04        141.0\n",
       "2021-05-05        165.0\n",
       "2021-05-07         90.0\n",
       "2021-05-10        128.0\n",
       "2021-05-11         87.0\n",
       "2021-05-12         74.0\n",
       "2021-05-13        177.0\n",
       "2021-05-14        112.0\n",
       "2021-05-15        139.0\n",
       "2021-05-17         47.0\n",
       "2021-05-18         87.0\n",
       "2021-05-19        134.0\n",
       "2021-05-20        200.0\n",
       "2021-05-21        177.0\n",
       "2021-05-22        233.0"
      ]
     },
     "execution_count": 39,
     "metadata": {},
     "output_type": "execute_result"
    }
   ],
   "source": [
    "d4.head(50)"
   ]
  },
  {
   "cell_type": "code",
   "execution_count": null,
   "id": "ae470921",
   "metadata": {},
   "outputs": [],
   "source": []
  }
 ],
 "metadata": {
  "kernelspec": {
   "display_name": "Python 3",
   "language": "python",
   "name": "python3"
  },
  "language_info": {
   "codemirror_mode": {
    "name": "ipython",
    "version": 3
   },
   "file_extension": ".py",
   "mimetype": "text/x-python",
   "name": "python",
   "nbconvert_exporter": "python",
   "pygments_lexer": "ipython3",
   "version": "3.9.4"
  }
 },
 "nbformat": 4,
 "nbformat_minor": 5
}
