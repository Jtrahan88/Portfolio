{
 "cells": [
  {
   "cell_type": "code",
   "execution_count": 1,
   "id": "98fbd751",
   "metadata": {},
   "outputs": [],
   "source": [
    "import pandas as pd\n",
    "import numpy as np\n",
    "import time"
   ]
  },
  {
   "cell_type": "markdown",
   "id": "62fa728a",
   "metadata": {},
   "source": [
    "# RTR has 42 APNs with a 000_ or 000# with the rest of adress for APN. Wooul dneed to build anoher aspect to make this work. Used VBA for now\n",
    "* put all 42 APNs in a list and make a place holder list, then use this list to skip these APNs in the FSO and SMartshett set up"
   ]
  },
  {
   "cell_type": "markdown",
   "id": "4a625d37",
   "metadata": {},
   "source": [
    "Audits the FSO tracker against the State tracker and the Debris Crew(RTR) ticket information. \n",
    "\n",
    "Compares that each column to each tracker to have 100% accuracy as FEMA requires.\n",
    "\n",
    "Erosion Service code for this project: 72A\n",
    "\n",
    "RTR tracker has a special character in the zone name, so made a for loop to get rid of all of these to match correctly\n",
    "\n",
    "Also APNs are formatted differently (Used RE to solve this)\n",
    "* RTR- has the APN set up as 000000000\n",
    "* State Tracker - has the APN set up as 000-000-000-000\n",
    "* Field trackers has the APN set up as 000-000-000"
   ]
  },
  {
   "cell_type": "code",
   "execution_count": 2,
   "id": "78046563",
   "metadata": {},
   "outputs": [],
   "source": [
    "today = time.strftime('%m-%d-%y')"
   ]
  },
  {
   "cell_type": "markdown",
   "id": "de6bb25f",
   "metadata": {},
   "source": [
    "# SmartSheets, and FSO tracker Dataframe read ins"
   ]
  },
  {
   "cell_type": "code",
   "execution_count": 3,
   "id": "67413a7f",
   "metadata": {},
   "outputs": [],
   "source": [
    "df2 = pd.read_excel('State-Field and all trackers/Northern Branch Phase II Debris Removal Ops.xlsx',\n",
    "                    usecols=['APN','Street #', 'Street Name','County','Debris Crew', 'Haz Trees', 'Soil Samples Approved',\n",
    "                             'Hydromulch Complete', 'Wattles Complete', 'Erosion Control Waiver', 'FSO Complete',\n",
    "                             'FSO Sent to County', 'Trees Final Site Walk','Hazard Tree Status'],\n",
    "                    parse_dates=True)\n",
    "\n"
   ]
  },
  {
   "cell_type": "code",
   "execution_count": 4,
   "id": "37b1d5e1",
   "metadata": {},
   "outputs": [],
   "source": [
    "df3 = pd.read_excel(\"State-Field and all trackers/FSO Tracker.xlsx\")"
   ]
  },
  {
   "cell_type": "code",
   "execution_count": 5,
   "id": "0199dda0",
   "metadata": {},
   "outputs": [],
   "source": [
    "# RTR = df1.copy()\n",
    "SmartSheet = df2.copy()\n",
    "FSOTracker = df3.copy()"
   ]
  },
  {
   "cell_type": "code",
   "execution_count": 6,
   "id": "8ba50acf",
   "metadata": {},
   "outputs": [],
   "source": [
    "# temporay until \n",
    "# SmartSheet.drop(labels=0, inplace=True)"
   ]
  },
  {
   "cell_type": "markdown",
   "id": "e243d1a5",
   "metadata": {},
   "source": [
    "# APN RE set up for all DateFrames"
   ]
  },
  {
   "cell_type": "code",
   "execution_count": 7,
   "id": "4dfb3ea8",
   "metadata": {},
   "outputs": [],
   "source": [
    "SmartSheet['APN Formated'] = SmartSheet['APN'].str.replace('-000', \"\").str.replace('-', \"\").str.extract(r'(\\d{1,9}.*)')"
   ]
  },
  {
   "cell_type": "code",
   "execution_count": 8,
   "id": "b87aabf0",
   "metadata": {},
   "outputs": [],
   "source": [
    "FSOTracker['APN Formated'] = FSOTracker['APN'].str.replace('-000', \"\").str.replace(\"-\", \"\").str.extract(r\"(\\d{1,9}.*)\")"
   ]
  },
  {
   "cell_type": "code",
   "execution_count": 9,
   "id": "9c24a845",
   "metadata": {},
   "outputs": [],
   "source": [
    "FSOTracker.rename(columns={'Ticket': 'FSO_Ticket'}, inplace=True)"
   ]
  },
  {
   "cell_type": "code",
   "execution_count": 10,
   "id": "a265f864",
   "metadata": {},
   "outputs": [],
   "source": [
    "merge1 = SmartSheet.merge(FSOTracker,\n",
    "                         left_on=\"APN Formated\",\n",
    "                         right_on=\"APN Formated\",\n",
    "                         how='outer',\n",
    "                         suffixes=('_SS', '_FSO'))"
   ]
  },
  {
   "cell_type": "code",
   "execution_count": 11,
   "id": "598f3ac6",
   "metadata": {},
   "outputs": [],
   "source": [
    "merge1 = merge1[['APN_SS','APN Formated','APN_FSO','Debris Crew', 'Street #_SS', 'Street Name_SS', 'County_SS',\n",
    "               'FSO Pass/Fail','FSO_Ticket','Comments','Field Team QC Erosion', 'Field Team QC Erosion for Field APNs',\n",
    "               'Erosion Control Waiver_SS', 'Erosion Control Waiver_FSO',\n",
    "               'FSO Complete_SS', 'FSO Complete_FSO',\n",
    "               'FSO Sent to County_SS', 'FSO Sent to County_FSO', 'Complete By']]"
   ]
  },
  {
   "cell_type": "code",
   "execution_count": 12,
   "id": "1783eb51",
   "metadata": {},
   "outputs": [],
   "source": [
    "merge1.set_index('APN_SS', inplace=True)"
   ]
  },
  {
   "cell_type": "code",
   "execution_count": 13,
   "id": "0a3c6f26",
   "metadata": {},
   "outputs": [],
   "source": [
    "merge1.to_excel('Checks FSO Complete-Sent to county matches.xlsx')"
   ]
  },
  {
   "cell_type": "markdown",
   "id": "73615bc0",
   "metadata": {},
   "source": [
    "# RTR setup \n",
    "42 APNs have the -000 before the _ or # chars. This causes a problem with our RE code so will keep this in the VBA for now to get process going. "
   ]
  },
  {
   "cell_type": "code",
   "execution_count": 14,
   "id": "0321c78c",
   "metadata": {},
   "outputs": [],
   "source": [
    "# df1 = pd.read_excel('State-Field and all trackers/aDataManagerTicketExport.xlsx', \n",
    "#                     usecols=['Zone Name',\"End Time\", \"Is Void\", \"Ticket Notes\",\"Service Code\",\n",
    "#                                \"Unit Count\", \"Disposal Monitor Name\", \"Addr No\",\"Addr St\", \"Ticket Number\"])"
   ]
  },
  {
   "cell_type": "code",
   "execution_count": 15,
   "id": "fc1b0dd9",
   "metadata": {},
   "outputs": [],
   "source": [
    "# variables\n",
    "# service_code = [\"72A\"]\n",
    "\n",
    "# speacial_chars = [\"!\", '\"', \"#\", \"%\", \"&\", \"'\", \"(\", \")\",\n",
    "#                   \"*\", \"+\", \",\", \"-\", \".\", \"/\", \":\", \";\", \"<\",\n",
    "#                   \"=\", \">\", \"?\", \"@\", \"[\", \"\\\\\", \"]\", \"^\", \"_\",\n",
    "#                   \"`\", \"{\", \"|\", \"}\", \"~\", \"–\"]\n"
   ]
  },
  {
   "cell_type": "code",
   "execution_count": 16,
   "id": "17d1ff2b",
   "metadata": {},
   "outputs": [],
   "source": [
    "# Get rid of all other Serice codes other than erosion \"72A\" have to use a for loop to get rid of special chars\n",
    "# for char in speacial_chars:\n",
    "#     RTR['Service Code'] = RTR['Service Code'].str.replace(char, \" \", regex=True)\n",
    "\n",
    "# # the above add a space so we need to join a them back together without the space\n",
    "# RTR['Service Code'] = RTR['Service Code'].str.split().str.join(\" \")"
   ]
  },
  {
   "cell_type": "code",
   "execution_count": 17,
   "id": "0bc886f6",
   "metadata": {},
   "outputs": [],
   "source": [
    "# take out all the Voided tickets and the service codes not beloning to 72A\n",
    "# RTR = RTR[(RTR['Is Void'] != 'True') & (RTR['Service Code'].isin(service_code))]"
   ]
  },
  {
   "cell_type": "code",
   "execution_count": 18,
   "id": "9f6ca9db",
   "metadata": {},
   "outputs": [],
   "source": [
    "# RTR.rename(columns={'Zone Name': \"RTR APN\"}, inplace=True)"
   ]
  },
  {
   "cell_type": "code",
   "execution_count": 19,
   "id": "f51f5ca4",
   "metadata": {},
   "outputs": [],
   "source": [
    "# RTR['RTR APN'] = RTR['RTR APN'].apply(lambda x: x.lower())"
   ]
  },
  {
   "cell_type": "code",
   "execution_count": 20,
   "id": "f293195c",
   "metadata": {},
   "outputs": [],
   "source": [
    "# Final = merge1.merge(RTR,\n",
    "#                     left_on='APN Formated',\n",
    "#                     right_on='RTR APN',\n",
    "#                     how='outer')"
   ]
  },
  {
   "cell_type": "code",
   "execution_count": 21,
   "id": "91ed0c52",
   "metadata": {},
   "outputs": [],
   "source": [
    "# Final.set_index('APN_SS', inplace=True)"
   ]
  },
  {
   "cell_type": "code",
   "execution_count": 22,
   "id": "143ee579",
   "metadata": {},
   "outputs": [],
   "source": [
    "# Final = Final[['APN Formated', 'RTR APN','Service Code','Unit Count','APN_FSO', 'Street #_SS', 'Street Name_SS', 'County_SS',\n",
    "#                'FSO Pass/Fail','FSO_Ticket', 'Ticket Number',  'End Time',\n",
    "#                'Hydromulch Complete_SS', 'Wattles Complete_SS',\n",
    "#                'Erosion Control Waiver_SS', 'Erosion Control Waiver_FSO',\n",
    "#                'Soil Samples Approved_SS', 'Soil Samples Approved_FSO',\n",
    "#                'FSO Complete_SS', 'FSO Complete_FSO',\n",
    "#                'FSO Sent to County_SS', 'FSO Sent to County_FSO']]"
   ]
  },
  {
   "cell_type": "code",
   "execution_count": 23,
   "id": "fdf9d01f",
   "metadata": {},
   "outputs": [],
   "source": [
    "# Final.to_excel('test.xlsx')"
   ]
  },
  {
   "cell_type": "code",
   "execution_count": null,
   "id": "89601b04",
   "metadata": {},
   "outputs": [],
   "source": []
  }
 ],
 "metadata": {
  "kernelspec": {
   "display_name": "Python 3",
   "language": "python",
   "name": "python3"
  },
  "language_info": {
   "codemirror_mode": {
    "name": "ipython",
    "version": 3
   },
   "file_extension": ".py",
   "mimetype": "text/x-python",
   "name": "python",
   "nbconvert_exporter": "python",
   "pygments_lexer": "ipython3",
   "version": "3.9.4"
  }
 },
 "nbformat": 4,
 "nbformat_minor": 5
}
