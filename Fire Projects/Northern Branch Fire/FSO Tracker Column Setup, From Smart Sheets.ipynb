{
 "cells": [
  {
   "cell_type": "code",
   "execution_count": 1,
   "id": "0a6942ff",
   "metadata": {},
   "outputs": [],
   "source": [
    "import pandas as pd\n",
    "import time"
   ]
  },
  {
   "cell_type": "code",
   "execution_count": 2,
   "id": "fab288dd",
   "metadata": {},
   "outputs": [],
   "source": [
    "today = time.strftime('%m-%d-%y')\n",
    "Smart_sheets = ('State-Field and all trackers/Northern Branch Phase II Debris Removal Ops.xlsx')"
   ]
  },
  {
   "cell_type": "code",
   "execution_count": 3,
   "id": "b75b298a",
   "metadata": {},
   "outputs": [],
   "source": [
    "df = pd.read_excel(Smart_sheets, index_col='APN', usecols=['APN','Street #','Street Name','County','Haz Trees',\n",
    "                                                         'Soil Samples Approved', 'Hydromulch Complete',\n",
    "                                                         'Wattles Complete', 'Erosion Control Waiver', 'FSO Complete',\n",
    "                                                         'FSO Sent to County', 'Trees Final Site Walk', 'Hazard Tree Status', 'Debris Crew'],\n",
    "                  parse_dates=['Soil Samples Approved', 'Hydromulch Complete','Wattles Complete',\n",
    "                                'Erosion Control Waiver', 'FSO Complete', 'FSO Sent to County', 'Trees Final Site Walk'])"
   ]
  },
  {
   "cell_type": "code",
   "execution_count": 4,
   "id": "4ede8ad7",
   "metadata": {},
   "outputs": [],
   "source": [
    "#df.info()"
   ]
  },
  {
   "cell_type": "code",
   "execution_count": 5,
   "id": "535043fa",
   "metadata": {},
   "outputs": [],
   "source": [
    "# rearrange columns for Google tracker\n",
    "df = df[['Street #','Street Name', 'County','Haz Trees', 'Soil Samples Approved', 'Hydromulch Complete',\n",
    "                                                         'Wattles Complete', 'Erosion Control Waiver', 'FSO Complete',\n",
    "                                                         'FSO Sent to County', 'Trees Final Site Walk', 'Hazard Tree Status','Debris Crew']]"
   ]
  },
  {
   "cell_type": "code",
   "execution_count": 6,
   "id": "467c7153",
   "metadata": {},
   "outputs": [],
   "source": [
    "# put to excel fo easy transfer to Google Excel Docs\n",
    "df.to_excel(\"FSO Tracker Coulmn Setup \" + today + \".xlsx\")"
   ]
  },
  {
   "cell_type": "code",
   "execution_count": null,
   "id": "060f4ba3",
   "metadata": {},
   "outputs": [],
   "source": []
  },
  {
   "cell_type": "code",
   "execution_count": null,
   "id": "b683a7b7",
   "metadata": {},
   "outputs": [],
   "source": []
  }
 ],
 "metadata": {
  "kernelspec": {
   "display_name": "Python 3",
   "language": "python",
   "name": "python3"
  },
  "language_info": {
   "codemirror_mode": {
    "name": "ipython",
    "version": 3
   },
   "file_extension": ".py",
   "mimetype": "text/x-python",
   "name": "python",
   "nbconvert_exporter": "python",
   "pygments_lexer": "ipython3",
   "version": "3.9.4"
  }
 },
 "nbformat": 4,
 "nbformat_minor": 5
}
