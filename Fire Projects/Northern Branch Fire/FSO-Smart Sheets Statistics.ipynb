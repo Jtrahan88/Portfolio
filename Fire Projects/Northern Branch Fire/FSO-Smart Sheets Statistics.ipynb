{
 "cells": [
  {
   "cell_type": "code",
   "execution_count": 1,
   "id": "76fb47f6",
   "metadata": {},
   "outputs": [],
   "source": [
    "import pandas as pd\n",
    "pd.plotting.register_matplotlib_converters()\n",
    "import time\n",
    "import seaborn as sns\n",
    "import matplotlib.pyplot as plt\n",
    "%matplotlib inline"
   ]
  },
  {
   "cell_type": "code",
   "execution_count": 2,
   "id": "1db6e505",
   "metadata": {},
   "outputs": [],
   "source": [
    "# today = time.strftime('%m-%d-%y')"
   ]
  },
  {
   "cell_type": "code",
   "execution_count": 3,
   "id": "c53b0ed7",
   "metadata": {},
   "outputs": [],
   "source": [
    "# read in our FSO tracker and Smartsheets DataFrames\n",
    "FSO = pd.read_excel(\"State-Field and all trackers/FSO Tracker.xlsx\")\n",
    "ss = pd.read_excel(\"State-Field and all trackers/Northern Branch Phase II Debris Removal Ops.xlsx\")"
   ]
  },
  {
   "cell_type": "code",
   "execution_count": 4,
   "id": "c35486d2",
   "metadata": {
    "scrolled": false
   },
   "outputs": [],
   "source": [
    "# ss.info(verbose=True)"
   ]
  },
  {
   "cell_type": "code",
   "execution_count": 5,
   "id": "3a9a99fa",
   "metadata": {},
   "outputs": [],
   "source": [
    "# FSO.info()"
   ]
  },
  {
   "cell_type": "code",
   "execution_count": 19,
   "id": "01f289f9",
   "metadata": {},
   "outputs": [],
   "source": [
    "#Selecct comluns to review for FSO tracker\n",
    "#comment section to see waiting ECQC field checks in this case\n",
    "fso1 = FSO[['APN','FSO Pass/Fail','Field Team QC Erosion', 'Comments', 'FSO Complete', 'FSO Sent to County']]"
   ]
  },
  {
   "cell_type": "code",
   "execution_count": 20,
   "id": "c69e5fec",
   "metadata": {},
   "outputs": [],
   "source": [
    "# Debris crew is the location of the card on smart sheets\n",
    "Sheets1= ss[[\"APN\",'Street #','Street Name',\"Debris Crew\", \"Erosion Control Waiver\", 'County']]"
   ]
  },
  {
   "cell_type": "code",
   "execution_count": 21,
   "id": "0a46252f",
   "metadata": {},
   "outputs": [],
   "source": [
    "# combined our data frams use outer to keep all data as is. \n",
    "FSO_SmartSheets = Sheets1.merge(fso1,\n",
    "                     left_on='APN',\n",
    "                     right_on='APN',\n",
    "                     how='outer')"
   ]
  },
  {
   "cell_type": "code",
   "execution_count": 22,
   "id": "a45add08",
   "metadata": {},
   "outputs": [],
   "source": [
    "FSO_SmartSheets.set_index('APN', inplace=True)"
   ]
  },
  {
   "cell_type": "markdown",
   "id": "259efdbe",
   "metadata": {},
   "source": [
    "# Need 75% to be field checked for contract requirements"
   ]
  },
  {
   "cell_type": "code",
   "execution_count": 8,
   "id": "d267695a",
   "metadata": {},
   "outputs": [
    {
     "name": "stderr",
     "output_type": "stream",
     "text": [
      "c:\\users\\jacque.trahan\\appdata\\local\\programs\\python\\python39\\lib\\site-packages\\fuzzywuzzy\\fuzz.py:11: UserWarning: Using slow pure-python SequenceMatcher. Install python-Levenshtein to remove this warning\n",
      "  warnings.warn('Using slow pure-python SequenceMatcher. Install python-Levenshtein to remove this warning')\n"
     ]
    }
   ],
   "source": [
    "import fuzzywuzzy\n",
    "from fuzzywuzzy import process\n",
    "import chardet\n",
    "# Fuzzy matching: The process of automatically finding text strings that are very similar to the target string. \n",
    "# In general, a string is considered \"closer\" to another one the fewer characters you'd need to change if you were \n",
    "# transforming one string into another. So \"apple\" and \"snapple\" are two changes away from each other (add \"s\" and \"n\") \n",
    "# while \"in\" and \"on\" and one change away (rplace \"i\" with \"o\"). You won't always be able to rely on fuzzy matching 100%, \n",
    "# but it will usually end up saving you at least a little time."
   ]
  },
  {
   "cell_type": "code",
   "execution_count": 9,
   "id": "554af230",
   "metadata": {},
   "outputs": [],
   "source": [
    "FSO['Field Team QC Erosion'] = FSO['Field Team QC Erosion'].astype(str).fillna('None')"
   ]
  },
  {
   "cell_type": "code",
   "execution_count": 10,
   "id": "2021c85b",
   "metadata": {},
   "outputs": [],
   "source": [
    "#make everything lowercase\n",
    "FSO['Field Team QC Erosion'] = FSO['Field Team QC Erosion'].str.lower()"
   ]
  },
  {
   "cell_type": "code",
   "execution_count": 11,
   "id": "645272ea",
   "metadata": {},
   "outputs": [],
   "source": [
    "# get ride of white spaces\n",
    "FSO['Field Team QC Erosion'] = FSO['Field Team QC Erosion'].str.strip()"
   ]
  },
  {
   "cell_type": "code",
   "execution_count": 12,
   "id": "fa7bb496",
   "metadata": {},
   "outputs": [
    {
     "data": {
      "text/plain": [
       "array(['ecw', 'fail', 'nan', 'no form', 'pass'], dtype=object)"
      ]
     },
     "execution_count": 12,
     "metadata": {},
     "output_type": "execute_result"
    }
   ],
   "source": [
    "status = FSO['Field Team QC Erosion'].unique()\n",
    "status.sort()\n",
    "status"
   ]
  },
  {
   "cell_type": "code",
   "execution_count": 13,
   "id": "821176ea",
   "metadata": {
    "scrolled": true
   },
   "outputs": [
    {
     "data": {
      "text/plain": [
       "[('pass', 100), ('nan', 29), ('fail', 25), ('ecw', 0), ('no form', 0)]"
      ]
     },
     "execution_count": 13,
     "metadata": {},
     "output_type": "execute_result"
    }
   ],
   "source": [
    "matches = fuzzywuzzy.process.extract('pass', status, limit=10, scorer=fuzzywuzzy.fuzz.token_sort_ratio)\n",
    "matches"
   ]
  },
  {
   "cell_type": "code",
   "execution_count": 14,
   "id": "7b8cd819",
   "metadata": {},
   "outputs": [],
   "source": [
    "# function to replace differnt vareations in our columns\n",
    "def replace_matches_in_columns(df, column, string_to_match, min_ratio= 89):\n",
    "    #get a list of unique strings\n",
    "    strings = df[column].unique()\n",
    "    \n",
    "    #get the top 10 closest matches to our input string\n",
    "    matches = fuzzywuzzy.process.extract(string_to_match, strings, limit=10, scorer=fuzzywuzzy.fuzz.token_sort_ratio)\n",
    "    \n",
    "    # only get matches with a ratio > 89\n",
    "    close_matches = [matches[0] for matches in matches if matches[1] >=min_ratio]\n",
    "    \n",
    "    #get the rows of all the close matches in our dataframe\n",
    "    rows_with_matches = df[column].isin(close_matches)\n",
    "    \n",
    "    #replace all rows with close matches with the input matches\n",
    "    df.loc[rows_with_matches, column] = string_to_match\n",
    "    \n",
    "    #print all done\n",
    "    print('All done!')\n",
    "    "
   ]
  },
  {
   "cell_type": "code",
   "execution_count": 15,
   "id": "9994a116",
   "metadata": {},
   "outputs": [
    {
     "name": "stdout",
     "output_type": "stream",
     "text": [
      "All done!\n"
     ]
    }
   ],
   "source": [
    "replace_matches_in_columns(df=FSO, column='Field Team QC Erosion',string_to_match='pass')"
   ]
  },
  {
   "cell_type": "code",
   "execution_count": 16,
   "id": "7cbea90c",
   "metadata": {},
   "outputs": [
    {
     "data": {
      "text/plain": [
       "array(['ecw', 'fail', 'nan', 'no form', 'pass'], dtype=object)"
      ]
     },
     "execution_count": 16,
     "metadata": {},
     "output_type": "execute_result"
    }
   ],
   "source": [
    "check = FSO['Field Team QC Erosion'].unique()\n",
    "check.sort()\n",
    "check"
   ]
  },
  {
   "cell_type": "code",
   "execution_count": 17,
   "id": "8c93f882",
   "metadata": {},
   "outputs": [],
   "source": [
    "Field_passes = (FSO['Field Team QC Erosion'] =='pass').sum()"
   ]
  },
  {
   "cell_type": "code",
   "execution_count": 23,
   "id": "06e21072",
   "metadata": {},
   "outputs": [],
   "source": [
    "total_SS_complete = (FSO_SmartSheets['Debris Crew'] == 'FSO Complete').sum()"
   ]
  },
  {
   "cell_type": "code",
   "execution_count": 24,
   "id": "bd4ef7c9",
   "metadata": {},
   "outputs": [
    {
     "data": {
      "text/plain": [
       "70.06220839813375"
      ]
     },
     "execution_count": 24,
     "metadata": {},
     "output_type": "execute_result"
    }
   ],
   "source": [
    "(Field_passes/total_SS_complete) * 100"
   ]
  },
  {
   "cell_type": "code",
   "execution_count": 48,
   "id": "845b6c52",
   "metadata": {},
   "outputs": [
    {
     "data": {
      "text/html": [
       "<div>\n",
       "<style scoped>\n",
       "    .dataframe tbody tr th:only-of-type {\n",
       "        vertical-align: middle;\n",
       "    }\n",
       "\n",
       "    .dataframe tbody tr th {\n",
       "        vertical-align: top;\n",
       "    }\n",
       "\n",
       "    .dataframe thead th {\n",
       "        text-align: right;\n",
       "    }\n",
       "</style>\n",
       "<table border=\"1\" class=\"dataframe\">\n",
       "  <thead>\n",
       "    <tr style=\"text-align: right;\">\n",
       "      <th></th>\n",
       "      <th>APN</th>\n",
       "      <th>Structural Status</th>\n",
       "      <th># of Trees</th>\n",
       "      <th>Haz Trees Assessment</th>\n",
       "      <th>Haz Trees</th>\n",
       "      <th>Haz Tree Only</th>\n",
       "      <th>Hazard Tree Status</th>\n",
       "      <th>Street #</th>\n",
       "      <th>Unit #</th>\n",
       "      <th>Street Name</th>\n",
       "      <th>...</th>\n",
       "      <th>Tree Felling Complete</th>\n",
       "      <th>Tree Removal Complete</th>\n",
       "      <th>Number of Hazard Trees Felled</th>\n",
       "      <th>Trees Final Site Walk</th>\n",
       "      <th>Modified Date</th>\n",
       "      <th>duplicate</th>\n",
       "      <th>Sync Status</th>\n",
       "      <th>Ineligible Date</th>\n",
       "      <th>Soils Hold Reason</th>\n",
       "      <th>Butte Alt Program Tree Property</th>\n",
       "    </tr>\n",
       "  </thead>\n",
       "  <tbody>\n",
       "    <tr>\n",
       "      <th>0</th>\n",
       "      <td>071-360-010-000</td>\n",
       "      <td>Returned to County</td>\n",
       "      <td>0.0</td>\n",
       "      <td>2020-12-08</td>\n",
       "      <td>No</td>\n",
       "      <td>NaN</td>\n",
       "      <td>No Hazard Trees</td>\n",
       "      <td>1879</td>\n",
       "      <td>NaN</td>\n",
       "      <td>Lumpkin Road</td>\n",
       "      <td>...</td>\n",
       "      <td>NaT</td>\n",
       "      <td>NaT</td>\n",
       "      <td>NaN</td>\n",
       "      <td>NaT</td>\n",
       "      <td>2021-10-20 11:11:25</td>\n",
       "      <td>NaN</td>\n",
       "      <td>NaN</td>\n",
       "      <td>NaT</td>\n",
       "      <td>NaN</td>\n",
       "      <td>NaN</td>\n",
       "    </tr>\n",
       "    <tr>\n",
       "      <th>1</th>\n",
       "      <td>071-060-011-000</td>\n",
       "      <td>Returned to County</td>\n",
       "      <td>NaN</td>\n",
       "      <td>NaT</td>\n",
       "      <td>Do Not Assess</td>\n",
       "      <td>NaN</td>\n",
       "      <td>NaN</td>\n",
       "      <td>99</td>\n",
       "      <td>NaN</td>\n",
       "      <td>Kanaka Ranch Road</td>\n",
       "      <td>...</td>\n",
       "      <td>NaT</td>\n",
       "      <td>NaT</td>\n",
       "      <td>NaN</td>\n",
       "      <td>NaT</td>\n",
       "      <td>2021-08-26 09:59:47</td>\n",
       "      <td>NaN</td>\n",
       "      <td>NaN</td>\n",
       "      <td>NaT</td>\n",
       "      <td>NaN</td>\n",
       "      <td>NaN</td>\n",
       "    </tr>\n",
       "    <tr>\n",
       "      <th>2</th>\n",
       "      <td>062-320-029-000</td>\n",
       "      <td>Ready for Tree Operations</td>\n",
       "      <td>10.0</td>\n",
       "      <td>2021-04-02</td>\n",
       "      <td>Yes</td>\n",
       "      <td>NaN</td>\n",
       "      <td>Ready for Tree Removal</td>\n",
       "      <td>062-320-029-000</td>\n",
       "      <td>Lot 169</td>\n",
       "      <td>Cedar Lane</td>\n",
       "      <td>...</td>\n",
       "      <td>NaT</td>\n",
       "      <td>NaT</td>\n",
       "      <td>NaN</td>\n",
       "      <td>NaT</td>\n",
       "      <td>2021-10-20 20:45:29</td>\n",
       "      <td>NaN</td>\n",
       "      <td>NaN</td>\n",
       "      <td>NaT</td>\n",
       "      <td>NaN</td>\n",
       "      <td>NaN</td>\n",
       "    </tr>\n",
       "    <tr>\n",
       "      <th>3</th>\n",
       "      <td>071-400-035-000</td>\n",
       "      <td>Returned to County</td>\n",
       "      <td>0.0</td>\n",
       "      <td>2021-02-05</td>\n",
       "      <td>No</td>\n",
       "      <td>NaN</td>\n",
       "      <td>No Hazard Trees</td>\n",
       "      <td>297</td>\n",
       "      <td>NaN</td>\n",
       "      <td>Simmons Road</td>\n",
       "      <td>...</td>\n",
       "      <td>NaT</td>\n",
       "      <td>NaT</td>\n",
       "      <td>NaN</td>\n",
       "      <td>NaT</td>\n",
       "      <td>2021-08-27 14:20:32</td>\n",
       "      <td>NaN</td>\n",
       "      <td>NaN</td>\n",
       "      <td>NaT</td>\n",
       "      <td>NaN</td>\n",
       "      <td>NaN</td>\n",
       "    </tr>\n",
       "    <tr>\n",
       "      <th>4</th>\n",
       "      <td>062-740-008-000</td>\n",
       "      <td>Ready for Tree Operations</td>\n",
       "      <td>1.0</td>\n",
       "      <td>2021-06-24</td>\n",
       "      <td>Yes</td>\n",
       "      <td>NaN</td>\n",
       "      <td>Off-Haul Complete</td>\n",
       "      <td>17</td>\n",
       "      <td>NaN</td>\n",
       "      <td>Hammer Lane</td>\n",
       "      <td>...</td>\n",
       "      <td>2021-08-11</td>\n",
       "      <td>NaT</td>\n",
       "      <td>1.0</td>\n",
       "      <td>NaT</td>\n",
       "      <td>2021-10-19 09:54:39</td>\n",
       "      <td>NaN</td>\n",
       "      <td>NaN</td>\n",
       "      <td>NaT</td>\n",
       "      <td>NaN</td>\n",
       "      <td>NaN</td>\n",
       "    </tr>\n",
       "  </tbody>\n",
       "</table>\n",
       "<p>5 rows × 124 columns</p>\n",
       "</div>"
      ],
      "text/plain": [
       "               APN          Structural Status  # of Trees  \\\n",
       "0  071-360-010-000         Returned to County         0.0   \n",
       "1  071-060-011-000         Returned to County         NaN   \n",
       "2  062-320-029-000  Ready for Tree Operations        10.0   \n",
       "3  071-400-035-000         Returned to County         0.0   \n",
       "4  062-740-008-000  Ready for Tree Operations         1.0   \n",
       "\n",
       "  Haz Trees Assessment      Haz Trees  Haz Tree Only      Hazard Tree Status  \\\n",
       "0           2020-12-08             No            NaN         No Hazard Trees   \n",
       "1                  NaT  Do Not Assess            NaN                     NaN   \n",
       "2           2021-04-02            Yes            NaN  Ready for Tree Removal   \n",
       "3           2021-02-05             No            NaN         No Hazard Trees   \n",
       "4           2021-06-24            Yes            NaN       Off-Haul Complete   \n",
       "\n",
       "          Street #   Unit #        Street Name  ... Tree Felling Complete  \\\n",
       "0             1879      NaN       Lumpkin Road  ...                   NaT   \n",
       "1               99      NaN  Kanaka Ranch Road  ...                   NaT   \n",
       "2  062-320-029-000  Lot 169         Cedar Lane  ...                   NaT   \n",
       "3              297      NaN       Simmons Road  ...                   NaT   \n",
       "4               17      NaN        Hammer Lane  ...            2021-08-11   \n",
       "\n",
       "  Tree Removal Complete Number of Hazard Trees Felled Trees Final Site Walk  \\\n",
       "0                   NaT                           NaN                   NaT   \n",
       "1                   NaT                           NaN                   NaT   \n",
       "2                   NaT                           NaN                   NaT   \n",
       "3                   NaT                           NaN                   NaT   \n",
       "4                   NaT                           1.0                   NaT   \n",
       "\n",
       "        Modified Date  duplicate Sync Status Ineligible Date  \\\n",
       "0 2021-10-20 11:11:25        NaN         NaN             NaT   \n",
       "1 2021-08-26 09:59:47        NaN         NaN             NaT   \n",
       "2 2021-10-20 20:45:29        NaN         NaN             NaT   \n",
       "3 2021-08-27 14:20:32        NaN         NaN             NaT   \n",
       "4 2021-10-19 09:54:39        NaN         NaN             NaT   \n",
       "\n",
       "  Soils Hold Reason Butte Alt Program Tree Property  \n",
       "0               NaN                             NaN  \n",
       "1               NaN                             NaN  \n",
       "2               NaN                             NaN  \n",
       "3               NaN                             NaN  \n",
       "4               NaN                             NaN  \n",
       "\n",
       "[5 rows x 124 columns]"
      ]
     },
     "execution_count": 48,
     "metadata": {},
     "output_type": "execute_result"
    }
   ],
   "source": [
    "ss.head()"
   ]
  },
  {
   "cell_type": "code",
   "execution_count": 22,
   "id": "f57da98f",
   "metadata": {},
   "outputs": [
    {
     "data": {
      "text/plain": [
       "<AxesSubplot:ylabel='# of Trees'>"
      ]
     },
     "execution_count": 22,
     "metadata": {},
     "output_type": "execute_result"
    },
    {
     "data": {
      "image/png": "[encoded data removed]",
      "text/plain": [
       "<Figure size 432x288 with 1 Axes>"
      ]
     },
     "metadata": {
      "needs_background": "light"
     },
     "output_type": "display_data"
    }
   ],
   "source": [
    "sns.lineplot(data=ss['# of Trees'], label='# of Trees')\n"
   ]
  },
  {
   "cell_type": "code",
   "execution_count": 21,
   "id": "13b6ec39",
   "metadata": {},
   "outputs": [
    {
     "data": {
      "text/plain": [
       "<AxesSubplot:ylabel='County'>"
      ]
     },
     "execution_count": 21,
     "metadata": {},
     "output_type": "execute_result"
    },
    {
     "data": {
      "image/png": "[encoded data removed]",
      "text/plain": [
       "<Figure size 432x288 with 1 Axes>"
      ]
     },
     "metadata": {
      "needs_background": "light"
     },
     "output_type": "display_data"
    }
   ],
   "source": [
    "sns.lineplot(data=ss['County'], label='County')"
   ]
  },
  {
   "cell_type": "code",
   "execution_count": 30,
   "id": "a5845a67",
   "metadata": {},
   "outputs": [
    {
     "name": "stdout",
     "output_type": "stream",
     "text": [
      "<class 'pandas.core.frame.DataFrame'>\n",
      "RangeIndex: 2349 entries, 0 to 2348\n",
      "Data columns (total 124 columns):\n",
      " #    Column                                              Non-Null Count  Dtype         \n",
      "---   ------                                              --------------  -----         \n",
      " 0    APN                                                 2349 non-null   object        \n",
      " 1    Structural Status                                   2349 non-null   object        \n",
      " 2    # of Trees                                          1444 non-null   float64       \n",
      " 3    Haz Trees Assessment                                1444 non-null   datetime64[ns]\n",
      " 4    Haz Trees                                           2338 non-null   object        \n",
      " 5    Haz Tree Only                                       543 non-null    float64       \n",
      " 6    Hazard Tree Status                                  1443 non-null   object        \n",
      " 7    Street #                                            2348 non-null   object        \n",
      " 8    Unit #                                              160 non-null    object        \n",
      " 9    Street Name                                         2348 non-null   object        \n",
      " 10   City                                                2348 non-null   object        \n",
      " 11   County                                              2349 non-null   object        \n",
      " 12   Division                                            2337 non-null   object        \n",
      " 13   Hold Reason                                         6 non-null      object        \n",
      " 14   Hold                                                6 non-null      float64       \n",
      " 15   Gate Locked?                                        99 non-null     float64       \n",
      " 16   Code/Key Location                                   133 non-null    object        \n",
      " 17   ROE Verified                                        2339 non-null   object        \n",
      " 18   Declaration                                         2327 non-null   object        \n",
      " 19   Property Type                                       2339 non-null   object        \n",
      " 20   Commercial Notes                                    17 non-null     object        \n",
      " 21   Scheduled                                           1693 non-null   datetime64[ns]\n",
      " 22   Consultant                                          1698 non-null   object        \n",
      " 23   Debris Crew                                         2349 non-null   object        \n",
      " 24   Debris Crew Leader/Crew#                            1693 non-null   object        \n",
      " 25   Debris Crew WO#                                     1692 non-null   object        \n",
      " 26   ROE Date                                            2331 non-null   datetime64[ns]\n",
      " 27   Priority                                            532 non-null    object        \n",
      " 28   Withdrawal                                          26 non-null     datetime64[ns]\n",
      " 29   Not Eligible                                        204 non-null    float64       \n",
      " 30   Reason for Ineligibility                            204 non-null    object        \n",
      " 31   Determinant for Ineligibility                       54 non-null     object        \n",
      " 32   Safety Concern Property                             66 non-null     float64       \n",
      " 33   Phase 1 Complete                                    1919 non-null   float64       \n",
      " 34   Needs Milk Run or Phase 1 Revisit                   222 non-null    float64       \n",
      " 35   Milk Run/Phase 1 Revisit Complete                   203 non-null    float64       \n",
      " 36   Access Issues                                       114 non-null    object        \n",
      " 37   EHP Attention Required                              588 non-null    float64       \n",
      " 38   EHP Attn Notes                                      621 non-null    object        \n",
      " 39   Monitoring Needed                                   678 non-null    float64       \n",
      " 40   Monitoring Needed Description                       678 non-null    object        \n",
      " 41   Bio Assessment Notes                                300 non-null    object        \n",
      " 42   Arch Assessment Notes                               0 non-null      float64       \n",
      " 43   CalOES Review Notes                                 29 non-null     object        \n",
      " 44   Permit Needed                                       6 non-null      float64       \n",
      " 45   Permit Description                                  6 non-null      object        \n",
      " 46   Owner Name                                          2329 non-null   object        \n",
      " 47   Contact Phone                                       2282 non-null   object        \n",
      " 48   Contact Email                                       2067 non-null   object        \n",
      " 49   Site Assessment                                     1749 non-null   datetime64[ns]\n",
      " 50   RAD/MERC Sweep                                      1749 non-null   datetime64[ns]\n",
      " 51   RAD/MERC Detected                                   5 non-null      float64       \n",
      " 52   Chimney                                             1867 non-null   object        \n",
      " 53   Chimney Inaccessible for ASB                        1 non-null      float64       \n",
      " 54   NESHAP Walls                                        59 non-null     float64       \n",
      " 55   NESHAP Notification                                 145 non-null    float64       \n",
      " 56   Chimney Tipped                                      102 non-null    datetime64[ns]\n",
      " 57   In Ground Pool                                      47 non-null     float64       \n",
      " 58   Large Propane Tank                                  572 non-null    float64       \n",
      " 59   Well                                                994 non-null    float64       \n",
      " 60   Septic                                              396 non-null    float64       \n",
      " 61   Solar Panels                                        114 non-null    float64       \n",
      " 62   Structural Walls                                    144 non-null    float64       \n",
      " 63   Need Contractor Assist for ASB                      34 non-null     float64       \n",
      " 64   Vehicle(s)                                          1319 non-null   float64       \n",
      " 65   Number of Vehicles                                  1295 non-null   object        \n",
      " 66   Vehicles Description                                1381 non-null   object        \n",
      " 67   Number of Vehicles Removed                          1296 non-null   object        \n",
      " 68   CHP Adjudicated (Butte)                             46 non-null     float64       \n",
      " 69   ASB Assessment                                      1865 non-null   datetime64[ns]\n",
      " 70   ASB Suspected                                       1865 non-null   object        \n",
      " 71   ASB Sample Sent                                     1730 non-null   datetime64[ns]\n",
      " 72   ASB Results Received                                1730 non-null   datetime64[ns]\n",
      " 73   ASB Results                                         1730 non-null   object        \n",
      " 74   ASB Abatement                                       1002 non-null   datetime64[ns]\n",
      " 75   CAC Clearance                                       1038 non-null   datetime64[ns]\n",
      " 76   Ready for Debris Removal                            1718 non-null   float64       \n",
      " 77   Property Owner Contact                              1679 non-null   datetime64[ns]\n",
      " 78   Contact Notes                                       1710 non-null   object        \n",
      " 79   If Unable to Contact, Attempted # of Contacts       63 non-null     object        \n",
      " 80   If Unable to Contact, Who Approved to Move Forward  46 non-null     object        \n",
      " 81   811 Called                                          1704 non-null   float64       \n",
      " 82   Debris Start                                        1696 non-null   datetime64[ns]\n",
      " 83   Debris Finish                                       1696 non-null   datetime64[ns]\n",
      " 84   State Rep Sign-Off for DR                           1695 non-null   datetime64[ns]\n",
      " 85   Damage Caused during DR                             20 non-null     float64       \n",
      " 86   Explanation of Damage during DR                     0 non-null      float64       \n",
      " 87   Soil Sample                                         1694 non-null   datetime64[ns]\n",
      " 88   Soil Sample Results                                 1689 non-null   object        \n",
      " 89   Soil Boring                                         140 non-null    datetime64[ns]\n",
      " 90   Soil Boring Results                                 139 non-null    object        \n",
      " 91   Soil Re-scrape                                      783 non-null    object        \n",
      " 92   Re-scrape Results                                   769 non-null    object        \n",
      " 93   Soil Re-scrape 2                                    167 non-null    datetime64[ns]\n",
      " 94   Re-scrape 2 Results                                 158 non-null    object        \n",
      " 95   Soil Rescrape 3                                     33 non-null     datetime64[ns]\n",
      " 96   Re-scrape 3 Results                                 33 non-null     object        \n",
      " 97   Soil Samples Approved                               1654 non-null   datetime64[ns]\n",
      " 98   Hydromulch Complete                                 1088 non-null   datetime64[ns]\n",
      " 99   Wattles Complete                                    1088 non-null   datetime64[ns]\n",
      " 100  Erosion Control Waiver                              142 non-null    datetime64[ns]\n",
      " 101  Debris FSO Complete                                 1170 non-null   datetime64[ns]\n",
      " 102  FSO Complete                                        1304 non-null   datetime64[ns]\n",
      " 103  FSO Sent to County                                  1304 non-null   datetime64[ns]\n",
      " 104  Special Notes                                       390 non-null    object        \n",
      " 105  Insurance                                           1599 non-null   object        \n",
      " 106  Latitude                                            2318 non-null   float64       \n",
      " 107  Longitude                                           2318 non-null   float64       \n",
      " 108  Lake Madrone Property                               192 non-null    float64       \n",
      " 109  County Notified of Ineligibility                    221 non-null    float64       \n",
      " 110  Approved for Special Inclusion                      60 non-null     float64       \n",
      " 111  Tree Eligibility (Butte/Shasta/Trinity/Siskiyou)    1303 non-null   object        \n",
      " 112  Trinity Lease Lots Eligibility                      46 non-null     object        \n",
      " 113  Hazard Tree Work Package                            1032 non-null   object        \n",
      " 114  Tree Felling Complete                               770 non-null    datetime64[ns]\n",
      " 115  Tree Removal Complete                               504 non-null    datetime64[ns]\n",
      " 116  Number of Hazard Trees Felled                       792 non-null    float64       \n",
      " 117  Trees Final Site Walk                               383 non-null    datetime64[ns]\n",
      " 118  Modified Date                                       2349 non-null   datetime64[ns]\n",
      " 119  duplicate                                           0 non-null      float64       \n",
      " 120  Sync Status                                         0 non-null      float64       \n",
      " 121  Ineligible Date                                     204 non-null    datetime64[ns]\n",
      " 122  Soils Hold Reason                                   0 non-null      float64       \n",
      " 123  Butte Alt Program Tree Property                     13 non-null     float64       \n",
      "dtypes: datetime64[ns](32), float64(40), object(52)\n",
      "memory usage: 2.2+ MB\n"
     ]
    }
   ],
   "source": [
    "ss.info(verbose=True, show_counts=True)"
   ]
  },
  {
   "cell_type": "code",
   "execution_count": 71,
   "id": "aaf2d8a8",
   "metadata": {},
   "outputs": [],
   "source": [
    "ss['Vehicles Left'] = ss['Number of Vehicles'] - ss['Number of Vehicles Removed']"
   ]
  },
  {
   "cell_type": "code",
   "execution_count": 82,
   "id": "35b6dd8f",
   "metadata": {},
   "outputs": [
    {
     "name": "stderr",
     "output_type": "stream",
     "text": [
      "<ipython-input-82-6f1497493de0>:1: FutureWarning: Indexing with multiple keys (implicitly converted to a tuple of keys) will be deprecated, use a list instead.\n",
      "  filt = ss.groupby(['County'])['Number of Vehicles', 'Number of Vehicles Removed', 'Vehicles Left'].sum()\n"
     ]
    }
   ],
   "source": [
    "filt = ss.groupby(['County'])['Number of Vehicles', 'Number of Vehicles Removed', 'Vehicles Left'].sum()\n",
    "filt.drop('Butte', inplace=True)"
   ]
  },
  {
   "cell_type": "code",
   "execution_count": 41,
   "id": "747db1e2",
   "metadata": {},
   "outputs": [
    {
     "data": {
      "text/plain": [
       "dtype('float64')"
      ]
     },
     "execution_count": 41,
     "metadata": {},
     "output_type": "execute_result"
    }
   ],
   "source": [
    "ss['Number of Vehicles Removed'].dtypes"
   ]
  },
  {
   "cell_type": "code",
   "execution_count": 40,
   "id": "5c492f7f",
   "metadata": {},
   "outputs": [],
   "source": [
    "ss['Number of Vehicles Removed'] = pd.to_numeric(ss['Number of Vehicles Removed'], errors='coerce')"
   ]
  },
  {
   "cell_type": "code",
   "execution_count": 42,
   "id": "50198ff2",
   "metadata": {},
   "outputs": [],
   "source": [
    "ss['Number of Vehicles'] = pd.to_numeric(ss['Number of Vehicles'], errors='coerce')"
   ]
  },
  {
   "cell_type": "code",
   "execution_count": 83,
   "id": "26e3448f",
   "metadata": {},
   "outputs": [
    {
     "data": {
      "text/plain": [
       "<AxesSubplot:xlabel='County'>"
      ]
     },
     "execution_count": 83,
     "metadata": {},
     "output_type": "execute_result"
    },
    {
     "data": {
      "image/png": "[encoded data removed]",
      "text/plain": [
       "<Figure size 432x288 with 1 Axes>"
      ]
     },
     "metadata": {
      "needs_background": "light"
     },
     "output_type": "display_data"
    }
   ],
   "source": [
    "filt.plot(kind='bar')"
   ]
  },
  {
   "cell_type": "code",
   "execution_count": 84,
   "id": "b1549895",
   "metadata": {},
   "outputs": [
    {
     "data": {
      "text/html": [
       "<div>\n",
       "<style scoped>\n",
       "    .dataframe tbody tr th:only-of-type {\n",
       "        vertical-align: middle;\n",
       "    }\n",
       "\n",
       "    .dataframe tbody tr th {\n",
       "        vertical-align: top;\n",
       "    }\n",
       "\n",
       "    .dataframe thead th {\n",
       "        text-align: right;\n",
       "    }\n",
       "</style>\n",
       "<table border=\"1\" class=\"dataframe\">\n",
       "  <thead>\n",
       "    <tr style=\"text-align: right;\">\n",
       "      <th></th>\n",
       "      <th>Number of Vehicles</th>\n",
       "      <th>Number of Vehicles Removed</th>\n",
       "      <th>Vehicles Left</th>\n",
       "    </tr>\n",
       "    <tr>\n",
       "      <th>County</th>\n",
       "      <th></th>\n",
       "      <th></th>\n",
       "      <th></th>\n",
       "    </tr>\n",
       "  </thead>\n",
       "  <tbody>\n",
       "    <tr>\n",
       "      <th>Del Norte</th>\n",
       "      <td>13.0</td>\n",
       "      <td>11.0</td>\n",
       "      <td>2.0</td>\n",
       "    </tr>\n",
       "    <tr>\n",
       "      <th>Lassen</th>\n",
       "      <td>22.0</td>\n",
       "      <td>27.0</td>\n",
       "      <td>-5.0</td>\n",
       "    </tr>\n",
       "    <tr>\n",
       "      <th>Nevada</th>\n",
       "      <td>9.0</td>\n",
       "      <td>7.0</td>\n",
       "      <td>2.0</td>\n",
       "    </tr>\n",
       "    <tr>\n",
       "      <th>Plumas</th>\n",
       "      <td>1.0</td>\n",
       "      <td>1.0</td>\n",
       "      <td>0.0</td>\n",
       "    </tr>\n",
       "    <tr>\n",
       "      <th>Shasta</th>\n",
       "      <td>520.0</td>\n",
       "      <td>517.0</td>\n",
       "      <td>7.0</td>\n",
       "    </tr>\n",
       "    <tr>\n",
       "      <th>Siskiyou</th>\n",
       "      <td>850.0</td>\n",
       "      <td>771.0</td>\n",
       "      <td>78.0</td>\n",
       "    </tr>\n",
       "    <tr>\n",
       "      <th>Trinity</th>\n",
       "      <td>653.0</td>\n",
       "      <td>545.0</td>\n",
       "      <td>116.0</td>\n",
       "    </tr>\n",
       "    <tr>\n",
       "      <th>Yuba</th>\n",
       "      <td>20.0</td>\n",
       "      <td>16.0</td>\n",
       "      <td>3.0</td>\n",
       "    </tr>\n",
       "  </tbody>\n",
       "</table>\n",
       "</div>"
      ],
      "text/plain": [
       "           Number of Vehicles  Number of Vehicles Removed  Vehicles Left\n",
       "County                                                                  \n",
       "Del Norte                13.0                        11.0            2.0\n",
       "Lassen                   22.0                        27.0           -5.0\n",
       "Nevada                    9.0                         7.0            2.0\n",
       "Plumas                    1.0                         1.0            0.0\n",
       "Shasta                  520.0                       517.0            7.0\n",
       "Siskiyou                850.0                       771.0           78.0\n",
       "Trinity                 653.0                       545.0          116.0\n",
       "Yuba                     20.0                        16.0            3.0"
      ]
     },
     "execution_count": 84,
     "metadata": {},
     "output_type": "execute_result"
    },
    {
     "data": {
      "image/png": "[encoded data removed]",
      "text/plain": [
       "<Figure size 1152x288 with 1 Axes>"
      ]
     },
     "metadata": {
      "needs_background": "light"
     },
     "output_type": "display_data"
    }
   ],
   "source": [
    "plt.figure(figsize=(16,4))\n",
    "\n",
    "sns.barplot(x=filt.index, y='Number of Vehicles', data=filt)\n",
    "sns.barplot(x=filt.index, y='Number of Vehicles Removed', data=filt, color='r')\n",
    "sns.barplot(x=filt.index, y='Vehicles Left', data=filt, color='g')\n",
    "\n",
    "for i in range(len(filt)):\n",
    "    plt.text(i-.2, filt['Number of Vehicles'][i], filt['Number of Vehicles'][i])\n",
    "    plt.text(i , filt['Number of Vehicles Removed'][i],filt['Number of Vehicles Removed'][i], va='top', ha='center')\n",
    "    plt.text(i, filt['Vehicles Left'][i],filt['Vehicles Left'][i], va='bottom', ha='center' )\n",
    "\n",
    "filt"
   ]
  },
  {
   "cell_type": "code",
   "execution_count": 86,
   "id": "a9a624d8",
   "metadata": {},
   "outputs": [
    {
     "data": {
      "text/plain": [
       "dtype('<M8[ns]')"
      ]
     },
     "execution_count": 86,
     "metadata": {},
     "output_type": "execute_result"
    }
   ],
   "source": [
    "ss['Debris Start'].dtypes"
   ]
  },
  {
   "cell_type": "code",
   "execution_count": 88,
   "id": "420275f6",
   "metadata": {},
   "outputs": [
    {
     "data": {
      "text/plain": [
       "dtype('<M8[ns]')"
      ]
     },
     "execution_count": 88,
     "metadata": {},
     "output_type": "execute_result"
    }
   ],
   "source": [
    "ss['Debris Finish'].dtype"
   ]
  },
  {
   "cell_type": "code",
   "execution_count": 89,
   "id": "08873d17",
   "metadata": {},
   "outputs": [],
   "source": [
    "ss['Tota days on Site'] = ss['Debris Finish']-ss['Debris Start']"
   ]
  },
  {
   "cell_type": "code",
   "execution_count": 130,
   "id": "93aab6b2",
   "metadata": {},
   "outputs": [
    {
     "data": {
      "text/html": [
       "<div>\n",
       "<style scoped>\n",
       "    .dataframe tbody tr th:only-of-type {\n",
       "        vertical-align: middle;\n",
       "    }\n",
       "\n",
       "    .dataframe tbody tr th {\n",
       "        vertical-align: top;\n",
       "    }\n",
       "\n",
       "    .dataframe thead th {\n",
       "        text-align: right;\n",
       "    }\n",
       "</style>\n",
       "<table border=\"1\" class=\"dataframe\">\n",
       "  <thead>\n",
       "    <tr style=\"text-align: right;\">\n",
       "      <th></th>\n",
       "      <th>Tota days on Site</th>\n",
       "    </tr>\n",
       "    <tr>\n",
       "      <th>County</th>\n",
       "      <th></th>\n",
       "    </tr>\n",
       "  </thead>\n",
       "  <tbody>\n",
       "    <tr>\n",
       "      <th>Butte</th>\n",
       "      <td>3128.0</td>\n",
       "    </tr>\n",
       "    <tr>\n",
       "      <th>Del Norte</th>\n",
       "      <td>10.0</td>\n",
       "    </tr>\n",
       "    <tr>\n",
       "      <th>Lassen</th>\n",
       "      <td>17.0</td>\n",
       "    </tr>\n",
       "    <tr>\n",
       "      <th>Nevada</th>\n",
       "      <td>15.0</td>\n",
       "    </tr>\n",
       "    <tr>\n",
       "      <th>Plumas</th>\n",
       "      <td>10.0</td>\n",
       "    </tr>\n",
       "    <tr>\n",
       "      <th>Shasta</th>\n",
       "      <td>276.0</td>\n",
       "    </tr>\n",
       "    <tr>\n",
       "      <th>Siskiyou</th>\n",
       "      <td>670.0</td>\n",
       "    </tr>\n",
       "    <tr>\n",
       "      <th>Trinity</th>\n",
       "      <td>820.0</td>\n",
       "    </tr>\n",
       "    <tr>\n",
       "      <th>Yuba</th>\n",
       "      <td>7.0</td>\n",
       "    </tr>\n",
       "  </tbody>\n",
       "</table>\n",
       "</div>"
      ],
      "text/plain": [
       "           Tota days on Site\n",
       "County                      \n",
       "Butte                 3128.0\n",
       "Del Norte               10.0\n",
       "Lassen                  17.0\n",
       "Nevada                  15.0\n",
       "Plumas                  10.0\n",
       "Shasta                 276.0\n",
       "Siskiyou               670.0\n",
       "Trinity                820.0\n",
       "Yuba                     7.0"
      ]
     },
     "execution_count": 130,
     "metadata": {},
     "output_type": "execute_result"
    }
   ],
   "source": [
    "ss.groupby(['County'])[['Tota days on Site']].sum()"
   ]
  },
  {
   "cell_type": "code",
   "execution_count": 102,
   "id": "51cfb99f",
   "metadata": {},
   "outputs": [],
   "source": [
    "ss['Tota days on Site'] = ss['Tota days on Site'].apply(lambda x: x.days)"
   ]
  },
  {
   "cell_type": "code",
   "execution_count": 112,
   "id": "885e5a57",
   "metadata": {},
   "outputs": [
    {
     "data": {
      "text/html": [
       "<div>\n",
       "<style scoped>\n",
       "    .dataframe tbody tr th:only-of-type {\n",
       "        vertical-align: middle;\n",
       "    }\n",
       "\n",
       "    .dataframe tbody tr th {\n",
       "        vertical-align: top;\n",
       "    }\n",
       "\n",
       "    .dataframe thead th {\n",
       "        text-align: right;\n",
       "    }\n",
       "</style>\n",
       "<table border=\"1\" class=\"dataframe\">\n",
       "  <thead>\n",
       "    <tr style=\"text-align: right;\">\n",
       "      <th></th>\n",
       "      <th>Tota days on Site</th>\n",
       "    </tr>\n",
       "    <tr>\n",
       "      <th>County</th>\n",
       "      <th></th>\n",
       "    </tr>\n",
       "  </thead>\n",
       "  <tbody>\n",
       "    <tr>\n",
       "      <th>Butte</th>\n",
       "      <td>2.76</td>\n",
       "    </tr>\n",
       "    <tr>\n",
       "      <th>Del Norte</th>\n",
       "      <td>3.33</td>\n",
       "    </tr>\n",
       "    <tr>\n",
       "      <th>Lassen</th>\n",
       "      <td>4.25</td>\n",
       "    </tr>\n",
       "    <tr>\n",
       "      <th>Nevada</th>\n",
       "      <td>1.50</td>\n",
       "    </tr>\n",
       "    <tr>\n",
       "      <th>Plumas</th>\n",
       "      <td>2.50</td>\n",
       "    </tr>\n",
       "    <tr>\n",
       "      <th>Shasta</th>\n",
       "      <td>2.79</td>\n",
       "    </tr>\n",
       "    <tr>\n",
       "      <th>Siskiyou</th>\n",
       "      <td>3.00</td>\n",
       "    </tr>\n",
       "    <tr>\n",
       "      <th>Trinity</th>\n",
       "      <td>3.87</td>\n",
       "    </tr>\n",
       "    <tr>\n",
       "      <th>Yuba</th>\n",
       "      <td>1.17</td>\n",
       "    </tr>\n",
       "  </tbody>\n",
       "</table>\n",
       "</div>"
      ],
      "text/plain": [
       "           Tota days on Site\n",
       "County                      \n",
       "Butte                   2.76\n",
       "Del Norte               3.33\n",
       "Lassen                  4.25\n",
       "Nevada                  1.50\n",
       "Plumas                  2.50\n",
       "Shasta                  2.79\n",
       "Siskiyou                3.00\n",
       "Trinity                 3.87\n",
       "Yuba                    1.17"
      ]
     },
     "execution_count": 112,
     "metadata": {},
     "output_type": "execute_result"
    }
   ],
   "source": [
    "filt2 = ss.groupby(['County'])[['Tota days on Site']].mean()\n",
    "round(filt2,2)"
   ]
  },
  {
   "cell_type": "code",
   "execution_count": 127,
   "id": "ea76454d",
   "metadata": {},
   "outputs": [
    {
     "data": {
      "image/png": "[encoded data removed]",
      "text/plain": [
       "<Figure size 1152x288 with 1 Axes>"
      ]
     },
     "metadata": {
      "needs_background": "light"
     },
     "output_type": "display_data"
    }
   ],
   "source": [
    "plt.figure(figsize=(16,4))\n",
    "\n",
    "sns.barplot(x=filt2.index, y='Tota days on Site', data=filt2)\n",
    "\n",
    "for v in range(len(filt2)):\n",
    "    plt.text(v-.15, filt2['Tota days on Site'][v],round(filt2['Tota days on Site'][v],2), va='top')"
   ]
  },
  {
   "cell_type": "code",
   "execution_count": null,
   "id": "23dc6908",
   "metadata": {},
   "outputs": [],
   "source": []
  }
 ],
 "metadata": {
  "kernelspec": {
   "display_name": "Python 3",
   "language": "python",
   "name": "python3"
  },
  "language_info": {
   "codemirror_mode": {
    "name": "ipython",
    "version": 3
   },
   "file_extension": ".py",
   "mimetype": "text/x-python",
   "name": "python",
   "nbconvert_exporter": "python",
   "pygments_lexer": "ipython3",
   "version": "3.9.4"
  }
 },
 "nbformat": 4,
 "nbformat_minor": 5
}
