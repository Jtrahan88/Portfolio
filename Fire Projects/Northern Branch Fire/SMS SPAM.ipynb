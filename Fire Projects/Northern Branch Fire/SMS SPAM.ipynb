{
 "cells": [
  {
   "cell_type": "markdown",
   "id": "1b9651b0",
   "metadata": {},
   "source": [
    "I got a lot of spam call form the same company today. so I made this prgrams to sapam them back until we decide to cancel it. I never will.\n",
    "\n",
    "***Side NOTE***\n",
    "\n",
    "this email is fake. Please do not change the password. But if you do no harm done. I'll make another as needed."
   ]
  },
  {
   "cell_type": "code",
   "execution_count": 11,
   "id": "439e42a8",
   "metadata": {},
   "outputs": [],
   "source": [
    "import smtplib\n",
    "carriers = {\n",
    "    'att':    '@mms.att.net',\n",
    "    'tmobile':' @tmomail.net',\n",
    "    'verizon':  '@vtext.com',\n",
    "    'sprint':   '@page.nextel.com'\n",
    "}\n",
    "spam1 = '463-217-0953'\n",
    "test = '337-962-3318'\n",
    "\n",
    "def send(message):\n",
    "        # Replace the number with your own, or consider using an argument\\dict for multiple people.\n",
    "    to_number = '337-962-3318{}'.format(carriers['att'])\n",
    "    auth = ('crobear21@hotmail.com', 'MY_SECRET_PASSWORD')\n",
    "\n",
    "    # Establish a secure session with gmail's outgoing SMTP server using your gmail account\n",
    "    server = smtplib.SMTP('smtp-mail.outlook.com', 587)\n",
    "    server.starttls()\n",
    "    server.login(auth[0], auth[1])\n",
    "\n",
    "    # Send text message through SMS gateway of destination number\n",
    "    server.sendmail( auth[0], to_number, message)\n"
   ]
  },
  {
   "cell_type": "code",
   "execution_count": null,
   "id": "d4ed54d5",
   "metadata": {},
   "outputs": [],
   "source": []
  },
  {
   "cell_type": "code",
   "execution_count": null,
   "id": "0d91c4fd",
   "metadata": {},
   "outputs": [],
   "source": []
  }
 ],
 "metadata": {
  "kernelspec": {
   "display_name": "Python 3",
   "language": "python",
   "name": "python3"
  },
  "language_info": {
   "codemirror_mode": {
    "name": "ipython",
    "version": 3
   },
   "file_extension": ".py",
   "mimetype": "text/x-python",
   "name": "python",
   "nbconvert_exporter": "python",
   "pygments_lexer": "ipython3",
   "version": "3.9.4"
  }
 },
 "nbformat": 4,
 "nbformat_minor": 5
}
