{
 "cells": [
  {
   "cell_type": "code",
   "execution_count": 1,
   "id": "79c7dede",
   "metadata": {},
   "outputs": [],
   "source": [
    "import pandas as pd\n",
    "import time"
   ]
  },
  {
   "cell_type": "code",
   "execution_count": 2,
   "id": "f8fe4837",
   "metadata": {},
   "outputs": [],
   "source": [
    "today = time.strftime('%m-%d-%y')"
   ]
  },
  {
   "cell_type": "code",
   "execution_count": 3,
   "id": "ce394101",
   "metadata": {},
   "outputs": [],
   "source": [
    "df = pd.read_excel('State-Field and all trackers/aDataManagerTicketExport.xlsx', \n",
    "                    usecols=['Zone Name',\"End Time\", \"Is Void\", \"Ticket Notes\",\"Service Code\",\n",
    "                               \"Unit Count\", \"Disposal Monitor Name\", \"Addr No\",\"Addr St\", \"Ticket Number\"])"
   ]
  },
  {
   "cell_type": "code",
   "execution_count": 4,
   "id": "3c2abc6d",
   "metadata": {},
   "outputs": [],
   "source": [
    "# will have to take out special chars, then spaces, by spliting and joining back to getehr\n",
    "speacial_chars = [\"!\", '\"', \"#\", \"%\", \"&\", \"'\", \"(\", \")\",\n",
    "                  \"*\", \"+\", \",\", \"-\", \".\", \"/\", \":\", \";\", \"<\",\n",
    "                  \"=\", \">\", \"?\", \"@\", \"[\", \"\\\\\", \"]\", \"^\", \"_\",\n",
    "                  \"`\", \"{\", \"|\", \"}\", \"~\", \"–\"]\n",
    "for char in speacial_chars:\n",
    "    df[\"Service Code\"] = df[\"Service Code\"].str.replace(char, \" \", regex=True)\n",
    "\n",
    "df[\"Service Code\"] = df[\"Service Code\"].str.split().str.join(\" \")\n",
    "\n",
    "\n"
   ]
  },
  {
   "cell_type": "code",
   "execution_count": 5,
   "id": "f38ebfb3",
   "metadata": {},
   "outputs": [],
   "source": [
    "# Service code we need variable\n",
    "service_code = [\"72A\"]\n",
    "\n",
    "# get rid of voids and get ride of all service codes except erosion control 72A\n",
    "df = df[(df['Service Code'].isin(service_code) & (df['Is Void'] != True))]"
   ]
  },
  {
   "cell_type": "code",
   "execution_count": 6,
   "id": "008b70ca",
   "metadata": {},
   "outputs": [],
   "source": [
    "# set index\n",
    "df.set_index('Zone Name', inplace=True)"
   ]
  },
  {
   "cell_type": "code",
   "execution_count": 7,
   "id": "0f4ae2c3",
   "metadata": {},
   "outputs": [],
   "source": [
    "# rearrange columns\n",
    "df = df[[\"End Time\", \"Is Void\", \"Ticket Notes\",\"Service Code\", \"Unit Count\", \"Disposal Monitor Name\", \"Addr No\",\"Addr St\",\n",
    "         \"Ticket Number\"]]"
   ]
  },
  {
   "cell_type": "code",
   "execution_count": 8,
   "id": "9e186518",
   "metadata": {},
   "outputs": [],
   "source": [
    "df.to_excel('RTR Column Setup ' + today + \".xlsx\")"
   ]
  },
  {
   "cell_type": "code",
   "execution_count": null,
   "id": "6d9eb1a6",
   "metadata": {},
   "outputs": [],
   "source": []
  }
 ],
 "metadata": {
  "kernelspec": {
   "display_name": "Python 3",
   "language": "python",
   "name": "python3"
  },
  "language_info": {
   "codemirror_mode": {
    "name": "ipython",
    "version": 3
   },
   "file_extension": ".py",
   "mimetype": "text/x-python",
   "name": "python",
   "nbconvert_exporter": "python",
   "pygments_lexer": "ipython3",
   "version": "3.9.4"
  }
 },
 "nbformat": 4,
 "nbformat_minor": 5
}
