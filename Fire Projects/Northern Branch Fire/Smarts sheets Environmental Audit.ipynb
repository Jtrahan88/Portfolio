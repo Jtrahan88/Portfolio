{
 "cells": [
  {
   "cell_type": "markdown",
   "id": "9d173646",
   "metadata": {},
   "source": [
    "# Load All Data Frames"
   ]
  },
  {
   "cell_type": "code",
   "execution_count": 1,
   "id": "a3a10172",
   "metadata": {},
   "outputs": [],
   "source": [
    "import pandas as pd\n",
    "import numpy as np\n",
    "import datetime"
   ]
  },
  {
   "cell_type": "code",
   "execution_count": 2,
   "id": "ef38bb85",
   "metadata": {},
   "outputs": [
    {
     "name": "stderr",
     "output_type": "stream",
     "text": [
      "C:\\Users\\jacque.trahan\\AppData\\Roaming\\Python\\Python39\\site-packages\\openpyxl\\worksheet\\_reader.py:203: UserWarning: Cell AP126 is marked as a date but the serial value 6684319.0 is outside the limits for dates. The cell will be treated as an error.\n",
      "  warn(msg)\n",
      "C:\\Users\\jacque.trahan\\AppData\\Roaming\\Python\\Python39\\site-packages\\openpyxl\\worksheet\\_reader.py:203: UserWarning: Cell AU206 is marked as a date but the serial value 6684319.0 is outside the limits for dates. The cell will be treated as an error.\n",
      "  warn(msg)\n",
      "C:\\Users\\jacque.trahan\\AppData\\Roaming\\Python\\Python39\\site-packages\\openpyxl\\worksheet\\_reader.py:203: UserWarning: Cell AJ1964 is marked as a date but the serial value 6691802.0 is outside the limits for dates. The cell will be treated as an error.\n",
      "  warn(msg)\n"
     ]
    }
   ],
   "source": [
    "df = pd.read_excel('State-Field and all trackers/Northern Branch Phase II Debris Removal Ops.xlsx', parse_dates=True)\n",
    "soils = pd.read_excel(\"State-Field and all trackers/TT_Northern Branch_Soil.xlsx\", header=1, parse_dates=True)\n",
    "sa = pd.read_excel('State-Field and all trackers/TT_North Branch_Site Assessment.xlsx', header=1, parse_dates=True)\n",
    "asb = pd.read_excel('State-Field and all trackers/TT_North Branch_Asbestos.xlsx', header=1)\n",
    "tree = pd.read_excel('State-Field and all trackers/North Branch CA Wildfires - Parcel Issues.xlsx', sheet_name=\"PPDR SURVEYS\")"
   ]
  },
  {
   "cell_type": "code",
   "execution_count": 3,
   "id": "5447cc96",
   "metadata": {},
   "outputs": [],
   "source": [
    "ss = df.copy()"
   ]
  },
  {
   "cell_type": "markdown",
   "id": "6e7d5d7a",
   "metadata": {},
   "source": [
    "## DF set up for work Vlook up examples. Reformat APNs"
   ]
  },
  {
   "cell_type": "code",
   "execution_count": 4,
   "id": "275f0a9e",
   "metadata": {},
   "outputs": [],
   "source": [
    "ss['APN'] = ss['APN'].str.replace('-000', \"\").str.replace('-', \"\").str.extract(r'(\\d{1,9}.*)')"
   ]
  },
  {
   "cell_type": "code",
   "execution_count": 5,
   "id": "6573d871",
   "metadata": {},
   "outputs": [],
   "source": [
    "ss['APN'] = ss['APN'].apply(lambda x: x.upper())"
   ]
  },
  {
   "cell_type": "code",
   "execution_count": 6,
   "id": "c0f04b03",
   "metadata": {},
   "outputs": [],
   "source": [
    "# better to keep notes in here to see what they do not match\n",
    "# ss['Number of Vehicles Removed'] = pd.to_numeric(ss['Number of Vehicles Removed'], errors='coerce')"
   ]
  },
  {
   "cell_type": "code",
   "execution_count": 7,
   "id": "3f3e84af",
   "metadata": {},
   "outputs": [],
   "source": [
    "# ss['Number of Vehicles Removed'].fillna(\"\", inplace=True)"
   ]
  },
  {
   "cell_type": "markdown",
   "id": "3615fc86",
   "metadata": {},
   "source": [
    "# Site Assessment"
   ]
  },
  {
   "cell_type": "code",
   "execution_count": 8,
   "id": "3ab5a129",
   "metadata": {},
   "outputs": [],
   "source": [
    "sa['APN'] = sa['APN'].str.replace('-000', \"\").str.replace('-', \"\").str.extract(r'(\\d{1,9}.*)')"
   ]
  },
  {
   "cell_type": "code",
   "execution_count": 9,
   "id": "d9e40f36",
   "metadata": {},
   "outputs": [],
   "source": [
    "sa['APN'] = sa['APN'].apply(lambda x: x.upper())"
   ]
  },
  {
   "cell_type": "code",
   "execution_count": 10,
   "id": "89f67935",
   "metadata": {},
   "outputs": [],
   "source": [
    "df1ssSA = ss[['APN','Street #','Street Name', \"Structural Status\", \"Site Assessment\",'Number of Vehicles Removed', 'Number of Vehicles']]"
   ]
  },
  {
   "cell_type": "code",
   "execution_count": 11,
   "id": "406f8440",
   "metadata": {},
   "outputs": [],
   "source": [
    "sa = sa.rename(columns={\"Date Completed\": \"SA Completed\"})"
   ]
  },
  {
   "cell_type": "code",
   "execution_count": 12,
   "id": "d630cea2",
   "metadata": {},
   "outputs": [],
   "source": [
    "df2sa = sa[[\"APN\", \"SA Completed\", \"Automobiles\"]]"
   ]
  },
  {
   "cell_type": "code",
   "execution_count": 13,
   "id": "f32d672b",
   "metadata": {},
   "outputs": [],
   "source": [
    "noMatchSA = df1ssSA.merge(df2sa,\n",
    "                     left_on='APN',\n",
    "                     right_on='APN',\n",
    "                     how='left')\n",
    "# noMatchSA.head()"
   ]
  },
  {
   "cell_type": "code",
   "execution_count": 14,
   "id": "eb84a754",
   "metadata": {},
   "outputs": [],
   "source": [
    "# noMatchSA.to_excel('testvlookup.xlsx')"
   ]
  },
  {
   "cell_type": "markdown",
   "id": "59e8f0d2",
   "metadata": {},
   "source": [
    "# Tree set up"
   ]
  },
  {
   "cell_type": "code",
   "execution_count": 15,
   "id": "6f7eb631",
   "metadata": {},
   "outputs": [],
   "source": [
    "df1ssTree = ss[[\"APN\",\"Haz Trees Assessment\", \"# of Trees\"]]"
   ]
  },
  {
   "cell_type": "code",
   "execution_count": 16,
   "id": "42733a15",
   "metadata": {
    "scrolled": true
   },
   "outputs": [],
   "source": [
    "df3tree = tree[['APN', 'Tree Survey Date', 'Number of Trees']]"
   ]
  },
  {
   "cell_type": "code",
   "execution_count": 17,
   "id": "77bd82ab",
   "metadata": {
    "scrolled": true
   },
   "outputs": [
    {
     "name": "stderr",
     "output_type": "stream",
     "text": [
      "<ipython-input-17-ec137ec11e72>:1: SettingWithCopyWarning: \n",
      "A value is trying to be set on a copy of a slice from a DataFrame.\n",
      "Try using .loc[row_indexer,col_indexer] = value instead\n",
      "\n",
      "See the caveats in the documentation: https://pandas.pydata.org/pandas-docs/stable/user_guide/indexing.html#returning-a-view-versus-a-copy\n",
      "  df3tree['APN'] = df3tree['APN'].str.replace('-000', '').str.replace('-', '').str.extract(r'(\\d{1,9}.*)')\n"
     ]
    }
   ],
   "source": [
    "df3tree['APN'] = df3tree['APN'].str.replace('-000', '').str.replace('-', '').str.extract(r'(\\d{1,9}.*)')"
   ]
  },
  {
   "cell_type": "code",
   "execution_count": 18,
   "id": "330b502b",
   "metadata": {},
   "outputs": [
    {
     "name": "stderr",
     "output_type": "stream",
     "text": [
      "<ipython-input-18-a99acb18bf8e>:1: SettingWithCopyWarning: \n",
      "A value is trying to be set on a copy of a slice from a DataFrame.\n",
      "Try using .loc[row_indexer,col_indexer] = value instead\n",
      "\n",
      "See the caveats in the documentation: https://pandas.pydata.org/pandas-docs/stable/user_guide/indexing.html#returning-a-view-versus-a-copy\n",
      "  df3tree['APN'] = df3tree['APN'].apply(lambda x: x.upper())\n"
     ]
    }
   ],
   "source": [
    "df3tree['APN'] = df3tree['APN'].apply(lambda x: x.upper())"
   ]
  },
  {
   "cell_type": "code",
   "execution_count": 19,
   "id": "a4cc69aa",
   "metadata": {},
   "outputs": [],
   "source": [
    "noMatchtree = df1ssTree.merge(df3tree,\n",
    "                         left_on='APN',\n",
    "                         right_on='APN',\n",
    "                         how='left')\n",
    "# noMatchtree = noMatchtree[['APN','Haz Trees Assessment', 'Tree Survey Date', '# of Trees','Number of Trees']]"
   ]
  },
  {
   "cell_type": "code",
   "execution_count": 20,
   "id": "d2baa9be",
   "metadata": {},
   "outputs": [],
   "source": [
    "# noMatchtree.to_excel('vlookup trees.xlsx')"
   ]
  },
  {
   "cell_type": "markdown",
   "id": "49f1b1db",
   "metadata": {},
   "source": [
    "# Soil"
   ]
  },
  {
   "cell_type": "code",
   "execution_count": 21,
   "id": "bd6713a0",
   "metadata": {},
   "outputs": [],
   "source": [
    "ssSoil = ss[['APN', \"Soil Sample\"]]"
   ]
  },
  {
   "cell_type": "code",
   "execution_count": 22,
   "id": "ac692b92",
   "metadata": {},
   "outputs": [],
   "source": [
    "ssSoil = ssSoil.rename(columns={'Date Collected': 'Soil Collected_ss'})"
   ]
  },
  {
   "cell_type": "code",
   "execution_count": 23,
   "id": "591f0e03",
   "metadata": {},
   "outputs": [],
   "source": [
    "soil = soils[['APN','Date Collected']]"
   ]
  },
  {
   "cell_type": "code",
   "execution_count": 24,
   "id": "fc8d2c45",
   "metadata": {},
   "outputs": [],
   "source": [
    "soil = soil.rename(columns={'Date Collected':'Soil Collected_ss'})"
   ]
  },
  {
   "cell_type": "code",
   "execution_count": 25,
   "id": "16d28a86",
   "metadata": {},
   "outputs": [],
   "source": [
    "soil['APN'] = soil['APN'].str.replace('-000', \"\").str.replace('-', \"\").str.extract(r'(\\d{1,9}.*)')"
   ]
  },
  {
   "cell_type": "code",
   "execution_count": 26,
   "id": "49b12fd1",
   "metadata": {},
   "outputs": [],
   "source": [
    "soil['APN'] = soil['APN'].astype('str')"
   ]
  },
  {
   "cell_type": "code",
   "execution_count": 27,
   "id": "be4db711",
   "metadata": {
    "scrolled": true
   },
   "outputs": [],
   "source": [
    "soil['APN'] = soil['APN'].apply(lambda x: x.upper())"
   ]
  },
  {
   "cell_type": "code",
   "execution_count": 28,
   "id": "6763a460",
   "metadata": {},
   "outputs": [],
   "source": [
    "noMatchSoils = ssSoil.merge(soil,\n",
    "                           left_on='APN',\n",
    "                           right_on='APN',\n",
    "                           how='left')\n",
    "# noMatchSoils.head(1)"
   ]
  },
  {
   "cell_type": "markdown",
   "id": "593de274",
   "metadata": {},
   "source": [
    "# Asbestos"
   ]
  },
  {
   "cell_type": "code",
   "execution_count": 29,
   "id": "5125988f",
   "metadata": {},
   "outputs": [],
   "source": [
    "ss = ss.rename(columns={\"ASB Abatement\": \"ASB Abatement_SS\"})"
   ]
  },
  {
   "cell_type": "code",
   "execution_count": 30,
   "id": "8b2c0dd0",
   "metadata": {
    "scrolled": true
   },
   "outputs": [],
   "source": [
    "ssASB = ss[['APN','County',\"Chimney\", \"NESHAP Walls\",\"Chimney Tipped\",\"ASB Assessment\",\n",
    "            \"ASB Results Received\", \"ASB Results\", \"ASB Abatement_SS\"]]"
   ]
  },
  {
   "cell_type": "code",
   "execution_count": 31,
   "id": "dc7ddd73",
   "metadata": {
    "scrolled": false
   },
   "outputs": [
    {
     "name": "stderr",
     "output_type": "stream",
     "text": [
      "<ipython-input-31-443d76f97952>:1: SettingWithCopyWarning: \n",
      "A value is trying to be set on a copy of a slice from a DataFrame.\n",
      "Try using .loc[row_indexer,col_indexer] = value instead\n",
      "\n",
      "See the caveats in the documentation: https://pandas.pydata.org/pandas-docs/stable/user_guide/indexing.html#returning-a-view-versus-a-copy\n",
      "  ssASB[\"ASB Results\"] = ssASB[\"ASB Results\"].str.replace('POSITIVE', 'POS').str.replace('NEGATIVE', 'ND')\n",
      "<ipython-input-31-443d76f97952>:2: SettingWithCopyWarning: \n",
      "A value is trying to be set on a copy of a slice from a DataFrame.\n",
      "Try using .loc[row_indexer,col_indexer] = value instead\n",
      "\n",
      "See the caveats in the documentation: https://pandas.pydata.org/pandas-docs/stable/user_guide/indexing.html#returning-a-view-versus-a-copy\n",
      "  ssASB['Chimney'] = ssASB['Chimney'].str.replace('No', \"N\").str.replace('Yes', \"Y\")\n"
     ]
    }
   ],
   "source": [
    "ssASB[\"ASB Results\"] = ssASB[\"ASB Results\"].str.replace('POSITIVE', 'POS').str.replace('NEGATIVE', 'ND')\n",
    "ssASB['Chimney'] = ssASB['Chimney'].str.replace('No', \"N\").str.replace('Yes', \"Y\")\n"
   ]
  },
  {
   "cell_type": "code",
   "execution_count": 32,
   "id": "41a47975",
   "metadata": {},
   "outputs": [],
   "source": [
    "asb =asb.rename(columns={\"Date Collected\": \"ASB Collected\"})"
   ]
  },
  {
   "cell_type": "code",
   "execution_count": 33,
   "id": "6fbf8b70",
   "metadata": {},
   "outputs": [],
   "source": [
    "ASB= asb[[\"APN\", \"ASB Collected\", \"Tt Received Date\", \"Final Results\", \"Point Count Needed?\", \"Point Count Results\",\n",
    "             \"Chimney\", \"NESHAP Walls\", \"CHIM TIP (DATE)\", \"Chimney Finding\",  \"Asbestos Abatement Completed Date\",\n",
    "            \"Chimney Abatement Completed Date\", \"No. of Samples\", \"PLANNING NOTES\"]]"
   ]
  },
  {
   "cell_type": "code",
   "execution_count": 34,
   "id": "36b2812f",
   "metadata": {},
   "outputs": [
    {
     "name": "stderr",
     "output_type": "stream",
     "text": [
      "<ipython-input-34-6769e10c0fd7>:1: SettingWithCopyWarning: \n",
      "A value is trying to be set on a copy of a slice from a DataFrame.\n",
      "Try using .loc[row_indexer,col_indexer] = value instead\n",
      "\n",
      "See the caveats in the documentation: https://pandas.pydata.org/pandas-docs/stable/user_guide/indexing.html#returning-a-view-versus-a-copy\n",
      "  ASB['APN'] = ASB['APN'].str.replace('-000', \"\").str.replace('-', \"\").str.extract(r'(\\d{1,9}.*)')\n",
      "<ipython-input-34-6769e10c0fd7>:2: SettingWithCopyWarning: \n",
      "A value is trying to be set on a copy of a slice from a DataFrame.\n",
      "Try using .loc[row_indexer,col_indexer] = value instead\n",
      "\n",
      "See the caveats in the documentation: https://pandas.pydata.org/pandas-docs/stable/user_guide/indexing.html#returning-a-view-versus-a-copy\n",
      "  ASB['APN'] = ASB['APN'].apply(lambda x: x.upper())\n",
      "<ipython-input-34-6769e10c0fd7>:3: SettingWithCopyWarning: \n",
      "A value is trying to be set on a copy of a slice from a DataFrame.\n",
      "Try using .loc[row_indexer,col_indexer] = value instead\n",
      "\n",
      "See the caveats in the documentation: https://pandas.pydata.org/pandas-docs/stable/user_guide/indexing.html#returning-a-view-versus-a-copy\n",
      "  ASB['NESHAP Walls'] = ASB['NESHAP Walls'].replace(\"Y\", 1)\n"
     ]
    }
   ],
   "source": [
    "ASB['APN'] = ASB['APN'].str.replace('-000', \"\").str.replace('-', \"\").str.extract(r'(\\d{1,9}.*)')\n",
    "ASB['APN'] = ASB['APN'].apply(lambda x: x.upper())\n",
    "ASB['NESHAP Walls'] = ASB['NESHAP Walls'].replace(\"Y\", 1)"
   ]
  },
  {
   "cell_type": "code",
   "execution_count": 35,
   "id": "594c631d",
   "metadata": {
    "scrolled": true
   },
   "outputs": [],
   "source": [
    "noMatchASB = ssASB.merge(ASB,\n",
    "                        left_on='APN',\n",
    "                        right_on='APN',\n",
    "                        how='left', \n",
    "                         suffixes=('_SS', '_ASB'))\n",
    "# noMatchASB = noMatchASB[['APN', 'County','Tt Received Date', 'ASB Results Received', 'Final Results', 'ASB Results','No. of Samples',\n",
    "#                          'Point Count Needed?', 'Point Count Results','Chimney_SS','Chimney_ASB',\"Chimney Tipped\",'CHIM TIP (DATE)',\n",
    "#                          'Chimney Finding','ASB Abatement',\"Asbestos Abatement Completed Date\",\"Chimney Abatement Completed Date\",\n",
    "#                          'NESHAP Walls_SS', 'NESHAP Walls_ASB',]]"
   ]
  },
  {
   "cell_type": "code",
   "execution_count": 36,
   "id": "f9d1362b",
   "metadata": {},
   "outputs": [],
   "source": [
    "# noMatchASB.to_excel('ASB test.xlsx')"
   ]
  },
  {
   "cell_type": "markdown",
   "id": "76512b13",
   "metadata": {},
   "source": [
    "# Merge all excel files together"
   ]
  },
  {
   "cell_type": "code",
   "execution_count": 37,
   "id": "4dd8a188",
   "metadata": {},
   "outputs": [],
   "source": [
    "df1 = noMatchSA.merge(noMatchtree,\n",
    "                     left_on='APN',\n",
    "                     right_on='APN',\n",
    "                     how='left')\n",
    "# df1.head(1)"
   ]
  },
  {
   "cell_type": "code",
   "execution_count": 38,
   "id": "6d20d351",
   "metadata": {},
   "outputs": [],
   "source": [
    "df2 = df1.merge(noMatchSoils,\n",
    "               left_on='APN',\n",
    "               right_on='APN',\n",
    "               how='left')\n",
    "# df2.head(1)"
   ]
  },
  {
   "cell_type": "code",
   "execution_count": 39,
   "id": "93e46679",
   "metadata": {
    "scrolled": true
   },
   "outputs": [],
   "source": [
    "df_final = df2.merge(noMatchASB,\n",
    "                    left_on='APN',\n",
    "                    right_on='APN',\n",
    "                    how='left')\n",
    "# df_final.head(2)"
   ]
  },
  {
   "cell_type": "code",
   "execution_count": 40,
   "id": "d2075e2d",
   "metadata": {},
   "outputs": [],
   "source": [
    "# df_final['Smart Sheet APNs'] = df_final['APN'].astype(str).str[0:3] + \"-\" + df_final['APN'].astype(str).str[3:6] + \"-\" + df_final['APN'].astype(str).str[6:]"
   ]
  },
  {
   "cell_type": "code",
   "execution_count": 41,
   "id": "108d2689",
   "metadata": {},
   "outputs": [],
   "source": [
    "df_final['Smart Sheet APNs'] = df['APN']"
   ]
  },
  {
   "cell_type": "code",
   "execution_count": 42,
   "id": "5f9f7ccf",
   "metadata": {},
   "outputs": [],
   "source": [
    "df_final = df_final[['Smart Sheet APNs', 'APN','Street #','Street Name',\"Structural Status\",'County',\n",
    "                     \"ASB Collected\",\"ASB Assessment\",\n",
    "                     'Tt Received Date','ASB Results Received',\n",
    "                     'Final Results','ASB Results','No. of Samples','Point Count Needed?', 'Point Count Results',\n",
    "                     'Chimney_SS','Chimney_ASB',\"Chimney Tipped\",'CHIM TIP (DATE)','Chimney Finding',\n",
    "                     \"Asbestos Abatement Completed Date\", \"ASB Abatement_SS\",\"Chimney Abatement Completed Date\",\n",
    "                     'NESHAP Walls_SS','NESHAP Walls_ASB',\n",
    "                     \"SA Completed\",\"Site Assessment\",\n",
    "                     \"Automobiles\",\"Number of Vehicles\", \"Number of Vehicles Removed\",\n",
    "                     'Number of Trees',\"# of Trees\",\n",
    "                     \"Haz Trees Assessment\", 'Tree Survey Date',\n",
    "                     \"Soil Collected_ss\", \"Soil Sample\"]]"
   ]
  },
  {
   "cell_type": "code",
   "execution_count": 43,
   "id": "0c95c777",
   "metadata": {},
   "outputs": [],
   "source": [
    "df_final.set_index('Smart Sheet APNs', inplace=True)"
   ]
  },
  {
   "cell_type": "code",
   "execution_count": 44,
   "id": "3a047188",
   "metadata": {},
   "outputs": [],
   "source": [
    "df_final.to_excel('Final ENV Audit.xlsx')"
   ]
  },
  {
   "cell_type": "code",
   "execution_count": null,
   "id": "464f7859",
   "metadata": {},
   "outputs": [],
   "source": []
  },
  {
   "cell_type": "markdown",
   "id": "2b03ee0f",
   "metadata": {},
   "source": [
    "# highlight differences (Doesn't work)"
   ]
  },
  {
   "cell_type": "code",
   "execution_count": 45,
   "id": "f24a5183",
   "metadata": {},
   "outputs": [],
   "source": [
    "# df_all = ssSetUp(ss)"
   ]
  },
  {
   "cell_type": "code",
   "execution_count": 46,
   "id": "d8d12997",
   "metadata": {},
   "outputs": [],
   "source": [
    "# def highlight_diff(data, color='yellow'):\n",
    "#     attr = 'background-color: {}'.format(color)\n",
    "#     other = data.xs('Date Collected', axis=1, level=-1)\n",
    "    \n",
    "#     return pd.DataFrame(np.where(data.ne(other, level=0), attr, ''),\n",
    "#                       index=data.index, columns=data.columns)\n",
    "\n",
    "\n",
    "# df = df_final.style.apply(highlight_diff, axis=None)"
   ]
  },
  {
   "cell_type": "code",
   "execution_count": 47,
   "id": "8aeb1f1f",
   "metadata": {},
   "outputs": [],
   "source": [
    "# df"
   ]
  }
 ],
 "metadata": {
  "kernelspec": {
   "display_name": "Python 3",
   "language": "python",
   "name": "python3"
  },
  "language_info": {
   "codemirror_mode": {
    "name": "ipython",
    "version": 3
   },
   "file_extension": ".py",
   "mimetype": "text/x-python",
   "name": "python",
   "nbconvert_exporter": "python",
   "pygments_lexer": "ipython3",
   "version": "3.9.4"
  }
 },
 "nbformat": 4,
 "nbformat_minor": 5
}
