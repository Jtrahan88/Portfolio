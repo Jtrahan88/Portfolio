{
 "cells": [
  {
   "cell_type": "code",
   "execution_count": 1,
   "id": "a3a10172",
   "metadata": {},
   "outputs": [],
   "source": [
    "import pandas as pd\n",
    "import numpy as np\n",
    "import datetime"
   ]
  },
  {
   "cell_type": "markdown",
   "id": "9d173646",
   "metadata": {},
   "source": [
    "# Load All Data Frames"
   ]
  },
  {
   "cell_type": "code",
   "execution_count": 2,
   "id": "ef38bb85",
   "metadata": {},
   "outputs": [
    {
     "name": "stderr",
     "output_type": "stream",
     "text": [
      "C:\\Users\\jacque.trahan\\AppData\\Roaming\\Python\\Python39\\site-packages\\openpyxl\\worksheet\\_reader.py:203: UserWarning: Cell AP126 is marked as a date but the serial value 6684319.0 is outside the limits for dates. The cell will be treated as an error.\n",
      "  warn(msg)\n",
      "C:\\Users\\jacque.trahan\\AppData\\Roaming\\Python\\Python39\\site-packages\\openpyxl\\worksheet\\_reader.py:203: UserWarning: Cell AU206 is marked as a date but the serial value 6684319.0 is outside the limits for dates. The cell will be treated as an error.\n",
      "  warn(msg)\n",
      "C:\\Users\\jacque.trahan\\AppData\\Roaming\\Python\\Python39\\site-packages\\openpyxl\\worksheet\\_reader.py:203: UserWarning: Cell AJ1964 is marked as a date but the serial value 6691802.0 is outside the limits for dates. The cell will be treated as an error.\n",
      "  warn(msg)\n"
     ]
    }
   ],
   "source": [
    "ss = pd.read_excel('Northern Branch Phase II Debris Removal Ops (1).xlsx', parse_dates=True)\n",
    "soils = pd.read_excel(\"TT_Northern Branch_Soil.xlsx\", header=1, parse_dates=True)\n",
    "sa = pd.read_excel('TT_North Branch_Site Assessment.xlsx', header=1, parse_dates=True)\n",
    "asb = pd.read_excel('TT_North Branch_Asbestos.xlsx', header=1)\n",
    "tree = pd.read_excel('North Branch CA Wildfires - Parcel Issues.xlsx', sheet_name=\"PPDR SURVEYS\")"
   ]
  },
  {
   "cell_type": "markdown",
   "id": "fbbe200b",
   "metadata": {},
   "source": [
    "## DF set up for work Vlook up examples"
   ]
  },
  {
   "cell_type": "code",
   "execution_count": 3,
   "id": "85ead759",
   "metadata": {},
   "outputs": [],
   "source": [
    "ss['APN'] = ss['APN'].str.replace('-000', \"\").str.replace('-', \"\").str.extract(r'(\\d{1,9}.*)')"
   ]
  },
  {
   "cell_type": "code",
   "execution_count": 4,
   "id": "f7ecd9f2",
   "metadata": {},
   "outputs": [],
   "source": [
    "ss['APN'] = ss['APN'].apply(lambda x: x.upper())"
   ]
  },
  {
   "cell_type": "markdown",
   "id": "e696de8c",
   "metadata": {},
   "source": [
    "# Site Assessment"
   ]
  },
  {
   "cell_type": "code",
   "execution_count": 5,
   "id": "587e4f85",
   "metadata": {},
   "outputs": [],
   "source": [
    "sa['APN'] = sa['APN'].str.replace('-000', \"\").str.replace('-', \"\").str.extract(r'(\\d{1,9}.*)')"
   ]
  },
  {
   "cell_type": "code",
   "execution_count": 6,
   "id": "801ca2f8",
   "metadata": {},
   "outputs": [],
   "source": [
    "sa['APN'] = sa['APN'].apply(lambda x: x.upper())"
   ]
  },
  {
   "cell_type": "code",
   "execution_count": 7,
   "id": "16898d16",
   "metadata": {},
   "outputs": [],
   "source": [
    "df1ssSA = ss[['APN', \"Site Assessment\"]]"
   ]
  },
  {
   "cell_type": "code",
   "execution_count": 8,
   "id": "7d8f975d",
   "metadata": {},
   "outputs": [],
   "source": [
    "df2sa = sa[[\"APN\", \"Date Completed\"]]"
   ]
  },
  {
   "cell_type": "code",
   "execution_count": 9,
   "id": "0011950a",
   "metadata": {},
   "outputs": [],
   "source": [
    "noMatchSA = df1ssSA.merge(df2sa,\n",
    "                     left_on='APN',\n",
    "                     right_on='APN',\n",
    "                     how='left')\n",
    "# noMatchSA.head()"
   ]
  },
  {
   "cell_type": "code",
   "execution_count": 10,
   "id": "607626e3",
   "metadata": {},
   "outputs": [],
   "source": [
    "# noMatchSA.to_excel('testvlookup.xlsx')"
   ]
  },
  {
   "cell_type": "markdown",
   "id": "87297f44",
   "metadata": {},
   "source": [
    "# Tree set up"
   ]
  },
  {
   "cell_type": "code",
   "execution_count": 11,
   "id": "92290ffd",
   "metadata": {},
   "outputs": [],
   "source": [
    "df1ssTree = ss[[\"APN\",\"Haz Trees Assessment\", \"# of Trees\"]]"
   ]
  },
  {
   "cell_type": "code",
   "execution_count": 12,
   "id": "a44cedfe",
   "metadata": {
    "scrolled": true
   },
   "outputs": [],
   "source": [
    "df3tree = tree[['APN', 'Tree Survey Date', 'Number of Trees']]"
   ]
  },
  {
   "cell_type": "code",
   "execution_count": 13,
   "id": "93988a22",
   "metadata": {},
   "outputs": [
    {
     "name": "stderr",
     "output_type": "stream",
     "text": [
      "<ipython-input-13-ec137ec11e72>:1: SettingWithCopyWarning: \n",
      "A value is trying to be set on a copy of a slice from a DataFrame.\n",
      "Try using .loc[row_indexer,col_indexer] = value instead\n",
      "\n",
      "See the caveats in the documentation: https://pandas.pydata.org/pandas-docs/stable/user_guide/indexing.html#returning-a-view-versus-a-copy\n",
      "  df3tree['APN'] = df3tree['APN'].str.replace('-000', '').str.replace('-', '').str.extract(r'(\\d{1,9}.*)')\n"
     ]
    }
   ],
   "source": [
    "df3tree['APN'] = df3tree['APN'].str.replace('-000', '').str.replace('-', '').str.extract(r'(\\d{1,9}.*)')"
   ]
  },
  {
   "cell_type": "code",
   "execution_count": 14,
   "id": "9bc9547d",
   "metadata": {},
   "outputs": [],
   "source": [
    "noMatchtree = df1ssTree.merge(df3tree,\n",
    "                         left_on='APN',\n",
    "                         right_on='APN',\n",
    "                         how='left')\n",
    "noMatchtree = noMatchtree[['APN','Haz Trees Assessment', 'Tree Survey Date', '# of Trees','Number of Trees']]"
   ]
  },
  {
   "cell_type": "code",
   "execution_count": 15,
   "id": "07f89bd9",
   "metadata": {},
   "outputs": [],
   "source": [
    "# noMatchtree.to_excel('vlookup trees.xlsx')"
   ]
  },
  {
   "cell_type": "markdown",
   "id": "9321df85",
   "metadata": {},
   "source": [
    "# Soil"
   ]
  },
  {
   "cell_type": "code",
   "execution_count": 16,
   "id": "e4b9161f",
   "metadata": {},
   "outputs": [],
   "source": [
    "ssSoil = ss[['APN', \"Soil Sample\"]]"
   ]
  },
  {
   "cell_type": "code",
   "execution_count": 17,
   "id": "9691295a",
   "metadata": {},
   "outputs": [
    {
     "name": "stderr",
     "output_type": "stream",
     "text": [
      "<ipython-input-17-4c70af5baaef>:1: SettingWithCopyWarning: \n",
      "A value is trying to be set on a copy of a slice from a DataFrame.\n",
      "Try using .loc[row_indexer,col_indexer] = value instead\n",
      "\n",
      "See the caveats in the documentation: https://pandas.pydata.org/pandas-docs/stable/user_guide/indexing.html#returning-a-view-versus-a-copy\n",
      "  ssSoil['APN'] = ssSoil['APN'].str.replace('-000', \"\").str.replace('-', \"\").str.extract(r'(\\d{1,9}.*)')\n"
     ]
    }
   ],
   "source": [
    "ssSoil['APN'] = ssSoil['APN'].str.replace('-000', \"\").str.replace('-', \"\").str.extract(r'(\\d{1,9}.*)')"
   ]
  },
  {
   "cell_type": "code",
   "execution_count": 18,
   "id": "67455470",
   "metadata": {},
   "outputs": [],
   "source": [
    "soil = soils[['APN', 'Date Collected']]"
   ]
  },
  {
   "cell_type": "code",
   "execution_count": 19,
   "id": "ce7bbdeb",
   "metadata": {},
   "outputs": [
    {
     "name": "stderr",
     "output_type": "stream",
     "text": [
      "<ipython-input-19-7c7acfafd4cf>:1: SettingWithCopyWarning: \n",
      "A value is trying to be set on a copy of a slice from a DataFrame.\n",
      "Try using .loc[row_indexer,col_indexer] = value instead\n",
      "\n",
      "See the caveats in the documentation: https://pandas.pydata.org/pandas-docs/stable/user_guide/indexing.html#returning-a-view-versus-a-copy\n",
      "  soil['APN'] = soil['APN'].str.replace('-000', \"\").str.replace('-', \"\").str.extract(r'(\\d{1,9}.*)')\n"
     ]
    }
   ],
   "source": [
    "soil['APN'] = soil['APN'].str.replace('-000', \"\").str.replace('-', \"\").str.extract(r'(\\d{1,9}.*)')"
   ]
  },
  {
   "cell_type": "code",
   "execution_count": 20,
   "id": "b034f8a3",
   "metadata": {},
   "outputs": [],
   "source": [
    "noMatchSoils = ssSoil.merge(soil,\n",
    "                           left_on='APN',\n",
    "                           right_on='APN',\n",
    "                           how='left')\n",
    "# noMatchSoils.head(1)"
   ]
  },
  {
   "cell_type": "markdown",
   "id": "cf3bac5a",
   "metadata": {},
   "source": [
    "# Asbestos"
   ]
  },
  {
   "cell_type": "code",
   "execution_count": 21,
   "id": "b6e43bbd",
   "metadata": {},
   "outputs": [],
   "source": [
    "ssASB = ss[['APN','County',\"Chimney\", \"NESHAP Walls\",\"Chimney Tipped\",\"ASB Assessment\",\n",
    "            \"ASB Results Received\", \"ASB Results\", \"ASB Abatement\"]]"
   ]
  },
  {
   "cell_type": "code",
   "execution_count": 22,
   "id": "cae4ab5c",
   "metadata": {},
   "outputs": [
    {
     "name": "stderr",
     "output_type": "stream",
     "text": [
      "<ipython-input-22-063a84ba5a6e>:1: SettingWithCopyWarning: \n",
      "A value is trying to be set on a copy of a slice from a DataFrame.\n",
      "Try using .loc[row_indexer,col_indexer] = value instead\n",
      "\n",
      "See the caveats in the documentation: https://pandas.pydata.org/pandas-docs/stable/user_guide/indexing.html#returning-a-view-versus-a-copy\n",
      "  ssASB[\"ASB Results\"] = ssASB[\"ASB Results\"].str.replace('POSITIVE', 'POS').str.replace('NEGATIVE', 'ND')\n"
     ]
    }
   ],
   "source": [
    "ssASB[\"ASB Results\"] = ssASB[\"ASB Results\"].str.replace('POSITIVE', 'POS').str.replace('NEGATIVE', 'ND')"
   ]
  },
  {
   "cell_type": "code",
   "execution_count": 23,
   "id": "25aab1a3",
   "metadata": {},
   "outputs": [],
   "source": [
    "ASB= asb[[\"APN\", \"Date Collected\", \"Tt Received Date\", \"Final Results\", \"Point Count Needed?\", \"Point Count Results\",\n",
    "             \"Chimney\", \"NESHAP Walls\", \"CHIM TIP (DATE)\", \"Chimney Finding\",  \"Asbestos Abatement Completed Date\",\n",
    "            \"Chimney Abatement Completed Date\", \"No. of Samples\", \"PLANNING NOTES\"]]"
   ]
  },
  {
   "cell_type": "code",
   "execution_count": 24,
   "id": "bf5a38be",
   "metadata": {},
   "outputs": [
    {
     "name": "stderr",
     "output_type": "stream",
     "text": [
      "<ipython-input-24-8df2ec226428>:1: SettingWithCopyWarning: \n",
      "A value is trying to be set on a copy of a slice from a DataFrame.\n",
      "Try using .loc[row_indexer,col_indexer] = value instead\n",
      "\n",
      "See the caveats in the documentation: https://pandas.pydata.org/pandas-docs/stable/user_guide/indexing.html#returning-a-view-versus-a-copy\n",
      "  ASB['APN'] = ASB['APN'].str.replace('-000', \"\").str.replace('-', \"\").str.extract(r'(\\d{1,9}.*)')\n",
      "<ipython-input-24-8df2ec226428>:2: SettingWithCopyWarning: \n",
      "A value is trying to be set on a copy of a slice from a DataFrame.\n",
      "Try using .loc[row_indexer,col_indexer] = value instead\n",
      "\n",
      "See the caveats in the documentation: https://pandas.pydata.org/pandas-docs/stable/user_guide/indexing.html#returning-a-view-versus-a-copy\n",
      "  ASB['APN'] = ASB['APN'].apply(lambda x: x.upper())\n"
     ]
    }
   ],
   "source": [
    "ASB['APN'] = ASB['APN'].str.replace('-000', \"\").str.replace('-', \"\").str.extract(r'(\\d{1,9}.*)')\n",
    "ASB['APN'] = ASB['APN'].apply(lambda x: x.upper())"
   ]
  },
  {
   "cell_type": "code",
   "execution_count": 25,
   "id": "1f5d781a",
   "metadata": {
    "scrolled": true
   },
   "outputs": [],
   "source": [
    "noMatchASB = ssASB.merge(ASB,\n",
    "                        left_on='APN',\n",
    "                        right_on='APN',\n",
    "                        how='left', \n",
    "                         suffixes=('_SS', '_ASB'))\n",
    "noMatchASB = noMatchASB[['APN', 'County','Tt Received Date', 'ASB Results Received', 'Final Results', 'ASB Results','No. of Samples',\n",
    "                         'Point Count Needed?', 'Point Count Results','Chimney_SS','Chimney_ASB',\"Chimney Tipped\",'CHIM TIP (DATE)',\n",
    "                         'Chimney Finding','ASB Abatement',\"Asbestos Abatement Completed Date\",\"Chimney Abatement Completed Date\",\n",
    "                         'NESHAP Walls_SS', 'NESHAP Walls_ASB',]]"
   ]
  },
  {
   "cell_type": "code",
   "execution_count": 26,
   "id": "389fbca7",
   "metadata": {},
   "outputs": [],
   "source": [
    "# noMatchASB.to_excel('ASB test.xlsx')"
   ]
  },
  {
   "cell_type": "code",
   "execution_count": 27,
   "id": "b5c6fa8f",
   "metadata": {},
   "outputs": [
    {
     "data": {
      "text/html": [
       "<div>\n",
       "<style scoped>\n",
       "    .dataframe tbody tr th:only-of-type {\n",
       "        vertical-align: middle;\n",
       "    }\n",
       "\n",
       "    .dataframe tbody tr th {\n",
       "        vertical-align: top;\n",
       "    }\n",
       "\n",
       "    .dataframe thead th {\n",
       "        text-align: right;\n",
       "    }\n",
       "</style>\n",
       "<table border=\"1\" class=\"dataframe\">\n",
       "  <thead>\n",
       "    <tr style=\"text-align: right;\">\n",
       "      <th></th>\n",
       "      <th>APN</th>\n",
       "      <th>Site Assessment</th>\n",
       "      <th>Date Completed</th>\n",
       "      <th>Haz Trees Assessment</th>\n",
       "      <th>Tree Survey Date</th>\n",
       "      <th># of Trees</th>\n",
       "      <th>Number of Trees</th>\n",
       "    </tr>\n",
       "  </thead>\n",
       "  <tbody>\n",
       "    <tr>\n",
       "      <th>0</th>\n",
       "      <td>061080068</td>\n",
       "      <td>2021-09-03</td>\n",
       "      <td>NaT</td>\n",
       "      <td>2021-06-25</td>\n",
       "      <td>2021-09-15</td>\n",
       "      <td>26.0</td>\n",
       "      <td>47.0</td>\n",
       "    </tr>\n",
       "  </tbody>\n",
       "</table>\n",
       "</div>"
      ],
      "text/plain": [
       "         APN Site Assessment Date Completed Haz Trees Assessment  \\\n",
       "0  061080068      2021-09-03            NaT           2021-06-25   \n",
       "\n",
       "  Tree Survey Date  # of Trees  Number of Trees  \n",
       "0       2021-09-15        26.0             47.0  "
      ]
     },
     "execution_count": 27,
     "metadata": {},
     "output_type": "execute_result"
    }
   ],
   "source": [
    "df1 = noMatchSA.merge(noMatchtree,\n",
    "                     left_on='APN',\n",
    "                     right_on='APN',\n",
    "                     how='left')\n",
    "# df1.head(1)"
   ]
  },
  {
   "cell_type": "code",
   "execution_count": 28,
   "id": "628ae3dd",
   "metadata": {},
   "outputs": [],
   "source": [
    "df2 = df1.merge(noMatchSoils,\n",
    "               left_on='APN',\n",
    "               right_on='APN',\n",
    "               how='left')\n",
    "# df2.head(1)"
   ]
  },
  {
   "cell_type": "code",
   "execution_count": 29,
   "id": "70feb05b",
   "metadata": {
    "scrolled": true
   },
   "outputs": [],
   "source": [
    "df_final = df2.merge(noMatchASB,\n",
    "                    left_on='APN',\n",
    "                    right_on='APN',\n",
    "                    how='left')\n",
    "# df_final.head(2)"
   ]
  },
  {
   "cell_type": "code",
   "execution_count": 30,
   "id": "1ba6f431",
   "metadata": {},
   "outputs": [],
   "source": [
    "df_final.to_excel('Final Test.xlsx')"
   ]
  },
  {
   "cell_type": "markdown",
   "id": "807dadb6",
   "metadata": {},
   "source": [
    "# Smart Sheets SetUp"
   ]
  },
  {
   "cell_type": "code",
   "execution_count": 31,
   "id": "acc81606",
   "metadata": {},
   "outputs": [],
   "source": [
    "# def ssSetUp(ss):\n",
    "#     \"\"\"Call all data frames concate them and highligh differences\"\"\"\n",
    "#     ss = ss.copy()\n",
    "#     ss = ss[[\"APN\", \"County\", \"Structural Status\", \"Site Assessment\", \"Chimney\", \"NESHAP Walls\",\n",
    "#              \"Chimney Tipped\", \"Number of Vehicles\", \"Haz Trees Assessment\", \"# of Trees\",\n",
    "#              \"ASB Assessment\", \"ASB Results Received\", \"ASB Results\", \"ASB Abatement\",\n",
    "#              \"Number of Vehicles Removed\", \"Soil Sample\"]]\n",
    "#     ss['APN'] = ss['APN'].apply(lambda x: x.upper())\n",
    "#     ss['APN'] = ss['APN'].str.replace('-000', '').str.replace('-', '').str.extract(r'(\\d{1,9}.*)')\n",
    "# #     ss['Soil Sample'] = ss['Soil Sample'].dt.strftime(\"%m-%d-%y\")\n",
    "#     ss = ss.set_index('APN')\n",
    "    \n",
    "    \n",
    "#     #Soil concat\n",
    "#     soil = soilSetUp(soils)\n",
    "#      # SA concate to soil\n",
    "#     SA = saSetup(sa)\n",
    "# #     df1 = pd.concat([ss.set_index('APN'), soil.set_index('APN')], axis=1, keys=('Smart Sheets', 'Soils'))\n",
    "#     df1 = pd.merge((ss, soil), how='outer')\n",
    "# #     df2 = pd.merge((d1, SA))\n",
    "#     # SA concate to soil\n",
    "# #     SA = saSetup(sa)\n",
    "# #     df2 = pd.concat([df1, SA.set_index('APN')], axis=1, keys=('Smart Sheets', 'Soils', 'SA'))\n",
    "    \n",
    "#     return  df1\n"
   ]
  },
  {
   "cell_type": "code",
   "execution_count": 32,
   "id": "b2b50658",
   "metadata": {},
   "outputs": [],
   "source": [
    "# ss = ss[[\"APN\", \"County\", \"Structural Status\", \"Site Assessment\", \"Chimney\", \"NESHAP Walls\",\n",
    "#              \"Chimney Tipped\", \"Number of Vehicles\", \"Haz Trees Assessment\", \"# of Trees\",\n",
    "#              \"ASB Assessment\", \"ASB Results Received\", \"ASB Results\", \"ASB Abatement\",\n",
    "#              \"Number of Vehicles Removed\", \"Soil Sample\"]]"
   ]
  },
  {
   "cell_type": "markdown",
   "id": "73a4153b",
   "metadata": {},
   "source": [
    "# Soil"
   ]
  },
  {
   "cell_type": "code",
   "execution_count": 33,
   "id": "d81e76d3",
   "metadata": {},
   "outputs": [],
   "source": [
    "# def soilSetUp(soils):\n",
    "#     soils = soils.copy()\n",
    "#     soils = soils[['APN', 'Date Collected']]\n",
    "#     soils.drop(index=0, inplace=True)\n",
    "#     soils['Date Collected'] = pd.to_datetime(soils['Date Collected'], errors='coerce')\n",
    "# #     soils['Date Collected'].replace(np.nan, 0, inplace=True)\n",
    "# #     soils['Date Collected'] = soils['Date Collected'].dt.strftime('%m-%d-%y')\n",
    "#     soils['APN'] = soils['APN'].apply(lambda x: x.upper())\n",
    "#     soils['APN'] = soils['APN'].str.replace('-000', '').str.replace('-', '').str.extract(r'(\\d{1,9}.*)')\n",
    "#     soils = soils.set_index('APN')\n",
    "#     return soils"
   ]
  },
  {
   "cell_type": "code",
   "execution_count": 34,
   "id": "735e3a25",
   "metadata": {
    "scrolled": true
   },
   "outputs": [],
   "source": [
    "# soilSetUp(soils)"
   ]
  },
  {
   "cell_type": "markdown",
   "id": "db02a92a",
   "metadata": {},
   "source": [
    "# Site Assessment(sa)"
   ]
  },
  {
   "cell_type": "code",
   "execution_count": 35,
   "id": "0a714dd7",
   "metadata": {},
   "outputs": [],
   "source": [
    "# def saSetup(sa):\n",
    "#     sa = sa.copy()\n",
    "#     sa = sa[[\"APN\", \"Date Completed\", \"Automobiles\"]]\n",
    "# #     sa['Date Completed'] = sa['Date Completed'].dt.strftime('%m-%d-%y')\n",
    "#     sa['Automobiles'] = sa['Automobiles'].replace(np.nan, 0)\n",
    "#     sa['APN'] = sa['APN'].apply(lambda x: x.upper())\n",
    "#     sa['APN'] = sa['APN'].str.replace('-000', \"\").str.replace('-', '').str.extract(r'(\\d{1,9}.*)')\n",
    "#     sa = sa.set_index('APN')\n",
    "#     return sa\n",
    "\n",
    "\n"
   ]
  },
  {
   "cell_type": "code",
   "execution_count": 36,
   "id": "ce1b290f",
   "metadata": {},
   "outputs": [],
   "source": [
    "# df_all = ssSetUp(ss)"
   ]
  },
  {
   "cell_type": "code",
   "execution_count": 37,
   "id": "c21140b8",
   "metadata": {},
   "outputs": [],
   "source": [
    "# df_all.to_excel('SS Soil Sa.xlsx')\n"
   ]
  },
  {
   "cell_type": "code",
   "execution_count": null,
   "id": "2d9faaa1",
   "metadata": {},
   "outputs": [],
   "source": []
  },
  {
   "cell_type": "markdown",
   "id": "2b03ee0f",
   "metadata": {},
   "source": [
    "# highlight diffeentces(Doesn't work)"
   ]
  },
  {
   "cell_type": "code",
   "execution_count": 38,
   "id": "f24a5183",
   "metadata": {},
   "outputs": [],
   "source": [
    "# df_all = ssSetUp(ss)"
   ]
  },
  {
   "cell_type": "code",
   "execution_count": 39,
   "id": "d8d12997",
   "metadata": {},
   "outputs": [],
   "source": [
    "# def highlight_diff(data, color='yellow'):\n",
    "#     attr = 'background-color: {}'.format(color)\n",
    "#     other = data.xs('Date Collected', axis=1, level=-1)\n",
    "    \n",
    "#     return pd.DataFrame(np.where(data.ne(other, level=0), attr, ''),\n",
    "#                       index=data.index, columns=data.columns)\n",
    "\n",
    "\n",
    "# df = df_all.style.apply(highlight_diff, axis=None)"
   ]
  }
 ],
 "metadata": {
  "kernelspec": {
   "display_name": "Python 3",
   "language": "python",
   "name": "python3"
  },
  "language_info": {
   "codemirror_mode": {
    "name": "ipython",
    "version": 3
   },
   "file_extension": ".py",
   "mimetype": "text/x-python",
   "name": "python",
   "nbconvert_exporter": "python",
   "pygments_lexer": "ipython3",
   "version": "3.9.4"
  }
 },
 "nbformat": 4,
 "nbformat_minor": 5
}
