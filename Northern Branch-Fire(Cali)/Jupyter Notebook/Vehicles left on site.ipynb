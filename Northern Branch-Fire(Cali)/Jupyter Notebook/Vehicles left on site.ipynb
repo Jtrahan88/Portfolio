{
 "cells": [
  {
   "cell_type": "code",
   "execution_count": 1,
   "id": "7c277d9b",
   "metadata": {},
   "outputs": [],
   "source": [
    "import pandas as pd\n",
    "import matplotlib.pyplot as plt\n",
    "import numpy as np"
   ]
  },
  {
   "cell_type": "code",
   "execution_count": 2,
   "id": "b8d21013",
   "metadata": {},
   "outputs": [],
   "source": [
    "file_Name = \"Northern Branch Phase II Debris Removal Ops.xlsx\""
   ]
  },
  {
   "cell_type": "code",
   "execution_count": 3,
   "id": "e38b9d7f",
   "metadata": {
    "scrolled": true
   },
   "outputs": [
    {
     "data": {
      "text/plain": [
       "(2092, 92)"
      ]
     },
     "execution_count": 3,
     "metadata": {},
     "output_type": "execute_result"
    }
   ],
   "source": [
    "df = pd.read_excel(file_Name)\n",
    "df.shape"
   ]
  },
  {
   "cell_type": "code",
   "execution_count": 4,
   "id": "b0439ecb",
   "metadata": {},
   "outputs": [
    {
     "data": {
      "text/html": [
       "<div>\n",
       "<style scoped>\n",
       "    .dataframe tbody tr th:only-of-type {\n",
       "        vertical-align: middle;\n",
       "    }\n",
       "\n",
       "    .dataframe tbody tr th {\n",
       "        vertical-align: top;\n",
       "    }\n",
       "\n",
       "    .dataframe thead th {\n",
       "        text-align: right;\n",
       "    }\n",
       "</style>\n",
       "<table border=\"1\" class=\"dataframe\">\n",
       "  <thead>\n",
       "    <tr style=\"text-align: right;\">\n",
       "      <th></th>\n",
       "      <th>APN</th>\n",
       "      <th>County</th>\n",
       "      <th>Structural Status</th>\n",
       "      <th>Haz Tree Only</th>\n",
       "      <th># of Trees</th>\n",
       "      <th>Haz Trees Assessment</th>\n",
       "      <th>Haz Trees</th>\n",
       "      <th>Hazard Tree Status</th>\n",
       "      <th>Street #</th>\n",
       "      <th>Street Name</th>\n",
       "      <th>...</th>\n",
       "      <th>County Notified Haz Tree Only</th>\n",
       "      <th>Approved for Special Inclusion</th>\n",
       "      <th>Sync Status</th>\n",
       "      <th>Tree Eligibility</th>\n",
       "      <th>Tree Felling Complete</th>\n",
       "      <th>Tree Removal Complete</th>\n",
       "      <th>Number of Trees Felled</th>\n",
       "      <th>Trees Final Site Walk</th>\n",
       "      <th>In Tree Tracker?</th>\n",
       "      <th>duplicate</th>\n",
       "    </tr>\n",
       "  </thead>\n",
       "  <tbody>\n",
       "    <tr>\n",
       "      <th>0</th>\n",
       "      <td>810-535-33189-000</td>\n",
       "      <td>LionKing</td>\n",
       "      <td>ROE Received</td>\n",
       "      <td>NaN</td>\n",
       "      <td>NaN</td>\n",
       "      <td>NaT</td>\n",
       "      <td>NaN</td>\n",
       "      <td>NaN</td>\n",
       "      <td>1000000006</td>\n",
       "      <td>1000001 seame Street</td>\n",
       "      <td>...</td>\n",
       "      <td>NaN</td>\n",
       "      <td>NaN</td>\n",
       "      <td>NaN</td>\n",
       "      <td>NaN</td>\n",
       "      <td>NaT</td>\n",
       "      <td>NaT</td>\n",
       "      <td>NaN</td>\n",
       "      <td>NaN</td>\n",
       "      <td>NaN</td>\n",
       "      <td>NaN</td>\n",
       "    </tr>\n",
       "    <tr>\n",
       "      <th>1</th>\n",
       "      <td>739-195-37236-000</td>\n",
       "      <td>Beetle Juice</td>\n",
       "      <td>ROE Received</td>\n",
       "      <td>NaN</td>\n",
       "      <td>NaN</td>\n",
       "      <td>NaT</td>\n",
       "      <td>NaN</td>\n",
       "      <td>NaN</td>\n",
       "      <td>1000000007</td>\n",
       "      <td>1000002 seame Street</td>\n",
       "      <td>...</td>\n",
       "      <td>NaN</td>\n",
       "      <td>NaN</td>\n",
       "      <td>NaN</td>\n",
       "      <td>NaN</td>\n",
       "      <td>NaT</td>\n",
       "      <td>NaT</td>\n",
       "      <td>NaN</td>\n",
       "      <td>NaN</td>\n",
       "      <td>NaN</td>\n",
       "      <td>NaN</td>\n",
       "    </tr>\n",
       "    <tr>\n",
       "      <th>2</th>\n",
       "      <td>264-009-70438-000</td>\n",
       "      <td>Zelda</td>\n",
       "      <td>ROE Received</td>\n",
       "      <td>NaN</td>\n",
       "      <td>NaN</td>\n",
       "      <td>NaT</td>\n",
       "      <td>NaN</td>\n",
       "      <td>NaN</td>\n",
       "      <td>1000000008</td>\n",
       "      <td>1000003 seame Street</td>\n",
       "      <td>...</td>\n",
       "      <td>NaN</td>\n",
       "      <td>NaN</td>\n",
       "      <td>NaN</td>\n",
       "      <td>NaN</td>\n",
       "      <td>NaT</td>\n",
       "      <td>NaT</td>\n",
       "      <td>NaN</td>\n",
       "      <td>NaN</td>\n",
       "      <td>NaN</td>\n",
       "      <td>NaN</td>\n",
       "    </tr>\n",
       "    <tr>\n",
       "      <th>3</th>\n",
       "      <td>421-184-36498-000</td>\n",
       "      <td>Mario Land</td>\n",
       "      <td>ROE Received</td>\n",
       "      <td>NaN</td>\n",
       "      <td>NaN</td>\n",
       "      <td>NaT</td>\n",
       "      <td>NaN</td>\n",
       "      <td>NaN</td>\n",
       "      <td>1000000009</td>\n",
       "      <td>1000001 seame Street</td>\n",
       "      <td>...</td>\n",
       "      <td>NaN</td>\n",
       "      <td>NaN</td>\n",
       "      <td>NaN</td>\n",
       "      <td>NaN</td>\n",
       "      <td>NaT</td>\n",
       "      <td>NaT</td>\n",
       "      <td>NaN</td>\n",
       "      <td>NaN</td>\n",
       "      <td>NaN</td>\n",
       "      <td>NaN</td>\n",
       "    </tr>\n",
       "    <tr>\n",
       "      <th>4</th>\n",
       "      <td>173-267-38330-000</td>\n",
       "      <td>LionKing</td>\n",
       "      <td>ROE Received</td>\n",
       "      <td>1.0</td>\n",
       "      <td>NaN</td>\n",
       "      <td>NaT</td>\n",
       "      <td>NaN</td>\n",
       "      <td>NaN</td>\n",
       "      <td>1000000010</td>\n",
       "      <td>1000002 seame Street</td>\n",
       "      <td>...</td>\n",
       "      <td>NaN</td>\n",
       "      <td>NaN</td>\n",
       "      <td>NaN</td>\n",
       "      <td>NaN</td>\n",
       "      <td>NaT</td>\n",
       "      <td>NaT</td>\n",
       "      <td>NaN</td>\n",
       "      <td>NaN</td>\n",
       "      <td>NaN</td>\n",
       "      <td>NaN</td>\n",
       "    </tr>\n",
       "    <tr>\n",
       "      <th>...</th>\n",
       "      <td>...</td>\n",
       "      <td>...</td>\n",
       "      <td>...</td>\n",
       "      <td>...</td>\n",
       "      <td>...</td>\n",
       "      <td>...</td>\n",
       "      <td>...</td>\n",
       "      <td>...</td>\n",
       "      <td>...</td>\n",
       "      <td>...</td>\n",
       "      <td>...</td>\n",
       "      <td>...</td>\n",
       "      <td>...</td>\n",
       "      <td>...</td>\n",
       "      <td>...</td>\n",
       "      <td>...</td>\n",
       "      <td>...</td>\n",
       "      <td>...</td>\n",
       "      <td>...</td>\n",
       "      <td>...</td>\n",
       "      <td>...</td>\n",
       "    </tr>\n",
       "    <tr>\n",
       "      <th>2087</th>\n",
       "      <td>162-826-34949-000</td>\n",
       "      <td>Mario Land</td>\n",
       "      <td>ROE Received</td>\n",
       "      <td>1.0</td>\n",
       "      <td>NaN</td>\n",
       "      <td>NaT</td>\n",
       "      <td>NaN</td>\n",
       "      <td>NaN</td>\n",
       "      <td>1000002093</td>\n",
       "      <td>1000003 seame Street</td>\n",
       "      <td>...</td>\n",
       "      <td>NaN</td>\n",
       "      <td>NaN</td>\n",
       "      <td>NaN</td>\n",
       "      <td>NaN</td>\n",
       "      <td>NaT</td>\n",
       "      <td>NaT</td>\n",
       "      <td>NaN</td>\n",
       "      <td>NaN</td>\n",
       "      <td>NaN</td>\n",
       "      <td>NaN</td>\n",
       "    </tr>\n",
       "    <tr>\n",
       "      <th>2088</th>\n",
       "      <td>800-326-4767-000</td>\n",
       "      <td>LionKing</td>\n",
       "      <td>Pending Soil Sample Results</td>\n",
       "      <td>NaN</td>\n",
       "      <td>13.0</td>\n",
       "      <td>2021-01-20</td>\n",
       "      <td>Yes</td>\n",
       "      <td>Hazard Trees Assessed</td>\n",
       "      <td>1000002094</td>\n",
       "      <td>1000001 seame Street</td>\n",
       "      <td>...</td>\n",
       "      <td>NaN</td>\n",
       "      <td>NaN</td>\n",
       "      <td>NaN</td>\n",
       "      <td>NaN</td>\n",
       "      <td>NaT</td>\n",
       "      <td>NaT</td>\n",
       "      <td>NaN</td>\n",
       "      <td>NaN</td>\n",
       "      <td>NaN</td>\n",
       "      <td>NaN</td>\n",
       "    </tr>\n",
       "    <tr>\n",
       "      <th>2089</th>\n",
       "      <td>128-775-68678-000</td>\n",
       "      <td>Beetle Juice</td>\n",
       "      <td>ROE Received</td>\n",
       "      <td>1.0</td>\n",
       "      <td>79.0</td>\n",
       "      <td>2021-03-08</td>\n",
       "      <td>Yes</td>\n",
       "      <td>Hazard Trees Assessed</td>\n",
       "      <td>1000002095</td>\n",
       "      <td>1000001 seame Street</td>\n",
       "      <td>...</td>\n",
       "      <td>NaN</td>\n",
       "      <td>NaN</td>\n",
       "      <td>NaN</td>\n",
       "      <td>NaN</td>\n",
       "      <td>NaT</td>\n",
       "      <td>NaT</td>\n",
       "      <td>NaN</td>\n",
       "      <td>NaN</td>\n",
       "      <td>NaN</td>\n",
       "      <td>NaN</td>\n",
       "    </tr>\n",
       "    <tr>\n",
       "      <th>2090</th>\n",
       "      <td>683-274-76996-000</td>\n",
       "      <td>Zelda</td>\n",
       "      <td>Debris Removal in Progress</td>\n",
       "      <td>NaN</td>\n",
       "      <td>418.0</td>\n",
       "      <td>2021-04-20</td>\n",
       "      <td>Yes</td>\n",
       "      <td>Hazard Trees Assessed</td>\n",
       "      <td>1000002096</td>\n",
       "      <td>1000002 seame Street</td>\n",
       "      <td>...</td>\n",
       "      <td>NaN</td>\n",
       "      <td>NaN</td>\n",
       "      <td>NaN</td>\n",
       "      <td>NaN</td>\n",
       "      <td>NaT</td>\n",
       "      <td>NaT</td>\n",
       "      <td>NaN</td>\n",
       "      <td>NaN</td>\n",
       "      <td>NaN</td>\n",
       "      <td>NaN</td>\n",
       "    </tr>\n",
       "    <tr>\n",
       "      <th>2091</th>\n",
       "      <td>406-335-68471-000</td>\n",
       "      <td>Mario Land</td>\n",
       "      <td>Soil Boring Needed</td>\n",
       "      <td>NaN</td>\n",
       "      <td>NaN</td>\n",
       "      <td>NaT</td>\n",
       "      <td>Do Not Assess</td>\n",
       "      <td>NaN</td>\n",
       "      <td>1000002097</td>\n",
       "      <td>1000003 seame Street</td>\n",
       "      <td>...</td>\n",
       "      <td>NaN</td>\n",
       "      <td>NaN</td>\n",
       "      <td>NaN</td>\n",
       "      <td>NaN</td>\n",
       "      <td>NaT</td>\n",
       "      <td>NaT</td>\n",
       "      <td>NaN</td>\n",
       "      <td>NaN</td>\n",
       "      <td>NaN</td>\n",
       "      <td>NaN</td>\n",
       "    </tr>\n",
       "  </tbody>\n",
       "</table>\n",
       "<p>2092 rows × 92 columns</p>\n",
       "</div>"
      ],
      "text/plain": [
       "                    APN        County            Structural Status  \\\n",
       "0     810-535-33189-000      LionKing                 ROE Received   \n",
       "1     739-195-37236-000  Beetle Juice                 ROE Received   \n",
       "2     264-009-70438-000         Zelda                 ROE Received   \n",
       "3     421-184-36498-000    Mario Land                 ROE Received   \n",
       "4     173-267-38330-000      LionKing                 ROE Received   \n",
       "...                 ...           ...                          ...   \n",
       "2087  162-826-34949-000    Mario Land                 ROE Received   \n",
       "2088   800-326-4767-000      LionKing  Pending Soil Sample Results   \n",
       "2089  128-775-68678-000  Beetle Juice                 ROE Received   \n",
       "2090  683-274-76996-000         Zelda   Debris Removal in Progress   \n",
       "2091  406-335-68471-000    Mario Land           Soil Boring Needed   \n",
       "\n",
       "      Haz Tree Only  # of Trees Haz Trees Assessment      Haz Trees  \\\n",
       "0               NaN         NaN                  NaT            NaN   \n",
       "1               NaN         NaN                  NaT            NaN   \n",
       "2               NaN         NaN                  NaT            NaN   \n",
       "3               NaN         NaN                  NaT            NaN   \n",
       "4               1.0         NaN                  NaT            NaN   \n",
       "...             ...         ...                  ...            ...   \n",
       "2087            1.0         NaN                  NaT            NaN   \n",
       "2088            NaN        13.0           2021-01-20            Yes   \n",
       "2089            1.0        79.0           2021-03-08            Yes   \n",
       "2090            NaN       418.0           2021-04-20            Yes   \n",
       "2091            NaN         NaN                  NaT  Do Not Assess   \n",
       "\n",
       "         Hazard Tree Status    Street #           Street Name  ...  \\\n",
       "0                       NaN  1000000006  1000001 seame Street  ...   \n",
       "1                       NaN  1000000007  1000002 seame Street  ...   \n",
       "2                       NaN  1000000008  1000003 seame Street  ...   \n",
       "3                       NaN  1000000009  1000001 seame Street  ...   \n",
       "4                       NaN  1000000010  1000002 seame Street  ...   \n",
       "...                     ...         ...                   ...  ...   \n",
       "2087                    NaN  1000002093  1000003 seame Street  ...   \n",
       "2088  Hazard Trees Assessed  1000002094  1000001 seame Street  ...   \n",
       "2089  Hazard Trees Assessed  1000002095  1000001 seame Street  ...   \n",
       "2090  Hazard Trees Assessed  1000002096  1000002 seame Street  ...   \n",
       "2091                    NaN  1000002097  1000003 seame Street  ...   \n",
       "\n",
       "     County Notified Haz Tree Only Approved for Special Inclusion Sync Status  \\\n",
       "0                              NaN                            NaN         NaN   \n",
       "1                              NaN                            NaN         NaN   \n",
       "2                              NaN                            NaN         NaN   \n",
       "3                              NaN                            NaN         NaN   \n",
       "4                              NaN                            NaN         NaN   \n",
       "...                            ...                            ...         ...   \n",
       "2087                           NaN                            NaN         NaN   \n",
       "2088                           NaN                            NaN         NaN   \n",
       "2089                           NaN                            NaN         NaN   \n",
       "2090                           NaN                            NaN         NaN   \n",
       "2091                           NaN                            NaN         NaN   \n",
       "\n",
       "     Tree Eligibility  Tree Felling Complete Tree Removal Complete  \\\n",
       "0                  NaN                   NaT                   NaT   \n",
       "1                  NaN                   NaT                   NaT   \n",
       "2                  NaN                   NaT                   NaT   \n",
       "3                  NaN                   NaT                   NaT   \n",
       "4                  NaN                   NaT                   NaT   \n",
       "...                ...                   ...                   ...   \n",
       "2087               NaN                   NaT                   NaT   \n",
       "2088               NaN                   NaT                   NaT   \n",
       "2089               NaN                   NaT                   NaT   \n",
       "2090               NaN                   NaT                   NaT   \n",
       "2091               NaN                   NaT                   NaT   \n",
       "\n",
       "     Number of Trees Felled Trees Final Site Walk In Tree Tracker? duplicate  \n",
       "0                       NaN                   NaN              NaN       NaN  \n",
       "1                       NaN                   NaN              NaN       NaN  \n",
       "2                       NaN                   NaN              NaN       NaN  \n",
       "3                       NaN                   NaN              NaN       NaN  \n",
       "4                       NaN                   NaN              NaN       NaN  \n",
       "...                     ...                   ...              ...       ...  \n",
       "2087                    NaN                   NaN              NaN       NaN  \n",
       "2088                    NaN                   NaN              NaN       NaN  \n",
       "2089                    NaN                   NaN              NaN       NaN  \n",
       "2090                    NaN                   NaN              NaN       NaN  \n",
       "2091                    NaN                   NaN              NaN       NaN  \n",
       "\n",
       "[2092 rows x 92 columns]"
      ]
     },
     "execution_count": 4,
     "metadata": {},
     "output_type": "execute_result"
    }
   ],
   "source": [
    "df"
   ]
  },
  {
   "cell_type": "code",
   "execution_count": 5,
   "id": "bba4c412",
   "metadata": {},
   "outputs": [],
   "source": [
    "df.loc[:, ['Number of Vehicles', 'Number of Vehicles Removed']] = df.loc[:, ['Number of Vehicles', 'Number of Vehicles Removed']].fillna(0)"
   ]
  },
  {
   "cell_type": "code",
   "execution_count": 6,
   "id": "8a0f902c",
   "metadata": {},
   "outputs": [
    {
     "data": {
      "text/plain": [
       "dtype('float64')"
      ]
     },
     "execution_count": 6,
     "metadata": {},
     "output_type": "execute_result"
    }
   ],
   "source": [
    "df['Number of Vehicles'].dtypes"
   ]
  },
  {
   "cell_type": "code",
   "execution_count": 7,
   "id": "caad86b3",
   "metadata": {},
   "outputs": [
    {
     "data": {
      "text/plain": [
       "dtype('O')"
      ]
     },
     "execution_count": 7,
     "metadata": {},
     "output_type": "execute_result"
    }
   ],
   "source": [
    "df['Number of Vehicles Removed'].dtypes"
   ]
  },
  {
   "cell_type": "markdown",
   "id": "b5093910",
   "metadata": {},
   "source": [
    "covert Number of vehicles object to a int or float category"
   ]
  },
  {
   "cell_type": "code",
   "execution_count": 8,
   "id": "b167dbfa",
   "metadata": {},
   "outputs": [],
   "source": [
    "df['Number of Vehicles Removed'] = pd.to_numeric(df['Number of Vehicles Removed'], errors='coerce')"
   ]
  },
  {
   "cell_type": "code",
   "execution_count": 9,
   "id": "a76c045f",
   "metadata": {},
   "outputs": [
    {
     "data": {
      "text/plain": [
       "dtype('float64')"
      ]
     },
     "execution_count": 9,
     "metadata": {},
     "output_type": "execute_result"
    }
   ],
   "source": [
    "df['Number of Vehicles Removed'].dtype"
   ]
  },
  {
   "cell_type": "markdown",
   "id": "41a1d300",
   "metadata": {},
   "source": [
    "Create a new column with vehicles left over"
   ]
  },
  {
   "cell_type": "code",
   "execution_count": 10,
   "id": "f6bf6ec1",
   "metadata": {},
   "outputs": [],
   "source": [
    "df.loc[:, 'Vehicle Left'] =  df.loc[:, 'Number of Vehicles'] - df.loc[:, 'Number of Vehicles Removed']"
   ]
  },
  {
   "cell_type": "code",
   "execution_count": 11,
   "id": "66809937",
   "metadata": {},
   "outputs": [
    {
     "data": {
      "text/html": [
       "<div>\n",
       "<style scoped>\n",
       "    .dataframe tbody tr th:only-of-type {\n",
       "        vertical-align: middle;\n",
       "    }\n",
       "\n",
       "    .dataframe tbody tr th {\n",
       "        vertical-align: top;\n",
       "    }\n",
       "\n",
       "    .dataframe thead th {\n",
       "        text-align: right;\n",
       "    }\n",
       "</style>\n",
       "<table border=\"1\" class=\"dataframe\">\n",
       "  <thead>\n",
       "    <tr style=\"text-align: right;\">\n",
       "      <th></th>\n",
       "      <th>Number of Vehicles</th>\n",
       "      <th>Number of Vehicles Removed</th>\n",
       "      <th>Vehicle Left</th>\n",
       "    </tr>\n",
       "    <tr>\n",
       "      <th>County</th>\n",
       "      <th></th>\n",
       "      <th></th>\n",
       "      <th></th>\n",
       "    </tr>\n",
       "  </thead>\n",
       "  <tbody>\n",
       "    <tr>\n",
       "      <th>Beetle Juice</th>\n",
       "      <td>1475.0</td>\n",
       "      <td>730.0</td>\n",
       "      <td>745.0</td>\n",
       "    </tr>\n",
       "    <tr>\n",
       "      <th>LionKing</th>\n",
       "      <td>1587.0</td>\n",
       "      <td>897.0</td>\n",
       "      <td>688.0</td>\n",
       "    </tr>\n",
       "    <tr>\n",
       "      <th>Mario Land</th>\n",
       "      <td>1279.0</td>\n",
       "      <td>638.0</td>\n",
       "      <td>633.0</td>\n",
       "    </tr>\n",
       "    <tr>\n",
       "      <th>Zelda</th>\n",
       "      <td>1595.0</td>\n",
       "      <td>908.0</td>\n",
       "      <td>685.0</td>\n",
       "    </tr>\n",
       "  </tbody>\n",
       "</table>\n",
       "</div>"
      ],
      "text/plain": [
       "              Number of Vehicles  Number of Vehicles Removed  Vehicle Left\n",
       "County                                                                    \n",
       "Beetle Juice              1475.0                       730.0         745.0\n",
       "LionKing                  1587.0                       897.0         688.0\n",
       "Mario Land                1279.0                       638.0         633.0\n",
       "Zelda                     1595.0                       908.0         685.0"
      ]
     },
     "execution_count": 11,
     "metadata": {},
     "output_type": "execute_result"
    }
   ],
   "source": [
    "dfVecfilt = df[['Number of Vehicles','Number of Vehicles Removed', 'County','Vehicle Left']].groupby('County').sum()\n",
    "dfVecfilt"
   ]
  },
  {
   "cell_type": "code",
   "execution_count": 12,
   "id": "03873dcb",
   "metadata": {
    "scrolled": false
   },
   "outputs": [
    {
     "data": {
      "text/plain": [
       "<AxesSubplot:xlabel='County'>"
      ]
     },
     "execution_count": 12,
     "metadata": {},
     "output_type": "execute_result"
    },
    {
     "data": {
      "image/png": "[encoded data removed]",
      "text/plain": [
       "<Figure size 1800x720 with 1 Axes>"
      ]
     },
     "metadata": {
      "needs_background": "light"
     },
     "output_type": "display_data"
    }
   ],
   "source": [
    "dfVecfilt.plot(kind='bar', figsize=(25,10))"
   ]
  },
  {
   "cell_type": "markdown",
   "id": "30dc3e67",
   "metadata": {},
   "source": [
    "# Make graph above with total for each bar placed on top"
   ]
  },
  {
   "cell_type": "code",
   "execution_count": 13,
   "id": "68d6b8f8",
   "metadata": {},
   "outputs": [],
   "source": [
    "df_value2 = dfVecfilt.loc[:, 'Number of Vehicles']\n",
    "df_value3 = dfVecfilt.loc[:, 'Number of Vehicles Removed']\n",
    "df_value4 = dfVecfilt.loc[:, 'Vehicle Left']"
   ]
  },
  {
   "cell_type": "code",
   "execution_count": 16,
   "id": "2e4bb507",
   "metadata": {
    "scrolled": false
   },
   "outputs": [
    {
     "data": {
      "image/png": "[encoded data removed]",
      "text/plain": [
       "<Figure size 1440x360 with 1 Axes>"
      ]
     },
     "metadata": {
      "needs_background": "light"
     },
     "output_type": "display_data"
    }
   ],
   "source": [
    "dfVecfilt.plot(kind='bar',  figsize=(20,5))\n",
    "\n",
    "for i in range(len(df_index)):\n",
    "    plt.text(i, df_value2[i], df_value2[i], ha='right', va='bottom')\n",
    "    plt.text(i, df_value3[i], df_value3[i], ha='center', va='bottom')\n",
    "    plt.text(i, df_value4[i], df_value4[i], ha='left', va='bottom')\n",
    "plt.xticks(rotation=30)\n",
    "plt.title(\"Northen Branch Fire Vehicle Summary\")\n",
    "plt.ylabel(\"Counts\")\n",
    "plt.grid(color='gray', linestyle='--', axis='y')\n",
    "# plt.tight_layout()\n",
    "plt.show()"
   ]
  },
  {
   "cell_type": "code",
   "execution_count": null,
   "id": "a4a0b2b5",
   "metadata": {},
   "outputs": [],
   "source": []
  }
 ],
 "metadata": {
  "kernelspec": {
   "display_name": "Python 3",
   "language": "python",
   "name": "python3"
  },
  "language_info": {
   "codemirror_mode": {
    "name": "ipython",
    "version": 3
   },
   "file_extension": ".py",
   "mimetype": "text/x-python",
   "name": "python",
   "nbconvert_exporter": "python",
   "pygments_lexer": "ipython3",
   "version": "3.8.8"
  }
 },
 "nbformat": 4,
 "nbformat_minor": 5
}
